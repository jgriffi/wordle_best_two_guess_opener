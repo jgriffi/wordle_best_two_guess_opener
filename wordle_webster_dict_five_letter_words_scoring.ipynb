{
 "cells": [
  {
   "cell_type": "code",
   "execution_count": 1,
   "id": "5c601994",
   "metadata": {
    "ExecuteTime": {
     "end_time": "2022-03-18T15:16:31.083085Z",
     "start_time": "2022-03-18T15:16:29.482498Z"
    }
   },
   "outputs": [],
   "source": [
    "import os\n",
    "from spellchecker import SpellChecker\n",
    "import random\n",
    "import numpy as np\n",
    "import itertools\n",
    "import pandas as pd\n",
    "from collections import Counter\n",
    "from tqdm import tqdm\n",
    "import re\n",
    "from wordle_helpers import sorted_words_by_frequency, wordle_scoring\n",
    "\n",
    "# where to save the data\n",
    "ROOT_DIR = \".\"\n",
    "FOLDER_NAME = \"data\"\n",
    "PATH_TO_FOLDER = os.path.join(ROOT_DIR, FOLDER_NAME)\n",
    "os.makedirs(PATH_TO_FOLDER, exist_ok=True)"
   ]
  },
  {
   "cell_type": "markdown",
   "id": "fb867ba9",
   "metadata": {},
   "source": [
    "# challenge words"
   ]
  },
  {
   "cell_type": "code",
   "execution_count": 2,
   "id": "a19173dc",
   "metadata": {
    "ExecuteTime": {
     "end_time": "2022-03-18T15:16:31.090255Z",
     "start_time": "2022-03-18T15:16:31.085202Z"
    }
   },
   "outputs": [],
   "source": [
    "with open(\"./data/webster_dict_all_five_letter_words.txt\", mode=\"r\") as file:\n",
    "    challenge_words = file.read().splitlines()"
   ]
  },
  {
   "cell_type": "code",
   "execution_count": 3,
   "id": "ccc5143d",
   "metadata": {
    "ExecuteTime": {
     "end_time": "2022-03-18T15:16:31.103624Z",
     "start_time": "2022-03-18T15:16:31.093414Z"
    }
   },
   "outputs": [
    {
     "data": {
      "text/plain": [
       "5568"
      ]
     },
     "execution_count": 3,
     "metadata": {},
     "output_type": "execute_result"
    }
   ],
   "source": [
    "len(challenge_words)"
   ]
  },
  {
   "cell_type": "code",
   "execution_count": 4,
   "id": "6c0db03d",
   "metadata": {
    "ExecuteTime": {
     "end_time": "2022-03-18T15:16:31.110399Z",
     "start_time": "2022-03-18T15:16:31.105978Z"
    }
   },
   "outputs": [
    {
     "data": {
      "text/plain": [
       "['water', 'gnarl', 'arles', 'villa', 'stagy']"
      ]
     },
     "execution_count": 4,
     "metadata": {},
     "output_type": "execute_result"
    }
   ],
   "source": [
    "challenge_words[:5]"
   ]
  },
  {
   "cell_type": "code",
   "execution_count": 5,
   "id": "ba2b2ae7",
   "metadata": {
    "ExecuteTime": {
     "end_time": "2022-03-18T15:16:31.117245Z",
     "start_time": "2022-03-18T15:16:31.112510Z"
    }
   },
   "outputs": [
    {
     "data": {
      "text/plain": [
       "5568"
      ]
     },
     "execution_count": 5,
     "metadata": {},
     "output_type": "execute_result"
    }
   ],
   "source": [
    "len(challenge_words)"
   ]
  },
  {
   "cell_type": "markdown",
   "id": "6312de5d",
   "metadata": {
    "ExecuteTime": {
     "end_time": "2022-02-16T10:17:23.080727Z",
     "start_time": "2022-02-16T10:17:23.076692Z"
    }
   },
   "source": [
    "## Choose the 100 most frequently used 5-letter words as guess words  \n",
    "\n",
    "We only have a few dozen 5 letter word at our finger tips before reaching for a thesaurus or dictionary, so it makes sense to reduce our search space to reflect this. Doing this also minimizing the computational expense of a brute force search.\n"
   ]
  },
  {
   "cell_type": "code",
   "execution_count": 6,
   "id": "b46b886e",
   "metadata": {
    "ExecuteTime": {
     "end_time": "2022-03-18T15:16:31.123359Z",
     "start_time": "2022-03-18T15:16:31.119292Z"
    }
   },
   "outputs": [],
   "source": [
    "with open(\"./data/webster_common_starting_letters_final_words.txt\", mode=\"r\") as file:\n",
    "    guess_words_list = file.read().splitlines()"
   ]
  },
  {
   "cell_type": "code",
   "execution_count": 7,
   "id": "7ef61199",
   "metadata": {
    "ExecuteTime": {
     "end_time": "2022-03-18T15:16:31.129185Z",
     "start_time": "2022-03-18T15:16:31.125300Z"
    }
   },
   "outputs": [
    {
     "data": {
      "text/plain": [
       "1873"
      ]
     },
     "execution_count": 7,
     "metadata": {},
     "output_type": "execute_result"
    }
   ],
   "source": [
    "len(guess_words_list)"
   ]
  },
  {
   "cell_type": "code",
   "execution_count": 8,
   "id": "fffcbcf8",
   "metadata": {
    "ExecuteTime": {
     "end_time": "2022-03-18T15:16:31.256243Z",
     "start_time": "2022-03-18T15:16:31.130687Z"
    }
   },
   "outputs": [],
   "source": [
    "random.seed(67)\n",
    "guess_words_top_100 = [x[0] for x in sorted_words_by_frequency(guess_words_list, sorting=True)][:100]"
   ]
  },
  {
   "cell_type": "code",
   "execution_count": 9,
   "id": "211aa6a8",
   "metadata": {
    "ExecuteTime": {
     "end_time": "2022-03-18T15:16:31.264672Z",
     "start_time": "2022-03-18T15:16:31.260520Z"
    }
   },
   "outputs": [
    {
     "data": {
      "text/plain": [
       "['about',\n",
       " 'would',\n",
       " 'could',\n",
       " 'their',\n",
       " 'maybe',\n",
       " 'after',\n",
       " 'those',\n",
       " 'other',\n",
       " 'first',\n",
       " 'thing']"
      ]
     },
     "execution_count": 9,
     "metadata": {},
     "output_type": "execute_result"
    }
   ],
   "source": [
    "guess_words_top_100[:10]"
   ]
  },
  {
   "cell_type": "markdown",
   "id": "1bd2ce43",
   "metadata": {},
   "source": [
    "# create a guess word pairs list from from words with similar letters and score them against each other"
   ]
  },
  {
   "cell_type": "code",
   "execution_count": 10,
   "id": "d8bacbf5",
   "metadata": {
    "ExecuteTime": {
     "end_time": "2022-03-18T15:16:31.269592Z",
     "start_time": "2022-03-18T15:16:31.266538Z"
    }
   },
   "outputs": [],
   "source": [
    "random.seed(97)\n",
    "combo_word_pairs = [combo for combo in itertools.combinations(guess_words_top_100, 2)]"
   ]
  },
  {
   "cell_type": "code",
   "execution_count": 11,
   "id": "ccd5cb90",
   "metadata": {
    "ExecuteTime": {
     "end_time": "2022-03-18T15:16:31.274816Z",
     "start_time": "2022-03-18T15:16:31.271863Z"
    }
   },
   "outputs": [
    {
     "name": "stdout",
     "output_type": "stream",
     "text": [
      "Possible combinations: 4950\n"
     ]
    }
   ],
   "source": [
    "print(f\"Possible combinations: {len(combo_word_pairs)}\")"
   ]
  },
  {
   "cell_type": "markdown",
   "id": "c6f74aa5",
   "metadata": {
    "ExecuteTime": {
     "end_time": "2022-02-14T14:06:06.204207Z",
     "start_time": "2022-02-14T14:06:04.512805Z"
    }
   },
   "source": [
    "## create guess pairs  \n",
    "\n",
    "Let's create a pair of words where there are no repeat letters across the words. Each guess word will contain letters unique to those in its pair."
   ]
  },
  {
   "cell_type": "code",
   "execution_count": 12,
   "id": "a8c31c56",
   "metadata": {
    "ExecuteTime": {
     "end_time": "2022-03-18T15:16:31.282722Z",
     "start_time": "2022-03-18T15:16:31.277071Z"
    }
   },
   "outputs": [],
   "source": [
    "guess_word_pairs = [combo for combo in combo_word_pairs if len(set(\"\".join(combo))) == 10]"
   ]
  },
  {
   "cell_type": "code",
   "execution_count": 13,
   "id": "07ad6f18",
   "metadata": {
    "ExecuteTime": {
     "end_time": "2022-03-18T15:16:31.287661Z",
     "start_time": "2022-03-18T15:16:31.284498Z"
    }
   },
   "outputs": [
    {
     "data": {
      "text/plain": [
       "531"
      ]
     },
     "execution_count": 13,
     "metadata": {},
     "output_type": "execute_result"
    }
   ],
   "source": [
    "len(guess_word_pairs)"
   ]
  },
  {
   "cell_type": "code",
   "execution_count": 14,
   "id": "d86cbcf8",
   "metadata": {
    "ExecuteTime": {
     "end_time": "2022-03-18T15:16:31.292953Z",
     "start_time": "2022-03-18T15:16:31.289812Z"
    }
   },
   "outputs": [
    {
     "data": {
      "text/plain": [
       "[('about', 'since'),\n",
       " ('about', 'while'),\n",
       " ('about', 'spend'),\n",
       " ('about', 'child'),\n",
       " ('about', 'weird')]"
      ]
     },
     "execution_count": 14,
     "metadata": {},
     "output_type": "execute_result"
    }
   ],
   "source": [
    "guess_word_pairs[:5]"
   ]
  },
  {
   "cell_type": "markdown",
   "id": "4c4c6a43",
   "metadata": {},
   "source": [
    "## score challenge word against guess word based on position"
   ]
  },
  {
   "cell_type": "markdown",
   "id": "eaa5ae9c",
   "metadata": {
    "ExecuteTime": {
     "end_time": "2022-02-12T21:32:46.946510Z",
     "start_time": "2022-02-12T21:32:46.941744Z"
    }
   },
   "source": [
    "**scoring:**\n",
    "- 0 if letter from guess word in challenge word but in wrong position\n",
    "- 1 if letter from guess word in challenge word and in correct position\n",
    "- -1 if letter from guess word not in challenge word  "
   ]
  },
  {
   "cell_type": "code",
   "execution_count": 15,
   "id": "f6ae6eba",
   "metadata": {
    "ExecuteTime": {
     "end_time": "2022-03-18T15:23:57.598646Z",
     "start_time": "2022-03-18T15:16:31.294358Z"
    }
   },
   "outputs": [
    {
     "name": "stderr",
     "output_type": "stream",
     "text": [
      "100%|███████████████████████████████████████████████████████████████████████████| 5568/5568 [12:18<00:00,  7.53it/s]\n"
     ]
    }
   ],
   "source": [
    "scoring = wordle_scoring(guess_word_pairs, challenge_words)"
   ]
  },
  {
   "cell_type": "code",
   "execution_count": 16,
   "id": "e2eda5c3",
   "metadata": {
    "ExecuteTime": {
     "end_time": "2022-03-18T15:23:57.611750Z",
     "start_time": "2022-03-18T15:23:57.601290Z"
    }
   },
   "outputs": [
    {
     "name": "stdout",
     "output_type": "stream",
     "text": [
      "<class 'pandas.core.frame.DataFrame'>\n",
      "RangeIndex: 2956608 entries, 0 to 2956607\n",
      "Data columns (total 10 columns):\n",
      " #   Column                        Dtype \n",
      "---  ------                        ----- \n",
      " 0   challenge_word                string\n",
      " 1   guess_pair                    string\n",
      " 2   first_guess                   string\n",
      " 3   second_guess                  string\n",
      " 4   first_pos_score               string\n",
      " 5   second_pos_score              string\n",
      " 6   sum_first_pos_score           int8  \n",
      " 7   sum_second_pos_score          int8  \n",
      " 8   correct_letter_pos_score      string\n",
      " 9   sum_correct_letter_pos_score  int8  \n",
      "dtypes: int8(3), string(7)\n",
      "memory usage: 279.8 MB\n"
     ]
    }
   ],
   "source": [
    "scoring.info()"
   ]
  },
  {
   "cell_type": "code",
   "execution_count": 17,
   "id": "d5649acc",
   "metadata": {
    "ExecuteTime": {
     "end_time": "2022-03-18T15:24:40.428914Z",
     "start_time": "2022-03-18T15:23:57.613592Z"
    }
   },
   "outputs": [],
   "source": [
    "scoring.to_csv(\"./data/top_100_freq_used_5_letter_words_vs_webster_dict_all_five_letter_words.csv.gz\",\n",
    "               index=False,\n",
    "               compression=\"gzip\")"
   ]
  },
  {
   "cell_type": "code",
   "execution_count": null,
   "id": "91ce751e",
   "metadata": {},
   "outputs": [],
   "source": []
  }
 ],
 "metadata": {
  "kernelspec": {
   "display_name": "wordle",
   "language": "python",
   "name": "wordle"
  },
  "language_info": {
   "codemirror_mode": {
    "name": "ipython",
    "version": 3
   },
   "file_extension": ".py",
   "mimetype": "text/x-python",
   "name": "python",
   "nbconvert_exporter": "python",
   "pygments_lexer": "ipython3",
   "version": "3.8.13"
  },
  "toc": {
   "base_numbering": 1,
   "nav_menu": {},
   "number_sections": true,
   "sideBar": true,
   "skip_h1_title": false,
   "title_cell": "Table of Contents",
   "title_sidebar": "Contents",
   "toc_cell": false,
   "toc_position": {},
   "toc_section_display": true,
   "toc_window_display": false
  },
  "varInspector": {
   "cols": {
    "lenName": 16,
    "lenType": 16,
    "lenVar": 40
   },
   "kernels_config": {
    "python": {
     "delete_cmd_postfix": "",
     "delete_cmd_prefix": "del ",
     "library": "var_list.py",
     "varRefreshCmd": "print(var_dic_list())"
    },
    "r": {
     "delete_cmd_postfix": ") ",
     "delete_cmd_prefix": "rm(",
     "library": "var_list.r",
     "varRefreshCmd": "cat(var_dic_list()) "
    }
   },
   "types_to_exclude": [
    "module",
    "function",
    "builtin_function_or_method",
    "instance",
    "_Feature"
   ],
   "window_display": false
  }
 },
 "nbformat": 4,
 "nbformat_minor": 5
}
