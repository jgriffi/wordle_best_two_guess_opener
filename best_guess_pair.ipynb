{
 "cells": [
  {
   "cell_type": "code",
   "execution_count": 1,
   "id": "a01d26c0",
   "metadata": {
    "ExecuteTime": {
     "end_time": "2022-03-22T13:50:09.599479Z",
     "start_time": "2022-03-22T13:50:07.971151Z"
    }
   },
   "outputs": [],
   "source": [
    "import pandas as pd\n",
    "import numpy as np\n",
    "import sys\n",
    "import os\n",
    "import random\n",
    "from tqdm import tqdm\n",
    "import re\n",
    "import itertools\n",
    "from wordle_helpers import wordle_scoring"
   ]
  },
  {
   "cell_type": "code",
   "execution_count": 2,
   "id": "4260b4ce",
   "metadata": {
    "ExecuteTime": {
     "end_time": "2022-03-22T13:50:16.110606Z",
     "start_time": "2022-03-22T13:50:09.601877Z"
    }
   },
   "outputs": [],
   "source": [
    "scoring = \\\n",
    "    pd.read_csv(\"./data/top_100_freq_used_5_letter_words_vs_webster_dict_all_five_letter_words.csv.gz\",\n",
    "                dtype = {\n",
    "                    \"challenge_word\": \"string[pyarrow]\",\n",
    "                    \"guess_pair\": \"string[pyarrow]\",\n",
    "                    \"first_guess\": \"string[pyarrow]\",\n",
    "                    \"second_guess\": \"string[pyarrow]\",\n",
    "                    \"first_pos_score\": \"string[pyarrow]\",\n",
    "                    \"second_pos_score\": \"string[pyarrow]\",\n",
    "                    \"sum_first_pos_score\": np.int8,\n",
    "                    \"sum_second_pos_score\": np.int8,\n",
    "                    \"correct_letter_pos_score\": \"string[pyarrow]\",\n",
    "                    \"sum_correct_letter_pos_score\": np.int8,\n",
    "                },\n",
    "                compression=\"gzip\")"
   ]
  },
  {
   "cell_type": "code",
   "execution_count": 3,
   "id": "477ab167",
   "metadata": {
    "ExecuteTime": {
     "end_time": "2022-03-22T13:50:16.134928Z",
     "start_time": "2022-03-22T13:50:16.112406Z"
    },
    "scrolled": false
   },
   "outputs": [
    {
     "data": {
      "text/html": [
       "<div>\n",
       "<style scoped>\n",
       "    .dataframe tbody tr th:only-of-type {\n",
       "        vertical-align: middle;\n",
       "    }\n",
       "\n",
       "    .dataframe tbody tr th {\n",
       "        vertical-align: top;\n",
       "    }\n",
       "\n",
       "    .dataframe thead th {\n",
       "        text-align: right;\n",
       "    }\n",
       "</style>\n",
       "<table border=\"1\" class=\"dataframe\">\n",
       "  <thead>\n",
       "    <tr style=\"text-align: right;\">\n",
       "      <th></th>\n",
       "      <th>challenge_word</th>\n",
       "      <th>guess_pair</th>\n",
       "      <th>first_guess</th>\n",
       "      <th>second_guess</th>\n",
       "      <th>first_pos_score</th>\n",
       "      <th>second_pos_score</th>\n",
       "      <th>sum_first_pos_score</th>\n",
       "      <th>sum_second_pos_score</th>\n",
       "      <th>correct_letter_pos_score</th>\n",
       "      <th>sum_correct_letter_pos_score</th>\n",
       "    </tr>\n",
       "  </thead>\n",
       "  <tbody>\n",
       "    <tr>\n",
       "      <th>0</th>\n",
       "      <td>zebra</td>\n",
       "      <td>tried, along</td>\n",
       "      <td>tried</td>\n",
       "      <td>along</td>\n",
       "      <td>-1  0 -1  0 -1</td>\n",
       "      <td>0 -1 -1 -1 -1</td>\n",
       "      <td>-3</td>\n",
       "      <td>-4</td>\n",
       "      <td>0  0 -1  0 -1</td>\n",
       "      <td>-2</td>\n",
       "    </tr>\n",
       "    <tr>\n",
       "      <th>1</th>\n",
       "      <td>zebra</td>\n",
       "      <td>thank, comes</td>\n",
       "      <td>thank</td>\n",
       "      <td>comes</td>\n",
       "      <td>-1 -1  0 -1 -1</td>\n",
       "      <td>-1 -1 -1  0 -1</td>\n",
       "      <td>-4</td>\n",
       "      <td>-4</td>\n",
       "      <td>-1 -1  0  0 -1</td>\n",
       "      <td>-3</td>\n",
       "    </tr>\n",
       "    <tr>\n",
       "      <th>2</th>\n",
       "      <td>zebra</td>\n",
       "      <td>wrong, field</td>\n",
       "      <td>wrong</td>\n",
       "      <td>field</td>\n",
       "      <td>-1  0 -1 -1 -1</td>\n",
       "      <td>-1 -1  0 -1 -1</td>\n",
       "      <td>-4</td>\n",
       "      <td>-4</td>\n",
       "      <td>-1  0  0 -1 -1</td>\n",
       "      <td>-3</td>\n",
       "    </tr>\n",
       "    <tr>\n",
       "      <th>3</th>\n",
       "      <td>zebra</td>\n",
       "      <td>front, music</td>\n",
       "      <td>front</td>\n",
       "      <td>music</td>\n",
       "      <td>-1  0 -1 -1 -1</td>\n",
       "      <td>-1 -1 -1 -1 -1</td>\n",
       "      <td>-4</td>\n",
       "      <td>-5</td>\n",
       "      <td>-1  0 -1 -1 -1</td>\n",
       "      <td>-4</td>\n",
       "    </tr>\n",
       "    <tr>\n",
       "      <th>4</th>\n",
       "      <td>zebra</td>\n",
       "      <td>place, wrong</td>\n",
       "      <td>place</td>\n",
       "      <td>wrong</td>\n",
       "      <td>-1 -1  0 -1  0</td>\n",
       "      <td>-1  0 -1 -1 -1</td>\n",
       "      <td>-3</td>\n",
       "      <td>-4</td>\n",
       "      <td>-1  0  0 -1  0</td>\n",
       "      <td>-2</td>\n",
       "    </tr>\n",
       "  </tbody>\n",
       "</table>\n",
       "</div>"
      ],
      "text/plain": [
       "  challenge_word    guess_pair first_guess second_guess first_pos_score  \\\n",
       "0          zebra  tried, along       tried        along  -1  0 -1  0 -1   \n",
       "1          zebra  thank, comes       thank        comes  -1 -1  0 -1 -1   \n",
       "2          zebra  wrong, field       wrong        field  -1  0 -1 -1 -1   \n",
       "3          zebra  front, music       front        music  -1  0 -1 -1 -1   \n",
       "4          zebra  place, wrong       place        wrong  -1 -1  0 -1  0   \n",
       "\n",
       "  second_pos_score  sum_first_pos_score  sum_second_pos_score  \\\n",
       "0    0 -1 -1 -1 -1                   -3                    -4   \n",
       "1   -1 -1 -1  0 -1                   -4                    -4   \n",
       "2   -1 -1  0 -1 -1                   -4                    -4   \n",
       "3   -1 -1 -1 -1 -1                   -4                    -5   \n",
       "4   -1  0 -1 -1 -1                   -3                    -4   \n",
       "\n",
       "  correct_letter_pos_score  sum_correct_letter_pos_score  \n",
       "0            0  0 -1  0 -1                            -2  \n",
       "1           -1 -1  0  0 -1                            -3  \n",
       "2           -1  0  0 -1 -1                            -3  \n",
       "3           -1  0 -1 -1 -1                            -4  \n",
       "4           -1  0  0 -1  0                            -2  "
      ]
     },
     "execution_count": 3,
     "metadata": {},
     "output_type": "execute_result"
    }
   ],
   "source": [
    "scoring.head(5)"
   ]
  },
  {
   "cell_type": "code",
   "execution_count": 4,
   "id": "a5231a99",
   "metadata": {
    "ExecuteTime": {
     "end_time": "2022-03-22T13:50:16.152374Z",
     "start_time": "2022-03-22T13:50:16.137182Z"
    }
   },
   "outputs": [
    {
     "name": "stdout",
     "output_type": "stream",
     "text": [
      "<class 'pandas.core.frame.DataFrame'>\n",
      "RangeIndex: 2785079 entries, 0 to 2785078\n",
      "Data columns (total 10 columns):\n",
      " #   Column                        Dtype \n",
      "---  ------                        ----- \n",
      " 0   challenge_word                string\n",
      " 1   guess_pair                    string\n",
      " 2   first_guess                   string\n",
      " 3   second_guess                  string\n",
      " 4   first_pos_score               string\n",
      " 5   second_pos_score              string\n",
      " 6   sum_first_pos_score           int8  \n",
      " 7   sum_second_pos_score          int8  \n",
      " 8   correct_letter_pos_score      string\n",
      " 9   sum_correct_letter_pos_score  int8  \n",
      "dtypes: int8(3), string(7)\n",
      "memory usage: 263.6 MB\n"
     ]
    }
   ],
   "source": [
    "scoring.info(memory_usage=\"deep\")"
   ]
  },
  {
   "cell_type": "markdown",
   "id": "9beb13f6",
   "metadata": {},
   "source": [
    "# best word pair"
   ]
  },
  {
   "cell_type": "markdown",
   "id": "0d46e98c",
   "metadata": {},
   "source": [
    "**The best `word pair` is the one that has the `highest score`**"
   ]
  },
  {
   "cell_type": "code",
   "execution_count": 5,
   "id": "886c0f2a",
   "metadata": {
    "ExecuteTime": {
     "end_time": "2022-03-22T13:50:16.298591Z",
     "start_time": "2022-03-22T13:50:16.153451Z"
    }
   },
   "outputs": [
    {
     "data": {
      "text/html": [
       "<div>\n",
       "<style scoped>\n",
       "    .dataframe tbody tr th:only-of-type {\n",
       "        vertical-align: middle;\n",
       "    }\n",
       "\n",
       "    .dataframe tbody tr th {\n",
       "        vertical-align: top;\n",
       "    }\n",
       "\n",
       "    .dataframe thead th {\n",
       "        text-align: right;\n",
       "    }\n",
       "</style>\n",
       "<table border=\"1\" class=\"dataframe\">\n",
       "  <thead>\n",
       "    <tr style=\"text-align: right;\">\n",
       "      <th></th>\n",
       "      <th>overall_sum_correct_letter_pos_score</th>\n",
       "    </tr>\n",
       "    <tr>\n",
       "      <th>guess_pair</th>\n",
       "      <th></th>\n",
       "    </tr>\n",
       "  </thead>\n",
       "  <tbody>\n",
       "    <tr>\n",
       "      <th>close, train</th>\n",
       "      <td>-7427.0</td>\n",
       "    </tr>\n",
       "    <tr>\n",
       "      <th>story, plane</th>\n",
       "      <td>-7584.0</td>\n",
       "    </tr>\n",
       "    <tr>\n",
       "      <th>point, share</th>\n",
       "      <td>-7647.0</td>\n",
       "    </tr>\n",
       "    <tr>\n",
       "      <th>since, party</th>\n",
       "      <td>-7791.0</td>\n",
       "    </tr>\n",
       "    <tr>\n",
       "      <th>point, scare</th>\n",
       "      <td>-7802.0</td>\n",
       "    </tr>\n",
       "    <tr>\n",
       "      <th>share, count</th>\n",
       "      <td>-7819.0</td>\n",
       "    </tr>\n",
       "    <tr>\n",
       "      <th>short, plane</th>\n",
       "      <td>-7938.0</td>\n",
       "    </tr>\n",
       "    <tr>\n",
       "      <th>count, spare</th>\n",
       "      <td>-8024.0</td>\n",
       "    </tr>\n",
       "    <tr>\n",
       "      <th>place, story</th>\n",
       "      <td>-8071.0</td>\n",
       "    </tr>\n",
       "    <tr>\n",
       "      <th>train, chose</th>\n",
       "      <td>-8148.0</td>\n",
       "    </tr>\n",
       "  </tbody>\n",
       "</table>\n",
       "</div>"
      ],
      "text/plain": [
       "              overall_sum_correct_letter_pos_score\n",
       "guess_pair                                        \n",
       "close, train                               -7427.0\n",
       "story, plane                               -7584.0\n",
       "point, share                               -7647.0\n",
       "since, party                               -7791.0\n",
       "point, scare                               -7802.0\n",
       "share, count                               -7819.0\n",
       "short, plane                               -7938.0\n",
       "count, spare                               -8024.0\n",
       "place, story                               -8071.0\n",
       "train, chose                               -8148.0"
      ]
     },
     "execution_count": 5,
     "metadata": {},
     "output_type": "execute_result"
    }
   ],
   "source": [
    "guess_pair_sum_scores = (scoring\n",
    "                        .groupby(by=\"guess_pair\")[[\"sum_correct_letter_pos_score\"]].sum()\n",
    "                        .sort_values(by=\"sum_correct_letter_pos_score\", ascending=False))\n",
    "\n",
    "guess_pair_sum_scores.rename(columns={\n",
    "    \"sum_correct_letter_pos_score\": \"overall_sum_correct_letter_pos_score\"}, inplace=True)\n",
    "guess_pair_sum_scores[:10]"
   ]
  },
  {
   "cell_type": "code",
   "execution_count": 6,
   "id": "bcdfc07a",
   "metadata": {
    "ExecuteTime": {
     "end_time": "2022-03-22T13:50:16.307676Z",
     "start_time": "2022-03-22T13:50:16.302314Z"
    }
   },
   "outputs": [
    {
     "data": {
      "text/plain": [
       "'close, train'"
      ]
     },
     "execution_count": 6,
     "metadata": {},
     "output_type": "execute_result"
    }
   ],
   "source": [
    "best_guess_pair = guess_pair_sum_scores.idxmax()[0]\n",
    "best_guess_pair"
   ]
  },
  {
   "cell_type": "code",
   "execution_count": 7,
   "id": "4d24f392",
   "metadata": {
    "ExecuteTime": {
     "end_time": "2022-03-22T13:50:16.314379Z",
     "start_time": "2022-03-22T13:50:16.309381Z"
    }
   },
   "outputs": [
    {
     "data": {
      "text/plain": [
       "'might, found'"
      ]
     },
     "execution_count": 7,
     "metadata": {},
     "output_type": "execute_result"
    }
   ],
   "source": [
    "worst_guess_pair = guess_pair_sum_scores.idxmin()[0]\n",
    "worst_guess_pair"
   ]
  },
  {
   "cell_type": "code",
   "execution_count": 8,
   "id": "af1ab7b6",
   "metadata": {
    "ExecuteTime": {
     "end_time": "2022-03-22T13:50:16.407000Z",
     "start_time": "2022-03-22T13:50:16.316180Z"
    }
   },
   "outputs": [
    {
     "data": {
      "text/html": [
       "<div>\n",
       "<style scoped>\n",
       "    .dataframe tbody tr th:only-of-type {\n",
       "        vertical-align: middle;\n",
       "    }\n",
       "\n",
       "    .dataframe tbody tr th {\n",
       "        vertical-align: top;\n",
       "    }\n",
       "\n",
       "    .dataframe thead th {\n",
       "        text-align: right;\n",
       "    }\n",
       "</style>\n",
       "<table border=\"1\" class=\"dataframe\">\n",
       "  <thead>\n",
       "    <tr style=\"text-align: right;\">\n",
       "      <th></th>\n",
       "      <th>challenge_word</th>\n",
       "      <th>guess_pair</th>\n",
       "      <th>first_guess</th>\n",
       "      <th>second_guess</th>\n",
       "      <th>first_pos_score</th>\n",
       "      <th>second_pos_score</th>\n",
       "      <th>sum_first_pos_score</th>\n",
       "      <th>sum_second_pos_score</th>\n",
       "      <th>correct_letter_pos_score</th>\n",
       "      <th>sum_correct_letter_pos_score</th>\n",
       "    </tr>\n",
       "  </thead>\n",
       "  <tbody>\n",
       "    <tr>\n",
       "      <th>55</th>\n",
       "      <td>zebra</td>\n",
       "      <td>close, train</td>\n",
       "      <td>close</td>\n",
       "      <td>train</td>\n",
       "      <td>-1 -1 -1 -1  0</td>\n",
       "      <td>-1  0  0 -1 -1</td>\n",
       "      <td>-4</td>\n",
       "      <td>-3</td>\n",
       "      <td>-1  0  0 -1  0</td>\n",
       "      <td>-2</td>\n",
       "    </tr>\n",
       "    <tr>\n",
       "      <th>572</th>\n",
       "      <td>ficus</td>\n",
       "      <td>close, train</td>\n",
       "      <td>close</td>\n",
       "      <td>train</td>\n",
       "      <td>0 -1 -1  0 -1</td>\n",
       "      <td>-1 -1 -1  0 -1</td>\n",
       "      <td>-3</td>\n",
       "      <td>-4</td>\n",
       "      <td>0 -1 -1  0 -1</td>\n",
       "      <td>-3</td>\n",
       "    </tr>\n",
       "    <tr>\n",
       "      <th>1089</th>\n",
       "      <td>bourd</td>\n",
       "      <td>close, train</td>\n",
       "      <td>close</td>\n",
       "      <td>train</td>\n",
       "      <td>-1 -1  0 -1 -1</td>\n",
       "      <td>-1  0 -1 -1 -1</td>\n",
       "      <td>-4</td>\n",
       "      <td>-4</td>\n",
       "      <td>-1  0  0 -1 -1</td>\n",
       "      <td>-3</td>\n",
       "    </tr>\n",
       "    <tr>\n",
       "      <th>1606</th>\n",
       "      <td>sited</td>\n",
       "      <td>close, train</td>\n",
       "      <td>close</td>\n",
       "      <td>train</td>\n",
       "      <td>-1 -1 -1  0  0</td>\n",
       "      <td>0 -1 -1  0 -1</td>\n",
       "      <td>-3</td>\n",
       "      <td>-3</td>\n",
       "      <td>0 -1 -1  0  0</td>\n",
       "      <td>-2</td>\n",
       "    </tr>\n",
       "    <tr>\n",
       "      <th>2123</th>\n",
       "      <td>oxfly</td>\n",
       "      <td>close, train</td>\n",
       "      <td>close</td>\n",
       "      <td>train</td>\n",
       "      <td>-1  0  0 -1 -1</td>\n",
       "      <td>-1 -1 -1 -1 -1</td>\n",
       "      <td>-3</td>\n",
       "      <td>-5</td>\n",
       "      <td>-1  0  0 -1 -1</td>\n",
       "      <td>-3</td>\n",
       "    </tr>\n",
       "  </tbody>\n",
       "</table>\n",
       "</div>"
      ],
      "text/plain": [
       "     challenge_word    guess_pair first_guess second_guess first_pos_score  \\\n",
       "55            zebra  close, train       close        train  -1 -1 -1 -1  0   \n",
       "572           ficus  close, train       close        train   0 -1 -1  0 -1   \n",
       "1089          bourd  close, train       close        train  -1 -1  0 -1 -1   \n",
       "1606          sited  close, train       close        train  -1 -1 -1  0  0   \n",
       "2123          oxfly  close, train       close        train  -1  0  0 -1 -1   \n",
       "\n",
       "     second_pos_score  sum_first_pos_score  sum_second_pos_score  \\\n",
       "55     -1  0  0 -1 -1                   -4                    -3   \n",
       "572    -1 -1 -1  0 -1                   -3                    -4   \n",
       "1089   -1  0 -1 -1 -1                   -4                    -4   \n",
       "1606    0 -1 -1  0 -1                   -3                    -3   \n",
       "2123   -1 -1 -1 -1 -1                   -3                    -5   \n",
       "\n",
       "     correct_letter_pos_score  sum_correct_letter_pos_score  \n",
       "55             -1  0  0 -1  0                            -2  \n",
       "572             0 -1 -1  0 -1                            -3  \n",
       "1089           -1  0  0 -1 -1                            -3  \n",
       "1606            0 -1 -1  0  0                            -2  \n",
       "2123           -1  0  0 -1 -1                            -3  "
      ]
     },
     "execution_count": 8,
     "metadata": {},
     "output_type": "execute_result"
    }
   ],
   "source": [
    "best_guess_pair_df = \\\n",
    "    (scoring\n",
    "     .loc[scoring[\"guess_pair\"] == guess_pair_sum_scores.idxmax()[0]])\n",
    "best_guess_pair_df.head()"
   ]
  },
  {
   "cell_type": "markdown",
   "id": "f9bfc012",
   "metadata": {},
   "source": [
    "# conclusion  \n",
    "\n",
    "My best 2 word opener is `\"close, train\"`, which coincidentally are anagrams of the ones identified by [3blue1brown](https://www.youtube.com/watch?v=fRed0Xmc2Wg) - timestamp 10:52"
   ]
  },
  {
   "cell_type": "markdown",
   "id": "53bc3250",
   "metadata": {},
   "source": [
    "## anagrams  \n",
    "\n",
    "anagrams of `close, train`:  \n",
    "- `soare, clint`\n",
    "- `slane, troic` (slane - a spade for cutting turf, troic - pertaining to Troy)\n",
    "- `lanes, troic`\n",
    "- `salet, orcin` (salet - a combat helmet, orcin - a colorless substance obtained from certain lichens)\n",
    "- `tales, orcin`\n",
    "- `lates, orcin`\n",
    "- `slate, orcin`\n",
    "- `trace, loins`\n",
    "- `trace, lions`\n",
    "- `crate, lions`\n",
    "- `crate, loins`\n",
    "\n",
    "`arose, clint` maybe more appropriate as `soare` (a young hawk) is rarely used.  \n",
    "\n",
    "additional anagrams:  \n",
    "- `arise, clton`\n",
    "- `raise, clton`\n",
    "\n",
    "the second words in additional anagrams above are the left over letters"
   ]
  },
  {
   "cell_type": "code",
   "execution_count": 9,
   "id": "f9833cc0",
   "metadata": {
    "ExecuteTime": {
     "end_time": "2022-03-22T13:50:16.410804Z",
     "start_time": "2022-03-22T13:50:16.408226Z"
    }
   },
   "outputs": [],
   "source": [
    "new_guess_words  = [\"soare\", \"clint\", \"slane\", \"troic\",\n",
    "                    \"lanes\", \"salet\", \"lates\", \"tales\",\n",
    "                    \"slate\", \"orcin\", \"arise\", \"raise\",\n",
    "                    \"crate\", \"trace\", \"loins\", \"lions\", \"arose\"]"
   ]
  },
  {
   "cell_type": "code",
   "execution_count": 10,
   "id": "d9bb3c18",
   "metadata": {
    "ExecuteTime": {
     "end_time": "2022-03-22T13:50:16.419553Z",
     "start_time": "2022-03-22T13:50:16.414973Z"
    }
   },
   "outputs": [
    {
     "data": {
      "text/plain": [
       "[('soare', 'clint'),\n",
       " ('soare', 'slane'),\n",
       " ('soare', 'troic'),\n",
       " ('soare', 'lanes'),\n",
       " ('soare', 'salet'),\n",
       " ('soare', 'lates'),\n",
       " ('soare', 'tales'),\n",
       " ('soare', 'slate'),\n",
       " ('soare', 'orcin'),\n",
       " ('soare', 'arise')]"
      ]
     },
     "execution_count": 10,
     "metadata": {},
     "output_type": "execute_result"
    }
   ],
   "source": [
    "guess_guess_pairs = [combo for combo in itertools.combinations(new_guess_words, 2)]\n",
    "guess_guess_pairs[:10]"
   ]
  },
  {
   "cell_type": "code",
   "execution_count": 11,
   "id": "eb8696cf",
   "metadata": {
    "ExecuteTime": {
     "end_time": "2022-03-22T13:50:16.424629Z",
     "start_time": "2022-03-22T13:50:16.421432Z"
    }
   },
   "outputs": [
    {
     "data": {
      "text/plain": [
       "136"
      ]
     },
     "execution_count": 11,
     "metadata": {},
     "output_type": "execute_result"
    }
   ],
   "source": [
    "len(guess_guess_pairs)"
   ]
  },
  {
   "cell_type": "code",
   "execution_count": 12,
   "id": "33bb4656",
   "metadata": {
    "ExecuteTime": {
     "end_time": "2022-03-22T13:50:16.429481Z",
     "start_time": "2022-03-22T13:50:16.426396Z"
    }
   },
   "outputs": [],
   "source": [
    "with open(\"./data/webster_dict_all_five_letter_words.txt\", mode=\"r\") as file:\n",
    "    challenge_words = file.read().splitlines()"
   ]
  },
  {
   "cell_type": "code",
   "execution_count": 13,
   "id": "7ae543b7",
   "metadata": {
    "ExecuteTime": {
     "end_time": "2022-03-22T13:50:16.435141Z",
     "start_time": "2022-03-22T13:50:16.430872Z"
    }
   },
   "outputs": [
    {
     "data": {
      "text/plain": [
       "['gnarl', 'arles', 'villa', 'stagy', 'betty']"
      ]
     },
     "execution_count": 13,
     "metadata": {},
     "output_type": "execute_result"
    }
   ],
   "source": [
    "challenge_words[:5]"
   ]
  },
  {
   "cell_type": "code",
   "execution_count": 14,
   "id": "9fab1df9",
   "metadata": {
    "ExecuteTime": {
     "end_time": "2022-03-22T13:52:07.921425Z",
     "start_time": "2022-03-22T13:50:16.436411Z"
    }
   },
   "outputs": [
    {
     "name": "stderr",
     "output_type": "stream",
     "text": [
      "100%|█████████████████████████████████████████████████████████████████████| 5387/5387 [01:48<00:00, 49.73it/s]\n"
     ]
    },
    {
     "data": {
      "text/html": [
       "<div>\n",
       "<style scoped>\n",
       "    .dataframe tbody tr th:only-of-type {\n",
       "        vertical-align: middle;\n",
       "    }\n",
       "\n",
       "    .dataframe tbody tr th {\n",
       "        vertical-align: top;\n",
       "    }\n",
       "\n",
       "    .dataframe thead th {\n",
       "        text-align: right;\n",
       "    }\n",
       "</style>\n",
       "<table border=\"1\" class=\"dataframe\">\n",
       "  <thead>\n",
       "    <tr style=\"text-align: right;\">\n",
       "      <th></th>\n",
       "      <th>challenge_word</th>\n",
       "      <th>guess_pair</th>\n",
       "      <th>first_guess</th>\n",
       "      <th>second_guess</th>\n",
       "      <th>first_pos_score</th>\n",
       "      <th>second_pos_score</th>\n",
       "      <th>sum_first_pos_score</th>\n",
       "      <th>sum_second_pos_score</th>\n",
       "      <th>correct_letter_pos_score</th>\n",
       "      <th>sum_correct_letter_pos_score</th>\n",
       "    </tr>\n",
       "  </thead>\n",
       "  <tbody>\n",
       "    <tr>\n",
       "      <th>0</th>\n",
       "      <td>gayal</td>\n",
       "      <td>lates, lions</td>\n",
       "      <td>lates</td>\n",
       "      <td>lions</td>\n",
       "      <td>0  1 -1 -1 -1</td>\n",
       "      <td>0 -1 -1 -1 -1</td>\n",
       "      <td>-2</td>\n",
       "      <td>-4</td>\n",
       "      <td>0  1 -1 -1 -1</td>\n",
       "      <td>-2</td>\n",
       "    </tr>\n",
       "    <tr>\n",
       "      <th>1</th>\n",
       "      <td>gayal</td>\n",
       "      <td>lates, orcin</td>\n",
       "      <td>lates</td>\n",
       "      <td>orcin</td>\n",
       "      <td>0  1 -1 -1 -1</td>\n",
       "      <td>-1 -1 -1 -1 -1</td>\n",
       "      <td>-2</td>\n",
       "      <td>-5</td>\n",
       "      <td>0  1 -1 -1 -1</td>\n",
       "      <td>-2</td>\n",
       "    </tr>\n",
       "    <tr>\n",
       "      <th>2</th>\n",
       "      <td>gayal</td>\n",
       "      <td>troic, salet</td>\n",
       "      <td>troic</td>\n",
       "      <td>salet</td>\n",
       "      <td>-1 -1 -1 -1 -1</td>\n",
       "      <td>-1  1  0 -1 -1</td>\n",
       "      <td>-5</td>\n",
       "      <td>-2</td>\n",
       "      <td>-1  1  0 -1 -1</td>\n",
       "      <td>-2</td>\n",
       "    </tr>\n",
       "    <tr>\n",
       "      <th>3</th>\n",
       "      <td>gayal</td>\n",
       "      <td>lanes, arose</td>\n",
       "      <td>lanes</td>\n",
       "      <td>arose</td>\n",
       "      <td>0  1 -1 -1 -1</td>\n",
       "      <td>0 -1 -1 -1 -1</td>\n",
       "      <td>-2</td>\n",
       "      <td>-4</td>\n",
       "      <td>0  1 -1 -1 -1</td>\n",
       "      <td>-2</td>\n",
       "    </tr>\n",
       "    <tr>\n",
       "      <th>4</th>\n",
       "      <td>gayal</td>\n",
       "      <td>loins, lions</td>\n",
       "      <td>loins</td>\n",
       "      <td>lions</td>\n",
       "      <td>0 -1 -1 -1 -1</td>\n",
       "      <td>0 -1 -1 -1 -1</td>\n",
       "      <td>-4</td>\n",
       "      <td>-4</td>\n",
       "      <td>0 -1 -1 -1 -1</td>\n",
       "      <td>-4</td>\n",
       "    </tr>\n",
       "    <tr>\n",
       "      <th>...</th>\n",
       "      <td>...</td>\n",
       "      <td>...</td>\n",
       "      <td>...</td>\n",
       "      <td>...</td>\n",
       "      <td>...</td>\n",
       "      <td>...</td>\n",
       "      <td>...</td>\n",
       "      <td>...</td>\n",
       "      <td>...</td>\n",
       "      <td>...</td>\n",
       "    </tr>\n",
       "    <tr>\n",
       "      <th>732627</th>\n",
       "      <td>smitt</td>\n",
       "      <td>trace, arose</td>\n",
       "      <td>trace</td>\n",
       "      <td>arose</td>\n",
       "      <td>0 -1 -1 -1 -1</td>\n",
       "      <td>-1 -1 -1  0 -1</td>\n",
       "      <td>-4</td>\n",
       "      <td>-4</td>\n",
       "      <td>0 -1 -1  0 -1</td>\n",
       "      <td>-3</td>\n",
       "    </tr>\n",
       "    <tr>\n",
       "      <th>732628</th>\n",
       "      <td>smitt</td>\n",
       "      <td>lates, arise</td>\n",
       "      <td>lates</td>\n",
       "      <td>arise</td>\n",
       "      <td>-1 -1  0 -1  0</td>\n",
       "      <td>-1 -1  1  0 -1</td>\n",
       "      <td>-3</td>\n",
       "      <td>-2</td>\n",
       "      <td>-1 -1  1  0  0</td>\n",
       "      <td>-1</td>\n",
       "    </tr>\n",
       "    <tr>\n",
       "      <th>732629</th>\n",
       "      <td>smitt</td>\n",
       "      <td>troic, crate</td>\n",
       "      <td>troic</td>\n",
       "      <td>crate</td>\n",
       "      <td>0 -1 -1  0 -1</td>\n",
       "      <td>-1 -1 -1  1 -1</td>\n",
       "      <td>-3</td>\n",
       "      <td>-3</td>\n",
       "      <td>0 -1 -1  1 -1</td>\n",
       "      <td>-2</td>\n",
       "    </tr>\n",
       "    <tr>\n",
       "      <th>732630</th>\n",
       "      <td>smitt</td>\n",
       "      <td>slane, trace</td>\n",
       "      <td>slane</td>\n",
       "      <td>trace</td>\n",
       "      <td>1 -1 -1 -1 -1</td>\n",
       "      <td>0 -1 -1 -1 -1</td>\n",
       "      <td>-3</td>\n",
       "      <td>-4</td>\n",
       "      <td>1 -1 -1 -1 -1</td>\n",
       "      <td>-3</td>\n",
       "    </tr>\n",
       "    <tr>\n",
       "      <th>732631</th>\n",
       "      <td>smitt</td>\n",
       "      <td>tales, trace</td>\n",
       "      <td>tales</td>\n",
       "      <td>trace</td>\n",
       "      <td>0 -1 -1 -1  0</td>\n",
       "      <td>0 -1 -1 -1 -1</td>\n",
       "      <td>-3</td>\n",
       "      <td>-4</td>\n",
       "      <td>0 -1 -1 -1  0</td>\n",
       "      <td>-3</td>\n",
       "    </tr>\n",
       "  </tbody>\n",
       "</table>\n",
       "<p>732632 rows × 10 columns</p>\n",
       "</div>"
      ],
      "text/plain": [
       "       challenge_word    guess_pair first_guess second_guess first_pos_score  \\\n",
       "0               gayal  lates, lions       lates        lions   0  1 -1 -1 -1   \n",
       "1               gayal  lates, orcin       lates        orcin   0  1 -1 -1 -1   \n",
       "2               gayal  troic, salet       troic        salet  -1 -1 -1 -1 -1   \n",
       "3               gayal  lanes, arose       lanes        arose   0  1 -1 -1 -1   \n",
       "4               gayal  loins, lions       loins        lions   0 -1 -1 -1 -1   \n",
       "...               ...           ...         ...          ...             ...   \n",
       "732627          smitt  trace, arose       trace        arose   0 -1 -1 -1 -1   \n",
       "732628          smitt  lates, arise       lates        arise  -1 -1  0 -1  0   \n",
       "732629          smitt  troic, crate       troic        crate   0 -1 -1  0 -1   \n",
       "732630          smitt  slane, trace       slane        trace   1 -1 -1 -1 -1   \n",
       "732631          smitt  tales, trace       tales        trace   0 -1 -1 -1  0   \n",
       "\n",
       "       second_pos_score  sum_first_pos_score  sum_second_pos_score  \\\n",
       "0         0 -1 -1 -1 -1                   -2                    -4   \n",
       "1        -1 -1 -1 -1 -1                   -2                    -5   \n",
       "2        -1  1  0 -1 -1                   -5                    -2   \n",
       "3         0 -1 -1 -1 -1                   -2                    -4   \n",
       "4         0 -1 -1 -1 -1                   -4                    -4   \n",
       "...                 ...                  ...                   ...   \n",
       "732627   -1 -1 -1  0 -1                   -4                    -4   \n",
       "732628   -1 -1  1  0 -1                   -3                    -2   \n",
       "732629   -1 -1 -1  1 -1                   -3                    -3   \n",
       "732630    0 -1 -1 -1 -1                   -3                    -4   \n",
       "732631    0 -1 -1 -1 -1                   -3                    -4   \n",
       "\n",
       "       correct_letter_pos_score  sum_correct_letter_pos_score  \n",
       "0                 0  1 -1 -1 -1                            -2  \n",
       "1                 0  1 -1 -1 -1                            -2  \n",
       "2                -1  1  0 -1 -1                            -2  \n",
       "3                 0  1 -1 -1 -1                            -2  \n",
       "4                 0 -1 -1 -1 -1                            -4  \n",
       "...                         ...                           ...  \n",
       "732627            0 -1 -1  0 -1                            -3  \n",
       "732628           -1 -1  1  0  0                            -1  \n",
       "732629            0 -1 -1  1 -1                            -2  \n",
       "732630            1 -1 -1 -1 -1                            -3  \n",
       "732631            0 -1 -1 -1  0                            -3  \n",
       "\n",
       "[732632 rows x 10 columns]"
      ]
     },
     "execution_count": 14,
     "metadata": {},
     "output_type": "execute_result"
    }
   ],
   "source": [
    "random.seed(43)\n",
    "anagram_scores = wordle_scoring(guess_guess_pairs, challenge_words)\n",
    "anagram_scores"
   ]
  },
  {
   "cell_type": "code",
   "execution_count": 15,
   "id": "8cf5076d",
   "metadata": {
    "ExecuteTime": {
     "end_time": "2022-03-22T13:52:07.966716Z",
     "start_time": "2022-03-22T13:52:07.923257Z"
    }
   },
   "outputs": [
    {
     "data": {
      "text/html": [
       "<div>\n",
       "<style scoped>\n",
       "    .dataframe tbody tr th:only-of-type {\n",
       "        vertical-align: middle;\n",
       "    }\n",
       "\n",
       "    .dataframe tbody tr th {\n",
       "        vertical-align: top;\n",
       "    }\n",
       "\n",
       "    .dataframe thead th {\n",
       "        text-align: right;\n",
       "    }\n",
       "</style>\n",
       "<table border=\"1\" class=\"dataframe\">\n",
       "  <thead>\n",
       "    <tr style=\"text-align: right;\">\n",
       "      <th></th>\n",
       "      <th>overall_sum_correct_letter_pos_score</th>\n",
       "    </tr>\n",
       "    <tr>\n",
       "      <th>guess_pair</th>\n",
       "      <th></th>\n",
       "    </tr>\n",
       "  </thead>\n",
       "  <tbody>\n",
       "    <tr>\n",
       "      <th>soare, lates</th>\n",
       "      <td>-4720.0</td>\n",
       "    </tr>\n",
       "    <tr>\n",
       "      <th>soare, lanes</th>\n",
       "      <td>-4752.0</td>\n",
       "    </tr>\n",
       "    <tr>\n",
       "      <th>soare, tales</th>\n",
       "      <td>-4827.0</td>\n",
       "    </tr>\n",
       "    <tr>\n",
       "      <th>salet, arose</th>\n",
       "      <td>-4983.0</td>\n",
       "    </tr>\n",
       "    <tr>\n",
       "      <th>salet, arise</th>\n",
       "      <td>-5022.0</td>\n",
       "    </tr>\n",
       "    <tr>\n",
       "      <th>salet, crate</th>\n",
       "      <td>-5475.0</td>\n",
       "    </tr>\n",
       "    <tr>\n",
       "      <th>salet, trace</th>\n",
       "      <td>-5578.0</td>\n",
       "    </tr>\n",
       "    <tr>\n",
       "      <th>tales, arose</th>\n",
       "      <td>-5589.0</td>\n",
       "    </tr>\n",
       "    <tr>\n",
       "      <th>tales, arise</th>\n",
       "      <td>-5628.0</td>\n",
       "    </tr>\n",
       "    <tr>\n",
       "      <th>lates, slate</th>\n",
       "      <td>-5632.0</td>\n",
       "    </tr>\n",
       "  </tbody>\n",
       "</table>\n",
       "</div>"
      ],
      "text/plain": [
       "              overall_sum_correct_letter_pos_score\n",
       "guess_pair                                        \n",
       "soare, lates                               -4720.0\n",
       "soare, lanes                               -4752.0\n",
       "soare, tales                               -4827.0\n",
       "salet, arose                               -4983.0\n",
       "salet, arise                               -5022.0\n",
       "salet, crate                               -5475.0\n",
       "salet, trace                               -5578.0\n",
       "tales, arose                               -5589.0\n",
       "tales, arise                               -5628.0\n",
       "lates, slate                               -5632.0"
      ]
     },
     "execution_count": 15,
     "metadata": {},
     "output_type": "execute_result"
    }
   ],
   "source": [
    "best_anagram_words = (anagram_scores\n",
    "                      .groupby(by=\"guess_pair\")[[\"sum_correct_letter_pos_score\"]].sum()\n",
    "                      .sort_values(by=\"sum_correct_letter_pos_score\", ascending=False))\n",
    "\n",
    "best_anagram_words.rename(columns={\"sum_correct_letter_pos_score\": \"overall_sum_correct_letter_pos_score\"}, inplace=True)\n",
    "best_anagram_words[:10]"
   ]
  },
  {
   "cell_type": "code",
   "execution_count": null,
   "id": "7b914b01",
   "metadata": {},
   "outputs": [],
   "source": []
  }
 ],
 "metadata": {
  "kernelspec": {
   "display_name": "wordle",
   "language": "python",
   "name": "wordle"
  },
  "language_info": {
   "codemirror_mode": {
    "name": "ipython",
    "version": 3
   },
   "file_extension": ".py",
   "mimetype": "text/x-python",
   "name": "python",
   "nbconvert_exporter": "python",
   "pygments_lexer": "ipython3",
   "version": "3.9.7"
  },
  "toc": {
   "base_numbering": 1,
   "nav_menu": {},
   "number_sections": true,
   "sideBar": true,
   "skip_h1_title": false,
   "title_cell": "Table of Contents",
   "title_sidebar": "Contents",
   "toc_cell": false,
   "toc_position": {},
   "toc_section_display": true,
   "toc_window_display": false
  },
  "varInspector": {
   "cols": {
    "lenName": 16,
    "lenType": 16,
    "lenVar": 40
   },
   "kernels_config": {
    "python": {
     "delete_cmd_postfix": "",
     "delete_cmd_prefix": "del ",
     "library": "var_list.py",
     "varRefreshCmd": "print(var_dic_list())"
    },
    "r": {
     "delete_cmd_postfix": ") ",
     "delete_cmd_prefix": "rm(",
     "library": "var_list.r",
     "varRefreshCmd": "cat(var_dic_list()) "
    }
   },
   "types_to_exclude": [
    "module",
    "function",
    "builtin_function_or_method",
    "instance",
    "_Feature"
   ],
   "window_display": false
  }
 },
 "nbformat": 4,
 "nbformat_minor": 5
}
