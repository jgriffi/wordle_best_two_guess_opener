{
 "cells": [
  {
   "cell_type": "code",
   "execution_count": 1,
   "id": "a01d26c0",
   "metadata": {
    "ExecuteTime": {
     "end_time": "2022-03-23T11:27:08.490649Z",
     "start_time": "2022-03-23T11:27:07.035878Z"
    }
   },
   "outputs": [],
   "source": [
    "import pandas as pd\n",
    "import numpy as np\n",
    "import sys\n",
    "import os\n",
    "import random\n",
    "from tqdm import tqdm\n",
    "import re\n",
    "import itertools\n",
    "from wordle_helpers import wordle_scoring"
   ]
  },
  {
   "cell_type": "code",
   "execution_count": 2,
   "id": "4260b4ce",
   "metadata": {
    "ExecuteTime": {
     "end_time": "2022-03-23T11:27:10.810192Z",
     "start_time": "2022-03-23T11:27:08.492010Z"
    }
   },
   "outputs": [],
   "source": [
    "scoring = \\\n",
    "    pd.read_csv(\"./data/top_100_freq_used_5_letter_words_vs_webster_dict_all_five_letter_words.csv.gz\",\n",
    "                dtype = {\n",
    "                    \"challenge_word\": \"string[pyarrow]\",\n",
    "                    \"guess_pair\": \"string[pyarrow]\",\n",
    "                    \"first_guess\": \"string[pyarrow]\",\n",
    "                    \"second_guess\": \"string[pyarrow]\",\n",
    "                    \"first_pos_score\": \"string[pyarrow]\",\n",
    "                    \"second_pos_score\": \"string[pyarrow]\",\n",
    "                    \"sum_first_pos_score\": np.int8,\n",
    "                    \"sum_second_pos_score\": np.int8,\n",
    "                    \"correct_letter_pos_score\": \"string[pyarrow]\",\n",
    "                    \"sum_correct_letter_pos_score\": np.int8,\n",
    "                },\n",
    "                engine=\"pyarrow\",\n",
    "                compression=\"gzip\")"
   ]
  },
  {
   "cell_type": "code",
   "execution_count": 3,
   "id": "477ab167",
   "metadata": {
    "ExecuteTime": {
     "end_time": "2022-03-23T11:27:10.834028Z",
     "start_time": "2022-03-23T11:27:10.813315Z"
    },
    "scrolled": false
   },
   "outputs": [
    {
     "data": {
      "text/html": [
       "<div>\n",
       "<style scoped>\n",
       "    .dataframe tbody tr th:only-of-type {\n",
       "        vertical-align: middle;\n",
       "    }\n",
       "\n",
       "    .dataframe tbody tr th {\n",
       "        vertical-align: top;\n",
       "    }\n",
       "\n",
       "    .dataframe thead th {\n",
       "        text-align: right;\n",
       "    }\n",
       "</style>\n",
       "<table border=\"1\" class=\"dataframe\">\n",
       "  <thead>\n",
       "    <tr style=\"text-align: right;\">\n",
       "      <th></th>\n",
       "      <th>challenge_word</th>\n",
       "      <th>guess_pair</th>\n",
       "      <th>first_guess</th>\n",
       "      <th>second_guess</th>\n",
       "      <th>first_pos_score</th>\n",
       "      <th>second_pos_score</th>\n",
       "      <th>sum_first_pos_score</th>\n",
       "      <th>sum_second_pos_score</th>\n",
       "      <th>correct_letter_pos_score</th>\n",
       "      <th>sum_correct_letter_pos_score</th>\n",
       "    </tr>\n",
       "  </thead>\n",
       "  <tbody>\n",
       "    <tr>\n",
       "      <th>0</th>\n",
       "      <td>zebra</td>\n",
       "      <td>tried, along</td>\n",
       "      <td>tried</td>\n",
       "      <td>along</td>\n",
       "      <td>-1  0 -1  0 -1</td>\n",
       "      <td>0 -1 -1 -1 -1</td>\n",
       "      <td>-3</td>\n",
       "      <td>-4</td>\n",
       "      <td>0  0 -1  0 -1</td>\n",
       "      <td>-2</td>\n",
       "    </tr>\n",
       "    <tr>\n",
       "      <th>1</th>\n",
       "      <td>zebra</td>\n",
       "      <td>thank, comes</td>\n",
       "      <td>thank</td>\n",
       "      <td>comes</td>\n",
       "      <td>-1 -1  0 -1 -1</td>\n",
       "      <td>-1 -1 -1  0 -1</td>\n",
       "      <td>-4</td>\n",
       "      <td>-4</td>\n",
       "      <td>-1 -1  0  0 -1</td>\n",
       "      <td>-3</td>\n",
       "    </tr>\n",
       "    <tr>\n",
       "      <th>2</th>\n",
       "      <td>zebra</td>\n",
       "      <td>wrong, field</td>\n",
       "      <td>wrong</td>\n",
       "      <td>field</td>\n",
       "      <td>-1  0 -1 -1 -1</td>\n",
       "      <td>-1 -1  0 -1 -1</td>\n",
       "      <td>-4</td>\n",
       "      <td>-4</td>\n",
       "      <td>-1  0  0 -1 -1</td>\n",
       "      <td>-3</td>\n",
       "    </tr>\n",
       "    <tr>\n",
       "      <th>3</th>\n",
       "      <td>zebra</td>\n",
       "      <td>front, music</td>\n",
       "      <td>front</td>\n",
       "      <td>music</td>\n",
       "      <td>-1  0 -1 -1 -1</td>\n",
       "      <td>-1 -1 -1 -1 -1</td>\n",
       "      <td>-4</td>\n",
       "      <td>-5</td>\n",
       "      <td>-1  0 -1 -1 -1</td>\n",
       "      <td>-4</td>\n",
       "    </tr>\n",
       "    <tr>\n",
       "      <th>4</th>\n",
       "      <td>zebra</td>\n",
       "      <td>place, wrong</td>\n",
       "      <td>place</td>\n",
       "      <td>wrong</td>\n",
       "      <td>-1 -1  0 -1  0</td>\n",
       "      <td>-1  0 -1 -1 -1</td>\n",
       "      <td>-3</td>\n",
       "      <td>-4</td>\n",
       "      <td>-1  0  0 -1  0</td>\n",
       "      <td>-2</td>\n",
       "    </tr>\n",
       "  </tbody>\n",
       "</table>\n",
       "</div>"
      ],
      "text/plain": [
       "  challenge_word    guess_pair first_guess second_guess first_pos_score  \\\n",
       "0          zebra  tried, along       tried        along  -1  0 -1  0 -1   \n",
       "1          zebra  thank, comes       thank        comes  -1 -1  0 -1 -1   \n",
       "2          zebra  wrong, field       wrong        field  -1  0 -1 -1 -1   \n",
       "3          zebra  front, music       front        music  -1  0 -1 -1 -1   \n",
       "4          zebra  place, wrong       place        wrong  -1 -1  0 -1  0   \n",
       "\n",
       "  second_pos_score  sum_first_pos_score  sum_second_pos_score  \\\n",
       "0    0 -1 -1 -1 -1                   -3                    -4   \n",
       "1   -1 -1 -1  0 -1                   -4                    -4   \n",
       "2   -1 -1  0 -1 -1                   -4                    -4   \n",
       "3   -1 -1 -1 -1 -1                   -4                    -5   \n",
       "4   -1  0 -1 -1 -1                   -3                    -4   \n",
       "\n",
       "  correct_letter_pos_score  sum_correct_letter_pos_score  \n",
       "0            0  0 -1  0 -1                            -2  \n",
       "1           -1 -1  0  0 -1                            -3  \n",
       "2           -1  0  0 -1 -1                            -3  \n",
       "3           -1  0 -1 -1 -1                            -4  \n",
       "4           -1  0  0 -1  0                            -2  "
      ]
     },
     "execution_count": 3,
     "metadata": {},
     "output_type": "execute_result"
    }
   ],
   "source": [
    "scoring.head(5)"
   ]
  },
  {
   "cell_type": "code",
   "execution_count": 4,
   "id": "a5231a99",
   "metadata": {
    "ExecuteTime": {
     "end_time": "2022-03-23T11:27:10.845395Z",
     "start_time": "2022-03-23T11:27:10.838472Z"
    }
   },
   "outputs": [
    {
     "name": "stdout",
     "output_type": "stream",
     "text": [
      "<class 'pandas.core.frame.DataFrame'>\n",
      "RangeIndex: 2785079 entries, 0 to 2785078\n",
      "Data columns (total 10 columns):\n",
      " #   Column                        Dtype \n",
      "---  ------                        ----- \n",
      " 0   challenge_word                string\n",
      " 1   guess_pair                    string\n",
      " 2   first_guess                   string\n",
      " 3   second_guess                  string\n",
      " 4   first_pos_score               string\n",
      " 5   second_pos_score              string\n",
      " 6   sum_first_pos_score           int8  \n",
      " 7   sum_second_pos_score          int8  \n",
      " 8   correct_letter_pos_score      string\n",
      " 9   sum_correct_letter_pos_score  int8  \n",
      "dtypes: int8(3), string(7)\n",
      "memory usage: 263.6 MB\n"
     ]
    }
   ],
   "source": [
    "scoring.info(memory_usage=\"deep\")"
   ]
  },
  {
   "cell_type": "markdown",
   "id": "9beb13f6",
   "metadata": {},
   "source": [
    "# best word pair"
   ]
  },
  {
   "cell_type": "markdown",
   "id": "0d46e98c",
   "metadata": {},
   "source": [
    "**The best `word pair` is the one that has the `highest score`**"
   ]
  },
  {
   "cell_type": "code",
   "execution_count": 5,
   "id": "886c0f2a",
   "metadata": {
    "ExecuteTime": {
     "end_time": "2022-03-23T11:27:10.996058Z",
     "start_time": "2022-03-23T11:27:10.847482Z"
    }
   },
   "outputs": [
    {
     "data": {
      "text/html": [
       "<div>\n",
       "<style scoped>\n",
       "    .dataframe tbody tr th:only-of-type {\n",
       "        vertical-align: middle;\n",
       "    }\n",
       "\n",
       "    .dataframe tbody tr th {\n",
       "        vertical-align: top;\n",
       "    }\n",
       "\n",
       "    .dataframe thead th {\n",
       "        text-align: right;\n",
       "    }\n",
       "</style>\n",
       "<table border=\"1\" class=\"dataframe\">\n",
       "  <thead>\n",
       "    <tr style=\"text-align: right;\">\n",
       "      <th></th>\n",
       "      <th>overall_sum_correct_letter_pos_score</th>\n",
       "    </tr>\n",
       "    <tr>\n",
       "      <th>guess_pair</th>\n",
       "      <th></th>\n",
       "    </tr>\n",
       "  </thead>\n",
       "  <tbody>\n",
       "    <tr>\n",
       "      <th>close, train</th>\n",
       "      <td>-7427.0</td>\n",
       "    </tr>\n",
       "    <tr>\n",
       "      <th>story, plane</th>\n",
       "      <td>-7584.0</td>\n",
       "    </tr>\n",
       "    <tr>\n",
       "      <th>point, share</th>\n",
       "      <td>-7647.0</td>\n",
       "    </tr>\n",
       "    <tr>\n",
       "      <th>since, party</th>\n",
       "      <td>-7791.0</td>\n",
       "    </tr>\n",
       "    <tr>\n",
       "      <th>point, scare</th>\n",
       "      <td>-7802.0</td>\n",
       "    </tr>\n",
       "    <tr>\n",
       "      <th>share, count</th>\n",
       "      <td>-7819.0</td>\n",
       "    </tr>\n",
       "    <tr>\n",
       "      <th>short, plane</th>\n",
       "      <td>-7938.0</td>\n",
       "    </tr>\n",
       "    <tr>\n",
       "      <th>count, spare</th>\n",
       "      <td>-8024.0</td>\n",
       "    </tr>\n",
       "    <tr>\n",
       "      <th>place, story</th>\n",
       "      <td>-8071.0</td>\n",
       "    </tr>\n",
       "    <tr>\n",
       "      <th>train, chose</th>\n",
       "      <td>-8148.0</td>\n",
       "    </tr>\n",
       "  </tbody>\n",
       "</table>\n",
       "</div>"
      ],
      "text/plain": [
       "              overall_sum_correct_letter_pos_score\n",
       "guess_pair                                        \n",
       "close, train                               -7427.0\n",
       "story, plane                               -7584.0\n",
       "point, share                               -7647.0\n",
       "since, party                               -7791.0\n",
       "point, scare                               -7802.0\n",
       "share, count                               -7819.0\n",
       "short, plane                               -7938.0\n",
       "count, spare                               -8024.0\n",
       "place, story                               -8071.0\n",
       "train, chose                               -8148.0"
      ]
     },
     "execution_count": 5,
     "metadata": {},
     "output_type": "execute_result"
    }
   ],
   "source": [
    "guess_pair_sum_scores = (scoring\n",
    "                        .groupby(by=\"guess_pair\")[[\"sum_correct_letter_pos_score\"]].sum()\n",
    "                        .sort_values(by=\"sum_correct_letter_pos_score\", ascending=False))\n",
    "\n",
    "guess_pair_sum_scores.rename(columns={\n",
    "    \"sum_correct_letter_pos_score\": \"overall_sum_correct_letter_pos_score\"}, inplace=True)\n",
    "guess_pair_sum_scores[:10]"
   ]
  },
  {
   "cell_type": "code",
   "execution_count": 6,
   "id": "bcdfc07a",
   "metadata": {
    "ExecuteTime": {
     "end_time": "2022-03-23T11:27:11.005734Z",
     "start_time": "2022-03-23T11:27:10.998227Z"
    }
   },
   "outputs": [
    {
     "data": {
      "text/plain": [
       "'close, train'"
      ]
     },
     "execution_count": 6,
     "metadata": {},
     "output_type": "execute_result"
    }
   ],
   "source": [
    "best_guess_pair = guess_pair_sum_scores.idxmax()[0]\n",
    "best_guess_pair"
   ]
  },
  {
   "cell_type": "code",
   "execution_count": 7,
   "id": "4d24f392",
   "metadata": {
    "ExecuteTime": {
     "end_time": "2022-03-23T11:27:11.022979Z",
     "start_time": "2022-03-23T11:27:11.007818Z"
    }
   },
   "outputs": [
    {
     "data": {
      "text/plain": [
       "'might, found'"
      ]
     },
     "execution_count": 7,
     "metadata": {},
     "output_type": "execute_result"
    }
   ],
   "source": [
    "worst_guess_pair = guess_pair_sum_scores.idxmin()[0]\n",
    "worst_guess_pair"
   ]
  },
  {
   "cell_type": "code",
   "execution_count": 8,
   "id": "af1ab7b6",
   "metadata": {
    "ExecuteTime": {
     "end_time": "2022-03-23T11:27:11.080510Z",
     "start_time": "2022-03-23T11:27:11.031067Z"
    }
   },
   "outputs": [
    {
     "data": {
      "text/html": [
       "<div>\n",
       "<style scoped>\n",
       "    .dataframe tbody tr th:only-of-type {\n",
       "        vertical-align: middle;\n",
       "    }\n",
       "\n",
       "    .dataframe tbody tr th {\n",
       "        vertical-align: top;\n",
       "    }\n",
       "\n",
       "    .dataframe thead th {\n",
       "        text-align: right;\n",
       "    }\n",
       "</style>\n",
       "<table border=\"1\" class=\"dataframe\">\n",
       "  <thead>\n",
       "    <tr style=\"text-align: right;\">\n",
       "      <th></th>\n",
       "      <th>challenge_word</th>\n",
       "      <th>guess_pair</th>\n",
       "      <th>first_guess</th>\n",
       "      <th>second_guess</th>\n",
       "      <th>first_pos_score</th>\n",
       "      <th>second_pos_score</th>\n",
       "      <th>sum_first_pos_score</th>\n",
       "      <th>sum_second_pos_score</th>\n",
       "      <th>correct_letter_pos_score</th>\n",
       "      <th>sum_correct_letter_pos_score</th>\n",
       "    </tr>\n",
       "  </thead>\n",
       "  <tbody>\n",
       "    <tr>\n",
       "      <th>55</th>\n",
       "      <td>zebra</td>\n",
       "      <td>close, train</td>\n",
       "      <td>close</td>\n",
       "      <td>train</td>\n",
       "      <td>-1 -1 -1 -1  0</td>\n",
       "      <td>-1  0  0 -1 -1</td>\n",
       "      <td>-4</td>\n",
       "      <td>-3</td>\n",
       "      <td>-1  0  0 -1  0</td>\n",
       "      <td>-2</td>\n",
       "    </tr>\n",
       "    <tr>\n",
       "      <th>572</th>\n",
       "      <td>ficus</td>\n",
       "      <td>close, train</td>\n",
       "      <td>close</td>\n",
       "      <td>train</td>\n",
       "      <td>0 -1 -1  0 -1</td>\n",
       "      <td>-1 -1 -1  0 -1</td>\n",
       "      <td>-3</td>\n",
       "      <td>-4</td>\n",
       "      <td>0 -1 -1  0 -1</td>\n",
       "      <td>-3</td>\n",
       "    </tr>\n",
       "    <tr>\n",
       "      <th>1089</th>\n",
       "      <td>bourd</td>\n",
       "      <td>close, train</td>\n",
       "      <td>close</td>\n",
       "      <td>train</td>\n",
       "      <td>-1 -1  0 -1 -1</td>\n",
       "      <td>-1  0 -1 -1 -1</td>\n",
       "      <td>-4</td>\n",
       "      <td>-4</td>\n",
       "      <td>-1  0  0 -1 -1</td>\n",
       "      <td>-3</td>\n",
       "    </tr>\n",
       "    <tr>\n",
       "      <th>1606</th>\n",
       "      <td>sited</td>\n",
       "      <td>close, train</td>\n",
       "      <td>close</td>\n",
       "      <td>train</td>\n",
       "      <td>-1 -1 -1  0  0</td>\n",
       "      <td>0 -1 -1  0 -1</td>\n",
       "      <td>-3</td>\n",
       "      <td>-3</td>\n",
       "      <td>0 -1 -1  0  0</td>\n",
       "      <td>-2</td>\n",
       "    </tr>\n",
       "    <tr>\n",
       "      <th>2123</th>\n",
       "      <td>oxfly</td>\n",
       "      <td>close, train</td>\n",
       "      <td>close</td>\n",
       "      <td>train</td>\n",
       "      <td>-1  0  0 -1 -1</td>\n",
       "      <td>-1 -1 -1 -1 -1</td>\n",
       "      <td>-3</td>\n",
       "      <td>-5</td>\n",
       "      <td>-1  0  0 -1 -1</td>\n",
       "      <td>-3</td>\n",
       "    </tr>\n",
       "  </tbody>\n",
       "</table>\n",
       "</div>"
      ],
      "text/plain": [
       "     challenge_word    guess_pair first_guess second_guess first_pos_score  \\\n",
       "55            zebra  close, train       close        train  -1 -1 -1 -1  0   \n",
       "572           ficus  close, train       close        train   0 -1 -1  0 -1   \n",
       "1089          bourd  close, train       close        train  -1 -1  0 -1 -1   \n",
       "1606          sited  close, train       close        train  -1 -1 -1  0  0   \n",
       "2123          oxfly  close, train       close        train  -1  0  0 -1 -1   \n",
       "\n",
       "     second_pos_score  sum_first_pos_score  sum_second_pos_score  \\\n",
       "55     -1  0  0 -1 -1                   -4                    -3   \n",
       "572    -1 -1 -1  0 -1                   -3                    -4   \n",
       "1089   -1  0 -1 -1 -1                   -4                    -4   \n",
       "1606    0 -1 -1  0 -1                   -3                    -3   \n",
       "2123   -1 -1 -1 -1 -1                   -3                    -5   \n",
       "\n",
       "     correct_letter_pos_score  sum_correct_letter_pos_score  \n",
       "55             -1  0  0 -1  0                            -2  \n",
       "572             0 -1 -1  0 -1                            -3  \n",
       "1089           -1  0  0 -1 -1                            -3  \n",
       "1606            0 -1 -1  0  0                            -2  \n",
       "2123           -1  0  0 -1 -1                            -3  "
      ]
     },
     "execution_count": 8,
     "metadata": {},
     "output_type": "execute_result"
    }
   ],
   "source": [
    "best_guess_pair_df = \\\n",
    "    (scoring\n",
    "     .loc[scoring[\"guess_pair\"] == guess_pair_sum_scores.idxmax()[0]])\n",
    "best_guess_pair_df.head()"
   ]
  },
  {
   "cell_type": "markdown",
   "id": "f9bfc012",
   "metadata": {},
   "source": [
    "# conclusion  \n",
    "\n",
    "My best 2 word opener is `\"close, train\"`, which coincidentally are anagrams of the ones identified by [3blue1brown](https://www.youtube.com/watch?v=fRed0Xmc2Wg) - timestamp 10:52"
   ]
  },
  {
   "cell_type": "markdown",
   "id": "53bc3250",
   "metadata": {},
   "source": [
    "## anagrams  \n",
    "\n",
    "anagrams of `close, train`:  \n",
    "- `soare, clint`\n",
    "- `slane, troic` (slane - a spade for cutting turf, troic - pertaining to Troy)\n",
    "- `lanes, troic`\n",
    "- `salet, orcin` (salet - a combat helmet, orcin - a colorless substance obtained from certain lichens)\n",
    "- `tales, orcin`\n",
    "- `lates, orcin`\n",
    "- `slate, orcin`\n",
    "- `trace, loins`\n",
    "- `trace, lions`\n",
    "- `crate, lions`\n",
    "- `crate, loins`\n",
    "\n",
    "`arose, clint` maybe more appropriate as `soare` (a young hawk) is rarely used.  \n",
    "\n",
    "additional anagrams:  \n",
    "- `arise, clton`\n",
    "- `raise, clton`\n",
    "\n",
    "the second words in additional anagrams above are the left over letters"
   ]
  },
  {
   "cell_type": "code",
   "execution_count": 9,
   "id": "f9833cc0",
   "metadata": {
    "ExecuteTime": {
     "end_time": "2022-03-23T11:27:11.085763Z",
     "start_time": "2022-03-23T11:27:11.082502Z"
    }
   },
   "outputs": [],
   "source": [
    "new_guess_words  = [\"soare\", \"clint\", \"slane\", \"troic\",\n",
    "                    \"lanes\", \"salet\", \"lates\", \"tales\",\n",
    "                    \"slate\", \"orcin\", \"arise\", \"raise\",\n",
    "                    \"crate\", \"trace\", \"loins\", \"lions\", \"arose\"]"
   ]
  },
  {
   "cell_type": "code",
   "execution_count": 10,
   "id": "d9bb3c18",
   "metadata": {
    "ExecuteTime": {
     "end_time": "2022-03-23T11:27:11.094613Z",
     "start_time": "2022-03-23T11:27:11.088281Z"
    }
   },
   "outputs": [
    {
     "data": {
      "text/plain": [
       "[('soare', 'clint'),\n",
       " ('soare', 'slane'),\n",
       " ('soare', 'troic'),\n",
       " ('soare', 'lanes'),\n",
       " ('soare', 'salet'),\n",
       " ('soare', 'lates'),\n",
       " ('soare', 'tales'),\n",
       " ('soare', 'slate'),\n",
       " ('soare', 'orcin'),\n",
       " ('soare', 'arise')]"
      ]
     },
     "execution_count": 10,
     "metadata": {},
     "output_type": "execute_result"
    }
   ],
   "source": [
    "guess_guess_pairs = [combo for combo in itertools.combinations(new_guess_words, 2)]\n",
    "guess_guess_pairs[:10]"
   ]
  },
  {
   "cell_type": "code",
   "execution_count": 11,
   "id": "eb8696cf",
   "metadata": {
    "ExecuteTime": {
     "end_time": "2022-03-23T11:27:11.103346Z",
     "start_time": "2022-03-23T11:27:11.098782Z"
    }
   },
   "outputs": [
    {
     "data": {
      "text/plain": [
       "136"
      ]
     },
     "execution_count": 11,
     "metadata": {},
     "output_type": "execute_result"
    }
   ],
   "source": [
    "len(guess_guess_pairs)"
   ]
  },
  {
   "cell_type": "code",
   "execution_count": 12,
   "id": "33bb4656",
   "metadata": {
    "ExecuteTime": {
     "end_time": "2022-03-23T11:27:11.111383Z",
     "start_time": "2022-03-23T11:27:11.105856Z"
    }
   },
   "outputs": [],
   "source": [
    "# with open(\"./data/webster_dict_all_five_letter_words.txt\", mode=\"r\") as file:\n",
    "#     challenge_words = file.read().splitlines()"
   ]
  },
  {
   "cell_type": "code",
   "execution_count": 13,
   "id": "7ae543b7",
   "metadata": {
    "ExecuteTime": {
     "end_time": "2022-03-23T11:27:11.117980Z",
     "start_time": "2022-03-23T11:27:11.113610Z"
    }
   },
   "outputs": [
    {
     "data": {
      "text/plain": [
       "['gnarl', 'arles', 'villa', 'stagy', 'betty']"
      ]
     },
     "execution_count": 13,
     "metadata": {},
     "output_type": "execute_result"
    }
   ],
   "source": [
    "challenge_words[:5]"
   ]
  },
  {
   "cell_type": "code",
   "execution_count": 14,
   "id": "9fab1df9",
   "metadata": {
    "ExecuteTime": {
     "end_time": "2022-03-23T11:27:35.319221Z",
     "start_time": "2022-03-23T11:27:11.121592Z"
    }
   },
   "outputs": [
    {
     "name": "stderr",
     "output_type": "stream",
     "text": [
      " 21%|████████████████▍                                                              | 1124/5387 [00:24<01:31, 46.76it/s]\n"
     ]
    },
    {
     "ename": "KeyboardInterrupt",
     "evalue": "",
     "output_type": "error",
     "traceback": [
      "\u001b[0;31m---------------------------------------------------------------------------\u001b[0m",
      "\u001b[0;31mKeyboardInterrupt\u001b[0m                         Traceback (most recent call last)",
      "\u001b[0;32m/var/folders/t2/mrcjjckd06sgkphvf13z_p2r0000gn/T/ipykernel_59043/3668910512.py\u001b[0m in \u001b[0;36m<module>\u001b[0;34m\u001b[0m\n\u001b[1;32m      1\u001b[0m \u001b[0mrandom\u001b[0m\u001b[0;34m.\u001b[0m\u001b[0mseed\u001b[0m\u001b[0;34m(\u001b[0m\u001b[0;36m43\u001b[0m\u001b[0;34m)\u001b[0m\u001b[0;34m\u001b[0m\u001b[0;34m\u001b[0m\u001b[0m\n\u001b[0;32m----> 2\u001b[0;31m \u001b[0managram_scores\u001b[0m \u001b[0;34m=\u001b[0m \u001b[0mwordle_scoring\u001b[0m\u001b[0;34m(\u001b[0m\u001b[0mguess_guess_pairs\u001b[0m\u001b[0;34m,\u001b[0m \u001b[0mchallenge_words\u001b[0m\u001b[0;34m)\u001b[0m\u001b[0;34m\u001b[0m\u001b[0;34m\u001b[0m\u001b[0m\n\u001b[0m\u001b[1;32m      3\u001b[0m \u001b[0managram_scores\u001b[0m\u001b[0;34m\u001b[0m\u001b[0;34m\u001b[0m\u001b[0m\n",
      "\u001b[0;32m~/Desktop/more_stuff/Machine_Learning_Data_Science_and_Python/Data_Science_projects/scrap_book/wordle/wordle_best_two_guess_opener/wordle_helpers.py\u001b[0m in \u001b[0;36mwordle_scoring\u001b[0;34m(guess_word_pairs, challenge_words)\u001b[0m\n\u001b[1;32m     89\u001b[0m                 \u001b[0;34m\"sum_second_pos_score\"\u001b[0m\u001b[0;34m:\u001b[0m \u001b[0mscores\u001b[0m\u001b[0;34m[\u001b[0m\u001b[0;36m1\u001b[0m\u001b[0;34m]\u001b[0m\u001b[0;34m.\u001b[0m\u001b[0msum\u001b[0m\u001b[0;34m(\u001b[0m\u001b[0;34m)\u001b[0m\u001b[0;34m,\u001b[0m\u001b[0;34m\u001b[0m\u001b[0;34m\u001b[0m\u001b[0m\n\u001b[1;32m     90\u001b[0m                 \u001b[0;34m\"correct_letter_pos_score\"\u001b[0m\u001b[0;34m:\u001b[0m \u001b[0mre\u001b[0m\u001b[0;34m.\u001b[0m\u001b[0msub\u001b[0m\u001b[0;34m(\u001b[0m\u001b[0;34mr\"[\\[\\]]\"\u001b[0m\u001b[0;34m,\u001b[0m \u001b[0;34m\"\"\u001b[0m\u001b[0;34m,\u001b[0m \u001b[0mstr\u001b[0m\u001b[0;34m(\u001b[0m\u001b[0mnp\u001b[0m\u001b[0;34m.\u001b[0m\u001b[0mmax\u001b[0m\u001b[0;34m(\u001b[0m\u001b[0mscores\u001b[0m\u001b[0;34m,\u001b[0m \u001b[0maxis\u001b[0m\u001b[0;34m=\u001b[0m\u001b[0;36m0\u001b[0m\u001b[0;34m)\u001b[0m\u001b[0;34m)\u001b[0m\u001b[0;34m)\u001b[0m\u001b[0;34m.\u001b[0m\u001b[0mstrip\u001b[0m\u001b[0;34m(\u001b[0m\u001b[0;34m)\u001b[0m\u001b[0;34m,\u001b[0m\u001b[0;34m\u001b[0m\u001b[0;34m\u001b[0m\u001b[0m\n\u001b[0;32m---> 91\u001b[0;31m                 \u001b[0;34m\"sum_correct_letter_pos_score\"\u001b[0m\u001b[0;34m:\u001b[0m \u001b[0mnp\u001b[0m\u001b[0;34m.\u001b[0m\u001b[0msum\u001b[0m\u001b[0;34m(\u001b[0m\u001b[0mnp\u001b[0m\u001b[0;34m.\u001b[0m\u001b[0mmax\u001b[0m\u001b[0;34m(\u001b[0m\u001b[0mscores\u001b[0m\u001b[0;34m,\u001b[0m \u001b[0maxis\u001b[0m\u001b[0;34m=\u001b[0m\u001b[0;36m0\u001b[0m\u001b[0;34m)\u001b[0m\u001b[0;34m)\u001b[0m\u001b[0;34m,\u001b[0m\u001b[0;34m\u001b[0m\u001b[0;34m\u001b[0m\u001b[0m\n\u001b[0m\u001b[1;32m     92\u001b[0m             }\n\u001b[1;32m     93\u001b[0m             \u001b[0mdata\u001b[0m\u001b[0;34m.\u001b[0m\u001b[0mappend\u001b[0m\u001b[0;34m(\u001b[0m\u001b[0mtemp\u001b[0m\u001b[0;34m)\u001b[0m\u001b[0;34m\u001b[0m\u001b[0;34m\u001b[0m\u001b[0m\n",
      "\u001b[0;32m<__array_function__ internals>\u001b[0m in \u001b[0;36mamax\u001b[0;34m(*args, **kwargs)\u001b[0m\n",
      "\u001b[0;31mKeyboardInterrupt\u001b[0m: "
     ]
    }
   ],
   "source": [
    "random.seed(43)\n",
    "anagram_scores = wordle_scoring(guess_guess_pairs, challenge_words)\n",
    "anagram_scores"
   ]
  },
  {
   "cell_type": "code",
   "execution_count": null,
   "id": "8cf5076d",
   "metadata": {
    "ExecuteTime": {
     "end_time": "2022-03-23T11:27:35.331236Z",
     "start_time": "2022-03-23T11:27:35.331212Z"
    }
   },
   "outputs": [],
   "source": [
    "best_anagram_words = (anagram_scores\n",
    "                      .groupby(by=\"guess_pair\")[[\"sum_correct_letter_pos_score\"]].sum()\n",
    "                      .sort_values(by=\"sum_correct_letter_pos_score\", ascending=False))\n",
    "\n",
    "best_anagram_words.rename(columns={\"sum_correct_letter_pos_score\": \"overall_sum_correct_letter_pos_score\"}, inplace=True)\n",
    "best_anagram_words[:10]"
   ]
  },
  {
   "cell_type": "code",
   "execution_count": null,
   "id": "7b914b01",
   "metadata": {},
   "outputs": [],
   "source": []
  }
 ],
 "metadata": {
  "kernelspec": {
   "display_name": "wordle",
   "language": "python",
   "name": "wordle"
  },
  "language_info": {
   "codemirror_mode": {
    "name": "ipython",
    "version": 3
   },
   "file_extension": ".py",
   "mimetype": "text/x-python",
   "name": "python",
   "nbconvert_exporter": "python",
   "pygments_lexer": "ipython3",
   "version": "3.9.7"
  },
  "toc": {
   "base_numbering": 1,
   "nav_menu": {},
   "number_sections": true,
   "sideBar": true,
   "skip_h1_title": false,
   "title_cell": "Table of Contents",
   "title_sidebar": "Contents",
   "toc_cell": false,
   "toc_position": {},
   "toc_section_display": true,
   "toc_window_display": false
  },
  "varInspector": {
   "cols": {
    "lenName": 16,
    "lenType": 16,
    "lenVar": 40
   },
   "kernels_config": {
    "python": {
     "delete_cmd_postfix": "",
     "delete_cmd_prefix": "del ",
     "library": "var_list.py",
     "varRefreshCmd": "print(var_dic_list())"
    },
    "r": {
     "delete_cmd_postfix": ") ",
     "delete_cmd_prefix": "rm(",
     "library": "var_list.r",
     "varRefreshCmd": "cat(var_dic_list()) "
    }
   },
   "types_to_exclude": [
    "module",
    "function",
    "builtin_function_or_method",
    "instance",
    "_Feature"
   ],
   "window_display": false
  }
 },
 "nbformat": 4,
 "nbformat_minor": 5
}
