{
 "cells": [
  {
   "cell_type": "code",
   "execution_count": 1,
   "id": "a01d26c0",
   "metadata": {
    "ExecuteTime": {
     "end_time": "2022-07-15T10:42:28.663781Z",
     "start_time": "2022-07-15T10:42:26.710583Z"
    }
   },
   "outputs": [],
   "source": [
    "import pandas as pd\n",
    "import numpy as np\n",
    "import sys\n",
    "import os\n",
    "import random\n",
    "from tqdm import tqdm\n",
    "import re\n",
    "import itertools\n",
    "from wordle_helpers import wordle_scoring"
   ]
  },
  {
   "cell_type": "code",
   "execution_count": 2,
   "id": "4260b4ce",
   "metadata": {
    "ExecuteTime": {
     "end_time": "2022-07-15T10:42:31.985574Z",
     "start_time": "2022-07-15T10:42:28.666272Z"
    }
   },
   "outputs": [],
   "source": [
    "col_names =\\\n",
    "    pd.read_csv(\"./data/top_100_freq_used_5_letter_words_vs_webster_dict_all_five_letter_words.csv.gz\", nrows=0).columns\n",
    "types_dict = {\"sum_first_pos_score\": np.int8,\n",
    "              \"sum_second_pos_score\": np.int8,\n",
    "              \"sum_correct_letter_pos_score\": np.int8,}\n",
    "types_dict.update({col: \"string[pyarrow]\" for col in col_names if col not in types_dict})\n",
    "scoring = pd.read_csv(\"./data/top_100_freq_used_5_letter_words_vs_webster_dict_all_five_letter_words.csv.gz\",\n",
    "                      dtype=types_dict,\n",
    "                      engine=\"pyarrow\",\n",
    "                      compression=\"gzip\")"
   ]
  },
  {
   "cell_type": "code",
   "execution_count": 3,
   "id": "477ab167",
   "metadata": {
    "ExecuteTime": {
     "end_time": "2022-07-15T10:42:32.012501Z",
     "start_time": "2022-07-15T10:42:31.988900Z"
    },
    "scrolled": false
   },
   "outputs": [
    {
     "data": {
      "text/html": [
       "<div>\n",
       "<style scoped>\n",
       "    .dataframe tbody tr th:only-of-type {\n",
       "        vertical-align: middle;\n",
       "    }\n",
       "\n",
       "    .dataframe tbody tr th {\n",
       "        vertical-align: top;\n",
       "    }\n",
       "\n",
       "    .dataframe thead th {\n",
       "        text-align: right;\n",
       "    }\n",
       "</style>\n",
       "<table border=\"1\" class=\"dataframe\">\n",
       "  <thead>\n",
       "    <tr style=\"text-align: right;\">\n",
       "      <th></th>\n",
       "      <th>challenge_word</th>\n",
       "      <th>guess_pair</th>\n",
       "      <th>first_guess</th>\n",
       "      <th>second_guess</th>\n",
       "      <th>first_pos_score</th>\n",
       "      <th>second_pos_score</th>\n",
       "      <th>sum_first_pos_score</th>\n",
       "      <th>sum_second_pos_score</th>\n",
       "      <th>correct_letter_pos_score</th>\n",
       "      <th>sum_correct_letter_pos_score</th>\n",
       "    </tr>\n",
       "  </thead>\n",
       "  <tbody>\n",
       "    <tr>\n",
       "      <th>0</th>\n",
       "      <td>ficus</td>\n",
       "      <td>place, tough</td>\n",
       "      <td>place</td>\n",
       "      <td>tough</td>\n",
       "      <td>-1 -1 -1  0 -1</td>\n",
       "      <td>-1 -1  0 -1 -1</td>\n",
       "      <td>-4</td>\n",
       "      <td>-4</td>\n",
       "      <td>-1 -1  0  0 -1</td>\n",
       "      <td>-3</td>\n",
       "    </tr>\n",
       "    <tr>\n",
       "      <th>1</th>\n",
       "      <td>ficus</td>\n",
       "      <td>sound, threw</td>\n",
       "      <td>sound</td>\n",
       "      <td>threw</td>\n",
       "      <td>0 -1  0 -1 -1</td>\n",
       "      <td>-1 -1 -1 -1 -1</td>\n",
       "      <td>-3</td>\n",
       "      <td>-5</td>\n",
       "      <td>0 -1  0 -1 -1</td>\n",
       "      <td>-3</td>\n",
       "    </tr>\n",
       "    <tr>\n",
       "      <th>2</th>\n",
       "      <td>ficus</td>\n",
       "      <td>front, magic</td>\n",
       "      <td>front</td>\n",
       "      <td>magic</td>\n",
       "      <td>1 -1 -1 -1 -1</td>\n",
       "      <td>-1 -1 -1  0  0</td>\n",
       "      <td>-3</td>\n",
       "      <td>-3</td>\n",
       "      <td>1 -1 -1  0  0</td>\n",
       "      <td>-1</td>\n",
       "    </tr>\n",
       "    <tr>\n",
       "      <th>3</th>\n",
       "      <td>ficus</td>\n",
       "      <td>could, agent</td>\n",
       "      <td>could</td>\n",
       "      <td>agent</td>\n",
       "      <td>0 -1  0 -1 -1</td>\n",
       "      <td>-1 -1 -1 -1 -1</td>\n",
       "      <td>-3</td>\n",
       "      <td>-5</td>\n",
       "      <td>0 -1  0 -1 -1</td>\n",
       "      <td>-3</td>\n",
       "    </tr>\n",
       "    <tr>\n",
       "      <th>4</th>\n",
       "      <td>ficus</td>\n",
       "      <td>front, music</td>\n",
       "      <td>front</td>\n",
       "      <td>music</td>\n",
       "      <td>1 -1 -1 -1 -1</td>\n",
       "      <td>-1  0  0  0  0</td>\n",
       "      <td>-3</td>\n",
       "      <td>-1</td>\n",
       "      <td>1 0 0 0 0</td>\n",
       "      <td>1</td>\n",
       "    </tr>\n",
       "  </tbody>\n",
       "</table>\n",
       "</div>"
      ],
      "text/plain": [
       "  challenge_word    guess_pair first_guess second_guess first_pos_score  \\\n",
       "0          ficus  place, tough       place        tough  -1 -1 -1  0 -1   \n",
       "1          ficus  sound, threw       sound        threw   0 -1  0 -1 -1   \n",
       "2          ficus  front, magic       front        magic   1 -1 -1 -1 -1   \n",
       "3          ficus  could, agent       could        agent   0 -1  0 -1 -1   \n",
       "4          ficus  front, music       front        music   1 -1 -1 -1 -1   \n",
       "\n",
       "  second_pos_score  sum_first_pos_score  sum_second_pos_score  \\\n",
       "0   -1 -1  0 -1 -1                   -4                    -4   \n",
       "1   -1 -1 -1 -1 -1                   -3                    -5   \n",
       "2   -1 -1 -1  0  0                   -3                    -3   \n",
       "3   -1 -1 -1 -1 -1                   -3                    -5   \n",
       "4   -1  0  0  0  0                   -3                    -1   \n",
       "\n",
       "  correct_letter_pos_score  sum_correct_letter_pos_score  \n",
       "0           -1 -1  0  0 -1                            -3  \n",
       "1            0 -1  0 -1 -1                            -3  \n",
       "2            1 -1 -1  0  0                            -1  \n",
       "3            0 -1  0 -1 -1                            -3  \n",
       "4                1 0 0 0 0                             1  "
      ]
     },
     "execution_count": 3,
     "metadata": {},
     "output_type": "execute_result"
    }
   ],
   "source": [
    "scoring.head(5)"
   ]
  },
  {
   "cell_type": "code",
   "execution_count": 4,
   "id": "a5231a99",
   "metadata": {
    "ExecuteTime": {
     "end_time": "2022-07-15T10:42:32.023807Z",
     "start_time": "2022-07-15T10:42:32.014728Z"
    }
   },
   "outputs": [
    {
     "name": "stdout",
     "output_type": "stream",
     "text": [
      "<class 'pandas.core.frame.DataFrame'>\n",
      "RangeIndex: 2945472 entries, 0 to 2945471\n",
      "Data columns (total 10 columns):\n",
      " #   Column                        Dtype \n",
      "---  ------                        ----- \n",
      " 0   challenge_word                string\n",
      " 1   guess_pair                    string\n",
      " 2   first_guess                   string\n",
      " 3   second_guess                  string\n",
      " 4   first_pos_score               string\n",
      " 5   second_pos_score              string\n",
      " 6   sum_first_pos_score           int8  \n",
      " 7   sum_second_pos_score          int8  \n",
      " 8   correct_letter_pos_score      string\n",
      " 9   sum_correct_letter_pos_score  int8  \n",
      "dtypes: int8(3), string(7)\n",
      "memory usage: 278.8 MB\n"
     ]
    }
   ],
   "source": [
    "scoring.info(memory_usage=\"deep\")"
   ]
  },
  {
   "cell_type": "markdown",
   "id": "9beb13f6",
   "metadata": {},
   "source": [
    "# best word pair"
   ]
  },
  {
   "cell_type": "markdown",
   "id": "0d46e98c",
   "metadata": {},
   "source": [
    "**The best `word pair` is the one that has the `highest score`**"
   ]
  },
  {
   "cell_type": "code",
   "execution_count": 5,
   "id": "90797eb4",
   "metadata": {
    "ExecuteTime": {
     "end_time": "2022-07-15T10:42:32.210878Z",
     "start_time": "2022-07-15T10:42:32.025927Z"
    }
   },
   "outputs": [
    {
     "data": {
      "text/html": [
       "<div>\n",
       "<style scoped>\n",
       "    .dataframe tbody tr th:only-of-type {\n",
       "        vertical-align: middle;\n",
       "    }\n",
       "\n",
       "    .dataframe tbody tr th {\n",
       "        vertical-align: top;\n",
       "    }\n",
       "\n",
       "    .dataframe thead th {\n",
       "        text-align: right;\n",
       "    }\n",
       "</style>\n",
       "<table border=\"1\" class=\"dataframe\">\n",
       "  <thead>\n",
       "    <tr style=\"text-align: right;\">\n",
       "      <th></th>\n",
       "      <th>overall_sum_correct_letter_pos_score</th>\n",
       "    </tr>\n",
       "    <tr>\n",
       "      <th>guess_pair</th>\n",
       "      <th></th>\n",
       "    </tr>\n",
       "  </thead>\n",
       "  <tbody>\n",
       "    <tr>\n",
       "      <th>close, train</th>\n",
       "      <td>-7655.0</td>\n",
       "    </tr>\n",
       "    <tr>\n",
       "      <th>story, plane</th>\n",
       "      <td>-7828.0</td>\n",
       "    </tr>\n",
       "    <tr>\n",
       "      <th>point, share</th>\n",
       "      <td>-7898.0</td>\n",
       "    </tr>\n",
       "    <tr>\n",
       "      <th>since, party</th>\n",
       "      <td>-8031.0</td>\n",
       "    </tr>\n",
       "    <tr>\n",
       "      <th>share, count</th>\n",
       "      <td>-8051.0</td>\n",
       "    </tr>\n",
       "    <tr>\n",
       "      <th>point, scare</th>\n",
       "      <td>-8057.0</td>\n",
       "    </tr>\n",
       "    <tr>\n",
       "      <th>short, plane</th>\n",
       "      <td>-8209.0</td>\n",
       "    </tr>\n",
       "    <tr>\n",
       "      <th>place, story</th>\n",
       "      <td>-8332.0</td>\n",
       "    </tr>\n",
       "    <tr>\n",
       "      <th>train, chose</th>\n",
       "      <td>-8395.0</td>\n",
       "    </tr>\n",
       "    <tr>\n",
       "      <th>could, share</th>\n",
       "      <td>-8425.0</td>\n",
       "    </tr>\n",
       "  </tbody>\n",
       "</table>\n",
       "</div>"
      ],
      "text/plain": [
       "              overall_sum_correct_letter_pos_score\n",
       "guess_pair                                        \n",
       "close, train                               -7655.0\n",
       "story, plane                               -7828.0\n",
       "point, share                               -7898.0\n",
       "since, party                               -8031.0\n",
       "share, count                               -8051.0\n",
       "point, scare                               -8057.0\n",
       "short, plane                               -8209.0\n",
       "place, story                               -8332.0\n",
       "train, chose                               -8395.0\n",
       "could, share                               -8425.0"
      ]
     },
     "execution_count": 5,
     "metadata": {},
     "output_type": "execute_result"
    }
   ],
   "source": [
    "guess_pair_sum_scores = (scoring\n",
    "                        .groupby(by=\"guess_pair\")[[\"sum_correct_letter_pos_score\"]].sum()\n",
    "                        .sort_values(by=\"sum_correct_letter_pos_score\", ascending=False))\n",
    "\n",
    "guess_pair_sum_scores.rename(columns={\n",
    "    \"sum_correct_letter_pos_score\": \"overall_sum_correct_letter_pos_score\"}, inplace=True)\n",
    "guess_pair_sum_scores[:10]"
   ]
  },
  {
   "cell_type": "code",
   "execution_count": 6,
   "id": "bcdfc07a",
   "metadata": {
    "ExecuteTime": {
     "end_time": "2022-07-15T10:42:32.218939Z",
     "start_time": "2022-07-15T10:42:32.213127Z"
    }
   },
   "outputs": [
    {
     "data": {
      "text/plain": [
       "'close, train'"
      ]
     },
     "execution_count": 6,
     "metadata": {},
     "output_type": "execute_result"
    }
   ],
   "source": [
    "best_guess_pair = guess_pair_sum_scores.idxmax()[0]\n",
    "best_guess_pair"
   ]
  },
  {
   "cell_type": "code",
   "execution_count": 7,
   "id": "4d24f392",
   "metadata": {
    "ExecuteTime": {
     "end_time": "2022-07-15T10:42:32.232099Z",
     "start_time": "2022-07-15T10:42:32.223629Z"
    }
   },
   "outputs": [
    {
     "data": {
      "text/plain": [
       "'might, found'"
      ]
     },
     "execution_count": 7,
     "metadata": {},
     "output_type": "execute_result"
    }
   ],
   "source": [
    "worst_guess_pair = guess_pair_sum_scores.idxmin()[0]\n",
    "worst_guess_pair"
   ]
  },
  {
   "cell_type": "code",
   "execution_count": 8,
   "id": "af1ab7b6",
   "metadata": {
    "ExecuteTime": {
     "end_time": "2022-07-15T10:42:32.296602Z",
     "start_time": "2022-07-15T10:42:32.234454Z"
    }
   },
   "outputs": [
    {
     "data": {
      "text/html": [
       "<div>\n",
       "<style scoped>\n",
       "    .dataframe tbody tr th:only-of-type {\n",
       "        vertical-align: middle;\n",
       "    }\n",
       "\n",
       "    .dataframe tbody tr th {\n",
       "        vertical-align: top;\n",
       "    }\n",
       "\n",
       "    .dataframe thead th {\n",
       "        text-align: right;\n",
       "    }\n",
       "</style>\n",
       "<table border=\"1\" class=\"dataframe\">\n",
       "  <thead>\n",
       "    <tr style=\"text-align: right;\">\n",
       "      <th></th>\n",
       "      <th>challenge_word</th>\n",
       "      <th>guess_pair</th>\n",
       "      <th>first_guess</th>\n",
       "      <th>second_guess</th>\n",
       "      <th>first_pos_score</th>\n",
       "      <th>second_pos_score</th>\n",
       "      <th>sum_first_pos_score</th>\n",
       "      <th>sum_second_pos_score</th>\n",
       "      <th>correct_letter_pos_score</th>\n",
       "      <th>sum_correct_letter_pos_score</th>\n",
       "    </tr>\n",
       "  </thead>\n",
       "  <tbody>\n",
       "    <tr>\n",
       "      <th>419</th>\n",
       "      <td>ficus</td>\n",
       "      <td>close, train</td>\n",
       "      <td>close</td>\n",
       "      <td>train</td>\n",
       "      <td>0 -1 -1  0 -1</td>\n",
       "      <td>-1 -1 -1  0 -1</td>\n",
       "      <td>-3</td>\n",
       "      <td>-4</td>\n",
       "      <td>0 -1 -1  0 -1</td>\n",
       "      <td>-3</td>\n",
       "    </tr>\n",
       "    <tr>\n",
       "      <th>948</th>\n",
       "      <td>budgy</td>\n",
       "      <td>close, train</td>\n",
       "      <td>close</td>\n",
       "      <td>train</td>\n",
       "      <td>-1 -1 -1 -1 -1</td>\n",
       "      <td>-1 -1 -1 -1 -1</td>\n",
       "      <td>-5</td>\n",
       "      <td>-5</td>\n",
       "      <td>-1 -1 -1 -1 -1</td>\n",
       "      <td>-5</td>\n",
       "    </tr>\n",
       "    <tr>\n",
       "      <th>1477</th>\n",
       "      <td>litho</td>\n",
       "      <td>close, train</td>\n",
       "      <td>close</td>\n",
       "      <td>train</td>\n",
       "      <td>-1  0  0 -1 -1</td>\n",
       "      <td>0 -1 -1  0 -1</td>\n",
       "      <td>-3</td>\n",
       "      <td>-3</td>\n",
       "      <td>0  0  0  0 -1</td>\n",
       "      <td>-1</td>\n",
       "    </tr>\n",
       "    <tr>\n",
       "      <th>2006</th>\n",
       "      <td>pence</td>\n",
       "      <td>close, train</td>\n",
       "      <td>close</td>\n",
       "      <td>train</td>\n",
       "      <td>0 -1 -1 -1  1</td>\n",
       "      <td>-1 -1 -1 -1  0</td>\n",
       "      <td>-2</td>\n",
       "      <td>-4</td>\n",
       "      <td>0 -1 -1 -1  1</td>\n",
       "      <td>-2</td>\n",
       "    </tr>\n",
       "    <tr>\n",
       "      <th>2535</th>\n",
       "      <td>loord</td>\n",
       "      <td>close, train</td>\n",
       "      <td>close</td>\n",
       "      <td>train</td>\n",
       "      <td>-1  0  1 -1 -1</td>\n",
       "      <td>-1  0 -1 -1 -1</td>\n",
       "      <td>-2</td>\n",
       "      <td>-4</td>\n",
       "      <td>-1  0  1 -1 -1</td>\n",
       "      <td>-2</td>\n",
       "    </tr>\n",
       "  </tbody>\n",
       "</table>\n",
       "</div>"
      ],
      "text/plain": [
       "     challenge_word    guess_pair first_guess second_guess first_pos_score  \\\n",
       "419           ficus  close, train       close        train   0 -1 -1  0 -1   \n",
       "948           budgy  close, train       close        train  -1 -1 -1 -1 -1   \n",
       "1477          litho  close, train       close        train  -1  0  0 -1 -1   \n",
       "2006          pence  close, train       close        train   0 -1 -1 -1  1   \n",
       "2535          loord  close, train       close        train  -1  0  1 -1 -1   \n",
       "\n",
       "     second_pos_score  sum_first_pos_score  sum_second_pos_score  \\\n",
       "419    -1 -1 -1  0 -1                   -3                    -4   \n",
       "948    -1 -1 -1 -1 -1                   -5                    -5   \n",
       "1477    0 -1 -1  0 -1                   -3                    -3   \n",
       "2006   -1 -1 -1 -1  0                   -2                    -4   \n",
       "2535   -1  0 -1 -1 -1                   -2                    -4   \n",
       "\n",
       "     correct_letter_pos_score  sum_correct_letter_pos_score  \n",
       "419             0 -1 -1  0 -1                            -3  \n",
       "948            -1 -1 -1 -1 -1                            -5  \n",
       "1477            0  0  0  0 -1                            -1  \n",
       "2006            0 -1 -1 -1  1                            -2  \n",
       "2535           -1  0  1 -1 -1                            -2  "
      ]
     },
     "execution_count": 8,
     "metadata": {},
     "output_type": "execute_result"
    }
   ],
   "source": [
    "best_guess_pair_df = \\\n",
    "    (scoring\n",
    "     .loc[scoring[\"guess_pair\"] == guess_pair_sum_scores.idxmax()[0]])\n",
    "best_guess_pair_df.head()"
   ]
  },
  {
   "cell_type": "markdown",
   "id": "f9bfc012",
   "metadata": {},
   "source": [
    "# conclusion  \n",
    "\n",
    "My best 2 word opener is `\"close, train\"`, which coincidentally are anagrams of the ones identified by [3blue1brown](https://www.youtube.com/watch?v=fRed0Xmc2Wg) - timestamp 10:52"
   ]
  },
  {
   "cell_type": "markdown",
   "id": "53bc3250",
   "metadata": {},
   "source": [
    "## anagrams  \n",
    "\n",
    "anagrams of `close, train`:  \n",
    "- `soare, clint`\n",
    "- `slane, troic` (slane - a spade for cutting turf, troic - pertaining to Troy)\n",
    "- `lanes, troic`\n",
    "- `salet, orcin` (salet - a combat helmet, orcin - a colorless substance obtained from certain lichens)\n",
    "- `tales, orcin`\n",
    "- `lates, orcin`\n",
    "- `slate, orcin`\n",
    "- `trace, loins`\n",
    "- `trace, lions`\n",
    "- `crate, lions`\n",
    "- `crate, loins`\n",
    "\n",
    "`arose, clint` maybe more appropriate as `soare` (a young hawk) is rarely used.  \n",
    "\n",
    "additional anagrams:  \n",
    "- `arise, clton`\n",
    "- `raise, clton`\n",
    "\n",
    "the second words in additional anagrams above are the left over letters"
   ]
  }
 ],
 "metadata": {
  "kernelspec": {
   "display_name": "wordle",
   "language": "python",
   "name": "wordle"
  },
  "language_info": {
   "codemirror_mode": {
    "name": "ipython",
    "version": 3
   },
   "file_extension": ".py",
   "mimetype": "text/x-python",
   "name": "python",
   "nbconvert_exporter": "python",
   "pygments_lexer": "ipython3",
   "version": "3.9.7"
  },
  "toc": {
   "base_numbering": 1,
   "nav_menu": {},
   "number_sections": true,
   "sideBar": true,
   "skip_h1_title": false,
   "title_cell": "Table of Contents",
   "title_sidebar": "Contents",
   "toc_cell": false,
   "toc_position": {},
   "toc_section_display": true,
   "toc_window_display": false
  },
  "varInspector": {
   "cols": {
    "lenName": 16,
    "lenType": 16,
    "lenVar": 40
   },
   "kernels_config": {
    "python": {
     "delete_cmd_postfix": "",
     "delete_cmd_prefix": "del ",
     "library": "var_list.py",
     "varRefreshCmd": "print(var_dic_list())"
    },
    "r": {
     "delete_cmd_postfix": ") ",
     "delete_cmd_prefix": "rm(",
     "library": "var_list.r",
     "varRefreshCmd": "cat(var_dic_list()) "
    }
   },
   "types_to_exclude": [
    "module",
    "function",
    "builtin_function_or_method",
    "instance",
    "_Feature"
   ],
   "window_display": false
  }
 },
 "nbformat": 4,
 "nbformat_minor": 5
}
