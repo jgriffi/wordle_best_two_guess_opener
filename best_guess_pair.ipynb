{
 "cells": [
  {
   "cell_type": "code",
   "execution_count": 1,
   "id": "a01d26c0",
   "metadata": {
    "ExecuteTime": {
     "end_time": "2022-07-19T23:50:50.881942Z",
     "start_time": "2022-07-19T23:50:50.313991Z"
    }
   },
   "outputs": [],
   "source": [
    "import pandas as pd\n",
    "import numpy as np\n",
    "import sys\n",
    "import os\n",
    "import random\n",
    "from tqdm import tqdm\n",
    "import re\n",
    "import itertools\n",
    "from wordle_helpers import wordle_scoring"
   ]
  },
  {
   "cell_type": "code",
   "execution_count": 2,
   "id": "4260b4ce",
   "metadata": {
    "ExecuteTime": {
     "end_time": "2022-07-19T23:50:57.513207Z",
     "start_time": "2022-07-19T23:50:55.419021Z"
    }
   },
   "outputs": [],
   "source": [
    "col_names =\\\n",
    "    pd.read_csv(\"./data/top_100_freq_used_5_letter_words_vs_webster_dict_all_five_letter_words.csv.gz\", nrows=0).columns\n",
    "types_dict = {\"sum_first_pos_score\": np.int8,\n",
    "              \"sum_second_pos_score\": np.int8,\n",
    "              \"sum_correct_letter_pos_score\": np.int8,}\n",
    "types_dict.update({col: \"string[pyarrow]\" for col in col_names if col not in types_dict})\n",
    "scoring = pd.read_csv(\"./data/top_100_freq_used_5_letter_words_vs_webster_dict_all_five_letter_words.csv.gz\",\n",
    "                      dtype=types_dict,\n",
    "                      engine=\"pyarrow\",\n",
    "                      compression=\"gzip\")"
   ]
  },
  {
   "cell_type": "code",
   "execution_count": 3,
   "id": "477ab167",
   "metadata": {
    "ExecuteTime": {
     "end_time": "2022-07-19T23:51:06.555078Z",
     "start_time": "2022-07-19T23:51:06.531944Z"
    },
    "scrolled": false
   },
   "outputs": [
    {
     "data": {
      "text/html": [
       "<div>\n",
       "<style scoped>\n",
       "    .dataframe tbody tr th:only-of-type {\n",
       "        vertical-align: middle;\n",
       "    }\n",
       "\n",
       "    .dataframe tbody tr th {\n",
       "        vertical-align: top;\n",
       "    }\n",
       "\n",
       "    .dataframe thead th {\n",
       "        text-align: right;\n",
       "    }\n",
       "</style>\n",
       "<table border=\"1\" class=\"dataframe\">\n",
       "  <thead>\n",
       "    <tr style=\"text-align: right;\">\n",
       "      <th></th>\n",
       "      <th>challenge_word</th>\n",
       "      <th>guess_pair</th>\n",
       "      <th>first_guess</th>\n",
       "      <th>second_guess</th>\n",
       "      <th>first_pos_score</th>\n",
       "      <th>second_pos_score</th>\n",
       "      <th>sum_first_pos_score</th>\n",
       "      <th>sum_second_pos_score</th>\n",
       "      <th>correct_letter_pos_score</th>\n",
       "      <th>sum_correct_letter_pos_score</th>\n",
       "    </tr>\n",
       "  </thead>\n",
       "  <tbody>\n",
       "    <tr>\n",
       "      <th>0</th>\n",
       "      <td>proof</td>\n",
       "      <td>money, faith</td>\n",
       "      <td>money</td>\n",
       "      <td>faith</td>\n",
       "      <td>-1  0 -1 -1 -1</td>\n",
       "      <td>0 -1 -1 -1 -1</td>\n",
       "      <td>-4</td>\n",
       "      <td>-4</td>\n",
       "      <td>0  0 -1 -1 -1</td>\n",
       "      <td>-3</td>\n",
       "    </tr>\n",
       "    <tr>\n",
       "      <th>1</th>\n",
       "      <td>proof</td>\n",
       "      <td>found, steal</td>\n",
       "      <td>found</td>\n",
       "      <td>steal</td>\n",
       "      <td>0  0 -1 -1 -1</td>\n",
       "      <td>-1 -1 -1 -1 -1</td>\n",
       "      <td>-3</td>\n",
       "      <td>-5</td>\n",
       "      <td>0  0 -1 -1 -1</td>\n",
       "      <td>-3</td>\n",
       "    </tr>\n",
       "    <tr>\n",
       "      <th>2</th>\n",
       "      <td>proof</td>\n",
       "      <td>first, place</td>\n",
       "      <td>first</td>\n",
       "      <td>place</td>\n",
       "      <td>0 -1  0 -1 -1</td>\n",
       "      <td>1 -1 -1 -1 -1</td>\n",
       "      <td>-3</td>\n",
       "      <td>-3</td>\n",
       "      <td>1 -1  0 -1 -1</td>\n",
       "      <td>-2</td>\n",
       "    </tr>\n",
       "    <tr>\n",
       "      <th>3</th>\n",
       "      <td>proof</td>\n",
       "      <td>music, often</td>\n",
       "      <td>music</td>\n",
       "      <td>often</td>\n",
       "      <td>-1 -1 -1 -1 -1</td>\n",
       "      <td>0  0 -1 -1 -1</td>\n",
       "      <td>-5</td>\n",
       "      <td>-3</td>\n",
       "      <td>0  0 -1 -1 -1</td>\n",
       "      <td>-3</td>\n",
       "    </tr>\n",
       "    <tr>\n",
       "      <th>4</th>\n",
       "      <td>proof</td>\n",
       "      <td>women, study</td>\n",
       "      <td>women</td>\n",
       "      <td>study</td>\n",
       "      <td>-1  0 -1 -1 -1</td>\n",
       "      <td>-1 -1 -1 -1 -1</td>\n",
       "      <td>-4</td>\n",
       "      <td>-5</td>\n",
       "      <td>-1  0 -1 -1 -1</td>\n",
       "      <td>-4</td>\n",
       "    </tr>\n",
       "  </tbody>\n",
       "</table>\n",
       "</div>"
      ],
      "text/plain": [
       "  challenge_word    guess_pair first_guess second_guess first_pos_score  \\\n",
       "0          proof  money, faith       money        faith  -1  0 -1 -1 -1   \n",
       "1          proof  found, steal       found        steal   0  0 -1 -1 -1   \n",
       "2          proof  first, place       first        place   0 -1  0 -1 -1   \n",
       "3          proof  music, often       music        often  -1 -1 -1 -1 -1   \n",
       "4          proof  women, study       women        study  -1  0 -1 -1 -1   \n",
       "\n",
       "  second_pos_score  sum_first_pos_score  sum_second_pos_score  \\\n",
       "0    0 -1 -1 -1 -1                   -4                    -4   \n",
       "1   -1 -1 -1 -1 -1                   -3                    -5   \n",
       "2    1 -1 -1 -1 -1                   -3                    -3   \n",
       "3    0  0 -1 -1 -1                   -5                    -3   \n",
       "4   -1 -1 -1 -1 -1                   -4                    -5   \n",
       "\n",
       "  correct_letter_pos_score  sum_correct_letter_pos_score  \n",
       "0            0  0 -1 -1 -1                            -3  \n",
       "1            0  0 -1 -1 -1                            -3  \n",
       "2            1 -1  0 -1 -1                            -2  \n",
       "3            0  0 -1 -1 -1                            -3  \n",
       "4           -1  0 -1 -1 -1                            -4  "
      ]
     },
     "execution_count": 3,
     "metadata": {},
     "output_type": "execute_result"
    }
   ],
   "source": [
    "scoring.head(5)"
   ]
  },
  {
   "cell_type": "code",
   "execution_count": 4,
   "id": "a5231a99",
   "metadata": {
    "ExecuteTime": {
     "end_time": "2022-07-19T23:51:09.041316Z",
     "start_time": "2022-07-19T23:51:08.976246Z"
    }
   },
   "outputs": [
    {
     "name": "stdout",
     "output_type": "stream",
     "text": [
      "<class 'pandas.core.frame.DataFrame'>\n",
      "RangeIndex: 1679782 entries, 0 to 1679781\n",
      "Data columns (total 10 columns):\n",
      " #   Column                        Non-Null Count    Dtype \n",
      "---  ------                        --------------    ----- \n",
      " 0   challenge_word                1679782 non-null  string\n",
      " 1   guess_pair                    1679782 non-null  string\n",
      " 2   first_guess                   1679782 non-null  string\n",
      " 3   second_guess                  1679782 non-null  string\n",
      " 4   first_pos_score               1679782 non-null  string\n",
      " 5   second_pos_score              1679782 non-null  string\n",
      " 6   sum_first_pos_score           1679782 non-null  int8  \n",
      " 7   sum_second_pos_score          1679782 non-null  int8  \n",
      " 8   correct_letter_pos_score      1679782 non-null  string\n",
      " 9   sum_correct_letter_pos_score  1679782 non-null  int8  \n",
      "dtypes: int8(3), string(7)\n",
      "memory usage: 158.7 MB\n"
     ]
    }
   ],
   "source": [
    "scoring.info(memory_usage=\"deep\")"
   ]
  },
  {
   "cell_type": "markdown",
   "id": "9beb13f6",
   "metadata": {},
   "source": [
    "# best word pair"
   ]
  },
  {
   "cell_type": "markdown",
   "id": "0d46e98c",
   "metadata": {},
   "source": [
    "**The best `word pair` is the one that has the `highest score`**"
   ]
  },
  {
   "cell_type": "code",
   "execution_count": 5,
   "id": "90797eb4",
   "metadata": {
    "ExecuteTime": {
     "end_time": "2022-07-19T23:51:23.647807Z",
     "start_time": "2022-07-19T23:51:23.520636Z"
    }
   },
   "outputs": [
    {
     "data": {
      "text/html": [
       "<div>\n",
       "<style scoped>\n",
       "    .dataframe tbody tr th:only-of-type {\n",
       "        vertical-align: middle;\n",
       "    }\n",
       "\n",
       "    .dataframe tbody tr th {\n",
       "        vertical-align: top;\n",
       "    }\n",
       "\n",
       "    .dataframe thead th {\n",
       "        text-align: right;\n",
       "    }\n",
       "</style>\n",
       "<table border=\"1\" class=\"dataframe\">\n",
       "  <thead>\n",
       "    <tr style=\"text-align: right;\">\n",
       "      <th></th>\n",
       "      <th>overall_sum_correct_letter_pos_score</th>\n",
       "    </tr>\n",
       "    <tr>\n",
       "      <th>guess_pair</th>\n",
       "      <th></th>\n",
       "    </tr>\n",
       "  </thead>\n",
       "  <tbody>\n",
       "    <tr>\n",
       "      <th>store, claim</th>\n",
       "      <td>-2964.0</td>\n",
       "    </tr>\n",
       "    <tr>\n",
       "      <th>point, share</th>\n",
       "      <td>-2972.0</td>\n",
       "    </tr>\n",
       "    <tr>\n",
       "      <th>point, scare</th>\n",
       "      <td>-3000.0</td>\n",
       "    </tr>\n",
       "    <tr>\n",
       "      <th>close, train</th>\n",
       "      <td>-3025.0</td>\n",
       "    </tr>\n",
       "    <tr>\n",
       "      <th>story, plane</th>\n",
       "      <td>-3036.0</td>\n",
       "    </tr>\n",
       "    <tr>\n",
       "      <th>share, count</th>\n",
       "      <td>-3117.0</td>\n",
       "    </tr>\n",
       "    <tr>\n",
       "      <th>short, plane</th>\n",
       "      <td>-3117.0</td>\n",
       "    </tr>\n",
       "    <tr>\n",
       "      <th>since, party</th>\n",
       "      <td>-3132.0</td>\n",
       "    </tr>\n",
       "    <tr>\n",
       "      <th>count, spare</th>\n",
       "      <td>-3157.0</td>\n",
       "    </tr>\n",
       "    <tr>\n",
       "      <th>place, story</th>\n",
       "      <td>-3187.0</td>\n",
       "    </tr>\n",
       "  </tbody>\n",
       "</table>\n",
       "</div>"
      ],
      "text/plain": [
       "              overall_sum_correct_letter_pos_score\n",
       "guess_pair                                        \n",
       "store, claim                               -2964.0\n",
       "point, share                               -2972.0\n",
       "point, scare                               -3000.0\n",
       "close, train                               -3025.0\n",
       "story, plane                               -3036.0\n",
       "share, count                               -3117.0\n",
       "short, plane                               -3117.0\n",
       "since, party                               -3132.0\n",
       "count, spare                               -3157.0\n",
       "place, story                               -3187.0"
      ]
     },
     "execution_count": 5,
     "metadata": {},
     "output_type": "execute_result"
    }
   ],
   "source": [
    "guess_pair_sum_scores = (scoring\n",
    "                        .groupby(by=\"guess_pair\")[[\"sum_correct_letter_pos_score\"]].sum()\n",
    "                        .sort_values(by=\"sum_correct_letter_pos_score\", ascending=False))\n",
    "\n",
    "guess_pair_sum_scores.rename(columns={\n",
    "    \"sum_correct_letter_pos_score\": \"overall_sum_correct_letter_pos_score\"}, inplace=True)\n",
    "guess_pair_sum_scores[:10]"
   ]
  },
  {
   "cell_type": "code",
   "execution_count": 6,
   "id": "bcdfc07a",
   "metadata": {
    "ExecuteTime": {
     "end_time": "2022-07-19T23:51:40.999758Z",
     "start_time": "2022-07-19T23:51:40.992490Z"
    }
   },
   "outputs": [
    {
     "data": {
      "text/plain": [
       "'store, claim'"
      ]
     },
     "execution_count": 6,
     "metadata": {},
     "output_type": "execute_result"
    }
   ],
   "source": [
    "best_guess_pair = guess_pair_sum_scores.idxmax()[0]\n",
    "best_guess_pair"
   ]
  },
  {
   "cell_type": "code",
   "execution_count": 7,
   "id": "4d24f392",
   "metadata": {
    "ExecuteTime": {
     "end_time": "2022-07-19T23:51:43.685035Z",
     "start_time": "2022-07-19T23:51:43.679269Z"
    }
   },
   "outputs": [
    {
     "data": {
      "text/plain": [
       "'would, fight'"
      ]
     },
     "execution_count": 7,
     "metadata": {},
     "output_type": "execute_result"
    }
   ],
   "source": [
    "worst_guess_pair = guess_pair_sum_scores.idxmin()[0]\n",
    "worst_guess_pair"
   ]
  },
  {
   "cell_type": "code",
   "execution_count": 8,
   "id": "af1ab7b6",
   "metadata": {
    "ExecuteTime": {
     "end_time": "2022-07-19T23:51:45.038039Z",
     "start_time": "2022-07-19T23:51:44.992041Z"
    }
   },
   "outputs": [
    {
     "data": {
      "text/html": [
       "<div>\n",
       "<style scoped>\n",
       "    .dataframe tbody tr th:only-of-type {\n",
       "        vertical-align: middle;\n",
       "    }\n",
       "\n",
       "    .dataframe tbody tr th {\n",
       "        vertical-align: top;\n",
       "    }\n",
       "\n",
       "    .dataframe thead th {\n",
       "        text-align: right;\n",
       "    }\n",
       "</style>\n",
       "<table border=\"1\" class=\"dataframe\">\n",
       "  <thead>\n",
       "    <tr style=\"text-align: right;\">\n",
       "      <th></th>\n",
       "      <th>challenge_word</th>\n",
       "      <th>guess_pair</th>\n",
       "      <th>first_guess</th>\n",
       "      <th>second_guess</th>\n",
       "      <th>first_pos_score</th>\n",
       "      <th>second_pos_score</th>\n",
       "      <th>sum_first_pos_score</th>\n",
       "      <th>sum_second_pos_score</th>\n",
       "      <th>correct_letter_pos_score</th>\n",
       "      <th>sum_correct_letter_pos_score</th>\n",
       "    </tr>\n",
       "  </thead>\n",
       "  <tbody>\n",
       "    <tr>\n",
       "      <th>213</th>\n",
       "      <td>proof</td>\n",
       "      <td>store, claim</td>\n",
       "      <td>store</td>\n",
       "      <td>claim</td>\n",
       "      <td>-1 -1  1  0 -1</td>\n",
       "      <td>-1 -1 -1 -1 -1</td>\n",
       "      <td>-2</td>\n",
       "      <td>-5</td>\n",
       "      <td>-1 -1  1  0 -1</td>\n",
       "      <td>-2</td>\n",
       "    </tr>\n",
       "    <tr>\n",
       "      <th>811</th>\n",
       "      <td>world</td>\n",
       "      <td>store, claim</td>\n",
       "      <td>store</td>\n",
       "      <td>claim</td>\n",
       "      <td>-1 -1  0  0 -1</td>\n",
       "      <td>-1  0 -1 -1 -1</td>\n",
       "      <td>-3</td>\n",
       "      <td>-4</td>\n",
       "      <td>-1  0  0  0 -1</td>\n",
       "      <td>-2</td>\n",
       "    </tr>\n",
       "    <tr>\n",
       "      <th>1409</th>\n",
       "      <td>sloop</td>\n",
       "      <td>store, claim</td>\n",
       "      <td>store</td>\n",
       "      <td>claim</td>\n",
       "      <td>1 -1  1 -1 -1</td>\n",
       "      <td>-1  1 -1 -1 -1</td>\n",
       "      <td>-1</td>\n",
       "      <td>-3</td>\n",
       "      <td>1  1  1 -1 -1</td>\n",
       "      <td>1</td>\n",
       "    </tr>\n",
       "    <tr>\n",
       "      <th>2007</th>\n",
       "      <td>meter</td>\n",
       "      <td>store, claim</td>\n",
       "      <td>store</td>\n",
       "      <td>claim</td>\n",
       "      <td>-1  0 -1  0  0</td>\n",
       "      <td>-1 -1 -1 -1  0</td>\n",
       "      <td>-2</td>\n",
       "      <td>-4</td>\n",
       "      <td>-1  0 -1  0  0</td>\n",
       "      <td>-2</td>\n",
       "    </tr>\n",
       "    <tr>\n",
       "      <th>2605</th>\n",
       "      <td>fogie</td>\n",
       "      <td>store, claim</td>\n",
       "      <td>store</td>\n",
       "      <td>claim</td>\n",
       "      <td>-1 -1  0 -1  1</td>\n",
       "      <td>-1 -1 -1  1 -1</td>\n",
       "      <td>-2</td>\n",
       "      <td>-3</td>\n",
       "      <td>-1 -1  0  1  1</td>\n",
       "      <td>0</td>\n",
       "    </tr>\n",
       "  </tbody>\n",
       "</table>\n",
       "</div>"
      ],
      "text/plain": [
       "     challenge_word    guess_pair first_guess second_guess first_pos_score  \\\n",
       "213           proof  store, claim       store        claim  -1 -1  1  0 -1   \n",
       "811           world  store, claim       store        claim  -1 -1  0  0 -1   \n",
       "1409          sloop  store, claim       store        claim   1 -1  1 -1 -1   \n",
       "2007          meter  store, claim       store        claim  -1  0 -1  0  0   \n",
       "2605          fogie  store, claim       store        claim  -1 -1  0 -1  1   \n",
       "\n",
       "     second_pos_score  sum_first_pos_score  sum_second_pos_score  \\\n",
       "213    -1 -1 -1 -1 -1                   -2                    -5   \n",
       "811    -1  0 -1 -1 -1                   -3                    -4   \n",
       "1409   -1  1 -1 -1 -1                   -1                    -3   \n",
       "2007   -1 -1 -1 -1  0                   -2                    -4   \n",
       "2605   -1 -1 -1  1 -1                   -2                    -3   \n",
       "\n",
       "     correct_letter_pos_score  sum_correct_letter_pos_score  \n",
       "213            -1 -1  1  0 -1                            -2  \n",
       "811            -1  0  0  0 -1                            -2  \n",
       "1409            1  1  1 -1 -1                             1  \n",
       "2007           -1  0 -1  0  0                            -2  \n",
       "2605           -1 -1  0  1  1                             0  "
      ]
     },
     "execution_count": 8,
     "metadata": {},
     "output_type": "execute_result"
    }
   ],
   "source": [
    "best_guess_pair_df = \\\n",
    "    (scoring\n",
    "     .loc[scoring[\"guess_pair\"] == guess_pair_sum_scores.idxmax()[0]])\n",
    "best_guess_pair_df.head()"
   ]
  },
  {
   "cell_type": "markdown",
   "id": "f9bfc012",
   "metadata": {},
   "source": [
    "# conclusion  \n",
    "\n",
    "My best 2 word opener is `\"store, claim\"`"
   ]
  },
  {
   "cell_type": "code",
   "execution_count": null,
   "id": "07aef6a4",
   "metadata": {},
   "outputs": [],
   "source": []
  }
 ],
 "metadata": {
  "kernelspec": {
   "display_name": "wordle",
   "language": "python",
   "name": "wordle"
  },
  "language_info": {
   "codemirror_mode": {
    "name": "ipython",
    "version": 3
   },
   "file_extension": ".py",
   "mimetype": "text/x-python",
   "name": "python",
   "nbconvert_exporter": "python",
   "pygments_lexer": "ipython3",
   "version": "3.9.7"
  },
  "toc": {
   "base_numbering": 1,
   "nav_menu": {},
   "number_sections": true,
   "sideBar": true,
   "skip_h1_title": false,
   "title_cell": "Table of Contents",
   "title_sidebar": "Contents",
   "toc_cell": false,
   "toc_position": {},
   "toc_section_display": true,
   "toc_window_display": false
  },
  "varInspector": {
   "cols": {
    "lenName": 16,
    "lenType": 16,
    "lenVar": 40
   },
   "kernels_config": {
    "python": {
     "delete_cmd_postfix": "",
     "delete_cmd_prefix": "del ",
     "library": "var_list.py",
     "varRefreshCmd": "print(var_dic_list())"
    },
    "r": {
     "delete_cmd_postfix": ") ",
     "delete_cmd_prefix": "rm(",
     "library": "var_list.r",
     "varRefreshCmd": "cat(var_dic_list()) "
    }
   },
   "types_to_exclude": [
    "module",
    "function",
    "builtin_function_or_method",
    "instance",
    "_Feature"
   ],
   "window_display": false
  }
 },
 "nbformat": 4,
 "nbformat_minor": 5
}
