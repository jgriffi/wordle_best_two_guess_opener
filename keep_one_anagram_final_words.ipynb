{
 "cells": [
  {
   "cell_type": "code",
   "execution_count": 1,
   "id": "5d30fa99",
   "metadata": {
    "ExecuteTime": {
     "end_time": "2022-07-17T13:28:12.124452Z",
     "start_time": "2022-07-17T13:28:10.210417Z"
    }
   },
   "outputs": [],
   "source": [
    "import json\n",
    "import urllib.request\n",
    "import pandas as pd\n",
    "import re\n",
    "import random\n",
    "import string\n",
    "from spellchecker import SpellChecker\n",
    "import numpy as np\n",
    "from wordle_helpers import (\n",
    "    words_with_commonly_used_letters,\n",
    "    words_starting_with_commonly_used_letters,\n",
    "    sorted_words_by_frequency,\n",
    "    anagram_pairs,\n",
    "    anagram_word_frequency,\n",
    "    anagram_to_keep\n",
    ")\n",
    "\n",
    "import os\n",
    "# where to save the data\n",
    "ROOT_DIR = \".\"\n",
    "FOLDER_NAME = \"data\"\n",
    "PATH_TO_FOLDER = os.path.join(ROOT_DIR, FOLDER_NAME)\n",
    "os.makedirs(PATH_TO_FOLDER, exist_ok=True)"
   ]
  },
  {
   "cell_type": "markdown",
   "id": "1308f840",
   "metadata": {},
   "source": [
    "# Load data  \n",
    "\n",
    "I'll be using the Webster's Unabridged English Dictionary as my source of English words, helpfully curated [here](https://github.com/adambom/dictionary)."
   ]
  },
  {
   "cell_type": "code",
   "execution_count": 2,
   "id": "d6a0a4b2",
   "metadata": {
    "ExecuteTime": {
     "end_time": "2022-07-17T13:28:13.085876Z",
     "start_time": "2022-07-17T13:28:12.126762Z"
    }
   },
   "outputs": [],
   "source": [
    "with urllib.request.urlopen(\"https://raw.githubusercontent.com/adambom/dictionary/master/dictionary.json\") as url:\n",
    "    data = json.load(url)\n",
    "    \n",
    "words = set([word.lower() for word in re.findall(r\"[a-z]+\", \" \".join(list(data)), flags=re.IGNORECASE)])"
   ]
  },
  {
   "cell_type": "code",
   "execution_count": 3,
   "id": "497a1557",
   "metadata": {
    "ExecuteTime": {
     "end_time": "2022-07-17T13:28:13.104121Z",
     "start_time": "2022-07-17T13:28:13.089158Z"
    }
   },
   "outputs": [
    {
     "data": {
      "text/plain": [
       "['godly',\n",
       " 'paris',\n",
       " 'populicide',\n",
       " 'dermatoid',\n",
       " 'anthracitic',\n",
       " 'priestcraft',\n",
       " 'motation',\n",
       " 'pulmonated',\n",
       " 'surfacer',\n",
       " 'skyman']"
      ]
     },
     "execution_count": 3,
     "metadata": {},
     "output_type": "execute_result"
    }
   ],
   "source": [
    "list(words)[:10]"
   ]
  },
  {
   "cell_type": "code",
   "execution_count": 4,
   "id": "6013a982",
   "metadata": {
    "ExecuteTime": {
     "end_time": "2022-07-17T13:28:13.111067Z",
     "start_time": "2022-07-17T13:28:13.106620Z"
    }
   },
   "outputs": [
    {
     "data": {
      "text/plain": [
       "82702"
      ]
     },
     "execution_count": 4,
     "metadata": {},
     "output_type": "execute_result"
    }
   ],
   "source": [
    "len(words)"
   ]
  },
  {
   "cell_type": "markdown",
   "id": "2cf42e2c",
   "metadata": {},
   "source": [
    "# Select words "
   ]
  },
  {
   "cell_type": "code",
   "execution_count": 5,
   "id": "c8a427e6",
   "metadata": {
    "ExecuteTime": {
     "end_time": "2022-07-17T13:28:13.333485Z",
     "start_time": "2022-07-17T13:28:13.113401Z"
    }
   },
   "outputs": [
    {
     "name": "stdout",
     "output_type": "stream",
     "text": [
      "['paris', 'populicide', 'anthracitic', 'priestcraft', 'motation', 'pulmonated', 'surfacer', 'sanctified', 'cuneal', 'chronography']"
     ]
    }
   ],
   "source": [
    "new_words_list = words_starting_with_commonly_used_letters(words_with_commonly_used_letters(words))\n",
    "print(new_words_list[:10], end=\"\")"
   ]
  },
  {
   "cell_type": "code",
   "execution_count": 6,
   "id": "db6b2490",
   "metadata": {
    "ExecuteTime": {
     "end_time": "2022-07-17T13:28:13.349557Z",
     "start_time": "2022-07-17T13:28:13.335632Z"
    }
   },
   "outputs": [],
   "source": [
    "def select_words(words_list, length_of_words=None):\n",
    "    if length_of_words:\n",
    "        return [word for word in words_list\n",
    "                for length in length_of_words\n",
    "                if len(word) == length]\n",
    "    return list(words_list)\n",
    "\n",
    "five_letter_words = select_words(new_words_list, length_of_words=[5])"
   ]
  },
  {
   "cell_type": "code",
   "execution_count": 7,
   "id": "3f1f8989",
   "metadata": {
    "ExecuteTime": {
     "end_time": "2022-07-17T13:28:13.355908Z",
     "start_time": "2022-07-17T13:28:13.351692Z"
    }
   },
   "outputs": [
    {
     "name": "stdout",
     "output_type": "stream",
     "text": [
      "['paris', 'patio', 'tosto', 'tasco', 'stood', 'iodal', 'cadge', 'stulp', 'acerb', 'tenon']"
     ]
    }
   ],
   "source": [
    "print(five_letter_words[:10], end=\"\")"
   ]
  },
  {
   "cell_type": "code",
   "execution_count": 8,
   "id": "8a6ee1aa",
   "metadata": {
    "ExecuteTime": {
     "end_time": "2022-07-17T13:28:13.364495Z",
     "start_time": "2022-07-17T13:28:13.359125Z"
    }
   },
   "outputs": [
    {
     "data": {
      "text/plain": [
       "2809"
      ]
     },
     "execution_count": 8,
     "metadata": {},
     "output_type": "execute_result"
    }
   ],
   "source": [
    "len(five_letter_words)"
   ]
  },
  {
   "cell_type": "markdown",
   "id": "bd24eb74",
   "metadata": {},
   "source": [
    "## no repeat letter in 5 letter words  \n",
    "\n",
    "So as to not waste letter guesses, we'll only select words with no repeat letters"
   ]
  },
  {
   "cell_type": "code",
   "execution_count": 9,
   "id": "3e333e21",
   "metadata": {
    "ExecuteTime": {
     "end_time": "2022-07-17T13:28:13.380394Z",
     "start_time": "2022-07-17T13:28:13.374969Z"
    }
   },
   "outputs": [
    {
     "name": "stdout",
     "output_type": "stream",
     "text": [
      "['paris', 'patio', 'tasco', 'iodal', 'cadge', 'stulp', 'acerb', 'slent', 'sowar', 'moted']"
     ]
    }
   ],
   "source": [
    "no_repeat_letter_five_letter_words = [word for word in five_letter_words if len(set(word)) == 5]\n",
    "print(no_repeat_letter_five_letter_words[:10], end=\"\")"
   ]
  },
  {
   "cell_type": "code",
   "execution_count": 10,
   "id": "ed8e3951",
   "metadata": {
    "ExecuteTime": {
     "end_time": "2022-07-17T13:28:13.387810Z",
     "start_time": "2022-07-17T13:28:13.382719Z"
    }
   },
   "outputs": [
    {
     "data": {
      "text/plain": [
       "1823"
      ]
     },
     "execution_count": 10,
     "metadata": {},
     "output_type": "execute_result"
    }
   ],
   "source": [
    "len(no_repeat_letter_five_letter_words)"
   ]
  },
  {
   "cell_type": "markdown",
   "id": "a0bc4d7d",
   "metadata": {},
   "source": [
    "## Anagrams"
   ]
  },
  {
   "cell_type": "code",
   "execution_count": 11,
   "id": "2d405c98",
   "metadata": {
    "ExecuteTime": {
     "end_time": "2022-07-17T13:28:14.439268Z",
     "start_time": "2022-07-17T13:28:13.390120Z"
    }
   },
   "outputs": [],
   "source": [
    "# credit - https://twitter.com/mathsppblog/status/1547493884384710656?t=lWTpT5wZ3izeYRnNy9dc8g&s=03\n",
    "\n",
    "def get_anagrams(words_list):\n",
    "    \"\"\"\n",
    "    Returns a dict of word and anagrams. Anagrams are only for words with\n",
    "    no repeat letters.\n",
    "    \"\"\"\n",
    "    signatures = [sorted(word) for word in words_list]\n",
    "\n",
    "    word_anagrams = {}\n",
    "    #  iterate over signatures\n",
    "    for signature in signatures:\n",
    "        # get first word with this signature\n",
    "        key_word = None\n",
    "        for word in words_list:\n",
    "            if sorted(word) == signature:\n",
    "                key_word = word\n",
    "                break\n",
    "                \n",
    "        anagram_matches = [word for sig, word in zip(signatures, words_list)\n",
    "                           if sig == signature]\n",
    "        word_anagrams[key_word] = [\", \".join(anagram_matches)]\n",
    "    return word_anagrams\n",
    "    \n",
    "anagrams_five_letter_words_no_repeat_letters = get_anagrams(no_repeat_letter_five_letter_words)"
   ]
  },
  {
   "cell_type": "code",
   "execution_count": 12,
   "id": "6130d533",
   "metadata": {
    "ExecuteTime": {
     "end_time": "2022-07-17T13:28:14.489769Z",
     "start_time": "2022-07-17T13:28:14.440948Z"
    }
   },
   "outputs": [
    {
     "data": {
      "text/plain": [
       "{'paris': ['paris'],\n",
       " 'patio': ['patio'],\n",
       " 'tasco': ['tasco, costa, catso, scoat, coast'],\n",
       " 'iodal': ['iodal'],\n",
       " 'cadge': ['cadge, caged'],\n",
       " 'stulp': ['stulp'],\n",
       " 'acerb': ['acerb, caber'],\n",
       " 'slent': ['slent'],\n",
       " 'sowar': ['sowar'],\n",
       " 'moted': ['moted'],\n",
       " 'atimy': ['atimy, amity'],\n",
       " 'impel': ['impel'],\n",
       " 'shire': ['shire'],\n",
       " 'flint': ['flint'],\n",
       " 'thurl': ['thurl'],\n",
       " 'punto': ['punto'],\n",
       " 'pyrus': ['pyrus, pursy'],\n",
       " 'since': ['since'],\n",
       " 'coral': ['coral, claro, carol'],\n",
       " 'sayer': ['sayer'],\n",
       " 'sharp': ['sharp'],\n",
       " 'smilt': ['smilt'],\n",
       " 'calid': ['calid'],\n",
       " 'metry': ['metry'],\n",
       " 'tsung': ['tsung, stung'],\n",
       " 'prest': ['prest'],\n",
       " 'odist': ['odist'],\n",
       " 'cubit': ['cubit'],\n",
       " 'citer': ['citer, trice'],\n",
       " 'scare': ['scare, sacre, serac, crase, carse'],\n",
       " 'witan': ['witan, twain'],\n",
       " 'ombre': ['ombre'],\n",
       " 'canoe': ['canoe, ocean'],\n",
       " 'arefy': ['arefy, faery, freya'],\n",
       " 'comet': ['comet'],\n",
       " 'facto': ['facto'],\n",
       " 'cadis': ['cadis'],\n",
       " 'stail': ['stail'],\n",
       " 'flong': ['flong'],\n",
       " 'flown': ['flown'],\n",
       " 'shail': ['shail, alish'],\n",
       " 'sperm': ['sperm'],\n",
       " 'torch': ['torch'],\n",
       " 'padge': ['padge'],\n",
       " 'aught': ['aught'],\n",
       " 'pucel': ['pucel, cupel, culpe, pecul'],\n",
       " 'telic': ['telic'],\n",
       " 'stamp': ['stamp'],\n",
       " 'picea': ['picea'],\n",
       " 'anile': ['anile, alien, aline'],\n",
       " 'wishy': ['wishy'],\n",
       " 'cupid': ['cupid, pudic'],\n",
       " 'piles': ['piles, spile'],\n",
       " 'store': ['store, torse'],\n",
       " 'purim': ['purim'],\n",
       " 'thrid': ['thrid, third'],\n",
       " 'fader': ['fader'],\n",
       " 'crash': ['crash'],\n",
       " 'aesir': ['aesir, serai, aries, arise'],\n",
       " 'scrip': ['scrip, crisp'],\n",
       " 'chime': ['chime'],\n",
       " 'shern': ['shern'],\n",
       " 'tofus': ['tofus'],\n",
       " 'close': ['close, scole'],\n",
       " 'twang': ['twang'],\n",
       " 'merit': ['merit, mitre, timer'],\n",
       " 'cider': ['cider, cried'],\n",
       " 'mothy': ['mothy'],\n",
       " 'flour': ['flour, fluor'],\n",
       " 'seton': ['seton, stone'],\n",
       " 'crept': ['crept'],\n",
       " 'chafe': ['chafe'],\n",
       " 'churn': ['churn'],\n",
       " 'tripe': ['tripe'],\n",
       " 'wiery': ['wiery'],\n",
       " 'cedry': ['cedry, cyder'],\n",
       " 'amish': ['amish'],\n",
       " 'mashy': ['mashy'],\n",
       " 'shrug': ['shrug'],\n",
       " 'organ': ['organ, orang, angor, argon'],\n",
       " 'twire': ['twire'],\n",
       " 'poser': ['poser, spore, prose'],\n",
       " 'corbe': ['corbe'],\n",
       " 'wring': ['wring'],\n",
       " 'adrip': ['adrip'],\n",
       " 'pheon': ['pheon, phone'],\n",
       " 'sleid': ['sleid, slide, sidle'],\n",
       " 'pudgy': ['pudgy'],\n",
       " 'chyme': ['chyme'],\n",
       " 'faugh': ['faugh'],\n",
       " 'munch': ['munch'],\n",
       " 'shape': ['shape, phase'],\n",
       " 'putry': ['putry'],\n",
       " 'macer': ['macer, cream'],\n",
       " 'craft': ['craft, fract'],\n",
       " 'flite': ['flite'],\n",
       " 'tinea': ['tinea, tenia'],\n",
       " 'flesh': ['flesh, shelf'],\n",
       " 'weigh': ['weigh'],\n",
       " 'adown': ['adown'],\n",
       " 'therf': ['therf'],\n",
       " 'plate': ['plate, pleat, tepal, palet, petal, pelta'],\n",
       " 'sober': ['sober'],\n",
       " 'proin': ['proin, orpin'],\n",
       " 'solar': ['solar'],\n",
       " 'mesad': ['mesad'],\n",
       " 'chimb': ['chimb'],\n",
       " 'marsh': ['marsh, shram'],\n",
       " 'spurt': ['spurt'],\n",
       " 'selah': ['selah, sheal, shale'],\n",
       " 'shout': ['shout, south'],\n",
       " 'angel': ['angel, angle'],\n",
       " 'meshy': ['meshy'],\n",
       " 'shiel': ['shiel'],\n",
       " 'pelma': ['pelma, ample, maple'],\n",
       " 'scrit': ['scrit'],\n",
       " 'sward': ['sward, wards'],\n",
       " 'mogul': ['mogul'],\n",
       " 'spurn': ['spurn'],\n",
       " 'froth': ['froth, forth'],\n",
       " 'wisly': ['wisly'],\n",
       " 'paleo': ['paleo'],\n",
       " 'soyle': ['soyle'],\n",
       " 'throb': ['throb'],\n",
       " 'chest': ['chest'],\n",
       " 'corda': ['corda'],\n",
       " 'chear': ['chear, chare'],\n",
       " 'coypu': ['coypu'],\n",
       " 'armet': ['armet, terma, mater, tamer'],\n",
       " 'picts': ['picts'],\n",
       " 'felis': ['felis'],\n",
       " 'thirl': ['thirl'],\n",
       " 'shown': ['shown'],\n",
       " 'teind': ['teind, tined'],\n",
       " 'chufa': ['chufa'],\n",
       " 'fagot': ['fagot'],\n",
       " 'phial': ['phial'],\n",
       " 'corps': ['corps'],\n",
       " 'folwe': ['folwe'],\n",
       " 'ostic': ['ostic, sciot'],\n",
       " 'wrain': ['wrain'],\n",
       " 'ferny': ['ferny'],\n",
       " 'sicer': ['sicer, scire'],\n",
       " 'whole': ['whole'],\n",
       " 'frise': ['frise'],\n",
       " 'menow': ['menow, women'],\n",
       " 'fomes': ['fomes'],\n",
       " 'paise': ['paise, sepia'],\n",
       " 'outre': ['outre, outer'],\n",
       " 'strow': ['strow, worst'],\n",
       " 'imbar': ['imbar'],\n",
       " 'coupe': ['coupe'],\n",
       " 'manly': ['manly'],\n",
       " 'swerd': ['swerd'],\n",
       " 'chuet': ['chuet, chute'],\n",
       " 'infra': ['infra'],\n",
       " 'inter': ['inter, trine, terin'],\n",
       " 'fuage': ['fuage'],\n",
       " 'stulm': ['stulm'],\n",
       " 'wilne': ['wilne'],\n",
       " 'wages': ['wages, swage'],\n",
       " 'moray': ['moray, mayor'],\n",
       " 'trone': ['trone, tenor'],\n",
       " 'poach': ['poach, phoca'],\n",
       " 'frape': ['frape'],\n",
       " 'malic': ['malic, claim'],\n",
       " 'sowce': ['sowce'],\n",
       " 'snape': ['snape, aspen, spane, sneap'],\n",
       " 'petro': ['petro, tepor, porte, toper'],\n",
       " 'scrid': ['scrid'],\n",
       " 'wharp': ['wharp'],\n",
       " 'pocan': ['pocan, capon'],\n",
       " 'tarsi': ['tarsi, astir, tisar, arist, stria, trias'],\n",
       " 'pungy': ['pungy'],\n",
       " 'parse': ['parse, asper, spear, prase, spare'],\n",
       " 'water': ['water, tawer'],\n",
       " 'aloft': ['aloft, flota, float'],\n",
       " 'caned': ['caned'],\n",
       " 'witch': ['witch'],\n",
       " 'moder': ['moder'],\n",
       " 'prise': ['prise, speir, spire'],\n",
       " 'strap': ['strap, traps'],\n",
       " 'pluto': ['pluto, poult'],\n",
       " 'sport': ['sport, strop, ports'],\n",
       " 'simon': ['simon, minos'],\n",
       " 'spial': ['spial'],\n",
       " 'owher': ['owher, whore'],\n",
       " 'pigmy': ['pigmy'],\n",
       " 'panim': ['panim'],\n",
       " 'while': ['while'],\n",
       " 'plaid': ['plaid'],\n",
       " 'shalt': ['shalt'],\n",
       " 'thraw': ['thraw, wrath'],\n",
       " 'train': ['train, tarin, trina, tairn, intra'],\n",
       " 'soily': ['soily'],\n",
       " 'ceryl': ['ceryl'],\n",
       " 'monte': ['monte'],\n",
       " 'prism': ['prism'],\n",
       " 'orcin': ['orcin'],\n",
       " 'swine': ['swine, sewin, sinew'],\n",
       " 'wince': ['wince'],\n",
       " 'musal': ['musal'],\n",
       " 'almry': ['almry, marly'],\n",
       " 'plage': ['plage'],\n",
       " 'albus': ['albus'],\n",
       " 'octyl': ['octyl'],\n",
       " 'astun': ['astun, suant'],\n",
       " 'chine': ['chine'],\n",
       " 'pilau': ['pilau'],\n",
       " 'cornu': ['cornu'],\n",
       " 'slope': ['slope'],\n",
       " 'saint': ['saint, satin, stain, antis, stian'],\n",
       " 'foray': ['foray'],\n",
       " 'myops': ['myops'],\n",
       " 'throw': ['throw, whort, wroth, worth'],\n",
       " 'mucro': ['mucro, mucor'],\n",
       " 'istle': ['istle, islet, stile'],\n",
       " 'pygal': ['pygal'],\n",
       " 'chore': ['chore, ochre'],\n",
       " 'plyer': ['plyer'],\n",
       " 'whisp': ['whisp'],\n",
       " 'cosen': ['cosen, scone'],\n",
       " 'pugil': ['pugil'],\n",
       " 'sebat': ['sebat, tabes'],\n",
       " 'alert': ['alert, alter'],\n",
       " 'tabid': ['tabid'],\n",
       " 'thuya': ['thuya'],\n",
       " 'frush': ['frush'],\n",
       " 'moire': ['moire'],\n",
       " 'thrum': ['thrum, murth'],\n",
       " 'taber': ['taber'],\n",
       " 'alife': ['alife'],\n",
       " 'seynd': ['seynd'],\n",
       " 'shade': ['shade'],\n",
       " 'tough': ['tough, ought'],\n",
       " 'ochry': ['ochry'],\n",
       " 'stagy': ['stagy'],\n",
       " 'argol': ['argol, orgal, algor'],\n",
       " 'abort': ['abort, tabor'],\n",
       " 'wigan': ['wigan, awing'],\n",
       " 'codle': ['codle'],\n",
       " 'plied': ['plied, piled'],\n",
       " 'shone': ['shone'],\n",
       " 'prowl': ['prowl'],\n",
       " 'paeon': ['paeon'],\n",
       " 'poley': ['poley'],\n",
       " 'artow': ['artow'],\n",
       " 'cosey': ['cosey'],\n",
       " 'piler': ['piler, peril'],\n",
       " 'toned': ['toned'],\n",
       " 'feral': ['feral, flare, flear'],\n",
       " 'pishu': ['pishu'],\n",
       " 'shame': ['shame'],\n",
       " 'fumid': ['fumid'],\n",
       " 'swamp': ['swamp'],\n",
       " 'tuber': ['tuber'],\n",
       " 'alder': ['alder'],\n",
       " 'merou': ['merou'],\n",
       " 'maybe': ['maybe'],\n",
       " 'crems': ['crems'],\n",
       " 'truce': ['truce, cruet'],\n",
       " 'finew': ['finew'],\n",
       " 'solan': ['solan, salon'],\n",
       " 'conia': ['conia'],\n",
       " 'sable': ['sable, saleb'],\n",
       " 'crest': ['crest'],\n",
       " 'cnida': ['cnida'],\n",
       " 'parol': ['parol, polar'],\n",
       " 'peart': ['peart, trape, prate, apert, parte, petar, taper'],\n",
       " 'tyger': ['tyger'],\n",
       " 'apish': ['apish, aphis'],\n",
       " 'perdy': ['perdy, predy'],\n",
       " 'psalm': ['psalm, plasm'],\n",
       " 'afoul': ['afoul'],\n",
       " 'sapor': ['sapor, psora, sopra, sarpo'],\n",
       " 'clote': ['clote'],\n",
       " 'flamy': ['flamy'],\n",
       " 'sapid': ['sapid, spaid'],\n",
       " 'tiler': ['tiler'],\n",
       " 'curio': ['curio'],\n",
       " 'wader': ['wader'],\n",
       " 'tupai': ['tupai'],\n",
       " 'frost': ['frost'],\n",
       " 'cibol': ['cibol'],\n",
       " 'craps': ['craps, scarp, scrap'],\n",
       " 'sepoy': ['sepoy'],\n",
       " 'crush': ['crush'],\n",
       " 'slept': ['slept, spelt'],\n",
       " 'abhor': ['abhor'],\n",
       " 'tried': ['tried, tride, tired'],\n",
       " 'pryan': ['pryan'],\n",
       " 'inure': ['inure'],\n",
       " 'sucre': ['sucre, curse'],\n",
       " 'snite': ['snite, inset, stein, seint'],\n",
       " 'techy': ['techy'],\n",
       " 'mosey': ['mosey'],\n",
       " 'tyler': ['tyler'],\n",
       " 'smeir': ['smeir'],\n",
       " 'turbo': ['turbo'],\n",
       " 'focal': ['focal'],\n",
       " 'agnus': ['agnus'],\n",
       " 'feuar': ['feuar'],\n",
       " 'ament': ['ament, meant'],\n",
       " 'punty': ['punty'],\n",
       " 'musar': ['musar, sarum'],\n",
       " 'shude': ['shude'],\n",
       " 'stupa': ['stupa'],\n",
       " 'wheat': ['wheat'],\n",
       " 'manis': ['manis, mains'],\n",
       " 'sloat': ['sloat, stola'],\n",
       " 'orbit': ['orbit'],\n",
       " 'stond': ['stond'],\n",
       " 'smift': ['smift'],\n",
       " 'pilch': ['pilch'],\n",
       " 'ponty': ['ponty'],\n",
       " 'cloth': ['cloth'],\n",
       " 'flyer': ['flyer, ferly'],\n",
       " 'pulas': ['pulas, palus'],\n",
       " 'mulct': ['mulct'],\n",
       " 'swift': ['swift'],\n",
       " 'sigla': ['sigla'],\n",
       " 'pried': ['pried, pride'],\n",
       " 'scrog': ['scrog'],\n",
       " 'tamul': ['tamul'],\n",
       " 'magic': ['magic'],\n",
       " 'audit': ['audit'],\n",
       " 'pshaw': ['pshaw'],\n",
       " 'mudir': ['mudir'],\n",
       " 'scate': ['scate, caste, cates'],\n",
       " 'piste': ['piste, septi'],\n",
       " 'agush': ['agush'],\n",
       " 'maori': ['maori, moria, moira'],\n",
       " 'moule': ['moule'],\n",
       " 'flung': ['flung'],\n",
       " 'strip': ['strip, spirt, sprit, stirp'],\n",
       " 'frist': ['frist, first'],\n",
       " 'champ': ['champ'],\n",
       " 'shorn': ['shorn'],\n",
       " 'shoer': ['shoer, shore'],\n",
       " 'seigh': ['seigh'],\n",
       " 'focus': ['focus'],\n",
       " 'amend': ['amend, maned'],\n",
       " 'slice': ['slice, sicle'],\n",
       " 'stean': ['stean, stane'],\n",
       " 'owner': ['owner'],\n",
       " 'inlaw': ['inlaw'],\n",
       " 'anury': ['anury'],\n",
       " 'snare': ['snare'],\n",
       " 'sprew': ['sprew'],\n",
       " 'ordal': ['ordal'],\n",
       " 'sorel': ['sorel'],\n",
       " 'chode': ['chode'],\n",
       " 'trend': ['trend'],\n",
       " 'modal': ['modal'],\n",
       " 'spilt': ['spilt, split'],\n",
       " 'cryal': ['cryal, clary'],\n",
       " 'copse': ['copse, scope'],\n",
       " 'slime': ['slime, misle'],\n",
       " 'cleft': ['cleft'],\n",
       " 'musci': ['musci, music'],\n",
       " 'peach': ['peach, cheap'],\n",
       " 'closh': ['closh'],\n",
       " 'saily': ['saily'],\n",
       " 'style': ['style'],\n",
       " 'surge': ['surge'],\n",
       " 'troic': ['troic'],\n",
       " 'scray': ['scray, scary'],\n",
       " 'pansy': ['pansy'],\n",
       " 'medal': ['medal'],\n",
       " 'steam': ['steam'],\n",
       " 'sargo': ['sargo'],\n",
       " 'misly': ['misly, slimy'],\n",
       " 'curly': ['curly'],\n",
       " 'fitly': ['fitly'],\n",
       " 'fitch': ['fitch'],\n",
       " 'algin': ['algin, align'],\n",
       " 'farse': ['farse'],\n",
       " 'comer': ['comer'],\n",
       " 'tucan': ['tucan'],\n",
       " 'meach': ['meach, mache'],\n",
       " 'aglow': ['aglow'],\n",
       " 'whine': ['whine'],\n",
       " 'shode': ['shode'],\n",
       " 'fulbe': ['fulbe'],\n",
       " 'finer': ['finer'],\n",
       " 'crapy': ['crapy'],\n",
       " 'crowd': ['crowd'],\n",
       " 'slant': ['slant'],\n",
       " 'inapt': ['inapt'],\n",
       " 'tudor': ['tudor'],\n",
       " 'seity': ['seity'],\n",
       " 'clair': ['clair, crail'],\n",
       " 'palsy': ['palsy, splay'],\n",
       " 'paien': ['paien'],\n",
       " 'typal': ['typal, platy, aptly, patly'],\n",
       " 'alure': ['alure'],\n",
       " 'sowne': ['sowne'],\n",
       " 'tromp': ['tromp'],\n",
       " 'clamp': ['clamp'],\n",
       " 'smith': ['smith'],\n",
       " 'aider': ['aider, irade'],\n",
       " 'cheng': ['cheng'],\n",
       " 'ingle': ['ingle'],\n",
       " 'flews': ['flews'],\n",
       " 'amice': ['amice'],\n",
       " 'credo': ['credo'],\n",
       " 'ceria': ['ceria, craie'],\n",
       " 'odeum': ['odeum'],\n",
       " 'anigh': ['anigh'],\n",
       " 'penta': ['penta, paten'],\n",
       " 'cited': ['cited'],\n",
       " 'moste': ['moste, smote'],\n",
       " 'moble': ['moble'],\n",
       " 'spend': ['spend'],\n",
       " 'miaul': ['miaul'],\n",
       " 'cader': ['cader, acred, cadre, cedar'],\n",
       " 'paste': ['paste, spate'],\n",
       " 'curat': ['curat'],\n",
       " 'crimp': ['crimp'],\n",
       " 'fresh': ['fresh'],\n",
       " 'pouly': ['pouly'],\n",
       " 'melon': ['melon'],\n",
       " 'chord': ['chord'],\n",
       " 'siren': ['siren, serin'],\n",
       " 'frons': ['frons'],\n",
       " 'adorn': ['adorn'],\n",
       " 'subah': ['subah'],\n",
       " 'argot': ['argot'],\n",
       " 'sheol': ['sheol, shole'],\n",
       " 'metal': ['metal, malet'],\n",
       " 'podgy': ['podgy'],\n",
       " 'porch': ['porch'],\n",
       " 'ihram': ['ihram'],\n",
       " 'penis': ['penis, spine, snipe'],\n",
       " 'starn': ['starn, trans'],\n",
       " 'putid': ['putid'],\n",
       " 'trash': ['trash'],\n",
       " 'fetal': ['fetal, alfet'],\n",
       " 'copsy': ['copsy'],\n",
       " 'acton': ['acton, canto, tonca'],\n",
       " 'comes': ['comes'],\n",
       " 'crudy': ['crudy, curdy'],\n",
       " 'count': ['count'],\n",
       " 'souce': ['souce'],\n",
       " 'capri': ['capri, picra'],\n",
       " 'pomel': ['pomel'],\n",
       " 'afire': ['afire, faire, feria'],\n",
       " 'pisay': ['pisay'],\n",
       " 'score': ['score'],\n",
       " 'waney': ['waney'],\n",
       " 'sepic': ['sepic'],\n",
       " 'acrid': ['acrid, caird'],\n",
       " 'whity': ['whity, withy'],\n",
       " 'tonic': ['tonic'],\n",
       " 'manul': ['manul'],\n",
       " 'swale': ['swale, sweal'],\n",
       " 'sight': ['sight'],\n",
       " 'sough': ['sough'],\n",
       " 'moric': ['moric, micro'],\n",
       " 'spiry': ['spiry'],\n",
       " 'surah': ['surah'],\n",
       " 'pieno': ['pieno, opine'],\n",
       " 'sedan': ['sedan'],\n",
       " 'purse': ['purse, super, sprue'],\n",
       " 'claps': ['claps, clasp, scalp'],\n",
       " 'scrub': ['scrub'],\n",
       " 'clowe': ['clowe'],\n",
       " 'minor': ['minor, morin'],\n",
       " 'torus': ['torus, stour, sutor'],\n",
       " 'chirp': ['chirp'],\n",
       " 'frote': ['frote, forte, fetor, ofter'],\n",
       " 'synod': ['synod'],\n",
       " 'mouse': ['mouse'],\n",
       " 'pause': ['pause'],\n",
       " 'shilf': ['shilf'],\n",
       " 'cordy': ['cordy'],\n",
       " 'orbed': ['orbed'],\n",
       " 'abode': ['abode, adobe'],\n",
       " 'pured': ['pured, perdu, prude'],\n",
       " 'chose': ['chose'],\n",
       " 'incog': ['incog, coign'],\n",
       " 'amole': ['amole, maleo'],\n",
       " 'swarf': ['swarf'],\n",
       " 'inmew': ['inmew'],\n",
       " 'manid': ['manid'],\n",
       " 'itchy': ['itchy'],\n",
       " 'flora': ['flora'],\n",
       " 'pubic': ['pubic'],\n",
       " 'swang': ['swang'],\n",
       " 'stern': ['stern'],\n",
       " 'trawl': ['trawl'],\n",
       " 'waist': ['waist'],\n",
       " 'moche': ['moche'],\n",
       " 'amigo': ['amigo, imago'],\n",
       " 'wiper': ['wiper'],\n",
       " 'posit': ['posit'],\n",
       " 'sedum': ['sedum'],\n",
       " 'fetid': ['fetid'],\n",
       " 'crypt': ['crypt'],\n",
       " 'shaft': ['shaft'],\n",
       " 'table': ['table'],\n",
       " 'suine': ['suine, insue'],\n",
       " 'thumb': ['thumb'],\n",
       " 'sword': ['sword'],\n",
       " 'panic': ['panic'],\n",
       " 'aubin': ['aubin'],\n",
       " 'along': ['along, anglo'],\n",
       " 'spiny': ['spiny, snipy'],\n",
       " 'crust': ['crust, curst'],\n",
       " 'soupe': ['soupe'],\n",
       " 'mahdi': ['mahdi'],\n",
       " 'soger': ['soger'],\n",
       " 'franc': ['franc'],\n",
       " 'thing': ['thing'],\n",
       " 'amuse': ['amuse'],\n",
       " 'starf': ['starf'],\n",
       " 'clift': ['clift'],\n",
       " 'could': ['could, cloud'],\n",
       " 'sloth': ['sloth'],\n",
       " 'mucid': ['mucid'],\n",
       " 'pains': ['pains, spina'],\n",
       " 'pearl': ['pearl, parle'],\n",
       " 'chaun': ['chaun'],\n",
       " 'topau': ['topau'],\n",
       " 'saith': ['saith'],\n",
       " 'adore': ['adore, oread'],\n",
       " 'suade': ['suade'],\n",
       " 'chyle': ['chyle, chely'],\n",
       " 'swirl': ['swirl'],\n",
       " 'armed': ['armed'],\n",
       " 'indol': ['indol'],\n",
       " 'funis': ['funis'],\n",
       " 'temps': ['temps'],\n",
       " 'cargo': ['cargo'],\n",
       " 'toady': ['toady'],\n",
       " 'sound': ['sound'],\n",
       " 'cuish': ['cuish'],\n",
       " 'posed': ['posed'],\n",
       " 'tales': ['tales, steal, satle, stela, stale, astel, slate'],\n",
       " 'plead': ['plead, padle, pedal'],\n",
       " 'finch': ['finch'],\n",
       " 'auget': ['auget'],\n",
       " 'croud': ['croud'],\n",
       " 'swipe': ['swipe'],\n",
       " 'segar': ['segar'],\n",
       " 'whale': ['whale, wheal'],\n",
       " 'felon': ['felon'],\n",
       " 'shrew': ['shrew'],\n",
       " 'mahoe': ['mahoe'],\n",
       " 'owler': ['owler'],\n",
       " 'algum': ['algum'],\n",
       " 'teach': ['teach, tache, cheat'],\n",
       " 'churl': ['churl'],\n",
       " 'sythe': ['sythe'],\n",
       " 'sutra': ['sutra'],\n",
       " 'sling': ['sling'],\n",
       " 'archi': ['archi, chair'],\n",
       " 'moate': ['moate'],\n",
       " 'slung': ['slung'],\n",
       " 'pance': ['pance, pecan'],\n",
       " 'tourn': ['tourn'],\n",
       " 'scold': ['scold'],\n",
       " 'sower': ['sower, worse, sorwe, swore'],\n",
       " 'fruit': ['fruit'],\n",
       " 'forty': ['forty'],\n",
       " 'culpa': ['culpa'],\n",
       " 'flipe': ['flipe'],\n",
       " 'siroc': ['siroc, crois'],\n",
       " 'flame': ['flame, fleam'],\n",
       " 'funic': ['funic'],\n",
       " 'climb': ['climb'],\n",
       " 'mower': ['mower, morwe'],\n",
       " 'supra': ['supra'],\n",
       " 'picot': ['picot, topic'],\n",
       " 'scale': ['scale'],\n",
       " 'stope': ['stope'],\n",
       " 'manor': ['manor'],\n",
       " 'clong': ['clong'],\n",
       " 'white': ['white, withe'],\n",
       " 'trays': ['trays, stray, satyr'],\n",
       " 'sinch': ['sinch'],\n",
       " 'perca': ['perca, crape, caper, pacer'],\n",
       " 'plain': ['plain'],\n",
       " 'melic': ['melic, clime'],\n",
       " 'meaty': ['meaty'],\n",
       " 'flang': ['flang'],\n",
       " 'owlet': ['owlet, towel'],\n",
       " 'algid': ['algid'],\n",
       " 'chant': ['chant'],\n",
       " 'astro': ['astro, tarso'],\n",
       " 'wanly': ['wanly'],\n",
       " 'ounce': ['ounce'],\n",
       " 'sothe': ['sothe, those, shote'],\n",
       " 'clear': ['clear, clare'],\n",
       " 'tinge': ['tinge'],\n",
       " 'incle': ['incle'],\n",
       " 'snarl': ['snarl'],\n",
       " 'cameo': ['cameo'],\n",
       " 'spied': ['spied'],\n",
       " 'ogham': ['ogham'],\n",
       " 'sodic': ['sodic'],\n",
       " 'after': ['after'],\n",
       " 'flute': ['flute'],\n",
       " 'fonge': ['fonge'],\n",
       " 'plane': ['plane, panel, alpen, penal'],\n",
       " 'manic': ['manic'],\n",
       " 'payen': ['payen'],\n",
       " 'tweag': ['tweag'],\n",
       " 'potch': ['potch'],\n",
       " 'capot': ['capot'],\n",
       " 'plesh': ['plesh'],\n",
       " 'merus': ['merus, muser, serum'],\n",
       " 'crout': ['crout, court'],\n",
       " 'sigma': ['sigma'],\n",
       " 'swate': ['swate, sweat, waste'],\n",
       " 'scoth': ['scoth'],\n",
       " 'funge': ['funge'],\n",
       " 'mouth': ['mouth'],\n",
       " 'sprad': ['sprad'],\n",
       " 'clump': ['clump'],\n",
       " 'sludy': ['sludy'],\n",
       " 'cerps': ['cerps'],\n",
       " 'trica': ['trica'],\n",
       " 'slaty': ['slaty, salty'],\n",
       " 'shear': ['shear, share'],\n",
       " 'scath': ['scath, chast'],\n",
       " 'mercy': ['mercy'],\n",
       " 'their': ['their'],\n",
       " 'shrow': ['shrow'],\n",
       " 'spewy': ['spewy'],\n",
       " 'piney': ['piney'],\n",
       " 'wound': ['wound'],\n",
       " 'fogie': ['fogie'],\n",
       " 'suing': ['suing'],\n",
       " 'thewy': ['thewy, wythe'],\n",
       " 'fluid': ['fluid'],\n",
       " 'incus': ['incus'],\n",
       " 'suite': ['suite'],\n",
       " 'metic': ['metic'],\n",
       " 'slowh': ['slowh'],\n",
       " 'imbay': ['imbay'],\n",
       " 'odmyl': ['odmyl'],\n",
       " 'shrub': ['shrub'],\n",
       " 'march': ['march'],\n",
       " 'suint': ['suint, inust'],\n",
       " 'plein': ['plein'],\n",
       " 'cagot': ['cagot'],\n",
       " 'tempo': ['tempo'],\n",
       " 'phyma': ['phyma'],\n",
       " 'oleic': ['oleic'],\n",
       " 'aloin': ['aloin, anoil'],\n",
       " 'throp': ['throp'],\n",
       " 'oriel': ['oriel'],\n",
       " 'sworn': ['sworn'],\n",
       " 'croys': ['croys'],\n",
       " 'match': ['match'],\n",
       " 'poler': ['poler'],\n",
       " 'sibyl': ['sibyl'],\n",
       " 'sherd': ['sherd'],\n",
       " 'auric': ['auric, curia'],\n",
       " 'maneh': ['maneh'],\n",
       " 'stylo': ['stylo'],\n",
       " 'imbed': ['imbed'],\n",
       " 'chips': ['chips'],\n",
       " 'crown': ['crown'],\n",
       " 'agrom': ['agrom'],\n",
       " 'amour': ['amour'],\n",
       " 'flirt': ['flirt'],\n",
       " 'farce': ['farce'],\n",
       " 'cobra': ['cobra, carob'],\n",
       " 'afore': ['afore'],\n",
       " 'amber': ['amber'],\n",
       " 'scurf': ['scurf'],\n",
       " 'wesil': ['wesil'],\n",
       " 'timed': ['timed'],\n",
       " 'thyme': ['thyme, mythe'],\n",
       " 'choir': ['choir, ichor'],\n",
       " 'farcy': ['farcy'],\n",
       " 'carib': ['carib'],\n",
       " 'onely': ['onely'],\n",
       " 'ficus': ['ficus'],\n",
       " 'aport': ['aport'],\n",
       " 'abysm': ['abysm'],\n",
       " 'clart': ['clart'],\n",
       " 'sagum': ['sagum'],\n",
       " 'muset': ['muset'],\n",
       " 'flags': ['flags'],\n",
       " 'mason': ['mason, monas'],\n",
       " 'talon': ['talon'],\n",
       " 'ousel': ['ousel'],\n",
       " 'taled': ['taled'],\n",
       " 'somne': ['somne, meson'],\n",
       " 'twirl': ['twirl'],\n",
       " 'intro': ['intro'],\n",
       " 'mesal': ['mesal'],\n",
       " 'tilde': ['tilde'],\n",
       " 'sambo': ['sambo'],\n",
       " 'calmy': ['calmy'],\n",
       " 'ahold': ['ahold'],\n",
       " 'conge': ['conge'],\n",
       " 'fight': ['fight'],\n",
       " 'shwan': ['shwan'],\n",
       " 'opium': ['opium'],\n",
       " 'shalm': ['shalm'],\n",
       " 'craig': ['craig, cigar'],\n",
       " 'alose': ['alose, aloes'],\n",
       " 'other': ['other, throe'],\n",
       " 'slang': ['slang'],\n",
       " 'fiche': ['fiche, chief'],\n",
       " 'spado': ['spado'],\n",
       " 'canty': ['canty'],\n",
       " 'stomp': ['stomp'],\n",
       " 'pinus': ['pinus'],\n",
       " 'slaie': ['slaie'],\n",
       " 'fancy': ['fancy'],\n",
       " 'shewn': ['shewn'],\n",
       " 'aphid': ['aphid'],\n",
       " 'salue': ['salue'],\n",
       " 'cling': ['cling'],\n",
       " 'mancy': ['mancy'],\n",
       " 'shift': ['shift'],\n",
       " 'morse': ['morse, mores, smore, meros'],\n",
       " 'shoat': ['shoat'],\n",
       " 'anito': ['anito, ation'],\n",
       " 'moile': ['moile'],\n",
       " 'cadgy': ['cadgy'],\n",
       " 'woald': ['woald'],\n",
       " 'spary': ['spary'],\n",
       " 'ingot': ['ingot'],\n",
       " 'wited': ['wited'],\n",
       " 'stime': ['stime, smite, setim'],\n",
       " 'sabre': ['sabre'],\n",
       " 'mound': ['mound'],\n",
       " 'stare': ['stare, aster, arest, tarse'],\n",
       " 'ileus': ['ileus'],\n",
       " 'tepid': ['tepid'],\n",
       " 'tawny': ['tawny, wanty'],\n",
       " 'iowas': ['iowas'],\n",
       " 'cetyl': ['cetyl'],\n",
       " 'midst': ['midst'],\n",
       " 'walty': ['walty'],\n",
       " 'thegn': ['thegn'],\n",
       " 'topsy': ['topsy'],\n",
       " 'pubis': ['pubis'],\n",
       " 'washy': ['washy'],\n",
       " 'abler': ['abler'],\n",
       " 'pubes': ['pubes'],\n",
       " 'arose': ['arose, seora'],\n",
       " 'ictus': ['ictus, cutis'],\n",
       " 'spawl': ['spawl'],\n",
       " 'phane': ['phane'],\n",
       " 'staid': ['staid'],\n",
       " 'whipt': ['whipt'],\n",
       " 'sugar': ['sugar, argus'],\n",
       " 'agend': ['agend'],\n",
       " 'plash': ['plash'],\n",
       " 'tardy': ['tardy'],\n",
       " 'fogey': ['fogey'],\n",
       " 'shine': ['shine'],\n",
       " 'tousy': ['tousy'],\n",
       " 'tapis': ['tapis'],\n",
       " 'sahib': ['sahib'],\n",
       " 'suage': ['suage'],\n",
       " 'sudra': ['sudra'],\n",
       " 'winch': ['winch'],\n",
       " 'pusil': ['pusil'],\n",
       " 'salic': ['salic'],\n",
       " 'modes': ['modes'],\n",
       " 'scraw': ['scraw'],\n",
       " 'purge': ['purge'],\n",
       " 'albyn': ['albyn'],\n",
       " 'warye': ['warye, weary'],\n",
       " 'irons': ['irons'],\n",
       " 'findy': ['findy'],\n",
       " 'stroy': ['stroy, story'],\n",
       " 'fault': ['fault'],\n",
       " 'faced': ['faced'],\n",
       " 'spale': ['spale, salep, slape, sepal'],\n",
       " 'wench': ['wench'],\n",
       " 'wends': ['wends'],\n",
       " 'tugan': ['tugan'],\n",
       " 'toise': ['toise'],\n",
       " 'crane': ['crane'],\n",
       " 'smolt': ['smolt'],\n",
       " 'sware': ['sware, swear, sawer, wares'],\n",
       " 'womby': ['womby'],\n",
       " 'mohur': ['mohur'],\n",
       " 'welsh': ['welsh'],\n",
       " 'point': ['point, pinto'],\n",
       " 'couth': ['couth, touch, chout'],\n",
       " 'mensa': ['mensa, manes'],\n",
       " 'agone': ['agone'],\n",
       " 'spica': ['spica, aspic'],\n",
       " 'payor': ['payor'],\n",
       " 'whaup': ['whaup'],\n",
       " 'ogler': ['ogler'],\n",
       " 'tiers': ['tiers'],\n",
       " 'swich': ['swich'],\n",
       " 'pachy': ['pachy'],\n",
       " 'manie': ['manie, amine, maine, anime'],\n",
       " 'prong': ['prong'],\n",
       " 'agrin': ['agrin'],\n",
       " 'sault': ['sault, talus'],\n",
       " 'cleat': ['cleat, catel'],\n",
       " 'tamil': ['tamil, timal'],\n",
       " 'styca': ['styca'],\n",
       " 'fluey': ['fluey'],\n",
       " 'clung': ['clung'],\n",
       " 'myope': ['myope, pomey'],\n",
       " 'styan': ['styan, tansy'],\n",
       " 'alogy': ['alogy'],\n",
       " 'targe': ['targe'],\n",
       " 'scern': ['scern'],\n",
       " 'forel': ['forel'],\n",
       " 'fidge': ['fidge'],\n",
       " 'toman': ['toman, manto'],\n",
       " 'shrag': ['shrag'],\n",
       " 'fumet': ['fumet'],\n",
       " 'scape': ['scape, space'],\n",
       " 'maule': ['maule'],\n",
       " 'olent': ['olent'],\n",
       " 'caple': ['caple, capel, clape, place'],\n",
       " 'moral': ['moral, molar'],\n",
       " 'chase': ['chase'],\n",
       " 'pated': ['pated, adept'],\n",
       " 'chain': ['chain, china, chian'],\n",
       " 'sebic': ['sebic'],\n",
       " 'sacro': ['sacro'],\n",
       " 'minus': ['minus'],\n",
       " 'thyro': ['thyro'],\n",
       " 'prima': ['prima'],\n",
       " 'tapir': ['tapir'],\n",
       " 'troad': ['troad, tardo'],\n",
       " 'turio': ['turio'],\n",
       " 'fours': ['fours'],\n",
       " 'crate': ['crate, caret, trace, creat, cater, carte'],\n",
       " 'modus': ['modus'],\n",
       " 'straw': ['straw, swart'],\n",
       " 'anise': ['anise'],\n",
       " 'wires': ['wires'],\n",
       " 'fetus': ['fetus'],\n",
       " 'trial': ['trial, trail'],\n",
       " 'mousy': ['mousy'],\n",
       " 'midas': ['midas'],\n",
       " 'strum': ['strum'],\n",
       " 'amort': ['amort'],\n",
       " 'croup': ['croup'],\n",
       " 'morne': ['morne, moner'],\n",
       " 'olden': ['olden'],\n",
       " 'adieu': ['adieu'],\n",
       " 'wager': ['wager'],\n",
       " 'surgy': ['surgy'],\n",
       " 'thump': ['thump'],\n",
       " 'shirl': ['shirl'],\n",
       " 'cuban': ['cuban'],\n",
       " 'antic': ['antic'],\n",
       " 'panym': ['panym'],\n",
       " 'power': ['power'],\n",
       " 'punch': ['punch'],\n",
       " 'plumy': ['plumy'],\n",
       " 'slopy': ['slopy'],\n",
       " 'stufa': ['stufa'],\n",
       " 'soune': ['soune'],\n",
       " 'foule': ['foule'],\n",
       " 'masty': ['masty'],\n",
       " 'angio': ['angio'],\n",
       " 'sdain': ['sdain'],\n",
       " 'prief': ['prief'],\n",
       " 'courb': ['courb'],\n",
       " 'whaul': ['whaul'],\n",
       " 'crows': ['crows'],\n",
       " 'moril': ['moril'],\n",
       " 'flier': ['flier, filer'],\n",
       " 'scarn': ['scarn'],\n",
       " 'snore': ['snore'],\n",
       " 'woman': ['woman'],\n",
       " 'cobia': ['cobia'],\n",
       " 'myria': ['myria'],\n",
       " 'crith': ['crith'],\n",
       " 'imban': ['imban'],\n",
       " 'monad': ['monad'],\n",
       " 'apiol': ['apiol'],\n",
       " 'swoln': ['swoln, snowl'],\n",
       " 'misgo': ['misgo'],\n",
       " 'pilot': ['pilot'],\n",
       " 'pieta': ['pieta'],\n",
       " 'fenci': ['fenci'],\n",
       " 'saynd': ['saynd'],\n",
       " 'fauld': ['fauld'],\n",
       " 'scaup': ['scaup'],\n",
       " 'wrung': ['wrung'],\n",
       " 'pinch': ['pinch'],\n",
       " 'scrat': ['scrat'],\n",
       " 'trabu': ['trabu'],\n",
       " 'magot': ['magot'],\n",
       " 'cimar': ['cimar'],\n",
       " 'tower': ['tower, wrote'],\n",
       " 'ouphe': ['ouphe'],\n",
       " 'slype': ['slype'],\n",
       " 'screw': ['screw'],\n",
       " 'sprod': ['sprod'],\n",
       " 'snary': ['snary'],\n",
       " 'agile': ['agile'],\n",
       " 'paced': ['paced'],\n",
       " 'corny': ['corny'],\n",
       " 'short': ['short'],\n",
       " 'mufti': ['mufti'],\n",
       " 'pyral': ['pyral'],\n",
       " 'macro': ['macro, carom, croma'],\n",
       " 'syrma': ['syrma'],\n",
       " 'tecum': ['tecum'],\n",
       " 'coney': ['coney'],\n",
       " 'foamy': ['foamy'],\n",
       " 'pouch': ['pouch'],\n",
       " 'widen': ['widen, indew'],\n",
       " 'flush': ['flush'],\n",
       " 'faule': ['faule'],\n",
       " 'wrong': ['wrong'],\n",
       " 'mushy': ['mushy'],\n",
       " 'ashen': ['ashen'],\n",
       " 'swarm': ['swarm'],\n",
       " 'acute': ['acute'],\n",
       " 'probe': ['probe'],\n",
       " 'shily': ['shily'],\n",
       " 'agist': ['agist'],\n",
       " 'picul': ['picul'],\n",
       " 'cause': ['cause, sauce'],\n",
       " 'scour': ['scour'],\n",
       " 'ploce': ['ploce'],\n",
       " 'trowl': ['trowl'],\n",
       " 'sedgy': ['sedgy'],\n",
       " 'ambes': ['ambes'],\n",
       " 'abnet': ['abnet'],\n",
       " 'filar': ['filar, frail'],\n",
       " 'adure': ['adure'],\n",
       " 'wango': ['wango, wagon'],\n",
       " 'foist': ['foist'],\n",
       " 'pedro': ['pedro'],\n",
       " 'primy': ['primy'],\n",
       " 'fichu': ['fichu'],\n",
       " 'money': ['money'],\n",
       " 'firms': ['firms'],\n",
       " 'combe': ['combe'],\n",
       " 'macho': ['macho'],\n",
       " 'faith': ['faith'],\n",
       " 'carus': ['carus, scaur'],\n",
       " 'cough': ['cough'],\n",
       " 'copra': ['copra'],\n",
       " 'tared': ['tared, tread, trade'],\n",
       " 'forge': ['forge'],\n",
       " 'peaty': ['peaty'],\n",
       " 'cutin': ['cutin, tunic'],\n",
       " 'sepon': ['sepon'],\n",
       " 'adeps': ['adeps, spade'],\n",
       " 'thawy': ['thawy'],\n",
       " 'camis': ['camis'],\n",
       " 'whurt': ['whurt'],\n",
       " 'peony': ['peony'],\n",
       " 'aigre': ['aigre'],\n",
       " 'fusil': ['fusil'],\n",
       " 'mulch': ['mulch'],\n",
       " 'ampul': ['ampul, pluma'],\n",
       " 'plano': ['plano'],\n",
       " 'simar': ['simar'],\n",
       " 'tumor': ['tumor'],\n",
       " 'madly': ['madly'],\n",
       " 'wafer': ['wafer'],\n",
       " 'spang': ['spang'],\n",
       " 'cased': ['cased'],\n",
       " 'cerin': ['cerin'],\n",
       " 'ceorl': ['ceorl'],\n",
       " 'fried': ['fried'],\n",
       " 'fungi': ['fungi'],\n",
       " 'sieur': ['sieur'],\n",
       " 'frond': ['frond'],\n",
       " 'swelt': ['swelt'],\n",
       " 'stram': ['stram, smart'],\n",
       " 'philo': ['philo'],\n",
       " 'often': ['often'],\n",
       " 'sithe': ['sithe'],\n",
       " 'cento': ['cento, conte'],\n",
       " 'piony': ['piony'],\n",
       " 'imbow': ['imbow'],\n",
       " 'monal': ['monal'],\n",
       " 'abide': ['abide'],\n",
       " 'medoc': ['medoc'],\n",
       " 'agley': ['agley'],\n",
       " 'chomp': ['chomp'],\n",
       " 'shoal': ['shoal, shola'],\n",
       " 'cruel': ['cruel'],\n",
       " 'crude': ['crude'],\n",
       " 'fable': ['fable'],\n",
       " 'wopen': ['wopen'],\n",
       " 'apron': ['apron'],\n",
       " 'stade': ['stade'],\n",
       " 'fetis': ['fetis, festi'],\n",
       " 'stoup': ['stoup'],\n",
       " 'shunt': ['shunt'],\n",
       " 'tramp': ['tramp'],\n",
       " 'flume': ['flume'],\n",
       " ...}"
      ]
     },
     "execution_count": 12,
     "metadata": {},
     "output_type": "execute_result"
    }
   ],
   "source": [
    "anagrams_five_letter_words_no_repeat_letters"
   ]
  },
  {
   "cell_type": "code",
   "execution_count": null,
   "id": "6eeccd86",
   "metadata": {},
   "outputs": [],
   "source": []
  },
  {
   "cell_type": "code",
   "execution_count": 13,
   "id": "66238ca2",
   "metadata": {
    "ExecuteTime": {
     "end_time": "2022-07-17T13:28:14.496794Z",
     "start_time": "2022-07-17T13:28:14.492211Z"
    }
   },
   "outputs": [],
   "source": [
    "# Save words as txt file. Text file provided in data folder\n",
    "with open(\"./data/webster_dict_all_five_letter_words.txt\", mode=\"w\") as file:\n",
    "    file.write(\"\\n\".join(five_letter_words))"
   ]
  },
  {
   "cell_type": "markdown",
   "id": "7d0dc518",
   "metadata": {},
   "source": [
    "# Determine anagrams to remove  \n",
    "\n",
    "All anagrams in a group will share the same informational content, albeit different positional information. So where we find anagrams we select the one with the highest word frequency. If our guess word is an anagram of the challenge word we'll get yellows and greens."
   ]
  },
  {
   "cell_type": "markdown",
   "id": "68d31982",
   "metadata": {},
   "source": [
    "## Get anagrams"
   ]
  },
  {
   "cell_type": "code",
   "execution_count": 14,
   "id": "efa3ca24",
   "metadata": {
    "ExecuteTime": {
     "end_time": "2022-07-17T13:28:14.506491Z",
     "start_time": "2022-07-17T13:28:14.499484Z"
    }
   },
   "outputs": [],
   "source": [
    "# anagrams = np.concatenate([value for key, value in word_anagrams.items()])\n",
    "anagrams = np.concatenate([value for value in anagrams_five_letter_words_no_repeat_letters.values()])"
   ]
  },
  {
   "cell_type": "code",
   "execution_count": 15,
   "id": "e75f7422",
   "metadata": {
    "ExecuteTime": {
     "end_time": "2022-07-17T13:28:14.515041Z",
     "start_time": "2022-07-17T13:28:14.508550Z"
    }
   },
   "outputs": [
    {
     "data": {
      "text/plain": [
       "array(['paris', 'patio', 'tasco, costa, catso, scoat, coast', 'iodal',\n",
       "       'cadge, caged', 'stulp', 'acerb, caber', 'slent', 'sowar', 'moted',\n",
       "       'atimy, amity', 'impel', 'shire', 'flint', 'thurl'], dtype='<U47')"
      ]
     },
     "execution_count": 15,
     "metadata": {},
     "output_type": "execute_result"
    }
   ],
   "source": [
    "anagrams[:15]"
   ]
  },
  {
   "cell_type": "code",
   "execution_count": 16,
   "id": "1f0782fc",
   "metadata": {
    "ExecuteTime": {
     "end_time": "2022-07-17T13:28:14.522370Z",
     "start_time": "2022-07-17T13:28:14.517224Z"
    }
   },
   "outputs": [
    {
     "data": {
      "text/plain": [
       "1418"
      ]
     },
     "execution_count": 16,
     "metadata": {},
     "output_type": "execute_result"
    }
   ],
   "source": [
    "anagrams.size"
   ]
  },
  {
   "cell_type": "code",
   "execution_count": 17,
   "id": "09d3b05f",
   "metadata": {
    "ExecuteTime": {
     "end_time": "2022-07-17T13:28:14.731913Z",
     "start_time": "2022-07-17T13:28:14.524389Z"
    }
   },
   "outputs": [],
   "source": [
    "anagrams_word_freq = anagram_word_frequency(anagrams)"
   ]
  },
  {
   "cell_type": "code",
   "execution_count": 18,
   "id": "4ad2b41d",
   "metadata": {
    "ExecuteTime": {
     "end_time": "2022-07-17T13:28:14.740479Z",
     "start_time": "2022-07-17T13:28:14.734308Z"
    }
   },
   "outputs": [
    {
     "data": {
      "text/plain": [
       "array([list([('paris', 6.536702879786964e-07)]),\n",
       "       list([('patio', 1.27347791534055e-06)]),\n",
       "       list([('tasco', 0.0), ('costa', 4.2872547102395535e-07), ('catso', 0.0), ('scoat', 0.0), ('coast', 1.4112263812069209e-05)]),\n",
       "       list([('iodal', 0.0)]),\n",
       "       list([('cadge', 4.777053908447457e-08), ('caged', 1.408323867439763e-06)]),\n",
       "       list([('stulp', 0.0)]),\n",
       "       list([('acerb', 0.0), ('caber', 4.172363540289551e-08)]),\n",
       "       list([('slent', 0.0)]), list([('sowar', 0.0)]),\n",
       "       list([('moted', 0.0)])], dtype=object)"
      ]
     },
     "execution_count": 18,
     "metadata": {},
     "output_type": "execute_result"
    }
   ],
   "source": [
    "anagrams_word_freq[:10]"
   ]
  },
  {
   "cell_type": "code",
   "execution_count": 19,
   "id": "6285cb45",
   "metadata": {
    "ExecuteTime": {
     "end_time": "2022-07-17T13:28:14.831267Z",
     "start_time": "2022-07-17T13:28:14.743174Z"
    }
   },
   "outputs": [],
   "source": [
    "# save word_anagrams as csv\n",
    "(pd.DataFrame(anagrams_five_letter_words_no_repeat_letters)\n",
    " .T\n",
    " .reset_index()\n",
    " .rename(columns={\"index\": \"word\", 0: \"anagrams\"})\n",
    ").to_csv(\"./data/anagrams.csv\", index=False)"
   ]
  },
  {
   "cell_type": "markdown",
   "id": "ccdea7e7",
   "metadata": {},
   "source": [
    "## Keep anagrams with the highest frequency"
   ]
  },
  {
   "cell_type": "code",
   "execution_count": 20,
   "id": "ec962ef8",
   "metadata": {
    "ExecuteTime": {
     "end_time": "2022-07-17T13:28:14.867432Z",
     "start_time": "2022-07-17T13:28:14.833453Z"
    }
   },
   "outputs": [
    {
     "data": {
      "text/plain": [
       "array(['abhor', 'abide', 'abies', 'abler', 'abnet', 'abode', 'abord',\n",
       "       'abort', 'about', 'absey'], dtype=object)"
      ]
     },
     "execution_count": 20,
     "metadata": {},
     "output_type": "execute_result"
    }
   ],
   "source": [
    "keep_words = anagram_to_keep(anagrams_word_freq)\n",
    "keep_words[:10]"
   ]
  },
  {
   "cell_type": "code",
   "execution_count": 21,
   "id": "4c05d4b0",
   "metadata": {
    "ExecuteTime": {
     "end_time": "2022-07-17T13:28:14.876001Z",
     "start_time": "2022-07-17T13:28:14.869946Z"
    }
   },
   "outputs": [
    {
     "data": {
      "text/plain": [
       "1418"
      ]
     },
     "execution_count": 21,
     "metadata": {},
     "output_type": "execute_result"
    }
   ],
   "source": [
    "keep_words.size"
   ]
  },
  {
   "cell_type": "code",
   "execution_count": 22,
   "id": "d977790b",
   "metadata": {
    "ExecuteTime": {
     "end_time": "2022-07-17T13:28:14.885486Z",
     "start_time": "2022-07-17T13:28:14.878128Z"
    }
   },
   "outputs": [
    {
     "data": {
      "text/plain": [
       "(array([1150]),)"
      ]
     },
     "execution_count": 22,
     "metadata": {},
     "output_type": "execute_result"
    }
   ],
   "source": [
    "np.where(keep_words == \"suine\")"
   ]
  },
  {
   "cell_type": "code",
   "execution_count": 23,
   "id": "e4897deb",
   "metadata": {
    "ExecuteTime": {
     "end_time": "2022-07-17T13:28:14.895145Z",
     "start_time": "2022-07-17T13:28:14.889920Z"
    }
   },
   "outputs": [],
   "source": [
    "# np.savetxt(\"./data/webster_common_starting_letters_final_words.txt\", keep_words, fmt=\"%s\")\n",
    "\n",
    "# OR\n",
    "with open(\"./data/webster_common_starting_letters_final_words.txt\", mode=\"w\") as file:\n",
    "    file.write(\"\\n\".join(keep_words))"
   ]
  },
  {
   "cell_type": "code",
   "execution_count": null,
   "id": "ea135908",
   "metadata": {},
   "outputs": [],
   "source": []
  }
 ],
 "metadata": {
  "kernelspec": {
   "display_name": "wordle",
   "language": "python",
   "name": "wordle"
  },
  "language_info": {
   "codemirror_mode": {
    "name": "ipython",
    "version": 3
   },
   "file_extension": ".py",
   "mimetype": "text/x-python",
   "name": "python",
   "nbconvert_exporter": "python",
   "pygments_lexer": "ipython3",
   "version": "3.9.7"
  },
  "toc": {
   "base_numbering": 1,
   "nav_menu": {},
   "number_sections": true,
   "sideBar": true,
   "skip_h1_title": false,
   "title_cell": "Table of Contents",
   "title_sidebar": "Contents",
   "toc_cell": false,
   "toc_position": {},
   "toc_section_display": true,
   "toc_window_display": false
  },
  "varInspector": {
   "cols": {
    "lenName": 16,
    "lenType": 16,
    "lenVar": 40
   },
   "kernels_config": {
    "python": {
     "delete_cmd_postfix": "",
     "delete_cmd_prefix": "del ",
     "library": "var_list.py",
     "varRefreshCmd": "print(var_dic_list())"
    },
    "r": {
     "delete_cmd_postfix": ") ",
     "delete_cmd_prefix": "rm(",
     "library": "var_list.r",
     "varRefreshCmd": "cat(var_dic_list()) "
    }
   },
   "types_to_exclude": [
    "module",
    "function",
    "builtin_function_or_method",
    "instance",
    "_Feature"
   ],
   "window_display": false
  }
 },
 "nbformat": 4,
 "nbformat_minor": 5
}
