{
 "cells": [
  {
   "cell_type": "code",
   "execution_count": 1,
   "id": "5d30fa99",
   "metadata": {
    "ExecuteTime": {
     "end_time": "2022-03-21T11:14:33.667626Z",
     "start_time": "2022-03-21T11:14:32.405649Z"
    }
   },
   "outputs": [],
   "source": [
    "import json\n",
    "import urllib.request\n",
    "import pandas as pd\n",
    "import re\n",
    "import random\n",
    "import string\n",
    "from spellchecker import SpellChecker\n",
    "import numpy as np\n",
    "from wordle_helpers import (\n",
    "    words_with_commonly_used_letters,\n",
    "    words_starting_with_commonly_used_letters,\n",
    "    sorted_words_by_frequency,\n",
    "    anagram_pairs,\n",
    "    anagram_word_frequency,\n",
    "    anagram_to_keep\n",
    ")\n",
    "\n",
    "import os\n",
    "# where to save the data\n",
    "ROOT_DIR = \".\"\n",
    "FOLDER_NAME = \"data\"\n",
    "PATH_TO_FOLDER = os.path.join(ROOT_DIR, FOLDER_NAME)\n",
    "os.makedirs(PATH_TO_FOLDER, exist_ok=True)"
   ]
  },
  {
   "cell_type": "markdown",
   "id": "1308f840",
   "metadata": {},
   "source": [
    "# Load data  \n",
    "\n",
    "I'll be using the Webster's Unabridged English Dictionary as my source of English words, helpfully curated [here](https://github.com/adambom/dictionary)."
   ]
  },
  {
   "cell_type": "code",
   "execution_count": 2,
   "id": "b45d6f33",
   "metadata": {
    "ExecuteTime": {
     "end_time": "2022-03-21T11:14:37.217098Z",
     "start_time": "2022-03-21T11:14:33.670223Z"
    }
   },
   "outputs": [],
   "source": [
    "with urllib.request.urlopen(\"https://raw.githubusercontent.com/adambom/dictionary/master/dictionary.json\") as url:\n",
    "    data = json.load(url)"
   ]
  },
  {
   "cell_type": "code",
   "execution_count": null,
   "id": "a9fdad68",
   "metadata": {
    "ExecuteTime": {
     "end_time": "2022-03-21T11:14:39.391794Z",
     "start_time": "2022-03-21T11:14:37.252702Z"
    }
   },
   "outputs": [],
   "source": [
    "websters_english_dictionary = pd.DataFrame([data]).T\n",
    "websters_english_dictionary.reset_index(inplace=True)\n",
    "websters_english_dictionary.rename(columns={\"index\": \"word\", 0: \"definition\"}, inplace=True)"
   ]
  },
  {
   "cell_type": "code",
   "execution_count": 4,
   "id": "161c967f",
   "metadata": {
    "ExecuteTime": {
     "end_time": "2022-03-21T11:14:39.391794Z",
     "start_time": "2022-03-21T11:14:37.252702Z"
    }
   },
   "outputs": [
    {
     "data": {
      "text/html": [
       "<div>\n",
       "<style scoped>\n",
       "    .dataframe tbody tr th:only-of-type {\n",
       "        vertical-align: middle;\n",
       "    }\n",
       "\n",
       "    .dataframe tbody tr th {\n",
       "        vertical-align: top;\n",
       "    }\n",
       "\n",
       "    .dataframe thead th {\n",
       "        text-align: right;\n",
       "    }\n",
       "</style>\n",
       "<table border=\"1\" class=\"dataframe\">\n",
       "  <thead>\n",
       "    <tr style=\"text-align: right;\">\n",
       "      <th></th>\n",
       "      <th>word</th>\n",
       "      <th>definition</th>\n",
       "    </tr>\n",
       "  </thead>\n",
       "  <tbody>\n",
       "    <tr>\n",
       "      <th>0</th>\n",
       "      <td>DIPLOBLASTIC</td>\n",
       "      <td>Characterizing the ovum when it has two primar...</td>\n",
       "    </tr>\n",
       "    <tr>\n",
       "      <th>1</th>\n",
       "      <td>DEFIGURE</td>\n",
       "      <td>To delineate. [Obs.]These two stones as they a...</td>\n",
       "    </tr>\n",
       "    <tr>\n",
       "      <th>2</th>\n",
       "      <td>LOMBARD</td>\n",
       "      <td>Of or pertaining to Lombardy, or the inhabitan...</td>\n",
       "    </tr>\n",
       "    <tr>\n",
       "      <th>3</th>\n",
       "      <td>BAHAISM</td>\n",
       "      <td>The religious tenets or practices of the Bahais.</td>\n",
       "    </tr>\n",
       "    <tr>\n",
       "      <th>4</th>\n",
       "      <td>FUMERELL</td>\n",
       "      <td>See Femerell.</td>\n",
       "    </tr>\n",
       "    <tr>\n",
       "      <th>...</th>\n",
       "      <td>...</td>\n",
       "      <td>...</td>\n",
       "    </tr>\n",
       "    <tr>\n",
       "      <th>86031</th>\n",
       "      <td>ELECTRO-MAGNET</td>\n",
       "      <td>A mass, usually of soft iron, but sometimes of...</td>\n",
       "    </tr>\n",
       "    <tr>\n",
       "      <th>86032</th>\n",
       "      <td>SEAREDNESS</td>\n",
       "      <td>The state of being seared or callous; insensib...</td>\n",
       "    </tr>\n",
       "    <tr>\n",
       "      <th>86033</th>\n",
       "      <td>LITHOPHYTOUS</td>\n",
       "      <td>Lithophytic.</td>\n",
       "    </tr>\n",
       "    <tr>\n",
       "      <th>86034</th>\n",
       "      <td>FROCKED</td>\n",
       "      <td>Clothed in a frock.</td>\n",
       "    </tr>\n",
       "    <tr>\n",
       "      <th>86035</th>\n",
       "      <td>SEQUENCE</td>\n",
       "      <td>Simple succession, or the coming after in time...</td>\n",
       "    </tr>\n",
       "  </tbody>\n",
       "</table>\n",
       "<p>86036 rows × 2 columns</p>\n",
       "</div>"
      ],
      "text/plain": [
       "                 word                                         definition\n",
       "0        DIPLOBLASTIC  Characterizing the ovum when it has two primar...\n",
       "1            DEFIGURE  To delineate. [Obs.]These two stones as they a...\n",
       "2             LOMBARD  Of or pertaining to Lombardy, or the inhabitan...\n",
       "3             BAHAISM   The religious tenets or practices of the Bahais.\n",
       "4            FUMERELL                                      See Femerell.\n",
       "...               ...                                                ...\n",
       "86031  ELECTRO-MAGNET  A mass, usually of soft iron, but sometimes of...\n",
       "86032      SEAREDNESS  The state of being seared or callous; insensib...\n",
       "86033    LITHOPHYTOUS                                       Lithophytic.\n",
       "86034         FROCKED                                Clothed in a frock.\n",
       "86035        SEQUENCE  Simple succession, or the coming after in time...\n",
       "\n",
       "[86036 rows x 2 columns]"
      ]
     },
     "execution_count": 4,
     "metadata": {},
     "output_type": "execute_result"
    }
   ],
   "source": [
    "websters_english_dictionary.head()"
   ]
  },
  {
   "cell_type": "code",
   "execution_count": null,
   "id": "a8cf6c81",
   "metadata": {},
   "outputs": [],
   "source": [
    "websters_english_dictionary.info()"
   ]
  },
  {
   "cell_type": "code",
   "execution_count": 5,
   "id": "510a1278",
   "metadata": {
    "ExecuteTime": {
     "end_time": "2022-03-21T11:14:39.651998Z",
     "start_time": "2022-03-21T11:14:39.393837Z"
    }
   },
   "outputs": [],
   "source": [
    "websters_english_dictionary.to_csv(\"./data/websters_english_dictionary.csv\", index=False)"
   ]
  },
  {
   "cell_type": "code",
   "execution_count": 6,
   "id": "82a62825",
   "metadata": {
    "ExecuteTime": {
     "end_time": "2022-03-21T11:14:39.663647Z",
     "start_time": "2022-03-21T11:14:39.653845Z"
    }
   },
   "outputs": [],
   "source": [
    "all_words = \" \".join([word.lower() for word in websters_english_dictionary[\"word\"].to_numpy() if len(word) == 5])"
   ]
  },
  {
   "cell_type": "markdown",
   "id": "b7d4be4e",
   "metadata": {},
   "source": [
    "# Create list of five letter words"
   ]
  },
  {
   "cell_type": "markdown",
   "id": "09f8792f",
   "metadata": {},
   "source": [
    "## Five letter words"
   ]
  },
  {
   "cell_type": "code",
   "execution_count": 7,
   "id": "fa8db6db",
   "metadata": {
    "ExecuteTime": {
     "end_time": "2022-03-21T11:14:39.669192Z",
     "start_time": "2022-03-21T11:14:39.665725Z"
    }
   },
   "outputs": [],
   "source": [
    "# filter out words with special caharacters, eg. hyphens\n",
    "five_letter_words = re.findall(r\"\\w+\", all_words)"
   ]
  },
  {
   "cell_type": "code",
   "execution_count": 8,
   "id": "ef4fef83",
   "metadata": {
    "ExecuteTime": {
     "end_time": "2022-03-21T11:14:39.673845Z",
     "start_time": "2022-03-21T11:14:39.670407Z"
    }
   },
   "outputs": [
    {
     "data": {
      "text/plain": [
       "5387"
      ]
     },
     "execution_count": 8,
     "metadata": {},
     "output_type": "execute_result"
    }
   ],
   "source": [
    "len(five_letter_words)"
   ]
  },
  {
   "cell_type": "code",
   "execution_count": 9,
   "id": "66238ca2",
   "metadata": {
    "ExecuteTime": {
     "end_time": "2022-03-21T11:14:39.678832Z",
     "start_time": "2022-03-21T11:14:39.675299Z"
    }
   },
   "outputs": [],
   "source": [
    "# Save words as txt file. Text file provided in data folder\n",
    "with open(\"./data/webster_dict_all_five_letter_words.txt\", mode=\"w\") as file:\n",
    "    file.write(\"\\n\".join(five_letter_words))"
   ]
  },
  {
   "cell_type": "markdown",
   "id": "bd24eb74",
   "metadata": {},
   "source": [
    "## no repeat letter in 5 letter words  \n",
    "\n",
    "So as to not waste letter guesses, we'll only select words with no repeat letters"
   ]
  },
  {
   "cell_type": "code",
   "execution_count": 10,
   "id": "3e333e21",
   "metadata": {
    "ExecuteTime": {
     "end_time": "2022-03-21T11:14:39.688684Z",
     "start_time": "2022-03-21T11:14:39.682664Z"
    }
   },
   "outputs": [
    {
     "data": {
      "text/plain": [
       "['gnarl',\n",
       " 'arles',\n",
       " 'stagy',\n",
       " 'aknow',\n",
       " 'tawer',\n",
       " 'copra',\n",
       " 'knout',\n",
       " 'atole',\n",
       " 'timal',\n",
       " 'dingy']"
      ]
     },
     "execution_count": 10,
     "metadata": {},
     "output_type": "execute_result"
    }
   ],
   "source": [
    "no_repeat_letter_five_letter_words = [word for word in five_letter_words if len(set(word)) == 5]\n",
    "no_repeat_letter_five_letter_words[:10]"
   ]
  },
  {
   "cell_type": "code",
   "execution_count": 11,
   "id": "ed8e3951",
   "metadata": {
    "ExecuteTime": {
     "end_time": "2022-03-21T11:14:39.693558Z",
     "start_time": "2022-03-21T11:14:39.690161Z"
    }
   },
   "outputs": [
    {
     "data": {
      "text/plain": [
       "3470"
      ]
     },
     "execution_count": 11,
     "metadata": {},
     "output_type": "execute_result"
    }
   ],
   "source": [
    "len(no_repeat_letter_five_letter_words)"
   ]
  },
  {
   "cell_type": "markdown",
   "id": "23fa7ee1",
   "metadata": {},
   "source": [
    "## words with most common starting letters  \n",
    "\n",
    "Further filtering by choosing words form `most_common_starting_letters = \"taisocmfpw\"`"
   ]
  },
  {
   "cell_type": "code",
   "execution_count": 12,
   "id": "8fb982cd",
   "metadata": {
    "ExecuteTime": {
     "end_time": "2022-03-21T11:14:39.703236Z",
     "start_time": "2022-03-21T11:14:39.694999Z"
    }
   },
   "outputs": [
    {
     "data": {
      "text/plain": [
       "['arles',\n",
       " 'stagy',\n",
       " 'aknow',\n",
       " 'tawer',\n",
       " 'copra',\n",
       " 'atole',\n",
       " 'timal',\n",
       " 'inkle',\n",
       " 'moste',\n",
       " 'wreak']"
      ]
     },
     "execution_count": 12,
     "metadata": {},
     "output_type": "execute_result"
    }
   ],
   "source": [
    "common_starting_letters = words_starting_with_commonly_used_letters(no_repeat_letter_five_letter_words)\n",
    "common_starting_letters[:10]"
   ]
  },
  {
   "cell_type": "code",
   "execution_count": 13,
   "id": "1fca2ba6",
   "metadata": {
    "ExecuteTime": {
     "end_time": "2022-03-21T11:14:39.707918Z",
     "start_time": "2022-03-21T11:14:39.704464Z"
    }
   },
   "outputs": [
    {
     "data": {
      "text/plain": [
       "2080"
      ]
     },
     "execution_count": 13,
     "metadata": {},
     "output_type": "execute_result"
    }
   ],
   "source": [
    "len(common_starting_letters)"
   ]
  },
  {
   "cell_type": "markdown",
   "id": "07f22fed",
   "metadata": {},
   "source": [
    "## words frequency"
   ]
  },
  {
   "cell_type": "code",
   "execution_count": 14,
   "id": "e58f2edd",
   "metadata": {
    "ExecuteTime": {
     "end_time": "2022-03-21T11:14:39.840623Z",
     "start_time": "2022-03-21T11:14:39.709450Z"
    }
   },
   "outputs": [
    {
     "data": {
      "text/plain": [
       "[('about', 0.004575716203465601),\n",
       " ('would', 0.0025520860237645514),\n",
       " ('could', 0.002105716897178485),\n",
       " ('their', 0.001190727852529245),\n",
       " ('maybe', 0.001072666290978991),\n",
       " ('after', 0.0010576258274517993),\n",
       " ('those', 0.0010403927566496672),\n",
       " ('other', 0.0009394233730457645),\n",
       " ('first', 0.0009136375616764069),\n",
       " ('thing', 0.0008622612539266068)]"
      ]
     },
     "execution_count": 14,
     "metadata": {},
     "output_type": "execute_result"
    }
   ],
   "source": [
    "words_sorted_by_frequency = sorted_words_by_frequency(common_starting_letters, sorting=True)\n",
    "words_sorted_by_frequency[:10]"
   ]
  },
  {
   "cell_type": "code",
   "execution_count": 15,
   "id": "9d4c798e",
   "metadata": {
    "ExecuteTime": {
     "end_time": "2022-03-21T11:14:39.846475Z",
     "start_time": "2022-03-21T11:14:39.842485Z"
    }
   },
   "outputs": [
    {
     "data": {
      "text/plain": [
       "2080"
      ]
     },
     "execution_count": 15,
     "metadata": {},
     "output_type": "execute_result"
    }
   ],
   "source": [
    "len(words_sorted_by_frequency)"
   ]
  },
  {
   "cell_type": "markdown",
   "id": "7d0dc518",
   "metadata": {},
   "source": [
    "# Determine anagrams to remove  \n",
    "\n",
    "All anagrams in a group will share the same informational content, albeit different positional information. So where we find anagrams we select the one with the highest word frequency. If our guess word is an anagram of the challenge word we'll get yellows and greens."
   ]
  },
  {
   "cell_type": "markdown",
   "id": "9f135628",
   "metadata": {},
   "source": [
    "## Pairs of anagrams"
   ]
  },
  {
   "cell_type": "code",
   "execution_count": 16,
   "id": "8ee412c9",
   "metadata": {
    "ExecuteTime": {
     "end_time": "2022-03-21T11:14:40.991778Z",
     "start_time": "2022-03-21T11:14:39.848459Z"
    }
   },
   "outputs": [],
   "source": [
    "random.seed(44)\n",
    "paired_anagrams = anagram_pairs([x[0] for x in words_sorted_by_frequency])"
   ]
  },
  {
   "cell_type": "code",
   "execution_count": 17,
   "id": "b12125dc",
   "metadata": {
    "ExecuteTime": {
     "end_time": "2022-03-21T11:14:40.997663Z",
     "start_time": "2022-03-21T11:14:40.993631Z"
    }
   },
   "outputs": [
    {
     "data": {
      "text/plain": [
       "array([['could', 'cloud'],\n",
       "       ['those', 'shote'],\n",
       "       ['those', 'sothe'],\n",
       "       ...,\n",
       "       ['muser', 'merus'],\n",
       "       ['pelta', 'tepal'],\n",
       "       ['oxfly', 'foxly']], dtype='<U5')"
      ]
     },
     "execution_count": 17,
     "metadata": {},
     "output_type": "execute_result"
    }
   ],
   "source": [
    "paired_anagrams"
   ]
  },
  {
   "cell_type": "code",
   "execution_count": 18,
   "id": "f12a08de",
   "metadata": {
    "ExecuteTime": {
     "end_time": "2022-03-21T11:14:41.006638Z",
     "start_time": "2022-03-21T11:14:40.998839Z"
    }
   },
   "outputs": [
    {
     "data": {
      "text/html": [
       "<div>\n",
       "<style scoped>\n",
       "    .dataframe tbody tr th:only-of-type {\n",
       "        vertical-align: middle;\n",
       "    }\n",
       "\n",
       "    .dataframe tbody tr th {\n",
       "        vertical-align: top;\n",
       "    }\n",
       "\n",
       "    .dataframe thead th {\n",
       "        text-align: right;\n",
       "    }\n",
       "</style>\n",
       "<table border=\"1\" class=\"dataframe\">\n",
       "  <thead>\n",
       "    <tr style=\"text-align: right;\">\n",
       "      <th></th>\n",
       "      <th>word1</th>\n",
       "      <th>word2</th>\n",
       "    </tr>\n",
       "  </thead>\n",
       "  <tbody>\n",
       "    <tr>\n",
       "      <th>0</th>\n",
       "      <td>could</td>\n",
       "      <td>cloud</td>\n",
       "    </tr>\n",
       "    <tr>\n",
       "      <th>1</th>\n",
       "      <td>those</td>\n",
       "      <td>shote</td>\n",
       "    </tr>\n",
       "    <tr>\n",
       "      <th>2</th>\n",
       "      <td>those</td>\n",
       "      <td>sothe</td>\n",
       "    </tr>\n",
       "    <tr>\n",
       "      <th>3</th>\n",
       "      <td>other</td>\n",
       "      <td>throe</td>\n",
       "    </tr>\n",
       "    <tr>\n",
       "      <th>4</th>\n",
       "      <td>first</td>\n",
       "      <td>frist</td>\n",
       "    </tr>\n",
       "    <tr>\n",
       "      <th>...</th>\n",
       "      <td>...</td>\n",
       "      <td>...</td>\n",
       "    </tr>\n",
       "    <tr>\n",
       "      <th>546</th>\n",
       "      <td>suant</td>\n",
       "      <td>astun</td>\n",
       "    </tr>\n",
       "    <tr>\n",
       "      <th>547</th>\n",
       "      <td>shote</td>\n",
       "      <td>sothe</td>\n",
       "    </tr>\n",
       "    <tr>\n",
       "      <th>548</th>\n",
       "      <td>muser</td>\n",
       "      <td>merus</td>\n",
       "    </tr>\n",
       "    <tr>\n",
       "      <th>549</th>\n",
       "      <td>pelta</td>\n",
       "      <td>tepal</td>\n",
       "    </tr>\n",
       "    <tr>\n",
       "      <th>550</th>\n",
       "      <td>oxfly</td>\n",
       "      <td>foxly</td>\n",
       "    </tr>\n",
       "  </tbody>\n",
       "</table>\n",
       "<p>551 rows × 2 columns</p>\n",
       "</div>"
      ],
      "text/plain": [
       "     word1  word2\n",
       "0    could  cloud\n",
       "1    those  shote\n",
       "2    those  sothe\n",
       "3    other  throe\n",
       "4    first  frist\n",
       "..     ...    ...\n",
       "546  suant  astun\n",
       "547  shote  sothe\n",
       "548  muser  merus\n",
       "549  pelta  tepal\n",
       "550  oxfly  foxly\n",
       "\n",
       "[551 rows x 2 columns]"
      ]
     },
     "execution_count": 18,
     "metadata": {},
     "output_type": "execute_result"
    }
   ],
   "source": [
    "words_sharing_all_letters = pd.DataFrame(paired_anagrams, columns=[\"word1\", \"word2\"])\n",
    "words_sharing_all_letters"
   ]
  },
  {
   "cell_type": "code",
   "execution_count": 19,
   "id": "e401a01e",
   "metadata": {
    "ExecuteTime": {
     "end_time": "2022-03-21T11:14:41.017665Z",
     "start_time": "2022-03-21T11:14:41.008365Z"
    }
   },
   "outputs": [
    {
     "data": {
      "text/html": [
       "<div>\n",
       "<style scoped>\n",
       "    .dataframe tbody tr th:only-of-type {\n",
       "        vertical-align: middle;\n",
       "    }\n",
       "\n",
       "    .dataframe tbody tr th {\n",
       "        vertical-align: top;\n",
       "    }\n",
       "\n",
       "    .dataframe thead th {\n",
       "        text-align: right;\n",
       "    }\n",
       "</style>\n",
       "<table border=\"1\" class=\"dataframe\">\n",
       "  <thead>\n",
       "    <tr style=\"text-align: right;\">\n",
       "      <th></th>\n",
       "      <th>word1</th>\n",
       "      <th>word2</th>\n",
       "    </tr>\n",
       "  </thead>\n",
       "  <tbody>\n",
       "    <tr>\n",
       "      <th>1</th>\n",
       "      <td>those</td>\n",
       "      <td>shote</td>\n",
       "    </tr>\n",
       "    <tr>\n",
       "      <th>2</th>\n",
       "      <td>those</td>\n",
       "      <td>sothe</td>\n",
       "    </tr>\n",
       "  </tbody>\n",
       "</table>\n",
       "</div>"
      ],
      "text/plain": [
       "   word1  word2\n",
       "1  those  shote\n",
       "2  those  sothe"
      ]
     },
     "execution_count": 19,
     "metadata": {},
     "output_type": "execute_result"
    }
   ],
   "source": [
    "words_sharing_all_letters.loc[words_sharing_all_letters[\"word1\"] == \"those\"]"
   ]
  },
  {
   "cell_type": "code",
   "execution_count": 20,
   "id": "35f50a70",
   "metadata": {
    "ExecuteTime": {
     "end_time": "2022-03-21T11:14:41.027826Z",
     "start_time": "2022-03-21T11:14:41.019875Z"
    }
   },
   "outputs": [
    {
     "data": {
      "text/html": [
       "<div>\n",
       "<style scoped>\n",
       "    .dataframe tbody tr th:only-of-type {\n",
       "        vertical-align: middle;\n",
       "    }\n",
       "\n",
       "    .dataframe tbody tr th {\n",
       "        vertical-align: top;\n",
       "    }\n",
       "\n",
       "    .dataframe thead th {\n",
       "        text-align: right;\n",
       "    }\n",
       "</style>\n",
       "<table border=\"1\" class=\"dataframe\">\n",
       "  <thead>\n",
       "    <tr style=\"text-align: right;\">\n",
       "      <th></th>\n",
       "      <th>word1</th>\n",
       "      <th>word2</th>\n",
       "    </tr>\n",
       "  </thead>\n",
       "  <tbody>\n",
       "    <tr>\n",
       "      <th>211</th>\n",
       "      <td>stale</td>\n",
       "      <td>satle</td>\n",
       "    </tr>\n",
       "    <tr>\n",
       "      <th>212</th>\n",
       "      <td>stale</td>\n",
       "      <td>stela</td>\n",
       "    </tr>\n",
       "    <tr>\n",
       "      <th>213</th>\n",
       "      <td>stale</td>\n",
       "      <td>astel</td>\n",
       "    </tr>\n",
       "  </tbody>\n",
       "</table>\n",
       "</div>"
      ],
      "text/plain": [
       "     word1  word2\n",
       "211  stale  satle\n",
       "212  stale  stela\n",
       "213  stale  astel"
      ]
     },
     "execution_count": 20,
     "metadata": {},
     "output_type": "execute_result"
    }
   ],
   "source": [
    "words_sharing_all_letters.loc[words_sharing_all_letters[\"word1\"] == \"stale\"]"
   ]
  },
  {
   "cell_type": "code",
   "execution_count": 21,
   "id": "c03980d8",
   "metadata": {
    "ExecuteTime": {
     "end_time": "2022-03-21T11:14:41.036498Z",
     "start_time": "2022-03-21T11:14:41.030228Z"
    }
   },
   "outputs": [
    {
     "data": {
      "text/plain": [
       "steal    6\n",
       "stria    5\n",
       "taper    5\n",
       "tales    5\n",
       "plate    5\n",
       "        ..\n",
       "widen    1\n",
       "chute    1\n",
       "flyer    1\n",
       "crisp    1\n",
       "oxfly    1\n",
       "Name: word1, Length: 387, dtype: int64"
      ]
     },
     "execution_count": 21,
     "metadata": {},
     "output_type": "execute_result"
    }
   ],
   "source": [
    "words_sharing_all_letters[\"word1\"].value_counts()"
   ]
  },
  {
   "cell_type": "code",
   "execution_count": 22,
   "id": "ab31a0f7",
   "metadata": {
    "ExecuteTime": {
     "end_time": "2022-03-21T11:14:41.068222Z",
     "start_time": "2022-03-21T11:14:41.038649Z"
    }
   },
   "outputs": [
    {
     "data": {
      "text/html": [
       "<div>\n",
       "<style scoped>\n",
       "    .dataframe tbody tr th:only-of-type {\n",
       "        vertical-align: middle;\n",
       "    }\n",
       "\n",
       "    .dataframe tbody tr th {\n",
       "        vertical-align: top;\n",
       "    }\n",
       "\n",
       "    .dataframe thead th {\n",
       "        text-align: right;\n",
       "    }\n",
       "</style>\n",
       "<table border=\"1\" class=\"dataframe\">\n",
       "  <thead>\n",
       "    <tr style=\"text-align: right;\">\n",
       "      <th></th>\n",
       "      <th>word1</th>\n",
       "      <th>word2</th>\n",
       "    </tr>\n",
       "  </thead>\n",
       "  <tbody>\n",
       "    <tr>\n",
       "      <th>0</th>\n",
       "      <td>abode</td>\n",
       "      <td>adobe</td>\n",
       "    </tr>\n",
       "    <tr>\n",
       "      <th>1</th>\n",
       "      <td>abort</td>\n",
       "      <td>tabor</td>\n",
       "    </tr>\n",
       "    <tr>\n",
       "      <th>2</th>\n",
       "      <td>acred</td>\n",
       "      <td>cader</td>\n",
       "    </tr>\n",
       "    <tr>\n",
       "      <th>3</th>\n",
       "      <td>acrid</td>\n",
       "      <td>caird</td>\n",
       "    </tr>\n",
       "    <tr>\n",
       "      <th>4</th>\n",
       "      <td>adept</td>\n",
       "      <td>pated</td>\n",
       "    </tr>\n",
       "    <tr>\n",
       "      <th>...</th>\n",
       "      <td>...</td>\n",
       "      <td>...</td>\n",
       "    </tr>\n",
       "    <tr>\n",
       "      <th>382</th>\n",
       "      <td>worth</td>\n",
       "      <td>wroth, whort</td>\n",
       "    </tr>\n",
       "    <tr>\n",
       "      <th>383</th>\n",
       "      <td>wrath</td>\n",
       "      <td>thraw</td>\n",
       "    </tr>\n",
       "    <tr>\n",
       "      <th>384</th>\n",
       "      <td>wreak</td>\n",
       "      <td>waker</td>\n",
       "    </tr>\n",
       "    <tr>\n",
       "      <th>385</th>\n",
       "      <td>wrote</td>\n",
       "      <td>tower</td>\n",
       "    </tr>\n",
       "    <tr>\n",
       "      <th>386</th>\n",
       "      <td>wroth</td>\n",
       "      <td>whort</td>\n",
       "    </tr>\n",
       "  </tbody>\n",
       "</table>\n",
       "<p>387 rows × 2 columns</p>\n",
       "</div>"
      ],
      "text/plain": [
       "     word1         word2\n",
       "0    abode         adobe\n",
       "1    abort         tabor\n",
       "2    acred         cader\n",
       "3    acrid         caird\n",
       "4    adept         pated\n",
       "..     ...           ...\n",
       "382  worth  wroth, whort\n",
       "383  wrath         thraw\n",
       "384  wreak         waker\n",
       "385  wrote         tower\n",
       "386  wroth         whort\n",
       "\n",
       "[387 rows x 2 columns]"
      ]
     },
     "execution_count": 22,
     "metadata": {},
     "output_type": "execute_result"
    }
   ],
   "source": [
    "anagrams = pd.pivot_table(words_sharing_all_letters,\n",
    "                          values=\"word2\",\n",
    "                          columns=\"word1\",\n",
    "                          index=None,\n",
    "                          aggfunc=lambda x: \", \".join(x)).T\n",
    "anagrams.reset_index(inplace=True)\n",
    "anagrams"
   ]
  },
  {
   "cell_type": "code",
   "execution_count": 23,
   "id": "f1e38571",
   "metadata": {
    "ExecuteTime": {
     "end_time": "2022-03-21T11:14:41.079913Z",
     "start_time": "2022-03-21T11:14:41.069994Z"
    }
   },
   "outputs": [
    {
     "data": {
      "text/html": [
       "<div>\n",
       "<style scoped>\n",
       "    .dataframe tbody tr th:only-of-type {\n",
       "        vertical-align: middle;\n",
       "    }\n",
       "\n",
       "    .dataframe tbody tr th {\n",
       "        vertical-align: top;\n",
       "    }\n",
       "\n",
       "    .dataframe thead th {\n",
       "        text-align: right;\n",
       "    }\n",
       "</style>\n",
       "<table border=\"1\" class=\"dataframe\">\n",
       "  <thead>\n",
       "    <tr style=\"text-align: right;\">\n",
       "      <th></th>\n",
       "      <th>word1</th>\n",
       "      <th>word2</th>\n",
       "      <th>anagrams</th>\n",
       "    </tr>\n",
       "  </thead>\n",
       "  <tbody>\n",
       "    <tr>\n",
       "      <th>0</th>\n",
       "      <td>abode</td>\n",
       "      <td>adobe</td>\n",
       "      <td>abode, adobe</td>\n",
       "    </tr>\n",
       "    <tr>\n",
       "      <th>1</th>\n",
       "      <td>abort</td>\n",
       "      <td>tabor</td>\n",
       "      <td>abort, tabor</td>\n",
       "    </tr>\n",
       "    <tr>\n",
       "      <th>2</th>\n",
       "      <td>acred</td>\n",
       "      <td>cader</td>\n",
       "      <td>acred, cader</td>\n",
       "    </tr>\n",
       "    <tr>\n",
       "      <th>3</th>\n",
       "      <td>acrid</td>\n",
       "      <td>caird</td>\n",
       "      <td>acrid, caird</td>\n",
       "    </tr>\n",
       "    <tr>\n",
       "      <th>4</th>\n",
       "      <td>adept</td>\n",
       "      <td>pated</td>\n",
       "      <td>adept, pated</td>\n",
       "    </tr>\n",
       "    <tr>\n",
       "      <th>...</th>\n",
       "      <td>...</td>\n",
       "      <td>...</td>\n",
       "      <td>...</td>\n",
       "    </tr>\n",
       "    <tr>\n",
       "      <th>382</th>\n",
       "      <td>worth</td>\n",
       "      <td>wroth, whort</td>\n",
       "      <td>worth, wroth, whort</td>\n",
       "    </tr>\n",
       "    <tr>\n",
       "      <th>383</th>\n",
       "      <td>wrath</td>\n",
       "      <td>thraw</td>\n",
       "      <td>wrath, thraw</td>\n",
       "    </tr>\n",
       "    <tr>\n",
       "      <th>384</th>\n",
       "      <td>wreak</td>\n",
       "      <td>waker</td>\n",
       "      <td>wreak, waker</td>\n",
       "    </tr>\n",
       "    <tr>\n",
       "      <th>385</th>\n",
       "      <td>wrote</td>\n",
       "      <td>tower</td>\n",
       "      <td>wrote, tower</td>\n",
       "    </tr>\n",
       "    <tr>\n",
       "      <th>386</th>\n",
       "      <td>wroth</td>\n",
       "      <td>whort</td>\n",
       "      <td>wroth, whort</td>\n",
       "    </tr>\n",
       "  </tbody>\n",
       "</table>\n",
       "<p>387 rows × 3 columns</p>\n",
       "</div>"
      ],
      "text/plain": [
       "     word1         word2             anagrams\n",
       "0    abode         adobe         abode, adobe\n",
       "1    abort         tabor         abort, tabor\n",
       "2    acred         cader         acred, cader\n",
       "3    acrid         caird         acrid, caird\n",
       "4    adept         pated         adept, pated\n",
       "..     ...           ...                  ...\n",
       "382  worth  wroth, whort  worth, wroth, whort\n",
       "383  wrath         thraw         wrath, thraw\n",
       "384  wreak         waker         wreak, waker\n",
       "385  wrote         tower         wrote, tower\n",
       "386  wroth         whort         wroth, whort\n",
       "\n",
       "[387 rows x 3 columns]"
      ]
     },
     "execution_count": 23,
     "metadata": {},
     "output_type": "execute_result"
    }
   ],
   "source": [
    "anagrams[\"anagrams\"] = [\", \".join(x) for x in zip(anagrams[\"word1\"], anagrams[\"word2\"])]\n",
    "anagrams"
   ]
  },
  {
   "cell_type": "code",
   "execution_count": 24,
   "id": "e33da101",
   "metadata": {
    "ExecuteTime": {
     "end_time": "2022-03-21T11:14:41.086343Z",
     "start_time": "2022-03-21T11:14:41.081644Z"
    }
   },
   "outputs": [],
   "source": [
    "anagrams.rename(columns={\"word1\": \"word\"}, inplace=True)\n",
    "anagrams.drop(columns=[\"word2\"], inplace=True)"
   ]
  },
  {
   "cell_type": "code",
   "execution_count": 25,
   "id": "2c1b41a6",
   "metadata": {
    "ExecuteTime": {
     "end_time": "2022-03-21T11:14:41.095724Z",
     "start_time": "2022-03-21T11:14:41.088444Z"
    }
   },
   "outputs": [
    {
     "data": {
      "text/html": [
       "<div>\n",
       "<style scoped>\n",
       "    .dataframe tbody tr th:only-of-type {\n",
       "        vertical-align: middle;\n",
       "    }\n",
       "\n",
       "    .dataframe tbody tr th {\n",
       "        vertical-align: top;\n",
       "    }\n",
       "\n",
       "    .dataframe thead th {\n",
       "        text-align: right;\n",
       "    }\n",
       "</style>\n",
       "<table border=\"1\" class=\"dataframe\">\n",
       "  <thead>\n",
       "    <tr style=\"text-align: right;\">\n",
       "      <th></th>\n",
       "      <th>word</th>\n",
       "      <th>anagrams</th>\n",
       "    </tr>\n",
       "  </thead>\n",
       "  <tbody>\n",
       "    <tr>\n",
       "      <th>277</th>\n",
       "      <td>spare</td>\n",
       "      <td>spare, spear, parse, prase, asper</td>\n",
       "    </tr>\n",
       "    <tr>\n",
       "      <th>326</th>\n",
       "      <td>taper</td>\n",
       "      <td>taper, prate, petar, trape, apert, peart</td>\n",
       "    </tr>\n",
       "  </tbody>\n",
       "</table>\n",
       "</div>"
      ],
      "text/plain": [
       "      word                                  anagrams\n",
       "277  spare         spare, spear, parse, prase, asper\n",
       "326  taper  taper, prate, petar, trape, apert, peart"
      ]
     },
     "execution_count": 25,
     "metadata": {},
     "output_type": "execute_result"
    }
   ],
   "source": [
    "anagrams.loc[(anagrams[\"word\"] == \"spare\") | (anagrams[\"word\"] == \"taper\") | (anagrams[\"word\"] == \"teams\")]"
   ]
  },
  {
   "cell_type": "code",
   "execution_count": 26,
   "id": "2d8a72bf",
   "metadata": {
    "ExecuteTime": {
     "end_time": "2022-03-21T11:14:41.104261Z",
     "start_time": "2022-03-21T11:14:41.097506Z"
    }
   },
   "outputs": [
    {
     "data": {
      "text/html": [
       "<div>\n",
       "<style scoped>\n",
       "    .dataframe tbody tr th:only-of-type {\n",
       "        vertical-align: middle;\n",
       "    }\n",
       "\n",
       "    .dataframe tbody tr th {\n",
       "        vertical-align: top;\n",
       "    }\n",
       "\n",
       "    .dataframe thead th {\n",
       "        text-align: right;\n",
       "    }\n",
       "</style>\n",
       "<table border=\"1\" class=\"dataframe\">\n",
       "  <thead>\n",
       "    <tr style=\"text-align: right;\">\n",
       "      <th></th>\n",
       "      <th>word</th>\n",
       "      <th>anagrams</th>\n",
       "    </tr>\n",
       "  </thead>\n",
       "  <tbody>\n",
       "    <tr>\n",
       "      <th>336</th>\n",
       "      <td>those</td>\n",
       "      <td>those, shote, sothe</td>\n",
       "    </tr>\n",
       "  </tbody>\n",
       "</table>\n",
       "</div>"
      ],
      "text/plain": [
       "      word             anagrams\n",
       "336  those  those, shote, sothe"
      ]
     },
     "execution_count": 26,
     "metadata": {},
     "output_type": "execute_result"
    }
   ],
   "source": [
    "anagrams.loc[anagrams[\"word\"] == \"those\"]"
   ]
  },
  {
   "cell_type": "code",
   "execution_count": 27,
   "id": "b125cbb5",
   "metadata": {
    "ExecuteTime": {
     "end_time": "2022-03-21T11:14:41.112601Z",
     "start_time": "2022-03-21T11:14:41.105954Z"
    }
   },
   "outputs": [
    {
     "data": {
      "text/html": [
       "<div>\n",
       "<style scoped>\n",
       "    .dataframe tbody tr th:only-of-type {\n",
       "        vertical-align: middle;\n",
       "    }\n",
       "\n",
       "    .dataframe tbody tr th {\n",
       "        vertical-align: top;\n",
       "    }\n",
       "\n",
       "    .dataframe thead th {\n",
       "        text-align: right;\n",
       "    }\n",
       "</style>\n",
       "<table border=\"1\" class=\"dataframe\">\n",
       "  <thead>\n",
       "    <tr style=\"text-align: right;\">\n",
       "      <th></th>\n",
       "      <th>word</th>\n",
       "      <th>anagrams</th>\n",
       "    </tr>\n",
       "  </thead>\n",
       "  <tbody>\n",
       "    <tr>\n",
       "      <th>287</th>\n",
       "      <td>stale</td>\n",
       "      <td>stale, satle, stela, astel</td>\n",
       "    </tr>\n",
       "  </tbody>\n",
       "</table>\n",
       "</div>"
      ],
      "text/plain": [
       "      word                    anagrams\n",
       "287  stale  stale, satle, stela, astel"
      ]
     },
     "execution_count": 27,
     "metadata": {},
     "output_type": "execute_result"
    }
   ],
   "source": [
    "anagrams.loc[anagrams[\"word\"] == \"stale\"]"
   ]
  },
  {
   "cell_type": "code",
   "execution_count": 28,
   "id": "b1ac80bc",
   "metadata": {
    "ExecuteTime": {
     "end_time": "2022-03-21T11:14:41.123978Z",
     "start_time": "2022-03-21T11:14:41.120068Z"
    }
   },
   "outputs": [
    {
     "data": {
      "text/plain": [
       "387"
      ]
     },
     "execution_count": 28,
     "metadata": {},
     "output_type": "execute_result"
    }
   ],
   "source": [
    "anagrams[\"word\"].nunique()"
   ]
  },
  {
   "cell_type": "code",
   "execution_count": 29,
   "id": "902e7ee4",
   "metadata": {
    "ExecuteTime": {
     "end_time": "2022-03-21T11:14:41.130146Z",
     "start_time": "2022-03-21T11:14:41.125498Z"
    }
   },
   "outputs": [],
   "source": [
    "anagrams.to_csv(\"./data/anagrams.csv\", index=False)"
   ]
  },
  {
   "cell_type": "markdown",
   "id": "e5707ed4",
   "metadata": {},
   "source": [
    "## Get word frequency of anagrams"
   ]
  },
  {
   "cell_type": "code",
   "execution_count": 30,
   "id": "09d3b05f",
   "metadata": {
    "ExecuteTime": {
     "end_time": "2022-03-21T11:14:41.251645Z",
     "start_time": "2022-03-21T11:14:41.132151Z"
    }
   },
   "outputs": [],
   "source": [
    "random.seed(123)\n",
    "anagrams_word_freq = anagram_word_frequency(anagrams[\"anagrams\"].to_numpy())"
   ]
  },
  {
   "cell_type": "markdown",
   "id": "ccdea7e7",
   "metadata": {},
   "source": [
    "## Keep anagrams with the highest frequency"
   ]
  },
  {
   "cell_type": "code",
   "execution_count": 31,
   "id": "ec962ef8",
   "metadata": {
    "ExecuteTime": {
     "end_time": "2022-03-21T11:14:41.259248Z",
     "start_time": "2022-03-21T11:14:41.253423Z"
    }
   },
   "outputs": [
    {
     "data": {
      "text/plain": [
       "array(['abode', 'abort', 'acred', 'acrid', 'adept', 'adore', 'afire',\n",
       "       'aider', 'aitch', 'alert'], dtype=object)"
      ]
     },
     "execution_count": 31,
     "metadata": {},
     "output_type": "execute_result"
    }
   ],
   "source": [
    "anagrams_keep_words = anagram_to_keep(anagrams_word_freq)\n",
    "anagrams_keep_words[:10]"
   ]
  },
  {
   "cell_type": "code",
   "execution_count": 32,
   "id": "4c05d4b0",
   "metadata": {
    "ExecuteTime": {
     "end_time": "2022-03-21T11:14:41.266417Z",
     "start_time": "2022-03-21T11:14:41.262331Z"
    }
   },
   "outputs": [
    {
     "data": {
      "text/plain": [
       "387"
      ]
     },
     "execution_count": 32,
     "metadata": {},
     "output_type": "execute_result"
    }
   ],
   "source": [
    "anagrams_keep_words.size"
   ]
  },
  {
   "cell_type": "markdown",
   "id": "d5b04768",
   "metadata": {},
   "source": [
    "## Remove these anagrams"
   ]
  },
  {
   "cell_type": "code",
   "execution_count": 33,
   "id": "c7d55ca7",
   "metadata": {
    "ExecuteTime": {
     "end_time": "2022-03-21T11:14:41.272797Z",
     "start_time": "2022-03-21T11:14:41.267827Z"
    }
   },
   "outputs": [
    {
     "data": {
      "text/plain": [
       "array([list(['abode', 'adobe']), list(['abort', 'tabor']),\n",
       "       list(['acred', 'cader']), list(['acrid', 'caird']),\n",
       "       list(['adept', 'pated']), list(['adore', 'oread']),\n",
       "       list(['afire', 'feria']), list(['aider', 'irade']),\n",
       "       list(['aitch', 'chati']), list(['alert', 'alter'])], dtype=object)"
      ]
     },
     "execution_count": 33,
     "metadata": {},
     "output_type": "execute_result"
    }
   ],
   "source": [
    "arr_of_words = np.array([x.split(\", \") for x in anagrams[\"anagrams\"].to_numpy()], dtype=object)\n",
    "arr_of_words[:10]"
   ]
  },
  {
   "cell_type": "code",
   "execution_count": 34,
   "id": "9623989f",
   "metadata": {
    "ExecuteTime": {
     "end_time": "2022-03-21T11:14:41.278830Z",
     "start_time": "2022-03-21T11:14:41.274539Z"
    }
   },
   "outputs": [
    {
     "data": {
      "text/plain": [
       "array(['abode', 'abort', 'acerb', 'acred', 'acrid', 'acton', 'adeps',\n",
       "       'adept', 'adobe', 'adore'], dtype='<U5')"
      ]
     },
     "execution_count": 34,
     "metadata": {},
     "output_type": "execute_result"
    }
   ],
   "source": [
    "flat_arr_of_words = np.unique(np.concatenate(arr_of_words))\n",
    "flat_arr_of_words[:10]"
   ]
  },
  {
   "cell_type": "code",
   "execution_count": 35,
   "id": "deb49cc2",
   "metadata": {
    "ExecuteTime": {
     "end_time": "2022-03-21T11:14:41.283879Z",
     "start_time": "2022-03-21T11:14:41.280532Z"
    }
   },
   "outputs": [
    {
     "data": {
      "text/plain": [
       "672"
      ]
     },
     "execution_count": 35,
     "metadata": {},
     "output_type": "execute_result"
    }
   ],
   "source": [
    "flat_arr_of_words.size"
   ]
  },
  {
   "cell_type": "code",
   "execution_count": 36,
   "id": "afb5e34b",
   "metadata": {
    "ExecuteTime": {
     "end_time": "2022-03-21T11:14:41.322573Z",
     "start_time": "2022-03-21T11:14:41.285198Z"
    }
   },
   "outputs": [],
   "source": [
    "anagrams_to_remove = np.setdiff1d(flat_arr_of_words, anagrams_keep_words)"
   ]
  },
  {
   "cell_type": "code",
   "execution_count": 37,
   "id": "693726cd",
   "metadata": {
    "ExecuteTime": {
     "end_time": "2022-03-21T11:14:41.327734Z",
     "start_time": "2022-03-21T11:14:41.324513Z"
    }
   },
   "outputs": [
    {
     "data": {
      "text/plain": [
       "285"
      ]
     },
     "execution_count": 37,
     "metadata": {},
     "output_type": "execute_result"
    }
   ],
   "source": [
    "anagrams_to_remove.size"
   ]
  },
  {
   "cell_type": "code",
   "execution_count": 38,
   "id": "476a6ce0",
   "metadata": {
    "ExecuteTime": {
     "end_time": "2022-03-21T11:14:41.332737Z",
     "start_time": "2022-03-21T11:14:41.329610Z"
    }
   },
   "outputs": [
    {
     "data": {
      "text/plain": [
       "array(['acerb', 'acton', 'adeps', 'adobe', 'aesir', 'aimer', 'alfet',\n",
       "       'algin', 'almry', 'alpen'], dtype='<U5')"
      ]
     },
     "execution_count": 38,
     "metadata": {},
     "output_type": "execute_result"
    }
   ],
   "source": [
    "anagrams_to_remove[:10]"
   ]
  },
  {
   "cell_type": "markdown",
   "id": "5946a749",
   "metadata": {},
   "source": [
    "# Final words"
   ]
  },
  {
   "cell_type": "code",
   "execution_count": 39,
   "id": "369c9a54",
   "metadata": {
    "ExecuteTime": {
     "end_time": "2022-03-21T11:14:41.339159Z",
     "start_time": "2022-03-21T11:14:41.334791Z"
    }
   },
   "outputs": [
    {
     "data": {
      "text/plain": [
       "2080"
      ]
     },
     "execution_count": 39,
     "metadata": {},
     "output_type": "execute_result"
    }
   ],
   "source": [
    "len(common_starting_letters)"
   ]
  },
  {
   "cell_type": "code",
   "execution_count": 40,
   "id": "23df3284",
   "metadata": {
    "ExecuteTime": {
     "end_time": "2022-03-21T11:14:41.345314Z",
     "start_time": "2022-03-21T11:14:41.340661Z"
    }
   },
   "outputs": [],
   "source": [
    "common_starting_letters_final_words_idx = \\\n",
    "    (np.isin(np.array(common_starting_letters), anagrams_to_remove, invert=True))"
   ]
  },
  {
   "cell_type": "code",
   "execution_count": 41,
   "id": "e37d8f41",
   "metadata": {
    "ExecuteTime": {
     "end_time": "2022-03-21T11:14:41.350461Z",
     "start_time": "2022-03-21T11:14:41.347183Z"
    }
   },
   "outputs": [
    {
     "data": {
      "text/plain": [
       "array([ True,  True,  True, ...,  True,  True,  True])"
      ]
     },
     "execution_count": 41,
     "metadata": {},
     "output_type": "execute_result"
    }
   ],
   "source": [
    "common_starting_letters_final_words_idx"
   ]
  },
  {
   "cell_type": "code",
   "execution_count": 42,
   "id": "93b29bac",
   "metadata": {
    "ExecuteTime": {
     "end_time": "2022-03-21T11:14:41.355023Z",
     "start_time": "2022-03-21T11:14:41.352423Z"
    }
   },
   "outputs": [],
   "source": [
    "common_starting_letters_final_words = \\\n",
    "    np.array(common_starting_letters)[common_starting_letters_final_words_idx]"
   ]
  },
  {
   "cell_type": "code",
   "execution_count": 43,
   "id": "9e2796f1",
   "metadata": {
    "ExecuteTime": {
     "end_time": "2022-03-21T11:14:41.360312Z",
     "start_time": "2022-03-21T11:14:41.356543Z"
    }
   },
   "outputs": [
    {
     "data": {
      "text/plain": [
       "1795"
      ]
     },
     "execution_count": 43,
     "metadata": {},
     "output_type": "execute_result"
    }
   ],
   "source": [
    "common_starting_letters_final_words.size"
   ]
  },
  {
   "cell_type": "code",
   "execution_count": 44,
   "id": "834fc19e",
   "metadata": {
    "ExecuteTime": {
     "end_time": "2022-03-21T11:14:41.367750Z",
     "start_time": "2022-03-21T11:14:41.362115Z"
    }
   },
   "outputs": [],
   "source": [
    "np.savetxt(\"./data/webster_common_starting_letters_final_words.txt\", common_starting_letters_final_words, fmt=\"%s\")\n",
    "\n",
    "# OR\n",
    "# with open(\"./data/webster_common_starting_letters_final_words.txt\", mode=\"w\") as file:\n",
    "#     file.write(\"\\n\".join(common_starting_letters_final_words))"
   ]
  },
  {
   "cell_type": "code",
   "execution_count": null,
   "id": "eb04f1fc",
   "metadata": {},
   "outputs": [],
   "source": []
  },
  {
   "cell_type": "code",
   "execution_count": null,
   "id": "d567306d",
   "metadata": {},
   "outputs": [],
   "source": []
  }
 ],
 "metadata": {
  "kernelspec": {
   "display_name": "wordle",
   "language": "python",
   "name": "wordle"
  },
  "language_info": {
   "codemirror_mode": {
    "name": "ipython",
    "version": 3
   },
   "file_extension": ".py",
   "mimetype": "text/x-python",
   "name": "python",
   "nbconvert_exporter": "python",
   "pygments_lexer": "ipython3",
   "version": "3.9.7"
  },
  "toc": {
   "base_numbering": 1,
   "nav_menu": {},
   "number_sections": true,
   "sideBar": true,
   "skip_h1_title": false,
   "title_cell": "Table of Contents",
   "title_sidebar": "Contents",
   "toc_cell": false,
   "toc_position": {},
   "toc_section_display": true,
   "toc_window_display": false
  },
  "varInspector": {
   "cols": {
    "lenName": 16,
    "lenType": 16,
    "lenVar": 40
   },
   "kernels_config": {
    "python": {
     "delete_cmd_postfix": "",
     "delete_cmd_prefix": "del ",
     "library": "var_list.py",
     "varRefreshCmd": "print(var_dic_list())"
    },
    "r": {
     "delete_cmd_postfix": ") ",
     "delete_cmd_prefix": "rm(",
     "library": "var_list.r",
     "varRefreshCmd": "cat(var_dic_list()) "
    }
   },
   "types_to_exclude": [
    "module",
    "function",
    "builtin_function_or_method",
    "instance",
    "_Feature"
   ],
   "window_display": false
  }
 },
 "nbformat": 4,
 "nbformat_minor": 5
}
