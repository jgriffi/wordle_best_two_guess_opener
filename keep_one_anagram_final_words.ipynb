{
 "cells": [
  {
   "cell_type": "code",
   "execution_count": 1,
   "id": "5d30fa99",
   "metadata": {
    "ExecuteTime": {
     "end_time": "2022-03-21T11:14:33.667626Z",
     "start_time": "2022-03-21T11:14:32.405649Z"
    }
   },
   "outputs": [],
   "source": [
    "import json\n",
    "import urllib.request\n",
    "import pandas as pd\n",
    "import re\n",
    "import random\n",
    "import string\n",
    "from spellchecker import SpellChecker\n",
    "import numpy as np\n",
    "from wordle_helpers import (\n",
    "    words_with_commonly_used_letters,\n",
    "    words_starting_with_commonly_used_letters,\n",
    "    sorted_words_by_frequency,\n",
    "    anagram_pairs,\n",
    "    anagram_word_frequency,\n",
    "    anagram_to_keep\n",
    ")\n",
    "\n",
    "import os\n",
    "# where to save the data\n",
    "ROOT_DIR = \".\"\n",
    "FOLDER_NAME = \"data\"\n",
    "PATH_TO_FOLDER = os.path.join(ROOT_DIR, FOLDER_NAME)\n",
    "os.makedirs(PATH_TO_FOLDER, exist_ok=True)"
   ]
  },
  {
   "cell_type": "markdown",
   "id": "1308f840",
   "metadata": {},
   "source": [
    "# Load data  \n",
    "\n",
    "I'll be using the Webster's Unabridged English Dictionary as my source of English words, helpfully curated [here](https://github.com/adambom/dictionary)."
   ]
  },
  {
   "cell_type": "code",
   "execution_count": 2,
   "id": "b45d6f33",
   "metadata": {
    "ExecuteTime": {
     "end_time": "2022-03-21T11:14:37.217098Z",
     "start_time": "2022-03-21T11:14:33.670223Z"
    }
   },
   "outputs": [],
   "source": [
    "with urllib.request.urlopen(\"https://raw.githubusercontent.com/adambom/dictionary/master/dictionary.json\") as url:\n",
    "    data = json.load(url)\n"
   ]
  },
  {
   "cell_type": "code",
   "execution_count": 3,
   "id": "14303200",
   "metadata": {
    "ExecuteTime": {
     "end_time": "2022-03-21T11:14:37.250395Z",
     "start_time": "2022-03-21T11:14:37.218654Z"
    }
   },
   "outputs": [
    {
     "data": {
      "text/plain": [
       "{'DIPLOBLASTIC': 'Characterizing the ovum when it has two primary germinallayers.',\n",
       " 'DEFIGURE': 'To delineate. [Obs.]These two stones as they are here defigured. Weever.',\n",
       " 'LOMBARD': 'Of or pertaining to Lombardy, or the inhabitants of Lombardy.',\n",
       " 'BAHAISM': 'The religious tenets or practices of the Bahais.',\n",
       " 'FUMERELL': 'See Femerell.',\n",
       " 'ROYALET': 'A petty or powerless king. [R.]there were at this time two other royalets, as only kings by hisleave. Fuller.',\n",
       " 'TROPHIED': 'Adorned with trophies.The trophied arches, storied halls, invade. Pope.',\n",
       " 'ZEQUIN': 'See Sequin.',\n",
       " 'MILLWRIGHT': 'A mechanic whose occupation is to build mills, or to set uptheir machinery.',\n",
       " 'PHOTOGRAPHOMETER': 'An instrument for determining the sensibility of the platesemployed in photographic processes to luminous rays.',\n",
       " 'SCHEELIUM': 'The metal tungsten. [Obs.]',\n",
       " 'ALVEOLATE': 'Deeply pitted, like a honeycomb.',\n",
       " 'LIMULUS': 'The only existing genus of Merostomata. It includes only a fewspecies from the East Indies, and one (Limulus polyphemus) from theAtlantic coast of North America. Called also Molucca crab, king crab,horseshoe crab, and horsefoot.',\n",
       " 'OSMUND': 'A fern of the genus Osmunda, or flowering fern. The mostremarkable species is the osmund royal, or royal fern (Osmundaregalis), which grows in wet or boggy places, and has large bipinnatefronds, often with a panicle of capsules at the top. The rootstockcontains much starch, and has been used in stiffening linen.',\n",
       " 'POTTEEN': 'See Poteen.',\n",
       " 'UNDERRUN': 'To run or pass under; especially (Naut.), to pass along andunder, as a cable, for the purpose of taking it in, or of examiningit.',\n",
       " 'EMPLASTIC': 'Fit to be applied as a plaster; glutinous; adhesive; as,emplastic applications.',\n",
       " 'RHYTHMICS': 'The department of musical science which treats of the length ofsounds.',\n",
       " 'PLEUROPTERA': 'A group of Isectivora, including the colugo.',\n",
       " 'UNBLOODY': 'Not bloody. Dryden. Unbloody sacrifice. (a) A sacrifice inwhich no victim is slain. (b) (R. C. Ch.) The Mass.',\n",
       " 'CINCINNUS': 'A form of monochasium in which the lateral branches arisealternately on opposite sides of the false axis; -- called alsoscorpioid cyme. --Cin*cin\"nal (#), a.',\n",
       " 'INDOCILITY': 'The quality or state of being indocile; dullness of intellect;unteachableness; intractableness.The stiffness and indocility of the Pharisees. W. Montagu.',\n",
       " 'TELEOCEPHIAL': 'An extensive order of bony fishes including most of the commonmarket species, as bass, salmon, cod, perch, etc.',\n",
       " 'CANEBRAKE': 'A thicket of canes. Ellicott.',\n",
       " 'QUININIC': 'Pertaining to, or designating, a nitrogenous acid obtained as ayellow crystalline substance by the oxidation of quinine.',\n",
       " 'RICINIC': 'Pertaining to, or derived from, castor oil; formerly,designating an acid now called ricinoleic acid.',\n",
       " 'TELLURAL': 'Of or pertaining to the earth. [R.]',\n",
       " 'OTHERNESS': 'The quality or state of being other or different; alterity;oppositeness.',\n",
       " 'FASCICLE': 'A small bundle or collection; a compact cluster; as, a fascicleof fibers; a fascicle of flowers or roots.',\n",
       " 'REENJOYMENT': 'Renewed enjoiment.',\n",
       " 'LONGIROSTER': 'One of the Longirostres.',\n",
       " 'RHAPSODIZE': 'To utter as a rhapsody, or in the manner of a rhapsody Sterne.',\n",
       " 'WATER VIOLET': 'See under Violet.',\n",
       " 'TRUNCHEONED': 'Having a truncheon.',\n",
       " 'UNDERWENT': 'imp. of Undergo.',\n",
       " 'APITPAT': 'With quick beating or palpitation; pitapat. Congreve.',\n",
       " 'BRISKET': 'That part of the breast of an animal which extends from thefore legs back beneath the ribs; also applied to the fore part of ahorse, from the shoulders to the bottom of the chest.',\n",
       " 'KEPHALIN': 'One of a group of nitrogenous phosphorized principles, supposedby Thudichum to exist in brain tissue.',\n",
       " 'METELY': 'According to measure or proportion; proportionable;proportionate. [Obs.]',\n",
       " 'JOHNSON GRASS': 'A tall perennial grass (Sorghum Halepense), valuable in theSouthern and Western States for pasture and hay. The rootstocks arelarge and juicy and are eagerly sought by swine. Called also Cubagrass, Means grass, Evergreen millet, and Arabian millet.',\n",
       " 'MOP': 'A made-up face; a grimace. \"What mops and mowes it makes!\"Beau. & Fl.',\n",
       " 'SYMPOSIAC': 'Of or pertaining to compotations and merrymaking; happeningwhere company is drinking together; as, symposiac meetings.Symposiac disputations amongst my acquaintance. Arbuthnot.',\n",
       " 'ULVA': 'A genus of thin papery bright green seaweeds including thekinds called sea lettuce.',\n",
       " '-ANA': 'A suffix to names of persons or places, used to denote acollection of notable sayings, literary gossip, anecdotes, etc. Thus,Scaligerana is a book containing the sayings of Scaliger, Johnsonianaof Johnson, etc.',\n",
       " 'PHARISEAN': 'Following the practice of Pharisees; Pharisaic. [Obs.]\"Pharisean disciples.\" Milton.',\n",
       " 'PUTRIDNESS': 'Putridity. Floyer.',\n",
       " 'TOUSEL': 'Same as Tousle. [Colloq.]',\n",
       " 'TETRAGON': 'A plane figure having four sides and angles; a quadrangle, as asquare, a rhombus, etc.',\n",
       " 'HARELD': 'The long-tailed duck. See Old Squaw.',\n",
       " 'PYCNOSTYLE': 'See under Intercolumniation. -n.',\n",
       " 'BOLE': 'The trunk or stem of a tree, or that which is like it.Enormous elm-tree boles did stoop and lean. Tennyson.',\n",
       " 'BASISOLUTE': 'Prolonged at the base, as certain leaves.',\n",
       " 'HISTORIOGRAPHY': 'The art of employment of an historiographer.',\n",
       " 'CURSORILY': 'In a running or hasty manner; carelessly.',\n",
       " 'GLOSSARIST': 'A writer of glosses or of a glossary; a commentator; ascholiast. Tyrwhitt.',\n",
       " 'APOTACTITE': 'One of a sect of ancient Christians, who, in supposed imitationof the first believers, renounced all their possessions.',\n",
       " 'FRITHY': 'Woody. [Obs.] Skelton.',\n",
       " 'ZECHIN': 'See Sequin.',\n",
       " 'BESTAR': 'To sprinkle with, or as with, stars; to decorate with, or aswith, stars; to bestud. \"Bestarred with anemones.\" W. Black.',\n",
       " 'CARICATURIST': 'One who caricatures.',\n",
       " 'CHAMAL': 'The Angora goat. See Angora goat, under Angora.',\n",
       " 'OPINIATED': 'Opinionated. [Obs.]',\n",
       " 'PELICOSAURIA': 'A suborder of Theromorpha, including terrestrial reptiles fromthe Permian formation.',\n",
       " 'PICKERY': 'Petty theft. [Scot.] Holinshed.',\n",
       " 'DOUR': 'Hard; inflexible; obstinate; sour in aspect; hardy; bold.[Scot.]A dour wife, a sour old carlin. C. Reade.',\n",
       " 'AGERATUM': 'A genus of plants, one species of which (A. Mexicanum) haslavender-blue flowers in dense clusters.',\n",
       " 'BEDSTAFF': '\"A wooden pin stuck anciently on the sides of the bedstead, tohold the clothes from slipping on either side.\" Johnson.Hostess, accommodate us with a bedstaff. B. Jonson.Say there is no virtue in cudgels and bedstaves. Brome.',\n",
       " 'GLADFUL': 'Full of gladness; joyful; glad. [R.] -- Glad\"ful*ness, n. [R.]Spenser.It followed him with gladful glee. Spenser.',\n",
       " 'INDOXYL': 'A nitrogenous substance, C8H7NO, isomeric with oxindol,obtained as an oily liquid.',\n",
       " 'NOTHINGISM': 'Nihility; nothingness. [R.]',\n",
       " 'GNARL': 'To growl; to snarl.And wolves are gnarling who shall gnaw thee first. Shak.',\n",
       " 'ANGIOSPERMATOUS': 'Same as Angiospermous.',\n",
       " 'INCUNABULUM': 'A work of art or of human industry, of an early epoch;especially, a book printed before A. D. 1500.',\n",
       " 'MORIGERATION': 'Obsequiousness; obedience. [Obs.] Evelyn.',\n",
       " 'INCOMPARED': 'Peerless; incomparable. [Obs.] Spenser.',\n",
       " 'OVERSWAY': 'To bear sway over.',\n",
       " 'SUBSECUTE': 'To follow closely, or so as to overtake; to pursue. [Obs.]To follow and detain him, if by any possibility he could besubsecuted and overtaken. E. Hall.',\n",
       " 'BACILLUS': 'A variety of bacterium; a microscopic, rod-shaped vegetableorganism.',\n",
       " 'ETHEREALITY': \"The state of being ethereal; etherealness.Something of that ethereality of thought and manner which belonged toWordsworth's earlier lyrics. J. C. Shairp.\",\n",
       " 'REJOICER': 'One who rejoices.',\n",
       " 'SINGULT': 'A sigh or sobbing; also, a hiccough. [Obs.] Spenser. W. Browne.',\n",
       " 'MELAINOTYPE': 'See Melanotype.',\n",
       " 'STOPPED': 'Made by complete closure of the mouth organs; shut; -- said ofcertain consonants (p, b, t, d, etc.). H. Sweet.',\n",
       " 'WESTERING': \"Passing to the west.Toward heaven's descent had sloped his westering wheel. Milton.\",\n",
       " 'CHINAMAN': 'A native of China; a Chinese.',\n",
       " 'FORESKIN': 'The fold of skin which covers the glans of the penis; theprepuce.',\n",
       " 'CEPHALOTOME': 'An instrument for cutting into the fetal head, to facilitatedelivery.',\n",
       " 'OVERLOOKER': 'One who overlooks.',\n",
       " 'CARBINOL': 'Methyl alcohol, CH3OH; -- also, by extension, any one in thehomologous series of paraffine alcohols of which methyl alcohol isthe type.',\n",
       " 'PROFESSED': 'Openly declared, avowed, acknowledged, or claimed; as, aprofessed foe; a professed tyrant; a professed Christian. Theprofessed (R. C. Ch.) , a certain class among the Jesuits bound by aspecial vow. See the note under Jesuit.',\n",
       " 'COPPER-NOSE': 'A red nose. Shak.',\n",
       " 'ESOTERICISM': 'Esoteric doctrine or principles.',\n",
       " 'APLACENTAL': 'Belonging to the Aplacentata; without placenta.',\n",
       " 'JURAMENTUM': 'An oath.',\n",
       " 'LITHARGYRUM': 'Crystallized litharge, obtained by fusion in the form of fineyellow scales.',\n",
       " 'LUCIFERIAN': 'One of the followers of Lucifer, bishop of Cagliari, in thefourth century, who separated from the orthodox churches because theywould not go as far as he did in opposing the Arians.',\n",
       " 'VERDINE': 'A commercial name for green aniline dye.',\n",
       " 'ARUNDIFEROUS': 'Producing reeds or canes.',\n",
       " 'EXCEEDINGLY': 'To a very great degree; beyond what is usual; surpassingly. Itsignifies more than very.',\n",
       " 'STAGNANTLY': 'In a stagnant manner.',\n",
       " 'UNMAGISTRATE': 'To divest of the office or authority of a magistrate. [Obs.]Milton.',\n",
       " 'BOTTOM': 'The part of a ship which is ordinarily under water; hence, thevessel itself; a ship.My ventures are not in one bottom trusted. Shak.Not to sell the teas, but to return them to London in the samebottoms in which they were shipped. Bancroft.Full bottom, a hull of such shape as permits carrying a large amountof merchandise.',\n",
       " 'CARPETLESS': 'Without a carpet.',\n",
       " 'RESEMBLABLE': 'Admitting of being compared; like. [Obs.] Gower.',\n",
       " 'RINGBIRD': 'The reed bunting. It has a collar of white feathers. Calledalso ring bunting.',\n",
       " 'OVERGREEDY': 'Excessively greedy.',\n",
       " 'BOUNDING': 'Moving with a bound or bounds.The bounding pulse, the languid limb. Montgomery.',\n",
       " 'ASCERTAINMENT': 'The act of ascertaining; a reducing to certainty; a finding outby investigation; discovery.The positive ascertainment of its limits. Burke.',\n",
       " 'DEVOTEMENT': 'The state of being devoted, or set apart by a vow. [R.] Bp.Hurd.',\n",
       " 'CALOTYPE': 'A method of taking photographic pictures, on paper sensitizedwith iodide of silver; -- also called Talbotype, from the inventor,Mr. Fox. Talbot.',\n",
       " 'SANDWICH': 'Two pieces of bread and butter with a thin slice of meat,cheese, or the like, between them.',\n",
       " 'BORING': 'The chips or fragments made by boring. Boring bar, a revolvingor stationary bar, carrying one or more cutting tools for dressinground holes.-- Boring tool (Metal Working), a cutting tool placed in a cutterhead to dress round holes. Knight.',\n",
       " 'IMPERIOUSNESS': 'The quality or state of being imperious; arrogance;haughtiness.Imperiousness and severity is but an ill way of treating men who havereason of their own to guide them. Locke.',\n",
       " 'HAEMOPLASTIC': 'Same as Hæmatoplastic.',\n",
       " 'TANIST': \"In Ireland, a lord or proprietor of a tract of land or of acastle, elected by a family, under the system of tanistry.This family [the O'Hanlons] were tanists of a large territory withinthe present county of Armagh. M. A. Lower.\",\n",
       " 'MAINTOP': 'The platform about the head of the mainmast in square-riggedvessels.',\n",
       " 'NUMB': 'To make numb; to deprive of the power of sensation or motion;to render senseless or inert; to deaden; to benumb; to stupefy.For lazy winter numbs the laboring hand. Dryden.Like dull narcotics, numbing pain. Tennyson.',\n",
       " 'TANYSTOMATA': 'A division of dipterous insects in which the proboscis is largeand contains lancelike mandibles and maxillæ. The horseflies androbber flies are examples.',\n",
       " 'ARLES': 'An earnest; earnest money; money paid to bind a bargain.[Scot.] Arles penny, earnest money given to servants. Kersey.',\n",
       " 'SACCHARIMETRY': 'The act, process or method of determining the amount and kindof sugar present in sirup, molasses, and the like, especially by theemployment of polarizing apparatus.',\n",
       " 'GRAMOPHONE': 'An instrument for recording, preserving, and reproducingsounds, the record being a tracing of a phonautograph etched in somesolid material. Reproduction  is accomplished by means of a systemattached to an elastic diaphragm.',\n",
       " 'LIMOUS': 'Muddy; slimy; thick. Sir T. Browne.',\n",
       " 'RESORBENT': 'Swallowing up. Wodhull.',\n",
       " 'REIS': 'The word is used as a Portuguese designation of money ofaccount, one hundred reis being about equal in value to eleven cents.',\n",
       " 'DEPHLEGMATOR': 'An instrument or apparatus in which water is separated byevaporation or distillation; the part of a distilling apparatus inwhich the separation of the vapors is effected.',\n",
       " 'PADDLEWOOD': 'The light elastic wood of the Aspidosperma excelsum, a tree ofGuiana having a fluted trunk readily split into planks.',\n",
       " 'MISTITLE': 'To call by a wrong title.',\n",
       " 'PERSUASIBILITY': 'Capability of being persuaded. Hawthorne.',\n",
       " 'RAFTING': 'The business of making or managing rafts.',\n",
       " 'PROTEROGYNOUS': 'Having the pistil come to maturity before the stamens;protogynous; -- opposed to proterandrous.',\n",
       " 'MULTIFACED': 'Having many faces.',\n",
       " 'CATCHPENNY': 'Made or contrived for getting small sums of money from theignorant or unwary; as, a catchpenny book; a catchpenny show.-- n.',\n",
       " 'VILLA': 'A country seat; a country or suburban residence of somepretensions to elegance. Dryden. Cowper.',\n",
       " 'OARSMAN': 'One who uses, or is skilled in the use of, an oar; a rower.',\n",
       " 'MAGNIFICENCE': 'The act of doing what magnificent; the state or quality ofbeing magnificent. Acts xix. 27. \"Then cometh magnificence.\" Chaucer.And, for the heaven\\'s wide circuit, let it speak The Maker\\'s highmagnificence, who built so spacious. Milton.The noblest monuments of Roman magnificence. Eustace.',\n",
       " 'THUNDERHEAD': 'A rounded mass of cloud, with shining white edges; a cumulus, -- often appearing before a thunderstorm.',\n",
       " 'SORTANCE': 'Suitableness; agreement. [Obs.] hak.',\n",
       " 'TRIFOLIUM': 'A genus of leguminous herbs with densely spiked flowers andusually trifoliate leaves; trefoil. There are many species, all ofwhich are called clover. See Clover.',\n",
       " 'GLIB': 'To make glib. [Obs.] Bp. Hall.',\n",
       " 'FOOTHOT': 'Hastily; immediately; instantly; on the spot; hotfloot. Gower.Custance have they taken anon, foothot. Chaucer.',\n",
       " 'ORPHELINE': 'An orphan. [Obs.] Udcll.',\n",
       " 'ADULARIA': 'A transparent or translucent variety of common feldspar, ororthoclase, which often shows pearly opalescent reflections; --called by lapidaries moonstone.',\n",
       " 'JUMPING DISEASE': 'A convulsive tic similar to or identical with miryachit,observed among the woodsmen of Maine.',\n",
       " 'STAGY': 'Having an air or manner characteristic of the stage;theatrical; artificial; as, a stagy tone or bearing; --chiefly useddepreciatively.',\n",
       " 'POLITICASTER': 'A petty politician; a pretender in politics. Milton.',\n",
       " 'SHRIEKER': 'One who utters a shriek.',\n",
       " 'PRATIQUE': 'Primarily, liberty of converse; intercourse; hence, acertificate, given after compliance with quarantine regulations,permitting a ship to land passengers and crew; -- a term usedparticularly in the south of Europe.',\n",
       " 'HIGH': 'To hie. [Obs.]Men must high them apace, and make haste. Holland.',\n",
       " 'PUSILLANIMOUSLY': 'With pusillanimity.',\n",
       " 'MALTMAN': 'A man whose occupation is to make malt.',\n",
       " 'VIRGINIA': 'One of the States of the United States of America.-- a.',\n",
       " 'AMISSIBLE': 'Liable to be lost. [R.]',\n",
       " 'QUARTERLY': 'A periodical work published once a quarter, or four times in ayear.',\n",
       " 'WATER BELLOWS': 'Same as Tromp.',\n",
       " 'INCORPOREALIST': 'One who believes in incorporealism. Cudworth.',\n",
       " 'PROTEUS': 'A sea god in the service of Neptune who assumed differentshapes at will. Hence, one who easily changes his appearance orprinciples.',\n",
       " 'ANTISYPHILITIC': 'Efficacious against syphilis.-- n.',\n",
       " 'CATACAUSTIC': 'Relating to, or having the properties of, a caustic curveformed by reflection. See Caustic, a. Nichol.',\n",
       " 'RELENTMENT': 'The act or process of retenting; the state of having relented.Sir T. Browne.',\n",
       " 'BETTY': 'A short bar used by thieves to wrench doors open. [Written alsobettee.]The powerful betty, or the artful picklock. Arbuthnot.',\n",
       " 'FREN': 'A stranger. [Obs.] Spenser.',\n",
       " 'PRODIGIOUSNESS': 'The quality or state of being prodigious; the state of havingqualities that excite wonder or astonishment; enormousness; vastness.',\n",
       " 'INSCRUTABLY': 'In an inscrutable manner.',\n",
       " 'BEJUMBLE': 'To jumble together.',\n",
       " 'NEMOPHILIST': 'One who is fond of forest or forest scenery; a haunter of thewoods. [R.]',\n",
       " 'GOOD-TEMPERED': 'Having a good temper; not easily vexed. See Good-natured.',\n",
       " 'RANDON': 'Random. [Obs.] Spenser.',\n",
       " 'BOTCHEDLY': 'In a clumsy manner.',\n",
       " 'EXCOMMUNE': \"To exclude from participation in; to excommunicate. [Obs.]Poets . . . were excommuned Plato's common wealth Gayton.\",\n",
       " 'BULLOCK': \"To bully. [Obs.]She shan't think to bullock and domineer over me. Foote.\",\n",
       " 'AKNOW': 'Earlier form of Acknow. [Obs.] To be aknow, to acknowledge; toconfess. [Obs.]',\n",
       " 'GYROSTATIC': 'Of or pertaining to the gyrostat or to gyrostatics.',\n",
       " 'CRURAL': 'Of or pertaining to the thigh or leg, or to any of the partscalled crura; as, the crural arteries; crural arch; crural canal;crural ring.',\n",
       " 'CATCHWORD': 'The first word of any page of a book after the first, insertedat the right hand bottom corner of the preceding page for theassistance of the reader. It is seldom used in modern printing.',\n",
       " 'PRETENSELESS': 'Not having or making pretenses.',\n",
       " 'PASHAW': 'See Pasha.',\n",
       " 'PERISSE': 'To perish. [Obs.] Chaucer.',\n",
       " 'PECULIARIZE': 'To make peculiar; to set appart or assign, as an exclusivepossession. [R.] Dr. John Smith.',\n",
       " 'PYOPNEUMOTHORAX': 'Accumulation of air, or other gas, and of pus, in the pleuralcavity.',\n",
       " 'TIRING-ROOM': 'The room or place where players dress for the stage.',\n",
       " 'ORCHIDOLOGIST': 'One versed in orchidology.',\n",
       " 'SEMIBRIEF': 'A semibreve. [R.]',\n",
       " 'LUBRICOUS': 'Lubric.',\n",
       " 'AFFRIENDED': 'Made friends; reconciled. [Obs.] \"Deadly foes . . .affriended.\" Spenser.',\n",
       " 'EPENDYMA': 'The epithelial lining of the ventricles of the brain and thecanal of the spinal cord; endyma; ependymis.',\n",
       " 'EXTRADITE': 'To deliver up by one government to another, as a fugitive fromjustice. See Extradition.',\n",
       " 'PERMISSIBILITY': 'The quality of being permissible; permissibleness;allowableness.',\n",
       " 'SUPERNATURAL': 'Being beyond, or exceeding, the power or laws of nature;miraculous.',\n",
       " 'BROADSPREADING': 'Spreading widely.',\n",
       " 'FUSS': 'To be overbusy or unduly anxious about trifles; to make abustle or ado. Sir W. Scott.',\n",
       " 'REPARTEE': \"A smart, ready, and witty reply.Cupid was as bad as he; Hear but the youngster's repartee. Prior.\",\n",
       " 'EXTRAMISSION': 'A sending out; emission. [Obs.] Sir T. Browne.',\n",
       " 'ANGULOSE': 'Angulous. [R.]',\n",
       " 'TRUSTILY': 'In a trusty manner.',\n",
       " 'ANNULLER': 'One who annuls. [R.]',\n",
       " 'ERYSIPELOUS': 'Erysipelatous.',\n",
       " 'REPROVINGLY': 'In a reproving manner.',\n",
       " 'GEEZ': 'The original native name for the ancient Ethiopic language orpeople. See Ethiopic.',\n",
       " 'MISTRUSTLESS': 'Having no mistrust or suspicion.The swain mistrustless of his smutted face. Goldsmith.',\n",
       " 'EXTRUCTION': 'A building up; construction. [Obs.] Cockeram.',\n",
       " 'CONFLATION': 'A blowing together, as of many instruments in a concert, or ofmany fires in a foundry. [R.]  Bacon.',\n",
       " 'SEA': 'A great brazen laver in the temple at Jerusalem; -- so calledfrom its size.He made a molten sea of ten cubits from brim to brim, round incompass, and five cubits the height thereof. 2 Chron. iv. 2.',\n",
       " 'BERBE': 'An African genet (Genetta pardina). See Genet.',\n",
       " 'TITRATED': 'Standardized; determined or analyzed by titration; as, titratedsolutions.',\n",
       " 'TRAMONTANA': 'A dry, cold, violent, northerly wind of the Adriatic.',\n",
       " 'JAPANNISH': 'After the manner of the Japanese; resembling japanned articles.Carlyle.',\n",
       " 'GRUNTLING': 'A young hog.',\n",
       " 'CONCAUSE': 'A joint cause. Fotherby.',\n",
       " 'ABJUDICATION': 'Rejection by judicial sentence. [R.] Knowles.',\n",
       " 'ANTIPYRESIS': 'The condition or state of being free from fever.',\n",
       " 'RICINOLEIN': 'The glycerin salt of ricinoleic acid, occuring as acharacteristic constituent of castor oil; -- formerly called palmin.',\n",
       " 'COHERER': 'Any device in which an imperfectly conducting contact betweenpieces of metal or other conductors loosely resting against eachother is materially improved in conductivity by the influence ofHertzian waves; -- so called by Sir O. J. Lodge in 1894 on theassumption that the impact of the electic waves caused the looselyconnected parts to cohere, or weld together, a condition easilydestroyed by tapping. A common form of coherer as used in wirelesstelegraphy consists of a tube containing filings (usually a pinch ofnickel and silver filings in equal parts) between terminal wires orplugs (called conductor plugs).',\n",
       " 'YELLOW': \"Being of a bright saffronlike color; of the color of gold orbrass; having the hue of that part of the rainbow, or of the solarspectrum, which is between the orange and the green.Her yellow hair was browded [braided] in a tress. Chaucer.A sweaty reaper from his tillage brought First fruits, the green earand the yellow sheaf. Milton.The line of yellow light dies fast away. Keble.Yellow atrophy (Med.), a fatal affection of the liver, in which itundergoes fatty degeneration, and becomes rapidly smaller and of adeep yellow tinge. The marked symptoms are black vomit, delirium,convulsions, coma, and jaundice.-- Yellow bark, calisaya bark.-- Yellow bass (Zoöl.), a North American fresh-water bass (Moroneinterrupta) native of the lower parts of the Mississippi and itstributaries. It is yellow, with several more or less broken blackstripes or bars. Called also barfish.-- Yellow berry. (Bot.) Same as Persian berry, under Persian.-- Yellow boy, a gold coin, as a guinea. [Slang] Arbuthnot.-- Yellow brier. (Bot.) See under Brier.-- Yellow bugle (Bot.), a European labiate plant (Ajuga Chamæpitys).-- Yellow bunting (Zoöl.), the European yellow-hammer.-- Yellow cat (Zoöl.), a yellow catfish; especially, the bashaw.-- Yellow copperas (Min.), a hydrous sulphate of iron; -- calledalso copiapite.-- Yellow copper ore, a sulphide of copper and iron; copper pyrites.See Chalcopyrite.-- Yellow cress (Bot.), a yellow-flowered, cruciferous plant(Barbarea præcox), sometimes grown as a salad plant.-- Yellow dock. (Bot.) See the Note under Dock.-- Yellow earth, a yellowish clay, colored by iron, sometimes usedas a yellow pigment.-- Yellow fever (Med.), a malignant, contagious, febrile disease ofwarm climates, attended with jaundice, producing a yellow color ofthe skin, and with the black vomit. See Black vomit, in theVocabulary.-- Yellow flag, the quarantine flag. See under Quarantine, and 3dFlag.-- Yellow jack. (a) The yellow fever. See under 2d Jack. (b) Thequarantine flag. See under Quarantine.-- Yellow jacket (Zoöl.), any one of several species of Americansocial wasps of the genus Vespa, in which the color of the body ispartly bright yellow. These wasps are noted for their irritability,and for their painful stings.-- Yellow lead ore (Min.), wulfenite.-- Yellow lemur (Zoöl.), the kinkajou.-- Yellow macauco (Zoöl.), the kinkajou.-- Yellow mackerel (Zoöl.), the jurel.-- Yellow metal. Same as Muntz metal, under Metal.-- Yellow ocher (Min.), an impure, earthy variety of brown iron ore,which is used as a pigment.-- Yellow oxeye (Bot.), a yellow-flowered plant (Chrysanthemumsegetum) closely related to the oxeye daisy.-- Yellow perch (Zoöl.), the common American perch. See Perch.-- Yellow pike (Zoöl.), the wall-eye.-- Yellow pine (Bot.), any of several kinds of pine; also, theiryellowish and generally durable timber. Among the most common arevaluable species are Pinus mitis and P. palustris of the Eastern andSouthern States, and P. ponderosa and P. Arizonica of the RockyMountains and Pacific States.-- Yellow plover (Zoöl.), the golden plover.-- Yellow precipitate (Med. Chem.), an oxide of mercury which isthrown down as an amorphous yellow powder on adding corrosivesublimate to limewater.-- Yellow puccoon. (Bot.) Same as Orangeroot.-- Yellow rail (Zoöl.), a small American rail (PorzanaNoveboracensis) in which the lower parts are dull yellow, darkest onthe breast. The back is streaked with brownish yellow and with black,and spotted with white. Called also yellow crake.-- Yellow rattle, Yellow rocket. (Bot.) See under Rattle, andRocket.-- Yellow Sally (Zoöl.), a greenish or yellowish European stone flyof the genus Chloroperla; -- so called by anglers.-- Yellow sculpin (Zoöl.), the dragonet.-- Yellow snake (Zoöl.), a West Indian boa (Chilobothrus inornatus)common in Jamaica. It becomes from eight to ten long. The body isyellowish or yellowish green, mixed with black, and anteriorly withblack lines.-- Yellow spot. (a) (Anat.) A small yellowish spot with a centralpit, the fovea centralis, in the center of the retina where vision ismost accurate. See Eye. (b) (Zoöl.) A small American butterfly(Polites Peckius) of the Skipper family. Its wings are brownish, witha large, irregular, bright yellow spot on each of the hind wings,most conspicuous beneath. Called also Peck's skipper. See Illust.under Skipper, n., 5.-- Yellow tit (Zoöl.), any one of several species of crested titmiceof the genus Machlolophus, native of India. The predominating colorsof the plumage are yellow and green.-- Yellow viper (Zoöl.), the fer-de-lance.-- Yellow warbler (Zoöl.), any one of several species of Americanwarblers of the genus Dendroica in which the predominant color isyellow, especially D. æstiva, which is a very abundant and familiarspecies; -- called also garden warbler, golden warbler, summeryellowbird, summer warbler, and yellow-poll warbler.-- Yellow wash (Pharm.), yellow oxide of mercury suspended in water,-- a mixture prepared by adding corrosive sublimate to limewater.-- Yellow wren (Zoöl.) (a) The European willow warbler. (b) TheEuropean wood warbler.\",\n",
       " 'DRABBLER': 'A piece of canvas fastened by lacing to the bonnet of a sail,to give it a greater depth, or more drop.',\n",
       " 'ICILY': 'In an icy manner; coldly.Faultily faultless, icily regular, splendidly null, Dead perfection,no more. Tennyson.',\n",
       " 'ANTE': \"Each player's stake, which is put into the pool before (ante)the game begins.\",\n",
       " 'ON-HANGER': 'A hanger-on.',\n",
       " 'PERSALT': 'A term formerly given to the salts supposed to be formedrespectively by neutralizing acids with certain peroxides. [Obsoles.]',\n",
       " 'BONIFY': 'To convert into, or make, good.To bonify evils, or tincture them with good. Cudworth.',\n",
       " 'OVERSHADE': 'To cover with shade; to render dark or gloomy; to overshadow.Shak.',\n",
       " 'YAMMA': 'The llama.',\n",
       " 'TAWER': 'One who taws; a dresser of white leather.',\n",
       " 'LIMONIN': 'A bitter, white, crystalline substance found in orange andlemon seeds.',\n",
       " 'CYMOPHANE': 'See Chrysoberyl.',\n",
       " 'BIPOLARITY': 'Bipolar quality.',\n",
       " 'SACCHOLACTATE': 'A salt of saccholactactic acid; -- formerly called alsosaccholate. [Obs.] See Mucate.',\n",
       " 'ALACRIOUSNESS': 'Alacrity. [Obs.] Hammond.',\n",
       " 'BITSTOCK': 'A stock or handle for holding and rotating a bit; a brace.',\n",
       " 'PLATYRHINE': 'Having the nose broad; -- opposed to Ant: leptorhine.-- n. (Zoöl.)',\n",
       " 'PIG': 'A piggin. [Written also pigg.]',\n",
       " 'PREFIDENCE': 'The quality or state of being prefident. [Obs.] Baxter.',\n",
       " 'EVERYTHING': 'Whatever pertains to the subject under consideration; allthings.More wise, more learned, more just, more everything. Pope.',\n",
       " 'LIGNIFORM': 'Like wood.',\n",
       " 'COPRA': 'The dried meat of the cocoanut, from which cocoanut oil isexpressed. [Written also cobra, copperah, coppra.]',\n",
       " 'PINKNESS': 'Quality or state of being pink.',\n",
       " 'ACUTELY': 'In an acute manner; sharply; keenly; with nice discrimination.',\n",
       " 'COMPOS-MENTIS': 'One who is compos mentis. [Colloq.]',\n",
       " 'ANTENICENE': 'Of or in the Christian church or era, anterior to the firstcouncil of Nice, held a. d. 325; as, antenicene faith.',\n",
       " 'EXPLORING': 'Employed in, or designed for, exploration. \"Exploring parties.\"Bancroft.',\n",
       " 'NARRATE': 'To tell, rehearse, or recite, as a story; to relate theparticulars of; to go through with in detail, as an incident ortransaction; to give an account of.',\n",
       " 'DOGATE': 'The office or dignity of a doge.',\n",
       " 'KNOUT': 'A kind of whip for flogging criminals, formerly much used inRussia. The last is a tapering bundle of leather thongs twisted withwire and hardened, so that it mangles the flesh.',\n",
       " 'SAFE': 'A place for keeping things in safety. Specifically:(a) A strong and fireproof receptacle (as a movable chest of steel,etc., or a closet or vault of brickwork) for money, valuable papers,or the like.(b) A ventilated or refrigerated chest or closet for securingprovisions from noxious animals or insects.',\n",
       " 'YTTRIA': 'The oxide, Y2O3, or earth, of yttrium.',\n",
       " 'ATOLE': 'A porridge or gruel of maize meal and water, milk, or the like.[Sp. Amer.]',\n",
       " 'EYSELL': 'Same as Eisel. [Obs.] Shak.',\n",
       " 'MANUFACTORY': 'Pertaining to manufacturing.',\n",
       " 'TIMAL': 'The blue titmouse. [Prov. Eng.]',\n",
       " 'CHELIDONIC': 'Of, pertaining to, or derived from, the celandine. Cheidonicacid, a weak acid extracted fron the celandine (Chelidonium majus),as a white crystalline substance.',\n",
       " 'PANSHON': 'An earthen vessel wider at the top than at the bottom, -- usedfor holding milk and for various other purposes. [Prov. Eng.]Halliwell.',\n",
       " 'WATERCOURSE': 'One of the holes in floor or other plates to permit water toflow through.',\n",
       " 'CONTROVERSARY': 'Controversial. [Obs.] Bp. Hall.',\n",
       " 'SICH': 'Such. [Obs. or Colloq.] Spenser.',\n",
       " 'INFUSER': 'One who, or that which, infuses.',\n",
       " 'SUBDULCID': 'Somewhat sweet; sweetish. [R.]',\n",
       " 'ESTER': 'An ethereal salt, or compound ether, consisting of an organicradical united with the residue of any oxygen acid, organic orinorganic; thus the natural fats are esters of glycerin and the fattyacids, oleic, etc.',\n",
       " 'ARSENICISM': 'A diseased condition produced by slow poisoning with arsenic.',\n",
       " 'OVERSPAN': 'To reach or extend over.',\n",
       " 'ANTIPATHIC': 'Belonging to antipathy; opposite; contrary; allopathic.',\n",
       " 'HEURISTIC': 'Serving to discover or find out.',\n",
       " 'BACTERICIDE': 'Same as Germicide.',\n",
       " 'LENGTHY': 'Having length; rather long or too long; prolix; not brief; --said chiefly of discourses, writings, and the like. \"Lengthyperiods.\" Washington. \"Some lengthy additions.\" Byron. \"These wouldbe details too lengthy.\" Jefferson. \"To cut short lengthyexplanations.\" Trench.',\n",
       " 'EMERSED': 'Standing out of, or rising above, water. Gray.',\n",
       " 'SYNGENESIA': 'A Linnæan class of plants in which the stamens are united bythe anthers.',\n",
       " 'VEILLESS': 'Having no veil. Tennyson.',\n",
       " 'EXPUGN': 'To take by assault; to storm; to overcome; to vanquish; as, toexpugn cities; to expugn a person by arguments.',\n",
       " 'RETTERY': 'A place or establishment where flax is retted. See Ret. Ure.',\n",
       " 'EXPULSE': 'To drive out; to expel. [Obs.]If charity be thus excluded and expulsed. Milton.',\n",
       " 'OYSTERING': 'Gathering, or dredging for, oysters.',\n",
       " 'PARALYTIC': 'A person affected with paralysis.',\n",
       " 'PESTIFEROUSLY': 'In a pestiferuos manner.',\n",
       " 'HEARTSICK': 'Sick at heart; extremely depressed in spirits; very despondent.',\n",
       " 'DINGY': 'Soiled; sullied; of a dark or dusky color; dark brown; dirty.\"Scraps of dingy paper.\" Macaulay.',\n",
       " 'EIGHT': 'An island in a river; an ait. [Obs.] \"Osiers on their eights.\"Evelyn.',\n",
       " 'FIRELESS': 'Destitute of fire.',\n",
       " 'DISVALUATION': 'Disesteem; depreciation; disrepute. Bacon.',\n",
       " 'FOLIATE': 'Furnished with leaves; leafy; as, a foliate stalk. Foliatecurve. (Geom.) Same as Folium.',\n",
       " 'AROMATOUS': 'Aromatic. [Obs.] Caxton.',\n",
       " 'EVOLVE': 'To become open, disclosed, or developed; to pass through aprocess of evolution. Prior.',\n",
       " 'LIGSAM': 'Same as Ligan. Brande & C.',\n",
       " 'CORSEPRESENT': 'An offering made to the church at the interment of a dead body.Blackstone.',\n",
       " 'LINEARY': 'Linear. Holland.',\n",
       " 'CONCH': 'A name applied to various marine univalve shells; esp. to thoseof the genus Strombus, which are of large size. S. gigas is the largepink West Indian conch. The large king, queen, and cameo conchs areof the genus Cassis. See Cameo.',\n",
       " 'BAROSCOPE': 'Any instrument showing the changes in the weight of theatmosphere; also, less appropriately, any instrument that indicates -or foreshadows changes of the weather, as a deep vial of liquidholding in suspension some substance which rises and falls withatmospheric changes.',\n",
       " 'TRUNK STEAMER': 'A freight steamer having a high hatch coaming extending almostcontinuously fore and aft, but not of whaleback form at the sides.',\n",
       " 'MACROCHIRES': 'A division of birds including the swifts and humming birds. Socalled from the length of the distal part of the wing.',\n",
       " 'RETIPED': 'A bird having small polygonal scales covering the tarsi.',\n",
       " 'CERTIFICATION': 'The act of certifying.',\n",
       " 'TINSMITH': 'One who works in tin; a tinner.',\n",
       " 'MISPLEAD': 'To err in pleading.',\n",
       " 'WATER BLACKBIRD': 'The European water ousel, or dipper.',\n",
       " 'WORNIL': 'See Wormil.',\n",
       " 'PENCILED': 'Marked with parallel or radiating lines.',\n",
       " 'HERBALIST': 'One skilled in the knowledge of plants; a collector of, ordealer in, herbs, especially medicinal herbs.',\n",
       " 'COAITA': 'The native name of certain South American monkeys of the genusAteles, esp. A. paniscus. The black-faced coaita is Ateles ater. SeeIllustration in Appendix.',\n",
       " 'NIPPING': 'Biting; pinching; painful; destructive; as, a nipping frost; anipping wind.',\n",
       " 'ZOUNDS': 'An exclamation formerly used as an oath, and an expression ofanger or wonder.',\n",
       " 'STELLIONATE': \"Any fraud not distinguished by a more special name; -- chieflyapplied to sales of the same property to two different persons, orselling that for one's own which belongs to another, etc. Erskine.\",\n",
       " 'SPORTINGLY': 'In sport; sportively.The question you there put, you do it, I suppose, but sportingly.Hammond.',\n",
       " 'VERMICULE': 'A small worm or insect larva; also, a wormlike body. [R.]Derham.',\n",
       " 'FLUTIST': 'A performer on the flute; a flautist. Busby.',\n",
       " 'JETTY': 'Made of jet, or like jet in color.The people . . . are of a jetty. Sir T. Browne.',\n",
       " 'TRANSPECIATE': 'To change from one species to another; to transform. [Obs.]Power to transpeciate a man into a horse. Sir T. Browne.',\n",
       " 'VAINGLORY': \"Excessive vanity excited by one's own performances; emptypride; undue elation of mind; vain show; boastfulness.He had nothing of vainglory. Bacon.The man's undone forever; for if Hector break not his neck i' thecombat, he'll break't himself in vainglory. Shak.\",\n",
       " 'SPELICANS': 'See Spilikin.',\n",
       " 'TORRENS SYSTEM': 'A system of registration of titles to land (as distinct fromregistration of deeds) introduced into South Australia by the RealProperty (or Torrens) Act (act 15 of 1857-58), drafted by Sir RobertTorrens (1814-84). Its essential feature is the guaranty by thegovernment of properly registered titles. The system has beengenerally adopted in Australia and British Columbia, and in itsoriginal or a modified form in some other countries, including someStates of the United States. Hence Torrens title, etc.',\n",
       " 'MORO': 'A small abscess or tumor having a resemblance to a mulberry.Dunglison.',\n",
       " 'WHETILE': 'The green woodpecker, or yaffle. See Yaffle. [Prov. Eng.]',\n",
       " 'DISINCLOSE': 'To free from being inclosed.',\n",
       " 'FULMINURIC': 'Pertaining to fulminic and cyanuric acids, and designating anacid so called. Fulminuric acid (Chem.), a white, crystalline,explosive subatance, H3C3N3O3, forming well known salts, and obtainedfrom the fulnunates. It is isomeric with cyanuric acid, and hence isalso called isocyanuric acid.',\n",
       " 'STRATIGRAPHY': 'That branch of geology which treats of the arrangement andsuccession of strata.',\n",
       " 'MODERN': 'A person of modern times; -- opposed to ancient. Pope.',\n",
       " 'REMORDENCY': 'Remorse; compunction; compassion. [Obs.] Killingbeck.',\n",
       " 'PAMPHLETEER': 'A writer of pamphlets; a scribbler. Dryden. Macaulay.',\n",
       " 'UNDERLOCK': 'A lock of wool hanging under the belly of a sheep.',\n",
       " 'RECLINED': 'Falling or turned downward; reclinate.',\n",
       " 'NAKEDNESS': 'The privy parts; the genitals.Ham ... saw the nakedness of his father. Gen. ix. 22.',\n",
       " 'EXTEMPORIZER': 'One who extemporizes.',\n",
       " 'PRUDENTIALIST': 'One who is governed by, or acts from, prudential motives. [R.]Coleridge.',\n",
       " 'INACTUATE': 'To put in action. [Obs.]',\n",
       " 'SEA DRAKE': 'The pewit gull.',\n",
       " 'INTERMEMBRANOUS': 'Within or beneath a membrane; as, intermembranous ossification.',\n",
       " 'SUMMIT': 'The most elevated part of a bivalve shell, or the part in whichthe hinge is situated. Summit level, the highest level of a canal, arailroad, or the like, in surmounting an ascent.',\n",
       " 'INTERMUNDIAN': 'Intermundane. [Obs.]',\n",
       " 'RHOMBUS': 'Same as Rhomb, 1.',\n",
       " 'CIVILIZATION': 'Rendering a criminal process civil. [Obs.]',\n",
       " 'COSTAL-NERVED': 'Having the nerves spring from the midrib.',\n",
       " 'BRISTLE-SHAPED': 'Resembling a bristle in form; as, a bristle-shaped leaf.',\n",
       " 'IMPROPERIA': 'A series of antiphons and responses, expressing the sorrowfulremonstrance of our Lord with his people; -- sung on the morning ofthe Good Friday in place of the usual daily Mass of the Roman ritual.Grove.',\n",
       " 'SQUALIDITY': 'The quality or state of being squalid; foulness; filthiness.',\n",
       " 'SCUTIPED': 'Having the anterior surface of the tarsus covered withscutella, or transverse scales, in the form of incomplete bandsterminating at a groove on each side; -- said of certain birds.',\n",
       " 'PHARMACIST': 'One skilled in pharmacy; a pharmaceutist; a druggist.',\n",
       " 'ELEVATED': 'Uplifted; high; lofty; also, animated; noble; as, elevatedthoughts. Elevated railway, one in which the track is raisedconsiderably above the ground, especially a city railway above theline of street travel.',\n",
       " 'FIGUREHEAD': 'The figure, statue, or bust, on the prow of a ship.',\n",
       " 'CREBROUS': 'Frequent; numerous. [Obs.] Goodwin.',\n",
       " 'PROGENY': 'Descendants of the human kind, or offspring of other animals;children; offspring; race, lineage. \" Issued from the progeny ofkings.\" Shak.',\n",
       " 'JEWRY': \"Judea; also, a district inhabited by Jews; a Jews' quarter.Chaucer.Teaching throughout all Jewry. Luke xxiii. 5.\",\n",
       " 'INKLE': 'A kind of tape or braid. Shak.',\n",
       " 'CROUPY': 'Of or pertaining to croup; resembling or indicating croup; as,a croupy cough.',\n",
       " 'DISSUADER': 'One who dissuades; a dehorter.',\n",
       " 'DISTRAIT': 'Absent-minded; lost in thought; abstracted.',\n",
       " 'MOSTE': 'of Mote. Chaucer.',\n",
       " 'PSEUDONYMOUS': 'Bearing a false or fictitious name; as, a pseudonymous work.-- Pseu*don\"y*mous*ly, adv.-- Pseu*don\"y*mous*ness, n.',\n",
       " 'TREMOLANDO': 'Same as Tremando.',\n",
       " 'REPETITIVE': 'Containing repetition; repeating. [R.]',\n",
       " 'FERRETTO': 'Copper sulphide, used to color glass. Hebert.',\n",
       " 'HEALINGLY': 'So as to heal or cure.',\n",
       " 'TETTISH': 'Captious; testy. [Written also teatish.] [Obs.] Beau. & Fl.',\n",
       " 'UNBELIEVED': 'Not believed; disbelieved.',\n",
       " 'WARP KNITTING': 'A kind of knitting in which a number of threads areinterchained each with one or more contiguous threads on either side.',\n",
       " 'WREAK': 'To reck; to care. [Obs.] Shak.',\n",
       " 'REVELER': 'One who revels. \"Moonshine revelers.\" Shak.',\n",
       " 'PRESIGNIFICATION': 'The act of signifying or showing beforehand.',\n",
       " 'HYPOGYN': 'An hypogynous plant.',\n",
       " 'DISIMPASSIONED': 'Free from warmth of passion or feeling.',\n",
       " 'OYSTER-GREEN': 'A green membranous seaweed (Ulva) often found growing onoysters but common on stones, piles, etc.',\n",
       " 'SCAZON': 'A choliamb.',\n",
       " 'INTELLECTIVELY': 'In an intellective manner. [R.] \"Not intellectivelly to write.\"Warner.',\n",
       " 'INSHEATHE': 'To insert as in a sheath; to sheathe. Hughes.',\n",
       " 'DISCALCEATE': 'To pull off shoes or sandals from. [Obs.] Cockeram.',\n",
       " 'TETRARCH': 'A Roman governor of the fourth part of a province; hence, anysubordinate or dependent prince; also, a petty king or sovereign.',\n",
       " 'ABREPTION': 'A snatching away. [Obs.]',\n",
       " 'SCOTTERING': 'The burning of a wad of pease straw at the end of harvest.[Prov. Eng.]',\n",
       " 'ALTERCATION': 'Warm contention in words; dispute carried on with heat oranger; controversy; wrangle; wordy contest. \"Stormy altercations.\"Macaulay.',\n",
       " 'BLACK FRIAR': 'A friar of the Dominican order; -- called also predicant andpreaching friar; in France, Jacobin. Also, sometimes, a Benedictine.',\n",
       " 'ARRACK': 'A name in the East Indies and the Indian islands for all ardentspirits. Arrack is often distilled from a fermented mixture of rice,molasses, and palm wine of the cocoanut tree or the date palm, etc.',\n",
       " 'ASCEND': 'To go or move upward upon or along; to climb; to mount; to goup the top of; as, to ascend a hill, a ladder, a tree, a river, athrone.',\n",
       " 'SHEELING': 'A hut or small cottage in an expessed or a retired place (as ona mountain or at the seaside) such as is used by shepherds,fishermen, sportsmen, etc.; a summer cottage; also, a shed. [Writtenalso sheel, shealing, sheiling, etc.] [Scot.]',\n",
       " 'CISSOID': 'A curve invented by Diocles, for the purpose of solving twocelebrated problems of the higher geometry; viz., to trisect a planeangle, and to construct two geometrical means between two givenstraight lines.',\n",
       " 'POSTAXIAL': 'Situated behind any transverse axis in the body of an animal;caudal; posterior; especially, behind, or on the caudal or posterior(that is, ulnar or fibular) side of, the axis of a vertebrate limb.',\n",
       " 'TREN': 'A fish spear. [Obs.] Ainsworth.',\n",
       " 'MODISTE': 'A female maker of, or dealer in, articles of fashion,especially of the fashionable dress of ladies; a woman who givesdirection to the style or mode of dress.',\n",
       " 'MACHINAL': 'Of or pertaining to machines.',\n",
       " 'METHEGLIN': 'A fermented beverage made of honey and water; mead. Gay.',\n",
       " 'TALLOW-FACED': 'Having a sickly complexion; pale. Burton.',\n",
       " 'INTERMUNDANE': 'Being, between worlds or orbs. [R.] \"Intermundane spaces.\"Locke.',\n",
       " 'EASEFUL': 'Full of ease; suitable for affording ease or rest; quiet;comfortable; restful. Shak.-- Ease\"ful*ly, adv.-- Ease\"ful*ness, n.',\n",
       " 'WEBEYE': 'See Web, n., 8.',\n",
       " 'DISAPPROPRIATION': 'The act of disappropriating.',\n",
       " 'SLOVENRY': 'Slovenliness. [Obs.] Shak.',\n",
       " 'BRUNONIAN': 'Pertaining to, or invented by, Brown; -- a term applied to asystem of medicine promulgated in the 18th century by John Brown, ofScotland, the fundamental doctrine of which was, that life is a stateof excitation produced by the normal action of external agents uponthe body, and that disease consists in excess or deficiency ofexcitation.',\n",
       " 'SUBINGRESSION': 'Secret entrance. [R.] Boyle.',\n",
       " '-MENT': 'A suffix denoting that which does a thing; an act or process;the result of an act or process; state or condition; as, aliment,that which nourishes, ornament, increment; fragment, piece broken,segment; abridgment, act of abridging, imprisonment, movement,adjournment; amazement, state of being amazed, astonishment.',\n",
       " 'KREATIN': 'See Creatin.',\n",
       " 'CHANCELLOR': 'A judicial court of chancery, which in England and in theUnited States is distinctively a court with equity jurisdiction.',\n",
       " 'CYSTIDEAN': 'One of the Cystidea.',\n",
       " 'INTERCROP': 'To cultivate by planting simultaneous crops in alternate rows;as, to intercrop an orchard. Also, to use for catch crops at seasonswhen the ground is not covered by crops of the regular rotation.',\n",
       " 'SEMIOCCASIONALLY': 'Once in a while; on rare occasions. [Colloq. U. S.]',\n",
       " 'GRANITIFORM': 'Resembling granite in structure or shape.',\n",
       " 'REBURY': 'To bury again. Ashmole.',\n",
       " 'REPRESS': 'To press again.',\n",
       " 'REZ-DE-CHAUSSEE': 'The ground story of a building, either on a level with thestreet or raised slightly above it; -- said esp. of buildings on thecontinent of Europe.',\n",
       " 'APRICATE': 'To bask in the sun. Boyle.',\n",
       " 'SPICILY': 'In a spicy manner.',\n",
       " 'INEQUAL': 'Unequal; uneven; various. [Obs.] Chaucer.',\n",
       " 'MESOTHORAX': 'The middle segment of the thorax in insects. See Illust. ofColeoptera.',\n",
       " 'PINGSTER': 'See Pinkster.',\n",
       " 'FROM': \"Out of the neighborhood of; lessening or losing proximity to;leaving behind; by reason of; out of; by aid of; -- used wheneverdeparture, setting out, commencement of action, being, state,occurrence, etc., or procedure, emanation, absence, separation, etc.,are to be expressed. It is construed with, and indicates, the pointof space or time at which the action, state, etc., are regarded assetting out or beginning; also, less frequently, the source, thecause, the occasion, out of which anything proceeds; -- thearitithesis and correlative of to; as, it, is one hundred miles fromBoston to Springfield; he took his sword from his side; lightproceeds from the sun; separate the coarse wool from the fine; menhave all sprung from Adam, and often go from good to bad, and frombad to worse; the merit of an action depends on the principle fromwhich it proceeds; men judge of facts from personal knowledge, orfrom testimony.Experience from the time past to the time present. Bacon.The song began from Jove. Drpden.From high Mæonia's rocky shores I came. Addison.If the wind blow any way from shore. Shak.\",\n",
       " 'CHIDE': 'A continuous noise or murmur.The chide of streams. Thomson.',\n",
       " 'AUGITIC': 'Pertaining to, or like, augite; containing augite as aprincipal constituent; as, augitic rocks.',\n",
       " 'CASSIOPEIA': \"A constellation of the northern hemisphere, situated betweenCapheus and Perseus; -- so called in honor of the wife of Cepheus, afabuolous king of Ethiopia. Cassiopeia's Chair, a group of six stars,in Cassiopeia, somewhat resembling a chair.\",\n",
       " 'CROSS-ARMED': 'With arms crossed.',\n",
       " 'BREAST-HIGH': 'High as the breast.',\n",
       " 'AGIST': \"To take to graze or pasture, at a certain sum; -- usedoriginally of the feeding of cattle in the king's forests, andcollecting the money for the same. Blackstone.\",\n",
       " 'RHYMER': 'One who makes rhymes; a versifier; -- generally in contempt; apoor poet; a poetaster.This would make them soon perceive what despicaple creatures ourcommon rhymers and playwriters be. Milton.',\n",
       " 'BOORT': 'See Bort.',\n",
       " 'MONOTOCOUS': 'Bearing fruit but once; monocarpic.',\n",
       " 'JUDEAN': 'Of or pertaining to Judea.-- n.',\n",
       " 'BELAY': 'To make fast, as a rope, by taking several turns with it rounda pin, cleat, or kevel. Totten.',\n",
       " 'INVINCIBLE': 'Incapable of being conquered, overcome, or subdued;unconquerable; insuperable; as, an invincible army, or obstacle.Lead forth to battle these my sons Invincible. Milton.-- In*vin\"ci*ble*ness, n.-- In*vin\"ci*bly, adv.',\n",
       " 'PADNAG': 'An ambling nag. \"An easy padnag.\" Macaulay.',\n",
       " 'CHILDISHLY': 'In the manner of a child; in a trifling way; in a weak orfoolish manner.',\n",
       " 'FINNISH': 'Of or pertaining to Finland, to the Finns, or to theirlanguage.-- n.',\n",
       " 'FLEXILE': 'Flexible; pliant; pliable; easily bent; plastic; tractable.Wordsworth.',\n",
       " 'HELMINTHIC': 'Of or relating to worms, or Helminthes; expelling worms.-- n.',\n",
       " 'FRINGE TREE': 'A small oleaceous tree (Chionanthus virginica), of the southernUnited States, having clusters of white flowers with slender petals.It is often cultivated.',\n",
       " 'UNIFLAGELLATE': 'Having but one flagellum; as, uniflagellate organisms.',\n",
       " 'FLINT GLASS': 'A soft, heavy, brilliant glass, consisting essentially of asilicate of lead and potassium. It is used for tableware, and foroptical instruments, as prisms, its density giving a high degree ofdispersive power; -- so called, because formerly the silica wasobtained from pulverized flints. Called also crystal glass. Cf.Glass.',\n",
       " 'PRIGGISH': 'Like a prig; conceited; pragmatical.-- Prig\"gish*ly, adv.-- Prig\"gish-ness, n.',\n",
       " 'KILN-DRY': 'To dry in a kiln; as, to kiln-dry meal or grain. Mortimer.',\n",
       " 'OUTVOTE': 'To exceed in the number of votes given; to defeat by votes.South.',\n",
       " 'ENDASPIDEAN': 'Having the anterior scutes extending around the tarsus on theinner side; -- said of certain birds.',\n",
       " 'AVAUNT': 'Begone; depart; -- a word of contempt or abhorrence, equivalentto the phrase \"Get thee gone.\"',\n",
       " 'SANITARY': 'Of or pertaining to health; designed to secure or preservehealth; relating to the preservation or restoration of health;hygienic; as, sanitary regulations. See the Note under Sanatory.Sanitary Commission. See under Commission.',\n",
       " 'EXCOMMUNICABLE': 'Liable or deserving to be excommunicated; makingexcommunication possible or proper. \"Persons excommunicable .\" Bp.Hall.What offenses are excommunicable Kenle.',\n",
       " 'SOLVABLENESS': 'Quality of being solvable.',\n",
       " 'UNDULANT': 'Undulating. [R.]',\n",
       " 'OCCASIONALLY': 'In an occasional manner; on occasion; at times, as conveniencerequires or opportunity offers; not regularly. Stewart.The one, Wolsey, directly his subject by birth; the other, hissubject occasionally by his preferment. Fuller.',\n",
       " 'IN TRANSITU': 'In transit; during passage; as, goods in transitu.',\n",
       " 'POLYSPAST': 'A machine consisting of many pulleys; specifically, anapparatus formerly used for reducing luxations.',\n",
       " 'FROST SIGNAL': 'A signal consisting of a white flag with a black center, usedby the United States Weather Bureau to indicate that a local frost isexpected. It is used only in Florida and along the coasts of thePacific and the Gulf Mexico.',\n",
       " 'TURBINE': 'A water wheel, commonly horizontal, variously constructed, butusually having a series of curved floats or buckets, against whichthe water acts by its impulse or reaction in flowing either outwardfrom a central chamber, inward from an external casing, or from abovedownward, etc.; -- also called turbine wheel.',\n",
       " 'EXUNDATION': 'An overflow, or overflowing abundance. [R.] Ray.',\n",
       " 'CONFECT': 'A comfit; a confection. [Obs.]At supper eat a pippin roasted and sweetened with sugar of roses andcaraway confects. Harvey.',\n",
       " 'RHEUMATISMOID': 'Of or resembling rheum or rheumatism.',\n",
       " 'ALTISONANT': 'High-sounding; lofty or pompous. Skelton.',\n",
       " 'GLYCIDE': 'A colorless liquid, obtained from certain derivatives ofglycerin, and regarded as a partially dehydrated glycerin; -- calledalso glycidic alcohol.',\n",
       " 'SIGH-BORN': 'Sorrowful; mournful. [R.] \"Sigh-born thoughts.\" De Quincey.',\n",
       " 'CAPRATE': 'A salt of capric acid.',\n",
       " 'MISAPPROPRIATE': 'To appropriate wrongly; to use for a wrong purpose.',\n",
       " 'PARAMORPHOUS': 'Relating to paramorphism; exhibiting paramorphism.',\n",
       " 'TURFING': 'The act or process of providing or covering with turf. Turfingiron, or Turfing spade, an implement for cutting, and paring off,turf.',\n",
       " 'BUTTRESS': 'A projecting mass of masonry, used for resisting the thrust ofan arch, or for ornament and symmetry.',\n",
       " 'DEOXYGENATE': 'To deoxidize. [Obs.]',\n",
       " 'PRENATAL': 'Being or happening before birth.',\n",
       " 'OPIFEROUS': 'Bringing help. [R.]',\n",
       " 'BURSTER': 'One that bursts.',\n",
       " 'KAKOXENE': 'See Cacoxene.',\n",
       " 'SAIMIR': 'The squirrel monkey.',\n",
       " 'GROATS': 'Dried grain, as oats or wheat, hulled and broken or crushed; inhigh milling, cracked fragments of wheat larger than grits. Embdengroats, crushed oats.',\n",
       " 'KIRSCHWASSER': 'An alcoholic liquor, obtained by distilling the fermented juiceof the small black cherry.',\n",
       " 'TRISAGION': 'An ancient anthem, -- usually known by its Latin nametersanctus.See Tersanctus.',\n",
       " 'MESTEE': 'The offspring of a white person and a quadroon; -- so called inthe West Indies. [Written also mustee.]',\n",
       " 'CAMMAS': 'See Camass.',\n",
       " 'EXSUFFLATION': 'A kind of exorcism by blowing with the breath. Jer. Taylor.',\n",
       " 'SEXENNIAL': 'Lasting six years, or happening once in six years.-- n.',\n",
       " 'SPORTABILITY': 'Sportiveness. [Obs.]',\n",
       " 'AEROLOGIST': 'One versed in aërology.',\n",
       " 'PENTACRINITE': 'Any species of Pentacrinus.',\n",
       " 'DENDRIFORM': 'Resembling in structure a tree or shrub.',\n",
       " 'LARVE': 'A larva.',\n",
       " 'GENIAN': 'Of or pertaining to the chin; mental; as, the genianprominence.',\n",
       " 'BRAINY': 'Having an active or vigorous mind. [Colloq.]',\n",
       " 'UNCORD': 'To release from cords; to loosen the cord or cords of; tounfasten or unbind; as, to uncord a package.',\n",
       " 'FRIGHTMENT': 'Fear; terror. [Obs.]',\n",
       " 'BARTHOLOMEW TIDE': 'Time of the festival of St. Bartholomew, August 24th. Shak.',\n",
       " 'CEDULE': 'A scroll; a writing; a schedule. [Obs.]',\n",
       " 'WEARIFUL': 'Abounding in qualities which cause weariness; wearisome.-- Wea\"ri*ful*ly, adv.',\n",
       " 'QUINOLOGIST': 'One who is versed in quinology.',\n",
       " 'GATEWISE': 'In the manner of a gate.Three circles of stones set up gatewise. Fuller.',\n",
       " 'BUILT': 'Shape; build; form of structure; as, the built of a ship.[Obs.] Dryden.',\n",
       " 'RIPELY': 'Maturely; at the fit time. Shak.',\n",
       " 'INCONVENIENTLY': 'In an inconvenient manner; incommodiously; unsuitably;unseasonably.',\n",
       " 'FLANGED': 'Having a flange or flanges; as, a flanged wheel.',\n",
       " 'DEPLANTATION': 'Act of taking up plants from beds.',\n",
       " 'REFERRER': 'One who refers.',\n",
       " 'TAILED': 'Having a tail; having (such) a tail or (so many) tails; --chiefly used in composition; as, bobtailed, longtailed, etc.Snouted and tailed like a boar. Grew.',\n",
       " 'VISIONARINESS': 'The quality or state of being visionary.',\n",
       " 'DOMAIN': 'Ownership of land; an estate or patrimony which one has in hisown right; absolute proprietorship; paramount or sovereign ownership.Public domain, the territory belonging to a State or to the generalgovernment; public lands. [U.S.]in the public domain may be used byanyone wihout restriction.-- Right of eminent domain, that superior dominion of the sovereignpower over all the property within the state, including thatpreviously granted by itself, which authorizes it to appropriate anypart thereof to a necessary public use, reasonable compensation beingmade.',\n",
       " 'MISCONCEPTION': 'Erroneous conception; false opinion; wrong understanding.Harvey.',\n",
       " 'DIFFINITIVE': 'Definitive; determinate; final. [Obs.] Sir H. Wotton.',\n",
       " 'NEZ PERCES': 'A tribe of Indians, mostly inhabiting Idaho.',\n",
       " 'KILOVOLT': 'A unit of electromotive force equal to one thousand volts.',\n",
       " 'SABBATHLESS': 'Without Sabbath, or intermission of labor; hence, withoutrespite or rest. Bacon.',\n",
       " 'PALEOLITH': 'A relic of the Paleolithic era.',\n",
       " 'GAMOGENESIS': 'The production of offspring by the union of parents ofdifferent sexes; sexual reproduction; -- the opposite ofagamogenesis.',\n",
       " 'STAFFISH': 'Stiff; harsh. [Obs.] Ascham.',\n",
       " 'PREOCULAR': 'Placed just in front of the eyes, as the antennæ of certaininsects.-- n.',\n",
       " 'UPSHOOT': 'To shoot upward. \"Trees upshooting high.\" Spenser.',\n",
       " 'CATENATE': 'To connect, in a series of links or ties; to chain. E. Darwin.',\n",
       " 'RECONSOLIDATION': 'The act or process of reconsolidating; the state of beingreconsolidated.',\n",
       " 'KEYSEAT': 'To form a key seat, as by cutting. See Key seat, under Key.',\n",
       " 'SHONDE': 'Harm; disgrace; shame. [Obs.] Chaucer.',\n",
       " 'FRAGMENTIST': 'A writer of fragments; as, the fragmentist of Wolfenbüttel.[R.]',\n",
       " 'UNSURETY': 'Want of surety; uncertainty; insecurity; doubt. [Obs.] Sir T.More.',\n",
       " 'DITION': 'Dominion; rule. [Obs.] Evelyn.',\n",
       " 'FLUE': 'An inclosed passage way for establishing and directing acurrent of air, gases, etc.; an air passage; esp.:(a) A compartment or division of a chimney for conveying flame andsmoke to the outer air.(b) A passage way for conducting a current of fresh, foul, or heatedair from one place to another.(c) (Steam Boiler) A pipe or passage for conveying flame and hotgases through surrounding water in a boiler; -- distinguished from atube which holds water and is surrounded by fire. Small flues arecalled fire tubes or simply tubes. Flue boiler. See under Boiler.-- Flue bridge, the separating low wall between the flues and thelaboratory of a reverberatory furnace.-- Flue plate (Steam Boiler), a plate to which the ends of the fluesare fastened; -- called also flue sheet, tube sheet, and tube plate.-- Flue surface (Steam Boiler), the aggregate surface of fluesexposed to flame or the hot gases.',\n",
       " 'PROSODIAN': 'A prosodist. Rush.',\n",
       " 'INCHWORM': 'The larva of any geometrid moth. See Geometrid.',\n",
       " 'DISINFECT': 'To free from infectious or contagious matter; to destroyputrefaction; to purify; to make innocuous.When the infectious matter and the infectious matter and theodoriferous matter are one . . . then to deodorize is to disinfect.Ure.',\n",
       " 'BOTTOM FERMENTATION': 'A slow alcoholic fermentation during which the yeast cellscollect at the bottom of the fermenting liquid. It takes place at atemperature of 4º - 10º C. (39º - 50ºF.). It is used in making lagerbeer and wines of low alcohol content but fine bouquet.',\n",
       " 'CALORIFERE': 'An apparatus for conveying and distributing heat, especially bymeans of hot water circulating in tubes.',\n",
       " 'CARBURIZATION': 'The act, process, or result of carburizing.',\n",
       " 'PALAEO-': 'See Paleo-.',\n",
       " 'PHALANGIOUS': 'Of or pertaining to Phalangoidea.',\n",
       " 'GAILLIARDE': 'A lively French and Italian dance.',\n",
       " 'FLOWERAGE': 'State of flowers; flowers, collectively or in general.Tennyson.',\n",
       " 'WRETCHEDLY': 'In a wretched manner; miserably; despicable.',\n",
       " 'ALOIN': 'A bitter purgative principle in aloes.',\n",
       " 'BUT-THORN': 'The common European starfish (Asterias rubens).',\n",
       " 'APPROVING': 'Expressing approbation; commending; as, an approving smile.-- Ap*prov\"ing*ly, adv.',\n",
       " 'GALATIAN': 'Of or pertaining to Galatia or its inhabitants.-- A native or inhabitant of Galatia, in Asia Minor; a descendant ofthe Gauls who settled in Asia Minor.',\n",
       " 'LACTAM': 'One of a series of anhydrides of an amido type, analogous tothe lactones, as oxindol.',\n",
       " 'CRABBY': 'Crabbed; difficult, or perplexing. \"Persius is crabby, becauseancient.\" Marston.',\n",
       " 'SITFAST': \"Fixed; stationary; immovable. [R.]'T is good, when you have crossed the sea and back, To find thesitfast acres where you left them. Emerson.\",\n",
       " 'DISSOCIAL': 'Unfriendly to society; contracted; selfish; as, dissocialfeelings.',\n",
       " 'REVELRY': 'The act of engaging in a revel; noisy festivity; reveling.And pomp and feast and revelry. Milton.',\n",
       " 'DEMOCRATIST': 'A democrat. [R.] Burke.',\n",
       " 'CORNIST': 'A performer on the cornet or horn.',\n",
       " 'GUSHER': 'One who gushes. [Colloq.]',\n",
       " 'CATARACTOUS': 'Of the nature of a cataract in the eye; affected with cataract.',\n",
       " 'PECTIZE': 'To congeal; to change into a gelatinous mass. [R.] H. Spencer.',\n",
       " 'INDUCTIONAL': 'Pertaining to, or proceeding by, induction; inductive.',\n",
       " 'COUNTERACTIVE': 'Tending to counteract.',\n",
       " 'FOOT VALVE': 'A suction valve or check valve at the lower end of a pipe;esp., such a valve in a steam-engine condenser opening to the airpump.',\n",
       " 'TEMPESTIVE': 'Seasonable; timely; as, tempestive showers. [Obs.] Heywood.-- Tem*pes\"tive*ly, adv. [Obs.]',\n",
       " 'NEGLIGENT': 'Apt to neglect; customarily neglectful; characterized bynegligence; careless; heedless; culpably careless; showing lack ofattention; as, disposed in negligent order. \"Be thou negligent offame.\" Swift.He that thinks he can afford to be negligent is not far from beingpoor. Rambler.',\n",
       " 'COOPERING': 'Work done by a cooper in making or repairing barrels, casks,etc.; the business of a cooper.',\n",
       " 'STRICK': 'A bunch of hackled flax prepared for drawing into slivers.Knight.',\n",
       " 'PEDICELED': 'Pedicellate.',\n",
       " 'CATECHUIC': 'Of or pertaining to catechu or its derivatives. See catechin.',\n",
       " 'EMBOSSER': 'One who embosses.',\n",
       " 'MAUNDERER': 'One who maunders.',\n",
       " 'WHITNEYITE': 'an arsenide of copper from Lake Superior.',\n",
       " 'PALIFORM': 'Resembling a palus; as, the paliform lobes of the septa incorals.',\n",
       " 'TREAT': 'To care for medicinally or surgically; to manage in the use ofremedies or appliances; as, to treat a disease, a wound, or apatient.',\n",
       " 'INEQUATION': 'An inequality.',\n",
       " 'POTICHE': 'A vase with a separate cover, the body usually rounded orpolygonal in plan with nearly vertical sides, a neck of smaller size,and a rounded shoulder.',\n",
       " 'COMMANDRY': 'See Commandery.',\n",
       " 'INEFFACEABLY': 'So as not to be effaceable.',\n",
       " 'OSTEAL': 'Osseous.',\n",
       " 'GULES': 'The tincture red, indicated in seals and engraved figures ofescutcheons by parallel vertical lines. Hence, used poetically for ared color or that which is red.His sev\\'n-fold targe a field of gules did stain In which two swordshe bore; his word, \"Divide and reign.\" P. Fletcher.Follow thy drum; With man\\'s blood paint the ground; gules, gules.Shak.Let\\'s march to rest and set in gules, like suns. Beau. & Fl.',\n",
       " 'WHORTLE': 'The whortleberry, or bilberry.[He] looked ahead of him from behind a tump of whortles. R. D.Blackmore.',\n",
       " 'JUSTLE': 'To run or strike against each other; to encounter; to clash; tojostle. Shak.The chariots shall rage in the streets; they shall justle one againstanother in the broad ways. Nahum ii. 4.',\n",
       " 'OVERREAD': 'To read over, or peruse. Shak.',\n",
       " 'LEMMING': 'Any one of several species of small arctic rodents of thegenera Myodes and Cuniculus, resembling the meadow mice in form. Theyare found in both hemispheres.',\n",
       " 'CALUMNIATION': 'False accusation of crime or offense, or a malicious and falserepresentation of the words or actions of another, with a view toinjure his good name.The calumniation of her principal counselors. Bacon.',\n",
       " 'TRANSVERBERATE': 'To beat or strike through. [Obs.]',\n",
       " 'PROVISORSHIP': 'The office or position of a provisor. [R.] J. Webster.',\n",
       " 'ARBITRABLE': 'Capable of being decided by arbitration; determinable.[Archaic] Bp. Hall.',\n",
       " 'LIGEANCE': 'The connection between sovereign and subject by which they weremutually bound, the former to protection and the securing of justice,the latter to faithful service; allegiance. [Written also ligeancyand liegance.] Chaucer.',\n",
       " 'ZONE': 'One of the five great divisions of the earth, with respect tolatitude and temperature.',\n",
       " 'AIDLESS': 'Helpless; without aid. Milton.',\n",
       " 'ZOANTHARIA': 'Same as Anthozoa.',\n",
       " 'BENGALESE': 'Of or pertaining to Bengal.-- n. sing. & pl. A native or natives of Bengal.',\n",
       " 'YESTY': 'See Yeasty. Shak.',\n",
       " 'DICEBOX': 'A box from which dice are thrown in gaming. Thackeray.',\n",
       " 'BALD-FACED': 'Having a white face or a white mark on the face, as a stag.',\n",
       " 'MOMENT': 'An infinitesimal change in a varying quantity; an increment ordecrement. [Obs.]',\n",
       " 'DOOMSTER': 'Same as Dempster. [Scot.]',\n",
       " 'STICHOMANCY': 'Divination by lines, or passages of books, taken at hazard.',\n",
       " 'NEAR-LEGGED': 'Having the feet so near together that they interfere intraveling. Shak.',\n",
       " 'OWEN': 'Own. [Obs.] Chaucer.',\n",
       " 'CACODOXICAL': 'Heretical.',\n",
       " 'EJECT': 'To cast out; to evict; to dispossess; as, to eject tenants froman estate.',\n",
       " 'PERMUTER': 'One who permutes.',\n",
       " 'TENSE': 'One of the forms which a verb takes by inflection or by addingauxiliary words, so as to indicate the time of the action or eventsignified; the modification which verbs undergo for the indication oftime.',\n",
       " 'EPICORACOID': 'A ventral cartilaginous or bony element of the coracoid in theshoulder girdle of some vertebrates.',\n",
       " 'BOLOMETER': 'An instrument for measuring minute quantities of radiant heat,especially in different parts of the spectrum; -- called also actinicbalance, thermic balance. S. P. Langley.',\n",
       " 'PRIMITIVENESS': 'The quality or state of being primitive; conformity toprimitive style or practice.',\n",
       " 'CAPTAIN': 'To act as captain of; to lead. [R.]Men who captained or accompanied the exodus from existing forms.Lowell.',\n",
       " 'MASTED': 'Furnished with a mast or masts; -- chiefly in composition; as,a three-masted schooner.',\n",
       " 'COVEY': 'To brood; to incubate. [Obs.][Tortoises] covey a whole year before they hatch. Holland.',\n",
       " 'SULPHURINE': 'Sulphureous. [R.]',\n",
       " 'BUTT': 'To strike by thrusting the head against; to strike with thehead.Two harmless lambs are butting one the other. Sir H. Wotton.',\n",
       " 'JAG': 'A cleft or division. Jag bolt, a bolt with a nicked or barbedshank which resists retraction, as when leaded into stone.',\n",
       " 'SARCENET': 'A species of fine thin silk fabric, used for linings, etc.[Written also sarsenet.]Thou green sarcenet flap for a sore eye. Shak.',\n",
       " 'CARPOPHORE': 'A slender prolongation of the receptacle as an axis between thecarpels, as in Geranium and many umbelliferous plants.',\n",
       " 'BRAWL': 'A noisy quarrel; loud, angry contention; a wrangle; a tumult;as, a drunken brawl.His sports were hindered by the brawls. Shak.',\n",
       " 'AMORETTE': 'An amoret. [Obs.] Rom. of R.',\n",
       " 'MATRIARCHATE': 'The office or jurisdiction of a matriarch; a matriarchal formof government.',\n",
       " 'TUMMALS': 'A great quantity or heap. Weale.',\n",
       " 'FLATBOAT': 'A boat with a flat bottom and square ends; -- used for thetransportation of bulky freight, especially in shallow waters.',\n",
       " 'BROWNSTONE': 'A dark variety of sandstone, much used for building purposes.',\n",
       " 'PORTOISE': 'The gunwale of a ship. To lower the yards a-portoise, to lowerthem to the gunwale.-- To ride a portoise, to ride an anchor with the lower yards andtopmasts struck or lowered, as in a gale of wind.',\n",
       " 'STEGNOTIC': 'Tending to render costive, or to diminish excretions ordischarges generally.-- n.',\n",
       " 'TOIL': 'A net or snare; any thread, web, or string spread for takingprey; -- usually in the plural.As a Numidian lion, when first caught, Endures the toil that holdshim. Denham.Then toils for beasts, and lime for birds, were found. Dryden.',\n",
       " 'TRITICUM': 'A genus of grasses including the various species of wheat.',\n",
       " 'PATHOS': 'That quality or property of anything which touches the feelingsor excites emotions and passions, esp., that which awakens tenderemotions, such as pity, sorrow, and the like; contagious warmth offeeling, action, or expression; pathetic quality; as, the pathos of apicture, of a poem, or of a cry.The combination of incident, and the pathos of catastrophe. T.Warton.',\n",
       " 'PORTANCE': 'See Port, carriage, demeanor. [Obs.] Spenser. Shak.',\n",
       " 'CARNAUBA': 'The Brazilian wax palm. See Wax palm.',\n",
       " 'HYDROSTATICIAN': 'One who is versed or skilled in hydrostatics. [R.]',\n",
       " 'OINOMANIA': 'See oenomania.',\n",
       " 'GENET': 'A small-sized, well-proportioned, Spanish horse; a jennet.Shak.',\n",
       " 'COLCHICUM': 'A genus of bulbous-rooted plants found in many parts of Europe,including the meadow saffron.',\n",
       " 'AUCTIONEER': 'A person who sells by auction; a person whose business it is todispose of goods or lands by public sale to the highest or bestbidder.',\n",
       " 'EXSICCATE': 'To exhaust or evaporate moisture from; to dry up. Sir T.Browne.',\n",
       " 'MESOXALIC': 'Pertaining to, or designating, an acid, CH2O2(CO2H)2, obtainedfrom amido malonic acid.',\n",
       " 'PENTREMITE': 'Any species of Pentremites.',\n",
       " 'GAULT': 'A series of beds of clay and marl in the South of England,between the upper and lower greensand of the Cretaceous period.',\n",
       " 'BROWNBACK': 'The dowitcher or red-breasted snipe. See Dowitcher.',\n",
       " 'PECK': 'A quick, sharp stroke, as with the beak of a bird or a pointedinstrument.',\n",
       " 'AGENTSHIP': 'Agency. Beau. & Fl.',\n",
       " 'AUTOGENEAL': 'Self-produced; autogenous.',\n",
       " 'AGROSTIS': 'A genus of grasses, including species called in common languagebent grass. Some of them, as redtop (Agrostis vulgaris), are valuablepasture grasses.',\n",
       " 'SHEEPSHANK': 'A hitch by which a rope may be temporarily shortened.',\n",
       " 'SOVEREIGNIZE': 'To exercise supreme authority. [Obs.] Sir T. Herbert.',\n",
       " 'VIDAME': 'One of a class of temporal officers who originally representedthe bishops, but later erected their offices into fiefs, and becamefeudal nobles.',\n",
       " 'RAMBLE': 'A bed of shale over the seam. Raymond.',\n",
       " 'CEPHALOTRIBE': 'An obstetrical instrument for performing cephalotripsy.',\n",
       " 'PROSPECTIVELY': 'In a prospective manner.',\n",
       " 'DECLINAL': 'Declining; sloping.',\n",
       " 'DEBACCHATION': 'Wild raving or debauchery. [R.] Prynne.',\n",
       " 'TAURINE': 'Of or pertaining to the genus Taurus, or cattle.',\n",
       " 'HARMOTOME': 'A hydrous silicate of alumina and baryta, occurring usually inwhite cruciform crystals; cross-stone.',\n",
       " 'OVIFEROUS': 'Egg-bearing; -- applied particularly to certain receptacles, asin Crustacea, that retain the eggs after they have been excluded fromthe formative organs, until they are hatched.',\n",
       " 'AFTER-WITTED': 'Characterized by afterwit; slow-witted. Tyndale.',\n",
       " 'TRICHOGYNE': 'The slender, hairlike cell which receives the fertilizingparticles, or antherozoids, in red seaweeds.-- Trich`o*gyn\"ic, a.',\n",
       " 'INSULARLY': 'In an insular manner.',\n",
       " 'ESTREPEMENT': 'A destructive kind of waste, committed by a tenant for life, inlands, woods, or houses. Cowell.',\n",
       " 'CHUB-FACED': 'Having a plump, short face.',\n",
       " 'ANARCHIST': 'An anarch; one who advocates anarchy of aims at the overthrowof civil government.',\n",
       " 'SURVIEW': 'To survey; to make a survey of. [Obs.] \"To surview his ground.\"Spenser.',\n",
       " 'PLIOCENE': 'Of, pertaining to, or characterizing, the most recent divisionof the Tertiary age.',\n",
       " 'SHAKO': 'A kind of military cap or headress.',\n",
       " 'MISADVENTURED': 'Unfortunate. [Obs.]',\n",
       " 'CEROTE': 'See Cerate.',\n",
       " 'DEKASTERE': 'Same as Decastere.',\n",
       " 'LOBE-FOOTED': 'Lobiped.',\n",
       " 'PHLEUM': \"A genus of grasses, including the timothy (Phleum pratense),which is highly valued for hay; cat's-tail grass. Gray.\",\n",
       " 'DIFFLUENT': 'Flowing apart or off; dissolving; not fixed. [R.] Bailey.',\n",
       " 'EFFUME': 'To breathe or puff out. [Obs.] B. Jonson.',\n",
       " 'ROUP': 'To cry or shout; hence, to sell by auction. [Scot.] Jamieson.',\n",
       " 'APACHES': 'A group of nomadic North American Indians including severaltribes native of Arizona, New Mexico, etc.',\n",
       " 'HECK': 'An apparatus for separating the threads of warps into sets, asthey are wound upon the reel from the bobbins, in a warping machine.',\n",
       " 'INDAZOL': 'A nitrogenous compound, C7H6N2, analogous to indol, andproduced from a diazo derivative or cinnamic acid.',\n",
       " 'THEINE': 'See Caffeine. Called also theina.',\n",
       " 'CANAKIN': 'A little can or cup. \"And let me the canakin clink.\" Shak.',\n",
       " 'MYELITIS': 'Inflammation of the spinal marrow or its membranes.',\n",
       " 'CHAIN TIE': 'A tie consisting of a series of connected iron bars or rods.',\n",
       " 'INHUMANITY': \"The quality or state of being inhuman; cruelty; barbarity.Man's inhumanity to man Makes countless thousands mourn. Burns.\",\n",
       " 'DANK': 'Damp; moist; humid; wet.Now that the fields are dank and ways are mire. Milton.Cheerless watches on the cold, dank ground. Trench.',\n",
       " 'INTERNE': 'That which is within; the interior. [Poetic] Mrs. Browning.',\n",
       " 'PLENIPOTENT': 'Possessing full power. [R.] Milton.',\n",
       " 'DEMOCRATY': 'Democracy. [Obs.] Milton.',\n",
       " 'DERMOSKELETON': 'See Exoskeleton.',\n",
       " 'NORTHEASTERLY': 'Pertaining to the northeast; toward the northeast, or comingfrom the northeast.',\n",
       " 'SAMP': 'An article of food consisting of maize broken or bruised, whichis cooked by by boiling, and usually eaten with milk; coarse hominy.',\n",
       " 'LOOL': 'A vessel used to receive the washings of ores of metals.',\n",
       " 'LACERATE': 'To tear; to rend; to separate by tearing; to mangle; as, tolacerate the flesh. Hence: To afflict; to torture; as, to laceratethe heart.',\n",
       " 'TRICHINOSIS': 'The disease produced by the presence of trichinæ in the musclesand intestinal track. It is marked by fever, muscular pains, andsymptoms resembling those of typhoid fever, and is frequently fatal.',\n",
       " 'FORBEARER': 'One who forbears. Tusser.',\n",
       " 'WARP': 'To tow or move, as a vessel, with a line, or warp, attached toa buoy, anchor, or other fixed object.',\n",
       " 'DEMOGRAPHY': 'The study of races, as to births, marriages, mortality, health,etc.-- Dem`o*graph\"ic, a.',\n",
       " 'FROSTBITE': 'The freezing, or effect of a freezing, of some part of thebody, as the ears or nose. Kane.',\n",
       " 'CILL': 'See Sill., n. a foundation.',\n",
       " 'DEFENSIBLENESS': 'Capability of being defended; defensibility. Priestley.',\n",
       " 'RESPLENDENT': 'Shining with brilliant luster; very bright.-- Re*splen\"dent*ly, adv.With royal arras and resplendent gold. Spenser.',\n",
       " 'HORNSNAKE': 'A harmless snake (Farancia abacura), found in the SouthernUnited States. The color is bluish black above, red below.',\n",
       " 'MOLYBDENITE': 'A mineral occurring in soft, lead-gray, foliated masses orscales, resembling graphite; sulphide of molybdenum.',\n",
       " 'EMPAWN': 'To put in pawn; to pledge; to impawn.To sell, empawn, and alienate the estates. Milman.',\n",
       " 'PACA': 'A small South American rodent (Cologenys paca), having blackishbrown fur, with four parallel rows of white spots along its sides;the spotted cavy. It is nearly allied to the agouti and the Guineapig.',\n",
       " 'DIRECTORY': 'Containing directions; enjoining; instructing; directorial.',\n",
       " 'ELECTREPETER': 'An instrument used to change the direction of electriccurrents; a commutator. [R.]',\n",
       " 'VICKERS-MAXIM AUTOMATIC MACHINE GUN': 'An automatic machine gun in which the mechanism is worked bythe recoil, assisted by the pressure of gases from the muzzle, whichexpand in a gas chamber against a disk attached to the end of thebarrel, thus moving the latter to the rear with increased recoil, andagainst the front wall of the gas chamber, checking the recoil of thesystem.',\n",
       " 'AEROYACHT': 'A form of hydro-aëroplane; a flying boat.',\n",
       " 'STERLET': 'A small sturgeon (Acipenser ruthenus) found in the Caspian Seaand its rivers, and highly esteemed for its flavor. The finestcaviare is made from its roe.',\n",
       " 'THOROUGHPIN': 'A disease of the hock (sometimes of the knee) of a horse,caused by inflammation of the synovial membrane and a consequentexcessive secretion of the synovial fluid; -- probably so calledbecause there is usually an oval swelling on each side of the leg,appearing somewhat as if a pin had been thrust through.',\n",
       " 'CAROMEL': 'See Caramel.',\n",
       " 'ROADSTER': 'A clumsy vessel that works its way from one anchorage toanother by means of the tides. Ham. Nav. Encyc.',\n",
       " 'SHALT': '2d per. sing. of Shall.',\n",
       " 'LEPROSY': 'A cutaneous disease which first appears as blebs or as reddish,shining, slightly prominent spots, with spreading edges. These areoften followed by an eruption of dark or yellowish prominent nodules,frequently producing great deformity. In one variety of the disease,anæsthesia of the skin is a prominent symptom. In addition there maybe wasting of the muscles, falling out of the hair and nails, anddistortion of the hands and feet with destruction of the bones andjoints. It is incurable, and is probably contagious.Mycobacteriumleprae, curable in most cases by therapy with a combination ofantibiotics, but cases resistant to therapy are increasing.',\n",
       " 'SUPERCURIOUS': 'Excessively curious or inquisitive. Evelyn.',\n",
       " 'QUATRAIN': 'A stanza of four lines rhyming alternately. Dryden.',\n",
       " 'ASSOCIATIONISM': 'The doctrine or theory held by associationists.',\n",
       " 'CENTROLINEAD': 'An instrument for drawing lines through a point, or linesconverging to a center.',\n",
       " 'HERBARIST': 'A herbalist. [Obs.]',\n",
       " 'QUINDECYLIC': 'Pertaining to, or designating, an acid of the fatty acidseries, containing fifteen atoms of carbon; called also pentadecylicacid.',\n",
       " 'TARRY': 'Consisting of, or covered with, tar; like tar.',\n",
       " 'DEADS': 'The substances which inclose the ore on every side.',\n",
       " 'ELAIODIC': 'Derived from castor oil; ricinoleic; as, elaiodic acid. [R.]',\n",
       " 'CYSTOTOMY': 'The act or practice of opening cysts; esp., the operation ofcutting into the bladder, as for the extraction of a calculus.',\n",
       " 'ANTECURSOR': 'A forerunner; a precursor. [Obs.]',\n",
       " 'FABLER': 'A writer of fables; a fabulist; a dealer in untruths orfalsehoods. Br. Hall.',\n",
       " 'OBSTETRICIOUS': 'Serving to assist childbirth; obstetric; hence, facilitatingany bringing forth or deliverance. [Obs.]Yet is all human teaching but maieutical, or obstetricious. Cudworth.',\n",
       " 'STRUSE': 'A Russian river craft used for transporting freight.',\n",
       " 'FAUBOURG': 'A suburb of French city; also, a district now within a city,but formerly without its walls.',\n",
       " 'HALVED': 'Appearing as if one side, or one half, were cut away;dimidiate.',\n",
       " 'HAUYNITE': 'A blue isometric mineral, characteristic of some volcani',\n",
       " 'LYENCEPHALOUS': 'Pertaining to, or characteristic of, the Lyencephala.',\n",
       " 'BYSTANDER': 'One who stands near; a spectator; one who has no concern withthe business transacting.He addressed the bystanders and scattered pamphlets among them.Palfrey.',\n",
       " 'QUINDECEMVIRATE': 'The body or office of the quindecemviri.',\n",
       " 'REMOULD': 'See Remold.',\n",
       " 'IDOLOUS': 'Idolatrous. [Obs.] Bale.',\n",
       " 'SPARROWGRASS': 'Asparagus. [Colloq.] See the Note under Asparagus.',\n",
       " 'APERCU': 'A first view or glance, or the perception or estimation soobtained; an immediate apprehension or insight, appreciative ratherthan analytic.',\n",
       " 'AU FAIT': 'Expert; skillful; well instructed.',\n",
       " 'BRANCHIOPODA': 'An order of Entomostraca; -- so named from the feet ofbranchiopods having been supposed to perform the function of gills.It includes the fresh-water genera Branchipus, Apus, and Limnadia,and the genus Artemia found in salt lakes. It is also calledPhyllopoda. See Phyllopoda, Cladocera. It is sometimes used in abroader sense.',\n",
       " 'ALANTIN': 'See Inulin.',\n",
       " 'SUBSTANTIALIZE': 'To make substantial.',\n",
       " 'SALTIREWISE': 'In the manner of a saltire; -- said especially of the blazoningof a shield divided by two lines drawn in the direction of a bend anda bend sinister, and crossing at the center.',\n",
       " 'NAPPE': 'Sheet; surface; all that portion of a surface that iscontinuous in such a way that it is possible to pass from any onepoint of the portion to any other point of the portion withoutleaving the surface. Thus, some hyperboloids have one nappe, and somehave two.',\n",
       " 'MIDDLE-AGED': 'Being about the middle of the ordinary age of man; between 30and 50 years old.',\n",
       " 'ORTHOCLASE': 'Common or potash feldspar crystallizing in the monoclinicsystem and having two cleavages at right angles to each other. SeeFeldspar.',\n",
       " 'NOTOTHERIUM': 'An extinct genus of gigantic herbivorous marsupials, found inthe Pliocene formation of Australia.',\n",
       " 'HAIRLESS': 'Destitute of hair. Shak.',\n",
       " 'WOODMEIL': 'See Wadmol.',\n",
       " 'ENDMOST': 'Farthest; remotest; at the very end. Tylor.',\n",
       " 'PAVIIN': 'A glucoside found in species of the genus Pavia of the Horse-chestnut family.',\n",
       " 'YEARNINGLY': 'With yearning.',\n",
       " 'WEALDEN': 'Of or pertaining to the lowest division of the Cretaceousformation in England and on the Continent, which overlies the Oöliticseries.',\n",
       " 'RELAXATIVE': 'Having the quality of relaxing; laxative.-- n.',\n",
       " 'AMBULATORIAL': 'Ambulatory; fitted for walking. Verrill.',\n",
       " 'CIRCUMSTANTIALITY': 'The state, characteristic, or quality of being circumstantial;particularity or minuteness of detail. \"I will endeavor to describewith sufficient circumstantiality.\" De Quincey.',\n",
       " 'BESHUT': 'To shut up or out. [Obs.]',\n",
       " 'COMPACTER': 'One who makes a compact.',\n",
       " 'MARMORATUM OPUS': 'A kind of hard finish for plasterwork, made of plaster of Parisand marble dust, and capable of taking a high polish.',\n",
       " 'DIBBLER': 'One who, or that which, dibbles, or makes holes in the groundfor seed.',\n",
       " 'TELOOGOO': 'See Telugu. D. O. Allen.',\n",
       " 'HATEL': 'Hateful; detestable. [Obs.]',\n",
       " 'MEGACOSM': 'See Macrocosm. Croft.',\n",
       " 'PARTED': 'Cleft so that the divisions reach nearly, but not quite, to themidrib, or the base of the blade; -- said of a leaf, and used chieflyin composition; as, three-parted, five-parted, etc. Gray.',\n",
       " 'BLANKET STITCH': 'A buttonhole stitch worked wide apart on the edge of material,as blankets, too thick to hem.',\n",
       " 'LOCHIAL': 'Of or pertaining to the lochia.',\n",
       " 'WATER MONITOR': 'A very large lizard (Varanaus salvator) native of India. Itfrequents the borders of streams and swims actively. It becomes fiveor six feet long. Called also two-banded monitor, and kabaragoya. Thename is also applied to other aquatic monitors.',\n",
       " 'QUADRATE': 'A plane surface with four equal sides and four right angles; asquare; hence, figuratively, anything having the outline of a square.At which command, the powers militant That stood for heaven, inmighty quadrate joined. Milton.',\n",
       " 'DELTAFICATION': 'The formation of a delta or of deltas. [R.]',\n",
       " 'MOELLON': 'Rubble masonry.',\n",
       " 'WATER ALOE': 'See Water soldier.',\n",
       " 'POSTPOSIT': 'To postpone. [Obs.] Feltham.',\n",
       " 'REPOSE': 'A rest; a pause.',\n",
       " 'RULE-MONGER': 'A stickler for rules; a slave of rules [R.] Hare.',\n",
       " 'MANUBRIUM': 'A handlelike process or part; esp., the anterior segment of thesternum, or presternum, and the handlelike process of the malleus.',\n",
       " 'DOS--DOS': 'Back to back; as, to sit dos-à-dos in a dogcart; to dance dos-à-dos, or so that two dancers move forward and pass back to back.',\n",
       " 'FORMALIST': 'One overattentive to forms, or too much confined to them; esp.,one who rests in external religious forms, or observes strictly theoutward forms of worship, without possessing the life and spirit ofreligion.As far a formalist from wisdom sits, In judging eyes, as libertinesfrom wits. Young.',\n",
       " 'REPENTANT': 'One who repents, especially one who repents of sin; a penitent.',\n",
       " 'SWILLER': 'One who swills.',\n",
       " 'CAROUSE': 'To drink deeply or freely in compliment; to take in a carousal;to engage in drunken revels.He had been aboard, carousing to his mates. Shak.',\n",
       " 'CYSTID': 'One of the Cystidea.',\n",
       " 'UNIFIC': 'Making one or unity; unifying.',\n",
       " 'ASTRAEAN': 'Pertaining to the genus Astræa or the family Astræidæ.-- n.',\n",
       " 'QUADRATIC': 'Tetragonal.',\n",
       " 'GAZEEBO': 'A summerhouse so situated as to command an extensive prospect.[Colloq.]',\n",
       " 'NERVOMUSCULAR': 'Of or pertaining to both nerves and muscles; of the nature ofnerves and muscles; as, nervomuscular energy.',\n",
       " 'FORLORNLY': 'In a forlorn manner. Pollok.',\n",
       " 'UNSYMMETRICAL': 'Not symmetrical; being without symmetry, as the parts of aflower when similar parts are of different size and shape, or whenthe parts of successive circles differ in number. See Symmetry.',\n",
       " 'MICROGRAPHY': 'The description of microscopic objects.',\n",
       " 'IRRECOVERABLE': 'Not capable of being recovered, regained, or remedied;irreparable; as, an irrecoverable loss, debt, or injury.That which is past is gone and irrecoverable. Bacon.',\n",
       " 'COMMODATE': 'A gratuitous loan.',\n",
       " 'BLASTMENT': 'A sudden stroke or injury produced by some destructive cause.[Obs.] Shak.',\n",
       " 'PRONELY': 'In a prone manner or position.',\n",
       " 'DARTINGLY': 'Like a dart; rapidly.',\n",
       " 'PRAETORIAN': 'See Pretorian.',\n",
       " 'FEATNESS': 'Skill; adroitness. [Archaic] Johnson.',\n",
       " 'CERRIAL': 'Of or pertaining to the cerris.Chaplets green of cerrial oak. Dryden.',\n",
       " 'DOCK-CRESS': 'Nipplewort.',\n",
       " 'UNDENIABLY': 'In an undeniable manner.',\n",
       " 'EJULATION': 'A wailing; lamentation. [Obs.] \"Ejulation in the pangs ofdeath.\" Philips.',\n",
       " 'BLOBBER-LIPPED': 'Having thick lips. \"A blobber-lipped shell.\" Grew.',\n",
       " 'INFORMALLY': 'In an informal manner.',\n",
       " 'HIPHALT': 'Lame in the hip. [R.] Gower.',\n",
       " 'WANT': 'A depression in coal strata, hollowed out before the subsequentdeposition took place. [Eng.]',\n",
       " 'CANDLELIGHT': 'The light of a candle.Never went by candlelight to bed. Dryden.',\n",
       " 'KARAGANE': 'A species of gray fox found in Russia.',\n",
       " 'HOMOSYSTEMIC': 'Developing, in the case of multicellular organisms, from thesame embryonic systems into which the secondary unit (gastrula orplant enbryo) differentiates.',\n",
       " 'BROOM': \"A plant having twigs suitable for making brooms to sweep withwhen bound together; esp., the Cytisus scoparius of Western Europe,which is a low shrub with long, straight, green, angular branches,mintue leaves, and large yellow flowers.No gypsy cowered o'er fires of furze and broom. Wordsworth.\",\n",
       " 'UNPURE': 'Not pure; impure.-- Un*pure\"ly, adv.-- Un*pure\"ness, n.',\n",
       " 'BARBRE': 'Barbarian. [Obs.] Chaucer.',\n",
       " 'DAMSEL': 'An attachment to a millstone spindle for shaking the hoppe',\n",
       " 'SERENITUDE': 'Serenity. [Obs.]',\n",
       " 'UNSINCERE': 'Not sincere or pure; insincere. [Obs.] Dryden.-- Un`sin*cere\"ness, n. [Obs.]',\n",
       " 'BEDAGAT': 'The sacred books of the Buddhists in Burmah. Malcom.',\n",
       " 'BDELLOMETER': 'A cupping glass to which are attached a scarificator and anexhausting syringe. Dunglison.',\n",
       " 'CHAJA': 'The crested screamer of Brazil (Palamedea, or Chauna,chavaria), so called in imitation of its notes; -- called alsochauna, and faithful kamichi. It is often domesticated and is usefulin guarding other poultry. See Kamichi.',\n",
       " 'UNPOISON': 'To remove or expel poison from. [Obs.] South.',\n",
       " 'CHARTERER': 'One who charters; esp. one who hires a ship for a voyage.',\n",
       " 'STATEMONGER': 'One versed in politics, or one who dabbles in state affairs.',\n",
       " 'ALVEUS': 'The channel of a river. Weate.',\n",
       " 'ALISH': 'Like ale; as, an alish taste.',\n",
       " 'NEBULAR': 'Of or pertaining to nebulæ; of the nature of, or resembling, anebula. Nebular hypothesis, an hypothesis to explain the process offormation of the stars and planets, presented in various forms byKant, Herschel, Laplace, and others. As formed by Laplace, itsupposed the matter of the solar system to have existed originally inthe form of a vast, diffused, revolving nebula, which, graduallycooling and contracting, threw off, in obedience to mechanical andphysical laws, succesive rings of matter, from which subsequently, bythe same laws, were produced the several planets, satellites, andother bodies of the system. The phrase may indicate any hypothesisaccording to which the stars or the bodies of the solar system havebeen evolved from a widely diffused nebulous form of matter.',\n",
       " 'REQUISITIONIST': 'One who makes or signs a requisition.',\n",
       " 'RELENT': 'Stay; stop; delay. [Obs.]Nor rested till she came without relent Unto the land of Amazona.Spenser.',\n",
       " 'AMOUR PROPRE': 'Self-love; self-esteem.',\n",
       " 'DECUPLE': 'Tenfold. [R.]',\n",
       " 'SERE': 'Dry; withered. Same as Sear.But with its sound it shook the sails That were so thin and sere.Coleridge.',\n",
       " 'GOVERNABLENESS': 'The quality of being governable; manageableness.',\n",
       " 'BROWNISM': 'The views or teachings of Robert Brown of the Brownists.Milton.',\n",
       " 'DROCK': 'A water course. [Prov. Eng.]',\n",
       " 'CONNOTE': 'To imply as an attribute.The word \"white\" denotes all white things, as snow, paper, the foamof the sea, etc., and ipmlies, or as it was termed by the schoolmen,connotes, the attribute \"whiteness.\" J. S. Mill.',\n",
       " 'LITERALISM': 'The tendency or disposition to represent objects faithfully,without abstraction, conventionalities, or idealization.',\n",
       " 'LODGMENT': 'The occupation and holding of a position, as by a besiegingparty; an instrument thrown up in a captured position; as, to effecta lodgment.',\n",
       " 'THYSANOPTERA': 'A division of insects, considered by some writers a distinctorder, but regarded by others as belonging to the Hemiptera. They areall of small size, and have narrow, broadly fringed wings withrudimentary nervures. Most of the species feed upon the juices ofplants, and some, as those which attack grain, are very injurious tocrops. Called also Physopoda. See Thrips.',\n",
       " 'NIOBIC': 'Same as Columbic.',\n",
       " 'DEEP': 'To a great depth; with depth; far down; profoundly; deeply.Deep-versed in books, and shallow in himself. Milton.Drink deep, or taste not the Pierian spring. Pope.',\n",
       " 'MESATICEPHALIC': 'Having the ratio of the length to the breadth of the cranium amedium one; neither brachycephalic nor dolichocephalic.',\n",
       " 'PAROCHIAN': 'Parochial. [Obs.] \"Parochian churches.\" Bacon.',\n",
       " 'DRAVE': ', old imp. of Drive. [Obs.]',\n",
       " 'ACCEDENCE': 'The act of acceding.',\n",
       " 'PRIMARILY': 'In a primary manner; in the first place; in the first place; inthe first intention; originally.',\n",
       " 'SOLENOCONCHA': 'Same as Scaphopoda.',\n",
       " 'HYGIEIST': 'A hygienist.',\n",
       " 'RECALL': 'A call on the trumpet, bugle, or drum, by which soldiers arerecalled from duty, labor, etc. Wilhelm.',\n",
       " 'BOARD': 'The stage in a theater; as, to go upon the boards, to enterupon the theatrical profession.',\n",
       " 'ALIMENTAL': 'Supplying food; having the quality of nourishing; furnishingthe materials for natural growth; as, alimental sap.',\n",
       " 'TRACERY': 'Ornamental work with rambled lines. Especially: --(a) The decorative head of a Gothic window.',\n",
       " 'VERBALIST': 'A literal adherent to, or a minute critic of, words; aliteralist.',\n",
       " 'INTERMAXILLARY': 'An intermaxilla.',\n",
       " 'HYPERTHYRION': 'That part of the architrave which is over a door or window.',\n",
       " 'INFUMATION': 'Act of drying in smoke.',\n",
       " 'GLASS': 'Any substance having a peculiar glassy appearance, and aconchoidal fracture, and usually produced by fusion.',\n",
       " 'SUBSISTENCE DEPARTMENT': 'A staff department of the United States army charged, under thesupervision of the Chief of Staff, with the purchasing and issuing tothe army of such supplies as make up the  ration. It also supplies,for authorized sales, certain articles of food and other minorstores. It is commanded by any officer of the rank of brigadiergeneral, called commissary general, and the department is popularlycalled the Commissary Department.',\n",
       " 'AUTOMORPHIC': \"Patterned after one's self.The conception which any one frames of another's mind is more or lessafter the pattern of his own mind, -- is automorphic. H. Spenser.\",\n",
       " 'FULL-SAILED': 'Having all its sails set,; hence, without restriction orreservation. Massinger.',\n",
       " 'TREAD': 'The upper horizontal part of a step, on which the foot isplaced.',\n",
       " 'STIAN': 'A sty on the eye. See Styan.',\n",
       " 'HELIACAL': 'Emerging from the light of the sun, or passing into it; risingor setting at the same, or nearly the same, time as the sun. Sir T.Browne.',\n",
       " 'KROOMAN': 'One of a negro tribe of Liberia and the adjacent coast, whosemembers are much employed on shipboard.',\n",
       " 'PHOTOTROPIC': 'Same as Heliotropic.',\n",
       " 'BULRUSH': 'A kind of large rush, growing in wet land or in water.',\n",
       " 'CICATRICIAL': 'Relating to, or having the character of, a cicatrix. Dunglison.',\n",
       " 'SAXIFRAGE': 'Any plant of the genus Saxifraga, mostly perennial herbsgrowing in crevices of rocks in mountainous regions. Burnetsaxifrage, a European umbelliferous plant (Pimpinella Saxifraga).-- Golden saxifrage, a low half-sacculent herb (Chrysospleniumoppositifolium) growing in rivulets in Europe; also, C. Americanum,common in the United States. See also under Golden.-- Meadow saxifrage, or Pepper saxifrage. See under Meadow.',\n",
       " 'GESTURELESS': 'Free from gestures.',\n",
       " 'SCUTAGE': 'Shield money; commutation of service for a sum of money. SeeEscuage.',\n",
       " 'HYGIENIST': 'One versed in hygiene.',\n",
       " 'DIRKNESS': 'Darkness. [Obs.] Chaucer.',\n",
       " 'FERIER': ', compar. of Fere, fierce. [Obs.]Rhenus ferier than the cataract. Marston.',\n",
       " 'XENOGAMY': 'Cross fertilization.',\n",
       " 'ABSTRACTEDLY': 'In an abstracted manner; separately; with absence of mind.',\n",
       " 'XYLOCOPA': 'A genus of hymenopterous insects including the carpenter. SeeCarpenter bee, under Carpenter.-- Xy*loc\"o*pine, a.',\n",
       " 'SILICIC': 'Pertaining to, derived from, or resembling, silica;specifically, designating compounds of silicon; as, silicic acid.Silicic acid (Chem.), an amorphous gelatinous substance, Si(HO)4,very unstable and easily dried to silica, but forming many stablesalts; -- called also orthosilicic, or normal silicic, acid.',\n",
       " 'TITAN': 'Titanic.The Titan physical difficulties of his enterprise. I. Taylor.',\n",
       " 'DISENTWINE': 'To free from being entwined or twisted. Shelley.',\n",
       " 'SUPERINTEND': 'To have or exercise the charge and oversight of; to overseewith the power of direction; to take care of with authority; tosupervise; as, an officer superintends the building of a ship or theconstruction of a fort.The king may appoint a council, who may superintend the works of thisnature. Bacon.',\n",
       " 'INCREDIBLY': 'In an incredible manner.',\n",
       " 'PERMANGANATE': 'A salt of permanganic acid. Potassium permanganate. (Chem.) SeePotassium permanganate, under Potassium.',\n",
       " 'LITHIC': 'Pertaining to the formation of uric-acid concretions (stone) inthe bladder and other parts of the body; as, lithic diathesis. LIthicacid (Old Med. Chem.), uric acid. See Uric acid, under Uric.',\n",
       " 'CALIDUCT': 'A pipe or duct used to convey hot air or steam.Subterranean caliducts have been introduced. Evelyn.',\n",
       " 'PENOCK': 'See Pend.',\n",
       " 'INTANGLE': 'See Entangle.',\n",
       " 'PLEIOCENE': 'See Pliocene.',\n",
       " 'WHIPPER': 'A kind of simple willow.',\n",
       " 'MONOPERSONAL': 'Having but one person, or form of existence.',\n",
       " 'SEERESS': 'A female seer; a prophetess.',\n",
       " 'PYCNOGONID': 'One of the Pycnogonida.',\n",
       " 'LOOCH': 'See 2d Loch.',\n",
       " 'DIFFIDE': 'To be distrustful. [Obs.] Dr. H. More.',\n",
       " 'MERCENARINESS': 'The quality or state of being mercenary; venality. Boyle.',\n",
       " 'SPASMODIC': 'Of or pertaining to spasm; consisting in spasm; occuring in, orcharacterized by, spasms; as, a spasmodic asthma.',\n",
       " 'TRIBUNATE': 'The state or office of a tribune; tribuneship.',\n",
       " 'LAMENT': 'To express or feel sorrow; to weep or wail; to mourn.Jeremiah lamented for Josiah. 2 Chron. xxxv. 25.Ye shall weep and lament, but the world shall rejoice. John xvi. 20.',\n",
       " 'ENLACE': 'To bind or encircle with lace, or as with lace; to lace; toencircle; to enfold; hence, to entangle.Ropes of pearl her neck and breast enlace. P. Fletcher.',\n",
       " 'MINIMIZE': 'To reduce to the smallest part or proportion possible; toreduce to a minimum. Bentham.',\n",
       " 'PETIOLE': 'A leafstalk; the footstalk of a leaf, connecting the blade withthe stem. See Illust. of Leaf.',\n",
       " 'BOW': 'An inclination of the head, or a bending of the body, in tokenof reverence, respect, civility, or submission; an obeisance; as, abow of deep humility.',\n",
       " 'MISBELIEF': 'Erroneous or false belief.',\n",
       " 'HIGHBINDER': 'A ruffian; one who hounds, or spies upon, another; app. esp. tothe members of certain alleged societies among the Chinese. [U. S.]',\n",
       " 'ECHOMETER': 'A graduated scale for measuring the duration of sounds, anddetermining their different, and the relation of their intervals. J.J. Rousseau.',\n",
       " 'INSISTENTLY': 'In an insistent manner.',\n",
       " 'CATEGORICALLY': 'Absolutely; directly; expressly; positively; as, to affirmcategorically.',\n",
       " 'COFFER': 'A panel deeply recessed in the ceiling of a vault, dome, orportico; a caisson.',\n",
       " 'URBICOLOUS': 'Of or pertaining to a city; urban. [R.]',\n",
       " 'IMPARTER': 'One who imparts.',\n",
       " 'DOWST': 'A dowse. [Obs.] Beau. & Fl.',\n",
       " 'ETTIN': 'A giant. [Obs.] Beau & Fl.',\n",
       " 'WEAKFISH': 'Any fish of the genus Cynoscion; a squeteague; -- so calledfrom its tender mouth. See Squeteague. Spotted weakfish (Zoöl.), thespotted squeteague.',\n",
       " 'CONCERTANTE': 'A concert for two or more principal instruments, withorchestral accompaniment. Also adjectively; as, concertante parts.',\n",
       " 'ERRABUND': 'Erratic. \"Errabund guesses.\" Southey.',\n",
       " 'OENANTHOL': 'An oily substance obtained by the distillation of castor oil,recognized as the aldehyde of oenanthylic acid, and hence called alsooenanthaldehyde.',\n",
       " 'UNTONGUE': 'To deprive of a tongue, or of voice. [Obs.] Fuller.',\n",
       " 'DAYFLOWER': 'A genus consisting mostly of tropical perennial herbs(Commelina), having ephemeral flowers.',\n",
       " 'PLURIFARIOUS': 'Of many kinds or fashions; multifarious.',\n",
       " 'OUTFLING': 'A gibe; a contemptuous remark.',\n",
       " 'GASCONADER': 'A great boaster; a blusterer.',\n",
       " 'ARCHY': 'Arched; as, archy brows.',\n",
       " 'ENERGUMEN': 'One possessed by an evil spirit; a demoniac.',\n",
       " 'PINTSCH GAS': 'A kind of oil gas extensively used for lighting railroad cars,which carry it in compressed form.',\n",
       " 'PORTABLENESS': 'The quality or state of being portable; portability.',\n",
       " 'PAT': 'To strike gently with the fingers or hand; to stroke lightly;to tap; as, to pat a dog.Gay pats my shoulder, and you vanish quite. Pope.',\n",
       " 'RUBBISH': \"Waste or rejected matter; anything worthless; valueless stuff;trash; especially, fragments of building materials or fallenbuildings; ruins; débris.What rubbish and what offal! Shak.he saw the town's one half in rubbish lie. Dryden.Rubbish pulley. See Gin block, under Gin.\",\n",
       " 'FORBIDDENLY': 'In a forbidden or unlawful manner. Shak.',\n",
       " 'CONTRADISTINCT': 'Distinguished by opposite qualities. J. Goodwin.',\n",
       " 'EMULSIFY': 'To convert into an emulsion; to form an emulsion; to reducefrom an oily substance to a milky fluid in which the fat globules arein a very finely divided state, giving it the semblance of solution;as, the pancreatic juice emulsifies the oily part of food.',\n",
       " 'ROLLER COASTER': 'An amusement railroad in which cars coast by gravity over along winding track, with steep pitches and ascents.',\n",
       " 'QUIRKISH': ', Consisting of quirks; resembling a quirk. Barrow.',\n",
       " 'BILAND': 'A byland. [Obs.] Holland.',\n",
       " 'GLEE': 'An unaccompanied part song for three or more solo voices. It isnot necessarily gleesome.',\n",
       " 'BLEAREYEDNESS': 'The state of being blear-eyed.',\n",
       " 'BOER': 'A colonist or farmer in South Africa of Dutch descent.',\n",
       " 'PIPERIDINE': 'An oily liquid alkaloid, C5H11N, having a hot, peppery,ammoniacal odor. It is related to pyridine, and is obtained by thedecomposition of piperine.',\n",
       " 'ACCOMPLISHER': 'One who accomplishes.',\n",
       " 'TALCUM': 'Same as Talc.',\n",
       " 'SATISFIER': 'One who satisfies.',\n",
       " 'IMPREGN': 'To impregnate; to make fruitful. [Obs.]His perniciousss words, impregned With reason. Milton.Semele doth Bacchus bear Impregned of Jove. Dr. H. More.',\n",
       " 'ACIDIFICATION': 'The act or process of acidifying, or changing into an acid.',\n",
       " 'PRUDENCY': 'Prudence. [Obs.] Hakluyt.',\n",
       " 'YEAN': 'To bring forth young, as a goat or a sheep; to ean. Shak.',\n",
       " 'KECKSY': 'The hollow stalk of an umbelliferous plant, such as the cowparsnip or the hemlock. [Written also kex, and in pl., kecks, kaxes.]Nothing teems But hateful docks, rough thistles, kecksies, burs.Shak.',\n",
       " 'PHLORETIN': 'A bitter white crystalline substance obtained by thedecomposition of phlorizin, and formerly used to some extent as asubstitute for quinine.',\n",
       " 'RESOURCEFUL': 'Full of resources.',\n",
       " 'ELIMINATION': 'the act of discharging or excreting waste products or foreignsubstances through the various emunctories.',\n",
       " 'PITYROID': 'Having the form of, or resembling, bran. Smart.',\n",
       " 'ENCALENDAR': 'To register in a calendar; to calendar. Drayton.',\n",
       " 'REFLEX': 'Of, pertaining to, or produced by, stimulus or excitationwithout the necessary intervention of consciousness. Reflex action(Physiol.), any action performed involuntarily in consequence of animpulse or impression transmitted along afferent nerves to a nervecenter, from which it is reflected to an efferent nerve, and so callsinto action certain muscles, organs, or cells.-- Reflex nerve (Physiol.), an excito-motory nerve. See Exito-motory.',\n",
       " 'JOURNEYER': 'One who journeys.',\n",
       " 'TONED': 'Having (such) a tone; -- chiefly used in composition; as, high-toned; sweet-toned. Toned paper, paper having a slight tint, indistinction from paper which is quite white.',\n",
       " 'WITCH': 'A cone of paper which is placed in a vessel of lard or otherfat, and used as a taper. [Prov. Eng.]',\n",
       " 'EQUIVALUE': 'To put an equal value upon; to put (something) on a par withanother thing. W. Taylor.',\n",
       " 'PUN': 'To pound. [Obs.]He would pun thee into shivers with his fist. Shak.',\n",
       " 'NALE': 'Ale; also, an alehouse. [Obs.]Great feasts at the nale. Chaucer.',\n",
       " 'COMIC': 'A comedian. [Obs.] Steele.',\n",
       " 'MICKLE': 'Much; great. [Written also muckle and mockle.] [Old Eng. &Scot.] \"A man of mickle might.\" Spenser.',\n",
       " 'RELIQUIDATION': 'A second or renewed liquidation; a renewed adjustment. A.Hamilton.',\n",
       " 'GLABRATE': 'Becoming smooth or glabrous from age. Gray.',\n",
       " 'REMBLAI': 'Earth or materials made into a bank after having beenexcavated.',\n",
       " 'NARIFORM': 'Formed like the nose.',\n",
       " 'OSTEOGENETIC': 'Connected with osteogenesis, or the formation of bone;producing bone; as, osteogenetic tissue; the osteogenetic layer ofthe periosteum.',\n",
       " 'RHIPIPTERAN': 'Same as Rhipipter.',\n",
       " 'AIRMANSHIP': 'Art, skill, or ability in the practice of aërial navigation.',\n",
       " 'CONVOLVE': 'To roll or wind together; to roll or twist one part on another.Then Satan first knew pain, And writhed him to and fro convolved.Milton.',\n",
       " 'BRYOLOGIST': 'One versed in bryology.',\n",
       " 'BUSHELAGE': 'A duty payable on commodities by the bushel. [Eng.]',\n",
       " 'DETAILER': 'One who details.',\n",
       " 'METTE': 'of Mete, to dream. Chaucer.',\n",
       " 'ENTASIA': 'Tonic spasm; -- applied generically to denote any diseasecharacterized by tonic spasms, as tetanus, trismus, etc.',\n",
       " 'EVACUANT': 'Emptying; evacuative; purgative; cathartic.-- n. (Med.)',\n",
       " 'SOONEE': 'See Sunnite.',\n",
       " 'CHRISTLY': 'Christlike. H. Bushnell.',\n",
       " 'ADENOTOMIC': 'Pertaining to adenotomy.',\n",
       " 'DRAGONLIKE': 'Like a dragon. Shak.',\n",
       " 'ERGAL': 'Potential energy; negative value of the force function.',\n",
       " 'HOURLY': 'Happening or done every hour; occurring hour by hour; frequent;often repeated; renewed hour by hour; continual.In hourly expectation of a martyrdom. Sharp.',\n",
       " 'OPPUGNER': 'One who opposes or attacks; that which opposes. Selden.',\n",
       " 'POOLER': 'A stick for stirring a tan vat.',\n",
       " 'LEVULOSAN': 'An unfermentable carbohydrate obtained by gently heatinglevulose.',\n",
       " 'UNJOINTED': 'Having no joint or articulation; as, an unjointed stem.',\n",
       " 'GENTILIZE': 'To render gentile or gentlemanly; as, to gentilize yourunworthy sones. [R.] Sylvester.',\n",
       " 'DURANTE': 'During; as, durante vita, during life; durante bene placito,during pleasure.',\n",
       " 'MELANOSCOPE': 'An instrument containing a combination of colored glasses suchthat they transmit only red light, so that objects of other colors,as green leaves, appear black when seen through it. It is used forviewing colored flames, to detect the presence of potassium, lithium,etc., by the red light which they emit.',\n",
       " 'RED': '. imp. & p. p. of Read. Spenser.',\n",
       " 'OBLECTATION': 'The act of pleasing highly; the state of being greatly pleased;delight. [R.] Feltham.',\n",
       " 'MUSCOVADO': 'Pertaining to, or of the nature of, unrefined or raw sugar,obtained from the juice of the sugar cane by evaporating and drainingoff the molasses. Muscovado sugar contains impurities which render itdark colored and moist.',\n",
       " 'PROTHALLUS': 'The minute primary growth from the spore of ferns and otherPteridophyta, which bears the true sexual organs; the oöphoricgeneration of ferns, etc.',\n",
       " 'ANTIHEMORRHAGIC': 'Tending to stop hemorrhage.-- n.',\n",
       " 'REEMBARK': 'To put, or go, on board a vessel again; to embark again.',\n",
       " 'BARDLING': 'An inferior bard. J. Cunningham.',\n",
       " 'CENTIARE': 'See centare.',\n",
       " 'MAXILLO-PALATINE': 'Pertaining to the maxillary and palatine regions of the skull;as, the maxillo-palatine process of the maxilla. Also used as n.',\n",
       " 'SUPERIMPREGNATION': 'The act of impregnating, or the state of being impregnated, inaddition to a prior impregnation; superfetation.',\n",
       " 'SEVENTEENTH': 'An interval of two octaves and a third.',\n",
       " 'AURICLED': 'Having ear-shaped appendages or lobes; auriculate; as, auricledleaves.',\n",
       " 'BRID': 'A bird. [Obs.] Chaucer.',\n",
       " 'PREASE': 'To press; to crowd. [Obs.] -- n.',\n",
       " 'FOCAL': 'Belonging to,or concerning, a focus; as, a focal point. Focaldistance, or length,of a lens or mirror (Opt.), the distance of thefocus from the surface of the lens or mirror, or more exactly, in thecase of a lens, from its optical center. --Focal distance of atelescope, the distance of the image of an object from the objectglass.',\n",
       " 'OPUS': 'A work; specif. (Mus.), a musical composition.',\n",
       " 'DEFINITIVENESS': 'The quality of being definitive.',\n",
       " 'PLUMBIC': 'Of, pertaining to, resembling, or containing, lead; -- usedspecifically to designate those compounds in which it has a highervalence as contrasted with plumbous compounds; as, plumbic oxide.',\n",
       " 'GRAIN': 'See Groan. [Obs.]',\n",
       " 'HYDROSULPHURETED': 'Combined with hydrogen sulphide.',\n",
       " 'WRECKING': 'a. & n. from Wreck, v. Wrecking car (Railway), a car fitted upwith apparatus and implements for removing the wreck occasioned by anaccident, as by a collision.-- Wrecking pump, a pump especially adapted for pumping water fromthe hull of a wrecked vessel.',\n",
       " 'AGATY': 'Of the nature of agate, or containing agate.',\n",
       " 'ASPIRATOR': 'An apparatus for passing air or gases through or over certainliquids or solids, or for exhausting a closed vessel, by means ofsuction.',\n",
       " 'SAND-BLIND': 'Having defective sight; dim-sighted; purblind. Shak.',\n",
       " 'CORRESPONDENT': 'Suitable; adapted; fit; corresponding; congruous; conformable;in accord or agreement; obedient; willing.Action correspondent or repugnant unto the law. Hooker.As fast the correspondent passions rise. Thomson.I will be correspondent to command. Shak.',\n",
       " 'PERVICACY': 'Pervicacity. [Obs.]',\n",
       " 'AVENS': 'A plant of the genus Geum, esp. Geum urbanum, or herb bennet.',\n",
       " 'ENCHONDROMA': 'A cartilaginous tumor growing from the interior of a bone.Quain.',\n",
       " 'DIGNIFIED': 'Marked with dignity; stately; as, a dignified judge.',\n",
       " 'LIBERTY': 'A curve or arch in a bit to afford room for the tongue of thehorse.',\n",
       " 'ALLEGIANT': 'Loyal. Shak.',\n",
       " 'BECHANCE': 'By chance; by accident. [Obs.] Grafton.',\n",
       " 'HYDRIODATE': 'Same as Hydriodide.',\n",
       " 'INEFFABLY': 'In a manner not to be expressed in words; unspeakably. Milton.',\n",
       " 'ENTOTHORAX': 'See Endothorax.',\n",
       " 'AFFINE': 'To refine. [Obs.] Holland.',\n",
       " 'MISKNOW': 'To have a mistaken notion of or about. [Obs.] Bp. Hall.',\n",
       " 'GLISSETTE': 'The locus described by any point attached to a curve that slipscontinuously on another fixed curve, the movable curve having norotation at any instant.',\n",
       " 'AUTOECIOUS': 'Passing through all its stages on one host, as certainparasitic fungi; -- contrasted with heterocious.',\n",
       " 'PHOTODROME': 'An apparatus consisting of a large wheel with spokes, whichwhen turning very rapidly is illuminated by momentary flashes oflight passing through slits in a rotating disk. By properly timingthe succession of flashes the wheel is made to appear to bemotionless, or to rotate more or less slowly in either direction.',\n",
       " 'PELOTA': 'A Basque, Spanish, and Spanish-American game played in a court,in which a ball is struck with a wickerwork racket.',\n",
       " 'GRIL': 'Harah; hard; severe; stern; rough. [Obs.] Rom. of R.',\n",
       " 'AIR DRILL': 'A drill driven by the elastic pressure of condensed air; apneumatic drill. Knight.',\n",
       " 'PATELA': 'A large flat-bottomed trading boat peculiar to the riverGanges; -- called also puteli.',\n",
       " 'HYPEROARTIA': 'An order of marsipobranchs including the lampreys. Thesuckerlike moth contains numerous teeth; the nasal opening is in themiddle of the head above, but it does not connect with the mouth. SeeCyclostoma, and Lamprey.',\n",
       " 'PHOCINE': 'Of or pertaining to the seal tribe; phocal.',\n",
       " 'THUSSOCK': 'See Tussock. [Obs.]',\n",
       " 'VULCAN': 'The god of fire, who presided over the working of metals; --answering to the Greek Hephæstus.',\n",
       " 'INTERAXAL': 'Situated in an interaxis. Gwilt.',\n",
       " 'DARTER': 'The snakebird, a water bird of the genus Plotus; -- so calledbecause it darts out its long, snakelike neck at its prey. SeeSnakebird.',\n",
       " 'ASSISTIVE': 'Lending aid, helping.',\n",
       " 'EMANCIPATE': 'To set free from the power of another; to liberate; as: (a) Toset free, as a minor from a parent; as, a father may emancipate achild. (b) To set free from bondage; to give freedom to; to manumit;as, to emancipate a slave, or a country.Brasidas . . . declaring that he was sent to emancipate Hellas.Jowett (Thucyd. ).',\n",
       " 'MONARCHIZER': 'One who monarchizes; also, a monarchist.',\n",
       " 'SELF-COMMAND': \"Control over one's own feelings, temper, etc.; self-control.\",\n",
       " 'ANNUNCIATE': 'To announce.',\n",
       " 'OVERFRIEZE': 'To cover with a frieze, or as with a frieze. E. Hall.',\n",
       " 'REGLE': 'To rule; to govern. [Obs.] \"To regle their lives.\" Fuller.',\n",
       " 'MONGOLIAN': 'Of or pertaining to Mongolia or the Mongols.-- n.',\n",
       " 'ORTHOEPIST': 'One who is skilled in orthoëpy.',\n",
       " 'PEROXIDATION': 'Act, process, or result of peroxidizing; oxidation to aperoxide.',\n",
       " 'EXUNDATE': 'To overflow; to inundate. [Obs.] Bailey.',\n",
       " 'ILE': 'Ear of corn. [Obs.] Ainsworth.',\n",
       " ...}"
      ]
     },
     "execution_count": 3,
     "metadata": {},
     "output_type": "execute_result"
    }
   ],
   "source": [
    "data"
   ]
  },
  {
   "cell_type": "code",
   "execution_count": 4,
   "id": "161c967f",
   "metadata": {
    "ExecuteTime": {
     "end_time": "2022-03-21T11:14:39.391794Z",
     "start_time": "2022-03-21T11:14:37.252702Z"
    }
   },
   "outputs": [
    {
     "data": {
      "text/html": [
       "<div>\n",
       "<style scoped>\n",
       "    .dataframe tbody tr th:only-of-type {\n",
       "        vertical-align: middle;\n",
       "    }\n",
       "\n",
       "    .dataframe tbody tr th {\n",
       "        vertical-align: top;\n",
       "    }\n",
       "\n",
       "    .dataframe thead th {\n",
       "        text-align: right;\n",
       "    }\n",
       "</style>\n",
       "<table border=\"1\" class=\"dataframe\">\n",
       "  <thead>\n",
       "    <tr style=\"text-align: right;\">\n",
       "      <th></th>\n",
       "      <th>word</th>\n",
       "      <th>definition</th>\n",
       "    </tr>\n",
       "  </thead>\n",
       "  <tbody>\n",
       "    <tr>\n",
       "      <th>0</th>\n",
       "      <td>DIPLOBLASTIC</td>\n",
       "      <td>Characterizing the ovum when it has two primar...</td>\n",
       "    </tr>\n",
       "    <tr>\n",
       "      <th>1</th>\n",
       "      <td>DEFIGURE</td>\n",
       "      <td>To delineate. [Obs.]These two stones as they a...</td>\n",
       "    </tr>\n",
       "    <tr>\n",
       "      <th>2</th>\n",
       "      <td>LOMBARD</td>\n",
       "      <td>Of or pertaining to Lombardy, or the inhabitan...</td>\n",
       "    </tr>\n",
       "    <tr>\n",
       "      <th>3</th>\n",
       "      <td>BAHAISM</td>\n",
       "      <td>The religious tenets or practices of the Bahais.</td>\n",
       "    </tr>\n",
       "    <tr>\n",
       "      <th>4</th>\n",
       "      <td>FUMERELL</td>\n",
       "      <td>See Femerell.</td>\n",
       "    </tr>\n",
       "    <tr>\n",
       "      <th>...</th>\n",
       "      <td>...</td>\n",
       "      <td>...</td>\n",
       "    </tr>\n",
       "    <tr>\n",
       "      <th>86031</th>\n",
       "      <td>ELECTRO-MAGNET</td>\n",
       "      <td>A mass, usually of soft iron, but sometimes of...</td>\n",
       "    </tr>\n",
       "    <tr>\n",
       "      <th>86032</th>\n",
       "      <td>SEAREDNESS</td>\n",
       "      <td>The state of being seared or callous; insensib...</td>\n",
       "    </tr>\n",
       "    <tr>\n",
       "      <th>86033</th>\n",
       "      <td>LITHOPHYTOUS</td>\n",
       "      <td>Lithophytic.</td>\n",
       "    </tr>\n",
       "    <tr>\n",
       "      <th>86034</th>\n",
       "      <td>FROCKED</td>\n",
       "      <td>Clothed in a frock.</td>\n",
       "    </tr>\n",
       "    <tr>\n",
       "      <th>86035</th>\n",
       "      <td>SEQUENCE</td>\n",
       "      <td>Simple succession, or the coming after in time...</td>\n",
       "    </tr>\n",
       "  </tbody>\n",
       "</table>\n",
       "<p>86036 rows × 2 columns</p>\n",
       "</div>"
      ],
      "text/plain": [
       "                 word                                         definition\n",
       "0        DIPLOBLASTIC  Characterizing the ovum when it has two primar...\n",
       "1            DEFIGURE  To delineate. [Obs.]These two stones as they a...\n",
       "2             LOMBARD  Of or pertaining to Lombardy, or the inhabitan...\n",
       "3             BAHAISM   The religious tenets or practices of the Bahais.\n",
       "4            FUMERELL                                      See Femerell.\n",
       "...               ...                                                ...\n",
       "86031  ELECTRO-MAGNET  A mass, usually of soft iron, but sometimes of...\n",
       "86032      SEAREDNESS  The state of being seared or callous; insensib...\n",
       "86033    LITHOPHYTOUS                                       Lithophytic.\n",
       "86034         FROCKED                                Clothed in a frock.\n",
       "86035        SEQUENCE  Simple succession, or the coming after in time...\n",
       "\n",
       "[86036 rows x 2 columns]"
      ]
     },
     "execution_count": 4,
     "metadata": {},
     "output_type": "execute_result"
    }
   ],
   "source": [
    "websters_english_dictionary = pd.DataFrame([data]).T\n",
    "websters_english_dictionary.reset_index(inplace=True)\n",
    "websters_english_dictionary.rename(columns={\"index\": \"word\", 0: \"definition\"}, inplace=True)\n",
    "websters_english_dictionary"
   ]
  },
  {
   "cell_type": "code",
   "execution_count": 5,
   "id": "510a1278",
   "metadata": {
    "ExecuteTime": {
     "end_time": "2022-03-21T11:14:39.651998Z",
     "start_time": "2022-03-21T11:14:39.393837Z"
    }
   },
   "outputs": [],
   "source": [
    "websters_english_dictionary.to_csv(\"./data/websters_english_dictionary.csv\", index=False)"
   ]
  },
  {
   "cell_type": "code",
   "execution_count": 6,
   "id": "82a62825",
   "metadata": {
    "ExecuteTime": {
     "end_time": "2022-03-21T11:14:39.663647Z",
     "start_time": "2022-03-21T11:14:39.653845Z"
    }
   },
   "outputs": [],
   "source": [
    "all_words = \" \".join([word.lower() for word in websters_english_dictionary[\"word\"].to_numpy() if len(word) == 5])"
   ]
  },
  {
   "cell_type": "markdown",
   "id": "b7d4be4e",
   "metadata": {},
   "source": [
    "# Create list of five letter words"
   ]
  },
  {
   "cell_type": "markdown",
   "id": "09f8792f",
   "metadata": {},
   "source": [
    "## Five letter words"
   ]
  },
  {
   "cell_type": "code",
   "execution_count": 7,
   "id": "fa8db6db",
   "metadata": {
    "ExecuteTime": {
     "end_time": "2022-03-21T11:14:39.669192Z",
     "start_time": "2022-03-21T11:14:39.665725Z"
    }
   },
   "outputs": [],
   "source": [
    "# filter out words with special caharacters, eg. hyphens\n",
    "five_letter_words = re.findall(r\"\\w+\", all_words)"
   ]
  },
  {
   "cell_type": "code",
   "execution_count": 8,
   "id": "ef4fef83",
   "metadata": {
    "ExecuteTime": {
     "end_time": "2022-03-21T11:14:39.673845Z",
     "start_time": "2022-03-21T11:14:39.670407Z"
    }
   },
   "outputs": [
    {
     "data": {
      "text/plain": [
       "5387"
      ]
     },
     "execution_count": 8,
     "metadata": {},
     "output_type": "execute_result"
    }
   ],
   "source": [
    "len(five_letter_words)"
   ]
  },
  {
   "cell_type": "code",
   "execution_count": 9,
   "id": "66238ca2",
   "metadata": {
    "ExecuteTime": {
     "end_time": "2022-03-21T11:14:39.678832Z",
     "start_time": "2022-03-21T11:14:39.675299Z"
    }
   },
   "outputs": [],
   "source": [
    "# Save words as txt file. Text file provided in data folder\n",
    "with open(\"./data/webster_dict_all_five_letter_words.txt\", mode=\"w\") as file:\n",
    "    file.write(\"\\n\".join(five_letter_words))"
   ]
  },
  {
   "cell_type": "markdown",
   "id": "bd24eb74",
   "metadata": {},
   "source": [
    "## no repeat letter in 5 letter words  \n",
    "\n",
    "So as to not waste letter guesses, we'll only select words with no repeat letters"
   ]
  },
  {
   "cell_type": "code",
   "execution_count": 10,
   "id": "3e333e21",
   "metadata": {
    "ExecuteTime": {
     "end_time": "2022-03-21T11:14:39.688684Z",
     "start_time": "2022-03-21T11:14:39.682664Z"
    }
   },
   "outputs": [
    {
     "data": {
      "text/plain": [
       "['gnarl',\n",
       " 'arles',\n",
       " 'stagy',\n",
       " 'aknow',\n",
       " 'tawer',\n",
       " 'copra',\n",
       " 'knout',\n",
       " 'atole',\n",
       " 'timal',\n",
       " 'dingy']"
      ]
     },
     "execution_count": 10,
     "metadata": {},
     "output_type": "execute_result"
    }
   ],
   "source": [
    "no_repeat_letter_five_letter_words = [word for word in five_letter_words if len(set(word)) == 5]\n",
    "no_repeat_letter_five_letter_words[:10]"
   ]
  },
  {
   "cell_type": "code",
   "execution_count": 11,
   "id": "ed8e3951",
   "metadata": {
    "ExecuteTime": {
     "end_time": "2022-03-21T11:14:39.693558Z",
     "start_time": "2022-03-21T11:14:39.690161Z"
    }
   },
   "outputs": [
    {
     "data": {
      "text/plain": [
       "3470"
      ]
     },
     "execution_count": 11,
     "metadata": {},
     "output_type": "execute_result"
    }
   ],
   "source": [
    "len(no_repeat_letter_five_letter_words)"
   ]
  },
  {
   "cell_type": "markdown",
   "id": "23fa7ee1",
   "metadata": {},
   "source": [
    "## words with most common starting letters  \n",
    "\n",
    "Further filtering by choosing words form `most_common_starting_letters = \"taisocmfpw\"`"
   ]
  },
  {
   "cell_type": "code",
   "execution_count": 12,
   "id": "8fb982cd",
   "metadata": {
    "ExecuteTime": {
     "end_time": "2022-03-21T11:14:39.703236Z",
     "start_time": "2022-03-21T11:14:39.694999Z"
    }
   },
   "outputs": [
    {
     "data": {
      "text/plain": [
       "['arles',\n",
       " 'stagy',\n",
       " 'aknow',\n",
       " 'tawer',\n",
       " 'copra',\n",
       " 'atole',\n",
       " 'timal',\n",
       " 'inkle',\n",
       " 'moste',\n",
       " 'wreak']"
      ]
     },
     "execution_count": 12,
     "metadata": {},
     "output_type": "execute_result"
    }
   ],
   "source": [
    "common_starting_letters = words_starting_with_commonly_used_letters(no_repeat_letter_five_letter_words)\n",
    "common_starting_letters[:10]"
   ]
  },
  {
   "cell_type": "code",
   "execution_count": 13,
   "id": "1fca2ba6",
   "metadata": {
    "ExecuteTime": {
     "end_time": "2022-03-21T11:14:39.707918Z",
     "start_time": "2022-03-21T11:14:39.704464Z"
    }
   },
   "outputs": [
    {
     "data": {
      "text/plain": [
       "2080"
      ]
     },
     "execution_count": 13,
     "metadata": {},
     "output_type": "execute_result"
    }
   ],
   "source": [
    "len(common_starting_letters)"
   ]
  },
  {
   "cell_type": "markdown",
   "id": "07f22fed",
   "metadata": {},
   "source": [
    "## words frequency"
   ]
  },
  {
   "cell_type": "code",
   "execution_count": 14,
   "id": "e58f2edd",
   "metadata": {
    "ExecuteTime": {
     "end_time": "2022-03-21T11:14:39.840623Z",
     "start_time": "2022-03-21T11:14:39.709450Z"
    }
   },
   "outputs": [
    {
     "data": {
      "text/plain": [
       "[('about', 0.004575716203465601),\n",
       " ('would', 0.0025520860237645514),\n",
       " ('could', 0.002105716897178485),\n",
       " ('their', 0.001190727852529245),\n",
       " ('maybe', 0.001072666290978991),\n",
       " ('after', 0.0010576258274517993),\n",
       " ('those', 0.0010403927566496672),\n",
       " ('other', 0.0009394233730457645),\n",
       " ('first', 0.0009136375616764069),\n",
       " ('thing', 0.0008622612539266068)]"
      ]
     },
     "execution_count": 14,
     "metadata": {},
     "output_type": "execute_result"
    }
   ],
   "source": [
    "words_sorted_by_frequency = sorted_words_by_frequency(common_starting_letters, sorting=True)\n",
    "words_sorted_by_frequency[:10]"
   ]
  },
  {
   "cell_type": "code",
   "execution_count": 15,
   "id": "9d4c798e",
   "metadata": {
    "ExecuteTime": {
     "end_time": "2022-03-21T11:14:39.846475Z",
     "start_time": "2022-03-21T11:14:39.842485Z"
    }
   },
   "outputs": [
    {
     "data": {
      "text/plain": [
       "2080"
      ]
     },
     "execution_count": 15,
     "metadata": {},
     "output_type": "execute_result"
    }
   ],
   "source": [
    "len(words_sorted_by_frequency)"
   ]
  },
  {
   "cell_type": "markdown",
   "id": "7d0dc518",
   "metadata": {},
   "source": [
    "# Determine anagrams to remove  \n",
    "\n",
    "All anagrams in a group will share the same informational content, albeit different positional information. So where we find anagrams we select the one with the highest word frequency. If our guess word is an anagram of the challenge word we'll get yellows and greens."
   ]
  },
  {
   "cell_type": "markdown",
   "id": "9f135628",
   "metadata": {},
   "source": [
    "## Pairs of anagrams"
   ]
  },
  {
   "cell_type": "code",
   "execution_count": 16,
   "id": "8ee412c9",
   "metadata": {
    "ExecuteTime": {
     "end_time": "2022-03-21T11:14:40.991778Z",
     "start_time": "2022-03-21T11:14:39.848459Z"
    }
   },
   "outputs": [],
   "source": [
    "random.seed(44)\n",
    "paired_anagrams = anagram_pairs([x[0] for x in words_sorted_by_frequency])"
   ]
  },
  {
   "cell_type": "code",
   "execution_count": 17,
   "id": "b12125dc",
   "metadata": {
    "ExecuteTime": {
     "end_time": "2022-03-21T11:14:40.997663Z",
     "start_time": "2022-03-21T11:14:40.993631Z"
    }
   },
   "outputs": [
    {
     "data": {
      "text/plain": [
       "array([['could', 'cloud'],\n",
       "       ['those', 'shote'],\n",
       "       ['those', 'sothe'],\n",
       "       ...,\n",
       "       ['muser', 'merus'],\n",
       "       ['pelta', 'tepal'],\n",
       "       ['oxfly', 'foxly']], dtype='<U5')"
      ]
     },
     "execution_count": 17,
     "metadata": {},
     "output_type": "execute_result"
    }
   ],
   "source": [
    "paired_anagrams"
   ]
  },
  {
   "cell_type": "code",
   "execution_count": 18,
   "id": "f12a08de",
   "metadata": {
    "ExecuteTime": {
     "end_time": "2022-03-21T11:14:41.006638Z",
     "start_time": "2022-03-21T11:14:40.998839Z"
    }
   },
   "outputs": [
    {
     "data": {
      "text/html": [
       "<div>\n",
       "<style scoped>\n",
       "    .dataframe tbody tr th:only-of-type {\n",
       "        vertical-align: middle;\n",
       "    }\n",
       "\n",
       "    .dataframe tbody tr th {\n",
       "        vertical-align: top;\n",
       "    }\n",
       "\n",
       "    .dataframe thead th {\n",
       "        text-align: right;\n",
       "    }\n",
       "</style>\n",
       "<table border=\"1\" class=\"dataframe\">\n",
       "  <thead>\n",
       "    <tr style=\"text-align: right;\">\n",
       "      <th></th>\n",
       "      <th>word1</th>\n",
       "      <th>word2</th>\n",
       "    </tr>\n",
       "  </thead>\n",
       "  <tbody>\n",
       "    <tr>\n",
       "      <th>0</th>\n",
       "      <td>could</td>\n",
       "      <td>cloud</td>\n",
       "    </tr>\n",
       "    <tr>\n",
       "      <th>1</th>\n",
       "      <td>those</td>\n",
       "      <td>shote</td>\n",
       "    </tr>\n",
       "    <tr>\n",
       "      <th>2</th>\n",
       "      <td>those</td>\n",
       "      <td>sothe</td>\n",
       "    </tr>\n",
       "    <tr>\n",
       "      <th>3</th>\n",
       "      <td>other</td>\n",
       "      <td>throe</td>\n",
       "    </tr>\n",
       "    <tr>\n",
       "      <th>4</th>\n",
       "      <td>first</td>\n",
       "      <td>frist</td>\n",
       "    </tr>\n",
       "    <tr>\n",
       "      <th>...</th>\n",
       "      <td>...</td>\n",
       "      <td>...</td>\n",
       "    </tr>\n",
       "    <tr>\n",
       "      <th>546</th>\n",
       "      <td>suant</td>\n",
       "      <td>astun</td>\n",
       "    </tr>\n",
       "    <tr>\n",
       "      <th>547</th>\n",
       "      <td>shote</td>\n",
       "      <td>sothe</td>\n",
       "    </tr>\n",
       "    <tr>\n",
       "      <th>548</th>\n",
       "      <td>muser</td>\n",
       "      <td>merus</td>\n",
       "    </tr>\n",
       "    <tr>\n",
       "      <th>549</th>\n",
       "      <td>pelta</td>\n",
       "      <td>tepal</td>\n",
       "    </tr>\n",
       "    <tr>\n",
       "      <th>550</th>\n",
       "      <td>oxfly</td>\n",
       "      <td>foxly</td>\n",
       "    </tr>\n",
       "  </tbody>\n",
       "</table>\n",
       "<p>551 rows × 2 columns</p>\n",
       "</div>"
      ],
      "text/plain": [
       "     word1  word2\n",
       "0    could  cloud\n",
       "1    those  shote\n",
       "2    those  sothe\n",
       "3    other  throe\n",
       "4    first  frist\n",
       "..     ...    ...\n",
       "546  suant  astun\n",
       "547  shote  sothe\n",
       "548  muser  merus\n",
       "549  pelta  tepal\n",
       "550  oxfly  foxly\n",
       "\n",
       "[551 rows x 2 columns]"
      ]
     },
     "execution_count": 18,
     "metadata": {},
     "output_type": "execute_result"
    }
   ],
   "source": [
    "words_sharing_all_letters = pd.DataFrame(paired_anagrams, columns=[\"word1\", \"word2\"])\n",
    "words_sharing_all_letters"
   ]
  },
  {
   "cell_type": "code",
   "execution_count": 19,
   "id": "e401a01e",
   "metadata": {
    "ExecuteTime": {
     "end_time": "2022-03-21T11:14:41.017665Z",
     "start_time": "2022-03-21T11:14:41.008365Z"
    }
   },
   "outputs": [
    {
     "data": {
      "text/html": [
       "<div>\n",
       "<style scoped>\n",
       "    .dataframe tbody tr th:only-of-type {\n",
       "        vertical-align: middle;\n",
       "    }\n",
       "\n",
       "    .dataframe tbody tr th {\n",
       "        vertical-align: top;\n",
       "    }\n",
       "\n",
       "    .dataframe thead th {\n",
       "        text-align: right;\n",
       "    }\n",
       "</style>\n",
       "<table border=\"1\" class=\"dataframe\">\n",
       "  <thead>\n",
       "    <tr style=\"text-align: right;\">\n",
       "      <th></th>\n",
       "      <th>word1</th>\n",
       "      <th>word2</th>\n",
       "    </tr>\n",
       "  </thead>\n",
       "  <tbody>\n",
       "    <tr>\n",
       "      <th>1</th>\n",
       "      <td>those</td>\n",
       "      <td>shote</td>\n",
       "    </tr>\n",
       "    <tr>\n",
       "      <th>2</th>\n",
       "      <td>those</td>\n",
       "      <td>sothe</td>\n",
       "    </tr>\n",
       "  </tbody>\n",
       "</table>\n",
       "</div>"
      ],
      "text/plain": [
       "   word1  word2\n",
       "1  those  shote\n",
       "2  those  sothe"
      ]
     },
     "execution_count": 19,
     "metadata": {},
     "output_type": "execute_result"
    }
   ],
   "source": [
    "words_sharing_all_letters.loc[words_sharing_all_letters[\"word1\"] == \"those\"]"
   ]
  },
  {
   "cell_type": "code",
   "execution_count": 20,
   "id": "35f50a70",
   "metadata": {
    "ExecuteTime": {
     "end_time": "2022-03-21T11:14:41.027826Z",
     "start_time": "2022-03-21T11:14:41.019875Z"
    }
   },
   "outputs": [
    {
     "data": {
      "text/html": [
       "<div>\n",
       "<style scoped>\n",
       "    .dataframe tbody tr th:only-of-type {\n",
       "        vertical-align: middle;\n",
       "    }\n",
       "\n",
       "    .dataframe tbody tr th {\n",
       "        vertical-align: top;\n",
       "    }\n",
       "\n",
       "    .dataframe thead th {\n",
       "        text-align: right;\n",
       "    }\n",
       "</style>\n",
       "<table border=\"1\" class=\"dataframe\">\n",
       "  <thead>\n",
       "    <tr style=\"text-align: right;\">\n",
       "      <th></th>\n",
       "      <th>word1</th>\n",
       "      <th>word2</th>\n",
       "    </tr>\n",
       "  </thead>\n",
       "  <tbody>\n",
       "    <tr>\n",
       "      <th>211</th>\n",
       "      <td>stale</td>\n",
       "      <td>satle</td>\n",
       "    </tr>\n",
       "    <tr>\n",
       "      <th>212</th>\n",
       "      <td>stale</td>\n",
       "      <td>stela</td>\n",
       "    </tr>\n",
       "    <tr>\n",
       "      <th>213</th>\n",
       "      <td>stale</td>\n",
       "      <td>astel</td>\n",
       "    </tr>\n",
       "  </tbody>\n",
       "</table>\n",
       "</div>"
      ],
      "text/plain": [
       "     word1  word2\n",
       "211  stale  satle\n",
       "212  stale  stela\n",
       "213  stale  astel"
      ]
     },
     "execution_count": 20,
     "metadata": {},
     "output_type": "execute_result"
    }
   ],
   "source": [
    "words_sharing_all_letters.loc[words_sharing_all_letters[\"word1\"] == \"stale\"]"
   ]
  },
  {
   "cell_type": "code",
   "execution_count": 21,
   "id": "c03980d8",
   "metadata": {
    "ExecuteTime": {
     "end_time": "2022-03-21T11:14:41.036498Z",
     "start_time": "2022-03-21T11:14:41.030228Z"
    }
   },
   "outputs": [
    {
     "data": {
      "text/plain": [
       "steal    6\n",
       "stria    5\n",
       "taper    5\n",
       "tales    5\n",
       "plate    5\n",
       "        ..\n",
       "widen    1\n",
       "chute    1\n",
       "flyer    1\n",
       "crisp    1\n",
       "oxfly    1\n",
       "Name: word1, Length: 387, dtype: int64"
      ]
     },
     "execution_count": 21,
     "metadata": {},
     "output_type": "execute_result"
    }
   ],
   "source": [
    "words_sharing_all_letters[\"word1\"].value_counts()"
   ]
  },
  {
   "cell_type": "code",
   "execution_count": 22,
   "id": "ab31a0f7",
   "metadata": {
    "ExecuteTime": {
     "end_time": "2022-03-21T11:14:41.068222Z",
     "start_time": "2022-03-21T11:14:41.038649Z"
    }
   },
   "outputs": [
    {
     "data": {
      "text/html": [
       "<div>\n",
       "<style scoped>\n",
       "    .dataframe tbody tr th:only-of-type {\n",
       "        vertical-align: middle;\n",
       "    }\n",
       "\n",
       "    .dataframe tbody tr th {\n",
       "        vertical-align: top;\n",
       "    }\n",
       "\n",
       "    .dataframe thead th {\n",
       "        text-align: right;\n",
       "    }\n",
       "</style>\n",
       "<table border=\"1\" class=\"dataframe\">\n",
       "  <thead>\n",
       "    <tr style=\"text-align: right;\">\n",
       "      <th></th>\n",
       "      <th>word1</th>\n",
       "      <th>word2</th>\n",
       "    </tr>\n",
       "  </thead>\n",
       "  <tbody>\n",
       "    <tr>\n",
       "      <th>0</th>\n",
       "      <td>abode</td>\n",
       "      <td>adobe</td>\n",
       "    </tr>\n",
       "    <tr>\n",
       "      <th>1</th>\n",
       "      <td>abort</td>\n",
       "      <td>tabor</td>\n",
       "    </tr>\n",
       "    <tr>\n",
       "      <th>2</th>\n",
       "      <td>acred</td>\n",
       "      <td>cader</td>\n",
       "    </tr>\n",
       "    <tr>\n",
       "      <th>3</th>\n",
       "      <td>acrid</td>\n",
       "      <td>caird</td>\n",
       "    </tr>\n",
       "    <tr>\n",
       "      <th>4</th>\n",
       "      <td>adept</td>\n",
       "      <td>pated</td>\n",
       "    </tr>\n",
       "    <tr>\n",
       "      <th>...</th>\n",
       "      <td>...</td>\n",
       "      <td>...</td>\n",
       "    </tr>\n",
       "    <tr>\n",
       "      <th>382</th>\n",
       "      <td>worth</td>\n",
       "      <td>wroth, whort</td>\n",
       "    </tr>\n",
       "    <tr>\n",
       "      <th>383</th>\n",
       "      <td>wrath</td>\n",
       "      <td>thraw</td>\n",
       "    </tr>\n",
       "    <tr>\n",
       "      <th>384</th>\n",
       "      <td>wreak</td>\n",
       "      <td>waker</td>\n",
       "    </tr>\n",
       "    <tr>\n",
       "      <th>385</th>\n",
       "      <td>wrote</td>\n",
       "      <td>tower</td>\n",
       "    </tr>\n",
       "    <tr>\n",
       "      <th>386</th>\n",
       "      <td>wroth</td>\n",
       "      <td>whort</td>\n",
       "    </tr>\n",
       "  </tbody>\n",
       "</table>\n",
       "<p>387 rows × 2 columns</p>\n",
       "</div>"
      ],
      "text/plain": [
       "     word1         word2\n",
       "0    abode         adobe\n",
       "1    abort         tabor\n",
       "2    acred         cader\n",
       "3    acrid         caird\n",
       "4    adept         pated\n",
       "..     ...           ...\n",
       "382  worth  wroth, whort\n",
       "383  wrath         thraw\n",
       "384  wreak         waker\n",
       "385  wrote         tower\n",
       "386  wroth         whort\n",
       "\n",
       "[387 rows x 2 columns]"
      ]
     },
     "execution_count": 22,
     "metadata": {},
     "output_type": "execute_result"
    }
   ],
   "source": [
    "anagrams = pd.pivot_table(words_sharing_all_letters,\n",
    "                          values=\"word2\",\n",
    "                          columns=\"word1\",\n",
    "                          index=None,\n",
    "                          aggfunc=lambda x: \", \".join(x)).T\n",
    "anagrams.reset_index(inplace=True)\n",
    "anagrams"
   ]
  },
  {
   "cell_type": "code",
   "execution_count": 23,
   "id": "f1e38571",
   "metadata": {
    "ExecuteTime": {
     "end_time": "2022-03-21T11:14:41.079913Z",
     "start_time": "2022-03-21T11:14:41.069994Z"
    }
   },
   "outputs": [
    {
     "data": {
      "text/html": [
       "<div>\n",
       "<style scoped>\n",
       "    .dataframe tbody tr th:only-of-type {\n",
       "        vertical-align: middle;\n",
       "    }\n",
       "\n",
       "    .dataframe tbody tr th {\n",
       "        vertical-align: top;\n",
       "    }\n",
       "\n",
       "    .dataframe thead th {\n",
       "        text-align: right;\n",
       "    }\n",
       "</style>\n",
       "<table border=\"1\" class=\"dataframe\">\n",
       "  <thead>\n",
       "    <tr style=\"text-align: right;\">\n",
       "      <th></th>\n",
       "      <th>word1</th>\n",
       "      <th>word2</th>\n",
       "      <th>anagrams</th>\n",
       "    </tr>\n",
       "  </thead>\n",
       "  <tbody>\n",
       "    <tr>\n",
       "      <th>0</th>\n",
       "      <td>abode</td>\n",
       "      <td>adobe</td>\n",
       "      <td>abode, adobe</td>\n",
       "    </tr>\n",
       "    <tr>\n",
       "      <th>1</th>\n",
       "      <td>abort</td>\n",
       "      <td>tabor</td>\n",
       "      <td>abort, tabor</td>\n",
       "    </tr>\n",
       "    <tr>\n",
       "      <th>2</th>\n",
       "      <td>acred</td>\n",
       "      <td>cader</td>\n",
       "      <td>acred, cader</td>\n",
       "    </tr>\n",
       "    <tr>\n",
       "      <th>3</th>\n",
       "      <td>acrid</td>\n",
       "      <td>caird</td>\n",
       "      <td>acrid, caird</td>\n",
       "    </tr>\n",
       "    <tr>\n",
       "      <th>4</th>\n",
       "      <td>adept</td>\n",
       "      <td>pated</td>\n",
       "      <td>adept, pated</td>\n",
       "    </tr>\n",
       "    <tr>\n",
       "      <th>...</th>\n",
       "      <td>...</td>\n",
       "      <td>...</td>\n",
       "      <td>...</td>\n",
       "    </tr>\n",
       "    <tr>\n",
       "      <th>382</th>\n",
       "      <td>worth</td>\n",
       "      <td>wroth, whort</td>\n",
       "      <td>worth, wroth, whort</td>\n",
       "    </tr>\n",
       "    <tr>\n",
       "      <th>383</th>\n",
       "      <td>wrath</td>\n",
       "      <td>thraw</td>\n",
       "      <td>wrath, thraw</td>\n",
       "    </tr>\n",
       "    <tr>\n",
       "      <th>384</th>\n",
       "      <td>wreak</td>\n",
       "      <td>waker</td>\n",
       "      <td>wreak, waker</td>\n",
       "    </tr>\n",
       "    <tr>\n",
       "      <th>385</th>\n",
       "      <td>wrote</td>\n",
       "      <td>tower</td>\n",
       "      <td>wrote, tower</td>\n",
       "    </tr>\n",
       "    <tr>\n",
       "      <th>386</th>\n",
       "      <td>wroth</td>\n",
       "      <td>whort</td>\n",
       "      <td>wroth, whort</td>\n",
       "    </tr>\n",
       "  </tbody>\n",
       "</table>\n",
       "<p>387 rows × 3 columns</p>\n",
       "</div>"
      ],
      "text/plain": [
       "     word1         word2             anagrams\n",
       "0    abode         adobe         abode, adobe\n",
       "1    abort         tabor         abort, tabor\n",
       "2    acred         cader         acred, cader\n",
       "3    acrid         caird         acrid, caird\n",
       "4    adept         pated         adept, pated\n",
       "..     ...           ...                  ...\n",
       "382  worth  wroth, whort  worth, wroth, whort\n",
       "383  wrath         thraw         wrath, thraw\n",
       "384  wreak         waker         wreak, waker\n",
       "385  wrote         tower         wrote, tower\n",
       "386  wroth         whort         wroth, whort\n",
       "\n",
       "[387 rows x 3 columns]"
      ]
     },
     "execution_count": 23,
     "metadata": {},
     "output_type": "execute_result"
    }
   ],
   "source": [
    "anagrams[\"anagrams\"] = [\", \".join(x) for x in zip(anagrams[\"word1\"], anagrams[\"word2\"])]\n",
    "anagrams"
   ]
  },
  {
   "cell_type": "code",
   "execution_count": 24,
   "id": "e33da101",
   "metadata": {
    "ExecuteTime": {
     "end_time": "2022-03-21T11:14:41.086343Z",
     "start_time": "2022-03-21T11:14:41.081644Z"
    }
   },
   "outputs": [],
   "source": [
    "anagrams.rename(columns={\"word1\": \"word\"}, inplace=True)\n",
    "anagrams.drop(columns=[\"word2\"], inplace=True)"
   ]
  },
  {
   "cell_type": "code",
   "execution_count": 25,
   "id": "2c1b41a6",
   "metadata": {
    "ExecuteTime": {
     "end_time": "2022-03-21T11:14:41.095724Z",
     "start_time": "2022-03-21T11:14:41.088444Z"
    }
   },
   "outputs": [
    {
     "data": {
      "text/html": [
       "<div>\n",
       "<style scoped>\n",
       "    .dataframe tbody tr th:only-of-type {\n",
       "        vertical-align: middle;\n",
       "    }\n",
       "\n",
       "    .dataframe tbody tr th {\n",
       "        vertical-align: top;\n",
       "    }\n",
       "\n",
       "    .dataframe thead th {\n",
       "        text-align: right;\n",
       "    }\n",
       "</style>\n",
       "<table border=\"1\" class=\"dataframe\">\n",
       "  <thead>\n",
       "    <tr style=\"text-align: right;\">\n",
       "      <th></th>\n",
       "      <th>word</th>\n",
       "      <th>anagrams</th>\n",
       "    </tr>\n",
       "  </thead>\n",
       "  <tbody>\n",
       "    <tr>\n",
       "      <th>277</th>\n",
       "      <td>spare</td>\n",
       "      <td>spare, spear, parse, prase, asper</td>\n",
       "    </tr>\n",
       "    <tr>\n",
       "      <th>326</th>\n",
       "      <td>taper</td>\n",
       "      <td>taper, prate, petar, trape, apert, peart</td>\n",
       "    </tr>\n",
       "  </tbody>\n",
       "</table>\n",
       "</div>"
      ],
      "text/plain": [
       "      word                                  anagrams\n",
       "277  spare         spare, spear, parse, prase, asper\n",
       "326  taper  taper, prate, petar, trape, apert, peart"
      ]
     },
     "execution_count": 25,
     "metadata": {},
     "output_type": "execute_result"
    }
   ],
   "source": [
    "anagrams.loc[(anagrams[\"word\"] == \"spare\") | (anagrams[\"word\"] == \"taper\") | (anagrams[\"word\"] == \"teams\")]"
   ]
  },
  {
   "cell_type": "code",
   "execution_count": 26,
   "id": "2d8a72bf",
   "metadata": {
    "ExecuteTime": {
     "end_time": "2022-03-21T11:14:41.104261Z",
     "start_time": "2022-03-21T11:14:41.097506Z"
    }
   },
   "outputs": [
    {
     "data": {
      "text/html": [
       "<div>\n",
       "<style scoped>\n",
       "    .dataframe tbody tr th:only-of-type {\n",
       "        vertical-align: middle;\n",
       "    }\n",
       "\n",
       "    .dataframe tbody tr th {\n",
       "        vertical-align: top;\n",
       "    }\n",
       "\n",
       "    .dataframe thead th {\n",
       "        text-align: right;\n",
       "    }\n",
       "</style>\n",
       "<table border=\"1\" class=\"dataframe\">\n",
       "  <thead>\n",
       "    <tr style=\"text-align: right;\">\n",
       "      <th></th>\n",
       "      <th>word</th>\n",
       "      <th>anagrams</th>\n",
       "    </tr>\n",
       "  </thead>\n",
       "  <tbody>\n",
       "    <tr>\n",
       "      <th>336</th>\n",
       "      <td>those</td>\n",
       "      <td>those, shote, sothe</td>\n",
       "    </tr>\n",
       "  </tbody>\n",
       "</table>\n",
       "</div>"
      ],
      "text/plain": [
       "      word             anagrams\n",
       "336  those  those, shote, sothe"
      ]
     },
     "execution_count": 26,
     "metadata": {},
     "output_type": "execute_result"
    }
   ],
   "source": [
    "anagrams.loc[anagrams[\"word\"] == \"those\"]"
   ]
  },
  {
   "cell_type": "code",
   "execution_count": 27,
   "id": "b125cbb5",
   "metadata": {
    "ExecuteTime": {
     "end_time": "2022-03-21T11:14:41.112601Z",
     "start_time": "2022-03-21T11:14:41.105954Z"
    }
   },
   "outputs": [
    {
     "data": {
      "text/html": [
       "<div>\n",
       "<style scoped>\n",
       "    .dataframe tbody tr th:only-of-type {\n",
       "        vertical-align: middle;\n",
       "    }\n",
       "\n",
       "    .dataframe tbody tr th {\n",
       "        vertical-align: top;\n",
       "    }\n",
       "\n",
       "    .dataframe thead th {\n",
       "        text-align: right;\n",
       "    }\n",
       "</style>\n",
       "<table border=\"1\" class=\"dataframe\">\n",
       "  <thead>\n",
       "    <tr style=\"text-align: right;\">\n",
       "      <th></th>\n",
       "      <th>word</th>\n",
       "      <th>anagrams</th>\n",
       "    </tr>\n",
       "  </thead>\n",
       "  <tbody>\n",
       "    <tr>\n",
       "      <th>287</th>\n",
       "      <td>stale</td>\n",
       "      <td>stale, satle, stela, astel</td>\n",
       "    </tr>\n",
       "  </tbody>\n",
       "</table>\n",
       "</div>"
      ],
      "text/plain": [
       "      word                    anagrams\n",
       "287  stale  stale, satle, stela, astel"
      ]
     },
     "execution_count": 27,
     "metadata": {},
     "output_type": "execute_result"
    }
   ],
   "source": [
    "anagrams.loc[anagrams[\"word\"] == \"stale\"]"
   ]
  },
  {
   "cell_type": "code",
   "execution_count": 28,
   "id": "b1ac80bc",
   "metadata": {
    "ExecuteTime": {
     "end_time": "2022-03-21T11:14:41.123978Z",
     "start_time": "2022-03-21T11:14:41.120068Z"
    }
   },
   "outputs": [
    {
     "data": {
      "text/plain": [
       "387"
      ]
     },
     "execution_count": 28,
     "metadata": {},
     "output_type": "execute_result"
    }
   ],
   "source": [
    "anagrams[\"word\"].nunique()"
   ]
  },
  {
   "cell_type": "code",
   "execution_count": 29,
   "id": "902e7ee4",
   "metadata": {
    "ExecuteTime": {
     "end_time": "2022-03-21T11:14:41.130146Z",
     "start_time": "2022-03-21T11:14:41.125498Z"
    }
   },
   "outputs": [],
   "source": [
    "anagrams.to_csv(\"./data/anagrams.csv\", index=False)"
   ]
  },
  {
   "cell_type": "markdown",
   "id": "e5707ed4",
   "metadata": {},
   "source": [
    "## Get word frequency of anagrams"
   ]
  },
  {
   "cell_type": "code",
   "execution_count": 30,
   "id": "09d3b05f",
   "metadata": {
    "ExecuteTime": {
     "end_time": "2022-03-21T11:14:41.251645Z",
     "start_time": "2022-03-21T11:14:41.132151Z"
    }
   },
   "outputs": [],
   "source": [
    "random.seed(123)\n",
    "anagrams_word_freq = anagram_word_frequency(anagrams[\"anagrams\"].to_numpy())"
   ]
  },
  {
   "cell_type": "markdown",
   "id": "ccdea7e7",
   "metadata": {},
   "source": [
    "## Keep anagrams with the highest frequency"
   ]
  },
  {
   "cell_type": "code",
   "execution_count": 31,
   "id": "ec962ef8",
   "metadata": {
    "ExecuteTime": {
     "end_time": "2022-03-21T11:14:41.259248Z",
     "start_time": "2022-03-21T11:14:41.253423Z"
    }
   },
   "outputs": [
    {
     "data": {
      "text/plain": [
       "array(['abode', 'abort', 'acred', 'acrid', 'adept', 'adore', 'afire',\n",
       "       'aider', 'aitch', 'alert'], dtype=object)"
      ]
     },
     "execution_count": 31,
     "metadata": {},
     "output_type": "execute_result"
    }
   ],
   "source": [
    "anagrams_keep_words = anagram_to_keep(anagrams_word_freq)\n",
    "anagrams_keep_words[:10]"
   ]
  },
  {
   "cell_type": "code",
   "execution_count": 32,
   "id": "4c05d4b0",
   "metadata": {
    "ExecuteTime": {
     "end_time": "2022-03-21T11:14:41.266417Z",
     "start_time": "2022-03-21T11:14:41.262331Z"
    }
   },
   "outputs": [
    {
     "data": {
      "text/plain": [
       "387"
      ]
     },
     "execution_count": 32,
     "metadata": {},
     "output_type": "execute_result"
    }
   ],
   "source": [
    "anagrams_keep_words.size"
   ]
  },
  {
   "cell_type": "markdown",
   "id": "d5b04768",
   "metadata": {},
   "source": [
    "## Remove these anagrams"
   ]
  },
  {
   "cell_type": "code",
   "execution_count": 33,
   "id": "c7d55ca7",
   "metadata": {
    "ExecuteTime": {
     "end_time": "2022-03-21T11:14:41.272797Z",
     "start_time": "2022-03-21T11:14:41.267827Z"
    }
   },
   "outputs": [
    {
     "data": {
      "text/plain": [
       "array([list(['abode', 'adobe']), list(['abort', 'tabor']),\n",
       "       list(['acred', 'cader']), list(['acrid', 'caird']),\n",
       "       list(['adept', 'pated']), list(['adore', 'oread']),\n",
       "       list(['afire', 'feria']), list(['aider', 'irade']),\n",
       "       list(['aitch', 'chati']), list(['alert', 'alter'])], dtype=object)"
      ]
     },
     "execution_count": 33,
     "metadata": {},
     "output_type": "execute_result"
    }
   ],
   "source": [
    "arr_of_words = np.array([x.split(\", \") for x in anagrams[\"anagrams\"].to_numpy()], dtype=object)\n",
    "arr_of_words[:10]"
   ]
  },
  {
   "cell_type": "code",
   "execution_count": 34,
   "id": "9623989f",
   "metadata": {
    "ExecuteTime": {
     "end_time": "2022-03-21T11:14:41.278830Z",
     "start_time": "2022-03-21T11:14:41.274539Z"
    }
   },
   "outputs": [
    {
     "data": {
      "text/plain": [
       "array(['abode', 'abort', 'acerb', 'acred', 'acrid', 'acton', 'adeps',\n",
       "       'adept', 'adobe', 'adore'], dtype='<U5')"
      ]
     },
     "execution_count": 34,
     "metadata": {},
     "output_type": "execute_result"
    }
   ],
   "source": [
    "flat_arr_of_words = np.unique(np.concatenate(arr_of_words))\n",
    "flat_arr_of_words[:10]"
   ]
  },
  {
   "cell_type": "code",
   "execution_count": 35,
   "id": "deb49cc2",
   "metadata": {
    "ExecuteTime": {
     "end_time": "2022-03-21T11:14:41.283879Z",
     "start_time": "2022-03-21T11:14:41.280532Z"
    }
   },
   "outputs": [
    {
     "data": {
      "text/plain": [
       "672"
      ]
     },
     "execution_count": 35,
     "metadata": {},
     "output_type": "execute_result"
    }
   ],
   "source": [
    "flat_arr_of_words.size"
   ]
  },
  {
   "cell_type": "code",
   "execution_count": 36,
   "id": "afb5e34b",
   "metadata": {
    "ExecuteTime": {
     "end_time": "2022-03-21T11:14:41.322573Z",
     "start_time": "2022-03-21T11:14:41.285198Z"
    }
   },
   "outputs": [],
   "source": [
    "anagrams_to_remove = np.setdiff1d(flat_arr_of_words, anagrams_keep_words)"
   ]
  },
  {
   "cell_type": "code",
   "execution_count": 37,
   "id": "693726cd",
   "metadata": {
    "ExecuteTime": {
     "end_time": "2022-03-21T11:14:41.327734Z",
     "start_time": "2022-03-21T11:14:41.324513Z"
    }
   },
   "outputs": [
    {
     "data": {
      "text/plain": [
       "285"
      ]
     },
     "execution_count": 37,
     "metadata": {},
     "output_type": "execute_result"
    }
   ],
   "source": [
    "anagrams_to_remove.size"
   ]
  },
  {
   "cell_type": "code",
   "execution_count": 38,
   "id": "476a6ce0",
   "metadata": {
    "ExecuteTime": {
     "end_time": "2022-03-21T11:14:41.332737Z",
     "start_time": "2022-03-21T11:14:41.329610Z"
    }
   },
   "outputs": [
    {
     "data": {
      "text/plain": [
       "array(['acerb', 'acton', 'adeps', 'adobe', 'aesir', 'aimer', 'alfet',\n",
       "       'algin', 'almry', 'alpen'], dtype='<U5')"
      ]
     },
     "execution_count": 38,
     "metadata": {},
     "output_type": "execute_result"
    }
   ],
   "source": [
    "anagrams_to_remove[:10]"
   ]
  },
  {
   "cell_type": "markdown",
   "id": "5946a749",
   "metadata": {},
   "source": [
    "# Final words"
   ]
  },
  {
   "cell_type": "code",
   "execution_count": 39,
   "id": "369c9a54",
   "metadata": {
    "ExecuteTime": {
     "end_time": "2022-03-21T11:14:41.339159Z",
     "start_time": "2022-03-21T11:14:41.334791Z"
    }
   },
   "outputs": [
    {
     "data": {
      "text/plain": [
       "2080"
      ]
     },
     "execution_count": 39,
     "metadata": {},
     "output_type": "execute_result"
    }
   ],
   "source": [
    "len(common_starting_letters)"
   ]
  },
  {
   "cell_type": "code",
   "execution_count": 40,
   "id": "23df3284",
   "metadata": {
    "ExecuteTime": {
     "end_time": "2022-03-21T11:14:41.345314Z",
     "start_time": "2022-03-21T11:14:41.340661Z"
    }
   },
   "outputs": [],
   "source": [
    "common_starting_letters_final_words_idx = \\\n",
    "    (np.isin(np.array(common_starting_letters), anagrams_to_remove, invert=True))"
   ]
  },
  {
   "cell_type": "code",
   "execution_count": 41,
   "id": "e37d8f41",
   "metadata": {
    "ExecuteTime": {
     "end_time": "2022-03-21T11:14:41.350461Z",
     "start_time": "2022-03-21T11:14:41.347183Z"
    }
   },
   "outputs": [
    {
     "data": {
      "text/plain": [
       "array([ True,  True,  True, ...,  True,  True,  True])"
      ]
     },
     "execution_count": 41,
     "metadata": {},
     "output_type": "execute_result"
    }
   ],
   "source": [
    "common_starting_letters_final_words_idx"
   ]
  },
  {
   "cell_type": "code",
   "execution_count": 42,
   "id": "93b29bac",
   "metadata": {
    "ExecuteTime": {
     "end_time": "2022-03-21T11:14:41.355023Z",
     "start_time": "2022-03-21T11:14:41.352423Z"
    }
   },
   "outputs": [],
   "source": [
    "common_starting_letters_final_words = \\\n",
    "    np.array(common_starting_letters)[common_starting_letters_final_words_idx]"
   ]
  },
  {
   "cell_type": "code",
   "execution_count": 43,
   "id": "9e2796f1",
   "metadata": {
    "ExecuteTime": {
     "end_time": "2022-03-21T11:14:41.360312Z",
     "start_time": "2022-03-21T11:14:41.356543Z"
    }
   },
   "outputs": [
    {
     "data": {
      "text/plain": [
       "1795"
      ]
     },
     "execution_count": 43,
     "metadata": {},
     "output_type": "execute_result"
    }
   ],
   "source": [
    "common_starting_letters_final_words.size"
   ]
  },
  {
   "cell_type": "code",
   "execution_count": 44,
   "id": "834fc19e",
   "metadata": {
    "ExecuteTime": {
     "end_time": "2022-03-21T11:14:41.367750Z",
     "start_time": "2022-03-21T11:14:41.362115Z"
    }
   },
   "outputs": [],
   "source": [
    "np.savetxt(\"./data/webster_common_starting_letters_final_words.txt\", common_starting_letters_final_words, fmt=\"%s\")\n",
    "\n",
    "# OR\n",
    "# with open(\"./data/webster_common_starting_letters_final_words.txt\", mode=\"w\") as file:\n",
    "#     file.write(\"\\n\".join(common_starting_letters_final_words))"
   ]
  },
  {
   "cell_type": "code",
   "execution_count": null,
   "id": "eb04f1fc",
   "metadata": {},
   "outputs": [],
   "source": []
  },
  {
   "cell_type": "code",
   "execution_count": null,
   "id": "d567306d",
   "metadata": {},
   "outputs": [],
   "source": []
  }
 ],
 "metadata": {
  "kernelspec": {
   "display_name": "wordle",
   "language": "python",
   "name": "wordle"
  },
  "language_info": {
   "codemirror_mode": {
    "name": "ipython",
    "version": 3
   },
   "file_extension": ".py",
   "mimetype": "text/x-python",
   "name": "python",
   "nbconvert_exporter": "python",
   "pygments_lexer": "ipython3",
   "version": "3.9.7"
  },
  "toc": {
   "base_numbering": 1,
   "nav_menu": {},
   "number_sections": true,
   "sideBar": true,
   "skip_h1_title": false,
   "title_cell": "Table of Contents",
   "title_sidebar": "Contents",
   "toc_cell": false,
   "toc_position": {},
   "toc_section_display": true,
   "toc_window_display": false
  },
  "varInspector": {
   "cols": {
    "lenName": 16,
    "lenType": 16,
    "lenVar": 40
   },
   "kernels_config": {
    "python": {
     "delete_cmd_postfix": "",
     "delete_cmd_prefix": "del ",
     "library": "var_list.py",
     "varRefreshCmd": "print(var_dic_list())"
    },
    "r": {
     "delete_cmd_postfix": ") ",
     "delete_cmd_prefix": "rm(",
     "library": "var_list.r",
     "varRefreshCmd": "cat(var_dic_list()) "
    }
   },
   "types_to_exclude": [
    "module",
    "function",
    "builtin_function_or_method",
    "instance",
    "_Feature"
   ],
   "window_display": false
  }
 },
 "nbformat": 4,
 "nbformat_minor": 5
}
