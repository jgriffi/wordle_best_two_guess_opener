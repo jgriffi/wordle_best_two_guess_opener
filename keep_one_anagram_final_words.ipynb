{
 "cells": [
  {
   "cell_type": "code",
   "execution_count": 1,
   "id": "5d30fa99",
   "metadata": {
    "ExecuteTime": {
     "end_time": "2022-07-15T10:54:41.192770Z",
     "start_time": "2022-07-15T10:54:39.470691Z"
    }
   },
   "outputs": [],
   "source": [
    "import json\n",
    "import urllib.request\n",
    "import pandas as pd\n",
    "import re\n",
    "import random\n",
    "import string\n",
    "from spellchecker import SpellChecker\n",
    "import numpy as np\n",
    "from wordle_helpers import (\n",
    "    words_with_commonly_used_letters,\n",
    "    words_starting_with_commonly_used_letters,\n",
    "    sorted_words_by_frequency,\n",
    "    anagram_pairs,\n",
    "    anagram_word_frequency,\n",
    "    anagram_to_keep\n",
    ")\n",
    "\n",
    "import os\n",
    "# where to save the data\n",
    "ROOT_DIR = \".\"\n",
    "FOLDER_NAME = \"data\"\n",
    "PATH_TO_FOLDER = os.path.join(ROOT_DIR, FOLDER_NAME)\n",
    "os.makedirs(PATH_TO_FOLDER, exist_ok=True)"
   ]
  },
  {
   "cell_type": "markdown",
   "id": "1308f840",
   "metadata": {},
   "source": [
    "# Load data  \n",
    "\n",
    "I'll be using the Webster's Unabridged English Dictionary as my source of English words, helpfully curated [here](https://github.com/adambom/dictionary)."
   ]
  },
  {
   "cell_type": "code",
   "execution_count": 2,
   "id": "b45d6f33",
   "metadata": {
    "ExecuteTime": {
     "end_time": "2022-07-15T10:54:42.082920Z",
     "start_time": "2022-07-15T10:54:41.195101Z"
    }
   },
   "outputs": [],
   "source": [
    "with urllib.request.urlopen(\"https://raw.githubusercontent.com/adambom/dictionary/master/dictionary.json\") as url:\n",
    "    data = json.load(url)"
   ]
  },
  {
   "cell_type": "code",
   "execution_count": 3,
   "id": "a9fdad68",
   "metadata": {
    "ExecuteTime": {
     "end_time": "2022-07-15T10:54:44.723192Z",
     "start_time": "2022-07-15T10:54:42.086352Z"
    }
   },
   "outputs": [],
   "source": [
    "websters_english_dictionary = (pd.DataFrame([data])\n",
    "                               .T\n",
    "                               .reset_index()\n",
    "                               .rename(columns={\"index\": \"word\", 0: \"definition\"}))"
   ]
  },
  {
   "cell_type": "code",
   "execution_count": 4,
   "id": "161c967f",
   "metadata": {
    "ExecuteTime": {
     "end_time": "2022-07-15T10:54:44.742889Z",
     "start_time": "2022-07-15T10:54:44.725597Z"
    }
   },
   "outputs": [
    {
     "data": {
      "text/html": [
       "<div>\n",
       "<style scoped>\n",
       "    .dataframe tbody tr th:only-of-type {\n",
       "        vertical-align: middle;\n",
       "    }\n",
       "\n",
       "    .dataframe tbody tr th {\n",
       "        vertical-align: top;\n",
       "    }\n",
       "\n",
       "    .dataframe thead th {\n",
       "        text-align: right;\n",
       "    }\n",
       "</style>\n",
       "<table border=\"1\" class=\"dataframe\">\n",
       "  <thead>\n",
       "    <tr style=\"text-align: right;\">\n",
       "      <th></th>\n",
       "      <th>word</th>\n",
       "      <th>definition</th>\n",
       "    </tr>\n",
       "  </thead>\n",
       "  <tbody>\n",
       "    <tr>\n",
       "      <th>0</th>\n",
       "      <td>DIPLOBLASTIC</td>\n",
       "      <td>Characterizing the ovum when it has two primar...</td>\n",
       "    </tr>\n",
       "    <tr>\n",
       "      <th>1</th>\n",
       "      <td>DEFIGURE</td>\n",
       "      <td>To delineate. [Obs.]These two stones as they a...</td>\n",
       "    </tr>\n",
       "    <tr>\n",
       "      <th>2</th>\n",
       "      <td>LOMBARD</td>\n",
       "      <td>Of or pertaining to Lombardy, or the inhabitan...</td>\n",
       "    </tr>\n",
       "    <tr>\n",
       "      <th>3</th>\n",
       "      <td>BAHAISM</td>\n",
       "      <td>The religious tenets or practices of the Bahais.</td>\n",
       "    </tr>\n",
       "    <tr>\n",
       "      <th>4</th>\n",
       "      <td>FUMERELL</td>\n",
       "      <td>See Femerell.</td>\n",
       "    </tr>\n",
       "  </tbody>\n",
       "</table>\n",
       "</div>"
      ],
      "text/plain": [
       "           word                                         definition\n",
       "0  DIPLOBLASTIC  Characterizing the ovum when it has two primar...\n",
       "1      DEFIGURE  To delineate. [Obs.]These two stones as they a...\n",
       "2       LOMBARD  Of or pertaining to Lombardy, or the inhabitan...\n",
       "3       BAHAISM   The religious tenets or practices of the Bahais.\n",
       "4      FUMERELL                                      See Femerell."
      ]
     },
     "execution_count": 4,
     "metadata": {},
     "output_type": "execute_result"
    }
   ],
   "source": [
    "websters_english_dictionary.head()"
   ]
  },
  {
   "cell_type": "code",
   "execution_count": 5,
   "id": "a8cf6c81",
   "metadata": {
    "ExecuteTime": {
     "end_time": "2022-07-15T10:54:44.786708Z",
     "start_time": "2022-07-15T10:54:44.745437Z"
    }
   },
   "outputs": [
    {
     "name": "stdout",
     "output_type": "stream",
     "text": [
      "<class 'pandas.core.frame.DataFrame'>\n",
      "RangeIndex: 86036 entries, 0 to 86035\n",
      "Data columns (total 2 columns):\n",
      " #   Column      Non-Null Count  Dtype \n",
      "---  ------      --------------  ----- \n",
      " 0   word        86036 non-null  object\n",
      " 1   definition  86036 non-null  object\n",
      "dtypes: object(2)\n",
      "memory usage: 1.3+ MB\n"
     ]
    }
   ],
   "source": [
    "websters_english_dictionary.info()"
   ]
  },
  {
   "cell_type": "code",
   "execution_count": 6,
   "id": "510a1278",
   "metadata": {
    "ExecuteTime": {
     "end_time": "2022-07-15T10:54:45.148201Z",
     "start_time": "2022-07-15T10:54:44.789791Z"
    }
   },
   "outputs": [],
   "source": [
    "websters_english_dictionary.to_csv(\"./data/websters_english_dictionary.csv\", index=False)"
   ]
  },
  {
   "cell_type": "markdown",
   "id": "b7d4be4e",
   "metadata": {},
   "source": [
    "# Create list of five letter words"
   ]
  },
  {
   "cell_type": "markdown",
   "id": "09f8792f",
   "metadata": {},
   "source": [
    "## Five letter words"
   ]
  },
  {
   "cell_type": "code",
   "execution_count": 7,
   "id": "6e5252cd",
   "metadata": {
    "ExecuteTime": {
     "end_time": "2022-07-15T10:54:45.642223Z",
     "start_time": "2022-07-15T10:54:45.150539Z"
    }
   },
   "outputs": [],
   "source": [
    "five_letter_words = []\n",
    "\n",
    "for dict_word in websters_english_dictionary[\"word\"]:\n",
    "    words = []\n",
    "    m = re.search(r\"\\w+\", dict_word)\n",
    "    if m is not None:\n",
    "        words.append(m.group(0).lower())\n",
    "    for word in words:\n",
    "        if len(word) == 5 and word not in five_letter_words:\n",
    "            five_letter_words.append(word)"
   ]
  },
  {
   "cell_type": "code",
   "execution_count": 8,
   "id": "03ece06e",
   "metadata": {
    "ExecuteTime": {
     "end_time": "2022-07-15T10:54:45.649491Z",
     "start_time": "2022-07-15T10:54:45.644566Z"
    }
   },
   "outputs": [
    {
     "data": {
      "text/plain": [
       "5568"
      ]
     },
     "execution_count": 8,
     "metadata": {},
     "output_type": "execute_result"
    }
   ],
   "source": [
    "len(five_letter_words)"
   ]
  },
  {
   "cell_type": "code",
   "execution_count": 9,
   "id": "27b2fc1e",
   "metadata": {
    "ExecuteTime": {
     "end_time": "2022-07-15T10:54:45.660131Z",
     "start_time": "2022-07-15T10:54:45.654598Z"
    }
   },
   "outputs": [
    {
     "data": {
      "text/plain": [
       "5568"
      ]
     },
     "execution_count": 9,
     "metadata": {},
     "output_type": "execute_result"
    }
   ],
   "source": [
    "len(set(five_letter_words))"
   ]
  },
  {
   "cell_type": "code",
   "execution_count": 10,
   "id": "ec0959ba",
   "metadata": {
    "ExecuteTime": {
     "end_time": "2022-07-15T10:54:45.666220Z",
     "start_time": "2022-07-15T10:54:45.662455Z"
    }
   },
   "outputs": [],
   "source": [
    "check = [len(word) for word in five_letter_words]"
   ]
  },
  {
   "cell_type": "code",
   "execution_count": 11,
   "id": "6ed1a830",
   "metadata": {
    "ExecuteTime": {
     "end_time": "2022-07-15T10:54:45.673464Z",
     "start_time": "2022-07-15T10:54:45.668327Z"
    }
   },
   "outputs": [
    {
     "data": {
      "text/plain": [
       "{5}"
      ]
     },
     "execution_count": 11,
     "metadata": {},
     "output_type": "execute_result"
    }
   ],
   "source": [
    "set(check)"
   ]
  },
  {
   "cell_type": "code",
   "execution_count": 12,
   "id": "c88336ea",
   "metadata": {
    "ExecuteTime": {
     "end_time": "2022-07-15T10:54:45.681033Z",
     "start_time": "2022-07-15T10:54:45.675569Z"
    }
   },
   "outputs": [
    {
     "data": {
      "text/plain": [
       "['water',\n",
       " 'gnarl',\n",
       " 'arles',\n",
       " 'villa',\n",
       " 'stagy',\n",
       " 'betty',\n",
       " 'aknow',\n",
       " 'berbe',\n",
       " 'icily',\n",
       " 'yamma']"
      ]
     },
     "execution_count": 12,
     "metadata": {},
     "output_type": "execute_result"
    }
   ],
   "source": [
    "five_letter_words[:10]"
   ]
  },
  {
   "cell_type": "code",
   "execution_count": 13,
   "id": "66238ca2",
   "metadata": {
    "ExecuteTime": {
     "end_time": "2022-07-15T10:54:45.690052Z",
     "start_time": "2022-07-15T10:54:45.685039Z"
    }
   },
   "outputs": [],
   "source": [
    "# Save words as txt file. Text file provided in data folder\n",
    "with open(\"./data/webster_dict_all_five_letter_words.txt\", mode=\"w\") as file:\n",
    "    file.write(\"\\n\".join(five_letter_words))"
   ]
  },
  {
   "cell_type": "markdown",
   "id": "bd24eb74",
   "metadata": {},
   "source": [
    "## no repeat letter in 5 letter words  \n",
    "\n",
    "So as to not waste letter guesses, we'll only select words with no repeat letters"
   ]
  },
  {
   "cell_type": "code",
   "execution_count": 14,
   "id": "3e333e21",
   "metadata": {
    "ExecuteTime": {
     "end_time": "2022-07-15T10:54:45.700647Z",
     "start_time": "2022-07-15T10:54:45.692544Z"
    }
   },
   "outputs": [
    {
     "data": {
      "text/plain": [
       "['water',\n",
       " 'gnarl',\n",
       " 'arles',\n",
       " 'stagy',\n",
       " 'aknow',\n",
       " 'tawer',\n",
       " 'copra',\n",
       " 'knout',\n",
       " 'atole',\n",
       " 'timal']"
      ]
     },
     "execution_count": 14,
     "metadata": {},
     "output_type": "execute_result"
    }
   ],
   "source": [
    "no_repeat_letter_five_letter_words = [word for word in five_letter_words if len(set(word)) == 5]\n",
    "no_repeat_letter_five_letter_words[:10]"
   ]
  },
  {
   "cell_type": "code",
   "execution_count": 15,
   "id": "ed8e3951",
   "metadata": {
    "ExecuteTime": {
     "end_time": "2022-07-15T10:54:45.710237Z",
     "start_time": "2022-07-15T10:54:45.703615Z"
    }
   },
   "outputs": [
    {
     "data": {
      "text/plain": [
       "3636"
      ]
     },
     "execution_count": 15,
     "metadata": {},
     "output_type": "execute_result"
    }
   ],
   "source": [
    "len(no_repeat_letter_five_letter_words)"
   ]
  },
  {
   "cell_type": "markdown",
   "id": "23fa7ee1",
   "metadata": {},
   "source": [
    "## words with most common starting letters  \n",
    "\n",
    "Further filtering by choosing words form `most_common_starting_letters = \"taisocmfpw\"`"
   ]
  },
  {
   "cell_type": "code",
   "execution_count": 16,
   "id": "8fb982cd",
   "metadata": {
    "ExecuteTime": {
     "end_time": "2022-07-15T10:54:45.727400Z",
     "start_time": "2022-07-15T10:54:45.712646Z"
    }
   },
   "outputs": [
    {
     "data": {
      "text/plain": [
       "['water',\n",
       " 'arles',\n",
       " 'stagy',\n",
       " 'aknow',\n",
       " 'tawer',\n",
       " 'copra',\n",
       " 'atole',\n",
       " 'timal',\n",
       " 'trunk',\n",
       " 'inkle']"
      ]
     },
     "execution_count": 16,
     "metadata": {},
     "output_type": "execute_result"
    }
   ],
   "source": [
    "common_starting_letters = words_starting_with_commonly_used_letters(no_repeat_letter_five_letter_words)\n",
    "common_starting_letters[:10]"
   ]
  },
  {
   "cell_type": "code",
   "execution_count": 17,
   "id": "1fca2ba6",
   "metadata": {
    "ExecuteTime": {
     "end_time": "2022-07-15T10:54:45.736870Z",
     "start_time": "2022-07-15T10:54:45.731207Z"
    }
   },
   "outputs": [
    {
     "data": {
      "text/plain": [
       "2181"
      ]
     },
     "execution_count": 17,
     "metadata": {},
     "output_type": "execute_result"
    }
   ],
   "source": [
    "len(common_starting_letters)"
   ]
  },
  {
   "cell_type": "markdown",
   "id": "7d0dc518",
   "metadata": {},
   "source": [
    "# Determine anagrams to remove  \n",
    "\n",
    "All anagrams in a group will share the same informational content, albeit different positional information. So where we find anagrams we select the one with the highest word frequency. If our guess word is an anagram of the challenge word we'll get yellows and greens."
   ]
  },
  {
   "cell_type": "markdown",
   "id": "68d31982",
   "metadata": {},
   "source": [
    "## Get anagrams"
   ]
  },
  {
   "cell_type": "code",
   "execution_count": 18,
   "id": "f3dee828",
   "metadata": {
    "ExecuteTime": {
     "end_time": "2022-07-15T10:54:47.176125Z",
     "start_time": "2022-07-15T10:54:45.739700Z"
    }
   },
   "outputs": [],
   "source": [
    "# credit - https://twitter.com/mathsppblog/status/1547493884384710656?t=lWTpT5wZ3izeYRnNy9dc8g&s=03\n",
    "\n",
    "signatures = []\n",
    "for word in common_starting_letters:\n",
    "    signatures.append(frozenset(word))\n",
    "    \n",
    "word_anagrams = {}\n",
    "#  iterate over signatures\n",
    "for signature in set(signatures):\n",
    "    # get first word with this signature\n",
    "    key_word = None\n",
    "    for word in common_starting_letters:\n",
    "        if frozenset(word) == signature:\n",
    "            key_word = word\n",
    "            break\n",
    "            print(key_word)\n",
    "    \n",
    "    anagram_matches = []\n",
    "    for sig, word in zip(signatures, common_starting_letters):\n",
    "        if sig == signature:\n",
    "            anagram_matches.append(word)\n",
    "#     word_anagrams[key_word] = anagram_matches\n",
    "    word_anagrams[key_word] = [\", \".join(anagram_matches)]"
   ]
  },
  {
   "cell_type": "code",
   "execution_count": 19,
   "id": "efa3ca24",
   "metadata": {
    "ExecuteTime": {
     "end_time": "2022-07-15T10:54:47.184950Z",
     "start_time": "2022-07-15T10:54:47.178352Z"
    }
   },
   "outputs": [],
   "source": [
    "# anagrams = np.concatenate([value for key, value in word_anagrams.items()])\n",
    "anagrams = np.concatenate([value for value in word_anagrams.values()])"
   ]
  },
  {
   "cell_type": "code",
   "execution_count": 20,
   "id": "e75f7422",
   "metadata": {
    "ExecuteTime": {
     "end_time": "2022-07-15T10:54:47.195260Z",
     "start_time": "2022-07-15T10:54:47.188154Z"
    }
   },
   "outputs": [
    {
     "data": {
      "text/plain": [
       "array(['scout', 'atomy', 'sting', 'capri, picra', 'wakif', 'orbit',\n",
       "       'acorn', 'woxen', 'amole, maleo', 'shave', 'peach, cheap', 'fixed',\n",
       "       'indol', 'skein', 'auric, curia'], dtype='<U47')"
      ]
     },
     "execution_count": 20,
     "metadata": {},
     "output_type": "execute_result"
    }
   ],
   "source": [
    "anagrams[:15]"
   ]
  },
  {
   "cell_type": "code",
   "execution_count": 21,
   "id": "1f0782fc",
   "metadata": {
    "ExecuteTime": {
     "end_time": "2022-07-15T10:54:47.202984Z",
     "start_time": "2022-07-15T10:54:47.198173Z"
    }
   },
   "outputs": [
    {
     "data": {
      "text/plain": [
       "1763"
      ]
     },
     "execution_count": 21,
     "metadata": {},
     "output_type": "execute_result"
    }
   ],
   "source": [
    "anagrams.size"
   ]
  },
  {
   "cell_type": "code",
   "execution_count": 22,
   "id": "09d3b05f",
   "metadata": {
    "ExecuteTime": {
     "end_time": "2022-07-15T10:54:47.376113Z",
     "start_time": "2022-07-15T10:54:47.205684Z"
    }
   },
   "outputs": [],
   "source": [
    "anagrams_word_freq = anagram_word_frequency(anagrams)"
   ]
  },
  {
   "cell_type": "code",
   "execution_count": 23,
   "id": "4ad2b41d",
   "metadata": {
    "ExecuteTime": {
     "end_time": "2022-07-15T10:54:47.383376Z",
     "start_time": "2022-07-15T10:54:47.378422Z"
    }
   },
   "outputs": [
    {
     "data": {
      "text/plain": [
       "array([list([('scout', 6.3583192211803815e-06)]), list([('atomy', 0.0)]),\n",
       "       list([('sting', 6.473815081498541e-06)]),\n",
       "       list([('capri', 1.0098329148237029e-07), ('picra', 0.0)]),\n",
       "       list([('wakif', 0.0)]), list([('orbit', 6.022716066852743e-06)]),\n",
       "       list([('acorn', 5.798980630634318e-07)]), list([('woxen', 0.0)]),\n",
       "       list([('amole', 0.0), ('maleo', 0.0)]),\n",
       "       list([('shave', 1.0080188437192293e-05)]),\n",
       "       list([('peach', 3.5858138831763824e-06), ('cheap', 2.5594124522651528e-05)]),\n",
       "       list([('fixed', 2.955545112445397e-05)]), list([('indol', 0.0)]),\n",
       "       list([('skein', 3.6281422089474355e-08)]),\n",
       "       list([('auric', 9.675045890526496e-09), ('curia', 1.7959303934289807e-07)]),\n",
       "       list([('cagot', 0.0)]), list([('ihram', 1.3303188099473932e-08)]),\n",
       "       list([('plack', 0.0)]), list([('trump', 1.5334947736484495e-06)]),\n",
       "       list([('crumb', 7.933537630231726e-07)]), list([('tirma', 0.0)]),\n",
       "       list([('shone', 1.3430173076787092e-06)]), list([('frape', 0.0)]),\n",
       "       list([('fomes', 0.0)]), list([('sneck', 0.0)]),\n",
       "       list([('frail', 1.45246626431529e-06), ('filar', 0.0)]),\n",
       "       list([('fried', 1.1340967854801527e-05)]),\n",
       "       list([('frown', 2.0287361851697747e-06)]), list([('pavin', 0.0)]),\n",
       "       list([('stole', 8.025631973302175e-05)])], dtype=object)"
      ]
     },
     "execution_count": 23,
     "metadata": {},
     "output_type": "execute_result"
    }
   ],
   "source": [
    "anagrams_word_freq[:30]"
   ]
  },
  {
   "cell_type": "code",
   "execution_count": 24,
   "id": "6285cb45",
   "metadata": {
    "ExecuteTime": {
     "end_time": "2022-07-15T10:54:47.463416Z",
     "start_time": "2022-07-15T10:54:47.385835Z"
    }
   },
   "outputs": [],
   "source": [
    "# save word_anagrams as csv\n",
    "(pd.DataFrame(word_anagrams)\n",
    " .T\n",
    " .reset_index()\n",
    " .rename(columns={\"index\": \"word\", 0: \"anagrams\"})\n",
    ").to_csv(\"./data/anagrams.csv\", index=False)"
   ]
  },
  {
   "cell_type": "markdown",
   "id": "ccdea7e7",
   "metadata": {},
   "source": [
    "## Keep anagrams with the highest frequency"
   ]
  },
  {
   "cell_type": "code",
   "execution_count": 25,
   "id": "ec962ef8",
   "metadata": {
    "ExecuteTime": {
     "end_time": "2022-07-15T10:54:47.509569Z",
     "start_time": "2022-07-15T10:54:47.466184Z"
    }
   },
   "outputs": [
    {
     "data": {
      "text/plain": [
       "array(['abhor', 'abide', 'abies', 'abler', 'abnet', 'abode', 'abord',\n",
       "       'abort', 'about', 'above'], dtype=object)"
      ]
     },
     "execution_count": 25,
     "metadata": {},
     "output_type": "execute_result"
    }
   ],
   "source": [
    "keep_words = anagram_to_keep(anagrams_word_freq)\n",
    "keep_words[:10]"
   ]
  },
  {
   "cell_type": "code",
   "execution_count": 26,
   "id": "4c05d4b0",
   "metadata": {
    "ExecuteTime": {
     "end_time": "2022-07-15T10:54:47.516538Z",
     "start_time": "2022-07-15T10:54:47.511761Z"
    }
   },
   "outputs": [
    {
     "data": {
      "text/plain": [
       "1763"
      ]
     },
     "execution_count": 26,
     "metadata": {},
     "output_type": "execute_result"
    }
   ],
   "source": [
    "keep_words.size"
   ]
  },
  {
   "cell_type": "code",
   "execution_count": 27,
   "id": "d977790b",
   "metadata": {
    "ExecuteTime": {
     "end_time": "2022-07-15T10:54:47.532673Z",
     "start_time": "2022-07-15T10:54:47.528070Z"
    }
   },
   "outputs": [
    {
     "data": {
      "text/plain": [
       "(array([], dtype=int64),)"
      ]
     },
     "execution_count": 27,
     "metadata": {},
     "output_type": "execute_result"
    }
   ],
   "source": [
    "np.where(keep_words == \"suine\")"
   ]
  },
  {
   "cell_type": "code",
   "execution_count": 28,
   "id": "e4897deb",
   "metadata": {
    "ExecuteTime": {
     "end_time": "2022-07-15T10:54:47.539991Z",
     "start_time": "2022-07-15T10:54:47.535360Z"
    }
   },
   "outputs": [],
   "source": [
    "# np.savetxt(\"./data/webster_common_starting_letters_final_words.txt\", keep_words, fmt=\"%s\")\n",
    "\n",
    "# OR\n",
    "with open(\"./data/webster_common_starting_letters_final_words.txt\", mode=\"w\") as file:\n",
    "    file.write(\"\\n\".join(keep_words))"
   ]
  }
 ],
 "metadata": {
  "kernelspec": {
   "display_name": "wordle",
   "language": "python",
   "name": "wordle"
  },
  "language_info": {
   "codemirror_mode": {
    "name": "ipython",
    "version": 3
   },
   "file_extension": ".py",
   "mimetype": "text/x-python",
   "name": "python",
   "nbconvert_exporter": "python",
   "pygments_lexer": "ipython3",
   "version": "3.9.7"
  },
  "toc": {
   "base_numbering": 1,
   "nav_menu": {},
   "number_sections": true,
   "sideBar": true,
   "skip_h1_title": false,
   "title_cell": "Table of Contents",
   "title_sidebar": "Contents",
   "toc_cell": false,
   "toc_position": {},
   "toc_section_display": true,
   "toc_window_display": false
  },
  "varInspector": {
   "cols": {
    "lenName": 16,
    "lenType": 16,
    "lenVar": 40
   },
   "kernels_config": {
    "python": {
     "delete_cmd_postfix": "",
     "delete_cmd_prefix": "del ",
     "library": "var_list.py",
     "varRefreshCmd": "print(var_dic_list())"
    },
    "r": {
     "delete_cmd_postfix": ") ",
     "delete_cmd_prefix": "rm(",
     "library": "var_list.r",
     "varRefreshCmd": "cat(var_dic_list()) "
    }
   },
   "types_to_exclude": [
    "module",
    "function",
    "builtin_function_or_method",
    "instance",
    "_Feature"
   ],
   "window_display": false
  }
 },
 "nbformat": 4,
 "nbformat_minor": 5
}
