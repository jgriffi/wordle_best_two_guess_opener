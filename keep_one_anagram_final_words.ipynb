{
 "cells": [
  {
   "cell_type": "code",
   "execution_count": 1,
   "id": "5d30fa99",
   "metadata": {
    "ExecuteTime": {
     "end_time": "2022-07-19T23:41:32.056678Z",
     "start_time": "2022-07-19T23:41:29.973011Z"
    }
   },
   "outputs": [],
   "source": [
    "import json\n",
    "import urllib.request\n",
    "import pandas as pd\n",
    "import re\n",
    "import random\n",
    "import string\n",
    "from tqdm import tqdm\n",
    "from spellchecker import SpellChecker\n",
    "import numpy as np\n",
    "from wordle_helpers import (\n",
    "    words_with_commonly_used_letters,\n",
    "    words_starting_with_commonly_used_letters,\n",
    "    sorted_words_by_frequency,\n",
    "    anagram_pairs,\n",
    "    anagram_word_frequency,\n",
    "    anagram_to_keep\n",
    ")\n",
    "\n",
    "import os\n",
    "# where to save the data\n",
    "ROOT_DIR = \".\"\n",
    "FOLDER_NAME = \"data\"\n",
    "PATH_TO_FOLDER = os.path.join(ROOT_DIR, FOLDER_NAME)\n",
    "os.makedirs(PATH_TO_FOLDER, exist_ok=True)"
   ]
  },
  {
   "cell_type": "markdown",
   "id": "1308f840",
   "metadata": {},
   "source": [
    "# Load data  \n",
    "\n",
    "I'll be using the Webster's Unabridged English Dictionary as my source of English words, helpfully curated [here](https://github.com/adambom/dictionary)."
   ]
  },
  {
   "cell_type": "code",
   "execution_count": 2,
   "id": "d6a0a4b2",
   "metadata": {
    "ExecuteTime": {
     "end_time": "2022-07-19T23:41:33.038437Z",
     "start_time": "2022-07-19T23:41:32.058908Z"
    }
   },
   "outputs": [],
   "source": [
    "with urllib.request.urlopen(\"https://raw.githubusercontent.com/adambom/dictionary/master/dictionary.json\") as url:\n",
    "    data = json.load(url)\n",
    "    \n",
    "words = set([word.lower() for word in re.findall(r\"[a-z]+\", \" \".join(list(data)), flags=re.IGNORECASE)])"
   ]
  },
  {
   "cell_type": "code",
   "execution_count": 3,
   "id": "497a1557",
   "metadata": {
    "ExecuteTime": {
     "end_time": "2022-07-19T23:41:33.057387Z",
     "start_time": "2022-07-19T23:41:33.042499Z"
    }
   },
   "outputs": [
    {
     "data": {
      "text/plain": [
       "['stalling',\n",
       " 'postoblongata',\n",
       " 'salebrous',\n",
       " 'attic',\n",
       " 'dermopteran',\n",
       " 'orderless',\n",
       " 'excalceation',\n",
       " 'logicalness',\n",
       " 'aluminated',\n",
       " 'exuperant']"
      ]
     },
     "execution_count": 3,
     "metadata": {},
     "output_type": "execute_result"
    }
   ],
   "source": [
    "list(words)[:10]"
   ]
  },
  {
   "cell_type": "code",
   "execution_count": 4,
   "id": "6013a982",
   "metadata": {
    "ExecuteTime": {
     "end_time": "2022-07-19T23:41:33.065347Z",
     "start_time": "2022-07-19T23:41:33.059911Z"
    }
   },
   "outputs": [
    {
     "data": {
      "text/plain": [
       "82702"
      ]
     },
     "execution_count": 4,
     "metadata": {},
     "output_type": "execute_result"
    }
   ],
   "source": [
    "len(words)"
   ]
  },
  {
   "cell_type": "markdown",
   "id": "2cf42e2c",
   "metadata": {},
   "source": [
    "# Select words "
   ]
  },
  {
   "cell_type": "code",
   "execution_count": 5,
   "id": "c8a427e6",
   "metadata": {
    "ExecuteTime": {
     "end_time": "2022-07-19T23:41:33.307482Z",
     "start_time": "2022-07-19T23:41:33.068406Z"
    }
   },
   "outputs": [
    {
     "name": "stdout",
     "output_type": "stream",
     "text": [
      "['stalling', 'postoblongata', 'salebrous', 'attic', 'orderless', 'aluminated', 'signboard', 'produce', 'pacificable', 'perishableness']"
     ]
    }
   ],
   "source": [
    "new_words_list = words_starting_with_commonly_used_letters(words_with_commonly_used_letters(words))\n",
    "print(new_words_list[:10], end=\"\")"
   ]
  },
  {
   "cell_type": "code",
   "execution_count": 6,
   "id": "db6b2490",
   "metadata": {
    "ExecuteTime": {
     "end_time": "2022-07-19T23:41:33.323226Z",
     "start_time": "2022-07-19T23:41:33.309665Z"
    }
   },
   "outputs": [],
   "source": [
    "def select_words(words_list, length_of_words=None):\n",
    "    if length_of_words:\n",
    "        return [word for word in words_list\n",
    "                for length in length_of_words\n",
    "                if len(word) == length]\n",
    "    return list(words_list)\n",
    "\n",
    "five_letter_words = select_words(new_words_list, length_of_words=[5])"
   ]
  },
  {
   "cell_type": "code",
   "execution_count": 7,
   "id": "3f1f8989",
   "metadata": {
    "ExecuteTime": {
     "end_time": "2022-07-19T23:41:33.330392Z",
     "start_time": "2022-07-19T23:41:33.325002Z"
    }
   },
   "outputs": [
    {
     "name": "stdout",
     "output_type": "stream",
     "text": [
      "['attic', 'aural', 'scaup', 'sapid', 'sleep', 'sprue', 'tunny', 'weedy', 'froth', 'thane']"
     ]
    }
   ],
   "source": [
    "print(five_letter_words[:10], end=\"\")"
   ]
  },
  {
   "cell_type": "code",
   "execution_count": 8,
   "id": "8a6ee1aa",
   "metadata": {
    "ExecuteTime": {
     "end_time": "2022-07-19T23:41:33.338834Z",
     "start_time": "2022-07-19T23:41:33.334125Z"
    }
   },
   "outputs": [
    {
     "data": {
      "text/plain": [
       "2809"
      ]
     },
     "execution_count": 8,
     "metadata": {},
     "output_type": "execute_result"
    }
   ],
   "source": [
    "len(five_letter_words)"
   ]
  },
  {
   "cell_type": "markdown",
   "id": "bd24eb74",
   "metadata": {},
   "source": [
    "## no repeat letter in 5 letter words  \n",
    "\n",
    "So as to not waste letter guesses, we'll only select words with no repeat letters"
   ]
  },
  {
   "cell_type": "code",
   "execution_count": 9,
   "id": "3e333e21",
   "metadata": {
    "ExecuteTime": {
     "end_time": "2022-07-19T23:41:33.358023Z",
     "start_time": "2022-07-19T23:41:33.351712Z"
    }
   },
   "outputs": [
    {
     "name": "stdout",
     "output_type": "stream",
     "text": [
      "['scaup', 'sapid', 'sprue', 'froth', 'thane', 'agush', 'train', 'coney', 'alogy', 'fumed']"
     ]
    }
   ],
   "source": [
    "no_repeat_letter_five_letter_words = [word for word in five_letter_words if len(set(word)) == 5]\n",
    "print(no_repeat_letter_five_letter_words[:10], end=\"\")"
   ]
  },
  {
   "cell_type": "code",
   "execution_count": 10,
   "id": "ed8e3951",
   "metadata": {
    "ExecuteTime": {
     "end_time": "2022-07-19T23:41:33.372819Z",
     "start_time": "2022-07-19T23:41:33.361139Z"
    }
   },
   "outputs": [
    {
     "data": {
      "text/plain": [
       "1823"
      ]
     },
     "execution_count": 10,
     "metadata": {},
     "output_type": "execute_result"
    }
   ],
   "source": [
    "len(no_repeat_letter_five_letter_words)"
   ]
  },
  {
   "cell_type": "markdown",
   "id": "a0bc4d7d",
   "metadata": {},
   "source": [
    "## Anagrams"
   ]
  },
  {
   "cell_type": "code",
   "execution_count": 11,
   "id": "2d405c98",
   "metadata": {
    "ExecuteTime": {
     "end_time": "2022-07-19T23:41:35.963069Z",
     "start_time": "2022-07-19T23:41:33.375760Z"
    }
   },
   "outputs": [
    {
     "name": "stderr",
     "output_type": "stream",
     "text": [
      "100%|█████████████████████████████████████████████████████████████████████████████████████████████████████████████████████| 1823/1823 [00:02<00:00, 714.63it/s]\n"
     ]
    }
   ],
   "source": [
    "# # credit - https://twitter.com/mathsppblog/status/1547493884384710656?t=lWTpT5wZ3izeYRnNy9dc8g&s=03\n",
    "\n",
    "# def get_anagrams(words_list):\n",
    "#     \"\"\"\n",
    "#     Returns a dict of word and anagrams. Anagrams are only for words with\n",
    "#     no repeat letters.\n",
    "#     \"\"\"\n",
    "#     signatures = [sorted(word) for word in words_list]\n",
    "\n",
    "#     word_anagrams = {}\n",
    "#     #  iterate over signatures\n",
    "#     for signature in signatures:\n",
    "#         # get first word with this signature\n",
    "#         key_word = None\n",
    "#         for word in words_list:\n",
    "#             if sorted(word) == signature:\n",
    "#                 key_word = word\n",
    "#                 break\n",
    "                \n",
    "#         anagram_matches = [word for sig, word in zip(signatures, words_list)\n",
    "#                            if sig == signature]\n",
    "#         word_anagrams[key_word] = [\", \".join(anagram_matches)]\n",
    "#     return word_anagrams\n",
    "\n",
    "\n",
    "# credit: https://twitter.com/eboygarcia/status/1547833387788169216/photo/2\n",
    "\n",
    "def check_anagrams(words_list):\n",
    "    # make frozenset list\n",
    "    signatures = [frozenset(\"\".join([e for e in word.lower() if e.isalnum()])) for word in words_list]\n",
    "    # get keyword\n",
    "    anagrams = {}\n",
    "    for signature in tqdm(signatures):\n",
    "        keyword = None\n",
    "        for word in words_list:\n",
    "            word_ = \"\".join([e for e in word.lower() if e.isalnum()])\n",
    "            if frozenset(word_) == signature:\n",
    "                keyword = word\n",
    "                break\n",
    "        matches = [word for sig, word in zip(signatures, words_list)\n",
    "                   if sig == signature]\n",
    "        anagrams[keyword] = [\", \".join(matches)]\n",
    "    return anagrams\n",
    "    \n",
    "anagrams_five_letter_words_no_repeat_letters = check_anagrams(no_repeat_letter_five_letter_words)"
   ]
  },
  {
   "cell_type": "code",
   "execution_count": 12,
   "id": "6130d533",
   "metadata": {
    "ExecuteTime": {
     "end_time": "2022-07-19T23:41:35.973988Z",
     "start_time": "2022-07-19T23:41:35.966462Z"
    }
   },
   "outputs": [
    {
     "data": {
      "text/plain": [
       "[('scaup', ['scaup']),\n",
       " ('sapid', ['sapid, spaid']),\n",
       " ('sprue', ['sprue, purse, super']),\n",
       " ('froth', ['froth, forth']),\n",
       " ('thane', ['thane']),\n",
       " ('agush', ['agush']),\n",
       " ('train', ['train, tarin, trina, intra, tairn']),\n",
       " ('coney', ['coney']),\n",
       " ('alogy', ['alogy']),\n",
       " ('fumed', ['fumed'])]"
      ]
     },
     "execution_count": 12,
     "metadata": {},
     "output_type": "execute_result"
    }
   ],
   "source": [
    "list(anagrams_five_letter_words_no_repeat_letters.items())[:10]"
   ]
  },
  {
   "cell_type": "code",
   "execution_count": null,
   "id": "6eeccd86",
   "metadata": {},
   "outputs": [],
   "source": []
  },
  {
   "cell_type": "code",
   "execution_count": 13,
   "id": "66238ca2",
   "metadata": {
    "ExecuteTime": {
     "end_time": "2022-07-19T23:41:35.980709Z",
     "start_time": "2022-07-19T23:41:35.976339Z"
    }
   },
   "outputs": [],
   "source": [
    "# Save words as txt file. Text file provided in data folder\n",
    "with open(\"./data/webster_dict_all_five_letter_words.txt\", mode=\"w\") as file:\n",
    "    file.write(\"\\n\".join(five_letter_words))"
   ]
  },
  {
   "cell_type": "markdown",
   "id": "7d0dc518",
   "metadata": {},
   "source": [
    "# Determine anagrams to remove  \n",
    "\n",
    "All anagrams in a group will share the same informational content, albeit different positional information. So where we find anagrams we select the one with the highest word frequency. If our guess word is an anagram of the challenge word we'll get yellows and greens."
   ]
  },
  {
   "cell_type": "markdown",
   "id": "68d31982",
   "metadata": {},
   "source": [
    "## Get anagrams"
   ]
  },
  {
   "cell_type": "code",
   "execution_count": 14,
   "id": "efa3ca24",
   "metadata": {
    "ExecuteTime": {
     "end_time": "2022-07-19T23:41:35.989846Z",
     "start_time": "2022-07-19T23:41:35.983004Z"
    }
   },
   "outputs": [],
   "source": [
    "# anagrams = np.concatenate([value for key, value in word_anagrams.items()])\n",
    "anagrams = np.concatenate([value for value in anagrams_five_letter_words_no_repeat_letters.values()])"
   ]
  },
  {
   "cell_type": "code",
   "execution_count": 15,
   "id": "e75f7422",
   "metadata": {
    "ExecuteTime": {
     "end_time": "2022-07-19T23:41:36.000504Z",
     "start_time": "2022-07-19T23:41:35.992128Z"
    }
   },
   "outputs": [
    {
     "data": {
      "text/plain": [
       "array(['scaup', 'sapid, spaid', 'sprue, purse, super', 'froth, forth',\n",
       "       'thane', 'agush', 'train, tarin, trina, intra, tairn', 'coney',\n",
       "       'alogy', 'fumed', 'comet',\n",
       "       'astel, steal, satle, tales, stela, slate, stale', 'singe',\n",
       "       'caple, capel, clape, place', 'silty'], dtype='<U47')"
      ]
     },
     "execution_count": 15,
     "metadata": {},
     "output_type": "execute_result"
    }
   ],
   "source": [
    "anagrams[:15]"
   ]
  },
  {
   "cell_type": "code",
   "execution_count": 16,
   "id": "1f0782fc",
   "metadata": {
    "ExecuteTime": {
     "end_time": "2022-07-19T23:41:36.007956Z",
     "start_time": "2022-07-19T23:41:36.003052Z"
    }
   },
   "outputs": [
    {
     "data": {
      "text/plain": [
       "1418"
      ]
     },
     "execution_count": 16,
     "metadata": {},
     "output_type": "execute_result"
    }
   ],
   "source": [
    "anagrams.size"
   ]
  },
  {
   "cell_type": "code",
   "execution_count": 17,
   "id": "09d3b05f",
   "metadata": {
    "ExecuteTime": {
     "end_time": "2022-07-19T23:41:36.189997Z",
     "start_time": "2022-07-19T23:41:36.011328Z"
    }
   },
   "outputs": [],
   "source": [
    "anagrams_word_freq = anagram_word_frequency(anagrams)"
   ]
  },
  {
   "cell_type": "code",
   "execution_count": 18,
   "id": "4ad2b41d",
   "metadata": {
    "ExecuteTime": {
     "end_time": "2022-07-19T23:41:36.196936Z",
     "start_time": "2022-07-19T23:41:36.191619Z"
    }
   },
   "outputs": [
    {
     "data": {
      "text/plain": [
       "array([list([('scaup', 0.0)]), list([('sapid', 0.0), ('spaid', 0.0)]),\n",
       "       list([('sprue', 0.0), ('purse', 7.57435155154593e-06), ('super', 3.778589172545123e-05)]),\n",
       "       list([('froth', 2.63645000516847e-07), ('forth', 1.4087471506974736e-05)]),\n",
       "       list([('thane', 2.2736357842737265e-07)]), list([('agush', 0.0)]),\n",
       "       list([('train', 8.49989062904842e-05), ('tarin', 1.9954782149210898e-08), ('trina', 1.1851931215894957e-07), ('intra', 2.539699546263205e-08), ('tairn', 0.0)]),\n",
       "       list([('coney', 1.1368178921368632e-07)]), list([('alogy', 0.0)]),\n",
       "       list([('fumed', 6.772532123368546e-08)])], dtype=object)"
      ]
     },
     "execution_count": 18,
     "metadata": {},
     "output_type": "execute_result"
    }
   ],
   "source": [
    "anagrams_word_freq[:10]"
   ]
  },
  {
   "cell_type": "code",
   "execution_count": 19,
   "id": "6285cb45",
   "metadata": {
    "ExecuteTime": {
     "end_time": "2022-07-19T23:41:36.274671Z",
     "start_time": "2022-07-19T23:41:36.199335Z"
    }
   },
   "outputs": [],
   "source": [
    "# save word_anagrams as csv\n",
    "(pd.DataFrame(anagrams_five_letter_words_no_repeat_letters)\n",
    " .T\n",
    " .reset_index()\n",
    " .rename(columns={\"index\": \"word\", 0: \"anagrams\"})\n",
    ").to_csv(\"./data/anagrams.csv\", index=False)"
   ]
  },
  {
   "cell_type": "markdown",
   "id": "ccdea7e7",
   "metadata": {},
   "source": [
    "## Keep anagrams with the highest frequency"
   ]
  },
  {
   "cell_type": "code",
   "execution_count": 20,
   "id": "ec962ef8",
   "metadata": {
    "ExecuteTime": {
     "end_time": "2022-07-19T23:41:36.304345Z",
     "start_time": "2022-07-19T23:41:36.276680Z"
    }
   },
   "outputs": [
    {
     "data": {
      "text/plain": [
       "array(['abhor', 'abide', 'abies', 'abler', 'abnet', 'abode', 'abord',\n",
       "       'abort', 'about', 'absey'], dtype=object)"
      ]
     },
     "execution_count": 20,
     "metadata": {},
     "output_type": "execute_result"
    }
   ],
   "source": [
    "keep_words = anagram_to_keep(anagrams_word_freq)\n",
    "keep_words[:10]"
   ]
  },
  {
   "cell_type": "code",
   "execution_count": 21,
   "id": "4c05d4b0",
   "metadata": {
    "ExecuteTime": {
     "end_time": "2022-07-19T23:41:36.311331Z",
     "start_time": "2022-07-19T23:41:36.306956Z"
    }
   },
   "outputs": [
    {
     "data": {
      "text/plain": [
       "1418"
      ]
     },
     "execution_count": 21,
     "metadata": {},
     "output_type": "execute_result"
    }
   ],
   "source": [
    "keep_words.size"
   ]
  },
  {
   "cell_type": "code",
   "execution_count": 22,
   "id": "d977790b",
   "metadata": {
    "ExecuteTime": {
     "end_time": "2022-07-19T23:41:36.318858Z",
     "start_time": "2022-07-19T23:41:36.313792Z"
    }
   },
   "outputs": [
    {
     "data": {
      "text/plain": [
       "(array([1150]),)"
      ]
     },
     "execution_count": 22,
     "metadata": {},
     "output_type": "execute_result"
    }
   ],
   "source": [
    "np.where(keep_words == \"suine\")"
   ]
  },
  {
   "cell_type": "code",
   "execution_count": 23,
   "id": "e4897deb",
   "metadata": {
    "ExecuteTime": {
     "end_time": "2022-07-19T23:41:36.324989Z",
     "start_time": "2022-07-19T23:41:36.321138Z"
    }
   },
   "outputs": [],
   "source": [
    "# np.savetxt(\"./data/webster_common_starting_letters_final_words.txt\", keep_words, fmt=\"%s\")\n",
    "\n",
    "# OR\n",
    "with open(\"./data/webster_common_starting_letters_final_words.txt\", mode=\"w\") as file:\n",
    "    file.write(\"\\n\".join(keep_words))"
   ]
  },
  {
   "cell_type": "code",
   "execution_count": null,
   "id": "ea135908",
   "metadata": {},
   "outputs": [],
   "source": []
  }
 ],
 "metadata": {
  "kernelspec": {
   "display_name": "wordle",
   "language": "python",
   "name": "wordle"
  },
  "language_info": {
   "codemirror_mode": {
    "name": "ipython",
    "version": 3
   },
   "file_extension": ".py",
   "mimetype": "text/x-python",
   "name": "python",
   "nbconvert_exporter": "python",
   "pygments_lexer": "ipython3",
   "version": "3.9.7"
  },
  "toc": {
   "base_numbering": 1,
   "nav_menu": {},
   "number_sections": true,
   "sideBar": true,
   "skip_h1_title": false,
   "title_cell": "Table of Contents",
   "title_sidebar": "Contents",
   "toc_cell": false,
   "toc_position": {},
   "toc_section_display": true,
   "toc_window_display": false
  },
  "varInspector": {
   "cols": {
    "lenName": 16,
    "lenType": 16,
    "lenVar": 40
   },
   "kernels_config": {
    "python": {
     "delete_cmd_postfix": "",
     "delete_cmd_prefix": "del ",
     "library": "var_list.py",
     "varRefreshCmd": "print(var_dic_list())"
    },
    "r": {
     "delete_cmd_postfix": ") ",
     "delete_cmd_prefix": "rm(",
     "library": "var_list.r",
     "varRefreshCmd": "cat(var_dic_list()) "
    }
   },
   "types_to_exclude": [
    "module",
    "function",
    "builtin_function_or_method",
    "instance",
    "_Feature"
   ],
   "window_display": false
  }
 },
 "nbformat": 4,
 "nbformat_minor": 5
}
