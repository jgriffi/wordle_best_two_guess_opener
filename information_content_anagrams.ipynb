{
 "cells": [
  {
   "cell_type": "code",
   "execution_count": 1,
   "id": "9e784eb3",
   "metadata": {
    "ExecuteTime": {
     "end_time": "2022-03-27T09:39:20.578489Z",
     "start_time": "2022-03-27T09:39:18.869093Z"
    }
   },
   "outputs": [],
   "source": [
    "import numpy as np\n",
    "import pandas as pd\n",
    "import itertools\n",
    "import random\n",
    "from tqdm import tqdm\n",
    "import re\n",
    "from wordle_helpers import anagram_scoring, all_anagram_scoring\n",
    "\n",
    "import os\n",
    "# where to save the data\n",
    "ROOT_DIR = \".\"\n",
    "FOLDER_NAME = \"data\"\n",
    "PATH_TO_FOLDER = os.path.join(ROOT_DIR, FOLDER_NAME)\n",
    "os.makedirs(PATH_TO_FOLDER, exist_ok=True)"
   ]
  },
  {
   "cell_type": "markdown",
   "id": "d8c0a085",
   "metadata": {},
   "source": [
    "## Load data"
   ]
  },
  {
   "cell_type": "code",
   "execution_count": 2,
   "id": "073eb146",
   "metadata": {
    "ExecuteTime": {
     "end_time": "2022-03-27T09:39:20.588314Z",
     "start_time": "2022-03-27T09:39:20.581063Z"
    }
   },
   "outputs": [],
   "source": [
    "anagrams = pd.read_csv(\"./data/anagrams.csv\")"
   ]
  },
  {
   "cell_type": "code",
   "execution_count": 3,
   "id": "87aeffdb",
   "metadata": {
    "ExecuteTime": {
     "end_time": "2022-03-27T09:39:20.643749Z",
     "start_time": "2022-03-27T09:39:20.589575Z"
    }
   },
   "outputs": [
    {
     "data": {
      "text/html": [
       "<div>\n",
       "<style scoped>\n",
       "    .dataframe tbody tr th:only-of-type {\n",
       "        vertical-align: middle;\n",
       "    }\n",
       "\n",
       "    .dataframe tbody tr th {\n",
       "        vertical-align: top;\n",
       "    }\n",
       "\n",
       "    .dataframe thead th {\n",
       "        text-align: right;\n",
       "    }\n",
       "</style>\n",
       "<table border=\"1\" class=\"dataframe\">\n",
       "  <thead>\n",
       "    <tr style=\"text-align: right;\">\n",
       "      <th></th>\n",
       "      <th>word</th>\n",
       "      <th>anagrams</th>\n",
       "    </tr>\n",
       "  </thead>\n",
       "  <tbody>\n",
       "    <tr>\n",
       "      <th>0</th>\n",
       "      <td>abode</td>\n",
       "      <td>abode, adobe</td>\n",
       "    </tr>\n",
       "    <tr>\n",
       "      <th>1</th>\n",
       "      <td>abort</td>\n",
       "      <td>abort, tabor</td>\n",
       "    </tr>\n",
       "    <tr>\n",
       "      <th>2</th>\n",
       "      <td>acred</td>\n",
       "      <td>acred, cader</td>\n",
       "    </tr>\n",
       "    <tr>\n",
       "      <th>3</th>\n",
       "      <td>acrid</td>\n",
       "      <td>acrid, caird</td>\n",
       "    </tr>\n",
       "    <tr>\n",
       "      <th>4</th>\n",
       "      <td>adept</td>\n",
       "      <td>adept, pated</td>\n",
       "    </tr>\n",
       "    <tr>\n",
       "      <th>...</th>\n",
       "      <td>...</td>\n",
       "      <td>...</td>\n",
       "    </tr>\n",
       "    <tr>\n",
       "      <th>413</th>\n",
       "      <td>worth</td>\n",
       "      <td>worth, wroth, whort</td>\n",
       "    </tr>\n",
       "    <tr>\n",
       "      <th>414</th>\n",
       "      <td>wrath</td>\n",
       "      <td>wrath, thraw</td>\n",
       "    </tr>\n",
       "    <tr>\n",
       "      <th>415</th>\n",
       "      <td>wreak</td>\n",
       "      <td>wreak, waker</td>\n",
       "    </tr>\n",
       "    <tr>\n",
       "      <th>416</th>\n",
       "      <td>wrote</td>\n",
       "      <td>wrote, tower</td>\n",
       "    </tr>\n",
       "    <tr>\n",
       "      <th>417</th>\n",
       "      <td>wroth</td>\n",
       "      <td>wroth, whort</td>\n",
       "    </tr>\n",
       "  </tbody>\n",
       "</table>\n",
       "<p>418 rows × 2 columns</p>\n",
       "</div>"
      ],
      "text/plain": [
       "      word             anagrams\n",
       "0    abode         abode, adobe\n",
       "1    abort         abort, tabor\n",
       "2    acred         acred, cader\n",
       "3    acrid         acrid, caird\n",
       "4    adept         adept, pated\n",
       "..     ...                  ...\n",
       "413  worth  worth, wroth, whort\n",
       "414  wrath         wrath, thraw\n",
       "415  wreak         wreak, waker\n",
       "416  wrote         wrote, tower\n",
       "417  wroth         wroth, whort\n",
       "\n",
       "[418 rows x 2 columns]"
      ]
     },
     "execution_count": 3,
     "metadata": {},
     "output_type": "execute_result"
    }
   ],
   "source": [
    "anagrams"
   ]
  },
  {
   "cell_type": "code",
   "execution_count": 4,
   "id": "ad2ad422",
   "metadata": {
    "ExecuteTime": {
     "end_time": "2022-03-27T09:39:20.653641Z",
     "start_time": "2022-03-27T09:39:20.646032Z"
    }
   },
   "outputs": [
    {
     "name": "stdout",
     "output_type": "stream",
     "text": [
      "<class 'pandas.core.frame.DataFrame'>\n",
      "RangeIndex: 418 entries, 0 to 417\n",
      "Data columns (total 2 columns):\n",
      " #   Column    Non-Null Count  Dtype \n",
      "---  ------    --------------  ----- \n",
      " 0   word      418 non-null    object\n",
      " 1   anagrams  418 non-null    object\n",
      "dtypes: object(2)\n",
      "memory usage: 6.7+ KB\n"
     ]
    }
   ],
   "source": [
    "anagrams.info()"
   ]
  },
  {
   "cell_type": "code",
   "execution_count": 5,
   "id": "4a29c137",
   "metadata": {
    "ExecuteTime": {
     "end_time": "2022-03-27T09:39:20.658257Z",
     "start_time": "2022-03-27T09:39:20.655078Z"
    }
   },
   "outputs": [
    {
     "data": {
      "text/plain": [
       "418"
      ]
     },
     "execution_count": 5,
     "metadata": {},
     "output_type": "execute_result"
    }
   ],
   "source": [
    "anagrams[\"word\"].nunique()"
   ]
  },
  {
   "cell_type": "markdown",
   "id": "9b832824",
   "metadata": {},
   "source": [
    "## Number of anagrams"
   ]
  },
  {
   "cell_type": "code",
   "execution_count": 6,
   "id": "d215bd2c",
   "metadata": {},
   "outputs": [],
   "source": [
    "anagrams = (anagrams\n",
    "            .assign(num_anagrams = list(map(lambda pair: len(pair.split(\", \")), anagrams[\"anagrams\"])))\n",
    "            .assign(word_length = list(map(lambda word: len(word), anagrams[\"word\"])))\n",
    "           )"
   ]
  },
  {
   "cell_type": "code",
   "execution_count": 7,
   "id": "b5e808f9",
   "metadata": {
    "ExecuteTime": {
     "end_time": "2022-03-27T09:39:20.713826Z",
     "start_time": "2022-03-27T09:39:20.707270Z"
    }
   },
   "outputs": [
    {
     "data": {
      "text/html": [
       "<div>\n",
       "<style scoped>\n",
       "    .dataframe tbody tr th:only-of-type {\n",
       "        vertical-align: middle;\n",
       "    }\n",
       "\n",
       "    .dataframe tbody tr th {\n",
       "        vertical-align: top;\n",
       "    }\n",
       "\n",
       "    .dataframe thead th {\n",
       "        text-align: right;\n",
       "    }\n",
       "</style>\n",
       "<table border=\"1\" class=\"dataframe\">\n",
       "  <thead>\n",
       "    <tr style=\"text-align: right;\">\n",
       "      <th></th>\n",
       "      <th>word</th>\n",
       "      <th>anagrams</th>\n",
       "      <th>num_anagrams</th>\n",
       "      <th>word_length</th>\n",
       "    </tr>\n",
       "  </thead>\n",
       "  <tbody>\n",
       "    <tr>\n",
       "      <th>317</th>\n",
       "      <td>steal</td>\n",
       "      <td>steal, tales, slate, stale, satle, stela, astel</td>\n",
       "      <td>7</td>\n",
       "      <td>5</td>\n",
       "    </tr>\n",
       "  </tbody>\n",
       "</table>\n",
       "</div>"
      ],
      "text/plain": [
       "      word                                         anagrams  num_anagrams  \\\n",
       "317  steal  steal, tales, slate, stale, satle, stela, astel             7   \n",
       "\n",
       "     word_length  \n",
       "317            5  "
      ]
     },
     "execution_count": 7,
     "metadata": {},
     "output_type": "execute_result"
    }
   ],
   "source": [
    "anagrams.loc[anagrams[\"num_anagrams\"] == anagrams[\"num_anagrams\"].max()]"
   ]
  },
  {
   "cell_type": "code",
   "execution_count": 8,
   "id": "c26135ca",
   "metadata": {
    "scrolled": true
   },
   "outputs": [
    {
     "data": {
      "text/plain": [
       "317"
      ]
     },
     "execution_count": 8,
     "metadata": {},
     "output_type": "execute_result"
    }
   ],
   "source": [
    "anagrams[\"num_anagrams\"].idxmax()"
   ]
  },
  {
   "cell_type": "code",
   "execution_count": 9,
   "id": "07ddf30f",
   "metadata": {
    "ExecuteTime": {
     "end_time": "2022-03-27T09:39:20.724837Z",
     "start_time": "2022-03-27T09:39:20.721485Z"
    }
   },
   "outputs": [
    {
     "data": {
      "text/plain": [
       "317"
      ]
     },
     "execution_count": 9,
     "metadata": {},
     "output_type": "execute_result"
    }
   ],
   "source": [
    "indx = np.argmax(anagrams[\"num_anagrams\"])\n",
    "indx"
   ]
  },
  {
   "cell_type": "code",
   "execution_count": 10,
   "id": "5ee7a4a4",
   "metadata": {},
   "outputs": [
    {
     "data": {
      "text/plain": [
       "word                                                      steal\n",
       "anagrams        steal, tales, slate, stale, satle, stela, astel\n",
       "num_anagrams                                                  7\n",
       "word_length                                                   5\n",
       "Name: 317, dtype: object"
      ]
     },
     "execution_count": 10,
     "metadata": {},
     "output_type": "execute_result"
    }
   ],
   "source": [
    "(anagrams\n",
    " .query(\"num_anagrams.idxmax()\")\n",
    ")"
   ]
  },
  {
   "cell_type": "code",
   "execution_count": 11,
   "id": "9db1ef01",
   "metadata": {
    "ExecuteTime": {
     "end_time": "2022-03-27T09:39:20.734056Z",
     "start_time": "2022-03-27T09:39:20.730861Z"
    }
   },
   "outputs": [
    {
     "data": {
      "text/plain": [
       "['steal', 'tales', 'slate', 'stale', 'satle', 'stela', 'astel']"
      ]
     },
     "execution_count": 11,
     "metadata": {},
     "output_type": "execute_result"
    }
   ],
   "source": [
    "words = anagrams[\"anagrams\"].iloc[indx].split(\", \")\n",
    "words"
   ]
  },
  {
   "cell_type": "markdown",
   "id": "170b4785",
   "metadata": {},
   "source": [
    "## Scoring anagrams"
   ]
  },
  {
   "cell_type": "code",
   "execution_count": 12,
   "id": "60d19c72",
   "metadata": {
    "ExecuteTime": {
     "end_time": "2022-03-27T09:39:20.739470Z",
     "start_time": "2022-03-27T09:39:20.735966Z"
    }
   },
   "outputs": [
    {
     "data": {
      "text/plain": [
       "'steal'"
      ]
     },
     "execution_count": 12,
     "metadata": {},
     "output_type": "execute_result"
    }
   ],
   "source": [
    "challenge = words[0]\n",
    "challenge"
   ]
  },
  {
   "cell_type": "code",
   "execution_count": 13,
   "id": "8f0be586",
   "metadata": {
    "ExecuteTime": {
     "end_time": "2022-03-27T09:39:20.744467Z",
     "start_time": "2022-03-27T09:39:20.740723Z"
    }
   },
   "outputs": [
    {
     "data": {
      "text/plain": [
       "['tales', 'slate', 'stale', 'satle', 'stela', 'astel']"
      ]
     },
     "execution_count": 13,
     "metadata": {},
     "output_type": "execute_result"
    }
   ],
   "source": [
    "guess_anagrams = words[1:]\n",
    "guess_anagrams"
   ]
  },
  {
   "cell_type": "code",
   "execution_count": 14,
   "id": "5bffb7cd",
   "metadata": {
    "ExecuteTime": {
     "end_time": "2022-03-27T09:39:20.750259Z",
     "start_time": "2022-03-27T09:39:20.745624Z"
    }
   },
   "outputs": [],
   "source": [
    "data = []\n",
    "for guess in guess_anagrams:\n",
    "    paired = zip(challenge, guess)\n",
    "    scores = np.zeros(5, dtype=np.int8)\n",
    "    for x, (i, j) in enumerate(paired):\n",
    "#         print((x, (i, j)))\n",
    "        if i == j:\n",
    "            scores[x] = 1\n",
    "        elif i != j and j in challenge:\n",
    "            scores[x] = 0\n",
    "        else:\n",
    "            scores[x] = -1\n",
    "            \n",
    "    temp = {\n",
    "        \"challenge_word\": challenge,\n",
    "        \"guess\": guess,\n",
    "        \"positional_scores\": re.sub(r\"[\\[\\]]\", \"\", str(scores)).replace(\"\\n\", \",\"),\n",
    "        \"overall_scores\": np.sum(scores, dtype=np.int8),\n",
    "    }\n",
    "    data.append(temp)"
   ]
  },
  {
   "cell_type": "code",
   "execution_count": 15,
   "id": "1191b33e",
   "metadata": {
    "ExecuteTime": {
     "end_time": "2022-03-27T09:39:20.755089Z",
     "start_time": "2022-03-27T09:39:20.751500Z"
    }
   },
   "outputs": [],
   "source": [
    "df = pd.DataFrame(data)"
   ]
  },
  {
   "cell_type": "code",
   "execution_count": 16,
   "id": "03d97e8e",
   "metadata": {
    "ExecuteTime": {
     "end_time": "2022-03-27T09:39:20.764685Z",
     "start_time": "2022-03-27T09:39:20.757476Z"
    }
   },
   "outputs": [
    {
     "data": {
      "text/html": [
       "<div>\n",
       "<style scoped>\n",
       "    .dataframe tbody tr th:only-of-type {\n",
       "        vertical-align: middle;\n",
       "    }\n",
       "\n",
       "    .dataframe tbody tr th {\n",
       "        vertical-align: top;\n",
       "    }\n",
       "\n",
       "    .dataframe thead th {\n",
       "        text-align: right;\n",
       "    }\n",
       "</style>\n",
       "<table border=\"1\" class=\"dataframe\">\n",
       "  <thead>\n",
       "    <tr style=\"text-align: right;\">\n",
       "      <th></th>\n",
       "      <th>challenge_word</th>\n",
       "      <th>guess</th>\n",
       "      <th>positional_scores</th>\n",
       "      <th>overall_scores</th>\n",
       "    </tr>\n",
       "  </thead>\n",
       "  <tbody>\n",
       "    <tr>\n",
       "      <th>0</th>\n",
       "      <td>steal</td>\n",
       "      <td>tales</td>\n",
       "      <td>0 0 0 0 0</td>\n",
       "      <td>0</td>\n",
       "    </tr>\n",
       "    <tr>\n",
       "      <th>1</th>\n",
       "      <td>steal</td>\n",
       "      <td>slate</td>\n",
       "      <td>1 0 0 0 0</td>\n",
       "      <td>1</td>\n",
       "    </tr>\n",
       "    <tr>\n",
       "      <th>2</th>\n",
       "      <td>steal</td>\n",
       "      <td>stale</td>\n",
       "      <td>1 1 0 0 0</td>\n",
       "      <td>2</td>\n",
       "    </tr>\n",
       "    <tr>\n",
       "      <th>3</th>\n",
       "      <td>steal</td>\n",
       "      <td>satle</td>\n",
       "      <td>1 0 0 0 0</td>\n",
       "      <td>1</td>\n",
       "    </tr>\n",
       "    <tr>\n",
       "      <th>4</th>\n",
       "      <td>steal</td>\n",
       "      <td>stela</td>\n",
       "      <td>1 1 1 0 0</td>\n",
       "      <td>3</td>\n",
       "    </tr>\n",
       "    <tr>\n",
       "      <th>5</th>\n",
       "      <td>steal</td>\n",
       "      <td>astel</td>\n",
       "      <td>0 0 0 0 1</td>\n",
       "      <td>1</td>\n",
       "    </tr>\n",
       "  </tbody>\n",
       "</table>\n",
       "</div>"
      ],
      "text/plain": [
       "  challenge_word  guess positional_scores  overall_scores\n",
       "0          steal  tales         0 0 0 0 0               0\n",
       "1          steal  slate         1 0 0 0 0               1\n",
       "2          steal  stale         1 1 0 0 0               2\n",
       "3          steal  satle         1 0 0 0 0               1\n",
       "4          steal  stela         1 1 1 0 0               3\n",
       "5          steal  astel         0 0 0 0 1               1"
      ]
     },
     "execution_count": 16,
     "metadata": {},
     "output_type": "execute_result"
    }
   ],
   "source": [
    "df"
   ]
  },
  {
   "cell_type": "code",
   "execution_count": 17,
   "id": "6a75394d",
   "metadata": {
    "ExecuteTime": {
     "end_time": "2022-03-27T09:39:20.773108Z",
     "start_time": "2022-03-27T09:39:20.766376Z"
    }
   },
   "outputs": [
    {
     "data": {
      "text/html": [
       "<div>\n",
       "<style scoped>\n",
       "    .dataframe tbody tr th:only-of-type {\n",
       "        vertical-align: middle;\n",
       "    }\n",
       "\n",
       "    .dataframe tbody tr th {\n",
       "        vertical-align: top;\n",
       "    }\n",
       "\n",
       "    .dataframe thead th {\n",
       "        text-align: right;\n",
       "    }\n",
       "</style>\n",
       "<table border=\"1\" class=\"dataframe\">\n",
       "  <thead>\n",
       "    <tr style=\"text-align: right;\">\n",
       "      <th></th>\n",
       "      <th>word</th>\n",
       "      <th>anagrams</th>\n",
       "      <th>num_anagrams</th>\n",
       "      <th>word_length</th>\n",
       "    </tr>\n",
       "  </thead>\n",
       "  <tbody>\n",
       "    <tr>\n",
       "      <th>11</th>\n",
       "      <td>alien</td>\n",
       "      <td>alien, aline, anile</td>\n",
       "      <td>3</td>\n",
       "      <td>5</td>\n",
       "    </tr>\n",
       "    <tr>\n",
       "      <th>24</th>\n",
       "      <td>ample</td>\n",
       "      <td>ample, maple, pelma</td>\n",
       "      <td>3</td>\n",
       "      <td>5</td>\n",
       "    </tr>\n",
       "    <tr>\n",
       "      <th>32</th>\n",
       "      <td>argol</td>\n",
       "      <td>argol, algor, orgal</td>\n",
       "      <td>3</td>\n",
       "      <td>5</td>\n",
       "    </tr>\n",
       "    <tr>\n",
       "      <th>33</th>\n",
       "      <td>argon</td>\n",
       "      <td>argon, orang, angor</td>\n",
       "      <td>3</td>\n",
       "      <td>5</td>\n",
       "    </tr>\n",
       "    <tr>\n",
       "      <th>34</th>\n",
       "      <td>aries</td>\n",
       "      <td>aries, serai, aesir</td>\n",
       "      <td>3</td>\n",
       "      <td>5</td>\n",
       "    </tr>\n",
       "  </tbody>\n",
       "</table>\n",
       "</div>"
      ],
      "text/plain": [
       "     word             anagrams  num_anagrams  word_length\n",
       "11  alien  alien, aline, anile             3            5\n",
       "24  ample  ample, maple, pelma             3            5\n",
       "32  argol  argol, algor, orgal             3            5\n",
       "33  argon  argon, orang, angor             3            5\n",
       "34  aries  aries, serai, aesir             3            5"
      ]
     },
     "execution_count": 17,
     "metadata": {},
     "output_type": "execute_result"
    }
   ],
   "source": [
    "# 3 anagram words\n",
    "anagrams.loc[anagrams[\"num_anagrams\"] == 3].iloc[:5]"
   ]
  },
  {
   "cell_type": "markdown",
   "id": "42b25dcf",
   "metadata": {},
   "source": [
    "### Scoring each anagram against itself"
   ]
  },
  {
   "cell_type": "code",
   "execution_count": 18,
   "id": "cc2aaf54",
   "metadata": {
    "ExecuteTime": {
     "end_time": "2022-03-27T09:39:20.782882Z",
     "start_time": "2022-03-27T09:39:20.775432Z"
    }
   },
   "outputs": [],
   "source": [
    "data2 = []\n",
    "num_guesses = len(words)\n",
    "counter = 0\n",
    "\n",
    "while counter < num_guesses:\n",
    "    for word in words:\n",
    "        guess = words[counter]\n",
    "        combo_guess_word = zip(guess, word)\n",
    "        scores = np.zeros(5, dtype=np.int8)\n",
    "        for x, (i, j) in enumerate(combo_guess_word):\n",
    "            if i == j:\n",
    "                scores[x] = 1\n",
    "            elif i != j and j in word:\n",
    "                scores[x] = 0\n",
    "            else:\n",
    "                scores[x] = -1\n",
    "        data2.append(re.sub(r\"[\\[\\]]\", \"\", str(scores)).replace(\"\\n\", \",\"))\n",
    "    counter += 1   "
   ]
  },
  {
   "cell_type": "code",
   "execution_count": 19,
   "id": "880232c4",
   "metadata": {
    "ExecuteTime": {
     "end_time": "2022-03-27T09:39:20.788858Z",
     "start_time": "2022-03-27T09:39:20.784737Z"
    }
   },
   "outputs": [
    {
     "data": {
      "text/plain": [
       "['1 1 1 1 1',\n",
       " '0 0 0 0 0',\n",
       " '1 0 0 0 0',\n",
       " '1 1 0 0 0',\n",
       " '1 0 0 0 0',\n",
       " '1 1 1 0 0',\n",
       " '0 0 0 0 1']"
      ]
     },
     "execution_count": 19,
     "metadata": {},
     "output_type": "execute_result"
    }
   ],
   "source": [
    "data2[:7]"
   ]
  },
  {
   "cell_type": "code",
   "execution_count": 20,
   "id": "d17e82c5",
   "metadata": {
    "ExecuteTime": {
     "end_time": "2022-03-27T09:39:20.793910Z",
     "start_time": "2022-03-27T09:39:20.790387Z"
    }
   },
   "outputs": [
    {
     "data": {
      "text/plain": [
       "(49, 7)"
      ]
     },
     "execution_count": 20,
     "metadata": {},
     "output_type": "execute_result"
    }
   ],
   "source": [
    "len(data2), num_guesses"
   ]
  },
  {
   "cell_type": "code",
   "execution_count": 21,
   "id": "c6e1d1c1",
   "metadata": {
    "ExecuteTime": {
     "end_time": "2022-03-27T09:39:20.805686Z",
     "start_time": "2022-03-27T09:39:20.802099Z"
    }
   },
   "outputs": [
    {
     "data": {
      "text/plain": [
       "array([['1 1 1 1 1', '0 0 0 0 0', '1 0 0 0 0', '1 1 0 0 0', '1 0 0 0 0',\n",
       "        '1 1 1 0 0', '0 0 0 0 1'],\n",
       "       ['0 0 0 0 0', '1 1 1 1 1', '0 0 0 0 0', '0 0 0 0 0', '0 1 0 0 0',\n",
       "        '0 0 0 0 0', '0 0 0 1 0'],\n",
       "       ['1 0 0 0 0', '0 0 0 0 0', '1 1 1 1 1', '1 0 1 0 1', '1 0 0 0 1',\n",
       "        '1 0 0 0 0', '0 0 0 0 0'],\n",
       "       ['1 1 0 0 0', '0 0 0 0 0', '1 0 1 0 1', '1 1 1 1 1', '1 0 0 1 1',\n",
       "        '1 1 0 1 0', '0 0 0 0 0'],\n",
       "       ['1 0 0 0 0', '0 1 0 0 0', '1 0 0 0 1', '1 0 0 1 1', '1 1 1 1 1',\n",
       "        '1 0 0 1 0', '0 0 1 0 0'],\n",
       "       ['1 1 1 0 0', '0 0 0 0 0', '1 0 0 0 0', '1 1 0 1 0', '1 0 0 1 0',\n",
       "        '1 1 1 1 1', '0 0 0 0 0'],\n",
       "       ['0 0 0 0 1', '0 0 0 1 0', '0 0 0 0 0', '0 0 0 0 0', '0 0 1 0 0',\n",
       "        '0 0 0 0 0', '1 1 1 1 1']], dtype='<U9')"
      ]
     },
     "execution_count": 21,
     "metadata": {},
     "output_type": "execute_result"
    }
   ],
   "source": [
    "# Every 7th value (num guesses) in data2 represents the next guess word scored against the challenge word\n",
    "# so we can reshape data2 to be a 7x7 array\n",
    "np.array(data2).reshape(num_guesses, num_guesses)"
   ]
  },
  {
   "cell_type": "code",
   "execution_count": 22,
   "id": "f4948a12",
   "metadata": {
    "ExecuteTime": {
     "end_time": "2022-03-27T09:39:20.810757Z",
     "start_time": "2022-03-27T09:39:20.807118Z"
    }
   },
   "outputs": [],
   "source": [
    "df2 = pd.DataFrame(np.array(data2).reshape(7, 7), columns=words, index=words)"
   ]
  },
  {
   "cell_type": "code",
   "execution_count": 23,
   "id": "1b0b2962",
   "metadata": {
    "ExecuteTime": {
     "end_time": "2022-03-27T09:39:20.820961Z",
     "start_time": "2022-03-27T09:39:20.812618Z"
    }
   },
   "outputs": [
    {
     "data": {
      "text/html": [
       "<div>\n",
       "<style scoped>\n",
       "    .dataframe tbody tr th:only-of-type {\n",
       "        vertical-align: middle;\n",
       "    }\n",
       "\n",
       "    .dataframe tbody tr th {\n",
       "        vertical-align: top;\n",
       "    }\n",
       "\n",
       "    .dataframe thead th {\n",
       "        text-align: right;\n",
       "    }\n",
       "</style>\n",
       "<table border=\"1\" class=\"dataframe\">\n",
       "  <thead>\n",
       "    <tr style=\"text-align: right;\">\n",
       "      <th></th>\n",
       "      <th>steal</th>\n",
       "      <th>tales</th>\n",
       "      <th>slate</th>\n",
       "      <th>stale</th>\n",
       "      <th>satle</th>\n",
       "      <th>stela</th>\n",
       "      <th>astel</th>\n",
       "    </tr>\n",
       "  </thead>\n",
       "  <tbody>\n",
       "    <tr>\n",
       "      <th>steal</th>\n",
       "      <td>1 1 1 1 1</td>\n",
       "      <td>0 0 0 0 0</td>\n",
       "      <td>1 0 0 0 0</td>\n",
       "      <td>1 1 0 0 0</td>\n",
       "      <td>1 0 0 0 0</td>\n",
       "      <td>1 1 1 0 0</td>\n",
       "      <td>0 0 0 0 1</td>\n",
       "    </tr>\n",
       "    <tr>\n",
       "      <th>tales</th>\n",
       "      <td>0 0 0 0 0</td>\n",
       "      <td>1 1 1 1 1</td>\n",
       "      <td>0 0 0 0 0</td>\n",
       "      <td>0 0 0 0 0</td>\n",
       "      <td>0 1 0 0 0</td>\n",
       "      <td>0 0 0 0 0</td>\n",
       "      <td>0 0 0 1 0</td>\n",
       "    </tr>\n",
       "    <tr>\n",
       "      <th>slate</th>\n",
       "      <td>1 0 0 0 0</td>\n",
       "      <td>0 0 0 0 0</td>\n",
       "      <td>1 1 1 1 1</td>\n",
       "      <td>1 0 1 0 1</td>\n",
       "      <td>1 0 0 0 1</td>\n",
       "      <td>1 0 0 0 0</td>\n",
       "      <td>0 0 0 0 0</td>\n",
       "    </tr>\n",
       "    <tr>\n",
       "      <th>stale</th>\n",
       "      <td>1 1 0 0 0</td>\n",
       "      <td>0 0 0 0 0</td>\n",
       "      <td>1 0 1 0 1</td>\n",
       "      <td>1 1 1 1 1</td>\n",
       "      <td>1 0 0 1 1</td>\n",
       "      <td>1 1 0 1 0</td>\n",
       "      <td>0 0 0 0 0</td>\n",
       "    </tr>\n",
       "    <tr>\n",
       "      <th>satle</th>\n",
       "      <td>1 0 0 0 0</td>\n",
       "      <td>0 1 0 0 0</td>\n",
       "      <td>1 0 0 0 1</td>\n",
       "      <td>1 0 0 1 1</td>\n",
       "      <td>1 1 1 1 1</td>\n",
       "      <td>1 0 0 1 0</td>\n",
       "      <td>0 0 1 0 0</td>\n",
       "    </tr>\n",
       "    <tr>\n",
       "      <th>stela</th>\n",
       "      <td>1 1 1 0 0</td>\n",
       "      <td>0 0 0 0 0</td>\n",
       "      <td>1 0 0 0 0</td>\n",
       "      <td>1 1 0 1 0</td>\n",
       "      <td>1 0 0 1 0</td>\n",
       "      <td>1 1 1 1 1</td>\n",
       "      <td>0 0 0 0 0</td>\n",
       "    </tr>\n",
       "    <tr>\n",
       "      <th>astel</th>\n",
       "      <td>0 0 0 0 1</td>\n",
       "      <td>0 0 0 1 0</td>\n",
       "      <td>0 0 0 0 0</td>\n",
       "      <td>0 0 0 0 0</td>\n",
       "      <td>0 0 1 0 0</td>\n",
       "      <td>0 0 0 0 0</td>\n",
       "      <td>1 1 1 1 1</td>\n",
       "    </tr>\n",
       "  </tbody>\n",
       "</table>\n",
       "</div>"
      ],
      "text/plain": [
       "           steal      tales      slate      stale      satle      stela  \\\n",
       "steal  1 1 1 1 1  0 0 0 0 0  1 0 0 0 0  1 1 0 0 0  1 0 0 0 0  1 1 1 0 0   \n",
       "tales  0 0 0 0 0  1 1 1 1 1  0 0 0 0 0  0 0 0 0 0  0 1 0 0 0  0 0 0 0 0   \n",
       "slate  1 0 0 0 0  0 0 0 0 0  1 1 1 1 1  1 0 1 0 1  1 0 0 0 1  1 0 0 0 0   \n",
       "stale  1 1 0 0 0  0 0 0 0 0  1 0 1 0 1  1 1 1 1 1  1 0 0 1 1  1 1 0 1 0   \n",
       "satle  1 0 0 0 0  0 1 0 0 0  1 0 0 0 1  1 0 0 1 1  1 1 1 1 1  1 0 0 1 0   \n",
       "stela  1 1 1 0 0  0 0 0 0 0  1 0 0 0 0  1 1 0 1 0  1 0 0 1 0  1 1 1 1 1   \n",
       "astel  0 0 0 0 1  0 0 0 1 0  0 0 0 0 0  0 0 0 0 0  0 0 1 0 0  0 0 0 0 0   \n",
       "\n",
       "           astel  \n",
       "steal  0 0 0 0 1  \n",
       "tales  0 0 0 1 0  \n",
       "slate  0 0 0 0 0  \n",
       "stale  0 0 0 0 0  \n",
       "satle  0 0 1 0 0  \n",
       "stela  0 0 0 0 0  \n",
       "astel  1 1 1 1 1  "
      ]
     },
     "execution_count": 23,
     "metadata": {},
     "output_type": "execute_result"
    }
   ],
   "source": [
    "df2"
   ]
  },
  {
   "cell_type": "code",
   "execution_count": null,
   "id": "5038d006",
   "metadata": {},
   "outputs": [],
   "source": []
  },
  {
   "cell_type": "markdown",
   "id": "ca3f08d6",
   "metadata": {},
   "source": [
    "### Take the anagram dataframe and randomly select a word to display the scoring"
   ]
  },
  {
   "cell_type": "code",
   "execution_count": 24,
   "id": "234421d0",
   "metadata": {
    "ExecuteTime": {
     "end_time": "2022-03-27T09:39:20.828321Z",
     "start_time": "2022-03-27T09:39:20.822441Z"
    }
   },
   "outputs": [
    {
     "data": {
      "text/html": [
       "<div>\n",
       "<style scoped>\n",
       "    .dataframe tbody tr th:only-of-type {\n",
       "        vertical-align: middle;\n",
       "    }\n",
       "\n",
       "    .dataframe tbody tr th {\n",
       "        vertical-align: top;\n",
       "    }\n",
       "\n",
       "    .dataframe thead th {\n",
       "        text-align: right;\n",
       "    }\n",
       "</style>\n",
       "<table border=\"1\" class=\"dataframe\">\n",
       "  <thead>\n",
       "    <tr style=\"text-align: right;\">\n",
       "      <th></th>\n",
       "      <th>inust</th>\n",
       "      <th>suint</th>\n",
       "    </tr>\n",
       "  </thead>\n",
       "  <tbody>\n",
       "    <tr>\n",
       "      <th>inust</th>\n",
       "      <td>1 1 1 1 1</td>\n",
       "      <td>0 0 0 0 1</td>\n",
       "    </tr>\n",
       "    <tr>\n",
       "      <th>suint</th>\n",
       "      <td>0 0 0 0 1</td>\n",
       "      <td>1 1 1 1 1</td>\n",
       "    </tr>\n",
       "  </tbody>\n",
       "</table>\n",
       "</div>"
      ],
      "text/plain": [
       "           inust      suint\n",
       "inust  1 1 1 1 1  0 0 0 0 1\n",
       "suint  0 0 0 0 1  1 1 1 1 1"
      ]
     },
     "execution_count": 24,
     "metadata": {},
     "output_type": "execute_result"
    }
   ],
   "source": [
    "# show score for random anagrams\n",
    "anagram_scoring_df = anagram_scoring(anagrams)\n",
    "anagram_scoring_df"
   ]
  },
  {
   "cell_type": "markdown",
   "id": "b2422824",
   "metadata": {},
   "source": [
    "### Score all anagrams against each other. The scoring partners which aren't anagrams will contain `-1s`  "
   ]
  },
  {
   "cell_type": "code",
   "execution_count": 25,
   "id": "04b112e8",
   "metadata": {
    "ExecuteTime": {
     "start_time": "2022-03-27T09:39:18.938Z"
    }
   },
   "outputs": [
    {
     "name": "stderr",
     "output_type": "stream",
     "text": [
      "100%|█████████████████████████████████████████| 726/726 [00:42<00:00, 17.15it/s]\n"
     ]
    }
   ],
   "source": [
    "all_anagram_scoring_df = all_anagram_scoring(anagrams)"
   ]
  },
  {
   "cell_type": "code",
   "execution_count": 26,
   "id": "b86225f0",
   "metadata": {
    "ExecuteTime": {
     "start_time": "2022-03-27T09:39:18.940Z"
    }
   },
   "outputs": [
    {
     "name": "stdout",
     "output_type": "stream",
     "text": [
      "<class 'pandas.core.frame.DataFrame'>\n",
      "Index: 726 entries, clape to thewy\n",
      "Columns: 726 entries, clape to thewy\n",
      "dtypes: string(726)\n",
      "memory usage: 9.1 MB\n"
     ]
    }
   ],
   "source": [
    "all_anagram_scoring_df.info(memory_usage=\"deep\")"
   ]
  },
  {
   "cell_type": "code",
   "execution_count": 27,
   "id": "33d96b63",
   "metadata": {
    "ExecuteTime": {
     "start_time": "2022-03-27T09:39:18.943Z"
    }
   },
   "outputs": [
    {
     "data": {
      "text/html": [
       "<div>\n",
       "<style scoped>\n",
       "    .dataframe tbody tr th:only-of-type {\n",
       "        vertical-align: middle;\n",
       "    }\n",
       "\n",
       "    .dataframe tbody tr th {\n",
       "        vertical-align: top;\n",
       "    }\n",
       "\n",
       "    .dataframe thead th {\n",
       "        text-align: right;\n",
       "    }\n",
       "</style>\n",
       "<table border=\"1\" class=\"dataframe\">\n",
       "  <thead>\n",
       "    <tr style=\"text-align: right;\">\n",
       "      <th></th>\n",
       "      <th>clape</th>\n",
       "      <th>scate</th>\n",
       "      <th>plane</th>\n",
       "      <th>meant</th>\n",
       "      <th>thrum</th>\n",
       "      <th>algin</th>\n",
       "      <th>slate</th>\n",
       "      <th>shoer</th>\n",
       "      <th>apert</th>\n",
       "      <th>mavis</th>\n",
       "      <th>...</th>\n",
       "      <th>piles</th>\n",
       "      <th>scary</th>\n",
       "      <th>stirp</th>\n",
       "      <th>satyr</th>\n",
       "      <th>whale</th>\n",
       "      <th>sward</th>\n",
       "      <th>smote</th>\n",
       "      <th>mythe</th>\n",
       "      <th>cates</th>\n",
       "      <th>thewy</th>\n",
       "    </tr>\n",
       "  </thead>\n",
       "  <tbody>\n",
       "    <tr>\n",
       "      <th>clape</th>\n",
       "      <td>1 1 1 1 1</td>\n",
       "      <td>-1  0  1 -1  1</td>\n",
       "      <td>0  1  1 -1  1</td>\n",
       "      <td>-1  0  1 -1 -1</td>\n",
       "      <td>-1 -1 -1 -1 -1</td>\n",
       "      <td>0  1 -1 -1 -1</td>\n",
       "      <td>-1  1  1 -1  1</td>\n",
       "      <td>-1 -1 -1  0 -1</td>\n",
       "      <td>0  0  0 -1 -1</td>\n",
       "      <td>-1  0 -1 -1 -1</td>\n",
       "      <td>...</td>\n",
       "      <td>0 -1  0  0 -1</td>\n",
       "      <td>-1  0  1 -1 -1</td>\n",
       "      <td>-1 -1 -1 -1  0</td>\n",
       "      <td>-1  0 -1 -1 -1</td>\n",
       "      <td>-1 -1  1  0  1</td>\n",
       "      <td>-1 -1  1 -1 -1</td>\n",
       "      <td>-1 -1 -1 -1  1</td>\n",
       "      <td>-1 -1 -1 -1  1</td>\n",
       "      <td>1  0 -1  0 -1</td>\n",
       "      <td>-1 -1  0 -1 -1</td>\n",
       "    </tr>\n",
       "    <tr>\n",
       "      <th>scate</th>\n",
       "      <td>0 -1  1 -1  1</td>\n",
       "      <td>1 1 1 1 1</td>\n",
       "      <td>-1 -1  1 -1  1</td>\n",
       "      <td>-1  0  1 -1  0</td>\n",
       "      <td>0 -1 -1 -1 -1</td>\n",
       "      <td>0 -1 -1 -1 -1</td>\n",
       "      <td>1 -1  1  1  1</td>\n",
       "      <td>1 -1 -1  0 -1</td>\n",
       "      <td>0 -1  0 -1  0</td>\n",
       "      <td>-1  0 -1 -1  0</td>\n",
       "      <td>...</td>\n",
       "      <td>-1 -1 -1  0  0</td>\n",
       "      <td>1  1  1 -1 -1</td>\n",
       "      <td>1  0 -1 -1 -1</td>\n",
       "      <td>1  0  0 -1 -1</td>\n",
       "      <td>-1 -1  1 -1  1</td>\n",
       "      <td>1 -1  1 -1 -1</td>\n",
       "      <td>1 -1 -1  1  1</td>\n",
       "      <td>-1 -1  0 -1  1</td>\n",
       "      <td>0 0 0 0 0</td>\n",
       "      <td>0 -1  0 -1 -1</td>\n",
       "    </tr>\n",
       "    <tr>\n",
       "      <th>plane</th>\n",
       "      <td>-1  1  1  0  1</td>\n",
       "      <td>-1 -1  1 -1  1</td>\n",
       "      <td>1 1 1 1 1</td>\n",
       "      <td>-1  0  1  1 -1</td>\n",
       "      <td>-1 -1 -1 -1 -1</td>\n",
       "      <td>0  1 -1 -1  0</td>\n",
       "      <td>-1  1  1 -1  1</td>\n",
       "      <td>-1 -1 -1  0 -1</td>\n",
       "      <td>0  0  0 -1 -1</td>\n",
       "      <td>-1  0 -1 -1 -1</td>\n",
       "      <td>...</td>\n",
       "      <td>1 -1  0  0 -1</td>\n",
       "      <td>-1 -1  1 -1 -1</td>\n",
       "      <td>-1 -1 -1 -1  0</td>\n",
       "      <td>-1  0 -1 -1 -1</td>\n",
       "      <td>-1 -1  1  0  1</td>\n",
       "      <td>-1 -1  1 -1 -1</td>\n",
       "      <td>-1 -1 -1 -1  1</td>\n",
       "      <td>-1 -1 -1 -1  1</td>\n",
       "      <td>-1  0 -1  0 -1</td>\n",
       "      <td>-1 -1  0 -1 -1</td>\n",
       "    </tr>\n",
       "    <tr>\n",
       "      <th>meant</th>\n",
       "      <td>-1 -1  1 -1  0</td>\n",
       "      <td>-1 -1  1  0  0</td>\n",
       "      <td>-1 -1  1  1  0</td>\n",
       "      <td>1 1 1 1 1</td>\n",
       "      <td>0 -1 -1 -1  0</td>\n",
       "      <td>0 -1 -1 -1  0</td>\n",
       "      <td>-1 -1  1  0  0</td>\n",
       "      <td>-1 -1 -1  0 -1</td>\n",
       "      <td>0 -1  0 -1  1</td>\n",
       "      <td>1  0 -1 -1 -1</td>\n",
       "      <td>...</td>\n",
       "      <td>-1 -1 -1  0 -1</td>\n",
       "      <td>-1 -1  1 -1 -1</td>\n",
       "      <td>-1  0 -1 -1 -1</td>\n",
       "      <td>-1  0  0 -1 -1</td>\n",
       "      <td>-1 -1  1 -1  0</td>\n",
       "      <td>-1 -1  1 -1 -1</td>\n",
       "      <td>-1  0 -1  0  0</td>\n",
       "      <td>1 -1  0 -1  0</td>\n",
       "      <td>-1  0  0  0 -1</td>\n",
       "      <td>0 -1  0 -1 -1</td>\n",
       "    </tr>\n",
       "    <tr>\n",
       "      <th>thrum</th>\n",
       "      <td>-1 -1 -1 -1 -1</td>\n",
       "      <td>-1 -1 -1  0 -1</td>\n",
       "      <td>-1 -1 -1 -1 -1</td>\n",
       "      <td>0 -1 -1 -1  0</td>\n",
       "      <td>1 1 1 1 1</td>\n",
       "      <td>-1 -1 -1 -1 -1</td>\n",
       "      <td>-1 -1 -1  0 -1</td>\n",
       "      <td>-1  1 -1 -1  0</td>\n",
       "      <td>-1 -1 -1  0  0</td>\n",
       "      <td>0 -1 -1 -1 -1</td>\n",
       "      <td>...</td>\n",
       "      <td>-1 -1 -1 -1 -1</td>\n",
       "      <td>-1 -1 -1  0 -1</td>\n",
       "      <td>-1  0 -1  0 -1</td>\n",
       "      <td>-1 -1  0 -1  0</td>\n",
       "      <td>-1  1 -1 -1 -1</td>\n",
       "      <td>-1 -1 -1  0 -1</td>\n",
       "      <td>-1  0 -1  0 -1</td>\n",
       "      <td>0 -1  0  0 -1</td>\n",
       "      <td>-1 -1  0 -1 -1</td>\n",
       "      <td>1  1 -1 -1 -1</td>\n",
       "    </tr>\n",
       "    <tr>\n",
       "      <th>...</th>\n",
       "      <td>...</td>\n",
       "      <td>...</td>\n",
       "      <td>...</td>\n",
       "      <td>...</td>\n",
       "      <td>...</td>\n",
       "      <td>...</td>\n",
       "      <td>...</td>\n",
       "      <td>...</td>\n",
       "      <td>...</td>\n",
       "      <td>...</td>\n",
       "      <td>...</td>\n",
       "      <td>...</td>\n",
       "      <td>...</td>\n",
       "      <td>...</td>\n",
       "      <td>...</td>\n",
       "      <td>...</td>\n",
       "      <td>...</td>\n",
       "      <td>...</td>\n",
       "      <td>...</td>\n",
       "      <td>...</td>\n",
       "      <td>...</td>\n",
       "    </tr>\n",
       "    <tr>\n",
       "      <th>sward</th>\n",
       "      <td>-1 -1  1 -1 -1</td>\n",
       "      <td>1 -1  1 -1 -1</td>\n",
       "      <td>-1 -1  1 -1 -1</td>\n",
       "      <td>-1 -1  1 -1 -1</td>\n",
       "      <td>-1 -1  0 -1 -1</td>\n",
       "      <td>0 -1 -1 -1 -1</td>\n",
       "      <td>1 -1  1 -1 -1</td>\n",
       "      <td>1 -1 -1 -1  0</td>\n",
       "      <td>0 -1 -1  1 -1</td>\n",
       "      <td>-1  0 -1 -1  0</td>\n",
       "      <td>...</td>\n",
       "      <td>-1 -1 -1 -1  0</td>\n",
       "      <td>1 -1  1  1 -1</td>\n",
       "      <td>1 -1 -1  1 -1</td>\n",
       "      <td>1  0 -1 -1  0</td>\n",
       "      <td>0 -1  1 -1 -1</td>\n",
       "      <td>1 1 1 1 1</td>\n",
       "      <td>1 -1 -1 -1 -1</td>\n",
       "      <td>-1 -1 -1 -1 -1</td>\n",
       "      <td>-1  0 -1 -1  0</td>\n",
       "      <td>-1 -1 -1  0 -1</td>\n",
       "    </tr>\n",
       "    <tr>\n",
       "      <th>smote</th>\n",
       "      <td>-1 -1 -1 -1  1</td>\n",
       "      <td>1 -1 -1  1  1</td>\n",
       "      <td>-1 -1 -1 -1  1</td>\n",
       "      <td>0  0 -1 -1  0</td>\n",
       "      <td>0 -1 -1 -1  0</td>\n",
       "      <td>-1 -1 -1 -1 -1</td>\n",
       "      <td>1 -1 -1  1  1</td>\n",
       "      <td>1 -1  1  0 -1</td>\n",
       "      <td>-1 -1  0 -1  0</td>\n",
       "      <td>0 -1 -1 -1  0</td>\n",
       "      <td>...</td>\n",
       "      <td>-1 -1 -1  0  0</td>\n",
       "      <td>1 -1 -1 -1 -1</td>\n",
       "      <td>1  0 -1 -1 -1</td>\n",
       "      <td>1 -1  0 -1 -1</td>\n",
       "      <td>-1 -1 -1 -1  1</td>\n",
       "      <td>1 -1 -1 -1 -1</td>\n",
       "      <td>1 1 1 1 1</td>\n",
       "      <td>0 -1  0 -1  1</td>\n",
       "      <td>-1 -1  0  0  0</td>\n",
       "      <td>0 -1  0 -1 -1</td>\n",
       "    </tr>\n",
       "    <tr>\n",
       "      <th>mythe</th>\n",
       "      <td>-1 -1 -1 -1  1</td>\n",
       "      <td>-1 -1 -1  0  1</td>\n",
       "      <td>-1 -1 -1 -1  1</td>\n",
       "      <td>1  0 -1 -1  0</td>\n",
       "      <td>0  0 -1 -1  0</td>\n",
       "      <td>-1 -1 -1 -1 -1</td>\n",
       "      <td>-1 -1 -1  0  1</td>\n",
       "      <td>-1  0 -1  0 -1</td>\n",
       "      <td>-1 -1  0 -1  0</td>\n",
       "      <td>1 -1 -1 -1 -1</td>\n",
       "      <td>...</td>\n",
       "      <td>-1 -1 -1  0 -1</td>\n",
       "      <td>-1 -1 -1 -1  0</td>\n",
       "      <td>-1  0 -1 -1 -1</td>\n",
       "      <td>-1 -1  1  0 -1</td>\n",
       "      <td>-1  0 -1 -1  1</td>\n",
       "      <td>-1 -1 -1 -1 -1</td>\n",
       "      <td>-1  0 -1  0  1</td>\n",
       "      <td>1 1 1 1 1</td>\n",
       "      <td>-1 -1  1  0 -1</td>\n",
       "      <td>0  0  0 -1  0</td>\n",
       "    </tr>\n",
       "    <tr>\n",
       "      <th>cates</th>\n",
       "      <td>1 -1  0 -1  0</td>\n",
       "      <td>0 0 0 0 0</td>\n",
       "      <td>-1 -1  0 -1  0</td>\n",
       "      <td>-1  0  0 -1  0</td>\n",
       "      <td>0 -1 -1 -1 -1</td>\n",
       "      <td>0 -1 -1 -1 -1</td>\n",
       "      <td>0 -1  0  0  0</td>\n",
       "      <td>0 -1 -1  1 -1</td>\n",
       "      <td>0 -1  0 -1  0</td>\n",
       "      <td>-1  1 -1 -1  1</td>\n",
       "      <td>...</td>\n",
       "      <td>-1 -1 -1  1  1</td>\n",
       "      <td>0  0  0 -1 -1</td>\n",
       "      <td>0  0 -1 -1 -1</td>\n",
       "      <td>0  1  1 -1 -1</td>\n",
       "      <td>-1 -1  0 -1  0</td>\n",
       "      <td>0 -1  0 -1 -1</td>\n",
       "      <td>0 -1 -1  0  0</td>\n",
       "      <td>-1 -1  1 -1  0</td>\n",
       "      <td>1 1 1 1 1</td>\n",
       "      <td>0 -1  0 -1 -1</td>\n",
       "    </tr>\n",
       "    <tr>\n",
       "      <th>thewy</th>\n",
       "      <td>-1 -1 -1 -1  0</td>\n",
       "      <td>-1 -1 -1  0  0</td>\n",
       "      <td>-1 -1 -1 -1  0</td>\n",
       "      <td>-1  0 -1 -1  0</td>\n",
       "      <td>1  1 -1 -1 -1</td>\n",
       "      <td>-1 -1 -1 -1 -1</td>\n",
       "      <td>-1 -1 -1  0  0</td>\n",
       "      <td>-1  1 -1  0 -1</td>\n",
       "      <td>-1 -1  1 -1  0</td>\n",
       "      <td>-1 -1 -1 -1 -1</td>\n",
       "      <td>...</td>\n",
       "      <td>-1 -1 -1  0 -1</td>\n",
       "      <td>-1 -1 -1 -1  1</td>\n",
       "      <td>-1  0 -1 -1 -1</td>\n",
       "      <td>-1 -1  0  0 -1</td>\n",
       "      <td>0  1 -1 -1  0</td>\n",
       "      <td>-1  0 -1 -1 -1</td>\n",
       "      <td>-1 -1 -1  0  0</td>\n",
       "      <td>-1  0  0  0  0</td>\n",
       "      <td>-1 -1  0  0 -1</td>\n",
       "      <td>1 1 1 1 1</td>\n",
       "    </tr>\n",
       "  </tbody>\n",
       "</table>\n",
       "<p>726 rows × 726 columns</p>\n",
       "</div>"
      ],
      "text/plain": [
       "                clape           scate           plane           meant  \\\n",
       "clape       1 1 1 1 1  -1  0  1 -1  1   0  1  1 -1  1  -1  0  1 -1 -1   \n",
       "scate   0 -1  1 -1  1       1 1 1 1 1  -1 -1  1 -1  1  -1  0  1 -1  0   \n",
       "plane  -1  1  1  0  1  -1 -1  1 -1  1       1 1 1 1 1  -1  0  1  1 -1   \n",
       "meant  -1 -1  1 -1  0  -1 -1  1  0  0  -1 -1  1  1  0       1 1 1 1 1   \n",
       "thrum  -1 -1 -1 -1 -1  -1 -1 -1  0 -1  -1 -1 -1 -1 -1   0 -1 -1 -1  0   \n",
       "...               ...             ...             ...             ...   \n",
       "sward  -1 -1  1 -1 -1   1 -1  1 -1 -1  -1 -1  1 -1 -1  -1 -1  1 -1 -1   \n",
       "smote  -1 -1 -1 -1  1   1 -1 -1  1  1  -1 -1 -1 -1  1   0  0 -1 -1  0   \n",
       "mythe  -1 -1 -1 -1  1  -1 -1 -1  0  1  -1 -1 -1 -1  1   1  0 -1 -1  0   \n",
       "cates   1 -1  0 -1  0       0 0 0 0 0  -1 -1  0 -1  0  -1  0  0 -1  0   \n",
       "thewy  -1 -1 -1 -1  0  -1 -1 -1  0  0  -1 -1 -1 -1  0  -1  0 -1 -1  0   \n",
       "\n",
       "                thrum           algin           slate           shoer  \\\n",
       "clape  -1 -1 -1 -1 -1   0  1 -1 -1 -1  -1  1  1 -1  1  -1 -1 -1  0 -1   \n",
       "scate   0 -1 -1 -1 -1   0 -1 -1 -1 -1   1 -1  1  1  1   1 -1 -1  0 -1   \n",
       "plane  -1 -1 -1 -1 -1   0  1 -1 -1  0  -1  1  1 -1  1  -1 -1 -1  0 -1   \n",
       "meant   0 -1 -1 -1  0   0 -1 -1 -1  0  -1 -1  1  0  0  -1 -1 -1  0 -1   \n",
       "thrum       1 1 1 1 1  -1 -1 -1 -1 -1  -1 -1 -1  0 -1  -1  1 -1 -1  0   \n",
       "...               ...             ...             ...             ...   \n",
       "sward  -1 -1  0 -1 -1   0 -1 -1 -1 -1   1 -1  1 -1 -1   1 -1 -1 -1  0   \n",
       "smote   0 -1 -1 -1  0  -1 -1 -1 -1 -1   1 -1 -1  1  1   1 -1  1  0 -1   \n",
       "mythe   0  0 -1 -1  0  -1 -1 -1 -1 -1  -1 -1 -1  0  1  -1  0 -1  0 -1   \n",
       "cates   0 -1 -1 -1 -1   0 -1 -1 -1 -1   0 -1  0  0  0   0 -1 -1  1 -1   \n",
       "thewy   1  1 -1 -1 -1  -1 -1 -1 -1 -1  -1 -1 -1  0  0  -1  1 -1  0 -1   \n",
       "\n",
       "                apert           mavis  ...           piles           scary  \\\n",
       "clape   0  0  0 -1 -1  -1  0 -1 -1 -1  ...   0 -1  0  0 -1  -1  0  1 -1 -1   \n",
       "scate   0 -1  0 -1  0  -1  0 -1 -1  0  ...  -1 -1 -1  0  0   1  1  1 -1 -1   \n",
       "plane   0  0  0 -1 -1  -1  0 -1 -1 -1  ...   1 -1  0  0 -1  -1 -1  1 -1 -1   \n",
       "meant   0 -1  0 -1  1   1  0 -1 -1 -1  ...  -1 -1 -1  0 -1  -1 -1  1 -1 -1   \n",
       "thrum  -1 -1 -1  0  0   0 -1 -1 -1 -1  ...  -1 -1 -1 -1 -1  -1 -1 -1  0 -1   \n",
       "...               ...             ...  ...             ...             ...   \n",
       "sward   0 -1 -1  1 -1  -1  0 -1 -1  0  ...  -1 -1 -1 -1  0   1 -1  1  1 -1   \n",
       "smote  -1 -1  0 -1  0   0 -1 -1 -1  0  ...  -1 -1 -1  0  0   1 -1 -1 -1 -1   \n",
       "mythe  -1 -1  0 -1  0   1 -1 -1 -1 -1  ...  -1 -1 -1  0 -1  -1 -1 -1 -1  0   \n",
       "cates   0 -1  0 -1  0  -1  1 -1 -1  1  ...  -1 -1 -1  1  1   0  0  0 -1 -1   \n",
       "thewy  -1 -1  1 -1  0  -1 -1 -1 -1 -1  ...  -1 -1 -1  0 -1  -1 -1 -1 -1  1   \n",
       "\n",
       "                stirp           satyr           whale           sward  \\\n",
       "clape  -1 -1 -1 -1  0  -1  0 -1 -1 -1  -1 -1  1  0  1  -1 -1  1 -1 -1   \n",
       "scate   1  0 -1 -1 -1   1  0  0 -1 -1  -1 -1  1 -1  1   1 -1  1 -1 -1   \n",
       "plane  -1 -1 -1 -1  0  -1  0 -1 -1 -1  -1 -1  1  0  1  -1 -1  1 -1 -1   \n",
       "meant  -1  0 -1 -1 -1  -1  0  0 -1 -1  -1 -1  1 -1  0  -1 -1  1 -1 -1   \n",
       "thrum  -1  0 -1  0 -1  -1 -1  0 -1  0  -1  1 -1 -1 -1  -1 -1 -1  0 -1   \n",
       "...               ...             ...             ...             ...   \n",
       "sward   1 -1 -1  1 -1   1  0 -1 -1  0   0 -1  1 -1 -1       1 1 1 1 1   \n",
       "smote   1  0 -1 -1 -1   1 -1  0 -1 -1  -1 -1 -1 -1  1   1 -1 -1 -1 -1   \n",
       "mythe  -1  0 -1 -1 -1  -1 -1  1  0 -1  -1  0 -1 -1  1  -1 -1 -1 -1 -1   \n",
       "cates   0  0 -1 -1 -1   0  1  1 -1 -1  -1 -1  0 -1  0   0 -1  0 -1 -1   \n",
       "thewy  -1  0 -1 -1 -1  -1 -1  0  0 -1   0  1 -1 -1  0  -1  0 -1 -1 -1   \n",
       "\n",
       "                smote           mythe           cates           thewy  \n",
       "clape  -1 -1 -1 -1  1  -1 -1 -1 -1  1   1  0 -1  0 -1  -1 -1  0 -1 -1  \n",
       "scate   1 -1 -1  1  1  -1 -1  0 -1  1       0 0 0 0 0   0 -1  0 -1 -1  \n",
       "plane  -1 -1 -1 -1  1  -1 -1 -1 -1  1  -1  0 -1  0 -1  -1 -1  0 -1 -1  \n",
       "meant  -1  0 -1  0  0   1 -1  0 -1  0  -1  0  0  0 -1   0 -1  0 -1 -1  \n",
       "thrum  -1  0 -1  0 -1   0 -1  0  0 -1  -1 -1  0 -1 -1   1  1 -1 -1 -1  \n",
       "...               ...             ...             ...             ...  \n",
       "sward   1 -1 -1 -1 -1  -1 -1 -1 -1 -1  -1  0 -1 -1  0  -1 -1 -1  0 -1  \n",
       "smote       1 1 1 1 1   0 -1  0 -1  1  -1 -1  0  0  0   0 -1  0 -1 -1  \n",
       "mythe  -1  0 -1  0  1       1 1 1 1 1  -1 -1  1  0 -1   0  0  0 -1  0  \n",
       "cates   0 -1 -1  0  0  -1 -1  1 -1  0       1 1 1 1 1   0 -1  0 -1 -1  \n",
       "thewy  -1 -1 -1  0  0  -1  0  0  0  0  -1 -1  0  0 -1       1 1 1 1 1  \n",
       "\n",
       "[726 rows x 726 columns]"
      ]
     },
     "execution_count": 27,
     "metadata": {},
     "output_type": "execute_result"
    }
   ],
   "source": [
    "all_anagram_scoring_df"
   ]
  },
  {
   "cell_type": "code",
   "execution_count": 28,
   "id": "b7ed1dc1",
   "metadata": {
    "ExecuteTime": {
     "start_time": "2022-03-27T09:39:18.946Z"
    }
   },
   "outputs": [],
   "source": [
    "all_anagram_scoring_df.to_csv(\"./data/all_anagram_scoring.csv\", index=False)"
   ]
  },
  {
   "cell_type": "markdown",
   "id": "93a6df0b",
   "metadata": {},
   "source": [
    "## 5 bit binary  \n",
    "\n",
    "Scoring of anagrams produces 5 bit binary with range from `00000` to `11111` `(0 to 31)`.  \n",
    "- `00000`, all letter are in wrong place\n",
    "- `11111`, letters matched correctly"
   ]
  },
  {
   "cell_type": "code",
   "execution_count": 29,
   "id": "47e644a1",
   "metadata": {
    "ExecuteTime": {
     "start_time": "2022-03-27T09:39:18.948Z"
    }
   },
   "outputs": [
    {
     "data": {
      "text/html": [
       "<div>\n",
       "<style scoped>\n",
       "    .dataframe tbody tr th:only-of-type {\n",
       "        vertical-align: middle;\n",
       "    }\n",
       "\n",
       "    .dataframe tbody tr th {\n",
       "        vertical-align: top;\n",
       "    }\n",
       "\n",
       "    .dataframe thead th {\n",
       "        text-align: right;\n",
       "    }\n",
       "</style>\n",
       "<table border=\"1\" class=\"dataframe\">\n",
       "  <thead>\n",
       "    <tr style=\"text-align: right;\">\n",
       "      <th></th>\n",
       "      <th>steal</th>\n",
       "      <th>tales</th>\n",
       "      <th>slate</th>\n",
       "      <th>stale</th>\n",
       "      <th>satle</th>\n",
       "      <th>stela</th>\n",
       "      <th>astel</th>\n",
       "    </tr>\n",
       "  </thead>\n",
       "  <tbody>\n",
       "    <tr>\n",
       "      <th>steal</th>\n",
       "      <td>1 1 1 1 1</td>\n",
       "      <td>0 0 0 0 0</td>\n",
       "      <td>1 0 0 0 0</td>\n",
       "      <td>1 1 0 0 0</td>\n",
       "      <td>1 0 0 0 0</td>\n",
       "      <td>1 1 1 0 0</td>\n",
       "      <td>0 0 0 0 1</td>\n",
       "    </tr>\n",
       "    <tr>\n",
       "      <th>tales</th>\n",
       "      <td>0 0 0 0 0</td>\n",
       "      <td>1 1 1 1 1</td>\n",
       "      <td>0 0 0 0 0</td>\n",
       "      <td>0 0 0 0 0</td>\n",
       "      <td>0 1 0 0 0</td>\n",
       "      <td>0 0 0 0 0</td>\n",
       "      <td>0 0 0 1 0</td>\n",
       "    </tr>\n",
       "    <tr>\n",
       "      <th>slate</th>\n",
       "      <td>1 0 0 0 0</td>\n",
       "      <td>0 0 0 0 0</td>\n",
       "      <td>1 1 1 1 1</td>\n",
       "      <td>1 0 1 0 1</td>\n",
       "      <td>1 0 0 0 1</td>\n",
       "      <td>1 0 0 0 0</td>\n",
       "      <td>0 0 0 0 0</td>\n",
       "    </tr>\n",
       "    <tr>\n",
       "      <th>stale</th>\n",
       "      <td>1 1 0 0 0</td>\n",
       "      <td>0 0 0 0 0</td>\n",
       "      <td>1 0 1 0 1</td>\n",
       "      <td>1 1 1 1 1</td>\n",
       "      <td>1 0 0 1 1</td>\n",
       "      <td>1 1 0 1 0</td>\n",
       "      <td>0 0 0 0 0</td>\n",
       "    </tr>\n",
       "    <tr>\n",
       "      <th>satle</th>\n",
       "      <td>1 0 0 0 0</td>\n",
       "      <td>0 1 0 0 0</td>\n",
       "      <td>1 0 0 0 1</td>\n",
       "      <td>1 0 0 1 1</td>\n",
       "      <td>1 1 1 1 1</td>\n",
       "      <td>1 0 0 1 0</td>\n",
       "      <td>0 0 1 0 0</td>\n",
       "    </tr>\n",
       "    <tr>\n",
       "      <th>stela</th>\n",
       "      <td>1 1 1 0 0</td>\n",
       "      <td>0 0 0 0 0</td>\n",
       "      <td>1 0 0 0 0</td>\n",
       "      <td>1 1 0 1 0</td>\n",
       "      <td>1 0 0 1 0</td>\n",
       "      <td>1 1 1 1 1</td>\n",
       "      <td>0 0 0 0 0</td>\n",
       "    </tr>\n",
       "    <tr>\n",
       "      <th>astel</th>\n",
       "      <td>0 0 0 0 1</td>\n",
       "      <td>0 0 0 1 0</td>\n",
       "      <td>0 0 0 0 0</td>\n",
       "      <td>0 0 0 0 0</td>\n",
       "      <td>0 0 1 0 0</td>\n",
       "      <td>0 0 0 0 0</td>\n",
       "      <td>1 1 1 1 1</td>\n",
       "    </tr>\n",
       "  </tbody>\n",
       "</table>\n",
       "</div>"
      ],
      "text/plain": [
       "           steal      tales      slate      stale      satle      stela  \\\n",
       "steal  1 1 1 1 1  0 0 0 0 0  1 0 0 0 0  1 1 0 0 0  1 0 0 0 0  1 1 1 0 0   \n",
       "tales  0 0 0 0 0  1 1 1 1 1  0 0 0 0 0  0 0 0 0 0  0 1 0 0 0  0 0 0 0 0   \n",
       "slate  1 0 0 0 0  0 0 0 0 0  1 1 1 1 1  1 0 1 0 1  1 0 0 0 1  1 0 0 0 0   \n",
       "stale  1 1 0 0 0  0 0 0 0 0  1 0 1 0 1  1 1 1 1 1  1 0 0 1 1  1 1 0 1 0   \n",
       "satle  1 0 0 0 0  0 1 0 0 0  1 0 0 0 1  1 0 0 1 1  1 1 1 1 1  1 0 0 1 0   \n",
       "stela  1 1 1 0 0  0 0 0 0 0  1 0 0 0 0  1 1 0 1 0  1 0 0 1 0  1 1 1 1 1   \n",
       "astel  0 0 0 0 1  0 0 0 1 0  0 0 0 0 0  0 0 0 0 0  0 0 1 0 0  0 0 0 0 0   \n",
       "\n",
       "           astel  \n",
       "steal  0 0 0 0 1  \n",
       "tales  0 0 0 1 0  \n",
       "slate  0 0 0 0 0  \n",
       "stale  0 0 0 0 0  \n",
       "satle  0 0 1 0 0  \n",
       "stela  0 0 0 0 0  \n",
       "astel  1 1 1 1 1  "
      ]
     },
     "execution_count": 29,
     "metadata": {},
     "output_type": "execute_result"
    }
   ],
   "source": [
    "df2"
   ]
  },
  {
   "cell_type": "code",
   "execution_count": 30,
   "id": "aecdbb1b",
   "metadata": {
    "ExecuteTime": {
     "start_time": "2022-03-27T09:39:18.950Z"
    }
   },
   "outputs": [
    {
     "data": {
      "text/plain": [
       "31"
      ]
     },
     "execution_count": 30,
     "metadata": {},
     "output_type": "execute_result"
    }
   ],
   "source": [
    "int(\"11111\", 2)"
   ]
  },
  {
   "cell_type": "code",
   "execution_count": 31,
   "id": "7844a3f6",
   "metadata": {
    "ExecuteTime": {
     "start_time": "2022-03-27T09:39:18.952Z"
    }
   },
   "outputs": [
    {
     "data": {
      "text/plain": [
       "0"
      ]
     },
     "execution_count": 31,
     "metadata": {},
     "output_type": "execute_result"
    }
   ],
   "source": [
    "int(\"00000\", 2)"
   ]
  },
  {
   "cell_type": "code",
   "execution_count": 32,
   "id": "54691521",
   "metadata": {
    "ExecuteTime": {
     "start_time": "2022-03-27T09:39:18.955Z"
    }
   },
   "outputs": [
    {
     "data": {
      "text/plain": [
       "16"
      ]
     },
     "execution_count": 32,
     "metadata": {},
     "output_type": "execute_result"
    }
   ],
   "source": [
    "int(\"10000\", 2)"
   ]
  },
  {
   "cell_type": "code",
   "execution_count": 33,
   "id": "58237a35",
   "metadata": {
    "ExecuteTime": {
     "start_time": "2022-03-27T09:39:18.957Z"
    }
   },
   "outputs": [
    {
     "data": {
      "text/plain": [
       "21"
      ]
     },
     "execution_count": 33,
     "metadata": {},
     "output_type": "execute_result"
    }
   ],
   "source": [
    "int(\"10101\", 2)"
   ]
  },
  {
   "cell_type": "markdown",
   "id": "eafa62c4",
   "metadata": {},
   "source": [
    "**`stale` contains 24 bits of information necessary to describe `steal`**"
   ]
  },
  {
   "cell_type": "code",
   "execution_count": 34,
   "id": "9336347c",
   "metadata": {
    "ExecuteTime": {
     "start_time": "2022-03-27T09:39:18.960Z"
    }
   },
   "outputs": [
    {
     "data": {
      "text/plain": [
       "24"
      ]
     },
     "execution_count": 34,
     "metadata": {},
     "output_type": "execute_result"
    }
   ],
   "source": [
    "int(\"11000\", 2)"
   ]
  },
  {
   "cell_type": "code",
   "execution_count": 35,
   "id": "79389e6d",
   "metadata": {
    "ExecuteTime": {
     "start_time": "2022-03-27T09:39:18.962Z"
    }
   },
   "outputs": [
    {
     "data": {
      "text/plain": [
       "4"
      ]
     },
     "execution_count": 35,
     "metadata": {},
     "output_type": "execute_result"
    }
   ],
   "source": [
    "int(\"00100\", 2)"
   ]
  },
  {
   "cell_type": "code",
   "execution_count": 36,
   "id": "6efb564a",
   "metadata": {
    "ExecuteTime": {
     "start_time": "2022-03-27T09:39:18.964Z"
    }
   },
   "outputs": [
    {
     "data": {
      "text/html": [
       "<div>\n",
       "<style scoped>\n",
       "    .dataframe tbody tr th:only-of-type {\n",
       "        vertical-align: middle;\n",
       "    }\n",
       "\n",
       "    .dataframe tbody tr th {\n",
       "        vertical-align: top;\n",
       "    }\n",
       "\n",
       "    .dataframe thead th {\n",
       "        text-align: right;\n",
       "    }\n",
       "</style>\n",
       "<table border=\"1\" class=\"dataframe\">\n",
       "  <thead>\n",
       "    <tr style=\"text-align: right;\">\n",
       "      <th></th>\n",
       "      <th>steal</th>\n",
       "      <th>tales</th>\n",
       "      <th>slate</th>\n",
       "      <th>stale</th>\n",
       "      <th>satle</th>\n",
       "      <th>stela</th>\n",
       "      <th>astel</th>\n",
       "    </tr>\n",
       "  </thead>\n",
       "  <tbody>\n",
       "    <tr>\n",
       "      <th>stale</th>\n",
       "      <td>1 1 0 0 0</td>\n",
       "      <td>0 0 0 0 0</td>\n",
       "      <td>1 0 1 0 1</td>\n",
       "      <td>1 1 1 1 1</td>\n",
       "      <td>1 0 0 1 1</td>\n",
       "      <td>1 1 0 1 0</td>\n",
       "      <td>0 0 0 0 0</td>\n",
       "    </tr>\n",
       "  </tbody>\n",
       "</table>\n",
       "</div>"
      ],
      "text/plain": [
       "           steal      tales      slate      stale      satle      stela  \\\n",
       "stale  1 1 0 0 0  0 0 0 0 0  1 0 1 0 1  1 1 1 1 1  1 0 0 1 1  1 1 0 1 0   \n",
       "\n",
       "           astel  \n",
       "stale  0 0 0 0 0  "
      ]
     },
     "execution_count": 36,
     "metadata": {},
     "output_type": "execute_result"
    }
   ],
   "source": [
    "df2.loc[df2.index.isin([\"stale\"])]"
   ]
  },
  {
   "cell_type": "code",
   "execution_count": 37,
   "id": "48566aae",
   "metadata": {
    "ExecuteTime": {
     "start_time": "2022-03-27T09:39:18.967Z"
    }
   },
   "outputs": [
    {
     "data": {
      "text/html": [
       "<div>\n",
       "<style scoped>\n",
       "    .dataframe tbody tr th:only-of-type {\n",
       "        vertical-align: middle;\n",
       "    }\n",
       "\n",
       "    .dataframe tbody tr th {\n",
       "        vertical-align: top;\n",
       "    }\n",
       "\n",
       "    .dataframe thead th {\n",
       "        text-align: right;\n",
       "    }\n",
       "</style>\n",
       "<table border=\"1\" class=\"dataframe\">\n",
       "  <thead>\n",
       "    <tr style=\"text-align: right;\">\n",
       "      <th></th>\n",
       "      <th>stale</th>\n",
       "    </tr>\n",
       "  </thead>\n",
       "  <tbody>\n",
       "    <tr>\n",
       "      <th>steal</th>\n",
       "      <td>1 1 0 0 0</td>\n",
       "    </tr>\n",
       "    <tr>\n",
       "      <th>tales</th>\n",
       "      <td>0 0 0 0 0</td>\n",
       "    </tr>\n",
       "    <tr>\n",
       "      <th>slate</th>\n",
       "      <td>1 0 1 0 1</td>\n",
       "    </tr>\n",
       "    <tr>\n",
       "      <th>stale</th>\n",
       "      <td>1 1 1 1 1</td>\n",
       "    </tr>\n",
       "    <tr>\n",
       "      <th>satle</th>\n",
       "      <td>1 0 0 1 1</td>\n",
       "    </tr>\n",
       "    <tr>\n",
       "      <th>stela</th>\n",
       "      <td>1 1 0 1 0</td>\n",
       "    </tr>\n",
       "    <tr>\n",
       "      <th>astel</th>\n",
       "      <td>0 0 0 0 0</td>\n",
       "    </tr>\n",
       "  </tbody>\n",
       "</table>\n",
       "</div>"
      ],
      "text/plain": [
       "           stale\n",
       "steal  1 1 0 0 0\n",
       "tales  0 0 0 0 0\n",
       "slate  1 0 1 0 1\n",
       "stale  1 1 1 1 1\n",
       "satle  1 0 0 1 1\n",
       "stela  1 1 0 1 0\n",
       "astel  0 0 0 0 0"
      ]
     },
     "execution_count": 37,
     "metadata": {},
     "output_type": "execute_result"
    }
   ],
   "source": [
    "stale = df2.loc[df2.index.isin([\"stale\"])].T\n",
    "stale"
   ]
  },
  {
   "cell_type": "code",
   "execution_count": 38,
   "id": "ed887eab",
   "metadata": {
    "ExecuteTime": {
     "start_time": "2022-03-27T09:39:18.969Z"
    }
   },
   "outputs": [
    {
     "data": {
      "text/plain": [
       "steal    1 1 0 0 0\n",
       "tales    0 0 0 0 0\n",
       "slate    1 0 1 0 1\n",
       "stale    1 1 1 1 1\n",
       "satle    1 0 0 1 1\n",
       "stela    1 1 0 1 0\n",
       "astel    0 0 0 0 0\n",
       "Name: stale, dtype: object"
      ]
     },
     "execution_count": 38,
     "metadata": {},
     "output_type": "execute_result"
    }
   ],
   "source": [
    "df2.loc[df2.index.isin([\"stale\"])].squeeze()"
   ]
  },
  {
   "cell_type": "code",
   "execution_count": 39,
   "id": "0c6555c9",
   "metadata": {
    "ExecuteTime": {
     "start_time": "2022-03-27T09:39:18.971Z"
    }
   },
   "outputs": [
    {
     "data": {
      "text/html": [
       "<div>\n",
       "<style scoped>\n",
       "    .dataframe tbody tr th:only-of-type {\n",
       "        vertical-align: middle;\n",
       "    }\n",
       "\n",
       "    .dataframe tbody tr th {\n",
       "        vertical-align: top;\n",
       "    }\n",
       "\n",
       "    .dataframe thead th {\n",
       "        text-align: right;\n",
       "    }\n",
       "</style>\n",
       "<table border=\"1\" class=\"dataframe\">\n",
       "  <thead>\n",
       "    <tr style=\"text-align: right;\">\n",
       "      <th></th>\n",
       "      <th>stale</th>\n",
       "    </tr>\n",
       "  </thead>\n",
       "  <tbody>\n",
       "    <tr>\n",
       "      <th>steal</th>\n",
       "      <td>1 1 0 0 0</td>\n",
       "    </tr>\n",
       "    <tr>\n",
       "      <th>tales</th>\n",
       "      <td>0 0 0 0 0</td>\n",
       "    </tr>\n",
       "    <tr>\n",
       "      <th>slate</th>\n",
       "      <td>1 0 1 0 1</td>\n",
       "    </tr>\n",
       "    <tr>\n",
       "      <th>stale</th>\n",
       "      <td>1 1 1 1 1</td>\n",
       "    </tr>\n",
       "    <tr>\n",
       "      <th>satle</th>\n",
       "      <td>1 0 0 1 1</td>\n",
       "    </tr>\n",
       "    <tr>\n",
       "      <th>stela</th>\n",
       "      <td>1 1 0 1 0</td>\n",
       "    </tr>\n",
       "    <tr>\n",
       "      <th>astel</th>\n",
       "      <td>0 0 0 0 0</td>\n",
       "    </tr>\n",
       "  </tbody>\n",
       "</table>\n",
       "</div>"
      ],
      "text/plain": [
       "           stale\n",
       "steal  1 1 0 0 0\n",
       "tales  0 0 0 0 0\n",
       "slate  1 0 1 0 1\n",
       "stale  1 1 1 1 1\n",
       "satle  1 0 0 1 1\n",
       "stela  1 1 0 1 0\n",
       "astel  0 0 0 0 0"
      ]
     },
     "execution_count": 39,
     "metadata": {},
     "output_type": "execute_result"
    }
   ],
   "source": [
    "pd.DataFrame(df2.loc[df2.index.isin([\"stale\"])].squeeze())"
   ]
  },
  {
   "cell_type": "code",
   "execution_count": 40,
   "id": "63be1a33",
   "metadata": {
    "ExecuteTime": {
     "start_time": "2022-03-27T09:39:18.974Z"
    }
   },
   "outputs": [
    {
     "data": {
      "text/plain": [
       "['1 1 0 0 0',\n",
       " '0 0 0 0 0',\n",
       " '1 0 1 0 1',\n",
       " '1 1 1 1 1',\n",
       " '1 0 0 1 1',\n",
       " '1 1 0 1 0',\n",
       " '0 0 0 0 0']"
      ]
     },
     "execution_count": 40,
     "metadata": {},
     "output_type": "execute_result"
    }
   ],
   "source": [
    "stale_binaries = df2.loc[df2.index.isin([\"stale\"])].squeeze().tolist()\n",
    "stale_binaries"
   ]
  },
  {
   "cell_type": "code",
   "execution_count": 41,
   "id": "291792e0",
   "metadata": {
    "ExecuteTime": {
     "start_time": "2022-03-27T09:39:18.976Z"
    }
   },
   "outputs": [
    {
     "data": {
      "text/plain": [
       "'1 1 0 0 0'"
      ]
     },
     "execution_count": 41,
     "metadata": {},
     "output_type": "execute_result"
    }
   ],
   "source": [
    "stale_binaries[0]"
   ]
  },
  {
   "cell_type": "code",
   "execution_count": 42,
   "id": "3e12e9ea",
   "metadata": {
    "ExecuteTime": {
     "start_time": "2022-03-27T09:39:18.979Z"
    }
   },
   "outputs": [
    {
     "data": {
      "text/plain": [
       "'11000'"
      ]
     },
     "execution_count": 42,
     "metadata": {},
     "output_type": "execute_result"
    }
   ],
   "source": [
    "\"\".join(stale_binaries[0].split())"
   ]
  },
  {
   "cell_type": "code",
   "execution_count": 43,
   "id": "e0898bc7",
   "metadata": {
    "ExecuteTime": {
     "start_time": "2022-03-27T09:39:18.981Z"
    }
   },
   "outputs": [
    {
     "data": {
      "text/plain": [
       "24"
      ]
     },
     "execution_count": 43,
     "metadata": {},
     "output_type": "execute_result"
    }
   ],
   "source": [
    "int(\"\".join(stale_binaries[0].split()), 2)"
   ]
  },
  {
   "cell_type": "code",
   "execution_count": 44,
   "id": "646fa8ad",
   "metadata": {
    "ExecuteTime": {
     "start_time": "2022-03-27T09:39:18.983Z"
    }
   },
   "outputs": [
    {
     "data": {
      "text/plain": [
       "['11000', '00000', '10101', '11111', '10011', '11010', '00000']"
      ]
     },
     "execution_count": 44,
     "metadata": {},
     "output_type": "execute_result"
    }
   ],
   "source": [
    "stale_binaries = [\"\".join(x.split()) for x in stale_binaries]\n",
    "stale_binaries"
   ]
  },
  {
   "cell_type": "code",
   "execution_count": 45,
   "id": "5a2335ad",
   "metadata": {
    "ExecuteTime": {
     "start_time": "2022-03-27T09:39:18.985Z"
    }
   },
   "outputs": [
    {
     "data": {
      "text/plain": [
       "[24, 0, 21, 31, 19, 26, 0]"
      ]
     },
     "execution_count": 45,
     "metadata": {},
     "output_type": "execute_result"
    }
   ],
   "source": [
    "[int(binary, 2) for binary in stale_binaries]"
   ]
  },
  {
   "cell_type": "code",
   "execution_count": 46,
   "id": "35570c46",
   "metadata": {
    "ExecuteTime": {
     "start_time": "2022-03-27T09:39:18.988Z"
    }
   },
   "outputs": [
    {
     "data": {
      "text/plain": [
       "clape     0 -1  1 -1  1\n",
       "scate     1  1  1 -1  1\n",
       "plane    -1 -1  1 -1  1\n",
       "meant    -1  0  1 -1 -1\n",
       "thrum    -1 -1  0 -1 -1\n",
       "              ...      \n",
       "sward     1 -1  1  1 -1\n",
       "smote     1 -1 -1 -1  1\n",
       "mythe    -1 -1 -1 -1  1\n",
       "cates     0  0 -1  0  0\n",
       "thewy    -1 -1  0 -1 -1\n",
       "Name: scare, Length: 726, dtype: string"
      ]
     },
     "execution_count": 46,
     "metadata": {},
     "output_type": "execute_result"
    }
   ],
   "source": [
    "scare = all_anagram_scoring_df.loc[all_anagram_scoring_df.index.isin([\"scare\"])].squeeze()\n",
    "scare"
   ]
  },
  {
   "cell_type": "code",
   "execution_count": 47,
   "id": "571d42d0",
   "metadata": {
    "ExecuteTime": {
     "start_time": "2022-03-27T09:39:18.990Z"
    }
   },
   "outputs": [
    {
     "data": {
      "text/plain": [
       "[(77, '0 0 1 0 1'),\n",
       " (129, '1 1 1 1 1'),\n",
       " (144, '1 0 0 1 1'),\n",
       " (206, '1 0 0 0 0'),\n",
       " (441, '0 0 0 0 1')]"
      ]
     },
     "execution_count": 47,
     "metadata": {},
     "output_type": "execute_result"
    }
   ],
   "source": [
    "#  you can find the scores for scare by filtering out those with -1\n",
    "cols = [(idx, binary) for idx, binary in enumerate(scare) if \"-1\" not in binary]\n",
    "cols"
   ]
  },
  {
   "cell_type": "code",
   "execution_count": 48,
   "id": "16d0aaf2",
   "metadata": {
    "ExecuteTime": {
     "start_time": "2022-03-27T09:39:18.993Z"
    }
   },
   "outputs": [
    {
     "data": {
      "text/plain": [
       "[77, 129, 144, 206, 441]"
      ]
     },
     "execution_count": 48,
     "metadata": {},
     "output_type": "execute_result"
    }
   ],
   "source": [
    "scare_cols = [col[0] for col in cols]\n",
    "scare_cols"
   ]
  },
  {
   "cell_type": "code",
   "execution_count": 49,
   "id": "65aeff41",
   "metadata": {
    "ExecuteTime": {
     "start_time": "2022-03-27T09:39:18.995Z"
    }
   },
   "outputs": [
    {
     "data": {
      "text/html": [
       "<div>\n",
       "<style scoped>\n",
       "    .dataframe tbody tr th:only-of-type {\n",
       "        vertical-align: middle;\n",
       "    }\n",
       "\n",
       "    .dataframe tbody tr th {\n",
       "        vertical-align: top;\n",
       "    }\n",
       "\n",
       "    .dataframe thead th {\n",
       "        text-align: right;\n",
       "    }\n",
       "</style>\n",
       "<table border=\"1\" class=\"dataframe\">\n",
       "  <thead>\n",
       "    <tr style=\"text-align: right;\">\n",
       "      <th></th>\n",
       "      <th>crase</th>\n",
       "      <th>scare</th>\n",
       "      <th>sacre</th>\n",
       "      <th>serac</th>\n",
       "      <th>carse</th>\n",
       "    </tr>\n",
       "  </thead>\n",
       "  <tbody>\n",
       "    <tr>\n",
       "      <th>crase</th>\n",
       "      <td>1 1 1 1 1</td>\n",
       "      <td>0 0 1 0 1</td>\n",
       "      <td>0 0 0 0 1</td>\n",
       "      <td>0 0 0 0 0</td>\n",
       "      <td>1 0 0 1 1</td>\n",
       "    </tr>\n",
       "    <tr>\n",
       "      <th>scare</th>\n",
       "      <td>0 0 1 0 1</td>\n",
       "      <td>1 1 1 1 1</td>\n",
       "      <td>1 0 0 1 1</td>\n",
       "      <td>1 0 0 0 0</td>\n",
       "      <td>0 0 0 0 1</td>\n",
       "    </tr>\n",
       "    <tr>\n",
       "      <th>sacre</th>\n",
       "      <td>0 0 0 0 1</td>\n",
       "      <td>1 0 0 1 1</td>\n",
       "      <td>1 1 1 1 1</td>\n",
       "      <td>1 0 0 0 0</td>\n",
       "      <td>0 1 0 0 1</td>\n",
       "    </tr>\n",
       "    <tr>\n",
       "      <th>serac</th>\n",
       "      <td>0 0 0 0 0</td>\n",
       "      <td>1 0 0 0 0</td>\n",
       "      <td>1 0 0 0 0</td>\n",
       "      <td>1 1 1 1 1</td>\n",
       "      <td>0 0 1 0 0</td>\n",
       "    </tr>\n",
       "    <tr>\n",
       "      <th>carse</th>\n",
       "      <td>1 0 0 1 1</td>\n",
       "      <td>0 0 0 0 1</td>\n",
       "      <td>0 1 0 0 1</td>\n",
       "      <td>0 0 1 0 0</td>\n",
       "      <td>1 1 1 1 1</td>\n",
       "    </tr>\n",
       "  </tbody>\n",
       "</table>\n",
       "</div>"
      ],
      "text/plain": [
       "           crase      scare      sacre      serac      carse\n",
       "crase  1 1 1 1 1  0 0 1 0 1  0 0 0 0 1  0 0 0 0 0  1 0 0 1 1\n",
       "scare  0 0 1 0 1  1 1 1 1 1  1 0 0 1 1  1 0 0 0 0  0 0 0 0 1\n",
       "sacre  0 0 0 0 1  1 0 0 1 1  1 1 1 1 1  1 0 0 0 0  0 1 0 0 1\n",
       "serac  0 0 0 0 0  1 0 0 0 0  1 0 0 0 0  1 1 1 1 1  0 0 1 0 0\n",
       "carse  1 0 0 1 1  0 0 0 0 1  0 1 0 0 1  0 0 1 0 0  1 1 1 1 1"
      ]
     },
     "execution_count": 49,
     "metadata": {},
     "output_type": "execute_result"
    }
   ],
   "source": [
    "all_anagram_scoring_df.iloc[scare_cols, scare_cols]"
   ]
  },
  {
   "cell_type": "code",
   "execution_count": 50,
   "id": "80eef8a0",
   "metadata": {
    "ExecuteTime": {
     "start_time": "2022-03-27T09:39:18.998Z"
    }
   },
   "outputs": [
    {
     "data": {
      "text/html": [
       "<div>\n",
       "<style scoped>\n",
       "    .dataframe tbody tr th:only-of-type {\n",
       "        vertical-align: middle;\n",
       "    }\n",
       "\n",
       "    .dataframe tbody tr th {\n",
       "        vertical-align: top;\n",
       "    }\n",
       "\n",
       "    .dataframe thead th {\n",
       "        text-align: right;\n",
       "    }\n",
       "</style>\n",
       "<table border=\"1\" class=\"dataframe\">\n",
       "  <thead>\n",
       "    <tr style=\"text-align: right;\">\n",
       "      <th></th>\n",
       "      <th>crase</th>\n",
       "      <th>scare</th>\n",
       "      <th>sacre</th>\n",
       "      <th>serac</th>\n",
       "      <th>carse</th>\n",
       "    </tr>\n",
       "  </thead>\n",
       "  <tbody>\n",
       "    <tr>\n",
       "      <th>crase</th>\n",
       "      <td>11111</td>\n",
       "      <td>00101</td>\n",
       "      <td>00001</td>\n",
       "      <td>00000</td>\n",
       "      <td>10011</td>\n",
       "    </tr>\n",
       "    <tr>\n",
       "      <th>scare</th>\n",
       "      <td>00101</td>\n",
       "      <td>11111</td>\n",
       "      <td>10011</td>\n",
       "      <td>10000</td>\n",
       "      <td>00001</td>\n",
       "    </tr>\n",
       "    <tr>\n",
       "      <th>sacre</th>\n",
       "      <td>00001</td>\n",
       "      <td>10011</td>\n",
       "      <td>11111</td>\n",
       "      <td>10000</td>\n",
       "      <td>01001</td>\n",
       "    </tr>\n",
       "    <tr>\n",
       "      <th>serac</th>\n",
       "      <td>00000</td>\n",
       "      <td>10000</td>\n",
       "      <td>10000</td>\n",
       "      <td>11111</td>\n",
       "      <td>00100</td>\n",
       "    </tr>\n",
       "    <tr>\n",
       "      <th>carse</th>\n",
       "      <td>10011</td>\n",
       "      <td>00001</td>\n",
       "      <td>01001</td>\n",
       "      <td>00100</td>\n",
       "      <td>11111</td>\n",
       "    </tr>\n",
       "  </tbody>\n",
       "</table>\n",
       "</div>"
      ],
      "text/plain": [
       "       crase  scare  sacre  serac  carse\n",
       "crase  11111  00101  00001  00000  10011\n",
       "scare  00101  11111  10011  10000  00001\n",
       "sacre  00001  10011  11111  10000  01001\n",
       "serac  00000  10000  10000  11111  00100\n",
       "carse  10011  00001  01001  00100  11111"
      ]
     },
     "execution_count": 50,
     "metadata": {},
     "output_type": "execute_result"
    }
   ],
   "source": [
    "# remove spaces\n",
    "all_anagram_scoring_df.iloc[scare_cols, scare_cols].applymap(lambda x: \"\".join(x.split()))"
   ]
  },
  {
   "cell_type": "code",
   "execution_count": 51,
   "id": "000d2bf9",
   "metadata": {
    "ExecuteTime": {
     "start_time": "2022-03-27T09:39:19.001Z"
    }
   },
   "outputs": [
    {
     "data": {
      "text/html": [
       "<div>\n",
       "<style scoped>\n",
       "    .dataframe tbody tr th:only-of-type {\n",
       "        vertical-align: middle;\n",
       "    }\n",
       "\n",
       "    .dataframe tbody tr th {\n",
       "        vertical-align: top;\n",
       "    }\n",
       "\n",
       "    .dataframe thead th {\n",
       "        text-align: right;\n",
       "    }\n",
       "</style>\n",
       "<table border=\"1\" class=\"dataframe\">\n",
       "  <thead>\n",
       "    <tr style=\"text-align: right;\">\n",
       "      <th></th>\n",
       "      <th>crase</th>\n",
       "      <th>scare</th>\n",
       "      <th>sacre</th>\n",
       "      <th>serac</th>\n",
       "      <th>carse</th>\n",
       "    </tr>\n",
       "  </thead>\n",
       "  <tbody>\n",
       "    <tr>\n",
       "      <th>crase</th>\n",
       "      <td>31</td>\n",
       "      <td>5</td>\n",
       "      <td>1</td>\n",
       "      <td>0</td>\n",
       "      <td>19</td>\n",
       "    </tr>\n",
       "    <tr>\n",
       "      <th>scare</th>\n",
       "      <td>5</td>\n",
       "      <td>31</td>\n",
       "      <td>19</td>\n",
       "      <td>16</td>\n",
       "      <td>1</td>\n",
       "    </tr>\n",
       "    <tr>\n",
       "      <th>sacre</th>\n",
       "      <td>1</td>\n",
       "      <td>19</td>\n",
       "      <td>31</td>\n",
       "      <td>16</td>\n",
       "      <td>9</td>\n",
       "    </tr>\n",
       "    <tr>\n",
       "      <th>serac</th>\n",
       "      <td>0</td>\n",
       "      <td>16</td>\n",
       "      <td>16</td>\n",
       "      <td>31</td>\n",
       "      <td>4</td>\n",
       "    </tr>\n",
       "    <tr>\n",
       "      <th>carse</th>\n",
       "      <td>19</td>\n",
       "      <td>1</td>\n",
       "      <td>9</td>\n",
       "      <td>4</td>\n",
       "      <td>31</td>\n",
       "    </tr>\n",
       "  </tbody>\n",
       "</table>\n",
       "</div>"
      ],
      "text/plain": [
       "       crase  scare  sacre  serac  carse\n",
       "crase     31      5      1      0     19\n",
       "scare      5     31     19     16      1\n",
       "sacre      1     19     31     16      9\n",
       "serac      0     16     16     31      4\n",
       "carse     19      1      9      4     31"
      ]
     },
     "execution_count": 51,
     "metadata": {},
     "output_type": "execute_result"
    }
   ],
   "source": [
    "# convert to int\n",
    "(all_anagram_scoring_df.iloc[scare_cols, scare_cols]\n",
    " .applymap(lambda x: \"\".join(x.split()))\n",
    " .applymap(lambda x: int(x, 2)))"
   ]
  },
  {
   "cell_type": "code",
   "execution_count": 52,
   "id": "96b1e3b3",
   "metadata": {
    "ExecuteTime": {
     "start_time": "2022-03-27T09:39:19.008Z"
    }
   },
   "outputs": [
    {
     "data": {
      "text/html": [
       "<div>\n",
       "<style scoped>\n",
       "    .dataframe tbody tr th:only-of-type {\n",
       "        vertical-align: middle;\n",
       "    }\n",
       "\n",
       "    .dataframe tbody tr th {\n",
       "        vertical-align: top;\n",
       "    }\n",
       "\n",
       "    .dataframe thead th {\n",
       "        text-align: right;\n",
       "    }\n",
       "</style>\n",
       "<table border=\"1\" class=\"dataframe\">\n",
       "  <thead>\n",
       "    <tr style=\"text-align: right;\">\n",
       "      <th></th>\n",
       "      <th>crase</th>\n",
       "      <th>scare</th>\n",
       "      <th>sacre</th>\n",
       "      <th>serac</th>\n",
       "      <th>carse</th>\n",
       "      <th>sum_across</th>\n",
       "    </tr>\n",
       "  </thead>\n",
       "  <tbody>\n",
       "    <tr>\n",
       "      <th>crase</th>\n",
       "      <td>31</td>\n",
       "      <td>5</td>\n",
       "      <td>1</td>\n",
       "      <td>0</td>\n",
       "      <td>19</td>\n",
       "      <td>56</td>\n",
       "    </tr>\n",
       "    <tr>\n",
       "      <th>scare</th>\n",
       "      <td>5</td>\n",
       "      <td>31</td>\n",
       "      <td>19</td>\n",
       "      <td>16</td>\n",
       "      <td>1</td>\n",
       "      <td>72</td>\n",
       "    </tr>\n",
       "    <tr>\n",
       "      <th>sacre</th>\n",
       "      <td>1</td>\n",
       "      <td>19</td>\n",
       "      <td>31</td>\n",
       "      <td>16</td>\n",
       "      <td>9</td>\n",
       "      <td>76</td>\n",
       "    </tr>\n",
       "    <tr>\n",
       "      <th>serac</th>\n",
       "      <td>0</td>\n",
       "      <td>16</td>\n",
       "      <td>16</td>\n",
       "      <td>31</td>\n",
       "      <td>4</td>\n",
       "      <td>67</td>\n",
       "    </tr>\n",
       "    <tr>\n",
       "      <th>carse</th>\n",
       "      <td>19</td>\n",
       "      <td>1</td>\n",
       "      <td>9</td>\n",
       "      <td>4</td>\n",
       "      <td>31</td>\n",
       "      <td>64</td>\n",
       "    </tr>\n",
       "  </tbody>\n",
       "</table>\n",
       "</div>"
      ],
      "text/plain": [
       "       crase  scare  sacre  serac  carse  sum_across\n",
       "crase     31      5      1      0     19          56\n",
       "scare      5     31     19     16      1          72\n",
       "sacre      1     19     31     16      9          76\n",
       "serac      0     16     16     31      4          67\n",
       "carse     19      1      9      4     31          64"
      ]
     },
     "execution_count": 52,
     "metadata": {},
     "output_type": "execute_result"
    }
   ],
   "source": [
    "(all_anagram_scoring_df.iloc[scare_cols, scare_cols]\n",
    " .applymap(lambda x: \"\".join(x.split()))\n",
    " .applymap(lambda x: int(x, 2))\n",
    " .assign(sum_across=lambda x: x.sum())\n",
    " .astype(np.int8))"
   ]
  },
  {
   "cell_type": "markdown",
   "id": "4f61afba",
   "metadata": {},
   "source": [
    "## Anagram cipher lookup table  \n",
    "With `itertools.zip_longest` you can create an encode/decode lookup table for 4, 5 and 6 letter anagrams."
   ]
  },
  {
   "cell_type": "code",
   "execution_count": 53,
   "id": "d4c161b3",
   "metadata": {
    "ExecuteTime": {
     "start_time": "2022-03-27T09:39:19.012Z"
    }
   },
   "outputs": [
    {
     "data": {
      "text/plain": [
       "[('t', 's'), ('a', 'l'), ('p', 'i'), ('e', 'p'), ('r', '*')]"
      ]
     },
     "execution_count": 53,
     "metadata": {},
     "output_type": "execute_result"
    }
   ],
   "source": [
    "list(itertools.zip_longest(\"taper\", \"slip\", fillvalue=\"*\"))"
   ]
  },
  {
   "cell_type": "code",
   "execution_count": 54,
   "id": "a6d3883a",
   "metadata": {
    "ExecuteTime": {
     "start_time": "2022-03-27T09:39:19.014Z"
    }
   },
   "outputs": [
    {
     "data": {
      "text/plain": [
       "[('t', 's'), ('a', 'c'), ('p', 'a'), ('e', 'r'), ('r', 'e')]"
      ]
     },
     "execution_count": 54,
     "metadata": {},
     "output_type": "execute_result"
    }
   ],
   "source": [
    "list(itertools.zip_longest(\"taper\", \"scare\"))"
   ]
  },
  {
   "cell_type": "code",
   "execution_count": null,
   "id": "aacfcf51",
   "metadata": {},
   "outputs": [],
   "source": []
  }
 ],
 "metadata": {
  "kernelspec": {
   "display_name": "wordle",
   "language": "python",
   "name": "wordle"
  },
  "language_info": {
   "codemirror_mode": {
    "name": "ipython",
    "version": 3
   },
   "file_extension": ".py",
   "mimetype": "text/x-python",
   "name": "python",
   "nbconvert_exporter": "python",
   "pygments_lexer": "ipython3",
   "version": "3.8.13"
  },
  "toc": {
   "base_numbering": 1,
   "nav_menu": {},
   "number_sections": true,
   "sideBar": true,
   "skip_h1_title": false,
   "title_cell": "Table of Contents",
   "title_sidebar": "Contents",
   "toc_cell": false,
   "toc_position": {},
   "toc_section_display": true,
   "toc_window_display": false
  },
  "varInspector": {
   "cols": {
    "lenName": 16,
    "lenType": 16,
    "lenVar": 40
   },
   "kernels_config": {
    "python": {
     "delete_cmd_postfix": "",
     "delete_cmd_prefix": "del ",
     "library": "var_list.py",
     "varRefreshCmd": "print(var_dic_list())"
    },
    "r": {
     "delete_cmd_postfix": ") ",
     "delete_cmd_prefix": "rm(",
     "library": "var_list.r",
     "varRefreshCmd": "cat(var_dic_list()) "
    }
   },
   "types_to_exclude": [
    "module",
    "function",
    "builtin_function_or_method",
    "instance",
    "_Feature"
   ],
   "window_display": false
  }
 },
 "nbformat": 4,
 "nbformat_minor": 5
}
