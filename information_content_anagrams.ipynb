{
 "cells": [
  {
   "cell_type": "code",
   "execution_count": 1,
   "id": "9e784eb3",
   "metadata": {
    "ExecuteTime": {
     "end_time": "2022-03-22T11:46:59.239411Z",
     "start_time": "2022-03-22T11:46:57.982125Z"
    }
   },
   "outputs": [],
   "source": [
    "import numpy as np\n",
    "import pandas as pd\n",
    "import itertools\n",
    "import random\n",
    "from tqdm import tqdm\n",
    "import re\n",
    "from wordle_helpers import anagram_scoring, all_anagram_scoring\n",
    "\n",
    "import os\n",
    "# where to save the data\n",
    "ROOT_DIR = \".\"\n",
    "FOLDER_NAME = \"data\"\n",
    "PATH_TO_FOLDER = os.path.join(ROOT_DIR, FOLDER_NAME)\n",
    "os.makedirs(PATH_TO_FOLDER, exist_ok=True)"
   ]
  },
  {
   "cell_type": "markdown",
   "id": "d8c0a085",
   "metadata": {},
   "source": [
    "## Load data"
   ]
  },
  {
   "cell_type": "code",
   "execution_count": 2,
   "id": "073eb146",
   "metadata": {
    "ExecuteTime": {
     "end_time": "2022-03-22T11:46:59.247044Z",
     "start_time": "2022-03-22T11:46:59.241485Z"
    }
   },
   "outputs": [],
   "source": [
    "anagrams = pd.read_csv(\"./data/anagrams.csv\")"
   ]
  },
  {
   "cell_type": "code",
   "execution_count": 3,
   "id": "87aeffdb",
   "metadata": {
    "ExecuteTime": {
     "end_time": "2022-03-22T11:46:59.265216Z",
     "start_time": "2022-03-22T11:46:59.250676Z"
    }
   },
   "outputs": [
    {
     "data": {
      "text/html": [
       "<div>\n",
       "<style scoped>\n",
       "    .dataframe tbody tr th:only-of-type {\n",
       "        vertical-align: middle;\n",
       "    }\n",
       "\n",
       "    .dataframe tbody tr th {\n",
       "        vertical-align: top;\n",
       "    }\n",
       "\n",
       "    .dataframe thead th {\n",
       "        text-align: right;\n",
       "    }\n",
       "</style>\n",
       "<table border=\"1\" class=\"dataframe\">\n",
       "  <thead>\n",
       "    <tr style=\"text-align: right;\">\n",
       "      <th></th>\n",
       "      <th>word</th>\n",
       "      <th>anagrams</th>\n",
       "    </tr>\n",
       "  </thead>\n",
       "  <tbody>\n",
       "    <tr>\n",
       "      <th>0</th>\n",
       "      <td>abode</td>\n",
       "      <td>abode, adobe</td>\n",
       "    </tr>\n",
       "    <tr>\n",
       "      <th>1</th>\n",
       "      <td>abort</td>\n",
       "      <td>abort, tabor</td>\n",
       "    </tr>\n",
       "    <tr>\n",
       "      <th>2</th>\n",
       "      <td>acred</td>\n",
       "      <td>acred, cader</td>\n",
       "    </tr>\n",
       "    <tr>\n",
       "      <th>3</th>\n",
       "      <td>acrid</td>\n",
       "      <td>acrid, caird</td>\n",
       "    </tr>\n",
       "    <tr>\n",
       "      <th>4</th>\n",
       "      <td>adept</td>\n",
       "      <td>adept, pated</td>\n",
       "    </tr>\n",
       "    <tr>\n",
       "      <th>...</th>\n",
       "      <td>...</td>\n",
       "      <td>...</td>\n",
       "    </tr>\n",
       "    <tr>\n",
       "      <th>382</th>\n",
       "      <td>worth</td>\n",
       "      <td>worth, wroth, whort</td>\n",
       "    </tr>\n",
       "    <tr>\n",
       "      <th>383</th>\n",
       "      <td>wrath</td>\n",
       "      <td>wrath, thraw</td>\n",
       "    </tr>\n",
       "    <tr>\n",
       "      <th>384</th>\n",
       "      <td>wreak</td>\n",
       "      <td>wreak, waker</td>\n",
       "    </tr>\n",
       "    <tr>\n",
       "      <th>385</th>\n",
       "      <td>wrote</td>\n",
       "      <td>wrote, tower</td>\n",
       "    </tr>\n",
       "    <tr>\n",
       "      <th>386</th>\n",
       "      <td>wroth</td>\n",
       "      <td>wroth, whort</td>\n",
       "    </tr>\n",
       "  </tbody>\n",
       "</table>\n",
       "<p>387 rows × 2 columns</p>\n",
       "</div>"
      ],
      "text/plain": [
       "      word             anagrams\n",
       "0    abode         abode, adobe\n",
       "1    abort         abort, tabor\n",
       "2    acred         acred, cader\n",
       "3    acrid         acrid, caird\n",
       "4    adept         adept, pated\n",
       "..     ...                  ...\n",
       "382  worth  worth, wroth, whort\n",
       "383  wrath         wrath, thraw\n",
       "384  wreak         wreak, waker\n",
       "385  wrote         wrote, tower\n",
       "386  wroth         wroth, whort\n",
       "\n",
       "[387 rows x 2 columns]"
      ]
     },
     "execution_count": 3,
     "metadata": {},
     "output_type": "execute_result"
    }
   ],
   "source": [
    "anagrams"
   ]
  },
  {
   "cell_type": "code",
   "execution_count": 4,
   "id": "ad2ad422",
   "metadata": {
    "ExecuteTime": {
     "end_time": "2022-03-22T11:46:59.274259Z",
     "start_time": "2022-03-22T11:46:59.266694Z"
    }
   },
   "outputs": [
    {
     "name": "stdout",
     "output_type": "stream",
     "text": [
      "<class 'pandas.core.frame.DataFrame'>\n",
      "RangeIndex: 387 entries, 0 to 386\n",
      "Data columns (total 2 columns):\n",
      " #   Column    Non-Null Count  Dtype \n",
      "---  ------    --------------  ----- \n",
      " 0   word      387 non-null    object\n",
      " 1   anagrams  387 non-null    object\n",
      "dtypes: object(2)\n",
      "memory usage: 6.2+ KB\n"
     ]
    }
   ],
   "source": [
    "anagrams.info()"
   ]
  },
  {
   "cell_type": "code",
   "execution_count": 5,
   "id": "4a29c137",
   "metadata": {
    "ExecuteTime": {
     "end_time": "2022-03-22T11:46:59.279366Z",
     "start_time": "2022-03-22T11:46:59.275665Z"
    }
   },
   "outputs": [
    {
     "data": {
      "text/plain": [
       "387"
      ]
     },
     "execution_count": 5,
     "metadata": {},
     "output_type": "execute_result"
    }
   ],
   "source": [
    "anagrams[\"word\"].nunique()"
   ]
  },
  {
   "cell_type": "markdown",
   "id": "9b832824",
   "metadata": {},
   "source": [
    "## Number of anagrams"
   ]
  },
  {
   "cell_type": "code",
   "execution_count": 6,
   "id": "0d2c585b",
   "metadata": {
    "ExecuteTime": {
     "end_time": "2022-03-22T11:46:59.283534Z",
     "start_time": "2022-03-22T11:46:59.280792Z"
    }
   },
   "outputs": [],
   "source": [
    "my_list_of_anagrams = [x.split(\", \") for x in anagrams[\"anagrams\"]]"
   ]
  },
  {
   "cell_type": "code",
   "execution_count": 90,
   "id": "5919f88a",
   "metadata": {
    "ExecuteTime": {
     "end_time": "2022-03-22T11:56:25.754589Z",
     "start_time": "2022-03-22T11:56:25.749471Z"
    }
   },
   "outputs": [
    {
     "data": {
      "text/plain": [
       "[['abode', 'adobe'],\n",
       " ['abort', 'tabor'],\n",
       " ['acred', 'cader'],\n",
       " ['acrid', 'caird'],\n",
       " ['adept', 'pated'],\n",
       " ['adore', 'oread'],\n",
       " ['afire', 'feria'],\n",
       " ['aider', 'irade'],\n",
       " ['aitch', 'chati'],\n",
       " ['alert', 'alter']]"
      ]
     },
     "execution_count": 90,
     "metadata": {},
     "output_type": "execute_result"
    }
   ],
   "source": [
    "my_list_of_anagrams[:10]"
   ]
  },
  {
   "cell_type": "code",
   "execution_count": 8,
   "id": "6e8c0f7b",
   "metadata": {
    "ExecuteTime": {
     "end_time": "2022-03-22T11:46:59.308651Z",
     "start_time": "2022-03-22T11:46:59.306054Z"
    }
   },
   "outputs": [],
   "source": [
    "vec = np.vectorize(len)"
   ]
  },
  {
   "cell_type": "code",
   "execution_count": 9,
   "id": "ff2281a5",
   "metadata": {
    "ExecuteTime": {
     "end_time": "2022-03-22T11:46:59.317348Z",
     "start_time": "2022-03-22T11:46:59.312607Z"
    }
   },
   "outputs": [
    {
     "data": {
      "text/plain": [
       "array([2, 2, 2, 2, 2, 2, 2, 2, 2, 2, 2, 3, 2, 2, 2, 2, 2, 2, 2, 2, 2, 2,\n",
       "       3, 2, 2, 4, 2, 2, 4, 2, 3, 3, 3, 4, 2, 2, 2, 4, 2, 3, 5, 2, 2, 2,\n",
       "       3, 2, 2, 2, 2, 4, 3, 2, 2, 2, 2, 3, 2, 2, 2, 4, 2, 2, 2, 2, 2, 2,\n",
       "       2, 2, 2, 2, 2, 2, 2, 2, 2, 2, 2, 2, 2, 2, 5, 2, 2, 2, 2, 4, 2, 2,\n",
       "       2, 2, 2, 2, 2, 4, 2, 2, 2, 2, 2, 2, 2, 4, 2, 3, 2, 2, 2, 2, 2, 2,\n",
       "       2, 2, 2, 2, 2, 2, 2, 3, 2, 2, 3, 2, 2, 4, 2, 2, 2, 2, 3, 2, 3, 2,\n",
       "       3, 2, 3, 3, 2, 2, 2, 2, 2, 2, 2, 2, 4, 2, 2, 2, 2, 3, 2, 2, 2, 2,\n",
       "       3, 2, 2, 3, 4, 2, 2, 2, 2, 2, 3, 2, 2, 2, 4, 2, 2, 2, 2, 2, 3, 2,\n",
       "       3, 2, 2, 3, 3, 2, 2, 2, 2, 2, 3, 2, 5, 4, 2, 2, 2, 4, 4, 6, 2, 2,\n",
       "       4, 2, 2, 2, 2, 2, 2, 2, 3, 2, 5, 2, 2, 2, 2, 2, 2, 2, 4, 2, 2, 2,\n",
       "       2, 4, 4, 2, 2, 2, 2, 3, 2, 3, 2, 5, 2, 2, 2, 3, 2, 3, 2, 2, 3, 2,\n",
       "       3, 2, 2, 2, 2, 2, 2, 2, 2, 2, 2, 2, 2, 2, 3, 5, 2, 2, 3, 2, 2, 2,\n",
       "       3, 2, 2, 3, 3, 2, 2, 2, 2, 2, 2, 2, 4, 5, 4, 2, 2, 3, 2, 2, 2, 3,\n",
       "       3, 4, 2, 4, 2, 2, 7, 2, 4, 2, 2, 2, 2, 2, 2, 2, 2, 2, 3, 6, 4, 2,\n",
       "       2, 2, 2, 3, 2, 2, 2, 4, 2, 3, 2, 3, 2, 6, 2, 3, 2, 2, 6, 2, 2, 3,\n",
       "       2, 3, 2, 2, 2, 2, 3, 4, 2, 2, 2, 2, 2, 4, 2, 2, 2, 3, 3, 2, 5, 3,\n",
       "       3, 3, 2, 2, 2, 2, 2, 3, 2, 2, 2, 2, 2, 3, 2, 2, 3, 3, 2, 2, 2, 2,\n",
       "       2, 2, 2, 2, 2, 2, 4, 2, 3, 2, 2, 2, 2])"
      ]
     },
     "execution_count": 9,
     "metadata": {},
     "output_type": "execute_result"
    }
   ],
   "source": [
    "num_anagrams_per_list = vec(np.array(my_list_of_anagrams, dtype=object))\n",
    "num_anagrams_per_list"
   ]
  },
  {
   "cell_type": "code",
   "execution_count": 10,
   "id": "9b81b068",
   "metadata": {
    "ExecuteTime": {
     "end_time": "2022-03-22T11:46:59.321492Z",
     "start_time": "2022-03-22T11:46:59.318692Z"
    }
   },
   "outputs": [],
   "source": [
    "anagrams[\"num_anagrams\"] = num_anagrams_per_list"
   ]
  },
  {
   "cell_type": "code",
   "execution_count": 11,
   "id": "ff0ce1c0",
   "metadata": {
    "ExecuteTime": {
     "end_time": "2022-03-22T11:46:59.331643Z",
     "start_time": "2022-03-22T11:46:59.322806Z"
    }
   },
   "outputs": [
    {
     "data": {
      "text/html": [
       "<div>\n",
       "<style scoped>\n",
       "    .dataframe tbody tr th:only-of-type {\n",
       "        vertical-align: middle;\n",
       "    }\n",
       "\n",
       "    .dataframe tbody tr th {\n",
       "        vertical-align: top;\n",
       "    }\n",
       "\n",
       "    .dataframe thead th {\n",
       "        text-align: right;\n",
       "    }\n",
       "</style>\n",
       "<table border=\"1\" class=\"dataframe\">\n",
       "  <thead>\n",
       "    <tr style=\"text-align: right;\">\n",
       "      <th></th>\n",
       "      <th>word</th>\n",
       "      <th>anagrams</th>\n",
       "      <th>num_anagrams</th>\n",
       "    </tr>\n",
       "  </thead>\n",
       "  <tbody>\n",
       "    <tr>\n",
       "      <th>0</th>\n",
       "      <td>abode</td>\n",
       "      <td>abode, adobe</td>\n",
       "      <td>2</td>\n",
       "    </tr>\n",
       "    <tr>\n",
       "      <th>1</th>\n",
       "      <td>abort</td>\n",
       "      <td>abort, tabor</td>\n",
       "      <td>2</td>\n",
       "    </tr>\n",
       "    <tr>\n",
       "      <th>2</th>\n",
       "      <td>acred</td>\n",
       "      <td>acred, cader</td>\n",
       "      <td>2</td>\n",
       "    </tr>\n",
       "    <tr>\n",
       "      <th>3</th>\n",
       "      <td>acrid</td>\n",
       "      <td>acrid, caird</td>\n",
       "      <td>2</td>\n",
       "    </tr>\n",
       "    <tr>\n",
       "      <th>4</th>\n",
       "      <td>adept</td>\n",
       "      <td>adept, pated</td>\n",
       "      <td>2</td>\n",
       "    </tr>\n",
       "    <tr>\n",
       "      <th>...</th>\n",
       "      <td>...</td>\n",
       "      <td>...</td>\n",
       "      <td>...</td>\n",
       "    </tr>\n",
       "    <tr>\n",
       "      <th>382</th>\n",
       "      <td>worth</td>\n",
       "      <td>worth, wroth, whort</td>\n",
       "      <td>3</td>\n",
       "    </tr>\n",
       "    <tr>\n",
       "      <th>383</th>\n",
       "      <td>wrath</td>\n",
       "      <td>wrath, thraw</td>\n",
       "      <td>2</td>\n",
       "    </tr>\n",
       "    <tr>\n",
       "      <th>384</th>\n",
       "      <td>wreak</td>\n",
       "      <td>wreak, waker</td>\n",
       "      <td>2</td>\n",
       "    </tr>\n",
       "    <tr>\n",
       "      <th>385</th>\n",
       "      <td>wrote</td>\n",
       "      <td>wrote, tower</td>\n",
       "      <td>2</td>\n",
       "    </tr>\n",
       "    <tr>\n",
       "      <th>386</th>\n",
       "      <td>wroth</td>\n",
       "      <td>wroth, whort</td>\n",
       "      <td>2</td>\n",
       "    </tr>\n",
       "  </tbody>\n",
       "</table>\n",
       "<p>387 rows × 3 columns</p>\n",
       "</div>"
      ],
      "text/plain": [
       "      word             anagrams  num_anagrams\n",
       "0    abode         abode, adobe             2\n",
       "1    abort         abort, tabor             2\n",
       "2    acred         acred, cader             2\n",
       "3    acrid         acrid, caird             2\n",
       "4    adept         adept, pated             2\n",
       "..     ...                  ...           ...\n",
       "382  worth  worth, wroth, whort             3\n",
       "383  wrath         wrath, thraw             2\n",
       "384  wreak         wreak, waker             2\n",
       "385  wrote         wrote, tower             2\n",
       "386  wroth         wroth, whort             2\n",
       "\n",
       "[387 rows x 3 columns]"
      ]
     },
     "execution_count": 11,
     "metadata": {},
     "output_type": "execute_result"
    }
   ],
   "source": [
    "anagrams"
   ]
  },
  {
   "cell_type": "code",
   "execution_count": 12,
   "id": "662e0267",
   "metadata": {
    "ExecuteTime": {
     "end_time": "2022-03-22T11:46:59.340588Z",
     "start_time": "2022-03-22T11:46:59.332966Z"
    }
   },
   "outputs": [
    {
     "data": {
      "text/html": [
       "<div>\n",
       "<style scoped>\n",
       "    .dataframe tbody tr th:only-of-type {\n",
       "        vertical-align: middle;\n",
       "    }\n",
       "\n",
       "    .dataframe tbody tr th {\n",
       "        vertical-align: top;\n",
       "    }\n",
       "\n",
       "    .dataframe thead th {\n",
       "        text-align: right;\n",
       "    }\n",
       "</style>\n",
       "<table border=\"1\" class=\"dataframe\">\n",
       "  <thead>\n",
       "    <tr style=\"text-align: right;\">\n",
       "      <th></th>\n",
       "      <th>word</th>\n",
       "      <th>anagrams</th>\n",
       "      <th>num_anagrams</th>\n",
       "    </tr>\n",
       "  </thead>\n",
       "  <tbody>\n",
       "    <tr>\n",
       "      <th>292</th>\n",
       "      <td>steal</td>\n",
       "      <td>steal, tales, slate, stale, satle, stela, astel</td>\n",
       "      <td>7</td>\n",
       "    </tr>\n",
       "  </tbody>\n",
       "</table>\n",
       "</div>"
      ],
      "text/plain": [
       "      word                                         anagrams  num_anagrams\n",
       "292  steal  steal, tales, slate, stale, satle, stela, astel             7"
      ]
     },
     "execution_count": 12,
     "metadata": {},
     "output_type": "execute_result"
    }
   ],
   "source": [
    "anagrams.loc[anagrams[\"num_anagrams\"] == anagrams[\"num_anagrams\"].max()]"
   ]
  },
  {
   "cell_type": "code",
   "execution_count": 13,
   "id": "78fa095d",
   "metadata": {
    "ExecuteTime": {
     "end_time": "2022-03-22T11:46:59.346801Z",
     "start_time": "2022-03-22T11:46:59.342562Z"
    }
   },
   "outputs": [
    {
     "data": {
      "text/plain": [
       "(array([292]),)"
      ]
     },
     "execution_count": 13,
     "metadata": {},
     "output_type": "execute_result"
    }
   ],
   "source": [
    "index_loc = np.where(num_anagrams_per_list == np.max(num_anagrams_per_list))\n",
    "index_loc"
   ]
  },
  {
   "cell_type": "code",
   "execution_count": 14,
   "id": "5e2ad308",
   "metadata": {
    "ExecuteTime": {
     "end_time": "2022-03-22T11:46:59.352322Z",
     "start_time": "2022-03-22T11:46:59.348281Z"
    }
   },
   "outputs": [
    {
     "data": {
      "text/plain": [
       "292"
      ]
     },
     "execution_count": 14,
     "metadata": {},
     "output_type": "execute_result"
    }
   ],
   "source": [
    "index_loc[0][0]"
   ]
  },
  {
   "cell_type": "code",
   "execution_count": 15,
   "id": "f5021182",
   "metadata": {
    "ExecuteTime": {
     "end_time": "2022-03-22T11:46:59.357632Z",
     "start_time": "2022-03-22T11:46:59.353738Z"
    }
   },
   "outputs": [
    {
     "data": {
      "text/plain": [
       "['steal', 'tales', 'slate', 'stale', 'satle', 'stela', 'astel']"
      ]
     },
     "execution_count": 15,
     "metadata": {},
     "output_type": "execute_result"
    }
   ],
   "source": [
    "my_list_of_anagrams[index_loc[0][0]]"
   ]
  },
  {
   "cell_type": "code",
   "execution_count": 16,
   "id": "30d68a78",
   "metadata": {
    "ExecuteTime": {
     "end_time": "2022-03-22T11:46:59.363885Z",
     "start_time": "2022-03-22T11:46:59.358947Z"
    }
   },
   "outputs": [
    {
     "data": {
      "text/plain": [
       "[('steal', 'tales'),\n",
       " ('steal', 'slate'),\n",
       " ('steal', 'stale'),\n",
       " ('steal', 'satle'),\n",
       " ('steal', 'stela'),\n",
       " ('steal', 'astel'),\n",
       " ('tales', 'slate'),\n",
       " ('tales', 'stale'),\n",
       " ('tales', 'satle'),\n",
       " ('tales', 'stela'),\n",
       " ('tales', 'astel'),\n",
       " ('slate', 'stale'),\n",
       " ('slate', 'satle'),\n",
       " ('slate', 'stela'),\n",
       " ('slate', 'astel'),\n",
       " ('stale', 'satle'),\n",
       " ('stale', 'stela'),\n",
       " ('stale', 'astel'),\n",
       " ('satle', 'stela'),\n",
       " ('satle', 'astel'),\n",
       " ('stela', 'astel')]"
      ]
     },
     "execution_count": 16,
     "metadata": {},
     "output_type": "execute_result"
    }
   ],
   "source": [
    "combo_words_1 = [combo for combo in itertools.combinations(my_list_of_anagrams[index_loc[0][0]], 2)]\n",
    "combo_words_1"
   ]
  },
  {
   "cell_type": "code",
   "execution_count": 17,
   "id": "70f29542",
   "metadata": {
    "ExecuteTime": {
     "end_time": "2022-03-22T11:46:59.368976Z",
     "start_time": "2022-03-22T11:46:59.365109Z"
    }
   },
   "outputs": [
    {
     "data": {
      "text/plain": [
       "387"
      ]
     },
     "execution_count": 17,
     "metadata": {},
     "output_type": "execute_result"
    }
   ],
   "source": [
    "len(anagrams[\"word\"])"
   ]
  },
  {
   "cell_type": "code",
   "execution_count": 18,
   "id": "60d19c72",
   "metadata": {
    "ExecuteTime": {
     "end_time": "2022-03-22T11:46:59.374114Z",
     "start_time": "2022-03-22T11:46:59.370283Z"
    }
   },
   "outputs": [
    {
     "data": {
      "text/plain": [
       "'steal'"
      ]
     },
     "execution_count": 18,
     "metadata": {},
     "output_type": "execute_result"
    }
   ],
   "source": [
    "challenge = my_list_of_anagrams[index_loc[0][0]][0]\n",
    "challenge"
   ]
  },
  {
   "cell_type": "markdown",
   "id": "170b4785",
   "metadata": {},
   "source": [
    "## Scoring anagrams"
   ]
  },
  {
   "cell_type": "code",
   "execution_count": 19,
   "id": "8f0be586",
   "metadata": {
    "ExecuteTime": {
     "end_time": "2022-03-22T11:46:59.382693Z",
     "start_time": "2022-03-22T11:46:59.377328Z"
    }
   },
   "outputs": [
    {
     "data": {
      "text/plain": [
       "['tales', 'slate', 'stale', 'satle', 'stela', 'astel']"
      ]
     },
     "execution_count": 19,
     "metadata": {},
     "output_type": "execute_result"
    }
   ],
   "source": [
    "guess_anagrams = my_list_of_anagrams[index_loc[0][0]][1:]\n",
    "guess_anagrams"
   ]
  },
  {
   "cell_type": "code",
   "execution_count": 20,
   "id": "5bffb7cd",
   "metadata": {
    "ExecuteTime": {
     "end_time": "2022-03-22T11:46:59.389374Z",
     "start_time": "2022-03-22T11:46:59.384546Z"
    }
   },
   "outputs": [],
   "source": [
    "data = []\n",
    "for guess in guess_anagrams:\n",
    "    paired = zip(challenge, guess)\n",
    "    scores = np.zeros(5, dtype=np.int8)\n",
    "    for x, (i, j) in enumerate(paired):\n",
    "#         print((x, (i, j)))\n",
    "        if i == j:\n",
    "            scores[x] = 1\n",
    "        elif i != j and j in challenge:\n",
    "            scores[x] = 0\n",
    "        else:\n",
    "            scores[x] = -1\n",
    "            \n",
    "    temp = {\n",
    "        \"challenge_word\": challenge,\n",
    "        \"guess\": guess,\n",
    "        \"positional_scores\": re.sub(r\"[\\[\\]]\", \"\", str(scores)).replace(\"\\n\", \",\"),\n",
    "        \"overall_scores\": np.sum(scores, dtype=np.int8),\n",
    "    }\n",
    "    data.append(temp)"
   ]
  },
  {
   "cell_type": "code",
   "execution_count": 21,
   "id": "1191b33e",
   "metadata": {
    "ExecuteTime": {
     "end_time": "2022-03-22T11:46:59.393907Z",
     "start_time": "2022-03-22T11:46:59.390693Z"
    }
   },
   "outputs": [],
   "source": [
    "df = pd.DataFrame(data)"
   ]
  },
  {
   "cell_type": "code",
   "execution_count": 22,
   "id": "03d97e8e",
   "metadata": {
    "ExecuteTime": {
     "end_time": "2022-03-22T11:46:59.402139Z",
     "start_time": "2022-03-22T11:46:59.395277Z"
    }
   },
   "outputs": [
    {
     "data": {
      "text/html": [
       "<div>\n",
       "<style scoped>\n",
       "    .dataframe tbody tr th:only-of-type {\n",
       "        vertical-align: middle;\n",
       "    }\n",
       "\n",
       "    .dataframe tbody tr th {\n",
       "        vertical-align: top;\n",
       "    }\n",
       "\n",
       "    .dataframe thead th {\n",
       "        text-align: right;\n",
       "    }\n",
       "</style>\n",
       "<table border=\"1\" class=\"dataframe\">\n",
       "  <thead>\n",
       "    <tr style=\"text-align: right;\">\n",
       "      <th></th>\n",
       "      <th>challenge_word</th>\n",
       "      <th>guess</th>\n",
       "      <th>positional_scores</th>\n",
       "      <th>overall_scores</th>\n",
       "    </tr>\n",
       "  </thead>\n",
       "  <tbody>\n",
       "    <tr>\n",
       "      <th>0</th>\n",
       "      <td>steal</td>\n",
       "      <td>tales</td>\n",
       "      <td>0 0 0 0 0</td>\n",
       "      <td>0</td>\n",
       "    </tr>\n",
       "    <tr>\n",
       "      <th>1</th>\n",
       "      <td>steal</td>\n",
       "      <td>slate</td>\n",
       "      <td>1 0 0 0 0</td>\n",
       "      <td>1</td>\n",
       "    </tr>\n",
       "    <tr>\n",
       "      <th>2</th>\n",
       "      <td>steal</td>\n",
       "      <td>stale</td>\n",
       "      <td>1 1 0 0 0</td>\n",
       "      <td>2</td>\n",
       "    </tr>\n",
       "    <tr>\n",
       "      <th>3</th>\n",
       "      <td>steal</td>\n",
       "      <td>satle</td>\n",
       "      <td>1 0 0 0 0</td>\n",
       "      <td>1</td>\n",
       "    </tr>\n",
       "    <tr>\n",
       "      <th>4</th>\n",
       "      <td>steal</td>\n",
       "      <td>stela</td>\n",
       "      <td>1 1 1 0 0</td>\n",
       "      <td>3</td>\n",
       "    </tr>\n",
       "    <tr>\n",
       "      <th>5</th>\n",
       "      <td>steal</td>\n",
       "      <td>astel</td>\n",
       "      <td>0 0 0 0 1</td>\n",
       "      <td>1</td>\n",
       "    </tr>\n",
       "  </tbody>\n",
       "</table>\n",
       "</div>"
      ],
      "text/plain": [
       "  challenge_word  guess positional_scores  overall_scores\n",
       "0          steal  tales         0 0 0 0 0               0\n",
       "1          steal  slate         1 0 0 0 0               1\n",
       "2          steal  stale         1 1 0 0 0               2\n",
       "3          steal  satle         1 0 0 0 0               1\n",
       "4          steal  stela         1 1 1 0 0               3\n",
       "5          steal  astel         0 0 0 0 1               1"
      ]
     },
     "execution_count": 22,
     "metadata": {},
     "output_type": "execute_result"
    }
   ],
   "source": [
    "df"
   ]
  },
  {
   "cell_type": "code",
   "execution_count": 23,
   "id": "25330802",
   "metadata": {
    "ExecuteTime": {
     "end_time": "2022-03-22T11:46:59.411814Z",
     "start_time": "2022-03-22T11:46:59.403704Z"
    }
   },
   "outputs": [
    {
     "name": "stdout",
     "output_type": "stream",
     "text": [
      "<class 'pandas.core.frame.DataFrame'>\n",
      "RangeIndex: 6 entries, 0 to 5\n",
      "Data columns (total 4 columns):\n",
      " #   Column             Non-Null Count  Dtype \n",
      "---  ------             --------------  ----- \n",
      " 0   challenge_word     6 non-null      object\n",
      " 1   guess              6 non-null      object\n",
      " 2   positional_scores  6 non-null      object\n",
      " 3   overall_scores     6 non-null      int8  \n",
      "dtypes: int8(1), object(3)\n",
      "memory usage: 278.0+ bytes\n"
     ]
    }
   ],
   "source": [
    "df.info()"
   ]
  },
  {
   "cell_type": "code",
   "execution_count": 24,
   "id": "6a75394d",
   "metadata": {
    "ExecuteTime": {
     "end_time": "2022-03-22T11:46:59.421612Z",
     "start_time": "2022-03-22T11:46:59.413708Z"
    }
   },
   "outputs": [
    {
     "data": {
      "text/html": [
       "<div>\n",
       "<style scoped>\n",
       "    .dataframe tbody tr th:only-of-type {\n",
       "        vertical-align: middle;\n",
       "    }\n",
       "\n",
       "    .dataframe tbody tr th {\n",
       "        vertical-align: top;\n",
       "    }\n",
       "\n",
       "    .dataframe thead th {\n",
       "        text-align: right;\n",
       "    }\n",
       "</style>\n",
       "<table border=\"1\" class=\"dataframe\">\n",
       "  <thead>\n",
       "    <tr style=\"text-align: right;\">\n",
       "      <th></th>\n",
       "      <th>word</th>\n",
       "      <th>anagrams</th>\n",
       "      <th>num_anagrams</th>\n",
       "    </tr>\n",
       "  </thead>\n",
       "  <tbody>\n",
       "    <tr>\n",
       "      <th>11</th>\n",
       "      <td>alien</td>\n",
       "      <td>alien, aline, anile</td>\n",
       "      <td>3</td>\n",
       "    </tr>\n",
       "    <tr>\n",
       "      <th>22</th>\n",
       "      <td>ample</td>\n",
       "      <td>ample, maple, pelma</td>\n",
       "      <td>3</td>\n",
       "    </tr>\n",
       "    <tr>\n",
       "      <th>30</th>\n",
       "      <td>argol</td>\n",
       "      <td>argol, algor, orgal</td>\n",
       "      <td>3</td>\n",
       "    </tr>\n",
       "    <tr>\n",
       "      <th>31</th>\n",
       "      <td>argon</td>\n",
       "      <td>argon, orang, angor</td>\n",
       "      <td>3</td>\n",
       "    </tr>\n",
       "    <tr>\n",
       "      <th>32</th>\n",
       "      <td>aries</td>\n",
       "      <td>aries, serai, aesir</td>\n",
       "      <td>3</td>\n",
       "    </tr>\n",
       "    <tr>\n",
       "      <th>39</th>\n",
       "      <td>aster</td>\n",
       "      <td>aster, tarse, arest</td>\n",
       "      <td>3</td>\n",
       "    </tr>\n",
       "    <tr>\n",
       "      <th>44</th>\n",
       "      <td>cadre</td>\n",
       "      <td>cadre, acred, cader</td>\n",
       "      <td>3</td>\n",
       "    </tr>\n",
       "    <tr>\n",
       "      <th>50</th>\n",
       "      <td>caple</td>\n",
       "      <td>caple, capel, clape</td>\n",
       "      <td>3</td>\n",
       "    </tr>\n",
       "    <tr>\n",
       "      <th>55</th>\n",
       "      <td>cater</td>\n",
       "      <td>cater, creat, caret</td>\n",
       "      <td>3</td>\n",
       "    </tr>\n",
       "    <tr>\n",
       "      <th>103</th>\n",
       "      <td>cupel</td>\n",
       "      <td>cupel, pucel, pecul</td>\n",
       "      <td>3</td>\n",
       "    </tr>\n",
       "  </tbody>\n",
       "</table>\n",
       "</div>"
      ],
      "text/plain": [
       "      word             anagrams  num_anagrams\n",
       "11   alien  alien, aline, anile             3\n",
       "22   ample  ample, maple, pelma             3\n",
       "30   argol  argol, algor, orgal             3\n",
       "31   argon  argon, orang, angor             3\n",
       "32   aries  aries, serai, aesir             3\n",
       "39   aster  aster, tarse, arest             3\n",
       "44   cadre  cadre, acred, cader             3\n",
       "50   caple  caple, capel, clape             3\n",
       "55   cater  cater, creat, caret             3\n",
       "103  cupel  cupel, pucel, pecul             3"
      ]
     },
     "execution_count": 24,
     "metadata": {},
     "output_type": "execute_result"
    }
   ],
   "source": [
    "anagrams.loc[anagrams[\"num_anagrams\"] == 3].iloc[:10]"
   ]
  },
  {
   "cell_type": "code",
   "execution_count": null,
   "id": "ab2d349e",
   "metadata": {},
   "outputs": [],
   "source": []
  },
  {
   "cell_type": "code",
   "execution_count": 25,
   "id": "9db1ef01",
   "metadata": {
    "ExecuteTime": {
     "end_time": "2022-03-22T11:46:59.428164Z",
     "start_time": "2022-03-22T11:46:59.423556Z"
    }
   },
   "outputs": [
    {
     "data": {
      "text/plain": [
       "['steal', 'tales', 'slate', 'stale', 'satle', 'stela', 'astel']"
      ]
     },
     "execution_count": 25,
     "metadata": {},
     "output_type": "execute_result"
    }
   ],
   "source": [
    "words = my_list_of_anagrams[index_loc[0][0]]\n",
    "words"
   ]
  },
  {
   "cell_type": "code",
   "execution_count": 26,
   "id": "b62bf6b8",
   "metadata": {
    "ExecuteTime": {
     "end_time": "2022-03-22T11:46:59.434469Z",
     "start_time": "2022-03-22T11:46:59.430213Z"
    }
   },
   "outputs": [
    {
     "data": {
      "text/plain": [
       "['steal', 'tales', 'slate', 'stale', 'satle', 'stela', 'astel']"
      ]
     },
     "execution_count": 26,
     "metadata": {},
     "output_type": "execute_result"
    }
   ],
   "source": [
    "guesses = my_list_of_anagrams[index_loc[0][0]]\n",
    "guesses"
   ]
  },
  {
   "cell_type": "code",
   "execution_count": 27,
   "id": "ce17f13d",
   "metadata": {
    "ExecuteTime": {
     "end_time": "2022-03-22T11:46:59.456373Z",
     "start_time": "2022-03-22T11:46:59.442280Z"
    }
   },
   "outputs": [
    {
     "data": {
      "text/html": [
       "<div>\n",
       "<style scoped>\n",
       "    .dataframe tbody tr th:only-of-type {\n",
       "        vertical-align: middle;\n",
       "    }\n",
       "\n",
       "    .dataframe tbody tr th {\n",
       "        vertical-align: top;\n",
       "    }\n",
       "\n",
       "    .dataframe thead th {\n",
       "        text-align: right;\n",
       "    }\n",
       "</style>\n",
       "<table border=\"1\" class=\"dataframe\">\n",
       "  <thead>\n",
       "    <tr style=\"text-align: right;\">\n",
       "      <th></th>\n",
       "      <th>challenge_word</th>\n",
       "      <th>guess</th>\n",
       "      <th>positional_scores</th>\n",
       "    </tr>\n",
       "  </thead>\n",
       "  <tbody>\n",
       "    <tr>\n",
       "      <th>0</th>\n",
       "      <td>steal</td>\n",
       "      <td>steal</td>\n",
       "      <td>1 1 1 1 1</td>\n",
       "    </tr>\n",
       "    <tr>\n",
       "      <th>1</th>\n",
       "      <td>tales</td>\n",
       "      <td>steal</td>\n",
       "      <td>0 0 0 0 0</td>\n",
       "    </tr>\n",
       "    <tr>\n",
       "      <th>2</th>\n",
       "      <td>slate</td>\n",
       "      <td>steal</td>\n",
       "      <td>1 0 0 0 0</td>\n",
       "    </tr>\n",
       "    <tr>\n",
       "      <th>3</th>\n",
       "      <td>stale</td>\n",
       "      <td>steal</td>\n",
       "      <td>1 1 0 0 0</td>\n",
       "    </tr>\n",
       "    <tr>\n",
       "      <th>4</th>\n",
       "      <td>satle</td>\n",
       "      <td>steal</td>\n",
       "      <td>1 0 0 0 0</td>\n",
       "    </tr>\n",
       "    <tr>\n",
       "      <th>5</th>\n",
       "      <td>stela</td>\n",
       "      <td>steal</td>\n",
       "      <td>1 1 1 0 0</td>\n",
       "    </tr>\n",
       "    <tr>\n",
       "      <th>6</th>\n",
       "      <td>astel</td>\n",
       "      <td>steal</td>\n",
       "      <td>0 0 0 0 1</td>\n",
       "    </tr>\n",
       "    <tr>\n",
       "      <th>7</th>\n",
       "      <td>steal</td>\n",
       "      <td>tales</td>\n",
       "      <td>0 0 0 0 0</td>\n",
       "    </tr>\n",
       "    <tr>\n",
       "      <th>8</th>\n",
       "      <td>tales</td>\n",
       "      <td>tales</td>\n",
       "      <td>1 1 1 1 1</td>\n",
       "    </tr>\n",
       "    <tr>\n",
       "      <th>9</th>\n",
       "      <td>slate</td>\n",
       "      <td>tales</td>\n",
       "      <td>0 0 0 0 0</td>\n",
       "    </tr>\n",
       "  </tbody>\n",
       "</table>\n",
       "</div>"
      ],
      "text/plain": [
       "  challenge_word  guess positional_scores\n",
       "0          steal  steal         1 1 1 1 1\n",
       "1          tales  steal         0 0 0 0 0\n",
       "2          slate  steal         1 0 0 0 0\n",
       "3          stale  steal         1 1 0 0 0\n",
       "4          satle  steal         1 0 0 0 0\n",
       "5          stela  steal         1 1 1 0 0\n",
       "6          astel  steal         0 0 0 0 1\n",
       "7          steal  tales         0 0 0 0 0\n",
       "8          tales  tales         1 1 1 1 1\n",
       "9          slate  tales         0 0 0 0 0"
      ]
     },
     "execution_count": 27,
     "metadata": {},
     "output_type": "execute_result"
    }
   ],
   "source": [
    "data2 = []\n",
    "for guess in guesses:\n",
    "    for word in words:\n",
    "        paired_guess_word = zip(word, guess)\n",
    "        score = np.zeros(5, dtype=np.int8)\n",
    "        for x, (i, j) in enumerate(paired_guess_word):\n",
    "            if i == j:\n",
    "                score[x] = 1\n",
    "            elif i != j and j in word:\n",
    "                score[x] = 0\n",
    "            else:\n",
    "                score[x] = -1\n",
    "            \n",
    "        temp2 = {\n",
    "            \"challenge_word\": word,\n",
    "            \"guess\": guess,\n",
    "            \"positional_scores\": re.sub(r\"[\\[\\]]\", \"\", str(score)).replace(\"\\n\", \",\"),\n",
    "        }\n",
    "        data2.append(temp2)\n",
    "df2 = pd.DataFrame(data2)\n",
    "df2[:10]"
   ]
  },
  {
   "cell_type": "markdown",
   "id": "42b25dcf",
   "metadata": {},
   "source": [
    "### Scoring each anagram against itself"
   ]
  },
  {
   "cell_type": "code",
   "execution_count": 28,
   "id": "d75154d9",
   "metadata": {
    "ExecuteTime": {
     "end_time": "2022-03-22T11:46:59.461768Z",
     "start_time": "2022-03-22T11:46:59.458050Z"
    }
   },
   "outputs": [
    {
     "name": "stdout",
     "output_type": "stream",
     "text": [
      "['steal', 'tales', 'slate', 'stale', 'satle', 'stela', 'astel']\n",
      "['steal', 'tales', 'slate', 'stale', 'satle', 'stela', 'astel']\n"
     ]
    }
   ],
   "source": [
    "print(guesses)\n",
    "print(words)"
   ]
  },
  {
   "cell_type": "code",
   "execution_count": 29,
   "id": "bf886be6",
   "metadata": {
    "ExecuteTime": {
     "end_time": "2022-03-22T11:46:59.467351Z",
     "start_time": "2022-03-22T11:46:59.463655Z"
    }
   },
   "outputs": [
    {
     "data": {
      "text/plain": [
       "7"
      ]
     },
     "execution_count": 29,
     "metadata": {},
     "output_type": "execute_result"
    }
   ],
   "source": [
    "len(guesses)"
   ]
  },
  {
   "cell_type": "code",
   "execution_count": 30,
   "id": "cc2aaf54",
   "metadata": {
    "ExecuteTime": {
     "end_time": "2022-03-22T11:46:59.476579Z",
     "start_time": "2022-03-22T11:46:59.468884Z"
    }
   },
   "outputs": [],
   "source": [
    "data3 = []\n",
    "num_guesses = len(words)\n",
    "counter = 0\n",
    "\n",
    "while counter < num_guesses:\n",
    "    for word in words:\n",
    "        guess = words[counter]\n",
    "        combo_guess_word = zip(guess, word)\n",
    "        scores = np.zeros(5, dtype=np.int8)\n",
    "        for x, (i, j) in enumerate(combo_guess_word):\n",
    "            if i == j:\n",
    "                scores[x] = 1\n",
    "            elif i != j and j in word:\n",
    "                scores[x] = 0\n",
    "            else:\n",
    "                scores[x] = -1\n",
    "        data3.append(re.sub(r\"[\\[\\]]\", \"\", str(scores)).replace(\"\\n\", \",\"))\n",
    "    counter += 1   \n"
   ]
  },
  {
   "cell_type": "code",
   "execution_count": 31,
   "id": "880232c4",
   "metadata": {
    "ExecuteTime": {
     "end_time": "2022-03-22T11:46:59.481904Z",
     "start_time": "2022-03-22T11:46:59.478150Z"
    }
   },
   "outputs": [
    {
     "data": {
      "text/plain": [
       "['1 1 1 1 1',\n",
       " '0 0 0 0 0',\n",
       " '1 0 0 0 0',\n",
       " '1 1 0 0 0',\n",
       " '1 0 0 0 0',\n",
       " '1 1 1 0 0',\n",
       " '0 0 0 0 1']"
      ]
     },
     "execution_count": 31,
     "metadata": {},
     "output_type": "execute_result"
    }
   ],
   "source": [
    "data3[:7]"
   ]
  },
  {
   "cell_type": "code",
   "execution_count": 32,
   "id": "d17e82c5",
   "metadata": {
    "ExecuteTime": {
     "end_time": "2022-03-22T11:46:59.487328Z",
     "start_time": "2022-03-22T11:46:59.483421Z"
    }
   },
   "outputs": [
    {
     "data": {
      "text/plain": [
       "(49, 7)"
      ]
     },
     "execution_count": 32,
     "metadata": {},
     "output_type": "execute_result"
    }
   ],
   "source": [
    "len(data3), num_guesses"
   ]
  },
  {
   "cell_type": "code",
   "execution_count": 33,
   "id": "c6e1d1c1",
   "metadata": {
    "ExecuteTime": {
     "end_time": "2022-03-22T11:46:59.493221Z",
     "start_time": "2022-03-22T11:46:59.489197Z"
    }
   },
   "outputs": [
    {
     "data": {
      "text/plain": [
       "array([['1 1 1 1 1', '0 0 0 0 0', '1 0 0 0 0', '1 1 0 0 0', '1 0 0 0 0',\n",
       "        '1 1 1 0 0', '0 0 0 0 1'],\n",
       "       ['0 0 0 0 0', '1 1 1 1 1', '0 0 0 0 0', '0 0 0 0 0', '0 1 0 0 0',\n",
       "        '0 0 0 0 0', '0 0 0 1 0'],\n",
       "       ['1 0 0 0 0', '0 0 0 0 0', '1 1 1 1 1', '1 0 1 0 1', '1 0 0 0 1',\n",
       "        '1 0 0 0 0', '0 0 0 0 0'],\n",
       "       ['1 1 0 0 0', '0 0 0 0 0', '1 0 1 0 1', '1 1 1 1 1', '1 0 0 1 1',\n",
       "        '1 1 0 1 0', '0 0 0 0 0'],\n",
       "       ['1 0 0 0 0', '0 1 0 0 0', '1 0 0 0 1', '1 0 0 1 1', '1 1 1 1 1',\n",
       "        '1 0 0 1 0', '0 0 1 0 0'],\n",
       "       ['1 1 1 0 0', '0 0 0 0 0', '1 0 0 0 0', '1 1 0 1 0', '1 0 0 1 0',\n",
       "        '1 1 1 1 1', '0 0 0 0 0'],\n",
       "       ['0 0 0 0 1', '0 0 0 1 0', '0 0 0 0 0', '0 0 0 0 0', '0 0 1 0 0',\n",
       "        '0 0 0 0 0', '1 1 1 1 1']], dtype='<U9')"
      ]
     },
     "execution_count": 33,
     "metadata": {},
     "output_type": "execute_result"
    }
   ],
   "source": [
    "# Every 7th value (num guesses) in data3 represents the next guess word scored against the challenge word\n",
    "# so we can reshape data3 to be a 7x7 array\n",
    "np.array(data3).reshape(num_guesses, num_guesses)"
   ]
  },
  {
   "cell_type": "code",
   "execution_count": 34,
   "id": "f4948a12",
   "metadata": {
    "ExecuteTime": {
     "end_time": "2022-03-22T11:46:59.498196Z",
     "start_time": "2022-03-22T11:46:59.494967Z"
    }
   },
   "outputs": [],
   "source": [
    "df3 = pd.DataFrame(np.array(data3).reshape(7, 7), columns=words, index=guesses)"
   ]
  },
  {
   "cell_type": "code",
   "execution_count": 35,
   "id": "1b0b2962",
   "metadata": {
    "ExecuteTime": {
     "end_time": "2022-03-22T11:46:59.509827Z",
     "start_time": "2022-03-22T11:46:59.499711Z"
    }
   },
   "outputs": [
    {
     "data": {
      "text/html": [
       "<div>\n",
       "<style scoped>\n",
       "    .dataframe tbody tr th:only-of-type {\n",
       "        vertical-align: middle;\n",
       "    }\n",
       "\n",
       "    .dataframe tbody tr th {\n",
       "        vertical-align: top;\n",
       "    }\n",
       "\n",
       "    .dataframe thead th {\n",
       "        text-align: right;\n",
       "    }\n",
       "</style>\n",
       "<table border=\"1\" class=\"dataframe\">\n",
       "  <thead>\n",
       "    <tr style=\"text-align: right;\">\n",
       "      <th></th>\n",
       "      <th>steal</th>\n",
       "      <th>tales</th>\n",
       "      <th>slate</th>\n",
       "      <th>stale</th>\n",
       "      <th>satle</th>\n",
       "      <th>stela</th>\n",
       "      <th>astel</th>\n",
       "    </tr>\n",
       "  </thead>\n",
       "  <tbody>\n",
       "    <tr>\n",
       "      <th>steal</th>\n",
       "      <td>1 1 1 1 1</td>\n",
       "      <td>0 0 0 0 0</td>\n",
       "      <td>1 0 0 0 0</td>\n",
       "      <td>1 1 0 0 0</td>\n",
       "      <td>1 0 0 0 0</td>\n",
       "      <td>1 1 1 0 0</td>\n",
       "      <td>0 0 0 0 1</td>\n",
       "    </tr>\n",
       "    <tr>\n",
       "      <th>tales</th>\n",
       "      <td>0 0 0 0 0</td>\n",
       "      <td>1 1 1 1 1</td>\n",
       "      <td>0 0 0 0 0</td>\n",
       "      <td>0 0 0 0 0</td>\n",
       "      <td>0 1 0 0 0</td>\n",
       "      <td>0 0 0 0 0</td>\n",
       "      <td>0 0 0 1 0</td>\n",
       "    </tr>\n",
       "    <tr>\n",
       "      <th>slate</th>\n",
       "      <td>1 0 0 0 0</td>\n",
       "      <td>0 0 0 0 0</td>\n",
       "      <td>1 1 1 1 1</td>\n",
       "      <td>1 0 1 0 1</td>\n",
       "      <td>1 0 0 0 1</td>\n",
       "      <td>1 0 0 0 0</td>\n",
       "      <td>0 0 0 0 0</td>\n",
       "    </tr>\n",
       "    <tr>\n",
       "      <th>stale</th>\n",
       "      <td>1 1 0 0 0</td>\n",
       "      <td>0 0 0 0 0</td>\n",
       "      <td>1 0 1 0 1</td>\n",
       "      <td>1 1 1 1 1</td>\n",
       "      <td>1 0 0 1 1</td>\n",
       "      <td>1 1 0 1 0</td>\n",
       "      <td>0 0 0 0 0</td>\n",
       "    </tr>\n",
       "    <tr>\n",
       "      <th>satle</th>\n",
       "      <td>1 0 0 0 0</td>\n",
       "      <td>0 1 0 0 0</td>\n",
       "      <td>1 0 0 0 1</td>\n",
       "      <td>1 0 0 1 1</td>\n",
       "      <td>1 1 1 1 1</td>\n",
       "      <td>1 0 0 1 0</td>\n",
       "      <td>0 0 1 0 0</td>\n",
       "    </tr>\n",
       "    <tr>\n",
       "      <th>stela</th>\n",
       "      <td>1 1 1 0 0</td>\n",
       "      <td>0 0 0 0 0</td>\n",
       "      <td>1 0 0 0 0</td>\n",
       "      <td>1 1 0 1 0</td>\n",
       "      <td>1 0 0 1 0</td>\n",
       "      <td>1 1 1 1 1</td>\n",
       "      <td>0 0 0 0 0</td>\n",
       "    </tr>\n",
       "    <tr>\n",
       "      <th>astel</th>\n",
       "      <td>0 0 0 0 1</td>\n",
       "      <td>0 0 0 1 0</td>\n",
       "      <td>0 0 0 0 0</td>\n",
       "      <td>0 0 0 0 0</td>\n",
       "      <td>0 0 1 0 0</td>\n",
       "      <td>0 0 0 0 0</td>\n",
       "      <td>1 1 1 1 1</td>\n",
       "    </tr>\n",
       "  </tbody>\n",
       "</table>\n",
       "</div>"
      ],
      "text/plain": [
       "           steal      tales      slate      stale      satle      stela  \\\n",
       "steal  1 1 1 1 1  0 0 0 0 0  1 0 0 0 0  1 1 0 0 0  1 0 0 0 0  1 1 1 0 0   \n",
       "tales  0 0 0 0 0  1 1 1 1 1  0 0 0 0 0  0 0 0 0 0  0 1 0 0 0  0 0 0 0 0   \n",
       "slate  1 0 0 0 0  0 0 0 0 0  1 1 1 1 1  1 0 1 0 1  1 0 0 0 1  1 0 0 0 0   \n",
       "stale  1 1 0 0 0  0 0 0 0 0  1 0 1 0 1  1 1 1 1 1  1 0 0 1 1  1 1 0 1 0   \n",
       "satle  1 0 0 0 0  0 1 0 0 0  1 0 0 0 1  1 0 0 1 1  1 1 1 1 1  1 0 0 1 0   \n",
       "stela  1 1 1 0 0  0 0 0 0 0  1 0 0 0 0  1 1 0 1 0  1 0 0 1 0  1 1 1 1 1   \n",
       "astel  0 0 0 0 1  0 0 0 1 0  0 0 0 0 0  0 0 0 0 0  0 0 1 0 0  0 0 0 0 0   \n",
       "\n",
       "           astel  \n",
       "steal  0 0 0 0 1  \n",
       "tales  0 0 0 1 0  \n",
       "slate  0 0 0 0 0  \n",
       "stale  0 0 0 0 0  \n",
       "satle  0 0 1 0 0  \n",
       "stela  0 0 0 0 0  \n",
       "astel  1 1 1 1 1  "
      ]
     },
     "execution_count": 35,
     "metadata": {},
     "output_type": "execute_result"
    }
   ],
   "source": [
    "df3"
   ]
  },
  {
   "cell_type": "code",
   "execution_count": null,
   "id": "5038d006",
   "metadata": {},
   "outputs": [],
   "source": []
  },
  {
   "cell_type": "markdown",
   "id": "ca3f08d6",
   "metadata": {},
   "source": [
    "### Take the anagram dataframe and randomly select a word to display the scoring"
   ]
  },
  {
   "cell_type": "code",
   "execution_count": 89,
   "id": "234421d0",
   "metadata": {
    "ExecuteTime": {
     "end_time": "2022-03-22T11:55:44.793737Z",
     "start_time": "2022-03-22T11:55:44.785879Z"
    }
   },
   "outputs": [
    {
     "data": {
      "text/html": [
       "<div>\n",
       "<style scoped>\n",
       "    .dataframe tbody tr th:only-of-type {\n",
       "        vertical-align: middle;\n",
       "    }\n",
       "\n",
       "    .dataframe tbody tr th {\n",
       "        vertical-align: top;\n",
       "    }\n",
       "\n",
       "    .dataframe thead th {\n",
       "        text-align: right;\n",
       "    }\n",
       "</style>\n",
       "<table border=\"1\" class=\"dataframe\">\n",
       "  <thead>\n",
       "    <tr style=\"text-align: right;\">\n",
       "      <th></th>\n",
       "      <th>predy</th>\n",
       "      <th>perdy</th>\n",
       "    </tr>\n",
       "  </thead>\n",
       "  <tbody>\n",
       "    <tr>\n",
       "      <th>predy</th>\n",
       "      <td>1 1 1 1 1</td>\n",
       "      <td>1 0 0 1 1</td>\n",
       "    </tr>\n",
       "    <tr>\n",
       "      <th>perdy</th>\n",
       "      <td>1 0 0 1 1</td>\n",
       "      <td>1 1 1 1 1</td>\n",
       "    </tr>\n",
       "  </tbody>\n",
       "</table>\n",
       "</div>"
      ],
      "text/plain": [
       "           predy      perdy\n",
       "predy  1 1 1 1 1  1 0 0 1 1\n",
       "perdy  1 0 0 1 1  1 1 1 1 1"
      ]
     },
     "execution_count": 89,
     "metadata": {},
     "output_type": "execute_result"
    }
   ],
   "source": [
    "# show score for random anagrams\n",
    "anagram_scoring_df = anagram_scoring(anagrams)\n",
    "anagram_scoring_df"
   ]
  },
  {
   "cell_type": "markdown",
   "id": "b2422824",
   "metadata": {},
   "source": [
    "### Score all anagrams against each other. The scoring partners which aren't anagrams will contain `-1s`  "
   ]
  },
  {
   "cell_type": "code",
   "execution_count": 38,
   "id": "04b112e8",
   "metadata": {
    "ExecuteTime": {
     "end_time": "2022-03-22T11:47:21.128862Z",
     "start_time": "2022-03-22T11:46:59.524354Z"
    }
   },
   "outputs": [
    {
     "name": "stderr",
     "output_type": "stream",
     "text": [
      "100%|███████████████████████████████████████████████████████████████████████| 672/672 [00:21<00:00, 31.37it/s]\n"
     ]
    }
   ],
   "source": [
    "all_anagram_scoring_df = all_anagram_scoring(anagrams)"
   ]
  },
  {
   "cell_type": "code",
   "execution_count": 39,
   "id": "b86225f0",
   "metadata": {
    "ExecuteTime": {
     "end_time": "2022-03-22T11:47:21.165738Z",
     "start_time": "2022-03-22T11:47:21.131390Z"
    }
   },
   "outputs": [
    {
     "name": "stdout",
     "output_type": "stream",
     "text": [
      "<class 'pandas.core.frame.DataFrame'>\n",
      "Index: 672 entries, clear to curia\n",
      "Columns: 672 entries, clear to curia\n",
      "dtypes: object(672)\n",
      "memory usage: 3.5+ MB\n"
     ]
    }
   ],
   "source": [
    "all_anagram_scoring_df.info()"
   ]
  },
  {
   "cell_type": "code",
   "execution_count": 40,
   "id": "33d96b63",
   "metadata": {
    "ExecuteTime": {
     "end_time": "2022-03-22T11:47:21.190121Z",
     "start_time": "2022-03-22T11:47:21.167383Z"
    }
   },
   "outputs": [
    {
     "data": {
      "text/html": [
       "<div>\n",
       "<style scoped>\n",
       "    .dataframe tbody tr th:only-of-type {\n",
       "        vertical-align: middle;\n",
       "    }\n",
       "\n",
       "    .dataframe tbody tr th {\n",
       "        vertical-align: top;\n",
       "    }\n",
       "\n",
       "    .dataframe thead th {\n",
       "        text-align: right;\n",
       "    }\n",
       "</style>\n",
       "<table border=\"1\" class=\"dataframe\">\n",
       "  <thead>\n",
       "    <tr style=\"text-align: right;\">\n",
       "      <th></th>\n",
       "      <th>clear</th>\n",
       "      <th>wythe</th>\n",
       "      <th>algin</th>\n",
       "      <th>crois</th>\n",
       "      <th>chyle</th>\n",
       "      <th>cadge</th>\n",
       "      <th>slide</th>\n",
       "      <th>found</th>\n",
       "      <th>chore</th>\n",
       "      <th>adobe</th>\n",
       "      <th>...</th>\n",
       "      <th>shore</th>\n",
       "      <th>sport</th>\n",
       "      <th>swart</th>\n",
       "      <th>taper</th>\n",
       "      <th>tired</th>\n",
       "      <th>manis</th>\n",
       "      <th>stone</th>\n",
       "      <th>predy</th>\n",
       "      <th>other</th>\n",
       "      <th>curia</th>\n",
       "    </tr>\n",
       "  </thead>\n",
       "  <tbody>\n",
       "    <tr>\n",
       "      <th>clear</th>\n",
       "      <td>1 1 1 1 1</td>\n",
       "      <td>-1 -1 -1 -1  0</td>\n",
       "      <td>0  1 -1 -1 -1</td>\n",
       "      <td>1  0 -1 -1 -1</td>\n",
       "      <td>1 -1 -1  0  0</td>\n",
       "      <td>1  0 -1 -1  0</td>\n",
       "      <td>-1  1 -1 -1  0</td>\n",
       "      <td>-1 -1 -1 -1 -1</td>\n",
       "      <td>1 -1 -1  0  0</td>\n",
       "      <td>0 -1 -1 -1  0</td>\n",
       "      <td>...</td>\n",
       "      <td>-1 -1 -1  0  0</td>\n",
       "      <td>-1 -1 -1  0 -1</td>\n",
       "      <td>-1 -1  0  0 -1</td>\n",
       "      <td>-1  0 -1  0  1</td>\n",
       "      <td>-1 -1  0  0 -1</td>\n",
       "      <td>-1  0 -1 -1 -1</td>\n",
       "      <td>-1 -1 -1 -1  0</td>\n",
       "      <td>-1  0  1 -1 -1</td>\n",
       "      <td>-1 -1 -1  0  1</td>\n",
       "      <td>1 -1  0 -1  0</td>\n",
       "    </tr>\n",
       "    <tr>\n",
       "      <th>wythe</th>\n",
       "      <td>-1 -1  0 -1 -1</td>\n",
       "      <td>1 1 1 1 1</td>\n",
       "      <td>-1 -1 -1 -1 -1</td>\n",
       "      <td>-1 -1 -1 -1 -1</td>\n",
       "      <td>-1  0  0 -1  1</td>\n",
       "      <td>-1 -1 -1 -1  1</td>\n",
       "      <td>-1 -1 -1 -1  1</td>\n",
       "      <td>-1 -1 -1 -1 -1</td>\n",
       "      <td>-1  0 -1 -1  1</td>\n",
       "      <td>-1 -1 -1 -1  1</td>\n",
       "      <td>...</td>\n",
       "      <td>-1  0 -1 -1  1</td>\n",
       "      <td>-1 -1 -1 -1  0</td>\n",
       "      <td>-1  0 -1 -1  0</td>\n",
       "      <td>0 -1 -1  0 -1</td>\n",
       "      <td>0 -1 -1  0 -1</td>\n",
       "      <td>-1 -1 -1 -1 -1</td>\n",
       "      <td>-1  0 -1 -1  1</td>\n",
       "      <td>-1 -1  0 -1  0</td>\n",
       "      <td>-1  0  0  0 -1</td>\n",
       "      <td>-1 -1 -1 -1 -1</td>\n",
       "    </tr>\n",
       "    <tr>\n",
       "      <th>algin</th>\n",
       "      <td>-1  1 -1  0 -1</td>\n",
       "      <td>-1 -1 -1 -1 -1</td>\n",
       "      <td>1 1 1 1 1</td>\n",
       "      <td>-1 -1 -1  1 -1</td>\n",
       "      <td>-1 -1 -1  0 -1</td>\n",
       "      <td>-1  0 -1  0 -1</td>\n",
       "      <td>-1  1  0 -1 -1</td>\n",
       "      <td>-1 -1 -1  0 -1</td>\n",
       "      <td>-1 -1 -1 -1 -1</td>\n",
       "      <td>1 -1 -1 -1 -1</td>\n",
       "      <td>...</td>\n",
       "      <td>-1 -1 -1 -1 -1</td>\n",
       "      <td>-1 -1 -1 -1 -1</td>\n",
       "      <td>-1 -1  0 -1 -1</td>\n",
       "      <td>-1  0 -1 -1 -1</td>\n",
       "      <td>-1  0 -1 -1 -1</td>\n",
       "      <td>-1  0  0  1 -1</td>\n",
       "      <td>-1 -1 -1  0 -1</td>\n",
       "      <td>-1 -1 -1 -1 -1</td>\n",
       "      <td>-1 -1 -1 -1 -1</td>\n",
       "      <td>-1 -1 -1  1  0</td>\n",
       "    </tr>\n",
       "    <tr>\n",
       "      <th>crois</th>\n",
       "      <td>1 -1 -1 -1  0</td>\n",
       "      <td>-1 -1 -1 -1 -1</td>\n",
       "      <td>-1 -1 -1  1 -1</td>\n",
       "      <td>1 1 1 1 1</td>\n",
       "      <td>1 -1 -1 -1 -1</td>\n",
       "      <td>1 -1 -1 -1 -1</td>\n",
       "      <td>0 -1  0 -1 -1</td>\n",
       "      <td>-1  0 -1 -1 -1</td>\n",
       "      <td>1 -1  1  0 -1</td>\n",
       "      <td>-1 -1  1 -1 -1</td>\n",
       "      <td>...</td>\n",
       "      <td>0 -1  1  0 -1</td>\n",
       "      <td>0 -1  1  0 -1</td>\n",
       "      <td>0 -1 -1  0 -1</td>\n",
       "      <td>-1 -1 -1 -1  0</td>\n",
       "      <td>-1  0  0 -1 -1</td>\n",
       "      <td>-1 -1 -1  1  1</td>\n",
       "      <td>0 -1  1 -1 -1</td>\n",
       "      <td>-1  1 -1 -1 -1</td>\n",
       "      <td>0 -1 -1 -1  0</td>\n",
       "      <td>1 -1  0  1 -1</td>\n",
       "    </tr>\n",
       "    <tr>\n",
       "      <th>chyle</th>\n",
       "      <td>1  0  0 -1 -1</td>\n",
       "      <td>-1  0 -1  0  1</td>\n",
       "      <td>-1  0 -1 -1 -1</td>\n",
       "      <td>1 -1 -1 -1 -1</td>\n",
       "      <td>1 1 1 1 1</td>\n",
       "      <td>1 -1 -1 -1  1</td>\n",
       "      <td>-1  0 -1 -1  1</td>\n",
       "      <td>-1 -1 -1 -1 -1</td>\n",
       "      <td>1  1 -1 -1  1</td>\n",
       "      <td>-1 -1 -1 -1  1</td>\n",
       "      <td>...</td>\n",
       "      <td>-1  1 -1 -1  1</td>\n",
       "      <td>-1 -1 -1 -1 -1</td>\n",
       "      <td>-1 -1 -1 -1 -1</td>\n",
       "      <td>-1 -1 -1  0 -1</td>\n",
       "      <td>-1 -1 -1  0 -1</td>\n",
       "      <td>-1 -1 -1 -1 -1</td>\n",
       "      <td>-1 -1 -1 -1  1</td>\n",
       "      <td>-1 -1  0 -1  0</td>\n",
       "      <td>-1 -1  0  0 -1</td>\n",
       "      <td>1 -1 -1 -1 -1</td>\n",
       "    </tr>\n",
       "    <tr>\n",
       "      <th>...</th>\n",
       "      <td>...</td>\n",
       "      <td>...</td>\n",
       "      <td>...</td>\n",
       "      <td>...</td>\n",
       "      <td>...</td>\n",
       "      <td>...</td>\n",
       "      <td>...</td>\n",
       "      <td>...</td>\n",
       "      <td>...</td>\n",
       "      <td>...</td>\n",
       "      <td>...</td>\n",
       "      <td>...</td>\n",
       "      <td>...</td>\n",
       "      <td>...</td>\n",
       "      <td>...</td>\n",
       "      <td>...</td>\n",
       "      <td>...</td>\n",
       "      <td>...</td>\n",
       "      <td>...</td>\n",
       "      <td>...</td>\n",
       "      <td>...</td>\n",
       "    </tr>\n",
       "    <tr>\n",
       "      <th>manis</th>\n",
       "      <td>-1 -1 -1  0 -1</td>\n",
       "      <td>-1 -1 -1 -1 -1</td>\n",
       "      <td>0 -1 -1  1  0</td>\n",
       "      <td>-1 -1 -1  1  1</td>\n",
       "      <td>-1 -1 -1 -1 -1</td>\n",
       "      <td>-1  1 -1 -1 -1</td>\n",
       "      <td>0 -1  0 -1 -1</td>\n",
       "      <td>-1 -1 -1  0 -1</td>\n",
       "      <td>-1 -1 -1 -1 -1</td>\n",
       "      <td>0 -1 -1 -1 -1</td>\n",
       "      <td>...</td>\n",
       "      <td>0 -1 -1 -1 -1</td>\n",
       "      <td>0 -1 -1 -1 -1</td>\n",
       "      <td>0 -1  0 -1 -1</td>\n",
       "      <td>-1  1 -1 -1 -1</td>\n",
       "      <td>-1  0 -1 -1 -1</td>\n",
       "      <td>1 1 1 1 1</td>\n",
       "      <td>0 -1 -1  0 -1</td>\n",
       "      <td>-1 -1 -1 -1 -1</td>\n",
       "      <td>-1 -1 -1 -1 -1</td>\n",
       "      <td>-1 -1 -1  1  0</td>\n",
       "    </tr>\n",
       "    <tr>\n",
       "      <th>stone</th>\n",
       "      <td>-1 -1  0 -1 -1</td>\n",
       "      <td>-1 -1  0 -1  1</td>\n",
       "      <td>-1 -1 -1 -1  0</td>\n",
       "      <td>-1 -1  1 -1  0</td>\n",
       "      <td>-1 -1 -1 -1  1</td>\n",
       "      <td>-1 -1 -1 -1  1</td>\n",
       "      <td>1 -1 -1 -1  1</td>\n",
       "      <td>-1  0 -1  1 -1</td>\n",
       "      <td>-1 -1  1 -1  1</td>\n",
       "      <td>-1 -1  1 -1  1</td>\n",
       "      <td>...</td>\n",
       "      <td>1 -1  1 -1  1</td>\n",
       "      <td>1 -1  1 -1  0</td>\n",
       "      <td>1 -1 -1 -1  0</td>\n",
       "      <td>0 -1 -1  0 -1</td>\n",
       "      <td>0 -1 -1  0 -1</td>\n",
       "      <td>-1 -1  0 -1  0</td>\n",
       "      <td>1 1 1 1 1</td>\n",
       "      <td>-1 -1  0 -1 -1</td>\n",
       "      <td>0  1 -1  0 -1</td>\n",
       "      <td>-1 -1 -1 -1 -1</td>\n",
       "    </tr>\n",
       "    <tr>\n",
       "      <th>predy</th>\n",
       "      <td>-1 -1  1 -1  0</td>\n",
       "      <td>-1  0 -1 -1  0</td>\n",
       "      <td>-1 -1 -1 -1 -1</td>\n",
       "      <td>-1  1 -1 -1 -1</td>\n",
       "      <td>-1 -1  0 -1  0</td>\n",
       "      <td>-1 -1  0 -1  0</td>\n",
       "      <td>-1 -1 -1  1  0</td>\n",
       "      <td>-1 -1 -1 -1  0</td>\n",
       "      <td>-1 -1 -1  0  0</td>\n",
       "      <td>-1  0 -1 -1  0</td>\n",
       "      <td>...</td>\n",
       "      <td>-1 -1 -1  0  0</td>\n",
       "      <td>-1  0 -1  0 -1</td>\n",
       "      <td>-1 -1 -1  0 -1</td>\n",
       "      <td>-1 -1  0  0  0</td>\n",
       "      <td>-1 -1  0  0  0</td>\n",
       "      <td>-1 -1 -1 -1 -1</td>\n",
       "      <td>-1 -1 -1 -1  0</td>\n",
       "      <td>1 1 1 1 1</td>\n",
       "      <td>-1 -1 -1  0  0</td>\n",
       "      <td>-1 -1  0 -1 -1</td>\n",
       "    </tr>\n",
       "    <tr>\n",
       "      <th>other</th>\n",
       "      <td>-1 -1  0 -1  1</td>\n",
       "      <td>-1 -1  0  0  0</td>\n",
       "      <td>-1 -1 -1 -1 -1</td>\n",
       "      <td>-1  0  0 -1 -1</td>\n",
       "      <td>-1  0 -1 -1  0</td>\n",
       "      <td>-1 -1 -1 -1  0</td>\n",
       "      <td>-1 -1 -1 -1  0</td>\n",
       "      <td>-1  0 -1 -1 -1</td>\n",
       "      <td>-1  0  0  0  0</td>\n",
       "      <td>-1 -1  0 -1  0</td>\n",
       "      <td>...</td>\n",
       "      <td>-1  0  0  0  0</td>\n",
       "      <td>-1 -1  0  0  0</td>\n",
       "      <td>-1 -1 -1  0  0</td>\n",
       "      <td>0 -1 -1  1  1</td>\n",
       "      <td>0 -1  0  1 -1</td>\n",
       "      <td>-1 -1 -1 -1 -1</td>\n",
       "      <td>-1  1  0 -1  0</td>\n",
       "      <td>-1  0  0 -1 -1</td>\n",
       "      <td>1 1 1 1 1</td>\n",
       "      <td>-1 -1  0 -1 -1</td>\n",
       "    </tr>\n",
       "    <tr>\n",
       "      <th>curia</th>\n",
       "      <td>1 -1 -1  0  0</td>\n",
       "      <td>-1 -1 -1 -1 -1</td>\n",
       "      <td>0 -1 -1  1 -1</td>\n",
       "      <td>1  0 -1  1 -1</td>\n",
       "      <td>1 -1 -1 -1 -1</td>\n",
       "      <td>1  0 -1 -1 -1</td>\n",
       "      <td>-1 -1  0 -1 -1</td>\n",
       "      <td>-1 -1  0 -1 -1</td>\n",
       "      <td>1 -1 -1  0 -1</td>\n",
       "      <td>0 -1 -1 -1 -1</td>\n",
       "      <td>...</td>\n",
       "      <td>-1 -1 -1  0 -1</td>\n",
       "      <td>-1 -1 -1  0 -1</td>\n",
       "      <td>-1 -1  0  0 -1</td>\n",
       "      <td>-1  0 -1 -1  0</td>\n",
       "      <td>-1  0  1 -1 -1</td>\n",
       "      <td>-1  0 -1  1 -1</td>\n",
       "      <td>-1 -1 -1 -1 -1</td>\n",
       "      <td>-1  0 -1 -1 -1</td>\n",
       "      <td>-1 -1 -1 -1  0</td>\n",
       "      <td>1 1 1 1 1</td>\n",
       "    </tr>\n",
       "  </tbody>\n",
       "</table>\n",
       "<p>672 rows × 672 columns</p>\n",
       "</div>"
      ],
      "text/plain": [
       "                clear           wythe           algin           crois  \\\n",
       "clear       1 1 1 1 1  -1 -1 -1 -1  0   0  1 -1 -1 -1   1  0 -1 -1 -1   \n",
       "wythe  -1 -1  0 -1 -1       1 1 1 1 1  -1 -1 -1 -1 -1  -1 -1 -1 -1 -1   \n",
       "algin  -1  1 -1  0 -1  -1 -1 -1 -1 -1       1 1 1 1 1  -1 -1 -1  1 -1   \n",
       "crois   1 -1 -1 -1  0  -1 -1 -1 -1 -1  -1 -1 -1  1 -1       1 1 1 1 1   \n",
       "chyle   1  0  0 -1 -1  -1  0 -1  0  1  -1  0 -1 -1 -1   1 -1 -1 -1 -1   \n",
       "...               ...             ...             ...             ...   \n",
       "manis  -1 -1 -1  0 -1  -1 -1 -1 -1 -1   0 -1 -1  1  0  -1 -1 -1  1  1   \n",
       "stone  -1 -1  0 -1 -1  -1 -1  0 -1  1  -1 -1 -1 -1  0  -1 -1  1 -1  0   \n",
       "predy  -1 -1  1 -1  0  -1  0 -1 -1  0  -1 -1 -1 -1 -1  -1  1 -1 -1 -1   \n",
       "other  -1 -1  0 -1  1  -1 -1  0  0  0  -1 -1 -1 -1 -1  -1  0  0 -1 -1   \n",
       "curia   1 -1 -1  0  0  -1 -1 -1 -1 -1   0 -1 -1  1 -1   1  0 -1  1 -1   \n",
       "\n",
       "                chyle           cadge           slide           found  \\\n",
       "clear   1 -1 -1  0  0   1  0 -1 -1  0  -1  1 -1 -1  0  -1 -1 -1 -1 -1   \n",
       "wythe  -1  0  0 -1  1  -1 -1 -1 -1  1  -1 -1 -1 -1  1  -1 -1 -1 -1 -1   \n",
       "algin  -1 -1 -1  0 -1  -1  0 -1  0 -1  -1  1  0 -1 -1  -1 -1 -1  0 -1   \n",
       "crois   1 -1 -1 -1 -1   1 -1 -1 -1 -1   0 -1  0 -1 -1  -1  0 -1 -1 -1   \n",
       "chyle       1 1 1 1 1   1 -1 -1 -1  1  -1  0 -1 -1  1  -1 -1 -1 -1 -1   \n",
       "...               ...             ...             ...             ...   \n",
       "manis  -1 -1 -1 -1 -1  -1  1 -1 -1 -1   0 -1  0 -1 -1  -1 -1 -1  0 -1   \n",
       "stone  -1 -1 -1 -1  1  -1 -1 -1 -1  1   1 -1 -1 -1  1  -1  0 -1  1 -1   \n",
       "predy  -1 -1  0 -1  0  -1 -1  0 -1  0  -1 -1 -1  1  0  -1 -1 -1 -1  0   \n",
       "other  -1  0 -1 -1  0  -1 -1 -1 -1  0  -1 -1 -1 -1  0  -1  0 -1 -1 -1   \n",
       "curia   1 -1 -1 -1 -1   1  0 -1 -1 -1  -1 -1  0 -1 -1  -1 -1  0 -1 -1   \n",
       "\n",
       "                chore           adobe  ...           shore           sport  \\\n",
       "clear   1 -1 -1  0  0   0 -1 -1 -1  0  ...  -1 -1 -1  0  0  -1 -1 -1  0 -1   \n",
       "wythe  -1  0 -1 -1  1  -1 -1 -1 -1  1  ...  -1  0 -1 -1  1  -1 -1 -1 -1  0   \n",
       "algin  -1 -1 -1 -1 -1   1 -1 -1 -1 -1  ...  -1 -1 -1 -1 -1  -1 -1 -1 -1 -1   \n",
       "crois   1 -1  1  0 -1  -1 -1  1 -1 -1  ...   0 -1  1  0 -1   0 -1  1  0 -1   \n",
       "chyle   1  1 -1 -1  1  -1 -1 -1 -1  1  ...  -1  1 -1 -1  1  -1 -1 -1 -1 -1   \n",
       "...               ...             ...  ...             ...             ...   \n",
       "manis  -1 -1 -1 -1 -1   0 -1 -1 -1 -1  ...   0 -1 -1 -1 -1   0 -1 -1 -1 -1   \n",
       "stone  -1 -1  1 -1  1  -1 -1  1 -1  1  ...   1 -1  1 -1  1   1 -1  1 -1  0   \n",
       "predy  -1 -1 -1  0  0  -1  0 -1 -1  0  ...  -1 -1 -1  0  0  -1  0 -1  0 -1   \n",
       "other  -1  0  0  0  0  -1 -1  0 -1  0  ...  -1  0  0  0  0  -1 -1  0  0  0   \n",
       "curia   1 -1 -1  0 -1   0 -1 -1 -1 -1  ...  -1 -1 -1  0 -1  -1 -1 -1  0 -1   \n",
       "\n",
       "                swart           taper           tired           manis  \\\n",
       "clear  -1 -1  0  0 -1  -1  0 -1  0  1  -1 -1  0  0 -1  -1  0 -1 -1 -1   \n",
       "wythe  -1  0 -1 -1  0   0 -1 -1  0 -1   0 -1 -1  0 -1  -1 -1 -1 -1 -1   \n",
       "algin  -1 -1  0 -1 -1  -1  0 -1 -1 -1  -1  0 -1 -1 -1  -1  0  0  1 -1   \n",
       "crois   0 -1 -1  0 -1  -1 -1 -1 -1  0  -1  0  0 -1 -1  -1 -1 -1  1  1   \n",
       "chyle  -1 -1 -1 -1 -1  -1 -1 -1  0 -1  -1 -1 -1  0 -1  -1 -1 -1 -1 -1   \n",
       "...               ...             ...             ...             ...   \n",
       "manis   0 -1  0 -1 -1  -1  1 -1 -1 -1  -1  0 -1 -1 -1       1 1 1 1 1   \n",
       "stone   1 -1 -1 -1  0   0 -1 -1  0 -1   0 -1 -1  0 -1  -1 -1  0 -1  0   \n",
       "predy  -1 -1 -1  0 -1  -1 -1  0  0  0  -1 -1  0  0  0  -1 -1 -1 -1 -1   \n",
       "other  -1 -1 -1  0  0   0 -1 -1  1  1   0 -1  0  1 -1  -1 -1 -1 -1 -1   \n",
       "curia  -1 -1  0  0 -1  -1  0 -1 -1  0  -1  0  1 -1 -1  -1  0 -1  1 -1   \n",
       "\n",
       "                stone           predy           other           curia  \n",
       "clear  -1 -1 -1 -1  0  -1  0  1 -1 -1  -1 -1 -1  0  1   1 -1  0 -1  0  \n",
       "wythe  -1  0 -1 -1  1  -1 -1  0 -1  0  -1  0  0  0 -1  -1 -1 -1 -1 -1  \n",
       "algin  -1 -1 -1  0 -1  -1 -1 -1 -1 -1  -1 -1 -1 -1 -1  -1 -1 -1  1  0  \n",
       "crois   0 -1  1 -1 -1  -1  1 -1 -1 -1   0 -1 -1 -1  0   1 -1  0  1 -1  \n",
       "chyle  -1 -1 -1 -1  1  -1 -1  0 -1  0  -1 -1  0  0 -1   1 -1 -1 -1 -1  \n",
       "...               ...             ...             ...             ...  \n",
       "manis   0 -1 -1  0 -1  -1 -1 -1 -1 -1  -1 -1 -1 -1 -1  -1 -1 -1  1  0  \n",
       "stone       1 1 1 1 1  -1 -1  0 -1 -1   0  1 -1  0 -1  -1 -1 -1 -1 -1  \n",
       "predy  -1 -1 -1 -1  0       1 1 1 1 1  -1 -1 -1  0  0  -1 -1  0 -1 -1  \n",
       "other  -1  1  0 -1  0  -1  0  0 -1 -1       1 1 1 1 1  -1 -1  0 -1 -1  \n",
       "curia  -1 -1 -1 -1 -1  -1  0 -1 -1 -1  -1 -1 -1 -1  0       1 1 1 1 1  \n",
       "\n",
       "[672 rows x 672 columns]"
      ]
     },
     "execution_count": 40,
     "metadata": {},
     "output_type": "execute_result"
    }
   ],
   "source": [
    "all_anagram_scoring_df"
   ]
  },
  {
   "cell_type": "code",
   "execution_count": 41,
   "id": "b7ed1dc1",
   "metadata": {
    "ExecuteTime": {
     "end_time": "2022-03-22T11:47:21.399978Z",
     "start_time": "2022-03-22T11:47:21.191920Z"
    }
   },
   "outputs": [],
   "source": [
    "all_anagram_scoring_df.to_csv(\"./data/all_anagram_scoring.csv\", index=False)"
   ]
  },
  {
   "cell_type": "markdown",
   "id": "93a6df0b",
   "metadata": {},
   "source": [
    "## 5 bit binary  \n",
    "\n",
    "Scoring of anagrams produces 5 bit binary with range from `00000` to `11111` `(0 to 31)`.  \n",
    "- `00000`, all letter are in wrong place\n",
    "- `11111`, letters matched correctly"
   ]
  },
  {
   "cell_type": "code",
   "execution_count": 42,
   "id": "47e644a1",
   "metadata": {
    "ExecuteTime": {
     "end_time": "2022-03-22T11:47:21.410722Z",
     "start_time": "2022-03-22T11:47:21.401791Z"
    }
   },
   "outputs": [
    {
     "data": {
      "text/html": [
       "<div>\n",
       "<style scoped>\n",
       "    .dataframe tbody tr th:only-of-type {\n",
       "        vertical-align: middle;\n",
       "    }\n",
       "\n",
       "    .dataframe tbody tr th {\n",
       "        vertical-align: top;\n",
       "    }\n",
       "\n",
       "    .dataframe thead th {\n",
       "        text-align: right;\n",
       "    }\n",
       "</style>\n",
       "<table border=\"1\" class=\"dataframe\">\n",
       "  <thead>\n",
       "    <tr style=\"text-align: right;\">\n",
       "      <th></th>\n",
       "      <th>steal</th>\n",
       "      <th>tales</th>\n",
       "      <th>slate</th>\n",
       "      <th>stale</th>\n",
       "      <th>satle</th>\n",
       "      <th>stela</th>\n",
       "      <th>astel</th>\n",
       "    </tr>\n",
       "  </thead>\n",
       "  <tbody>\n",
       "    <tr>\n",
       "      <th>steal</th>\n",
       "      <td>1 1 1 1 1</td>\n",
       "      <td>0 0 0 0 0</td>\n",
       "      <td>1 0 0 0 0</td>\n",
       "      <td>1 1 0 0 0</td>\n",
       "      <td>1 0 0 0 0</td>\n",
       "      <td>1 1 1 0 0</td>\n",
       "      <td>0 0 0 0 1</td>\n",
       "    </tr>\n",
       "    <tr>\n",
       "      <th>tales</th>\n",
       "      <td>0 0 0 0 0</td>\n",
       "      <td>1 1 1 1 1</td>\n",
       "      <td>0 0 0 0 0</td>\n",
       "      <td>0 0 0 0 0</td>\n",
       "      <td>0 1 0 0 0</td>\n",
       "      <td>0 0 0 0 0</td>\n",
       "      <td>0 0 0 1 0</td>\n",
       "    </tr>\n",
       "    <tr>\n",
       "      <th>slate</th>\n",
       "      <td>1 0 0 0 0</td>\n",
       "      <td>0 0 0 0 0</td>\n",
       "      <td>1 1 1 1 1</td>\n",
       "      <td>1 0 1 0 1</td>\n",
       "      <td>1 0 0 0 1</td>\n",
       "      <td>1 0 0 0 0</td>\n",
       "      <td>0 0 0 0 0</td>\n",
       "    </tr>\n",
       "    <tr>\n",
       "      <th>stale</th>\n",
       "      <td>1 1 0 0 0</td>\n",
       "      <td>0 0 0 0 0</td>\n",
       "      <td>1 0 1 0 1</td>\n",
       "      <td>1 1 1 1 1</td>\n",
       "      <td>1 0 0 1 1</td>\n",
       "      <td>1 1 0 1 0</td>\n",
       "      <td>0 0 0 0 0</td>\n",
       "    </tr>\n",
       "    <tr>\n",
       "      <th>satle</th>\n",
       "      <td>1 0 0 0 0</td>\n",
       "      <td>0 1 0 0 0</td>\n",
       "      <td>1 0 0 0 1</td>\n",
       "      <td>1 0 0 1 1</td>\n",
       "      <td>1 1 1 1 1</td>\n",
       "      <td>1 0 0 1 0</td>\n",
       "      <td>0 0 1 0 0</td>\n",
       "    </tr>\n",
       "    <tr>\n",
       "      <th>stela</th>\n",
       "      <td>1 1 1 0 0</td>\n",
       "      <td>0 0 0 0 0</td>\n",
       "      <td>1 0 0 0 0</td>\n",
       "      <td>1 1 0 1 0</td>\n",
       "      <td>1 0 0 1 0</td>\n",
       "      <td>1 1 1 1 1</td>\n",
       "      <td>0 0 0 0 0</td>\n",
       "    </tr>\n",
       "    <tr>\n",
       "      <th>astel</th>\n",
       "      <td>0 0 0 0 1</td>\n",
       "      <td>0 0 0 1 0</td>\n",
       "      <td>0 0 0 0 0</td>\n",
       "      <td>0 0 0 0 0</td>\n",
       "      <td>0 0 1 0 0</td>\n",
       "      <td>0 0 0 0 0</td>\n",
       "      <td>1 1 1 1 1</td>\n",
       "    </tr>\n",
       "  </tbody>\n",
       "</table>\n",
       "</div>"
      ],
      "text/plain": [
       "           steal      tales      slate      stale      satle      stela  \\\n",
       "steal  1 1 1 1 1  0 0 0 0 0  1 0 0 0 0  1 1 0 0 0  1 0 0 0 0  1 1 1 0 0   \n",
       "tales  0 0 0 0 0  1 1 1 1 1  0 0 0 0 0  0 0 0 0 0  0 1 0 0 0  0 0 0 0 0   \n",
       "slate  1 0 0 0 0  0 0 0 0 0  1 1 1 1 1  1 0 1 0 1  1 0 0 0 1  1 0 0 0 0   \n",
       "stale  1 1 0 0 0  0 0 0 0 0  1 0 1 0 1  1 1 1 1 1  1 0 0 1 1  1 1 0 1 0   \n",
       "satle  1 0 0 0 0  0 1 0 0 0  1 0 0 0 1  1 0 0 1 1  1 1 1 1 1  1 0 0 1 0   \n",
       "stela  1 1 1 0 0  0 0 0 0 0  1 0 0 0 0  1 1 0 1 0  1 0 0 1 0  1 1 1 1 1   \n",
       "astel  0 0 0 0 1  0 0 0 1 0  0 0 0 0 0  0 0 0 0 0  0 0 1 0 0  0 0 0 0 0   \n",
       "\n",
       "           astel  \n",
       "steal  0 0 0 0 1  \n",
       "tales  0 0 0 1 0  \n",
       "slate  0 0 0 0 0  \n",
       "stale  0 0 0 0 0  \n",
       "satle  0 0 1 0 0  \n",
       "stela  0 0 0 0 0  \n",
       "astel  1 1 1 1 1  "
      ]
     },
     "execution_count": 42,
     "metadata": {},
     "output_type": "execute_result"
    }
   ],
   "source": [
    "df3"
   ]
  },
  {
   "cell_type": "code",
   "execution_count": 43,
   "id": "aecdbb1b",
   "metadata": {
    "ExecuteTime": {
     "end_time": "2022-03-22T11:47:21.416229Z",
     "start_time": "2022-03-22T11:47:21.412263Z"
    }
   },
   "outputs": [
    {
     "data": {
      "text/plain": [
       "31"
      ]
     },
     "execution_count": 43,
     "metadata": {},
     "output_type": "execute_result"
    }
   ],
   "source": [
    "int(\"11111\", 2)"
   ]
  },
  {
   "cell_type": "code",
   "execution_count": 44,
   "id": "7844a3f6",
   "metadata": {
    "ExecuteTime": {
     "end_time": "2022-03-22T11:47:21.421649Z",
     "start_time": "2022-03-22T11:47:21.417882Z"
    }
   },
   "outputs": [
    {
     "data": {
      "text/plain": [
       "0"
      ]
     },
     "execution_count": 44,
     "metadata": {},
     "output_type": "execute_result"
    }
   ],
   "source": [
    "int(\"00000\", 2)"
   ]
  },
  {
   "cell_type": "code",
   "execution_count": 45,
   "id": "54691521",
   "metadata": {
    "ExecuteTime": {
     "end_time": "2022-03-22T11:47:21.426433Z",
     "start_time": "2022-03-22T11:47:21.423092Z"
    }
   },
   "outputs": [
    {
     "data": {
      "text/plain": [
       "16"
      ]
     },
     "execution_count": 45,
     "metadata": {},
     "output_type": "execute_result"
    }
   ],
   "source": [
    "int(\"10000\", 2)"
   ]
  },
  {
   "cell_type": "code",
   "execution_count": 46,
   "id": "58237a35",
   "metadata": {
    "ExecuteTime": {
     "end_time": "2022-03-22T11:47:21.432353Z",
     "start_time": "2022-03-22T11:47:21.428283Z"
    }
   },
   "outputs": [
    {
     "data": {
      "text/plain": [
       "21"
      ]
     },
     "execution_count": 46,
     "metadata": {},
     "output_type": "execute_result"
    }
   ],
   "source": [
    "int(\"10101\", 2)"
   ]
  },
  {
   "cell_type": "markdown",
   "id": "eafa62c4",
   "metadata": {},
   "source": [
    "**`stale` contains 24 bits of information necessary to describe `steal`**"
   ]
  },
  {
   "cell_type": "code",
   "execution_count": 47,
   "id": "9336347c",
   "metadata": {
    "ExecuteTime": {
     "end_time": "2022-03-22T11:47:21.437202Z",
     "start_time": "2022-03-22T11:47:21.434121Z"
    }
   },
   "outputs": [
    {
     "data": {
      "text/plain": [
       "24"
      ]
     },
     "execution_count": 47,
     "metadata": {},
     "output_type": "execute_result"
    }
   ],
   "source": [
    "int(\"11000\", 2)"
   ]
  },
  {
   "cell_type": "code",
   "execution_count": 48,
   "id": "79389e6d",
   "metadata": {
    "ExecuteTime": {
     "end_time": "2022-03-22T11:47:21.442014Z",
     "start_time": "2022-03-22T11:47:21.438673Z"
    }
   },
   "outputs": [
    {
     "data": {
      "text/plain": [
       "4"
      ]
     },
     "execution_count": 48,
     "metadata": {},
     "output_type": "execute_result"
    }
   ],
   "source": [
    "int(\"00100\", 2)"
   ]
  },
  {
   "cell_type": "code",
   "execution_count": 49,
   "id": "6efb564a",
   "metadata": {
    "ExecuteTime": {
     "end_time": "2022-03-22T11:47:21.453745Z",
     "start_time": "2022-03-22T11:47:21.444206Z"
    }
   },
   "outputs": [
    {
     "data": {
      "text/html": [
       "<div>\n",
       "<style scoped>\n",
       "    .dataframe tbody tr th:only-of-type {\n",
       "        vertical-align: middle;\n",
       "    }\n",
       "\n",
       "    .dataframe tbody tr th {\n",
       "        vertical-align: top;\n",
       "    }\n",
       "\n",
       "    .dataframe thead th {\n",
       "        text-align: right;\n",
       "    }\n",
       "</style>\n",
       "<table border=\"1\" class=\"dataframe\">\n",
       "  <thead>\n",
       "    <tr style=\"text-align: right;\">\n",
       "      <th></th>\n",
       "      <th>steal</th>\n",
       "      <th>tales</th>\n",
       "      <th>slate</th>\n",
       "      <th>stale</th>\n",
       "      <th>satle</th>\n",
       "      <th>stela</th>\n",
       "      <th>astel</th>\n",
       "    </tr>\n",
       "  </thead>\n",
       "  <tbody>\n",
       "    <tr>\n",
       "      <th>stale</th>\n",
       "      <td>1 1 0 0 0</td>\n",
       "      <td>0 0 0 0 0</td>\n",
       "      <td>1 0 1 0 1</td>\n",
       "      <td>1 1 1 1 1</td>\n",
       "      <td>1 0 0 1 1</td>\n",
       "      <td>1 1 0 1 0</td>\n",
       "      <td>0 0 0 0 0</td>\n",
       "    </tr>\n",
       "  </tbody>\n",
       "</table>\n",
       "</div>"
      ],
      "text/plain": [
       "           steal      tales      slate      stale      satle      stela  \\\n",
       "stale  1 1 0 0 0  0 0 0 0 0  1 0 1 0 1  1 1 1 1 1  1 0 0 1 1  1 1 0 1 0   \n",
       "\n",
       "           astel  \n",
       "stale  0 0 0 0 0  "
      ]
     },
     "execution_count": 49,
     "metadata": {},
     "output_type": "execute_result"
    }
   ],
   "source": [
    "df3.loc[df3.index.isin([\"stale\"])]"
   ]
  },
  {
   "cell_type": "code",
   "execution_count": 50,
   "id": "48566aae",
   "metadata": {
    "ExecuteTime": {
     "end_time": "2022-03-22T11:47:21.461404Z",
     "start_time": "2022-03-22T11:47:21.455580Z"
    }
   },
   "outputs": [
    {
     "data": {
      "text/html": [
       "<div>\n",
       "<style scoped>\n",
       "    .dataframe tbody tr th:only-of-type {\n",
       "        vertical-align: middle;\n",
       "    }\n",
       "\n",
       "    .dataframe tbody tr th {\n",
       "        vertical-align: top;\n",
       "    }\n",
       "\n",
       "    .dataframe thead th {\n",
       "        text-align: right;\n",
       "    }\n",
       "</style>\n",
       "<table border=\"1\" class=\"dataframe\">\n",
       "  <thead>\n",
       "    <tr style=\"text-align: right;\">\n",
       "      <th></th>\n",
       "      <th>stale</th>\n",
       "    </tr>\n",
       "  </thead>\n",
       "  <tbody>\n",
       "    <tr>\n",
       "      <th>steal</th>\n",
       "      <td>1 1 0 0 0</td>\n",
       "    </tr>\n",
       "    <tr>\n",
       "      <th>tales</th>\n",
       "      <td>0 0 0 0 0</td>\n",
       "    </tr>\n",
       "    <tr>\n",
       "      <th>slate</th>\n",
       "      <td>1 0 1 0 1</td>\n",
       "    </tr>\n",
       "    <tr>\n",
       "      <th>stale</th>\n",
       "      <td>1 1 1 1 1</td>\n",
       "    </tr>\n",
       "    <tr>\n",
       "      <th>satle</th>\n",
       "      <td>1 0 0 1 1</td>\n",
       "    </tr>\n",
       "    <tr>\n",
       "      <th>stela</th>\n",
       "      <td>1 1 0 1 0</td>\n",
       "    </tr>\n",
       "    <tr>\n",
       "      <th>astel</th>\n",
       "      <td>0 0 0 0 0</td>\n",
       "    </tr>\n",
       "  </tbody>\n",
       "</table>\n",
       "</div>"
      ],
      "text/plain": [
       "           stale\n",
       "steal  1 1 0 0 0\n",
       "tales  0 0 0 0 0\n",
       "slate  1 0 1 0 1\n",
       "stale  1 1 1 1 1\n",
       "satle  1 0 0 1 1\n",
       "stela  1 1 0 1 0\n",
       "astel  0 0 0 0 0"
      ]
     },
     "execution_count": 50,
     "metadata": {},
     "output_type": "execute_result"
    }
   ],
   "source": [
    "stale = df3.loc[df3.index.isin([\"stale\"])].T\n",
    "stale"
   ]
  },
  {
   "cell_type": "code",
   "execution_count": 51,
   "id": "ed887eab",
   "metadata": {
    "ExecuteTime": {
     "end_time": "2022-03-22T11:47:21.468746Z",
     "start_time": "2022-03-22T11:47:21.463147Z"
    }
   },
   "outputs": [
    {
     "data": {
      "text/plain": [
       "steal    1 1 0 0 0\n",
       "tales    0 0 0 0 0\n",
       "slate    1 0 1 0 1\n",
       "stale    1 1 1 1 1\n",
       "satle    1 0 0 1 1\n",
       "stela    1 1 0 1 0\n",
       "astel    0 0 0 0 0\n",
       "Name: stale, dtype: object"
      ]
     },
     "execution_count": 51,
     "metadata": {},
     "output_type": "execute_result"
    }
   ],
   "source": [
    "df3.loc[df3.index.isin([\"stale\"])].squeeze()"
   ]
  },
  {
   "cell_type": "code",
   "execution_count": 52,
   "id": "0c6555c9",
   "metadata": {
    "ExecuteTime": {
     "end_time": "2022-03-22T11:47:21.478546Z",
     "start_time": "2022-03-22T11:47:21.470770Z"
    }
   },
   "outputs": [
    {
     "data": {
      "text/html": [
       "<div>\n",
       "<style scoped>\n",
       "    .dataframe tbody tr th:only-of-type {\n",
       "        vertical-align: middle;\n",
       "    }\n",
       "\n",
       "    .dataframe tbody tr th {\n",
       "        vertical-align: top;\n",
       "    }\n",
       "\n",
       "    .dataframe thead th {\n",
       "        text-align: right;\n",
       "    }\n",
       "</style>\n",
       "<table border=\"1\" class=\"dataframe\">\n",
       "  <thead>\n",
       "    <tr style=\"text-align: right;\">\n",
       "      <th></th>\n",
       "      <th>stale</th>\n",
       "    </tr>\n",
       "  </thead>\n",
       "  <tbody>\n",
       "    <tr>\n",
       "      <th>steal</th>\n",
       "      <td>1 1 0 0 0</td>\n",
       "    </tr>\n",
       "    <tr>\n",
       "      <th>tales</th>\n",
       "      <td>0 0 0 0 0</td>\n",
       "    </tr>\n",
       "    <tr>\n",
       "      <th>slate</th>\n",
       "      <td>1 0 1 0 1</td>\n",
       "    </tr>\n",
       "    <tr>\n",
       "      <th>stale</th>\n",
       "      <td>1 1 1 1 1</td>\n",
       "    </tr>\n",
       "    <tr>\n",
       "      <th>satle</th>\n",
       "      <td>1 0 0 1 1</td>\n",
       "    </tr>\n",
       "    <tr>\n",
       "      <th>stela</th>\n",
       "      <td>1 1 0 1 0</td>\n",
       "    </tr>\n",
       "    <tr>\n",
       "      <th>astel</th>\n",
       "      <td>0 0 0 0 0</td>\n",
       "    </tr>\n",
       "  </tbody>\n",
       "</table>\n",
       "</div>"
      ],
      "text/plain": [
       "           stale\n",
       "steal  1 1 0 0 0\n",
       "tales  0 0 0 0 0\n",
       "slate  1 0 1 0 1\n",
       "stale  1 1 1 1 1\n",
       "satle  1 0 0 1 1\n",
       "stela  1 1 0 1 0\n",
       "astel  0 0 0 0 0"
      ]
     },
     "execution_count": 52,
     "metadata": {},
     "output_type": "execute_result"
    }
   ],
   "source": [
    "pd.DataFrame(df3.loc[df3.index.isin([\"stale\"])].squeeze())"
   ]
  },
  {
   "cell_type": "code",
   "execution_count": 53,
   "id": "63be1a33",
   "metadata": {
    "ExecuteTime": {
     "end_time": "2022-03-22T11:47:21.484447Z",
     "start_time": "2022-03-22T11:47:21.480160Z"
    }
   },
   "outputs": [
    {
     "data": {
      "text/plain": [
       "['1 1 0 0 0',\n",
       " '0 0 0 0 0',\n",
       " '1 0 1 0 1',\n",
       " '1 1 1 1 1',\n",
       " '1 0 0 1 1',\n",
       " '1 1 0 1 0',\n",
       " '0 0 0 0 0']"
      ]
     },
     "execution_count": 53,
     "metadata": {},
     "output_type": "execute_result"
    }
   ],
   "source": [
    "stale_binaries = df3.loc[df3.index.isin([\"stale\"])].squeeze().tolist()\n",
    "stale_binaries"
   ]
  },
  {
   "cell_type": "code",
   "execution_count": 54,
   "id": "291792e0",
   "metadata": {
    "ExecuteTime": {
     "end_time": "2022-03-22T11:47:21.490153Z",
     "start_time": "2022-03-22T11:47:21.485959Z"
    }
   },
   "outputs": [
    {
     "data": {
      "text/plain": [
       "'1 1 0 0 0'"
      ]
     },
     "execution_count": 54,
     "metadata": {},
     "output_type": "execute_result"
    }
   ],
   "source": [
    "stale_binaries[0]"
   ]
  },
  {
   "cell_type": "code",
   "execution_count": 57,
   "id": "3e12e9ea",
   "metadata": {
    "ExecuteTime": {
     "end_time": "2022-03-22T11:47:21.506459Z",
     "start_time": "2022-03-22T11:47:21.502300Z"
    }
   },
   "outputs": [
    {
     "data": {
      "text/plain": [
       "'11000'"
      ]
     },
     "execution_count": 57,
     "metadata": {},
     "output_type": "execute_result"
    }
   ],
   "source": [
    "\"\".join(stale_binaries[0].split())"
   ]
  },
  {
   "cell_type": "code",
   "execution_count": 58,
   "id": "e0898bc7",
   "metadata": {
    "ExecuteTime": {
     "end_time": "2022-03-22T11:47:21.512712Z",
     "start_time": "2022-03-22T11:47:21.507987Z"
    }
   },
   "outputs": [
    {
     "data": {
      "text/plain": [
       "24"
      ]
     },
     "execution_count": 58,
     "metadata": {},
     "output_type": "execute_result"
    }
   ],
   "source": [
    "int(\"\".join(stale_binaries[0].split()), 2)"
   ]
  },
  {
   "cell_type": "code",
   "execution_count": 59,
   "id": "646fa8ad",
   "metadata": {
    "ExecuteTime": {
     "end_time": "2022-03-22T11:47:21.519990Z",
     "start_time": "2022-03-22T11:47:21.513983Z"
    }
   },
   "outputs": [
    {
     "data": {
      "text/plain": [
       "['11000', '00000', '10101', '11111', '10011', '11010', '00000']"
      ]
     },
     "execution_count": 59,
     "metadata": {},
     "output_type": "execute_result"
    }
   ],
   "source": [
    "stale_binaries = [\"\".join(x.split()) for x in stale_binaries]\n",
    "stale_binaries"
   ]
  },
  {
   "cell_type": "code",
   "execution_count": 60,
   "id": "5a2335ad",
   "metadata": {
    "ExecuteTime": {
     "end_time": "2022-03-22T11:47:21.527203Z",
     "start_time": "2022-03-22T11:47:21.522455Z"
    }
   },
   "outputs": [
    {
     "data": {
      "text/plain": [
       "[24, 0, 21, 31, 19, 26, 0]"
      ]
     },
     "execution_count": 60,
     "metadata": {},
     "output_type": "execute_result"
    }
   ],
   "source": [
    "[int(binary, 2) for binary in stale_binaries]"
   ]
  },
  {
   "cell_type": "code",
   "execution_count": 62,
   "id": "35570c46",
   "metadata": {
    "ExecuteTime": {
     "end_time": "2022-03-22T11:47:21.541182Z",
     "start_time": "2022-03-22T11:47:21.536086Z"
    }
   },
   "outputs": [
    {
     "data": {
      "text/plain": [
       "clear     0 -1  0  0  0\n",
       "wythe    -1 -1 -1 -1  1\n",
       "algin     0 -1 -1 -1 -1\n",
       "crois     0  0 -1 -1  0\n",
       "chyle     0 -1 -1 -1  1\n",
       "              ...      \n",
       "manis    -1  0 -1 -1  0\n",
       "stone     1 -1 -1 -1  1\n",
       "predy    -1  0  0 -1 -1\n",
       "other    -1 -1 -1  0  0\n",
       "curia     0 -1  0 -1  0\n",
       "Name: scare, Length: 672, dtype: object"
      ]
     },
     "execution_count": 62,
     "metadata": {},
     "output_type": "execute_result"
    }
   ],
   "source": [
    "scare = all_anagram_scoring_df.loc[all_anagram_scoring_df.index.isin([\"scare\"])].squeeze()\n",
    "scare"
   ]
  },
  {
   "cell_type": "code",
   "execution_count": 74,
   "id": "571d42d0",
   "metadata": {
    "ExecuteTime": {
     "end_time": "2022-03-22T11:53:45.835156Z",
     "start_time": "2022-03-22T11:53:45.829408Z"
    }
   },
   "outputs": [
    {
     "data": {
      "text/plain": [
       "[(62, '1 1 1 1 1'),\n",
       " (206, '1 0 0 0 0'),\n",
       " (274, '0 0 1 0 1'),\n",
       " (393, '1 0 0 1 1'),\n",
       " (520, '0 0 0 0 1')]"
      ]
     },
     "execution_count": 74,
     "metadata": {},
     "output_type": "execute_result"
    }
   ],
   "source": [
    "#  you can find the scores for scare by filtering out those with -1\n",
    "cols = [(idx, binary) for idx, binary in enumerate(scare) if \"-1\" not in binary]\n",
    "cols"
   ]
  },
  {
   "cell_type": "code",
   "execution_count": 64,
   "id": "16d0aaf2",
   "metadata": {
    "ExecuteTime": {
     "end_time": "2022-03-22T11:47:21.552246Z",
     "start_time": "2022-03-22T11:47:21.548482Z"
    }
   },
   "outputs": [
    {
     "data": {
      "text/plain": [
       "[62, 206, 274, 393, 520]"
      ]
     },
     "execution_count": 64,
     "metadata": {},
     "output_type": "execute_result"
    }
   ],
   "source": [
    "scare_cols = [col[0] for col in cols]\n",
    "scare_cols"
   ]
  },
  {
   "cell_type": "code",
   "execution_count": 65,
   "id": "65aeff41",
   "metadata": {
    "ExecuteTime": {
     "end_time": "2022-03-22T11:47:21.562313Z",
     "start_time": "2022-03-22T11:47:21.553730Z"
    }
   },
   "outputs": [
    {
     "data": {
      "text/html": [
       "<div>\n",
       "<style scoped>\n",
       "    .dataframe tbody tr th:only-of-type {\n",
       "        vertical-align: middle;\n",
       "    }\n",
       "\n",
       "    .dataframe tbody tr th {\n",
       "        vertical-align: top;\n",
       "    }\n",
       "\n",
       "    .dataframe thead th {\n",
       "        text-align: right;\n",
       "    }\n",
       "</style>\n",
       "<table border=\"1\" class=\"dataframe\">\n",
       "  <thead>\n",
       "    <tr style=\"text-align: right;\">\n",
       "      <th></th>\n",
       "      <th>scare</th>\n",
       "      <th>serac</th>\n",
       "      <th>crase</th>\n",
       "      <th>sacre</th>\n",
       "      <th>carse</th>\n",
       "    </tr>\n",
       "  </thead>\n",
       "  <tbody>\n",
       "    <tr>\n",
       "      <th>scare</th>\n",
       "      <td>1 1 1 1 1</td>\n",
       "      <td>1 0 0 0 0</td>\n",
       "      <td>0 0 1 0 1</td>\n",
       "      <td>1 0 0 1 1</td>\n",
       "      <td>0 0 0 0 1</td>\n",
       "    </tr>\n",
       "    <tr>\n",
       "      <th>serac</th>\n",
       "      <td>1 0 0 0 0</td>\n",
       "      <td>1 1 1 1 1</td>\n",
       "      <td>0 0 0 0 0</td>\n",
       "      <td>1 0 0 0 0</td>\n",
       "      <td>0 0 1 0 0</td>\n",
       "    </tr>\n",
       "    <tr>\n",
       "      <th>crase</th>\n",
       "      <td>0 0 1 0 1</td>\n",
       "      <td>0 0 0 0 0</td>\n",
       "      <td>1 1 1 1 1</td>\n",
       "      <td>0 0 0 0 1</td>\n",
       "      <td>1 0 0 1 1</td>\n",
       "    </tr>\n",
       "    <tr>\n",
       "      <th>sacre</th>\n",
       "      <td>1 0 0 1 1</td>\n",
       "      <td>1 0 0 0 0</td>\n",
       "      <td>0 0 0 0 1</td>\n",
       "      <td>1 1 1 1 1</td>\n",
       "      <td>0 1 0 0 1</td>\n",
       "    </tr>\n",
       "    <tr>\n",
       "      <th>carse</th>\n",
       "      <td>0 0 0 0 1</td>\n",
       "      <td>0 0 1 0 0</td>\n",
       "      <td>1 0 0 1 1</td>\n",
       "      <td>0 1 0 0 1</td>\n",
       "      <td>1 1 1 1 1</td>\n",
       "    </tr>\n",
       "  </tbody>\n",
       "</table>\n",
       "</div>"
      ],
      "text/plain": [
       "           scare      serac      crase      sacre      carse\n",
       "scare  1 1 1 1 1  1 0 0 0 0  0 0 1 0 1  1 0 0 1 1  0 0 0 0 1\n",
       "serac  1 0 0 0 0  1 1 1 1 1  0 0 0 0 0  1 0 0 0 0  0 0 1 0 0\n",
       "crase  0 0 1 0 1  0 0 0 0 0  1 1 1 1 1  0 0 0 0 1  1 0 0 1 1\n",
       "sacre  1 0 0 1 1  1 0 0 0 0  0 0 0 0 1  1 1 1 1 1  0 1 0 0 1\n",
       "carse  0 0 0 0 1  0 0 1 0 0  1 0 0 1 1  0 1 0 0 1  1 1 1 1 1"
      ]
     },
     "execution_count": 65,
     "metadata": {},
     "output_type": "execute_result"
    }
   ],
   "source": [
    "all_anagram_scoring_df.iloc[scare_cols, scare_cols]"
   ]
  },
  {
   "cell_type": "code",
   "execution_count": 66,
   "id": "80eef8a0",
   "metadata": {
    "ExecuteTime": {
     "end_time": "2022-03-22T11:47:21.573916Z",
     "start_time": "2022-03-22T11:47:21.563943Z"
    }
   },
   "outputs": [
    {
     "data": {
      "text/html": [
       "<div>\n",
       "<style scoped>\n",
       "    .dataframe tbody tr th:only-of-type {\n",
       "        vertical-align: middle;\n",
       "    }\n",
       "\n",
       "    .dataframe tbody tr th {\n",
       "        vertical-align: top;\n",
       "    }\n",
       "\n",
       "    .dataframe thead th {\n",
       "        text-align: right;\n",
       "    }\n",
       "</style>\n",
       "<table border=\"1\" class=\"dataframe\">\n",
       "  <thead>\n",
       "    <tr style=\"text-align: right;\">\n",
       "      <th></th>\n",
       "      <th>scare</th>\n",
       "      <th>serac</th>\n",
       "      <th>crase</th>\n",
       "      <th>sacre</th>\n",
       "      <th>carse</th>\n",
       "    </tr>\n",
       "  </thead>\n",
       "  <tbody>\n",
       "    <tr>\n",
       "      <th>scare</th>\n",
       "      <td>11111</td>\n",
       "      <td>10000</td>\n",
       "      <td>00101</td>\n",
       "      <td>10011</td>\n",
       "      <td>00001</td>\n",
       "    </tr>\n",
       "    <tr>\n",
       "      <th>serac</th>\n",
       "      <td>10000</td>\n",
       "      <td>11111</td>\n",
       "      <td>00000</td>\n",
       "      <td>10000</td>\n",
       "      <td>00100</td>\n",
       "    </tr>\n",
       "    <tr>\n",
       "      <th>crase</th>\n",
       "      <td>00101</td>\n",
       "      <td>00000</td>\n",
       "      <td>11111</td>\n",
       "      <td>00001</td>\n",
       "      <td>10011</td>\n",
       "    </tr>\n",
       "    <tr>\n",
       "      <th>sacre</th>\n",
       "      <td>10011</td>\n",
       "      <td>10000</td>\n",
       "      <td>00001</td>\n",
       "      <td>11111</td>\n",
       "      <td>01001</td>\n",
       "    </tr>\n",
       "    <tr>\n",
       "      <th>carse</th>\n",
       "      <td>00001</td>\n",
       "      <td>00100</td>\n",
       "      <td>10011</td>\n",
       "      <td>01001</td>\n",
       "      <td>11111</td>\n",
       "    </tr>\n",
       "  </tbody>\n",
       "</table>\n",
       "</div>"
      ],
      "text/plain": [
       "       scare  serac  crase  sacre  carse\n",
       "scare  11111  10000  00101  10011  00001\n",
       "serac  10000  11111  00000  10000  00100\n",
       "crase  00101  00000  11111  00001  10011\n",
       "sacre  10011  10000  00001  11111  01001\n",
       "carse  00001  00100  10011  01001  11111"
      ]
     },
     "execution_count": 66,
     "metadata": {},
     "output_type": "execute_result"
    }
   ],
   "source": [
    "# remove spaces\n",
    "all_anagram_scoring_df.iloc[scare_cols, scare_cols].applymap(lambda x: \"\".join(x.split()))"
   ]
  },
  {
   "cell_type": "code",
   "execution_count": 67,
   "id": "000d2bf9",
   "metadata": {
    "ExecuteTime": {
     "end_time": "2022-03-22T11:47:21.587573Z",
     "start_time": "2022-03-22T11:47:21.575435Z"
    }
   },
   "outputs": [
    {
     "data": {
      "text/html": [
       "<div>\n",
       "<style scoped>\n",
       "    .dataframe tbody tr th:only-of-type {\n",
       "        vertical-align: middle;\n",
       "    }\n",
       "\n",
       "    .dataframe tbody tr th {\n",
       "        vertical-align: top;\n",
       "    }\n",
       "\n",
       "    .dataframe thead th {\n",
       "        text-align: right;\n",
       "    }\n",
       "</style>\n",
       "<table border=\"1\" class=\"dataframe\">\n",
       "  <thead>\n",
       "    <tr style=\"text-align: right;\">\n",
       "      <th></th>\n",
       "      <th>scare</th>\n",
       "      <th>serac</th>\n",
       "      <th>crase</th>\n",
       "      <th>sacre</th>\n",
       "      <th>carse</th>\n",
       "    </tr>\n",
       "  </thead>\n",
       "  <tbody>\n",
       "    <tr>\n",
       "      <th>scare</th>\n",
       "      <td>31</td>\n",
       "      <td>16</td>\n",
       "      <td>5</td>\n",
       "      <td>19</td>\n",
       "      <td>1</td>\n",
       "    </tr>\n",
       "    <tr>\n",
       "      <th>serac</th>\n",
       "      <td>16</td>\n",
       "      <td>31</td>\n",
       "      <td>0</td>\n",
       "      <td>16</td>\n",
       "      <td>4</td>\n",
       "    </tr>\n",
       "    <tr>\n",
       "      <th>crase</th>\n",
       "      <td>5</td>\n",
       "      <td>0</td>\n",
       "      <td>31</td>\n",
       "      <td>1</td>\n",
       "      <td>19</td>\n",
       "    </tr>\n",
       "    <tr>\n",
       "      <th>sacre</th>\n",
       "      <td>19</td>\n",
       "      <td>16</td>\n",
       "      <td>1</td>\n",
       "      <td>31</td>\n",
       "      <td>9</td>\n",
       "    </tr>\n",
       "    <tr>\n",
       "      <th>carse</th>\n",
       "      <td>1</td>\n",
       "      <td>4</td>\n",
       "      <td>19</td>\n",
       "      <td>9</td>\n",
       "      <td>31</td>\n",
       "    </tr>\n",
       "  </tbody>\n",
       "</table>\n",
       "</div>"
      ],
      "text/plain": [
       "       scare  serac  crase  sacre  carse\n",
       "scare     31     16      5     19      1\n",
       "serac     16     31      0     16      4\n",
       "crase      5      0     31      1     19\n",
       "sacre     19     16      1     31      9\n",
       "carse      1      4     19      9     31"
      ]
     },
     "execution_count": 67,
     "metadata": {},
     "output_type": "execute_result"
    }
   ],
   "source": [
    "# convert to int\n",
    "(all_anagram_scoring_df.iloc[scare_cols, scare_cols]\n",
    " .applymap(lambda x: \"\".join(x.split()))\n",
    " .applymap(lambda x: int(x, 2)))"
   ]
  },
  {
   "cell_type": "code",
   "execution_count": 68,
   "id": "96b1e3b3",
   "metadata": {
    "ExecuteTime": {
     "end_time": "2022-03-22T11:47:21.602206Z",
     "start_time": "2022-03-22T11:47:21.589058Z"
    }
   },
   "outputs": [
    {
     "data": {
      "text/html": [
       "<div>\n",
       "<style scoped>\n",
       "    .dataframe tbody tr th:only-of-type {\n",
       "        vertical-align: middle;\n",
       "    }\n",
       "\n",
       "    .dataframe tbody tr th {\n",
       "        vertical-align: top;\n",
       "    }\n",
       "\n",
       "    .dataframe thead th {\n",
       "        text-align: right;\n",
       "    }\n",
       "</style>\n",
       "<table border=\"1\" class=\"dataframe\">\n",
       "  <thead>\n",
       "    <tr style=\"text-align: right;\">\n",
       "      <th></th>\n",
       "      <th>scare</th>\n",
       "      <th>serac</th>\n",
       "      <th>crase</th>\n",
       "      <th>sacre</th>\n",
       "      <th>carse</th>\n",
       "      <th>sum_across</th>\n",
       "    </tr>\n",
       "  </thead>\n",
       "  <tbody>\n",
       "    <tr>\n",
       "      <th>scare</th>\n",
       "      <td>31</td>\n",
       "      <td>16</td>\n",
       "      <td>5</td>\n",
       "      <td>19</td>\n",
       "      <td>1</td>\n",
       "      <td>72</td>\n",
       "    </tr>\n",
       "    <tr>\n",
       "      <th>serac</th>\n",
       "      <td>16</td>\n",
       "      <td>31</td>\n",
       "      <td>0</td>\n",
       "      <td>16</td>\n",
       "      <td>4</td>\n",
       "      <td>67</td>\n",
       "    </tr>\n",
       "    <tr>\n",
       "      <th>crase</th>\n",
       "      <td>5</td>\n",
       "      <td>0</td>\n",
       "      <td>31</td>\n",
       "      <td>1</td>\n",
       "      <td>19</td>\n",
       "      <td>56</td>\n",
       "    </tr>\n",
       "    <tr>\n",
       "      <th>sacre</th>\n",
       "      <td>19</td>\n",
       "      <td>16</td>\n",
       "      <td>1</td>\n",
       "      <td>31</td>\n",
       "      <td>9</td>\n",
       "      <td>76</td>\n",
       "    </tr>\n",
       "    <tr>\n",
       "      <th>carse</th>\n",
       "      <td>1</td>\n",
       "      <td>4</td>\n",
       "      <td>19</td>\n",
       "      <td>9</td>\n",
       "      <td>31</td>\n",
       "      <td>64</td>\n",
       "    </tr>\n",
       "  </tbody>\n",
       "</table>\n",
       "</div>"
      ],
      "text/plain": [
       "       scare  serac  crase  sacre  carse  sum_across\n",
       "scare     31     16      5     19      1          72\n",
       "serac     16     31      0     16      4          67\n",
       "crase      5      0     31      1     19          56\n",
       "sacre     19     16      1     31      9          76\n",
       "carse      1      4     19      9     31          64"
      ]
     },
     "execution_count": 68,
     "metadata": {},
     "output_type": "execute_result"
    }
   ],
   "source": [
    "(all_anagram_scoring_df.iloc[scare_cols, scare_cols]\n",
    " .applymap(lambda x: \"\".join(x.split()))\n",
    " .applymap(lambda x: int(x, 2))\n",
    " .assign(sum_across=lambda x: x.sum())\n",
    " .astype(np.int8))"
   ]
  },
  {
   "cell_type": "code",
   "execution_count": null,
   "id": "9bef8b4f",
   "metadata": {},
   "outputs": [],
   "source": []
  },
  {
   "cell_type": "markdown",
   "id": "4f61afba",
   "metadata": {},
   "source": [
    "## Anagram cipher lookup table  \n",
    "With `itertools.zip_longest` you can create an encode/decode lookup table for 4, 5 and 6 letter anagrams."
   ]
  },
  {
   "cell_type": "code",
   "execution_count": 69,
   "id": "d4c161b3",
   "metadata": {
    "ExecuteTime": {
     "end_time": "2022-03-22T11:47:21.608019Z",
     "start_time": "2022-03-22T11:47:21.603658Z"
    }
   },
   "outputs": [
    {
     "data": {
      "text/plain": [
       "[('t', 's'), ('a', 'l'), ('p', 'i'), ('e', 'p'), ('r', None)]"
      ]
     },
     "execution_count": 69,
     "metadata": {},
     "output_type": "execute_result"
    }
   ],
   "source": [
    "list(itertools.zip_longest(\"taper\", \"slip\"))"
   ]
  },
  {
   "cell_type": "code",
   "execution_count": 70,
   "id": "a6d3883a",
   "metadata": {
    "ExecuteTime": {
     "end_time": "2022-03-22T11:47:21.615776Z",
     "start_time": "2022-03-22T11:47:21.610485Z"
    }
   },
   "outputs": [
    {
     "data": {
      "text/plain": [
       "[('t', 's'), ('a', 'c'), ('p', 'a'), ('e', 'r'), ('r', 'e')]"
      ]
     },
     "execution_count": 70,
     "metadata": {},
     "output_type": "execute_result"
    }
   ],
   "source": [
    "list(itertools.zip_longest(\"taper\", \"scare\"))"
   ]
  },
  {
   "cell_type": "code",
   "execution_count": 71,
   "id": "c77c9a53",
   "metadata": {
    "ExecuteTime": {
     "end_time": "2022-03-22T11:47:21.621328Z",
     "start_time": "2022-03-22T11:47:21.618181Z"
    }
   },
   "outputs": [
    {
     "name": "stdout",
     "output_type": "stream",
     "text": [
      "we are not the same\n"
     ]
    }
   ],
   "source": [
    "if all((\"r\", None)):\n",
    "    print(\"Hurrah!!\")\n",
    "else:\n",
    "    print(\"we are not the same\")"
   ]
  },
  {
   "cell_type": "code",
   "execution_count": 72,
   "id": "4b0fab8d",
   "metadata": {
    "ExecuteTime": {
     "end_time": "2022-03-22T11:47:21.627492Z",
     "start_time": "2022-03-22T11:47:21.623447Z"
    }
   },
   "outputs": [
    {
     "data": {
      "text/plain": [
       "NoneType"
      ]
     },
     "execution_count": 72,
     "metadata": {},
     "output_type": "execute_result"
    }
   ],
   "source": [
    "type(None)"
   ]
  },
  {
   "cell_type": "code",
   "execution_count": 73,
   "id": "978852ca",
   "metadata": {
    "ExecuteTime": {
     "end_time": "2022-03-22T11:47:21.633714Z",
     "start_time": "2022-03-22T11:47:21.630144Z"
    }
   },
   "outputs": [
    {
     "data": {
      "text/plain": [
       "False"
      ]
     },
     "execution_count": 73,
     "metadata": {},
     "output_type": "execute_result"
    }
   ],
   "source": [
    "\"r\" == None"
   ]
  },
  {
   "cell_type": "code",
   "execution_count": null,
   "id": "aacfcf51",
   "metadata": {},
   "outputs": [],
   "source": []
  }
 ],
 "metadata": {
  "kernelspec": {
   "display_name": "wordle",
   "language": "python",
   "name": "wordle"
  },
  "language_info": {
   "codemirror_mode": {
    "name": "ipython",
    "version": 3
   },
   "file_extension": ".py",
   "mimetype": "text/x-python",
   "name": "python",
   "nbconvert_exporter": "python",
   "pygments_lexer": "ipython3",
   "version": "3.9.7"
  },
  "toc": {
   "base_numbering": 1,
   "nav_menu": {},
   "number_sections": true,
   "sideBar": true,
   "skip_h1_title": false,
   "title_cell": "Table of Contents",
   "title_sidebar": "Contents",
   "toc_cell": false,
   "toc_position": {},
   "toc_section_display": true,
   "toc_window_display": false
  },
  "varInspector": {
   "cols": {
    "lenName": 16,
    "lenType": 16,
    "lenVar": 40
   },
   "kernels_config": {
    "python": {
     "delete_cmd_postfix": "",
     "delete_cmd_prefix": "del ",
     "library": "var_list.py",
     "varRefreshCmd": "print(var_dic_list())"
    },
    "r": {
     "delete_cmd_postfix": ") ",
     "delete_cmd_prefix": "rm(",
     "library": "var_list.r",
     "varRefreshCmd": "cat(var_dic_list()) "
    }
   },
   "types_to_exclude": [
    "module",
    "function",
    "builtin_function_or_method",
    "instance",
    "_Feature"
   ],
   "window_display": false
  }
 },
 "nbformat": 4,
 "nbformat_minor": 5
}
