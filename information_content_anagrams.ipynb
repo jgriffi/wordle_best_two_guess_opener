{
 "cells": [
  {
   "cell_type": "code",
   "execution_count": 1,
   "id": "9e784eb3",
   "metadata": {
    "ExecuteTime": {
     "end_time": "2022-07-15T12:00:17.520816Z",
     "start_time": "2022-07-15T12:00:15.473392Z"
    }
   },
   "outputs": [],
   "source": [
    "import numpy as np\n",
    "import pandas as pd\n",
    "import itertools\n",
    "import random\n",
    "from tqdm import tqdm\n",
    "import re\n",
    "from wordle_helpers import anagram_scoring, all_anagram_scoring\n",
    "\n",
    "import os\n",
    "# where to save the data\n",
    "ROOT_DIR = \".\"\n",
    "FOLDER_NAME = \"data\"\n",
    "PATH_TO_FOLDER = os.path.join(ROOT_DIR, FOLDER_NAME)\n",
    "os.makedirs(PATH_TO_FOLDER, exist_ok=True)"
   ]
  },
  {
   "cell_type": "markdown",
   "id": "d8c0a085",
   "metadata": {},
   "source": [
    "## Load data"
   ]
  },
  {
   "cell_type": "code",
   "execution_count": 2,
   "id": "073eb146",
   "metadata": {
    "ExecuteTime": {
     "end_time": "2022-07-15T12:00:17.536864Z",
     "start_time": "2022-07-15T12:00:17.527607Z"
    }
   },
   "outputs": [],
   "source": [
    "anagrams = pd.read_csv(\"./data/anagrams.csv\")"
   ]
  },
  {
   "cell_type": "code",
   "execution_count": 3,
   "id": "a01834fe",
   "metadata": {
    "ExecuteTime": {
     "end_time": "2022-07-15T12:00:17.567163Z",
     "start_time": "2022-07-15T12:00:17.538895Z"
    }
   },
   "outputs": [
    {
     "data": {
      "text/html": [
       "<div>\n",
       "<style scoped>\n",
       "    .dataframe tbody tr th:only-of-type {\n",
       "        vertical-align: middle;\n",
       "    }\n",
       "\n",
       "    .dataframe tbody tr th {\n",
       "        vertical-align: top;\n",
       "    }\n",
       "\n",
       "    .dataframe thead th {\n",
       "        text-align: right;\n",
       "    }\n",
       "</style>\n",
       "<table border=\"1\" class=\"dataframe\">\n",
       "  <thead>\n",
       "    <tr style=\"text-align: right;\">\n",
       "      <th></th>\n",
       "      <th>word</th>\n",
       "      <th>anagrams</th>\n",
       "      <th>num_anagrams</th>\n",
       "      <th>word_length</th>\n",
       "    </tr>\n",
       "  </thead>\n",
       "  <tbody>\n",
       "    <tr>\n",
       "      <th>0</th>\n",
       "      <td>capri</td>\n",
       "      <td>capri, picra</td>\n",
       "      <td>2</td>\n",
       "      <td>5</td>\n",
       "    </tr>\n",
       "    <tr>\n",
       "      <th>1</th>\n",
       "      <td>amole</td>\n",
       "      <td>amole, maleo</td>\n",
       "      <td>2</td>\n",
       "      <td>5</td>\n",
       "    </tr>\n",
       "    <tr>\n",
       "      <th>2</th>\n",
       "      <td>peach</td>\n",
       "      <td>peach, cheap</td>\n",
       "      <td>2</td>\n",
       "      <td>5</td>\n",
       "    </tr>\n",
       "    <tr>\n",
       "      <th>3</th>\n",
       "      <td>auric</td>\n",
       "      <td>auric, curia</td>\n",
       "      <td>2</td>\n",
       "      <td>5</td>\n",
       "    </tr>\n",
       "    <tr>\n",
       "      <th>4</th>\n",
       "      <td>frail</td>\n",
       "      <td>frail, filar</td>\n",
       "      <td>2</td>\n",
       "      <td>5</td>\n",
       "    </tr>\n",
       "    <tr>\n",
       "      <th>5</th>\n",
       "      <td>wrote</td>\n",
       "      <td>wrote, tower</td>\n",
       "      <td>2</td>\n",
       "      <td>5</td>\n",
       "    </tr>\n",
       "    <tr>\n",
       "      <th>6</th>\n",
       "      <td>carol</td>\n",
       "      <td>carol, coral, claro</td>\n",
       "      <td>3</td>\n",
       "      <td>5</td>\n",
       "    </tr>\n",
       "    <tr>\n",
       "      <th>7</th>\n",
       "      <td>polka</td>\n",
       "      <td>polka, pokal</td>\n",
       "      <td>2</td>\n",
       "      <td>5</td>\n",
       "    </tr>\n",
       "    <tr>\n",
       "      <th>8</th>\n",
       "      <td>forth</td>\n",
       "      <td>forth, froth</td>\n",
       "      <td>2</td>\n",
       "      <td>5</td>\n",
       "    </tr>\n",
       "    <tr>\n",
       "      <th>9</th>\n",
       "      <td>first</td>\n",
       "      <td>first, frist</td>\n",
       "      <td>2</td>\n",
       "      <td>5</td>\n",
       "    </tr>\n",
       "  </tbody>\n",
       "</table>\n",
       "</div>"
      ],
      "text/plain": [
       "    word             anagrams  num_anagrams  word_length\n",
       "0  capri         capri, picra             2            5\n",
       "1  amole         amole, maleo             2            5\n",
       "2  peach         peach, cheap             2            5\n",
       "3  auric         auric, curia             2            5\n",
       "4  frail         frail, filar             2            5\n",
       "5  wrote         wrote, tower             2            5\n",
       "6  carol  carol, coral, claro             3            5\n",
       "7  polka         polka, pokal             2            5\n",
       "8  forth         forth, froth             2            5\n",
       "9  first         first, frist             2            5"
      ]
     },
     "execution_count": 3,
     "metadata": {},
     "output_type": "execute_result"
    }
   ],
   "source": [
    "anagrams = (anagrams\n",
    "            .loc[lambda df_: df_[\"anagrams\"].str.split(\", \").apply(len) > 1]\n",
    "            .assign(num_anagrams = lambda df_: df_[\"anagrams\"].str.split(\", \").apply(len),\n",
    "                    word_length = lambda df_: df_[\"word\"].apply(len))\n",
    "            .astype({\"num_anagrams\": \"int8\", \"word_length\": \"int8\"})\n",
    "            .reset_index(drop=True)\n",
    "           )\n",
    "anagrams.head(10)"
   ]
  },
  {
   "cell_type": "code",
   "execution_count": 4,
   "id": "ad2ad422",
   "metadata": {
    "ExecuteTime": {
     "end_time": "2022-07-15T12:00:17.579602Z",
     "start_time": "2022-07-15T12:00:17.569252Z"
    }
   },
   "outputs": [
    {
     "name": "stdout",
     "output_type": "stream",
     "text": [
      "<class 'pandas.core.frame.DataFrame'>\n",
      "RangeIndex: 308 entries, 0 to 307\n",
      "Data columns (total 4 columns):\n",
      " #   Column        Non-Null Count  Dtype \n",
      "---  ------        --------------  ----- \n",
      " 0   word          308 non-null    object\n",
      " 1   anagrams      308 non-null    object\n",
      " 2   num_anagrams  308 non-null    int8  \n",
      " 3   word_length   308 non-null    int8  \n",
      "dtypes: int8(2), object(2)\n",
      "memory usage: 5.5+ KB\n"
     ]
    }
   ],
   "source": [
    "anagrams.info()"
   ]
  },
  {
   "cell_type": "code",
   "execution_count": 5,
   "id": "b5e808f9",
   "metadata": {
    "ExecuteTime": {
     "end_time": "2022-07-15T12:00:17.590222Z",
     "start_time": "2022-07-15T12:00:17.581361Z"
    }
   },
   "outputs": [
    {
     "data": {
      "text/html": [
       "<div>\n",
       "<style scoped>\n",
       "    .dataframe tbody tr th:only-of-type {\n",
       "        vertical-align: middle;\n",
       "    }\n",
       "\n",
       "    .dataframe tbody tr th {\n",
       "        vertical-align: top;\n",
       "    }\n",
       "\n",
       "    .dataframe thead th {\n",
       "        text-align: right;\n",
       "    }\n",
       "</style>\n",
       "<table border=\"1\" class=\"dataframe\">\n",
       "  <thead>\n",
       "    <tr style=\"text-align: right;\">\n",
       "      <th></th>\n",
       "      <th>word</th>\n",
       "      <th>anagrams</th>\n",
       "      <th>num_anagrams</th>\n",
       "      <th>word_length</th>\n",
       "    </tr>\n",
       "  </thead>\n",
       "  <tbody>\n",
       "    <tr>\n",
       "      <th>275</th>\n",
       "      <td>slate</td>\n",
       "      <td>slate, satle, stale, stela, steal, tales, astel</td>\n",
       "      <td>7</td>\n",
       "      <td>5</td>\n",
       "    </tr>\n",
       "  </tbody>\n",
       "</table>\n",
       "</div>"
      ],
      "text/plain": [
       "      word                                         anagrams  num_anagrams  \\\n",
       "275  slate  slate, satle, stale, stela, steal, tales, astel             7   \n",
       "\n",
       "     word_length  \n",
       "275            5  "
      ]
     },
     "execution_count": 5,
     "metadata": {},
     "output_type": "execute_result"
    }
   ],
   "source": [
    "(anagrams\n",
    " .loc[anagrams[\"num_anagrams\"] == anagrams[\"num_anagrams\"].max()])"
   ]
  },
  {
   "cell_type": "code",
   "execution_count": 6,
   "id": "c26135ca",
   "metadata": {
    "ExecuteTime": {
     "end_time": "2022-07-15T12:00:17.597162Z",
     "start_time": "2022-07-15T12:00:17.592559Z"
    },
    "scrolled": true
   },
   "outputs": [
    {
     "data": {
      "text/plain": [
       "275"
      ]
     },
     "execution_count": 6,
     "metadata": {},
     "output_type": "execute_result"
    }
   ],
   "source": [
    "anagrams[\"num_anagrams\"].idxmax()"
   ]
  },
  {
   "cell_type": "code",
   "execution_count": 7,
   "id": "07ddf30f",
   "metadata": {
    "ExecuteTime": {
     "end_time": "2022-07-15T12:00:17.605916Z",
     "start_time": "2022-07-15T12:00:17.599137Z"
    }
   },
   "outputs": [
    {
     "data": {
      "text/plain": [
       "275"
      ]
     },
     "execution_count": 7,
     "metadata": {},
     "output_type": "execute_result"
    }
   ],
   "source": [
    "indx = np.argmax(anagrams[\"num_anagrams\"])\n",
    "indx"
   ]
  },
  {
   "cell_type": "code",
   "execution_count": 8,
   "id": "5ee7a4a4",
   "metadata": {
    "ExecuteTime": {
     "end_time": "2022-07-15T12:00:17.620954Z",
     "start_time": "2022-07-15T12:00:17.613622Z"
    }
   },
   "outputs": [
    {
     "data": {
      "text/plain": [
       "word                                                      slate\n",
       "anagrams        slate, satle, stale, stela, steal, tales, astel\n",
       "num_anagrams                                                  7\n",
       "word_length                                                   5\n",
       "Name: 275, dtype: object"
      ]
     },
     "execution_count": 8,
     "metadata": {},
     "output_type": "execute_result"
    }
   ],
   "source": [
    "(anagrams\n",
    " .query(\"num_anagrams.idxmax()\")\n",
    ")"
   ]
  },
  {
   "cell_type": "code",
   "execution_count": 9,
   "id": "9db1ef01",
   "metadata": {
    "ExecuteTime": {
     "end_time": "2022-07-15T12:00:17.628639Z",
     "start_time": "2022-07-15T12:00:17.623279Z"
    }
   },
   "outputs": [
    {
     "data": {
      "text/plain": [
       "['slate', 'satle', 'stale', 'stela', 'steal', 'tales', 'astel']"
      ]
     },
     "execution_count": 9,
     "metadata": {},
     "output_type": "execute_result"
    }
   ],
   "source": [
    "words = anagrams[\"anagrams\"].iloc[indx].split(\", \")\n",
    "words"
   ]
  },
  {
   "cell_type": "markdown",
   "id": "170b4785",
   "metadata": {},
   "source": [
    "## Scoring anagrams"
   ]
  },
  {
   "cell_type": "code",
   "execution_count": 10,
   "id": "60d19c72",
   "metadata": {
    "ExecuteTime": {
     "end_time": "2022-07-15T12:00:17.634982Z",
     "start_time": "2022-07-15T12:00:17.630683Z"
    }
   },
   "outputs": [
    {
     "data": {
      "text/plain": [
       "'slate'"
      ]
     },
     "execution_count": 10,
     "metadata": {},
     "output_type": "execute_result"
    }
   ],
   "source": [
    "challenge = words[0]\n",
    "challenge"
   ]
  },
  {
   "cell_type": "code",
   "execution_count": 11,
   "id": "8f0be586",
   "metadata": {
    "ExecuteTime": {
     "end_time": "2022-07-15T12:00:17.642102Z",
     "start_time": "2022-07-15T12:00:17.637143Z"
    }
   },
   "outputs": [
    {
     "data": {
      "text/plain": [
       "['satle', 'stale', 'stela', 'steal', 'tales', 'astel']"
      ]
     },
     "execution_count": 11,
     "metadata": {},
     "output_type": "execute_result"
    }
   ],
   "source": [
    "guess_anagrams = words[1:]\n",
    "guess_anagrams"
   ]
  },
  {
   "cell_type": "code",
   "execution_count": 12,
   "id": "5bffb7cd",
   "metadata": {
    "ExecuteTime": {
     "end_time": "2022-07-15T12:00:17.652137Z",
     "start_time": "2022-07-15T12:00:17.644278Z"
    }
   },
   "outputs": [],
   "source": [
    "data = []\n",
    "for guess in guess_anagrams:\n",
    "    paired = zip(challenge, guess)\n",
    "    scores = np.zeros(5, dtype=np.int8)\n",
    "    for x, (i, j) in enumerate(paired):\n",
    "#         print((x, (i, j)))\n",
    "        if i == j:\n",
    "            scores[x] = 1\n",
    "        elif i != j and j in challenge:\n",
    "            scores[x] = 0\n",
    "        else:\n",
    "            scores[x] = -1\n",
    "            \n",
    "    temp = {\n",
    "        \"challenge_word\": challenge,\n",
    "        \"guess\": guess,\n",
    "        \"positional_scores\": re.sub(r\"[\\[\\]]\", \"\", str(scores)).replace(\"\\n\", \",\"),\n",
    "        \"overall_scores\": np.sum(scores, dtype=np.int8),\n",
    "    }\n",
    "    data.append(temp)"
   ]
  },
  {
   "cell_type": "code",
   "execution_count": 13,
   "id": "1191b33e",
   "metadata": {
    "ExecuteTime": {
     "end_time": "2022-07-15T12:00:17.658758Z",
     "start_time": "2022-07-15T12:00:17.654874Z"
    }
   },
   "outputs": [],
   "source": [
    "df = pd.DataFrame(data)"
   ]
  },
  {
   "cell_type": "code",
   "execution_count": 14,
   "id": "03d97e8e",
   "metadata": {
    "ExecuteTime": {
     "end_time": "2022-07-15T12:00:17.669264Z",
     "start_time": "2022-07-15T12:00:17.661123Z"
    }
   },
   "outputs": [
    {
     "data": {
      "text/html": [
       "<div>\n",
       "<style scoped>\n",
       "    .dataframe tbody tr th:only-of-type {\n",
       "        vertical-align: middle;\n",
       "    }\n",
       "\n",
       "    .dataframe tbody tr th {\n",
       "        vertical-align: top;\n",
       "    }\n",
       "\n",
       "    .dataframe thead th {\n",
       "        text-align: right;\n",
       "    }\n",
       "</style>\n",
       "<table border=\"1\" class=\"dataframe\">\n",
       "  <thead>\n",
       "    <tr style=\"text-align: right;\">\n",
       "      <th></th>\n",
       "      <th>challenge_word</th>\n",
       "      <th>guess</th>\n",
       "      <th>positional_scores</th>\n",
       "      <th>overall_scores</th>\n",
       "    </tr>\n",
       "  </thead>\n",
       "  <tbody>\n",
       "    <tr>\n",
       "      <th>0</th>\n",
       "      <td>slate</td>\n",
       "      <td>satle</td>\n",
       "      <td>1 0 0 0 1</td>\n",
       "      <td>2</td>\n",
       "    </tr>\n",
       "    <tr>\n",
       "      <th>1</th>\n",
       "      <td>slate</td>\n",
       "      <td>stale</td>\n",
       "      <td>1 0 1 0 1</td>\n",
       "      <td>3</td>\n",
       "    </tr>\n",
       "    <tr>\n",
       "      <th>2</th>\n",
       "      <td>slate</td>\n",
       "      <td>stela</td>\n",
       "      <td>1 0 0 0 0</td>\n",
       "      <td>1</td>\n",
       "    </tr>\n",
       "    <tr>\n",
       "      <th>3</th>\n",
       "      <td>slate</td>\n",
       "      <td>steal</td>\n",
       "      <td>1 0 0 0 0</td>\n",
       "      <td>1</td>\n",
       "    </tr>\n",
       "    <tr>\n",
       "      <th>4</th>\n",
       "      <td>slate</td>\n",
       "      <td>tales</td>\n",
       "      <td>0 0 0 0 0</td>\n",
       "      <td>0</td>\n",
       "    </tr>\n",
       "    <tr>\n",
       "      <th>5</th>\n",
       "      <td>slate</td>\n",
       "      <td>astel</td>\n",
       "      <td>0 0 0 0 0</td>\n",
       "      <td>0</td>\n",
       "    </tr>\n",
       "  </tbody>\n",
       "</table>\n",
       "</div>"
      ],
      "text/plain": [
       "  challenge_word  guess positional_scores  overall_scores\n",
       "0          slate  satle         1 0 0 0 1               2\n",
       "1          slate  stale         1 0 1 0 1               3\n",
       "2          slate  stela         1 0 0 0 0               1\n",
       "3          slate  steal         1 0 0 0 0               1\n",
       "4          slate  tales         0 0 0 0 0               0\n",
       "5          slate  astel         0 0 0 0 0               0"
      ]
     },
     "execution_count": 14,
     "metadata": {},
     "output_type": "execute_result"
    }
   ],
   "source": [
    "df"
   ]
  },
  {
   "cell_type": "code",
   "execution_count": 15,
   "id": "6a75394d",
   "metadata": {
    "ExecuteTime": {
     "end_time": "2022-07-15T12:00:17.679880Z",
     "start_time": "2022-07-15T12:00:17.671475Z"
    }
   },
   "outputs": [
    {
     "data": {
      "text/html": [
       "<div>\n",
       "<style scoped>\n",
       "    .dataframe tbody tr th:only-of-type {\n",
       "        vertical-align: middle;\n",
       "    }\n",
       "\n",
       "    .dataframe tbody tr th {\n",
       "        vertical-align: top;\n",
       "    }\n",
       "\n",
       "    .dataframe thead th {\n",
       "        text-align: right;\n",
       "    }\n",
       "</style>\n",
       "<table border=\"1\" class=\"dataframe\">\n",
       "  <thead>\n",
       "    <tr style=\"text-align: right;\">\n",
       "      <th></th>\n",
       "      <th>word</th>\n",
       "      <th>anagrams</th>\n",
       "      <th>num_anagrams</th>\n",
       "      <th>word_length</th>\n",
       "    </tr>\n",
       "  </thead>\n",
       "  <tbody>\n",
       "    <tr>\n",
       "      <th>6</th>\n",
       "      <td>carol</td>\n",
       "      <td>carol, coral, claro</td>\n",
       "      <td>3</td>\n",
       "      <td>5</td>\n",
       "    </tr>\n",
       "    <tr>\n",
       "      <th>13</th>\n",
       "      <td>slide</td>\n",
       "      <td>slide, sleid, sidle</td>\n",
       "      <td>3</td>\n",
       "      <td>5</td>\n",
       "    </tr>\n",
       "    <tr>\n",
       "      <th>19</th>\n",
       "      <td>flare</td>\n",
       "      <td>flare, flear, feral</td>\n",
       "      <td>3</td>\n",
       "      <td>5</td>\n",
       "    </tr>\n",
       "    <tr>\n",
       "      <th>21</th>\n",
       "      <td>terin</td>\n",
       "      <td>terin, trine, inter</td>\n",
       "      <td>3</td>\n",
       "      <td>5</td>\n",
       "    </tr>\n",
       "    <tr>\n",
       "      <th>39</th>\n",
       "      <td>moria</td>\n",
       "      <td>moria, moira, maori</td>\n",
       "      <td>3</td>\n",
       "      <td>5</td>\n",
       "    </tr>\n",
       "  </tbody>\n",
       "</table>\n",
       "</div>"
      ],
      "text/plain": [
       "     word             anagrams  num_anagrams  word_length\n",
       "6   carol  carol, coral, claro             3            5\n",
       "13  slide  slide, sleid, sidle             3            5\n",
       "19  flare  flare, flear, feral             3            5\n",
       "21  terin  terin, trine, inter             3            5\n",
       "39  moria  moria, moira, maori             3            5"
      ]
     },
     "execution_count": 15,
     "metadata": {},
     "output_type": "execute_result"
    }
   ],
   "source": [
    "# 3 anagram words\n",
    "(anagrams\n",
    " .loc[anagrams[\"num_anagrams\"] == 3]\n",
    " .iloc[:5])"
   ]
  },
  {
   "cell_type": "markdown",
   "id": "42b25dcf",
   "metadata": {},
   "source": [
    "### Scoring each anagram against itself"
   ]
  },
  {
   "cell_type": "code",
   "execution_count": 16,
   "id": "cc2aaf54",
   "metadata": {
    "ExecuteTime": {
     "end_time": "2022-07-15T12:00:17.692188Z",
     "start_time": "2022-07-15T12:00:17.682228Z"
    }
   },
   "outputs": [],
   "source": [
    "data2 = []\n",
    "num_guesses = len(words)\n",
    "counter = 0\n",
    "\n",
    "while counter < num_guesses:\n",
    "    for word in words:\n",
    "        guess = words[counter]\n",
    "        combo_guess_word = zip(guess, word)\n",
    "        scores = np.zeros(5, dtype=np.int8)\n",
    "        for x, (i, j) in enumerate(combo_guess_word):\n",
    "            if i == j:\n",
    "                scores[x] = 1\n",
    "            elif i != j and j in word:\n",
    "                scores[x] = 0\n",
    "            else:\n",
    "                scores[x] = -1\n",
    "        data2.append(re.sub(r\"[\\[\\]]\", \"\", str(scores)).replace(\"\\n\", \",\"))\n",
    "    counter += 1   "
   ]
  },
  {
   "cell_type": "code",
   "execution_count": 17,
   "id": "880232c4",
   "metadata": {
    "ExecuteTime": {
     "end_time": "2022-07-15T12:00:17.698618Z",
     "start_time": "2022-07-15T12:00:17.694486Z"
    }
   },
   "outputs": [
    {
     "data": {
      "text/plain": [
       "['1 1 1 1 1',\n",
       " '1 0 0 0 1',\n",
       " '1 0 1 0 1',\n",
       " '1 0 0 0 0',\n",
       " '1 0 0 0 0',\n",
       " '0 0 0 0 0',\n",
       " '0 0 0 0 0']"
      ]
     },
     "execution_count": 17,
     "metadata": {},
     "output_type": "execute_result"
    }
   ],
   "source": [
    "data2[:7]"
   ]
  },
  {
   "cell_type": "code",
   "execution_count": 18,
   "id": "d17e82c5",
   "metadata": {
    "ExecuteTime": {
     "end_time": "2022-07-15T12:00:17.705650Z",
     "start_time": "2022-07-15T12:00:17.701278Z"
    }
   },
   "outputs": [
    {
     "data": {
      "text/plain": [
       "(49, 7)"
      ]
     },
     "execution_count": 18,
     "metadata": {},
     "output_type": "execute_result"
    }
   ],
   "source": [
    "len(data2), num_guesses"
   ]
  },
  {
   "cell_type": "code",
   "execution_count": 19,
   "id": "c6e1d1c1",
   "metadata": {
    "ExecuteTime": {
     "end_time": "2022-07-15T12:00:17.713069Z",
     "start_time": "2022-07-15T12:00:17.707957Z"
    }
   },
   "outputs": [
    {
     "data": {
      "text/plain": [
       "array([['1 1 1 1 1', '1 0 0 0 1', '1 0 1 0 1', '1 0 0 0 0', '1 0 0 0 0',\n",
       "        '0 0 0 0 0', '0 0 0 0 0'],\n",
       "       ['1 0 0 0 1', '1 1 1 1 1', '1 0 0 1 1', '1 0 0 1 0', '1 0 0 0 0',\n",
       "        '0 1 0 0 0', '0 0 1 0 0'],\n",
       "       ['1 0 1 0 1', '1 0 0 1 1', '1 1 1 1 1', '1 1 0 1 0', '1 1 0 0 0',\n",
       "        '0 0 0 0 0', '0 0 0 0 0'],\n",
       "       ['1 0 0 0 0', '1 0 0 1 0', '1 1 0 1 0', '1 1 1 1 1', '1 1 1 0 0',\n",
       "        '0 0 0 0 0', '0 0 0 0 0'],\n",
       "       ['1 0 0 0 0', '1 0 0 0 0', '1 1 0 0 0', '1 1 1 0 0', '1 1 1 1 1',\n",
       "        '0 0 0 0 0', '0 0 0 0 1'],\n",
       "       ['0 0 0 0 0', '0 1 0 0 0', '0 0 0 0 0', '0 0 0 0 0', '0 0 0 0 0',\n",
       "        '1 1 1 1 1', '0 0 0 1 0'],\n",
       "       ['0 0 0 0 0', '0 0 1 0 0', '0 0 0 0 0', '0 0 0 0 0', '0 0 0 0 1',\n",
       "        '0 0 0 1 0', '1 1 1 1 1']], dtype='<U9')"
      ]
     },
     "execution_count": 19,
     "metadata": {},
     "output_type": "execute_result"
    }
   ],
   "source": [
    "# Every 7th value (num guesses) in data2 represents the next guess word scored against the challenge word\n",
    "# so we can reshape data2 to be a 7x7 array\n",
    "np.array(data2).reshape(num_guesses, num_guesses)"
   ]
  },
  {
   "cell_type": "code",
   "execution_count": 20,
   "id": "f4948a12",
   "metadata": {
    "ExecuteTime": {
     "end_time": "2022-07-15T12:00:17.719543Z",
     "start_time": "2022-07-15T12:00:17.715932Z"
    }
   },
   "outputs": [],
   "source": [
    "df2 = pd.DataFrame(np.array(data2).reshape(7, 7), columns=words, index=words)"
   ]
  },
  {
   "cell_type": "code",
   "execution_count": 21,
   "id": "1b0b2962",
   "metadata": {
    "ExecuteTime": {
     "end_time": "2022-07-15T12:00:17.733150Z",
     "start_time": "2022-07-15T12:00:17.721667Z"
    }
   },
   "outputs": [
    {
     "data": {
      "text/html": [
       "<div>\n",
       "<style scoped>\n",
       "    .dataframe tbody tr th:only-of-type {\n",
       "        vertical-align: middle;\n",
       "    }\n",
       "\n",
       "    .dataframe tbody tr th {\n",
       "        vertical-align: top;\n",
       "    }\n",
       "\n",
       "    .dataframe thead th {\n",
       "        text-align: right;\n",
       "    }\n",
       "</style>\n",
       "<table border=\"1\" class=\"dataframe\">\n",
       "  <thead>\n",
       "    <tr style=\"text-align: right;\">\n",
       "      <th></th>\n",
       "      <th>slate</th>\n",
       "      <th>satle</th>\n",
       "      <th>stale</th>\n",
       "      <th>stela</th>\n",
       "      <th>steal</th>\n",
       "      <th>tales</th>\n",
       "      <th>astel</th>\n",
       "    </tr>\n",
       "  </thead>\n",
       "  <tbody>\n",
       "    <tr>\n",
       "      <th>slate</th>\n",
       "      <td>1 1 1 1 1</td>\n",
       "      <td>1 0 0 0 1</td>\n",
       "      <td>1 0 1 0 1</td>\n",
       "      <td>1 0 0 0 0</td>\n",
       "      <td>1 0 0 0 0</td>\n",
       "      <td>0 0 0 0 0</td>\n",
       "      <td>0 0 0 0 0</td>\n",
       "    </tr>\n",
       "    <tr>\n",
       "      <th>satle</th>\n",
       "      <td>1 0 0 0 1</td>\n",
       "      <td>1 1 1 1 1</td>\n",
       "      <td>1 0 0 1 1</td>\n",
       "      <td>1 0 0 1 0</td>\n",
       "      <td>1 0 0 0 0</td>\n",
       "      <td>0 1 0 0 0</td>\n",
       "      <td>0 0 1 0 0</td>\n",
       "    </tr>\n",
       "    <tr>\n",
       "      <th>stale</th>\n",
       "      <td>1 0 1 0 1</td>\n",
       "      <td>1 0 0 1 1</td>\n",
       "      <td>1 1 1 1 1</td>\n",
       "      <td>1 1 0 1 0</td>\n",
       "      <td>1 1 0 0 0</td>\n",
       "      <td>0 0 0 0 0</td>\n",
       "      <td>0 0 0 0 0</td>\n",
       "    </tr>\n",
       "    <tr>\n",
       "      <th>stela</th>\n",
       "      <td>1 0 0 0 0</td>\n",
       "      <td>1 0 0 1 0</td>\n",
       "      <td>1 1 0 1 0</td>\n",
       "      <td>1 1 1 1 1</td>\n",
       "      <td>1 1 1 0 0</td>\n",
       "      <td>0 0 0 0 0</td>\n",
       "      <td>0 0 0 0 0</td>\n",
       "    </tr>\n",
       "    <tr>\n",
       "      <th>steal</th>\n",
       "      <td>1 0 0 0 0</td>\n",
       "      <td>1 0 0 0 0</td>\n",
       "      <td>1 1 0 0 0</td>\n",
       "      <td>1 1 1 0 0</td>\n",
       "      <td>1 1 1 1 1</td>\n",
       "      <td>0 0 0 0 0</td>\n",
       "      <td>0 0 0 0 1</td>\n",
       "    </tr>\n",
       "    <tr>\n",
       "      <th>tales</th>\n",
       "      <td>0 0 0 0 0</td>\n",
       "      <td>0 1 0 0 0</td>\n",
       "      <td>0 0 0 0 0</td>\n",
       "      <td>0 0 0 0 0</td>\n",
       "      <td>0 0 0 0 0</td>\n",
       "      <td>1 1 1 1 1</td>\n",
       "      <td>0 0 0 1 0</td>\n",
       "    </tr>\n",
       "    <tr>\n",
       "      <th>astel</th>\n",
       "      <td>0 0 0 0 0</td>\n",
       "      <td>0 0 1 0 0</td>\n",
       "      <td>0 0 0 0 0</td>\n",
       "      <td>0 0 0 0 0</td>\n",
       "      <td>0 0 0 0 1</td>\n",
       "      <td>0 0 0 1 0</td>\n",
       "      <td>1 1 1 1 1</td>\n",
       "    </tr>\n",
       "  </tbody>\n",
       "</table>\n",
       "</div>"
      ],
      "text/plain": [
       "           slate      satle      stale      stela      steal      tales  \\\n",
       "slate  1 1 1 1 1  1 0 0 0 1  1 0 1 0 1  1 0 0 0 0  1 0 0 0 0  0 0 0 0 0   \n",
       "satle  1 0 0 0 1  1 1 1 1 1  1 0 0 1 1  1 0 0 1 0  1 0 0 0 0  0 1 0 0 0   \n",
       "stale  1 0 1 0 1  1 0 0 1 1  1 1 1 1 1  1 1 0 1 0  1 1 0 0 0  0 0 0 0 0   \n",
       "stela  1 0 0 0 0  1 0 0 1 0  1 1 0 1 0  1 1 1 1 1  1 1 1 0 0  0 0 0 0 0   \n",
       "steal  1 0 0 0 0  1 0 0 0 0  1 1 0 0 0  1 1 1 0 0  1 1 1 1 1  0 0 0 0 0   \n",
       "tales  0 0 0 0 0  0 1 0 0 0  0 0 0 0 0  0 0 0 0 0  0 0 0 0 0  1 1 1 1 1   \n",
       "astel  0 0 0 0 0  0 0 1 0 0  0 0 0 0 0  0 0 0 0 0  0 0 0 0 1  0 0 0 1 0   \n",
       "\n",
       "           astel  \n",
       "slate  0 0 0 0 0  \n",
       "satle  0 0 1 0 0  \n",
       "stale  0 0 0 0 0  \n",
       "stela  0 0 0 0 0  \n",
       "steal  0 0 0 0 1  \n",
       "tales  0 0 0 1 0  \n",
       "astel  1 1 1 1 1  "
      ]
     },
     "execution_count": 21,
     "metadata": {},
     "output_type": "execute_result"
    }
   ],
   "source": [
    "df2"
   ]
  },
  {
   "cell_type": "code",
   "execution_count": null,
   "id": "5038d006",
   "metadata": {},
   "outputs": [],
   "source": []
  },
  {
   "cell_type": "markdown",
   "id": "ca3f08d6",
   "metadata": {},
   "source": [
    "### Take the anagram dataframe and randomly select a word to display the scoring"
   ]
  },
  {
   "cell_type": "code",
   "execution_count": 22,
   "id": "234421d0",
   "metadata": {
    "ExecuteTime": {
     "end_time": "2022-07-15T12:00:17.743319Z",
     "start_time": "2022-07-15T12:00:17.734952Z"
    }
   },
   "outputs": [
    {
     "data": {
      "text/html": [
       "<div>\n",
       "<style scoped>\n",
       "    .dataframe tbody tr th:only-of-type {\n",
       "        vertical-align: middle;\n",
       "    }\n",
       "\n",
       "    .dataframe tbody tr th {\n",
       "        vertical-align: top;\n",
       "    }\n",
       "\n",
       "    .dataframe thead th {\n",
       "        text-align: right;\n",
       "    }\n",
       "</style>\n",
       "<table border=\"1\" class=\"dataframe\">\n",
       "  <thead>\n",
       "    <tr style=\"text-align: right;\">\n",
       "      <th></th>\n",
       "      <th>close</th>\n",
       "      <th>scole</th>\n",
       "    </tr>\n",
       "  </thead>\n",
       "  <tbody>\n",
       "    <tr>\n",
       "      <th>close</th>\n",
       "      <td>1 1 1 1 1</td>\n",
       "      <td>0 0 1 0 1</td>\n",
       "    </tr>\n",
       "    <tr>\n",
       "      <th>scole</th>\n",
       "      <td>0 0 1 0 1</td>\n",
       "      <td>1 1 1 1 1</td>\n",
       "    </tr>\n",
       "  </tbody>\n",
       "</table>\n",
       "</div>"
      ],
      "text/plain": [
       "           close      scole\n",
       "close  1 1 1 1 1  0 0 1 0 1\n",
       "scole  0 0 1 0 1  1 1 1 1 1"
      ]
     },
     "execution_count": 22,
     "metadata": {},
     "output_type": "execute_result"
    }
   ],
   "source": [
    "# show score for random anagrams\n",
    "anagram_scoring_df = anagram_scoring(anagrams)\n",
    "anagram_scoring_df"
   ]
  },
  {
   "cell_type": "markdown",
   "id": "b2422824",
   "metadata": {},
   "source": [
    "### Score all anagrams against each other. The scoring partners which aren't anagrams will contain `-1s`  "
   ]
  },
  {
   "cell_type": "code",
   "execution_count": 23,
   "id": "04b112e8",
   "metadata": {
    "ExecuteTime": {
     "end_time": "2022-07-15T12:00:53.345015Z",
     "start_time": "2022-07-15T12:00:17.745694Z"
    }
   },
   "outputs": [
    {
     "name": "stderr",
     "output_type": "stream",
     "text": [
      "100%|████████████████████████████████████████████████████████████████████████████████████████████████████████████████████████| 726/726 [00:34<00:00, 20.75it/s]\n"
     ]
    }
   ],
   "source": [
    "all_anagram_scoring_df = all_anagram_scoring(anagrams)"
   ]
  },
  {
   "cell_type": "code",
   "execution_count": 24,
   "id": "b86225f0",
   "metadata": {
    "ExecuteTime": {
     "end_time": "2022-07-15T12:00:53.401872Z",
     "start_time": "2022-07-15T12:00:53.347620Z"
    }
   },
   "outputs": [
    {
     "name": "stdout",
     "output_type": "stream",
     "text": [
      "<class 'pandas.core.frame.DataFrame'>\n",
      "Index: 726 entries, cadre to talus\n",
      "Columns: 726 entries, cadre to talus\n",
      "dtypes: string(726)\n",
      "memory usage: 9.1 MB\n"
     ]
    }
   ],
   "source": [
    "all_anagram_scoring_df.info(memory_usage=\"deep\")"
   ]
  },
  {
   "cell_type": "code",
   "execution_count": 25,
   "id": "33d96b63",
   "metadata": {
    "ExecuteTime": {
     "end_time": "2022-07-15T12:00:53.439933Z",
     "start_time": "2022-07-15T12:00:53.404015Z"
    }
   },
   "outputs": [
    {
     "data": {
      "text/html": [
       "<div>\n",
       "<style scoped>\n",
       "    .dataframe tbody tr th:only-of-type {\n",
       "        vertical-align: middle;\n",
       "    }\n",
       "\n",
       "    .dataframe tbody tr th {\n",
       "        vertical-align: top;\n",
       "    }\n",
       "\n",
       "    .dataframe thead th {\n",
       "        text-align: right;\n",
       "    }\n",
       "</style>\n",
       "<table border=\"1\" class=\"dataframe\">\n",
       "  <thead>\n",
       "    <tr style=\"text-align: right;\">\n",
       "      <th></th>\n",
       "      <th>cadre</th>\n",
       "      <th>freya</th>\n",
       "      <th>whity</th>\n",
       "      <th>predy</th>\n",
       "      <th>serac</th>\n",
       "      <th>coign</th>\n",
       "      <th>caper</th>\n",
       "      <th>pluma</th>\n",
       "      <th>styan</th>\n",
       "      <th>anoil</th>\n",
       "      <th>...</th>\n",
       "      <th>feral</th>\n",
       "      <th>asper</th>\n",
       "      <th>splay</th>\n",
       "      <th>cader</th>\n",
       "      <th>tared</th>\n",
       "      <th>micro</th>\n",
       "      <th>align</th>\n",
       "      <th>psalm</th>\n",
       "      <th>anime</th>\n",
       "      <th>talus</th>\n",
       "    </tr>\n",
       "  </thead>\n",
       "  <tbody>\n",
       "    <tr>\n",
       "      <th>cadre</th>\n",
       "      <td>1 1 1 1 1</td>\n",
       "      <td>-1  0  0 -1  0</td>\n",
       "      <td>-1 -1 -1 -1 -1</td>\n",
       "      <td>-1  0  0  0 -1</td>\n",
       "      <td>-1  0  0  0  0</td>\n",
       "      <td>1 -1 -1 -1 -1</td>\n",
       "      <td>1  1 -1  0  0</td>\n",
       "      <td>-1 -1 -1 -1  0</td>\n",
       "      <td>-1 -1 -1  0 -1</td>\n",
       "      <td>0 -1 -1 -1 -1</td>\n",
       "      <td>...</td>\n",
       "      <td>-1  0  0  0 -1</td>\n",
       "      <td>0 -1 -1  0  0</td>\n",
       "      <td>-1 -1 -1  0 -1</td>\n",
       "      <td>1 1 1 0 0</td>\n",
       "      <td>-1  1  0  0  0</td>\n",
       "      <td>-1 -1  0  1 -1</td>\n",
       "      <td>0 -1 -1 -1 -1</td>\n",
       "      <td>-1 -1  0 -1 -1</td>\n",
       "      <td>0 -1 -1 -1  1</td>\n",
       "      <td>-1  1 -1 -1 -1</td>\n",
       "    </tr>\n",
       "    <tr>\n",
       "      <th>freya</th>\n",
       "      <td>-1  0 -1  0  0</td>\n",
       "      <td>1 1 1 1 1</td>\n",
       "      <td>-1 -1 -1 -1  0</td>\n",
       "      <td>-1  1  1 -1  0</td>\n",
       "      <td>-1  0  0  0 -1</td>\n",
       "      <td>-1 -1 -1 -1 -1</td>\n",
       "      <td>-1  0 -1  0  0</td>\n",
       "      <td>-1 -1 -1 -1  1</td>\n",
       "      <td>-1 -1  0  0 -1</td>\n",
       "      <td>0 -1 -1 -1 -1</td>\n",
       "      <td>...</td>\n",
       "      <td>1  0  0  0 -1</td>\n",
       "      <td>0 -1 -1  0  0</td>\n",
       "      <td>-1 -1 -1  0  0</td>\n",
       "      <td>-1  0 -1  0  0</td>\n",
       "      <td>-1  0  0  0 -1</td>\n",
       "      <td>-1 -1 -1  0 -1</td>\n",
       "      <td>0 -1 -1 -1 -1</td>\n",
       "      <td>-1 -1  0 -1 -1</td>\n",
       "      <td>0 -1 -1 -1  0</td>\n",
       "      <td>-1  0 -1 -1 -1</td>\n",
       "    </tr>\n",
       "    <tr>\n",
       "      <th>whity</th>\n",
       "      <td>-1 -1 -1 -1 -1</td>\n",
       "      <td>-1 -1 -1  0 -1</td>\n",
       "      <td>1 1 1 1 1</td>\n",
       "      <td>-1 -1 -1 -1  1</td>\n",
       "      <td>-1 -1 -1 -1 -1</td>\n",
       "      <td>-1 -1  1 -1 -1</td>\n",
       "      <td>-1 -1 -1 -1 -1</td>\n",
       "      <td>-1 -1 -1 -1 -1</td>\n",
       "      <td>-1  0  0 -1 -1</td>\n",
       "      <td>-1 -1 -1  0 -1</td>\n",
       "      <td>...</td>\n",
       "      <td>-1 -1 -1 -1 -1</td>\n",
       "      <td>-1 -1 -1 -1 -1</td>\n",
       "      <td>-1 -1 -1 -1  1</td>\n",
       "      <td>-1 -1 -1 -1 -1</td>\n",
       "      <td>0 -1 -1 -1 -1</td>\n",
       "      <td>-1  0 -1 -1 -1</td>\n",
       "      <td>-1 -1  1 -1 -1</td>\n",
       "      <td>-1 -1 -1 -1 -1</td>\n",
       "      <td>-1 -1  1 -1 -1</td>\n",
       "      <td>0 -1 -1 -1 -1</td>\n",
       "    </tr>\n",
       "    <tr>\n",
       "      <th>predy</th>\n",
       "      <td>-1 -1  0  0  0</td>\n",
       "      <td>-1  1  1  0 -1</td>\n",
       "      <td>-1 -1 -1 -1  1</td>\n",
       "      <td>1 1 1 1 1</td>\n",
       "      <td>-1  0  0 -1 -1</td>\n",
       "      <td>-1 -1 -1 -1 -1</td>\n",
       "      <td>-1 -1  0  0  0</td>\n",
       "      <td>1 -1 -1 -1 -1</td>\n",
       "      <td>-1 -1  0 -1 -1</td>\n",
       "      <td>-1 -1 -1 -1 -1</td>\n",
       "      <td>...</td>\n",
       "      <td>-1  0  0 -1 -1</td>\n",
       "      <td>-1 -1  0  0  0</td>\n",
       "      <td>-1  0 -1 -1  1</td>\n",
       "      <td>-1 -1  0  0  0</td>\n",
       "      <td>-1 -1  0  0  0</td>\n",
       "      <td>-1 -1 -1  0 -1</td>\n",
       "      <td>-1 -1 -1 -1 -1</td>\n",
       "      <td>1 -1 -1 -1 -1</td>\n",
       "      <td>-1 -1 -1 -1  0</td>\n",
       "      <td>-1 -1 -1 -1 -1</td>\n",
       "    </tr>\n",
       "    <tr>\n",
       "      <th>serac</th>\n",
       "      <td>0  0 -1  0  0</td>\n",
       "      <td>-1  0  0 -1  0</td>\n",
       "      <td>-1 -1 -1 -1 -1</td>\n",
       "      <td>-1  0  0 -1 -1</td>\n",
       "      <td>1 1 1 1 1</td>\n",
       "      <td>0 -1 -1 -1 -1</td>\n",
       "      <td>0  0 -1  0  0</td>\n",
       "      <td>-1 -1 -1 -1  0</td>\n",
       "      <td>1 -1 -1  1 -1</td>\n",
       "      <td>0 -1 -1 -1 -1</td>\n",
       "      <td>...</td>\n",
       "      <td>-1  1  1  1 -1</td>\n",
       "      <td>0  0 -1  0  0</td>\n",
       "      <td>1 -1 -1  1 -1</td>\n",
       "      <td>0  0 -1  0  0</td>\n",
       "      <td>-1  0  1  0 -1</td>\n",
       "      <td>-1 -1  0  0 -1</td>\n",
       "      <td>0 -1 -1 -1 -1</td>\n",
       "      <td>-1  0  0 -1 -1</td>\n",
       "      <td>0 -1 -1 -1  0</td>\n",
       "      <td>-1  0 -1 -1  0</td>\n",
       "    </tr>\n",
       "    <tr>\n",
       "      <th>...</th>\n",
       "      <td>...</td>\n",
       "      <td>...</td>\n",
       "      <td>...</td>\n",
       "      <td>...</td>\n",
       "      <td>...</td>\n",
       "      <td>...</td>\n",
       "      <td>...</td>\n",
       "      <td>...</td>\n",
       "      <td>...</td>\n",
       "      <td>...</td>\n",
       "      <td>...</td>\n",
       "      <td>...</td>\n",
       "      <td>...</td>\n",
       "      <td>...</td>\n",
       "      <td>...</td>\n",
       "      <td>...</td>\n",
       "      <td>...</td>\n",
       "      <td>...</td>\n",
       "      <td>...</td>\n",
       "      <td>...</td>\n",
       "      <td>...</td>\n",
       "    </tr>\n",
       "    <tr>\n",
       "      <th>micro</th>\n",
       "      <td>0 -1 -1  1 -1</td>\n",
       "      <td>-1  0 -1 -1 -1</td>\n",
       "      <td>-1 -1  0 -1 -1</td>\n",
       "      <td>-1  0 -1 -1 -1</td>\n",
       "      <td>-1 -1  0 -1  0</td>\n",
       "      <td>0  0  0 -1 -1</td>\n",
       "      <td>0 -1 -1 -1  0</td>\n",
       "      <td>-1 -1 -1  0 -1</td>\n",
       "      <td>-1 -1 -1 -1 -1</td>\n",
       "      <td>-1 -1  0  0 -1</td>\n",
       "      <td>...</td>\n",
       "      <td>-1 -1  0 -1 -1</td>\n",
       "      <td>-1 -1 -1 -1  0</td>\n",
       "      <td>-1 -1 -1 -1 -1</td>\n",
       "      <td>0 -1 -1 -1  0</td>\n",
       "      <td>-1 -1  0 -1 -1</td>\n",
       "      <td>1 1 1 1 1</td>\n",
       "      <td>-1 -1  0 -1 -1</td>\n",
       "      <td>-1 -1 -1 -1  0</td>\n",
       "      <td>-1 -1  0  0 -1</td>\n",
       "      <td>-1 -1 -1 -1 -1</td>\n",
       "    </tr>\n",
       "    <tr>\n",
       "      <th>align</th>\n",
       "      <td>-1  0 -1 -1 -1</td>\n",
       "      <td>-1 -1 -1 -1  0</td>\n",
       "      <td>-1 -1  1 -1 -1</td>\n",
       "      <td>-1 -1 -1 -1 -1</td>\n",
       "      <td>-1 -1 -1  0 -1</td>\n",
       "      <td>-1 -1  1  1  1</td>\n",
       "      <td>-1  0 -1 -1 -1</td>\n",
       "      <td>-1  1 -1 -1  0</td>\n",
       "      <td>-1 -1 -1  0  1</td>\n",
       "      <td>1  0 -1  0  0</td>\n",
       "      <td>...</td>\n",
       "      <td>-1 -1 -1  0  0</td>\n",
       "      <td>1 -1 -1 -1 -1</td>\n",
       "      <td>-1 -1  0  0 -1</td>\n",
       "      <td>-1  0 -1 -1 -1</td>\n",
       "      <td>-1  0 -1 -1 -1</td>\n",
       "      <td>-1  0 -1 -1 -1</td>\n",
       "      <td>1 1 1 1 1</td>\n",
       "      <td>-1 -1  0  0 -1</td>\n",
       "      <td>1  0  1 -1 -1</td>\n",
       "      <td>-1  0  0 -1 -1</td>\n",
       "    </tr>\n",
       "    <tr>\n",
       "      <th>psalm</th>\n",
       "      <td>-1  0 -1 -1 -1</td>\n",
       "      <td>-1 -1 -1 -1  0</td>\n",
       "      <td>-1 -1 -1 -1 -1</td>\n",
       "      <td>1 -1 -1 -1 -1</td>\n",
       "      <td>0 -1 -1  0 -1</td>\n",
       "      <td>-1 -1 -1 -1 -1</td>\n",
       "      <td>-1  0  0 -1 -1</td>\n",
       "      <td>1  0 -1  0  0</td>\n",
       "      <td>0 -1 -1  0 -1</td>\n",
       "      <td>0 -1 -1 -1  0</td>\n",
       "      <td>...</td>\n",
       "      <td>-1 -1 -1  0  0</td>\n",
       "      <td>0  1  0 -1 -1</td>\n",
       "      <td>0  0  0  0 -1</td>\n",
       "      <td>-1  0 -1 -1 -1</td>\n",
       "      <td>-1  0 -1 -1 -1</td>\n",
       "      <td>0 -1 -1 -1 -1</td>\n",
       "      <td>0  0 -1 -1 -1</td>\n",
       "      <td>1 1 1 1 1</td>\n",
       "      <td>0 -1 -1  0 -1</td>\n",
       "      <td>-1  0  0 -1  0</td>\n",
       "    </tr>\n",
       "    <tr>\n",
       "      <th>anime</th>\n",
       "      <td>-1  0 -1 -1  1</td>\n",
       "      <td>-1 -1  0 -1  0</td>\n",
       "      <td>-1 -1  1 -1 -1</td>\n",
       "      <td>-1 -1  0 -1 -1</td>\n",
       "      <td>-1  0 -1  0 -1</td>\n",
       "      <td>-1 -1  1 -1  0</td>\n",
       "      <td>-1  0 -1  0 -1</td>\n",
       "      <td>-1 -1 -1  1  0</td>\n",
       "      <td>-1 -1 -1  0  0</td>\n",
       "      <td>1  1 -1  0 -1</td>\n",
       "      <td>...</td>\n",
       "      <td>-1  0 -1  0 -1</td>\n",
       "      <td>1 -1 -1  0 -1</td>\n",
       "      <td>-1 -1 -1  0 -1</td>\n",
       "      <td>-1  0 -1  0 -1</td>\n",
       "      <td>-1  0 -1  0 -1</td>\n",
       "      <td>0  0 -1 -1 -1</td>\n",
       "      <td>1 -1  1 -1  0</td>\n",
       "      <td>-1 -1  0 -1  0</td>\n",
       "      <td>1 1 1 1 1</td>\n",
       "      <td>-1  0 -1 -1 -1</td>\n",
       "    </tr>\n",
       "    <tr>\n",
       "      <th>talus</th>\n",
       "      <td>-1  1 -1 -1 -1</td>\n",
       "      <td>-1 -1 -1 -1  0</td>\n",
       "      <td>-1 -1 -1  0 -1</td>\n",
       "      <td>-1 -1 -1 -1 -1</td>\n",
       "      <td>0 -1 -1  0 -1</td>\n",
       "      <td>-1 -1 -1 -1 -1</td>\n",
       "      <td>-1  1 -1 -1 -1</td>\n",
       "      <td>-1  0  0 -1  0</td>\n",
       "      <td>0  0 -1  0 -1</td>\n",
       "      <td>0 -1 -1 -1  0</td>\n",
       "      <td>...</td>\n",
       "      <td>-1 -1 -1  0  0</td>\n",
       "      <td>0  0 -1 -1 -1</td>\n",
       "      <td>0 -1  1  0 -1</td>\n",
       "      <td>-1  1 -1 -1 -1</td>\n",
       "      <td>1  1 -1 -1 -1</td>\n",
       "      <td>-1 -1 -1 -1 -1</td>\n",
       "      <td>0  0 -1 -1 -1</td>\n",
       "      <td>-1  0  0  0 -1</td>\n",
       "      <td>0 -1 -1 -1 -1</td>\n",
       "      <td>1 1 1 1 1</td>\n",
       "    </tr>\n",
       "  </tbody>\n",
       "</table>\n",
       "<p>726 rows × 726 columns</p>\n",
       "</div>"
      ],
      "text/plain": [
       "                cadre           freya           whity           predy  \\\n",
       "cadre       1 1 1 1 1  -1  0  0 -1  0  -1 -1 -1 -1 -1  -1  0  0  0 -1   \n",
       "freya  -1  0 -1  0  0       1 1 1 1 1  -1 -1 -1 -1  0  -1  1  1 -1  0   \n",
       "whity  -1 -1 -1 -1 -1  -1 -1 -1  0 -1       1 1 1 1 1  -1 -1 -1 -1  1   \n",
       "predy  -1 -1  0  0  0  -1  1  1  0 -1  -1 -1 -1 -1  1       1 1 1 1 1   \n",
       "serac   0  0 -1  0  0  -1  0  0 -1  0  -1 -1 -1 -1 -1  -1  0  0 -1 -1   \n",
       "...               ...             ...             ...             ...   \n",
       "micro   0 -1 -1  1 -1  -1  0 -1 -1 -1  -1 -1  0 -1 -1  -1  0 -1 -1 -1   \n",
       "align  -1  0 -1 -1 -1  -1 -1 -1 -1  0  -1 -1  1 -1 -1  -1 -1 -1 -1 -1   \n",
       "psalm  -1  0 -1 -1 -1  -1 -1 -1 -1  0  -1 -1 -1 -1 -1   1 -1 -1 -1 -1   \n",
       "anime  -1  0 -1 -1  1  -1 -1  0 -1  0  -1 -1  1 -1 -1  -1 -1  0 -1 -1   \n",
       "talus  -1  1 -1 -1 -1  -1 -1 -1 -1  0  -1 -1 -1  0 -1  -1 -1 -1 -1 -1   \n",
       "\n",
       "                serac           coign           caper           pluma  \\\n",
       "cadre  -1  0  0  0  0   1 -1 -1 -1 -1   1  1 -1  0  0  -1 -1 -1 -1  0   \n",
       "freya  -1  0  0  0 -1  -1 -1 -1 -1 -1  -1  0 -1  0  0  -1 -1 -1 -1  1   \n",
       "whity  -1 -1 -1 -1 -1  -1 -1  1 -1 -1  -1 -1 -1 -1 -1  -1 -1 -1 -1 -1   \n",
       "predy  -1  0  0 -1 -1  -1 -1 -1 -1 -1  -1 -1  0  0  0   1 -1 -1 -1 -1   \n",
       "serac       1 1 1 1 1   0 -1 -1 -1 -1   0  0 -1  0  0  -1 -1 -1 -1  0   \n",
       "...               ...             ...             ...             ...   \n",
       "micro  -1 -1  0 -1  0   0  0  0 -1 -1   0 -1 -1 -1  0  -1 -1 -1  0 -1   \n",
       "align  -1 -1 -1  0 -1  -1 -1  1  1  1  -1  0 -1 -1 -1  -1  1 -1 -1  0   \n",
       "psalm   0 -1 -1  0 -1  -1 -1 -1 -1 -1  -1  0  0 -1 -1   1  0 -1  0  0   \n",
       "anime  -1  0 -1  0 -1  -1 -1  1 -1  0  -1  0 -1  0 -1  -1 -1 -1  1  0   \n",
       "talus   0 -1 -1  0 -1  -1 -1 -1 -1 -1  -1  1 -1 -1 -1  -1  0  0 -1  0   \n",
       "\n",
       "                styan           anoil  ...           feral           asper  \\\n",
       "cadre  -1 -1 -1  0 -1   0 -1 -1 -1 -1  ...  -1  0  0  0 -1   0 -1 -1  0  0   \n",
       "freya  -1 -1  0  0 -1   0 -1 -1 -1 -1  ...   1  0  0  0 -1   0 -1 -1  0  0   \n",
       "whity  -1  0  0 -1 -1  -1 -1 -1  0 -1  ...  -1 -1 -1 -1 -1  -1 -1 -1 -1 -1   \n",
       "predy  -1 -1  0 -1 -1  -1 -1 -1 -1 -1  ...  -1  0  0 -1 -1  -1 -1  0  0  0   \n",
       "serac   1 -1 -1  1 -1   0 -1 -1 -1 -1  ...  -1  1  1  1 -1   0  0 -1  0  0   \n",
       "...               ...             ...  ...             ...             ...   \n",
       "micro  -1 -1 -1 -1 -1  -1 -1  0  0 -1  ...  -1 -1  0 -1 -1  -1 -1 -1 -1  0   \n",
       "align  -1 -1 -1  0  1   1  0 -1  0  0  ...  -1 -1 -1  0  0   1 -1 -1 -1 -1   \n",
       "psalm   0 -1 -1  0 -1   0 -1 -1 -1  0  ...  -1 -1 -1  0  0   0  1  0 -1 -1   \n",
       "anime  -1 -1 -1  0  0   1  1 -1  0 -1  ...  -1  0 -1  0 -1   1 -1 -1  0 -1   \n",
       "talus   0  0 -1  0 -1   0 -1 -1 -1  0  ...  -1 -1 -1  0  0   0  0 -1 -1 -1   \n",
       "\n",
       "                splay           cader           tared           micro  \\\n",
       "cadre  -1 -1 -1  0 -1       1 1 1 0 0  -1  1  0  0  0  -1 -1  0  1 -1   \n",
       "freya  -1 -1 -1  0  0  -1  0 -1  0  0  -1  0  0  0 -1  -1 -1 -1  0 -1   \n",
       "whity  -1 -1 -1 -1  1  -1 -1 -1 -1 -1   0 -1 -1 -1 -1  -1  0 -1 -1 -1   \n",
       "predy  -1  0 -1 -1  1  -1 -1  0  0  0  -1 -1  0  0  0  -1 -1 -1  0 -1   \n",
       "serac   1 -1 -1  1 -1   0  0 -1  0  0  -1  0  1  0 -1  -1 -1  0  0 -1   \n",
       "...               ...             ...             ...             ...   \n",
       "micro  -1 -1 -1 -1 -1   0 -1 -1 -1  0  -1 -1  0 -1 -1       1 1 1 1 1   \n",
       "align  -1 -1  0  0 -1  -1  0 -1 -1 -1  -1  0 -1 -1 -1  -1  0 -1 -1 -1   \n",
       "psalm   0  0  0  0 -1  -1  0 -1 -1 -1  -1  0 -1 -1 -1   0 -1 -1 -1 -1   \n",
       "anime  -1 -1 -1  0 -1  -1  0 -1  0 -1  -1  0 -1  0 -1   0  0 -1 -1 -1   \n",
       "talus   0 -1  1  0 -1  -1  1 -1 -1 -1   1  1 -1 -1 -1  -1 -1 -1 -1 -1   \n",
       "\n",
       "                align           psalm           anime           talus  \n",
       "cadre   0 -1 -1 -1 -1  -1 -1  0 -1 -1   0 -1 -1 -1  1  -1  1 -1 -1 -1  \n",
       "freya   0 -1 -1 -1 -1  -1 -1  0 -1 -1   0 -1 -1 -1  0  -1  0 -1 -1 -1  \n",
       "whity  -1 -1  1 -1 -1  -1 -1 -1 -1 -1  -1 -1  1 -1 -1   0 -1 -1 -1 -1  \n",
       "predy  -1 -1 -1 -1 -1   1 -1 -1 -1 -1  -1 -1 -1 -1  0  -1 -1 -1 -1 -1  \n",
       "serac   0 -1 -1 -1 -1  -1  0  0 -1 -1   0 -1 -1 -1  0  -1  0 -1 -1  0  \n",
       "...               ...             ...             ...             ...  \n",
       "micro  -1 -1  0 -1 -1  -1 -1 -1 -1  0  -1 -1  0  0 -1  -1 -1 -1 -1 -1  \n",
       "align       1 1 1 1 1  -1 -1  0  0 -1   1  0  1 -1 -1  -1  0  0 -1 -1  \n",
       "psalm   0  0 -1 -1 -1       1 1 1 1 1   0 -1 -1  0 -1  -1  0  0 -1  0  \n",
       "anime   1 -1  1 -1  0  -1 -1  0 -1  0       1 1 1 1 1  -1  0 -1 -1 -1  \n",
       "talus   0  0 -1 -1 -1  -1  0  0  0 -1   0 -1 -1 -1 -1       1 1 1 1 1  \n",
       "\n",
       "[726 rows x 726 columns]"
      ]
     },
     "execution_count": 25,
     "metadata": {},
     "output_type": "execute_result"
    }
   ],
   "source": [
    "all_anagram_scoring_df"
   ]
  },
  {
   "cell_type": "code",
   "execution_count": 26,
   "id": "b7ed1dc1",
   "metadata": {
    "ExecuteTime": {
     "end_time": "2022-07-15T12:00:54.555805Z",
     "start_time": "2022-07-15T12:00:53.450509Z"
    }
   },
   "outputs": [],
   "source": [
    "all_anagram_scoring_df.to_csv(\"./data/all_anagram_scoring.csv\", index=False)"
   ]
  },
  {
   "cell_type": "markdown",
   "id": "93a6df0b",
   "metadata": {},
   "source": [
    "## 5 bit binary  \n",
    "\n",
    "Scoring of anagrams produces 5 bit binary with range from `00000` to `11111` `(0 to 31)`.  \n",
    "- `00000`, all letter are in wrong place\n",
    "- `11111`, letters matched correctly"
   ]
  },
  {
   "cell_type": "code",
   "execution_count": 27,
   "id": "47e644a1",
   "metadata": {
    "ExecuteTime": {
     "end_time": "2022-07-15T12:00:54.571481Z",
     "start_time": "2022-07-15T12:00:54.558482Z"
    }
   },
   "outputs": [
    {
     "data": {
      "text/html": [
       "<div>\n",
       "<style scoped>\n",
       "    .dataframe tbody tr th:only-of-type {\n",
       "        vertical-align: middle;\n",
       "    }\n",
       "\n",
       "    .dataframe tbody tr th {\n",
       "        vertical-align: top;\n",
       "    }\n",
       "\n",
       "    .dataframe thead th {\n",
       "        text-align: right;\n",
       "    }\n",
       "</style>\n",
       "<table border=\"1\" class=\"dataframe\">\n",
       "  <thead>\n",
       "    <tr style=\"text-align: right;\">\n",
       "      <th></th>\n",
       "      <th>slate</th>\n",
       "      <th>satle</th>\n",
       "      <th>stale</th>\n",
       "      <th>stela</th>\n",
       "      <th>steal</th>\n",
       "      <th>tales</th>\n",
       "      <th>astel</th>\n",
       "    </tr>\n",
       "  </thead>\n",
       "  <tbody>\n",
       "    <tr>\n",
       "      <th>slate</th>\n",
       "      <td>1 1 1 1 1</td>\n",
       "      <td>1 0 0 0 1</td>\n",
       "      <td>1 0 1 0 1</td>\n",
       "      <td>1 0 0 0 0</td>\n",
       "      <td>1 0 0 0 0</td>\n",
       "      <td>0 0 0 0 0</td>\n",
       "      <td>0 0 0 0 0</td>\n",
       "    </tr>\n",
       "    <tr>\n",
       "      <th>satle</th>\n",
       "      <td>1 0 0 0 1</td>\n",
       "      <td>1 1 1 1 1</td>\n",
       "      <td>1 0 0 1 1</td>\n",
       "      <td>1 0 0 1 0</td>\n",
       "      <td>1 0 0 0 0</td>\n",
       "      <td>0 1 0 0 0</td>\n",
       "      <td>0 0 1 0 0</td>\n",
       "    </tr>\n",
       "    <tr>\n",
       "      <th>stale</th>\n",
       "      <td>1 0 1 0 1</td>\n",
       "      <td>1 0 0 1 1</td>\n",
       "      <td>1 1 1 1 1</td>\n",
       "      <td>1 1 0 1 0</td>\n",
       "      <td>1 1 0 0 0</td>\n",
       "      <td>0 0 0 0 0</td>\n",
       "      <td>0 0 0 0 0</td>\n",
       "    </tr>\n",
       "    <tr>\n",
       "      <th>stela</th>\n",
       "      <td>1 0 0 0 0</td>\n",
       "      <td>1 0 0 1 0</td>\n",
       "      <td>1 1 0 1 0</td>\n",
       "      <td>1 1 1 1 1</td>\n",
       "      <td>1 1 1 0 0</td>\n",
       "      <td>0 0 0 0 0</td>\n",
       "      <td>0 0 0 0 0</td>\n",
       "    </tr>\n",
       "    <tr>\n",
       "      <th>steal</th>\n",
       "      <td>1 0 0 0 0</td>\n",
       "      <td>1 0 0 0 0</td>\n",
       "      <td>1 1 0 0 0</td>\n",
       "      <td>1 1 1 0 0</td>\n",
       "      <td>1 1 1 1 1</td>\n",
       "      <td>0 0 0 0 0</td>\n",
       "      <td>0 0 0 0 1</td>\n",
       "    </tr>\n",
       "    <tr>\n",
       "      <th>tales</th>\n",
       "      <td>0 0 0 0 0</td>\n",
       "      <td>0 1 0 0 0</td>\n",
       "      <td>0 0 0 0 0</td>\n",
       "      <td>0 0 0 0 0</td>\n",
       "      <td>0 0 0 0 0</td>\n",
       "      <td>1 1 1 1 1</td>\n",
       "      <td>0 0 0 1 0</td>\n",
       "    </tr>\n",
       "    <tr>\n",
       "      <th>astel</th>\n",
       "      <td>0 0 0 0 0</td>\n",
       "      <td>0 0 1 0 0</td>\n",
       "      <td>0 0 0 0 0</td>\n",
       "      <td>0 0 0 0 0</td>\n",
       "      <td>0 0 0 0 1</td>\n",
       "      <td>0 0 0 1 0</td>\n",
       "      <td>1 1 1 1 1</td>\n",
       "    </tr>\n",
       "  </tbody>\n",
       "</table>\n",
       "</div>"
      ],
      "text/plain": [
       "           slate      satle      stale      stela      steal      tales  \\\n",
       "slate  1 1 1 1 1  1 0 0 0 1  1 0 1 0 1  1 0 0 0 0  1 0 0 0 0  0 0 0 0 0   \n",
       "satle  1 0 0 0 1  1 1 1 1 1  1 0 0 1 1  1 0 0 1 0  1 0 0 0 0  0 1 0 0 0   \n",
       "stale  1 0 1 0 1  1 0 0 1 1  1 1 1 1 1  1 1 0 1 0  1 1 0 0 0  0 0 0 0 0   \n",
       "stela  1 0 0 0 0  1 0 0 1 0  1 1 0 1 0  1 1 1 1 1  1 1 1 0 0  0 0 0 0 0   \n",
       "steal  1 0 0 0 0  1 0 0 0 0  1 1 0 0 0  1 1 1 0 0  1 1 1 1 1  0 0 0 0 0   \n",
       "tales  0 0 0 0 0  0 1 0 0 0  0 0 0 0 0  0 0 0 0 0  0 0 0 0 0  1 1 1 1 1   \n",
       "astel  0 0 0 0 0  0 0 1 0 0  0 0 0 0 0  0 0 0 0 0  0 0 0 0 1  0 0 0 1 0   \n",
       "\n",
       "           astel  \n",
       "slate  0 0 0 0 0  \n",
       "satle  0 0 1 0 0  \n",
       "stale  0 0 0 0 0  \n",
       "stela  0 0 0 0 0  \n",
       "steal  0 0 0 0 1  \n",
       "tales  0 0 0 1 0  \n",
       "astel  1 1 1 1 1  "
      ]
     },
     "execution_count": 27,
     "metadata": {},
     "output_type": "execute_result"
    }
   ],
   "source": [
    "df2"
   ]
  },
  {
   "cell_type": "code",
   "execution_count": 28,
   "id": "aecdbb1b",
   "metadata": {
    "ExecuteTime": {
     "end_time": "2022-07-15T12:00:54.579339Z",
     "start_time": "2022-07-15T12:00:54.574031Z"
    }
   },
   "outputs": [
    {
     "data": {
      "text/plain": [
       "31"
      ]
     },
     "execution_count": 28,
     "metadata": {},
     "output_type": "execute_result"
    }
   ],
   "source": [
    "int(\"11111\", 2)"
   ]
  },
  {
   "cell_type": "code",
   "execution_count": 29,
   "id": "7844a3f6",
   "metadata": {
    "ExecuteTime": {
     "end_time": "2022-07-15T12:00:54.586855Z",
     "start_time": "2022-07-15T12:00:54.582203Z"
    }
   },
   "outputs": [
    {
     "data": {
      "text/plain": [
       "0"
      ]
     },
     "execution_count": 29,
     "metadata": {},
     "output_type": "execute_result"
    }
   ],
   "source": [
    "int(\"00000\", 2)"
   ]
  },
  {
   "cell_type": "code",
   "execution_count": 30,
   "id": "54691521",
   "metadata": {
    "ExecuteTime": {
     "end_time": "2022-07-15T12:00:54.597571Z",
     "start_time": "2022-07-15T12:00:54.589239Z"
    }
   },
   "outputs": [
    {
     "data": {
      "text/plain": [
       "16"
      ]
     },
     "execution_count": 30,
     "metadata": {},
     "output_type": "execute_result"
    }
   ],
   "source": [
    "int(\"10000\", 2)"
   ]
  },
  {
   "cell_type": "code",
   "execution_count": 31,
   "id": "58237a35",
   "metadata": {
    "ExecuteTime": {
     "end_time": "2022-07-15T12:00:54.613031Z",
     "start_time": "2022-07-15T12:00:54.603953Z"
    }
   },
   "outputs": [
    {
     "data": {
      "text/plain": [
       "21"
      ]
     },
     "execution_count": 31,
     "metadata": {},
     "output_type": "execute_result"
    }
   ],
   "source": [
    "int(\"10101\", 2)"
   ]
  },
  {
   "cell_type": "markdown",
   "id": "eafa62c4",
   "metadata": {},
   "source": [
    "**`stale` contains 24 bits of information necessary to describe `steal`**"
   ]
  },
  {
   "cell_type": "code",
   "execution_count": 32,
   "id": "9336347c",
   "metadata": {
    "ExecuteTime": {
     "end_time": "2022-07-15T12:00:54.623105Z",
     "start_time": "2022-07-15T12:00:54.618148Z"
    }
   },
   "outputs": [
    {
     "data": {
      "text/plain": [
       "24"
      ]
     },
     "execution_count": 32,
     "metadata": {},
     "output_type": "execute_result"
    }
   ],
   "source": [
    "int(\"11000\", 2)"
   ]
  },
  {
   "cell_type": "code",
   "execution_count": 33,
   "id": "79389e6d",
   "metadata": {
    "ExecuteTime": {
     "end_time": "2022-07-15T12:00:54.631573Z",
     "start_time": "2022-07-15T12:00:54.625830Z"
    }
   },
   "outputs": [
    {
     "data": {
      "text/plain": [
       "4"
      ]
     },
     "execution_count": 33,
     "metadata": {},
     "output_type": "execute_result"
    }
   ],
   "source": [
    "int(\"00100\", 2)"
   ]
  },
  {
   "cell_type": "code",
   "execution_count": 34,
   "id": "6efb564a",
   "metadata": {
    "ExecuteTime": {
     "end_time": "2022-07-15T12:00:54.644292Z",
     "start_time": "2022-07-15T12:00:54.633636Z"
    }
   },
   "outputs": [
    {
     "data": {
      "text/html": [
       "<div>\n",
       "<style scoped>\n",
       "    .dataframe tbody tr th:only-of-type {\n",
       "        vertical-align: middle;\n",
       "    }\n",
       "\n",
       "    .dataframe tbody tr th {\n",
       "        vertical-align: top;\n",
       "    }\n",
       "\n",
       "    .dataframe thead th {\n",
       "        text-align: right;\n",
       "    }\n",
       "</style>\n",
       "<table border=\"1\" class=\"dataframe\">\n",
       "  <thead>\n",
       "    <tr style=\"text-align: right;\">\n",
       "      <th></th>\n",
       "      <th>slate</th>\n",
       "      <th>satle</th>\n",
       "      <th>stale</th>\n",
       "      <th>stela</th>\n",
       "      <th>steal</th>\n",
       "      <th>tales</th>\n",
       "      <th>astel</th>\n",
       "    </tr>\n",
       "  </thead>\n",
       "  <tbody>\n",
       "    <tr>\n",
       "      <th>stale</th>\n",
       "      <td>1 0 1 0 1</td>\n",
       "      <td>1 0 0 1 1</td>\n",
       "      <td>1 1 1 1 1</td>\n",
       "      <td>1 1 0 1 0</td>\n",
       "      <td>1 1 0 0 0</td>\n",
       "      <td>0 0 0 0 0</td>\n",
       "      <td>0 0 0 0 0</td>\n",
       "    </tr>\n",
       "  </tbody>\n",
       "</table>\n",
       "</div>"
      ],
      "text/plain": [
       "           slate      satle      stale      stela      steal      tales  \\\n",
       "stale  1 0 1 0 1  1 0 0 1 1  1 1 1 1 1  1 1 0 1 0  1 1 0 0 0  0 0 0 0 0   \n",
       "\n",
       "           astel  \n",
       "stale  0 0 0 0 0  "
      ]
     },
     "execution_count": 34,
     "metadata": {},
     "output_type": "execute_result"
    }
   ],
   "source": [
    "(df2\n",
    " .loc[df2.index == \"stale\"]\n",
    ")"
   ]
  },
  {
   "cell_type": "code",
   "execution_count": 35,
   "id": "48566aae",
   "metadata": {
    "ExecuteTime": {
     "end_time": "2022-07-15T12:00:54.655027Z",
     "start_time": "2022-07-15T12:00:54.647170Z"
    }
   },
   "outputs": [
    {
     "data": {
      "text/html": [
       "<div>\n",
       "<style scoped>\n",
       "    .dataframe tbody tr th:only-of-type {\n",
       "        vertical-align: middle;\n",
       "    }\n",
       "\n",
       "    .dataframe tbody tr th {\n",
       "        vertical-align: top;\n",
       "    }\n",
       "\n",
       "    .dataframe thead th {\n",
       "        text-align: right;\n",
       "    }\n",
       "</style>\n",
       "<table border=\"1\" class=\"dataframe\">\n",
       "  <thead>\n",
       "    <tr style=\"text-align: right;\">\n",
       "      <th></th>\n",
       "      <th>stale</th>\n",
       "    </tr>\n",
       "  </thead>\n",
       "  <tbody>\n",
       "    <tr>\n",
       "      <th>slate</th>\n",
       "      <td>1 0 1 0 1</td>\n",
       "    </tr>\n",
       "    <tr>\n",
       "      <th>satle</th>\n",
       "      <td>1 0 0 1 1</td>\n",
       "    </tr>\n",
       "    <tr>\n",
       "      <th>stale</th>\n",
       "      <td>1 1 1 1 1</td>\n",
       "    </tr>\n",
       "    <tr>\n",
       "      <th>stela</th>\n",
       "      <td>1 1 0 1 0</td>\n",
       "    </tr>\n",
       "    <tr>\n",
       "      <th>steal</th>\n",
       "      <td>1 1 0 0 0</td>\n",
       "    </tr>\n",
       "    <tr>\n",
       "      <th>tales</th>\n",
       "      <td>0 0 0 0 0</td>\n",
       "    </tr>\n",
       "    <tr>\n",
       "      <th>astel</th>\n",
       "      <td>0 0 0 0 0</td>\n",
       "    </tr>\n",
       "  </tbody>\n",
       "</table>\n",
       "</div>"
      ],
      "text/plain": [
       "           stale\n",
       "slate  1 0 1 0 1\n",
       "satle  1 0 0 1 1\n",
       "stale  1 1 1 1 1\n",
       "stela  1 1 0 1 0\n",
       "steal  1 1 0 0 0\n",
       "tales  0 0 0 0 0\n",
       "astel  0 0 0 0 0"
      ]
     },
     "execution_count": 35,
     "metadata": {},
     "output_type": "execute_result"
    }
   ],
   "source": [
    "stale = (df2\n",
    "         .loc[df2.index == \"stale\"]\n",
    "         .T\n",
    "        )\n",
    "stale"
   ]
  },
  {
   "cell_type": "code",
   "execution_count": 36,
   "id": "ed887eab",
   "metadata": {
    "ExecuteTime": {
     "end_time": "2022-07-15T12:00:54.668043Z",
     "start_time": "2022-07-15T12:00:54.657364Z"
    }
   },
   "outputs": [
    {
     "data": {
      "text/plain": [
       "slate    1 0 1 0 1\n",
       "satle    1 0 0 1 1\n",
       "stale    1 1 1 1 1\n",
       "stela    1 1 0 1 0\n",
       "steal    1 1 0 0 0\n",
       "tales    0 0 0 0 0\n",
       "astel    0 0 0 0 0\n",
       "Name: stale, dtype: object"
      ]
     },
     "execution_count": 36,
     "metadata": {},
     "output_type": "execute_result"
    }
   ],
   "source": [
    "# df2.loc[df2.index.isin([\"stale\"])].squeeze()\n",
    "(df2\n",
    " .loc[df2.index == \"stale\"]\n",
    " .squeeze()\n",
    ")"
   ]
  },
  {
   "cell_type": "code",
   "execution_count": 37,
   "id": "0c6555c9",
   "metadata": {
    "ExecuteTime": {
     "end_time": "2022-07-15T12:00:54.680356Z",
     "start_time": "2022-07-15T12:00:54.671113Z"
    }
   },
   "outputs": [
    {
     "data": {
      "text/html": [
       "<div>\n",
       "<style scoped>\n",
       "    .dataframe tbody tr th:only-of-type {\n",
       "        vertical-align: middle;\n",
       "    }\n",
       "\n",
       "    .dataframe tbody tr th {\n",
       "        vertical-align: top;\n",
       "    }\n",
       "\n",
       "    .dataframe thead th {\n",
       "        text-align: right;\n",
       "    }\n",
       "</style>\n",
       "<table border=\"1\" class=\"dataframe\">\n",
       "  <thead>\n",
       "    <tr style=\"text-align: right;\">\n",
       "      <th></th>\n",
       "      <th>stale</th>\n",
       "    </tr>\n",
       "  </thead>\n",
       "  <tbody>\n",
       "    <tr>\n",
       "      <th>slate</th>\n",
       "      <td>1 0 1 0 1</td>\n",
       "    </tr>\n",
       "    <tr>\n",
       "      <th>satle</th>\n",
       "      <td>1 0 0 1 1</td>\n",
       "    </tr>\n",
       "    <tr>\n",
       "      <th>stale</th>\n",
       "      <td>1 1 1 1 1</td>\n",
       "    </tr>\n",
       "    <tr>\n",
       "      <th>stela</th>\n",
       "      <td>1 1 0 1 0</td>\n",
       "    </tr>\n",
       "    <tr>\n",
       "      <th>steal</th>\n",
       "      <td>1 1 0 0 0</td>\n",
       "    </tr>\n",
       "    <tr>\n",
       "      <th>tales</th>\n",
       "      <td>0 0 0 0 0</td>\n",
       "    </tr>\n",
       "    <tr>\n",
       "      <th>astel</th>\n",
       "      <td>0 0 0 0 0</td>\n",
       "    </tr>\n",
       "  </tbody>\n",
       "</table>\n",
       "</div>"
      ],
      "text/plain": [
       "           stale\n",
       "slate  1 0 1 0 1\n",
       "satle  1 0 0 1 1\n",
       "stale  1 1 1 1 1\n",
       "stela  1 1 0 1 0\n",
       "steal  1 1 0 0 0\n",
       "tales  0 0 0 0 0\n",
       "astel  0 0 0 0 0"
      ]
     },
     "execution_count": 37,
     "metadata": {},
     "output_type": "execute_result"
    }
   ],
   "source": [
    "pd.DataFrame((df2\n",
    "              .loc[df2.index == \"stale\"]\n",
    "              .squeeze())\n",
    "            )"
   ]
  },
  {
   "cell_type": "code",
   "execution_count": 38,
   "id": "63be1a33",
   "metadata": {
    "ExecuteTime": {
     "end_time": "2022-07-15T12:00:54.688073Z",
     "start_time": "2022-07-15T12:00:54.682636Z"
    }
   },
   "outputs": [
    {
     "data": {
      "text/plain": [
       "['1 0 1 0 1',\n",
       " '1 0 0 1 1',\n",
       " '1 1 1 1 1',\n",
       " '1 1 0 1 0',\n",
       " '1 1 0 0 0',\n",
       " '0 0 0 0 0',\n",
       " '0 0 0 0 0']"
      ]
     },
     "execution_count": 38,
     "metadata": {},
     "output_type": "execute_result"
    }
   ],
   "source": [
    "stale_binaries = (df2\n",
    "                  .loc[df2.index == \"stale\"]\n",
    "                  .squeeze()\n",
    "                  .tolist()\n",
    "                 )\n",
    "stale_binaries"
   ]
  },
  {
   "cell_type": "code",
   "execution_count": 39,
   "id": "291792e0",
   "metadata": {
    "ExecuteTime": {
     "end_time": "2022-07-15T12:00:54.696900Z",
     "start_time": "2022-07-15T12:00:54.690453Z"
    }
   },
   "outputs": [
    {
     "data": {
      "text/plain": [
       "'1 0 1 0 1'"
      ]
     },
     "execution_count": 39,
     "metadata": {},
     "output_type": "execute_result"
    }
   ],
   "source": [
    "stale_binaries[0]"
   ]
  },
  {
   "cell_type": "code",
   "execution_count": 40,
   "id": "3e12e9ea",
   "metadata": {
    "ExecuteTime": {
     "end_time": "2022-07-15T12:00:54.706829Z",
     "start_time": "2022-07-15T12:00:54.701423Z"
    }
   },
   "outputs": [
    {
     "data": {
      "text/plain": [
       "'10101'"
      ]
     },
     "execution_count": 40,
     "metadata": {},
     "output_type": "execute_result"
    }
   ],
   "source": [
    "\"\".join(stale_binaries[0].split())"
   ]
  },
  {
   "cell_type": "code",
   "execution_count": 41,
   "id": "e0898bc7",
   "metadata": {
    "ExecuteTime": {
     "end_time": "2022-07-15T12:00:54.716119Z",
     "start_time": "2022-07-15T12:00:54.709971Z"
    }
   },
   "outputs": [
    {
     "data": {
      "text/plain": [
       "21"
      ]
     },
     "execution_count": 41,
     "metadata": {},
     "output_type": "execute_result"
    }
   ],
   "source": [
    "int(\"\".join(stale_binaries[0].split()), 2)"
   ]
  },
  {
   "cell_type": "code",
   "execution_count": 42,
   "id": "646fa8ad",
   "metadata": {
    "ExecuteTime": {
     "end_time": "2022-07-15T12:00:54.723472Z",
     "start_time": "2022-07-15T12:00:54.718602Z"
    }
   },
   "outputs": [
    {
     "data": {
      "text/plain": [
       "['10101', '10011', '11111', '11010', '11000', '00000', '00000']"
      ]
     },
     "execution_count": 42,
     "metadata": {},
     "output_type": "execute_result"
    }
   ],
   "source": [
    "stale_binaries = [\"\".join(x.split()) for x in stale_binaries]\n",
    "stale_binaries"
   ]
  },
  {
   "cell_type": "code",
   "execution_count": 43,
   "id": "5a2335ad",
   "metadata": {
    "ExecuteTime": {
     "end_time": "2022-07-15T12:00:54.733533Z",
     "start_time": "2022-07-15T12:00:54.726037Z"
    }
   },
   "outputs": [
    {
     "data": {
      "text/plain": [
       "[21, 19, 31, 26, 24, 0, 0]"
      ]
     },
     "execution_count": 43,
     "metadata": {},
     "output_type": "execute_result"
    }
   ],
   "source": [
    "[int(binary, 2) for binary in stale_binaries]"
   ]
  },
  {
   "cell_type": "code",
   "execution_count": 44,
   "id": "35570c46",
   "metadata": {
    "ExecuteTime": {
     "end_time": "2022-07-15T12:00:55.348616Z",
     "start_time": "2022-07-15T12:00:54.736728Z"
    }
   },
   "outputs": [
    {
     "data": {
      "text/plain": [
       "cadre     0  0 -1  1  1\n",
       "freya    -1  0  0 -1  0\n",
       "whity    -1 -1 -1 -1 -1\n",
       "predy    -1  0  0 -1 -1\n",
       "serac         1 0 0 0 0\n",
       "              ...      \n",
       "micro    -1 -1  0  1 -1\n",
       "align     0 -1 -1 -1 -1\n",
       "psalm    -1  0  1 -1 -1\n",
       "anime     0 -1 -1 -1  1\n",
       "talus    -1  0 -1 -1  0\n",
       "Name: scare, Length: 726, dtype: string"
      ]
     },
     "execution_count": 44,
     "metadata": {},
     "output_type": "execute_result"
    }
   ],
   "source": [
    "scare = (all_anagram_scoring_df\n",
    "         .loc[all_anagram_scoring_df.index == \"scare\"]\n",
    "         .squeeze()\n",
    "        )\n",
    "scare"
   ]
  },
  {
   "cell_type": "code",
   "execution_count": 45,
   "id": "571d42d0",
   "metadata": {
    "ExecuteTime": {
     "end_time": "2022-07-15T12:00:55.373409Z",
     "start_time": "2022-07-15T12:00:55.350914Z"
    }
   },
   "outputs": [
    {
     "data": {
      "text/plain": [
       "[(4, '1 0 0 0 0'),\n",
       " (193, '1 1 1 1 1'),\n",
       " (248, '0 0 1 0 1'),\n",
       " (376, '1 0 0 1 1'),\n",
       " (507, '0 0 0 0 1')]"
      ]
     },
     "execution_count": 45,
     "metadata": {},
     "output_type": "execute_result"
    }
   ],
   "source": [
    "#  you can find the scores for scare by filtering out those with -1\n",
    "cols = [(idx, binary) for idx, binary in enumerate(scare) if \"-1\" not in binary]\n",
    "cols"
   ]
  },
  {
   "cell_type": "code",
   "execution_count": 46,
   "id": "16d0aaf2",
   "metadata": {
    "ExecuteTime": {
     "end_time": "2022-07-15T12:00:55.382050Z",
     "start_time": "2022-07-15T12:00:55.376391Z"
    }
   },
   "outputs": [
    {
     "data": {
      "text/plain": [
       "[4, 193, 248, 376, 507]"
      ]
     },
     "execution_count": 46,
     "metadata": {},
     "output_type": "execute_result"
    }
   ],
   "source": [
    "scare_cols = [col[0] for col in cols]\n",
    "scare_cols"
   ]
  },
  {
   "cell_type": "code",
   "execution_count": 47,
   "id": "65aeff41",
   "metadata": {
    "ExecuteTime": {
     "end_time": "2022-07-15T12:00:55.451691Z",
     "start_time": "2022-07-15T12:00:55.385265Z"
    }
   },
   "outputs": [
    {
     "data": {
      "text/html": [
       "<div>\n",
       "<style scoped>\n",
       "    .dataframe tbody tr th:only-of-type {\n",
       "        vertical-align: middle;\n",
       "    }\n",
       "\n",
       "    .dataframe tbody tr th {\n",
       "        vertical-align: top;\n",
       "    }\n",
       "\n",
       "    .dataframe thead th {\n",
       "        text-align: right;\n",
       "    }\n",
       "</style>\n",
       "<table border=\"1\" class=\"dataframe\">\n",
       "  <thead>\n",
       "    <tr style=\"text-align: right;\">\n",
       "      <th></th>\n",
       "      <th>serac</th>\n",
       "      <th>scare</th>\n",
       "      <th>crase</th>\n",
       "      <th>sacre</th>\n",
       "      <th>carse</th>\n",
       "    </tr>\n",
       "  </thead>\n",
       "  <tbody>\n",
       "    <tr>\n",
       "      <th>serac</th>\n",
       "      <td>1 1 1 1 1</td>\n",
       "      <td>1 0 0 0 0</td>\n",
       "      <td>0 0 0 0 0</td>\n",
       "      <td>1 0 0 0 0</td>\n",
       "      <td>0 0 1 0 0</td>\n",
       "    </tr>\n",
       "    <tr>\n",
       "      <th>scare</th>\n",
       "      <td>1 0 0 0 0</td>\n",
       "      <td>1 1 1 1 1</td>\n",
       "      <td>0 0 1 0 1</td>\n",
       "      <td>1 0 0 1 1</td>\n",
       "      <td>0 0 0 0 1</td>\n",
       "    </tr>\n",
       "    <tr>\n",
       "      <th>crase</th>\n",
       "      <td>0 0 0 0 0</td>\n",
       "      <td>0 0 1 0 1</td>\n",
       "      <td>1 1 1 1 1</td>\n",
       "      <td>0 0 0 0 1</td>\n",
       "      <td>1 0 0 1 1</td>\n",
       "    </tr>\n",
       "    <tr>\n",
       "      <th>sacre</th>\n",
       "      <td>1 0 0 0 0</td>\n",
       "      <td>1 0 0 1 1</td>\n",
       "      <td>0 0 0 0 1</td>\n",
       "      <td>1 1 1 1 1</td>\n",
       "      <td>0 1 0 0 1</td>\n",
       "    </tr>\n",
       "    <tr>\n",
       "      <th>carse</th>\n",
       "      <td>0 0 1 0 0</td>\n",
       "      <td>0 0 0 0 1</td>\n",
       "      <td>1 0 0 1 1</td>\n",
       "      <td>0 1 0 0 1</td>\n",
       "      <td>1 1 1 1 1</td>\n",
       "    </tr>\n",
       "  </tbody>\n",
       "</table>\n",
       "</div>"
      ],
      "text/plain": [
       "           serac      scare      crase      sacre      carse\n",
       "serac  1 1 1 1 1  1 0 0 0 0  0 0 0 0 0  1 0 0 0 0  0 0 1 0 0\n",
       "scare  1 0 0 0 0  1 1 1 1 1  0 0 1 0 1  1 0 0 1 1  0 0 0 0 1\n",
       "crase  0 0 0 0 0  0 0 1 0 1  1 1 1 1 1  0 0 0 0 1  1 0 0 1 1\n",
       "sacre  1 0 0 0 0  1 0 0 1 1  0 0 0 0 1  1 1 1 1 1  0 1 0 0 1\n",
       "carse  0 0 1 0 0  0 0 0 0 1  1 0 0 1 1  0 1 0 0 1  1 1 1 1 1"
      ]
     },
     "execution_count": 47,
     "metadata": {},
     "output_type": "execute_result"
    }
   ],
   "source": [
    "(all_anagram_scoring_df\n",
    " .iloc[scare_cols, scare_cols])"
   ]
  },
  {
   "cell_type": "code",
   "execution_count": 48,
   "id": "80eef8a0",
   "metadata": {
    "ExecuteTime": {
     "end_time": "2022-07-15T12:00:55.513170Z",
     "start_time": "2022-07-15T12:00:55.454107Z"
    }
   },
   "outputs": [
    {
     "data": {
      "text/html": [
       "<div>\n",
       "<style scoped>\n",
       "    .dataframe tbody tr th:only-of-type {\n",
       "        vertical-align: middle;\n",
       "    }\n",
       "\n",
       "    .dataframe tbody tr th {\n",
       "        vertical-align: top;\n",
       "    }\n",
       "\n",
       "    .dataframe thead th {\n",
       "        text-align: right;\n",
       "    }\n",
       "</style>\n",
       "<table border=\"1\" class=\"dataframe\">\n",
       "  <thead>\n",
       "    <tr style=\"text-align: right;\">\n",
       "      <th></th>\n",
       "      <th>serac</th>\n",
       "      <th>scare</th>\n",
       "      <th>crase</th>\n",
       "      <th>sacre</th>\n",
       "      <th>carse</th>\n",
       "    </tr>\n",
       "  </thead>\n",
       "  <tbody>\n",
       "    <tr>\n",
       "      <th>serac</th>\n",
       "      <td>11111</td>\n",
       "      <td>10000</td>\n",
       "      <td>00000</td>\n",
       "      <td>10000</td>\n",
       "      <td>00100</td>\n",
       "    </tr>\n",
       "    <tr>\n",
       "      <th>scare</th>\n",
       "      <td>10000</td>\n",
       "      <td>11111</td>\n",
       "      <td>00101</td>\n",
       "      <td>10011</td>\n",
       "      <td>00001</td>\n",
       "    </tr>\n",
       "    <tr>\n",
       "      <th>crase</th>\n",
       "      <td>00000</td>\n",
       "      <td>00101</td>\n",
       "      <td>11111</td>\n",
       "      <td>00001</td>\n",
       "      <td>10011</td>\n",
       "    </tr>\n",
       "    <tr>\n",
       "      <th>sacre</th>\n",
       "      <td>10000</td>\n",
       "      <td>10011</td>\n",
       "      <td>00001</td>\n",
       "      <td>11111</td>\n",
       "      <td>01001</td>\n",
       "    </tr>\n",
       "    <tr>\n",
       "      <th>carse</th>\n",
       "      <td>00100</td>\n",
       "      <td>00001</td>\n",
       "      <td>10011</td>\n",
       "      <td>01001</td>\n",
       "      <td>11111</td>\n",
       "    </tr>\n",
       "  </tbody>\n",
       "</table>\n",
       "</div>"
      ],
      "text/plain": [
       "       serac  scare  crase  sacre  carse\n",
       "serac  11111  10000  00000  10000  00100\n",
       "scare  10000  11111  00101  10011  00001\n",
       "crase  00000  00101  11111  00001  10011\n",
       "sacre  10000  10011  00001  11111  01001\n",
       "carse  00100  00001  10011  01001  11111"
      ]
     },
     "execution_count": 48,
     "metadata": {},
     "output_type": "execute_result"
    }
   ],
   "source": [
    "# remove spaces\n",
    "(all_anagram_scoring_df\n",
    " .iloc[scare_cols, scare_cols]\n",
    " .applymap(lambda x: \"\".join(x.split()))\n",
    ")"
   ]
  },
  {
   "cell_type": "code",
   "execution_count": 49,
   "id": "000d2bf9",
   "metadata": {
    "ExecuteTime": {
     "end_time": "2022-07-15T12:00:55.574942Z",
     "start_time": "2022-07-15T12:00:55.515672Z"
    }
   },
   "outputs": [
    {
     "data": {
      "text/html": [
       "<div>\n",
       "<style scoped>\n",
       "    .dataframe tbody tr th:only-of-type {\n",
       "        vertical-align: middle;\n",
       "    }\n",
       "\n",
       "    .dataframe tbody tr th {\n",
       "        vertical-align: top;\n",
       "    }\n",
       "\n",
       "    .dataframe thead th {\n",
       "        text-align: right;\n",
       "    }\n",
       "</style>\n",
       "<table border=\"1\" class=\"dataframe\">\n",
       "  <thead>\n",
       "    <tr style=\"text-align: right;\">\n",
       "      <th></th>\n",
       "      <th>serac</th>\n",
       "      <th>scare</th>\n",
       "      <th>crase</th>\n",
       "      <th>sacre</th>\n",
       "      <th>carse</th>\n",
       "    </tr>\n",
       "  </thead>\n",
       "  <tbody>\n",
       "    <tr>\n",
       "      <th>serac</th>\n",
       "      <td>31</td>\n",
       "      <td>16</td>\n",
       "      <td>0</td>\n",
       "      <td>16</td>\n",
       "      <td>4</td>\n",
       "    </tr>\n",
       "    <tr>\n",
       "      <th>scare</th>\n",
       "      <td>16</td>\n",
       "      <td>31</td>\n",
       "      <td>5</td>\n",
       "      <td>19</td>\n",
       "      <td>1</td>\n",
       "    </tr>\n",
       "    <tr>\n",
       "      <th>crase</th>\n",
       "      <td>0</td>\n",
       "      <td>5</td>\n",
       "      <td>31</td>\n",
       "      <td>1</td>\n",
       "      <td>19</td>\n",
       "    </tr>\n",
       "    <tr>\n",
       "      <th>sacre</th>\n",
       "      <td>16</td>\n",
       "      <td>19</td>\n",
       "      <td>1</td>\n",
       "      <td>31</td>\n",
       "      <td>9</td>\n",
       "    </tr>\n",
       "    <tr>\n",
       "      <th>carse</th>\n",
       "      <td>4</td>\n",
       "      <td>1</td>\n",
       "      <td>19</td>\n",
       "      <td>9</td>\n",
       "      <td>31</td>\n",
       "    </tr>\n",
       "  </tbody>\n",
       "</table>\n",
       "</div>"
      ],
      "text/plain": [
       "       serac  scare  crase  sacre  carse\n",
       "serac     31     16      0     16      4\n",
       "scare     16     31      5     19      1\n",
       "crase      0      5     31      1     19\n",
       "sacre     16     19      1     31      9\n",
       "carse      4      1     19      9     31"
      ]
     },
     "execution_count": 49,
     "metadata": {},
     "output_type": "execute_result"
    }
   ],
   "source": [
    "# convert to int\n",
    "(all_anagram_scoring_df\n",
    " .iloc[scare_cols, scare_cols]\n",
    " .applymap(lambda x: \"\".join(x.split()))\n",
    " .applymap(lambda x: int(x, 2))\n",
    ")"
   ]
  },
  {
   "cell_type": "code",
   "execution_count": 50,
   "id": "96b1e3b3",
   "metadata": {
    "ExecuteTime": {
     "end_time": "2022-07-15T12:00:55.638372Z",
     "start_time": "2022-07-15T12:00:55.578047Z"
    }
   },
   "outputs": [
    {
     "data": {
      "text/html": [
       "<div>\n",
       "<style scoped>\n",
       "    .dataframe tbody tr th:only-of-type {\n",
       "        vertical-align: middle;\n",
       "    }\n",
       "\n",
       "    .dataframe tbody tr th {\n",
       "        vertical-align: top;\n",
       "    }\n",
       "\n",
       "    .dataframe thead th {\n",
       "        text-align: right;\n",
       "    }\n",
       "</style>\n",
       "<table border=\"1\" class=\"dataframe\">\n",
       "  <thead>\n",
       "    <tr style=\"text-align: right;\">\n",
       "      <th></th>\n",
       "      <th>serac</th>\n",
       "      <th>scare</th>\n",
       "      <th>crase</th>\n",
       "      <th>sacre</th>\n",
       "      <th>carse</th>\n",
       "      <th>sum_across</th>\n",
       "    </tr>\n",
       "  </thead>\n",
       "  <tbody>\n",
       "    <tr>\n",
       "      <th>serac</th>\n",
       "      <td>31</td>\n",
       "      <td>16</td>\n",
       "      <td>0</td>\n",
       "      <td>16</td>\n",
       "      <td>4</td>\n",
       "      <td>67</td>\n",
       "    </tr>\n",
       "    <tr>\n",
       "      <th>scare</th>\n",
       "      <td>16</td>\n",
       "      <td>31</td>\n",
       "      <td>5</td>\n",
       "      <td>19</td>\n",
       "      <td>1</td>\n",
       "      <td>72</td>\n",
       "    </tr>\n",
       "    <tr>\n",
       "      <th>crase</th>\n",
       "      <td>0</td>\n",
       "      <td>5</td>\n",
       "      <td>31</td>\n",
       "      <td>1</td>\n",
       "      <td>19</td>\n",
       "      <td>56</td>\n",
       "    </tr>\n",
       "    <tr>\n",
       "      <th>sacre</th>\n",
       "      <td>16</td>\n",
       "      <td>19</td>\n",
       "      <td>1</td>\n",
       "      <td>31</td>\n",
       "      <td>9</td>\n",
       "      <td>76</td>\n",
       "    </tr>\n",
       "    <tr>\n",
       "      <th>carse</th>\n",
       "      <td>4</td>\n",
       "      <td>1</td>\n",
       "      <td>19</td>\n",
       "      <td>9</td>\n",
       "      <td>31</td>\n",
       "      <td>64</td>\n",
       "    </tr>\n",
       "  </tbody>\n",
       "</table>\n",
       "</div>"
      ],
      "text/plain": [
       "       serac  scare  crase  sacre  carse  sum_across\n",
       "serac     31     16      0     16      4          67\n",
       "scare     16     31      5     19      1          72\n",
       "crase      0      5     31      1     19          56\n",
       "sacre     16     19      1     31      9          76\n",
       "carse      4      1     19      9     31          64"
      ]
     },
     "execution_count": 50,
     "metadata": {},
     "output_type": "execute_result"
    }
   ],
   "source": [
    "(all_anagram_scoring_df\n",
    " .iloc[scare_cols, scare_cols]\n",
    " .applymap(lambda x: \"\".join(x.split()))\n",
    " .applymap(lambda x: int(x, 2))\n",
    " .assign(sum_across=lambda x: x.sum())\n",
    " .astype(np.int8)\n",
    ")"
   ]
  },
  {
   "cell_type": "markdown",
   "id": "4f61afba",
   "metadata": {},
   "source": [
    "## Anagram cipher lookup table  \n",
    "With `itertools.zip_longest` you can create an encode/decode lookup table for 4, 5 and 6 letter anagrams."
   ]
  },
  {
   "cell_type": "code",
   "execution_count": 51,
   "id": "d4c161b3",
   "metadata": {
    "ExecuteTime": {
     "end_time": "2022-07-15T12:00:55.646803Z",
     "start_time": "2022-07-15T12:00:55.640767Z"
    }
   },
   "outputs": [
    {
     "data": {
      "text/plain": [
       "[('t', 's'), ('a', 'l'), ('p', 'i'), ('e', 'p'), ('r', '*')]"
      ]
     },
     "execution_count": 51,
     "metadata": {},
     "output_type": "execute_result"
    }
   ],
   "source": [
    "list(itertools.zip_longest(\"taper\", \"slip\", fillvalue=\"*\"))"
   ]
  },
  {
   "cell_type": "code",
   "execution_count": 52,
   "id": "a6d3883a",
   "metadata": {
    "ExecuteTime": {
     "end_time": "2022-07-15T12:00:55.653457Z",
     "start_time": "2022-07-15T12:00:55.648983Z"
    }
   },
   "outputs": [
    {
     "data": {
      "text/plain": [
       "[('t', 's'), ('a', 'c'), ('p', 'a'), ('e', 'r'), ('r', 'e')]"
      ]
     },
     "execution_count": 52,
     "metadata": {},
     "output_type": "execute_result"
    }
   ],
   "source": [
    "list(itertools.zip_longest(\"taper\", \"scare\"))"
   ]
  },
  {
   "cell_type": "code",
   "execution_count": null,
   "id": "aacfcf51",
   "metadata": {},
   "outputs": [],
   "source": []
  }
 ],
 "metadata": {
  "kernelspec": {
   "display_name": "wordle",
   "language": "python",
   "name": "wordle"
  },
  "language_info": {
   "codemirror_mode": {
    "name": "ipython",
    "version": 3
   },
   "file_extension": ".py",
   "mimetype": "text/x-python",
   "name": "python",
   "nbconvert_exporter": "python",
   "pygments_lexer": "ipython3",
   "version": "3.9.7"
  },
  "toc": {
   "base_numbering": 1,
   "nav_menu": {},
   "number_sections": true,
   "sideBar": true,
   "skip_h1_title": false,
   "title_cell": "Table of Contents",
   "title_sidebar": "Contents",
   "toc_cell": false,
   "toc_position": {},
   "toc_section_display": true,
   "toc_window_display": false
  },
  "varInspector": {
   "cols": {
    "lenName": 16,
    "lenType": 16,
    "lenVar": 40
   },
   "kernels_config": {
    "python": {
     "delete_cmd_postfix": "",
     "delete_cmd_prefix": "del ",
     "library": "var_list.py",
     "varRefreshCmd": "print(var_dic_list())"
    },
    "r": {
     "delete_cmd_postfix": ") ",
     "delete_cmd_prefix": "rm(",
     "library": "var_list.r",
     "varRefreshCmd": "cat(var_dic_list()) "
    }
   },
   "types_to_exclude": [
    "module",
    "function",
    "builtin_function_or_method",
    "instance",
    "_Feature"
   ],
   "window_display": false
  }
 },
 "nbformat": 4,
 "nbformat_minor": 5
}
