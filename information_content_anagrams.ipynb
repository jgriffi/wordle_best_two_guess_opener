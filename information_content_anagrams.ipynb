{
 "cells": [
  {
   "cell_type": "code",
   "execution_count": 1,
   "id": "9e784eb3",
   "metadata": {
    "ExecuteTime": {
     "end_time": "2022-03-23T12:36:23.738136Z",
     "start_time": "2022-03-23T12:36:22.392138Z"
    }
   },
   "outputs": [],
   "source": [
    "import numpy as np\n",
    "import pandas as pd\n",
    "import itertools\n",
    "import random\n",
    "from tqdm import tqdm\n",
    "import re\n",
    "from wordle_helpers import anagram_scoring, all_anagram_scoring\n",
    "\n",
    "import os\n",
    "# where to save the data\n",
    "ROOT_DIR = \".\"\n",
    "FOLDER_NAME = \"data\"\n",
    "PATH_TO_FOLDER = os.path.join(ROOT_DIR, FOLDER_NAME)\n",
    "os.makedirs(PATH_TO_FOLDER, exist_ok=True)"
   ]
  },
  {
   "cell_type": "markdown",
   "id": "d8c0a085",
   "metadata": {},
   "source": [
    "## Load data"
   ]
  },
  {
   "cell_type": "code",
   "execution_count": 2,
   "id": "073eb146",
   "metadata": {
    "ExecuteTime": {
     "end_time": "2022-03-23T12:36:23.746443Z",
     "start_time": "2022-03-23T12:36:23.739990Z"
    }
   },
   "outputs": [],
   "source": [
    "anagrams = pd.read_csv(\"./data/anagrams.csv\")"
   ]
  },
  {
   "cell_type": "code",
   "execution_count": 3,
   "id": "87aeffdb",
   "metadata": {
    "ExecuteTime": {
     "end_time": "2022-03-23T12:36:23.764961Z",
     "start_time": "2022-03-23T12:36:23.750026Z"
    }
   },
   "outputs": [
    {
     "data": {
      "text/html": [
       "<div>\n",
       "<style scoped>\n",
       "    .dataframe tbody tr th:only-of-type {\n",
       "        vertical-align: middle;\n",
       "    }\n",
       "\n",
       "    .dataframe tbody tr th {\n",
       "        vertical-align: top;\n",
       "    }\n",
       "\n",
       "    .dataframe thead th {\n",
       "        text-align: right;\n",
       "    }\n",
       "</style>\n",
       "<table border=\"1\" class=\"dataframe\">\n",
       "  <thead>\n",
       "    <tr style=\"text-align: right;\">\n",
       "      <th></th>\n",
       "      <th>word</th>\n",
       "      <th>anagrams</th>\n",
       "    </tr>\n",
       "  </thead>\n",
       "  <tbody>\n",
       "    <tr>\n",
       "      <th>0</th>\n",
       "      <td>abode</td>\n",
       "      <td>abode, adobe</td>\n",
       "    </tr>\n",
       "    <tr>\n",
       "      <th>1</th>\n",
       "      <td>abort</td>\n",
       "      <td>abort, tabor</td>\n",
       "    </tr>\n",
       "    <tr>\n",
       "      <th>2</th>\n",
       "      <td>acred</td>\n",
       "      <td>acred, cader</td>\n",
       "    </tr>\n",
       "    <tr>\n",
       "      <th>3</th>\n",
       "      <td>acrid</td>\n",
       "      <td>acrid, caird</td>\n",
       "    </tr>\n",
       "    <tr>\n",
       "      <th>4</th>\n",
       "      <td>adept</td>\n",
       "      <td>adept, pated</td>\n",
       "    </tr>\n",
       "    <tr>\n",
       "      <th>...</th>\n",
       "      <td>...</td>\n",
       "      <td>...</td>\n",
       "    </tr>\n",
       "    <tr>\n",
       "      <th>382</th>\n",
       "      <td>worth</td>\n",
       "      <td>worth, wroth, whort</td>\n",
       "    </tr>\n",
       "    <tr>\n",
       "      <th>383</th>\n",
       "      <td>wrath</td>\n",
       "      <td>wrath, thraw</td>\n",
       "    </tr>\n",
       "    <tr>\n",
       "      <th>384</th>\n",
       "      <td>wreak</td>\n",
       "      <td>wreak, waker</td>\n",
       "    </tr>\n",
       "    <tr>\n",
       "      <th>385</th>\n",
       "      <td>wrote</td>\n",
       "      <td>wrote, tower</td>\n",
       "    </tr>\n",
       "    <tr>\n",
       "      <th>386</th>\n",
       "      <td>wroth</td>\n",
       "      <td>wroth, whort</td>\n",
       "    </tr>\n",
       "  </tbody>\n",
       "</table>\n",
       "<p>387 rows × 2 columns</p>\n",
       "</div>"
      ],
      "text/plain": [
       "      word             anagrams\n",
       "0    abode         abode, adobe\n",
       "1    abort         abort, tabor\n",
       "2    acred         acred, cader\n",
       "3    acrid         acrid, caird\n",
       "4    adept         adept, pated\n",
       "..     ...                  ...\n",
       "382  worth  worth, wroth, whort\n",
       "383  wrath         wrath, thraw\n",
       "384  wreak         wreak, waker\n",
       "385  wrote         wrote, tower\n",
       "386  wroth         wroth, whort\n",
       "\n",
       "[387 rows x 2 columns]"
      ]
     },
     "execution_count": 3,
     "metadata": {},
     "output_type": "execute_result"
    }
   ],
   "source": [
    "anagrams"
   ]
  },
  {
   "cell_type": "code",
   "execution_count": 4,
   "id": "ad2ad422",
   "metadata": {
    "ExecuteTime": {
     "end_time": "2022-03-23T12:36:23.775231Z",
     "start_time": "2022-03-23T12:36:23.766932Z"
    }
   },
   "outputs": [
    {
     "name": "stdout",
     "output_type": "stream",
     "text": [
      "<class 'pandas.core.frame.DataFrame'>\n",
      "RangeIndex: 387 entries, 0 to 386\n",
      "Data columns (total 2 columns):\n",
      " #   Column    Non-Null Count  Dtype \n",
      "---  ------    --------------  ----- \n",
      " 0   word      387 non-null    object\n",
      " 1   anagrams  387 non-null    object\n",
      "dtypes: object(2)\n",
      "memory usage: 6.2+ KB\n"
     ]
    }
   ],
   "source": [
    "anagrams.info()"
   ]
  },
  {
   "cell_type": "code",
   "execution_count": 5,
   "id": "4a29c137",
   "metadata": {
    "ExecuteTime": {
     "end_time": "2022-03-23T12:36:23.781299Z",
     "start_time": "2022-03-23T12:36:23.777322Z"
    }
   },
   "outputs": [
    {
     "data": {
      "text/plain": [
       "387"
      ]
     },
     "execution_count": 5,
     "metadata": {},
     "output_type": "execute_result"
    }
   ],
   "source": [
    "anagrams[\"word\"].nunique()"
   ]
  },
  {
   "cell_type": "markdown",
   "id": "9b832824",
   "metadata": {},
   "source": [
    "## Number of anagrams"
   ]
  },
  {
   "cell_type": "code",
   "execution_count": 6,
   "id": "0d2c585b",
   "metadata": {
    "ExecuteTime": {
     "end_time": "2022-03-23T12:36:23.786043Z",
     "start_time": "2022-03-23T12:36:23.783349Z"
    }
   },
   "outputs": [],
   "source": [
    "my_list_of_anagrams = [pair.split(\", \") for pair in anagrams[\"anagrams\"]]"
   ]
  },
  {
   "cell_type": "code",
   "execution_count": 7,
   "id": "5919f88a",
   "metadata": {
    "ExecuteTime": {
     "end_time": "2022-03-23T12:36:23.792106Z",
     "start_time": "2022-03-23T12:36:23.788215Z"
    }
   },
   "outputs": [
    {
     "data": {
      "text/plain": [
       "[['abode', 'adobe'],\n",
       " ['abort', 'tabor'],\n",
       " ['acred', 'cader'],\n",
       " ['acrid', 'caird'],\n",
       " ['adept', 'pated']]"
      ]
     },
     "execution_count": 7,
     "metadata": {},
     "output_type": "execute_result"
    }
   ],
   "source": [
    "my_list_of_anagrams[:5]"
   ]
  },
  {
   "cell_type": "code",
   "execution_count": 8,
   "id": "9872f576",
   "metadata": {
    "ExecuteTime": {
     "end_time": "2022-03-23T12:36:23.795690Z",
     "start_time": "2022-03-23T12:36:23.793559Z"
    }
   },
   "outputs": [],
   "source": [
    "# num_anagrams_per_list = [len(lst) for lst in my_list_of_anagrams]"
   ]
  },
  {
   "cell_type": "code",
   "execution_count": 9,
   "id": "6e8c0f7b",
   "metadata": {
    "ExecuteTime": {
     "end_time": "2022-03-23T12:36:23.808676Z",
     "start_time": "2022-03-23T12:36:23.803193Z"
    }
   },
   "outputs": [
    {
     "data": {
      "text/plain": [
       "array([2, 2, 2, 2, 2])"
      ]
     },
     "execution_count": 9,
     "metadata": {},
     "output_type": "execute_result"
    }
   ],
   "source": [
    "vec = np.vectorize(len)\n",
    "num_anagrams_per_list = vec(np.char.split(np.array(anagrams[\"anagrams\"], dtype=str), sep=\", \"))\n",
    "num_anagrams_per_list[:5]"
   ]
  },
  {
   "cell_type": "code",
   "execution_count": 10,
   "id": "9b81b068",
   "metadata": {
    "ExecuteTime": {
     "end_time": "2022-03-23T12:36:23.812997Z",
     "start_time": "2022-03-23T12:36:23.810257Z"
    }
   },
   "outputs": [],
   "source": [
    "anagrams[\"num_anagrams\"] = num_anagrams_per_list"
   ]
  },
  {
   "cell_type": "code",
   "execution_count": 11,
   "id": "ff0ce1c0",
   "metadata": {
    "ExecuteTime": {
     "end_time": "2022-03-23T12:36:23.823391Z",
     "start_time": "2022-03-23T12:36:23.814559Z"
    },
    "scrolled": true
   },
   "outputs": [
    {
     "data": {
      "text/html": [
       "<div>\n",
       "<style scoped>\n",
       "    .dataframe tbody tr th:only-of-type {\n",
       "        vertical-align: middle;\n",
       "    }\n",
       "\n",
       "    .dataframe tbody tr th {\n",
       "        vertical-align: top;\n",
       "    }\n",
       "\n",
       "    .dataframe thead th {\n",
       "        text-align: right;\n",
       "    }\n",
       "</style>\n",
       "<table border=\"1\" class=\"dataframe\">\n",
       "  <thead>\n",
       "    <tr style=\"text-align: right;\">\n",
       "      <th></th>\n",
       "      <th>word</th>\n",
       "      <th>anagrams</th>\n",
       "      <th>num_anagrams</th>\n",
       "    </tr>\n",
       "  </thead>\n",
       "  <tbody>\n",
       "    <tr>\n",
       "      <th>0</th>\n",
       "      <td>abode</td>\n",
       "      <td>abode, adobe</td>\n",
       "      <td>2</td>\n",
       "    </tr>\n",
       "    <tr>\n",
       "      <th>1</th>\n",
       "      <td>abort</td>\n",
       "      <td>abort, tabor</td>\n",
       "      <td>2</td>\n",
       "    </tr>\n",
       "    <tr>\n",
       "      <th>2</th>\n",
       "      <td>acred</td>\n",
       "      <td>acred, cader</td>\n",
       "      <td>2</td>\n",
       "    </tr>\n",
       "    <tr>\n",
       "      <th>3</th>\n",
       "      <td>acrid</td>\n",
       "      <td>acrid, caird</td>\n",
       "      <td>2</td>\n",
       "    </tr>\n",
       "    <tr>\n",
       "      <th>4</th>\n",
       "      <td>adept</td>\n",
       "      <td>adept, pated</td>\n",
       "      <td>2</td>\n",
       "    </tr>\n",
       "  </tbody>\n",
       "</table>\n",
       "</div>"
      ],
      "text/plain": [
       "    word      anagrams  num_anagrams\n",
       "0  abode  abode, adobe             2\n",
       "1  abort  abort, tabor             2\n",
       "2  acred  acred, cader             2\n",
       "3  acrid  acrid, caird             2\n",
       "4  adept  adept, pated             2"
      ]
     },
     "execution_count": 11,
     "metadata": {},
     "output_type": "execute_result"
    }
   ],
   "source": [
    "anagrams.head()"
   ]
  },
  {
   "cell_type": "code",
   "execution_count": 12,
   "id": "1908a217",
   "metadata": {
    "ExecuteTime": {
     "end_time": "2022-03-23T12:36:23.833056Z",
     "start_time": "2022-03-23T12:36:23.825435Z"
    }
   },
   "outputs": [
    {
     "data": {
      "text/html": [
       "<div>\n",
       "<style scoped>\n",
       "    .dataframe tbody tr th:only-of-type {\n",
       "        vertical-align: middle;\n",
       "    }\n",
       "\n",
       "    .dataframe tbody tr th {\n",
       "        vertical-align: top;\n",
       "    }\n",
       "\n",
       "    .dataframe thead th {\n",
       "        text-align: right;\n",
       "    }\n",
       "</style>\n",
       "<table border=\"1\" class=\"dataframe\">\n",
       "  <thead>\n",
       "    <tr style=\"text-align: right;\">\n",
       "      <th></th>\n",
       "      <th>word</th>\n",
       "      <th>anagrams</th>\n",
       "      <th>num_anagrams</th>\n",
       "    </tr>\n",
       "  </thead>\n",
       "  <tbody>\n",
       "    <tr>\n",
       "      <th>0</th>\n",
       "      <td>abode</td>\n",
       "      <td>abode, adobe</td>\n",
       "      <td>2</td>\n",
       "    </tr>\n",
       "    <tr>\n",
       "      <th>1</th>\n",
       "      <td>abort</td>\n",
       "      <td>abort, tabor</td>\n",
       "      <td>2</td>\n",
       "    </tr>\n",
       "    <tr>\n",
       "      <th>2</th>\n",
       "      <td>acred</td>\n",
       "      <td>acred, cader</td>\n",
       "      <td>2</td>\n",
       "    </tr>\n",
       "    <tr>\n",
       "      <th>3</th>\n",
       "      <td>acrid</td>\n",
       "      <td>acrid, caird</td>\n",
       "      <td>2</td>\n",
       "    </tr>\n",
       "    <tr>\n",
       "      <th>4</th>\n",
       "      <td>adept</td>\n",
       "      <td>adept, pated</td>\n",
       "      <td>2</td>\n",
       "    </tr>\n",
       "  </tbody>\n",
       "</table>\n",
       "</div>"
      ],
      "text/plain": [
       "    word      anagrams  num_anagrams\n",
       "0  abode  abode, adobe             2\n",
       "1  abort  abort, tabor             2\n",
       "2  acred  acred, cader             2\n",
       "3  acrid  acrid, caird             2\n",
       "4  adept  adept, pated             2"
      ]
     },
     "execution_count": 12,
     "metadata": {},
     "output_type": "execute_result"
    }
   ],
   "source": [
    "anagrams_copy = anagrams.copy()\n",
    "anagrams_copy.head()"
   ]
  },
  {
   "cell_type": "code",
   "execution_count": 13,
   "id": "b4b74dd8",
   "metadata": {
    "ExecuteTime": {
     "end_time": "2022-03-23T12:36:23.838182Z",
     "start_time": "2022-03-23T12:36:23.835434Z"
    }
   },
   "outputs": [],
   "source": [
    "# using assign to create new column\n",
    "# (anagrams.\n",
    "#  assign(num_anagrams = [len(lst) for lst in [pair.split(\", \") for pair in anagrams[\"anagrams\"]]]))\n",
    "\n",
    "# (anagrams.\n",
    "#  assign(num_anagrams = vec(np.char.split(np.array(anagrams[\"anagrams\"], dtype=str),sep=\", \"))))"
   ]
  },
  {
   "cell_type": "code",
   "execution_count": 14,
   "id": "b5e808f9",
   "metadata": {
    "ExecuteTime": {
     "end_time": "2022-03-23T12:36:23.847160Z",
     "start_time": "2022-03-23T12:36:23.839606Z"
    }
   },
   "outputs": [
    {
     "data": {
      "text/html": [
       "<div>\n",
       "<style scoped>\n",
       "    .dataframe tbody tr th:only-of-type {\n",
       "        vertical-align: middle;\n",
       "    }\n",
       "\n",
       "    .dataframe tbody tr th {\n",
       "        vertical-align: top;\n",
       "    }\n",
       "\n",
       "    .dataframe thead th {\n",
       "        text-align: right;\n",
       "    }\n",
       "</style>\n",
       "<table border=\"1\" class=\"dataframe\">\n",
       "  <thead>\n",
       "    <tr style=\"text-align: right;\">\n",
       "      <th></th>\n",
       "      <th>word</th>\n",
       "      <th>anagrams</th>\n",
       "      <th>num_anagrams</th>\n",
       "    </tr>\n",
       "  </thead>\n",
       "  <tbody>\n",
       "    <tr>\n",
       "      <th>292</th>\n",
       "      <td>steal</td>\n",
       "      <td>steal, tales, slate, stale, satle, stela, astel</td>\n",
       "      <td>7</td>\n",
       "    </tr>\n",
       "  </tbody>\n",
       "</table>\n",
       "</div>"
      ],
      "text/plain": [
       "      word                                         anagrams  num_anagrams\n",
       "292  steal  steal, tales, slate, stale, satle, stela, astel             7"
      ]
     },
     "execution_count": 14,
     "metadata": {},
     "output_type": "execute_result"
    }
   ],
   "source": [
    "anagrams.loc[anagrams[\"num_anagrams\"] == anagrams[\"num_anagrams\"].max()]"
   ]
  },
  {
   "cell_type": "code",
   "execution_count": 15,
   "id": "c8cbe170",
   "metadata": {
    "ExecuteTime": {
     "end_time": "2022-03-23T12:36:23.853160Z",
     "start_time": "2022-03-23T12:36:23.848772Z"
    }
   },
   "outputs": [
    {
     "data": {
      "text/plain": [
       "292"
      ]
     },
     "execution_count": 15,
     "metadata": {},
     "output_type": "execute_result"
    }
   ],
   "source": [
    "anagrams.loc[anagrams[\"num_anagrams\"] == anagrams[\"num_anagrams\"].max()].index[0]"
   ]
  },
  {
   "cell_type": "code",
   "execution_count": 16,
   "id": "07ddf30f",
   "metadata": {
    "ExecuteTime": {
     "end_time": "2022-03-23T12:36:23.860611Z",
     "start_time": "2022-03-23T12:36:23.855132Z"
    }
   },
   "outputs": [
    {
     "data": {
      "text/plain": [
       "292"
      ]
     },
     "execution_count": 16,
     "metadata": {},
     "output_type": "execute_result"
    }
   ],
   "source": [
    "indx = np.argmax(num_anagrams_per_list)\n",
    "indx"
   ]
  },
  {
   "cell_type": "code",
   "execution_count": 17,
   "id": "b3b8cf59",
   "metadata": {
    "ExecuteTime": {
     "end_time": "2022-03-23T12:36:23.867395Z",
     "start_time": "2022-03-23T12:36:23.862591Z"
    }
   },
   "outputs": [
    {
     "data": {
      "text/plain": [
       "292"
      ]
     },
     "execution_count": 17,
     "metadata": {},
     "output_type": "execute_result"
    }
   ],
   "source": [
    "np.argmax(anagrams[\"num_anagrams\"])"
   ]
  },
  {
   "cell_type": "code",
   "execution_count": 18,
   "id": "9db1ef01",
   "metadata": {
    "ExecuteTime": {
     "end_time": "2022-03-23T12:36:23.873309Z",
     "start_time": "2022-03-23T12:36:23.869302Z"
    }
   },
   "outputs": [
    {
     "data": {
      "text/plain": [
       "['steal', 'tales', 'slate', 'stale', 'satle', 'stela', 'astel']"
      ]
     },
     "execution_count": 18,
     "metadata": {},
     "output_type": "execute_result"
    }
   ],
   "source": [
    "words = my_list_of_anagrams[indx]\n",
    "words"
   ]
  },
  {
   "cell_type": "markdown",
   "id": "170b4785",
   "metadata": {},
   "source": [
    "## Scoring anagrams"
   ]
  },
  {
   "cell_type": "code",
   "execution_count": 19,
   "id": "60d19c72",
   "metadata": {
    "ExecuteTime": {
     "end_time": "2022-03-23T12:36:23.878881Z",
     "start_time": "2022-03-23T12:36:23.874892Z"
    }
   },
   "outputs": [
    {
     "data": {
      "text/plain": [
       "'steal'"
      ]
     },
     "execution_count": 19,
     "metadata": {},
     "output_type": "execute_result"
    }
   ],
   "source": [
    "challenge = words[0]\n",
    "challenge"
   ]
  },
  {
   "cell_type": "code",
   "execution_count": 20,
   "id": "8f0be586",
   "metadata": {
    "ExecuteTime": {
     "end_time": "2022-03-23T12:36:23.885007Z",
     "start_time": "2022-03-23T12:36:23.880836Z"
    }
   },
   "outputs": [
    {
     "data": {
      "text/plain": [
       "['tales', 'slate', 'stale', 'satle', 'stela', 'astel']"
      ]
     },
     "execution_count": 20,
     "metadata": {},
     "output_type": "execute_result"
    }
   ],
   "source": [
    "guess_anagrams = words[1:]\n",
    "guess_anagrams"
   ]
  },
  {
   "cell_type": "code",
   "execution_count": 21,
   "id": "5bffb7cd",
   "metadata": {
    "ExecuteTime": {
     "end_time": "2022-03-23T12:36:23.892981Z",
     "start_time": "2022-03-23T12:36:23.886900Z"
    }
   },
   "outputs": [],
   "source": [
    "data = []\n",
    "for guess in guess_anagrams:\n",
    "    paired = zip(challenge, guess)\n",
    "    scores = np.zeros(5, dtype=np.int8)\n",
    "    for x, (i, j) in enumerate(paired):\n",
    "#         print((x, (i, j)))\n",
    "        if i == j:\n",
    "            scores[x] = 1\n",
    "        elif i != j and j in challenge:\n",
    "            scores[x] = 0\n",
    "        else:\n",
    "            scores[x] = -1\n",
    "            \n",
    "    temp = {\n",
    "        \"challenge_word\": challenge,\n",
    "        \"guess\": guess,\n",
    "        \"positional_scores\": re.sub(r\"[\\[\\]]\", \"\", str(scores)).replace(\"\\n\", \",\"),\n",
    "        \"overall_scores\": np.sum(scores, dtype=np.int8),\n",
    "    }\n",
    "    data.append(temp)"
   ]
  },
  {
   "cell_type": "code",
   "execution_count": 22,
   "id": "1191b33e",
   "metadata": {
    "ExecuteTime": {
     "end_time": "2022-03-23T12:36:23.898422Z",
     "start_time": "2022-03-23T12:36:23.894929Z"
    }
   },
   "outputs": [],
   "source": [
    "df = pd.DataFrame(data)"
   ]
  },
  {
   "cell_type": "code",
   "execution_count": 23,
   "id": "03d97e8e",
   "metadata": {
    "ExecuteTime": {
     "end_time": "2022-03-23T12:36:23.908230Z",
     "start_time": "2022-03-23T12:36:23.900773Z"
    }
   },
   "outputs": [
    {
     "data": {
      "text/html": [
       "<div>\n",
       "<style scoped>\n",
       "    .dataframe tbody tr th:only-of-type {\n",
       "        vertical-align: middle;\n",
       "    }\n",
       "\n",
       "    .dataframe tbody tr th {\n",
       "        vertical-align: top;\n",
       "    }\n",
       "\n",
       "    .dataframe thead th {\n",
       "        text-align: right;\n",
       "    }\n",
       "</style>\n",
       "<table border=\"1\" class=\"dataframe\">\n",
       "  <thead>\n",
       "    <tr style=\"text-align: right;\">\n",
       "      <th></th>\n",
       "      <th>challenge_word</th>\n",
       "      <th>guess</th>\n",
       "      <th>positional_scores</th>\n",
       "      <th>overall_scores</th>\n",
       "    </tr>\n",
       "  </thead>\n",
       "  <tbody>\n",
       "    <tr>\n",
       "      <th>0</th>\n",
       "      <td>steal</td>\n",
       "      <td>tales</td>\n",
       "      <td>0 0 0 0 0</td>\n",
       "      <td>0</td>\n",
       "    </tr>\n",
       "    <tr>\n",
       "      <th>1</th>\n",
       "      <td>steal</td>\n",
       "      <td>slate</td>\n",
       "      <td>1 0 0 0 0</td>\n",
       "      <td>1</td>\n",
       "    </tr>\n",
       "    <tr>\n",
       "      <th>2</th>\n",
       "      <td>steal</td>\n",
       "      <td>stale</td>\n",
       "      <td>1 1 0 0 0</td>\n",
       "      <td>2</td>\n",
       "    </tr>\n",
       "    <tr>\n",
       "      <th>3</th>\n",
       "      <td>steal</td>\n",
       "      <td>satle</td>\n",
       "      <td>1 0 0 0 0</td>\n",
       "      <td>1</td>\n",
       "    </tr>\n",
       "    <tr>\n",
       "      <th>4</th>\n",
       "      <td>steal</td>\n",
       "      <td>stela</td>\n",
       "      <td>1 1 1 0 0</td>\n",
       "      <td>3</td>\n",
       "    </tr>\n",
       "    <tr>\n",
       "      <th>5</th>\n",
       "      <td>steal</td>\n",
       "      <td>astel</td>\n",
       "      <td>0 0 0 0 1</td>\n",
       "      <td>1</td>\n",
       "    </tr>\n",
       "  </tbody>\n",
       "</table>\n",
       "</div>"
      ],
      "text/plain": [
       "  challenge_word  guess positional_scores  overall_scores\n",
       "0          steal  tales         0 0 0 0 0               0\n",
       "1          steal  slate         1 0 0 0 0               1\n",
       "2          steal  stale         1 1 0 0 0               2\n",
       "3          steal  satle         1 0 0 0 0               1\n",
       "4          steal  stela         1 1 1 0 0               3\n",
       "5          steal  astel         0 0 0 0 1               1"
      ]
     },
     "execution_count": 23,
     "metadata": {},
     "output_type": "execute_result"
    }
   ],
   "source": [
    "df"
   ]
  },
  {
   "cell_type": "code",
   "execution_count": 24,
   "id": "6a75394d",
   "metadata": {
    "ExecuteTime": {
     "end_time": "2022-03-23T12:36:23.918142Z",
     "start_time": "2022-03-23T12:36:23.909680Z"
    }
   },
   "outputs": [
    {
     "data": {
      "text/html": [
       "<div>\n",
       "<style scoped>\n",
       "    .dataframe tbody tr th:only-of-type {\n",
       "        vertical-align: middle;\n",
       "    }\n",
       "\n",
       "    .dataframe tbody tr th {\n",
       "        vertical-align: top;\n",
       "    }\n",
       "\n",
       "    .dataframe thead th {\n",
       "        text-align: right;\n",
       "    }\n",
       "</style>\n",
       "<table border=\"1\" class=\"dataframe\">\n",
       "  <thead>\n",
       "    <tr style=\"text-align: right;\">\n",
       "      <th></th>\n",
       "      <th>word</th>\n",
       "      <th>anagrams</th>\n",
       "      <th>num_anagrams</th>\n",
       "    </tr>\n",
       "  </thead>\n",
       "  <tbody>\n",
       "    <tr>\n",
       "      <th>11</th>\n",
       "      <td>alien</td>\n",
       "      <td>alien, aline, anile</td>\n",
       "      <td>3</td>\n",
       "    </tr>\n",
       "    <tr>\n",
       "      <th>22</th>\n",
       "      <td>ample</td>\n",
       "      <td>ample, maple, pelma</td>\n",
       "      <td>3</td>\n",
       "    </tr>\n",
       "    <tr>\n",
       "      <th>30</th>\n",
       "      <td>argol</td>\n",
       "      <td>argol, algor, orgal</td>\n",
       "      <td>3</td>\n",
       "    </tr>\n",
       "    <tr>\n",
       "      <th>31</th>\n",
       "      <td>argon</td>\n",
       "      <td>argon, orang, angor</td>\n",
       "      <td>3</td>\n",
       "    </tr>\n",
       "    <tr>\n",
       "      <th>32</th>\n",
       "      <td>aries</td>\n",
       "      <td>aries, serai, aesir</td>\n",
       "      <td>3</td>\n",
       "    </tr>\n",
       "  </tbody>\n",
       "</table>\n",
       "</div>"
      ],
      "text/plain": [
       "     word             anagrams  num_anagrams\n",
       "11  alien  alien, aline, anile             3\n",
       "22  ample  ample, maple, pelma             3\n",
       "30  argol  argol, algor, orgal             3\n",
       "31  argon  argon, orang, angor             3\n",
       "32  aries  aries, serai, aesir             3"
      ]
     },
     "execution_count": 24,
     "metadata": {},
     "output_type": "execute_result"
    }
   ],
   "source": [
    "# 3 anagram words\n",
    "anagrams.loc[anagrams[\"num_anagrams\"] == 3].iloc[:5]"
   ]
  },
  {
   "cell_type": "markdown",
   "id": "42b25dcf",
   "metadata": {},
   "source": [
    "### Scoring each anagram against itself"
   ]
  },
  {
   "cell_type": "code",
   "execution_count": 25,
   "id": "cc2aaf54",
   "metadata": {
    "ExecuteTime": {
     "end_time": "2022-03-23T12:36:23.928834Z",
     "start_time": "2022-03-23T12:36:23.919842Z"
    }
   },
   "outputs": [],
   "source": [
    "data2 = []\n",
    "num_guesses = len(words)\n",
    "counter = 0\n",
    "\n",
    "while counter < num_guesses:\n",
    "    for word in words:\n",
    "        guess = words[counter]\n",
    "        combo_guess_word = zip(guess, word)\n",
    "        scores = np.zeros(5, dtype=np.int8)\n",
    "        for x, (i, j) in enumerate(combo_guess_word):\n",
    "            if i == j:\n",
    "                scores[x] = 1\n",
    "            elif i != j and j in word:\n",
    "                scores[x] = 0\n",
    "            else:\n",
    "                scores[x] = -1\n",
    "        data2.append(re.sub(r\"[\\[\\]]\", \"\", str(scores)).replace(\"\\n\", \",\"))\n",
    "    counter += 1   "
   ]
  },
  {
   "cell_type": "code",
   "execution_count": 26,
   "id": "880232c4",
   "metadata": {
    "ExecuteTime": {
     "end_time": "2022-03-23T12:36:23.935137Z",
     "start_time": "2022-03-23T12:36:23.930662Z"
    }
   },
   "outputs": [
    {
     "data": {
      "text/plain": [
       "['1 1 1 1 1',\n",
       " '0 0 0 0 0',\n",
       " '1 0 0 0 0',\n",
       " '1 1 0 0 0',\n",
       " '1 0 0 0 0',\n",
       " '1 1 1 0 0',\n",
       " '0 0 0 0 1']"
      ]
     },
     "execution_count": 26,
     "metadata": {},
     "output_type": "execute_result"
    }
   ],
   "source": [
    "data2[:7]"
   ]
  },
  {
   "cell_type": "code",
   "execution_count": 27,
   "id": "d17e82c5",
   "metadata": {
    "ExecuteTime": {
     "end_time": "2022-03-23T12:36:23.948170Z",
     "start_time": "2022-03-23T12:36:23.944263Z"
    }
   },
   "outputs": [
    {
     "data": {
      "text/plain": [
       "(49, 7)"
      ]
     },
     "execution_count": 27,
     "metadata": {},
     "output_type": "execute_result"
    }
   ],
   "source": [
    "len(data2), num_guesses"
   ]
  },
  {
   "cell_type": "code",
   "execution_count": 28,
   "id": "c6e1d1c1",
   "metadata": {
    "ExecuteTime": {
     "end_time": "2022-03-23T12:36:23.957298Z",
     "start_time": "2022-03-23T12:36:23.950011Z"
    }
   },
   "outputs": [
    {
     "data": {
      "text/plain": [
       "array([['1 1 1 1 1', '0 0 0 0 0', '1 0 0 0 0', '1 1 0 0 0', '1 0 0 0 0',\n",
       "        '1 1 1 0 0', '0 0 0 0 1'],\n",
       "       ['0 0 0 0 0', '1 1 1 1 1', '0 0 0 0 0', '0 0 0 0 0', '0 1 0 0 0',\n",
       "        '0 0 0 0 0', '0 0 0 1 0'],\n",
       "       ['1 0 0 0 0', '0 0 0 0 0', '1 1 1 1 1', '1 0 1 0 1', '1 0 0 0 1',\n",
       "        '1 0 0 0 0', '0 0 0 0 0'],\n",
       "       ['1 1 0 0 0', '0 0 0 0 0', '1 0 1 0 1', '1 1 1 1 1', '1 0 0 1 1',\n",
       "        '1 1 0 1 0', '0 0 0 0 0'],\n",
       "       ['1 0 0 0 0', '0 1 0 0 0', '1 0 0 0 1', '1 0 0 1 1', '1 1 1 1 1',\n",
       "        '1 0 0 1 0', '0 0 1 0 0'],\n",
       "       ['1 1 1 0 0', '0 0 0 0 0', '1 0 0 0 0', '1 1 0 1 0', '1 0 0 1 0',\n",
       "        '1 1 1 1 1', '0 0 0 0 0'],\n",
       "       ['0 0 0 0 1', '0 0 0 1 0', '0 0 0 0 0', '0 0 0 0 0', '0 0 1 0 0',\n",
       "        '0 0 0 0 0', '1 1 1 1 1']], dtype='<U9')"
      ]
     },
     "execution_count": 28,
     "metadata": {},
     "output_type": "execute_result"
    }
   ],
   "source": [
    "# Every 7th value (num guesses) in data2 represents the next guess word scored against the challenge word\n",
    "# so we can reshape data2 to be a 7x7 array\n",
    "np.array(data2).reshape(num_guesses, num_guesses)"
   ]
  },
  {
   "cell_type": "code",
   "execution_count": 29,
   "id": "f4948a12",
   "metadata": {
    "ExecuteTime": {
     "end_time": "2022-03-23T12:36:23.964486Z",
     "start_time": "2022-03-23T12:36:23.960577Z"
    }
   },
   "outputs": [],
   "source": [
    "df2 = pd.DataFrame(np.array(data2).reshape(7, 7), columns=words, index=words)"
   ]
  },
  {
   "cell_type": "code",
   "execution_count": 30,
   "id": "1b0b2962",
   "metadata": {
    "ExecuteTime": {
     "end_time": "2022-03-23T12:36:23.977751Z",
     "start_time": "2022-03-23T12:36:23.967461Z"
    }
   },
   "outputs": [
    {
     "data": {
      "text/html": [
       "<div>\n",
       "<style scoped>\n",
       "    .dataframe tbody tr th:only-of-type {\n",
       "        vertical-align: middle;\n",
       "    }\n",
       "\n",
       "    .dataframe tbody tr th {\n",
       "        vertical-align: top;\n",
       "    }\n",
       "\n",
       "    .dataframe thead th {\n",
       "        text-align: right;\n",
       "    }\n",
       "</style>\n",
       "<table border=\"1\" class=\"dataframe\">\n",
       "  <thead>\n",
       "    <tr style=\"text-align: right;\">\n",
       "      <th></th>\n",
       "      <th>steal</th>\n",
       "      <th>tales</th>\n",
       "      <th>slate</th>\n",
       "      <th>stale</th>\n",
       "      <th>satle</th>\n",
       "      <th>stela</th>\n",
       "      <th>astel</th>\n",
       "    </tr>\n",
       "  </thead>\n",
       "  <tbody>\n",
       "    <tr>\n",
       "      <th>steal</th>\n",
       "      <td>1 1 1 1 1</td>\n",
       "      <td>0 0 0 0 0</td>\n",
       "      <td>1 0 0 0 0</td>\n",
       "      <td>1 1 0 0 0</td>\n",
       "      <td>1 0 0 0 0</td>\n",
       "      <td>1 1 1 0 0</td>\n",
       "      <td>0 0 0 0 1</td>\n",
       "    </tr>\n",
       "    <tr>\n",
       "      <th>tales</th>\n",
       "      <td>0 0 0 0 0</td>\n",
       "      <td>1 1 1 1 1</td>\n",
       "      <td>0 0 0 0 0</td>\n",
       "      <td>0 0 0 0 0</td>\n",
       "      <td>0 1 0 0 0</td>\n",
       "      <td>0 0 0 0 0</td>\n",
       "      <td>0 0 0 1 0</td>\n",
       "    </tr>\n",
       "    <tr>\n",
       "      <th>slate</th>\n",
       "      <td>1 0 0 0 0</td>\n",
       "      <td>0 0 0 0 0</td>\n",
       "      <td>1 1 1 1 1</td>\n",
       "      <td>1 0 1 0 1</td>\n",
       "      <td>1 0 0 0 1</td>\n",
       "      <td>1 0 0 0 0</td>\n",
       "      <td>0 0 0 0 0</td>\n",
       "    </tr>\n",
       "    <tr>\n",
       "      <th>stale</th>\n",
       "      <td>1 1 0 0 0</td>\n",
       "      <td>0 0 0 0 0</td>\n",
       "      <td>1 0 1 0 1</td>\n",
       "      <td>1 1 1 1 1</td>\n",
       "      <td>1 0 0 1 1</td>\n",
       "      <td>1 1 0 1 0</td>\n",
       "      <td>0 0 0 0 0</td>\n",
       "    </tr>\n",
       "    <tr>\n",
       "      <th>satle</th>\n",
       "      <td>1 0 0 0 0</td>\n",
       "      <td>0 1 0 0 0</td>\n",
       "      <td>1 0 0 0 1</td>\n",
       "      <td>1 0 0 1 1</td>\n",
       "      <td>1 1 1 1 1</td>\n",
       "      <td>1 0 0 1 0</td>\n",
       "      <td>0 0 1 0 0</td>\n",
       "    </tr>\n",
       "    <tr>\n",
       "      <th>stela</th>\n",
       "      <td>1 1 1 0 0</td>\n",
       "      <td>0 0 0 0 0</td>\n",
       "      <td>1 0 0 0 0</td>\n",
       "      <td>1 1 0 1 0</td>\n",
       "      <td>1 0 0 1 0</td>\n",
       "      <td>1 1 1 1 1</td>\n",
       "      <td>0 0 0 0 0</td>\n",
       "    </tr>\n",
       "    <tr>\n",
       "      <th>astel</th>\n",
       "      <td>0 0 0 0 1</td>\n",
       "      <td>0 0 0 1 0</td>\n",
       "      <td>0 0 0 0 0</td>\n",
       "      <td>0 0 0 0 0</td>\n",
       "      <td>0 0 1 0 0</td>\n",
       "      <td>0 0 0 0 0</td>\n",
       "      <td>1 1 1 1 1</td>\n",
       "    </tr>\n",
       "  </tbody>\n",
       "</table>\n",
       "</div>"
      ],
      "text/plain": [
       "           steal      tales      slate      stale      satle      stela  \\\n",
       "steal  1 1 1 1 1  0 0 0 0 0  1 0 0 0 0  1 1 0 0 0  1 0 0 0 0  1 1 1 0 0   \n",
       "tales  0 0 0 0 0  1 1 1 1 1  0 0 0 0 0  0 0 0 0 0  0 1 0 0 0  0 0 0 0 0   \n",
       "slate  1 0 0 0 0  0 0 0 0 0  1 1 1 1 1  1 0 1 0 1  1 0 0 0 1  1 0 0 0 0   \n",
       "stale  1 1 0 0 0  0 0 0 0 0  1 0 1 0 1  1 1 1 1 1  1 0 0 1 1  1 1 0 1 0   \n",
       "satle  1 0 0 0 0  0 1 0 0 0  1 0 0 0 1  1 0 0 1 1  1 1 1 1 1  1 0 0 1 0   \n",
       "stela  1 1 1 0 0  0 0 0 0 0  1 0 0 0 0  1 1 0 1 0  1 0 0 1 0  1 1 1 1 1   \n",
       "astel  0 0 0 0 1  0 0 0 1 0  0 0 0 0 0  0 0 0 0 0  0 0 1 0 0  0 0 0 0 0   \n",
       "\n",
       "           astel  \n",
       "steal  0 0 0 0 1  \n",
       "tales  0 0 0 1 0  \n",
       "slate  0 0 0 0 0  \n",
       "stale  0 0 0 0 0  \n",
       "satle  0 0 1 0 0  \n",
       "stela  0 0 0 0 0  \n",
       "astel  1 1 1 1 1  "
      ]
     },
     "execution_count": 30,
     "metadata": {},
     "output_type": "execute_result"
    }
   ],
   "source": [
    "df2"
   ]
  },
  {
   "cell_type": "code",
   "execution_count": null,
   "id": "5038d006",
   "metadata": {},
   "outputs": [],
   "source": []
  },
  {
   "cell_type": "markdown",
   "id": "ca3f08d6",
   "metadata": {},
   "source": [
    "### Take the anagram dataframe and randomly select a word to display the scoring"
   ]
  },
  {
   "cell_type": "code",
   "execution_count": 31,
   "id": "234421d0",
   "metadata": {
    "ExecuteTime": {
     "end_time": "2022-03-23T12:36:23.987552Z",
     "start_time": "2022-03-23T12:36:23.980603Z"
    }
   },
   "outputs": [
    {
     "data": {
      "text/html": [
       "<div>\n",
       "<style scoped>\n",
       "    .dataframe tbody tr th:only-of-type {\n",
       "        vertical-align: middle;\n",
       "    }\n",
       "\n",
       "    .dataframe tbody tr th {\n",
       "        vertical-align: top;\n",
       "    }\n",
       "\n",
       "    .dataframe thead th {\n",
       "        text-align: right;\n",
       "    }\n",
       "</style>\n",
       "<table border=\"1\" class=\"dataframe\">\n",
       "  <thead>\n",
       "    <tr style=\"text-align: right;\">\n",
       "      <th></th>\n",
       "      <th>shore</th>\n",
       "      <th>shoer</th>\n",
       "    </tr>\n",
       "  </thead>\n",
       "  <tbody>\n",
       "    <tr>\n",
       "      <th>shore</th>\n",
       "      <td>1 1 1 1 1</td>\n",
       "      <td>1 1 1 0 0</td>\n",
       "    </tr>\n",
       "    <tr>\n",
       "      <th>shoer</th>\n",
       "      <td>1 1 1 0 0</td>\n",
       "      <td>1 1 1 1 1</td>\n",
       "    </tr>\n",
       "  </tbody>\n",
       "</table>\n",
       "</div>"
      ],
      "text/plain": [
       "           shore      shoer\n",
       "shore  1 1 1 1 1  1 1 1 0 0\n",
       "shoer  1 1 1 0 0  1 1 1 1 1"
      ]
     },
     "execution_count": 31,
     "metadata": {},
     "output_type": "execute_result"
    }
   ],
   "source": [
    "# show score for random anagrams\n",
    "anagram_scoring_df = anagram_scoring(anagrams)\n",
    "anagram_scoring_df"
   ]
  },
  {
   "cell_type": "markdown",
   "id": "b2422824",
   "metadata": {},
   "source": [
    "### Score all anagrams against each other. The scoring partners which aren't anagrams will contain `-1s`  "
   ]
  },
  {
   "cell_type": "code",
   "execution_count": 32,
   "id": "04b112e8",
   "metadata": {
    "ExecuteTime": {
     "end_time": "2022-03-23T12:36:46.590932Z",
     "start_time": "2022-03-23T12:36:23.989507Z"
    }
   },
   "outputs": [
    {
     "name": "stderr",
     "output_type": "stream",
     "text": [
      "100%|█████████████████████████████████████████████████████████████████████████████████| 672/672 [00:22<00:00, 30.30it/s]\n"
     ]
    }
   ],
   "source": [
    "all_anagram_scoring_df = all_anagram_scoring(anagrams)"
   ]
  },
  {
   "cell_type": "code",
   "execution_count": 33,
   "id": "b86225f0",
   "metadata": {
    "ExecuteTime": {
     "end_time": "2022-03-23T12:36:46.637209Z",
     "start_time": "2022-03-23T12:36:46.593102Z"
    }
   },
   "outputs": [
    {
     "name": "stdout",
     "output_type": "stream",
     "text": [
      "<class 'pandas.core.frame.DataFrame'>\n",
      "Index: 672 entries, shale to misly\n",
      "Columns: 672 entries, shale to misly\n",
      "dtypes: string(672)\n",
      "memory usage: 7.8 MB\n"
     ]
    }
   ],
   "source": [
    "all_anagram_scoring_df.info(memory_usage=\"deep\")"
   ]
  },
  {
   "cell_type": "code",
   "execution_count": 34,
   "id": "33d96b63",
   "metadata": {
    "ExecuteTime": {
     "end_time": "2022-03-23T12:36:46.664621Z",
     "start_time": "2022-03-23T12:36:46.638964Z"
    }
   },
   "outputs": [
    {
     "data": {
      "text/html": [
       "<div>\n",
       "<style scoped>\n",
       "    .dataframe tbody tr th:only-of-type {\n",
       "        vertical-align: middle;\n",
       "    }\n",
       "\n",
       "    .dataframe tbody tr th {\n",
       "        vertical-align: top;\n",
       "    }\n",
       "\n",
       "    .dataframe thead th {\n",
       "        text-align: right;\n",
       "    }\n",
       "</style>\n",
       "<table border=\"1\" class=\"dataframe\">\n",
       "  <thead>\n",
       "    <tr style=\"text-align: right;\">\n",
       "      <th></th>\n",
       "      <th>shale</th>\n",
       "      <th>stark</th>\n",
       "      <th>inset</th>\n",
       "      <th>cheap</th>\n",
       "      <th>ayont</th>\n",
       "      <th>argus</th>\n",
       "      <th>afire</th>\n",
       "      <th>couth</th>\n",
       "      <th>foxly</th>\n",
       "      <th>align</th>\n",
       "      <th>...</th>\n",
       "      <th>atony</th>\n",
       "      <th>melic</th>\n",
       "      <th>carom</th>\n",
       "      <th>somne</th>\n",
       "      <th>craps</th>\n",
       "      <th>ceint</th>\n",
       "      <th>feral</th>\n",
       "      <th>pacer</th>\n",
       "      <th>chief</th>\n",
       "      <th>misly</th>\n",
       "    </tr>\n",
       "  </thead>\n",
       "  <tbody>\n",
       "    <tr>\n",
       "      <th>shale</th>\n",
       "      <td>1 1 1 1 1</td>\n",
       "      <td>1 -1  1 -1 -1</td>\n",
       "      <td>-1 -1  0  0 -1</td>\n",
       "      <td>-1  1  0  0 -1</td>\n",
       "      <td>0 -1 -1 -1 -1</td>\n",
       "      <td>0 -1 -1 -1  0</td>\n",
       "      <td>0 -1 -1 -1  1</td>\n",
       "      <td>-1 -1 -1 -1  0</td>\n",
       "      <td>-1 -1 -1  1 -1</td>\n",
       "      <td>0  0 -1 -1 -1</td>\n",
       "      <td>...</td>\n",
       "      <td>0 -1 -1 -1 -1</td>\n",
       "      <td>-1  0  0 -1 -1</td>\n",
       "      <td>-1  0 -1 -1 -1</td>\n",
       "      <td>1 -1 -1 -1  1</td>\n",
       "      <td>-1 -1  1 -1  0</td>\n",
       "      <td>-1  0 -1 -1 -1</td>\n",
       "      <td>-1  0 -1  0  0</td>\n",
       "      <td>-1  0 -1  0 -1</td>\n",
       "      <td>-1  1 -1  0 -1</td>\n",
       "      <td>-1 -1  0  1 -1</td>\n",
       "    </tr>\n",
       "    <tr>\n",
       "      <th>stark</th>\n",
       "      <td>1 -1  1 -1 -1</td>\n",
       "      <td>1 1 1 1 1</td>\n",
       "      <td>-1 -1  0 -1  0</td>\n",
       "      <td>-1 -1 -1  0 -1</td>\n",
       "      <td>0 -1 -1 -1  0</td>\n",
       "      <td>0  0 -1 -1  0</td>\n",
       "      <td>0 -1 -1  1 -1</td>\n",
       "      <td>-1 -1 -1  0 -1</td>\n",
       "      <td>-1 -1 -1 -1 -1</td>\n",
       "      <td>0 -1 -1 -1 -1</td>\n",
       "      <td>...</td>\n",
       "      <td>0  1 -1 -1 -1</td>\n",
       "      <td>-1 -1 -1 -1 -1</td>\n",
       "      <td>-1  0  0 -1 -1</td>\n",
       "      <td>1 -1 -1 -1 -1</td>\n",
       "      <td>-1  0  1 -1  0</td>\n",
       "      <td>-1 -1 -1 -1  0</td>\n",
       "      <td>-1 -1  0  0 -1</td>\n",
       "      <td>-1  0 -1 -1  0</td>\n",
       "      <td>-1 -1 -1 -1 -1</td>\n",
       "      <td>-1 -1  0 -1 -1</td>\n",
       "    </tr>\n",
       "    <tr>\n",
       "      <th>inset</th>\n",
       "      <td>0 -1 -1 -1  0</td>\n",
       "      <td>0  0 -1 -1 -1</td>\n",
       "      <td>1 1 1 1 1</td>\n",
       "      <td>-1 -1  0 -1 -1</td>\n",
       "      <td>-1 -1 -1  0  1</td>\n",
       "      <td>-1 -1 -1 -1  0</td>\n",
       "      <td>-1 -1  0 -1  0</td>\n",
       "      <td>-1 -1 -1  0 -1</td>\n",
       "      <td>-1 -1 -1 -1 -1</td>\n",
       "      <td>-1 -1  0 -1  0</td>\n",
       "      <td>...</td>\n",
       "      <td>-1  0 -1  0 -1</td>\n",
       "      <td>-1  0 -1  0 -1</td>\n",
       "      <td>-1 -1 -1 -1 -1</td>\n",
       "      <td>0 -1 -1  0  0</td>\n",
       "      <td>-1 -1 -1 -1  0</td>\n",
       "      <td>-1  0  0  0  1</td>\n",
       "      <td>-1  0 -1 -1 -1</td>\n",
       "      <td>-1 -1 -1  1 -1</td>\n",
       "      <td>-1 -1  0  1 -1</td>\n",
       "      <td>-1  0  1 -1 -1</td>\n",
       "    </tr>\n",
       "    <tr>\n",
       "      <th>cheap</th>\n",
       "      <td>-1  1  0 -1  0</td>\n",
       "      <td>-1 -1  0 -1 -1</td>\n",
       "      <td>-1 -1 -1  0 -1</td>\n",
       "      <td>1 1 1 1 1</td>\n",
       "      <td>0 -1 -1 -1 -1</td>\n",
       "      <td>0 -1 -1 -1 -1</td>\n",
       "      <td>0 -1 -1 -1  0</td>\n",
       "      <td>1 -1 -1 -1  0</td>\n",
       "      <td>-1 -1 -1 -1 -1</td>\n",
       "      <td>0 -1 -1 -1 -1</td>\n",
       "      <td>...</td>\n",
       "      <td>0 -1 -1 -1 -1</td>\n",
       "      <td>-1  0 -1 -1  0</td>\n",
       "      <td>1  0 -1 -1 -1</td>\n",
       "      <td>-1 -1 -1 -1  0</td>\n",
       "      <td>1 -1  0  0 -1</td>\n",
       "      <td>1  0 -1 -1 -1</td>\n",
       "      <td>-1  0 -1  1 -1</td>\n",
       "      <td>0  0  0  0 -1</td>\n",
       "      <td>1  1 -1  0 -1</td>\n",
       "      <td>-1 -1 -1 -1 -1</td>\n",
       "    </tr>\n",
       "    <tr>\n",
       "      <th>ayont</th>\n",
       "      <td>-1 -1  0 -1 -1</td>\n",
       "      <td>-1  0  0 -1 -1</td>\n",
       "      <td>-1  0 -1 -1  1</td>\n",
       "      <td>-1 -1 -1  0 -1</td>\n",
       "      <td>1 1 1 1 1</td>\n",
       "      <td>1 -1 -1 -1 -1</td>\n",
       "      <td>1 -1 -1 -1 -1</td>\n",
       "      <td>-1  0 -1  0 -1</td>\n",
       "      <td>-1  0 -1 -1  0</td>\n",
       "      <td>1 -1 -1 -1  0</td>\n",
       "      <td>...</td>\n",
       "      <td>1 0 1 1 0</td>\n",
       "      <td>-1 -1 -1 -1 -1</td>\n",
       "      <td>-1  0 -1  0 -1</td>\n",
       "      <td>-1  0 -1  1 -1</td>\n",
       "      <td>-1 -1  0 -1 -1</td>\n",
       "      <td>-1 -1 -1  1  1</td>\n",
       "      <td>-1 -1 -1  0 -1</td>\n",
       "      <td>-1  0 -1 -1 -1</td>\n",
       "      <td>-1 -1 -1 -1 -1</td>\n",
       "      <td>-1 -1 -1 -1  0</td>\n",
       "    </tr>\n",
       "    <tr>\n",
       "      <th>...</th>\n",
       "      <td>...</td>\n",
       "      <td>...</td>\n",
       "      <td>...</td>\n",
       "      <td>...</td>\n",
       "      <td>...</td>\n",
       "      <td>...</td>\n",
       "      <td>...</td>\n",
       "      <td>...</td>\n",
       "      <td>...</td>\n",
       "      <td>...</td>\n",
       "      <td>...</td>\n",
       "      <td>...</td>\n",
       "      <td>...</td>\n",
       "      <td>...</td>\n",
       "      <td>...</td>\n",
       "      <td>...</td>\n",
       "      <td>...</td>\n",
       "      <td>...</td>\n",
       "      <td>...</td>\n",
       "      <td>...</td>\n",
       "      <td>...</td>\n",
       "    </tr>\n",
       "    <tr>\n",
       "      <th>ceint</th>\n",
       "      <td>-1 -1 -1 -1  0</td>\n",
       "      <td>-1  0 -1 -1 -1</td>\n",
       "      <td>0  0 -1  0  1</td>\n",
       "      <td>1 -1  0 -1 -1</td>\n",
       "      <td>-1 -1 -1  1  1</td>\n",
       "      <td>-1 -1 -1 -1 -1</td>\n",
       "      <td>-1 -1  1 -1  0</td>\n",
       "      <td>1 -1 -1  0 -1</td>\n",
       "      <td>-1 -1 -1 -1 -1</td>\n",
       "      <td>-1 -1  1 -1  0</td>\n",
       "      <td>...</td>\n",
       "      <td>-1  0 -1  1 -1</td>\n",
       "      <td>-1  1 -1  0  0</td>\n",
       "      <td>1 -1 -1 -1 -1</td>\n",
       "      <td>-1 -1 -1  1  0</td>\n",
       "      <td>1 -1 -1 -1 -1</td>\n",
       "      <td>1 1 1 1 1</td>\n",
       "      <td>-1  1 -1 -1 -1</td>\n",
       "      <td>-1 -1  0  0 -1</td>\n",
       "      <td>1 -1  1  0 -1</td>\n",
       "      <td>-1  0 -1 -1 -1</td>\n",
       "    </tr>\n",
       "    <tr>\n",
       "      <th>feral</th>\n",
       "      <td>-1 -1  0  0  0</td>\n",
       "      <td>-1 -1  0  0 -1</td>\n",
       "      <td>-1 -1 -1  0 -1</td>\n",
       "      <td>-1 -1  0  1 -1</td>\n",
       "      <td>0 -1 -1 -1 -1</td>\n",
       "      <td>0  0 -1 -1 -1</td>\n",
       "      <td>0  0 -1  0  0</td>\n",
       "      <td>-1 -1 -1 -1 -1</td>\n",
       "      <td>1 -1 -1  0 -1</td>\n",
       "      <td>0  0 -1 -1 -1</td>\n",
       "      <td>...</td>\n",
       "      <td>0 -1 -1 -1 -1</td>\n",
       "      <td>-1  1  0 -1 -1</td>\n",
       "      <td>-1  0  1 -1 -1</td>\n",
       "      <td>-1 -1 -1 -1  0</td>\n",
       "      <td>-1  0  0 -1 -1</td>\n",
       "      <td>-1  1 -1 -1 -1</td>\n",
       "      <td>1 1 1 1 1</td>\n",
       "      <td>-1  0 -1  0  0</td>\n",
       "      <td>-1 -1 -1  0  0</td>\n",
       "      <td>-1 -1 -1  0 -1</td>\n",
       "    </tr>\n",
       "    <tr>\n",
       "      <th>pacer</th>\n",
       "      <td>-1 -1  0 -1  0</td>\n",
       "      <td>-1 -1  0  0 -1</td>\n",
       "      <td>-1 -1 -1  1 -1</td>\n",
       "      <td>0 -1  0  0  0</td>\n",
       "      <td>0 -1 -1 -1 -1</td>\n",
       "      <td>0  0 -1 -1 -1</td>\n",
       "      <td>0 -1 -1  0  0</td>\n",
       "      <td>0 -1 -1 -1 -1</td>\n",
       "      <td>-1 -1 -1 -1 -1</td>\n",
       "      <td>0 -1 -1 -1 -1</td>\n",
       "      <td>...</td>\n",
       "      <td>0 -1 -1 -1 -1</td>\n",
       "      <td>-1  0 -1 -1  0</td>\n",
       "      <td>0  1  0 -1 -1</td>\n",
       "      <td>-1 -1 -1 -1  0</td>\n",
       "      <td>0  0  0  0 -1</td>\n",
       "      <td>0  0 -1 -1 -1</td>\n",
       "      <td>-1  0  0  0 -1</td>\n",
       "      <td>1 1 1 1 1</td>\n",
       "      <td>0 -1 -1  1 -1</td>\n",
       "      <td>-1 -1 -1 -1 -1</td>\n",
       "    </tr>\n",
       "    <tr>\n",
       "      <th>chief</th>\n",
       "      <td>-1  1 -1 -1  0</td>\n",
       "      <td>-1 -1 -1 -1 -1</td>\n",
       "      <td>0 -1 -1  1 -1</td>\n",
       "      <td>1  1  0 -1 -1</td>\n",
       "      <td>-1 -1 -1 -1 -1</td>\n",
       "      <td>-1 -1 -1 -1 -1</td>\n",
       "      <td>-1  0  1 -1  0</td>\n",
       "      <td>1 -1 -1 -1  0</td>\n",
       "      <td>0 -1 -1 -1 -1</td>\n",
       "      <td>-1 -1  1 -1 -1</td>\n",
       "      <td>...</td>\n",
       "      <td>-1 -1 -1 -1 -1</td>\n",
       "      <td>-1  0 -1  0  0</td>\n",
       "      <td>1 -1 -1 -1 -1</td>\n",
       "      <td>-1 -1 -1 -1  0</td>\n",
       "      <td>1 -1 -1 -1 -1</td>\n",
       "      <td>1  0  1 -1 -1</td>\n",
       "      <td>0  0 -1 -1 -1</td>\n",
       "      <td>-1 -1  0  1 -1</td>\n",
       "      <td>1 1 1 1 1</td>\n",
       "      <td>-1  0 -1 -1 -1</td>\n",
       "    </tr>\n",
       "    <tr>\n",
       "      <th>misly</th>\n",
       "      <td>0 -1 -1  1 -1</td>\n",
       "      <td>0 -1 -1 -1 -1</td>\n",
       "      <td>0 -1  1 -1 -1</td>\n",
       "      <td>-1 -1 -1 -1 -1</td>\n",
       "      <td>-1  0 -1 -1 -1</td>\n",
       "      <td>-1 -1 -1 -1  0</td>\n",
       "      <td>-1 -1  0 -1 -1</td>\n",
       "      <td>-1 -1 -1 -1 -1</td>\n",
       "      <td>-1 -1 -1  1  1</td>\n",
       "      <td>-1  0  0 -1 -1</td>\n",
       "      <td>...</td>\n",
       "      <td>-1 -1 -1 -1  1</td>\n",
       "      <td>1 -1  0  0 -1</td>\n",
       "      <td>-1 -1 -1 -1  0</td>\n",
       "      <td>0 -1  0 -1 -1</td>\n",
       "      <td>-1 -1 -1 -1  0</td>\n",
       "      <td>-1 -1  0 -1 -1</td>\n",
       "      <td>-1 -1 -1 -1  0</td>\n",
       "      <td>-1 -1 -1 -1 -1</td>\n",
       "      <td>-1 -1  0 -1 -1</td>\n",
       "      <td>1 1 1 1 1</td>\n",
       "    </tr>\n",
       "  </tbody>\n",
       "</table>\n",
       "<p>672 rows × 672 columns</p>\n",
       "</div>"
      ],
      "text/plain": [
       "                shale           stark           inset           cheap  \\\n",
       "shale       1 1 1 1 1   1 -1  1 -1 -1  -1 -1  0  0 -1  -1  1  0  0 -1   \n",
       "stark   1 -1  1 -1 -1       1 1 1 1 1  -1 -1  0 -1  0  -1 -1 -1  0 -1   \n",
       "inset   0 -1 -1 -1  0   0  0 -1 -1 -1       1 1 1 1 1  -1 -1  0 -1 -1   \n",
       "cheap  -1  1  0 -1  0  -1 -1  0 -1 -1  -1 -1 -1  0 -1       1 1 1 1 1   \n",
       "ayont  -1 -1  0 -1 -1  -1  0  0 -1 -1  -1  0 -1 -1  1  -1 -1 -1  0 -1   \n",
       "...               ...             ...             ...             ...   \n",
       "ceint  -1 -1 -1 -1  0  -1  0 -1 -1 -1   0  0 -1  0  1   1 -1  0 -1 -1   \n",
       "feral  -1 -1  0  0  0  -1 -1  0  0 -1  -1 -1 -1  0 -1  -1 -1  0  1 -1   \n",
       "pacer  -1 -1  0 -1  0  -1 -1  0  0 -1  -1 -1 -1  1 -1   0 -1  0  0  0   \n",
       "chief  -1  1 -1 -1  0  -1 -1 -1 -1 -1   0 -1 -1  1 -1   1  1  0 -1 -1   \n",
       "misly   0 -1 -1  1 -1   0 -1 -1 -1 -1   0 -1  1 -1 -1  -1 -1 -1 -1 -1   \n",
       "\n",
       "                ayont           argus           afire           couth  \\\n",
       "shale   0 -1 -1 -1 -1   0 -1 -1 -1  0   0 -1 -1 -1  1  -1 -1 -1 -1  0   \n",
       "stark   0 -1 -1 -1  0   0  0 -1 -1  0   0 -1 -1  1 -1  -1 -1 -1  0 -1   \n",
       "inset  -1 -1 -1  0  1  -1 -1 -1 -1  0  -1 -1  0 -1  0  -1 -1 -1  0 -1   \n",
       "cheap   0 -1 -1 -1 -1   0 -1 -1 -1 -1   0 -1 -1 -1  0   1 -1 -1 -1  0   \n",
       "ayont       1 1 1 1 1   1 -1 -1 -1 -1   1 -1 -1 -1 -1  -1  0 -1  0 -1   \n",
       "...               ...             ...             ...             ...   \n",
       "ceint  -1 -1 -1  1  1  -1 -1 -1 -1 -1  -1 -1  1 -1  0   1 -1 -1  0 -1   \n",
       "feral   0 -1 -1 -1 -1   0  0 -1 -1 -1   0  0 -1  0  0  -1 -1 -1 -1 -1   \n",
       "pacer   0 -1 -1 -1 -1   0  0 -1 -1 -1   0 -1 -1  0  0   0 -1 -1 -1 -1   \n",
       "chief  -1 -1 -1 -1 -1  -1 -1 -1 -1 -1  -1  0  1 -1  0   1 -1 -1 -1  0   \n",
       "misly  -1  0 -1 -1 -1  -1 -1 -1 -1  0  -1 -1  0 -1 -1  -1 -1 -1 -1 -1   \n",
       "\n",
       "                foxly           align  ...           atony           melic  \\\n",
       "shale  -1 -1 -1  1 -1   0  0 -1 -1 -1  ...   0 -1 -1 -1 -1  -1  0  0 -1 -1   \n",
       "stark  -1 -1 -1 -1 -1   0 -1 -1 -1 -1  ...   0  1 -1 -1 -1  -1 -1 -1 -1 -1   \n",
       "inset  -1 -1 -1 -1 -1  -1 -1  0 -1  0  ...  -1  0 -1  0 -1  -1  0 -1  0 -1   \n",
       "cheap  -1 -1 -1 -1 -1   0 -1 -1 -1 -1  ...   0 -1 -1 -1 -1  -1  0 -1 -1  0   \n",
       "ayont  -1  0 -1 -1  0   1 -1 -1 -1  0  ...       1 0 1 1 0  -1 -1 -1 -1 -1   \n",
       "...               ...             ...  ...             ...             ...   \n",
       "ceint  -1 -1 -1 -1 -1  -1 -1  1 -1  0  ...  -1  0 -1  1 -1  -1  1 -1  0  0   \n",
       "feral   1 -1 -1  0 -1   0  0 -1 -1 -1  ...   0 -1 -1 -1 -1  -1  1  0 -1 -1   \n",
       "pacer  -1 -1 -1 -1 -1   0 -1 -1 -1 -1  ...   0 -1 -1 -1 -1  -1  0 -1 -1  0   \n",
       "chief   0 -1 -1 -1 -1  -1 -1  1 -1 -1  ...  -1 -1 -1 -1 -1  -1  0 -1  0  0   \n",
       "misly  -1 -1 -1  1  1  -1  0  0 -1 -1  ...  -1 -1 -1 -1  1   1 -1  0  0 -1   \n",
       "\n",
       "                carom           somne           craps           ceint  \\\n",
       "shale  -1  0 -1 -1 -1   1 -1 -1 -1  1  -1 -1  1 -1  0  -1  0 -1 -1 -1   \n",
       "stark  -1  0  0 -1 -1   1 -1 -1 -1 -1  -1  0  1 -1  0  -1 -1 -1 -1  0   \n",
       "inset  -1 -1 -1 -1 -1   0 -1 -1  0  0  -1 -1 -1 -1  0  -1  0  0  0  1   \n",
       "cheap   1  0 -1 -1 -1  -1 -1 -1 -1  0   1 -1  0  0 -1   1  0 -1 -1 -1   \n",
       "ayont  -1  0 -1  0 -1  -1  0 -1  1 -1  -1 -1  0 -1 -1  -1 -1 -1  1  1   \n",
       "...               ...             ...             ...             ...   \n",
       "ceint   1 -1 -1 -1 -1  -1 -1 -1  1  0   1 -1 -1 -1 -1       1 1 1 1 1   \n",
       "feral  -1  0  1 -1 -1  -1 -1 -1 -1  0  -1  0  0 -1 -1  -1  1 -1 -1 -1   \n",
       "pacer   0  1  0 -1 -1  -1 -1 -1 -1  0   0  0  0  0 -1   0  0 -1 -1 -1   \n",
       "chief   1 -1 -1 -1 -1  -1 -1 -1 -1  0   1 -1 -1 -1 -1   1  0  1 -1 -1   \n",
       "misly  -1 -1 -1 -1  0   0 -1  0 -1 -1  -1 -1 -1 -1  0  -1 -1  0 -1 -1   \n",
       "\n",
       "                feral           pacer           chief           misly  \n",
       "shale  -1  0 -1  0  0  -1  0 -1  0 -1  -1  1 -1  0 -1  -1 -1  0  1 -1  \n",
       "stark  -1 -1  0  0 -1  -1  0 -1 -1  0  -1 -1 -1 -1 -1  -1 -1  0 -1 -1  \n",
       "inset  -1  0 -1 -1 -1  -1 -1 -1  1 -1  -1 -1  0  1 -1  -1  0  1 -1 -1  \n",
       "cheap  -1  0 -1  1 -1   0  0  0  0 -1   1  1 -1  0 -1  -1 -1 -1 -1 -1  \n",
       "ayont  -1 -1 -1  0 -1  -1  0 -1 -1 -1  -1 -1 -1 -1 -1  -1 -1 -1 -1  0  \n",
       "...               ...             ...             ...             ...  \n",
       "ceint  -1  1 -1 -1 -1  -1 -1  0  0 -1   1 -1  1  0 -1  -1  0 -1 -1 -1  \n",
       "feral       1 1 1 1 1  -1  0 -1  0  0  -1 -1 -1  0  0  -1 -1 -1  0 -1  \n",
       "pacer  -1  0  0  0 -1       1 1 1 1 1   0 -1 -1  1 -1  -1 -1 -1 -1 -1  \n",
       "chief   0  0 -1 -1 -1  -1 -1  0  1 -1       1 1 1 1 1  -1  0 -1 -1 -1  \n",
       "misly  -1 -1 -1 -1  0  -1 -1 -1 -1 -1  -1 -1  0 -1 -1       1 1 1 1 1  \n",
       "\n",
       "[672 rows x 672 columns]"
      ]
     },
     "execution_count": 34,
     "metadata": {},
     "output_type": "execute_result"
    }
   ],
   "source": [
    "all_anagram_scoring_df"
   ]
  },
  {
   "cell_type": "code",
   "execution_count": 35,
   "id": "b7ed1dc1",
   "metadata": {
    "ExecuteTime": {
     "end_time": "2022-03-23T12:36:47.320841Z",
     "start_time": "2022-03-23T12:36:46.666522Z"
    }
   },
   "outputs": [],
   "source": [
    "all_anagram_scoring_df.to_csv(\"./data/all_anagram_scoring.csv\", index=False)"
   ]
  },
  {
   "cell_type": "markdown",
   "id": "93a6df0b",
   "metadata": {},
   "source": [
    "## 5 bit binary  \n",
    "\n",
    "Scoring of anagrams produces 5 bit binary with range from `00000` to `11111` `(0 to 31)`.  \n",
    "- `00000`, all letter are in wrong place\n",
    "- `11111`, letters matched correctly"
   ]
  },
  {
   "cell_type": "code",
   "execution_count": 36,
   "id": "47e644a1",
   "metadata": {
    "ExecuteTime": {
     "end_time": "2022-03-23T12:36:47.332071Z",
     "start_time": "2022-03-23T12:36:47.323143Z"
    }
   },
   "outputs": [
    {
     "data": {
      "text/html": [
       "<div>\n",
       "<style scoped>\n",
       "    .dataframe tbody tr th:only-of-type {\n",
       "        vertical-align: middle;\n",
       "    }\n",
       "\n",
       "    .dataframe tbody tr th {\n",
       "        vertical-align: top;\n",
       "    }\n",
       "\n",
       "    .dataframe thead th {\n",
       "        text-align: right;\n",
       "    }\n",
       "</style>\n",
       "<table border=\"1\" class=\"dataframe\">\n",
       "  <thead>\n",
       "    <tr style=\"text-align: right;\">\n",
       "      <th></th>\n",
       "      <th>steal</th>\n",
       "      <th>tales</th>\n",
       "      <th>slate</th>\n",
       "      <th>stale</th>\n",
       "      <th>satle</th>\n",
       "      <th>stela</th>\n",
       "      <th>astel</th>\n",
       "    </tr>\n",
       "  </thead>\n",
       "  <tbody>\n",
       "    <tr>\n",
       "      <th>steal</th>\n",
       "      <td>1 1 1 1 1</td>\n",
       "      <td>0 0 0 0 0</td>\n",
       "      <td>1 0 0 0 0</td>\n",
       "      <td>1 1 0 0 0</td>\n",
       "      <td>1 0 0 0 0</td>\n",
       "      <td>1 1 1 0 0</td>\n",
       "      <td>0 0 0 0 1</td>\n",
       "    </tr>\n",
       "    <tr>\n",
       "      <th>tales</th>\n",
       "      <td>0 0 0 0 0</td>\n",
       "      <td>1 1 1 1 1</td>\n",
       "      <td>0 0 0 0 0</td>\n",
       "      <td>0 0 0 0 0</td>\n",
       "      <td>0 1 0 0 0</td>\n",
       "      <td>0 0 0 0 0</td>\n",
       "      <td>0 0 0 1 0</td>\n",
       "    </tr>\n",
       "    <tr>\n",
       "      <th>slate</th>\n",
       "      <td>1 0 0 0 0</td>\n",
       "      <td>0 0 0 0 0</td>\n",
       "      <td>1 1 1 1 1</td>\n",
       "      <td>1 0 1 0 1</td>\n",
       "      <td>1 0 0 0 1</td>\n",
       "      <td>1 0 0 0 0</td>\n",
       "      <td>0 0 0 0 0</td>\n",
       "    </tr>\n",
       "    <tr>\n",
       "      <th>stale</th>\n",
       "      <td>1 1 0 0 0</td>\n",
       "      <td>0 0 0 0 0</td>\n",
       "      <td>1 0 1 0 1</td>\n",
       "      <td>1 1 1 1 1</td>\n",
       "      <td>1 0 0 1 1</td>\n",
       "      <td>1 1 0 1 0</td>\n",
       "      <td>0 0 0 0 0</td>\n",
       "    </tr>\n",
       "    <tr>\n",
       "      <th>satle</th>\n",
       "      <td>1 0 0 0 0</td>\n",
       "      <td>0 1 0 0 0</td>\n",
       "      <td>1 0 0 0 1</td>\n",
       "      <td>1 0 0 1 1</td>\n",
       "      <td>1 1 1 1 1</td>\n",
       "      <td>1 0 0 1 0</td>\n",
       "      <td>0 0 1 0 0</td>\n",
       "    </tr>\n",
       "    <tr>\n",
       "      <th>stela</th>\n",
       "      <td>1 1 1 0 0</td>\n",
       "      <td>0 0 0 0 0</td>\n",
       "      <td>1 0 0 0 0</td>\n",
       "      <td>1 1 0 1 0</td>\n",
       "      <td>1 0 0 1 0</td>\n",
       "      <td>1 1 1 1 1</td>\n",
       "      <td>0 0 0 0 0</td>\n",
       "    </tr>\n",
       "    <tr>\n",
       "      <th>astel</th>\n",
       "      <td>0 0 0 0 1</td>\n",
       "      <td>0 0 0 1 0</td>\n",
       "      <td>0 0 0 0 0</td>\n",
       "      <td>0 0 0 0 0</td>\n",
       "      <td>0 0 1 0 0</td>\n",
       "      <td>0 0 0 0 0</td>\n",
       "      <td>1 1 1 1 1</td>\n",
       "    </tr>\n",
       "  </tbody>\n",
       "</table>\n",
       "</div>"
      ],
      "text/plain": [
       "           steal      tales      slate      stale      satle      stela  \\\n",
       "steal  1 1 1 1 1  0 0 0 0 0  1 0 0 0 0  1 1 0 0 0  1 0 0 0 0  1 1 1 0 0   \n",
       "tales  0 0 0 0 0  1 1 1 1 1  0 0 0 0 0  0 0 0 0 0  0 1 0 0 0  0 0 0 0 0   \n",
       "slate  1 0 0 0 0  0 0 0 0 0  1 1 1 1 1  1 0 1 0 1  1 0 0 0 1  1 0 0 0 0   \n",
       "stale  1 1 0 0 0  0 0 0 0 0  1 0 1 0 1  1 1 1 1 1  1 0 0 1 1  1 1 0 1 0   \n",
       "satle  1 0 0 0 0  0 1 0 0 0  1 0 0 0 1  1 0 0 1 1  1 1 1 1 1  1 0 0 1 0   \n",
       "stela  1 1 1 0 0  0 0 0 0 0  1 0 0 0 0  1 1 0 1 0  1 0 0 1 0  1 1 1 1 1   \n",
       "astel  0 0 0 0 1  0 0 0 1 0  0 0 0 0 0  0 0 0 0 0  0 0 1 0 0  0 0 0 0 0   \n",
       "\n",
       "           astel  \n",
       "steal  0 0 0 0 1  \n",
       "tales  0 0 0 1 0  \n",
       "slate  0 0 0 0 0  \n",
       "stale  0 0 0 0 0  \n",
       "satle  0 0 1 0 0  \n",
       "stela  0 0 0 0 0  \n",
       "astel  1 1 1 1 1  "
      ]
     },
     "execution_count": 36,
     "metadata": {},
     "output_type": "execute_result"
    }
   ],
   "source": [
    "df2"
   ]
  },
  {
   "cell_type": "code",
   "execution_count": 37,
   "id": "aecdbb1b",
   "metadata": {
    "ExecuteTime": {
     "end_time": "2022-03-23T12:36:47.338136Z",
     "start_time": "2022-03-23T12:36:47.334067Z"
    }
   },
   "outputs": [
    {
     "data": {
      "text/plain": [
       "31"
      ]
     },
     "execution_count": 37,
     "metadata": {},
     "output_type": "execute_result"
    }
   ],
   "source": [
    "int(\"11111\", 2)"
   ]
  },
  {
   "cell_type": "code",
   "execution_count": 38,
   "id": "7844a3f6",
   "metadata": {
    "ExecuteTime": {
     "end_time": "2022-03-23T12:36:47.343853Z",
     "start_time": "2022-03-23T12:36:47.340087Z"
    }
   },
   "outputs": [
    {
     "data": {
      "text/plain": [
       "0"
      ]
     },
     "execution_count": 38,
     "metadata": {},
     "output_type": "execute_result"
    }
   ],
   "source": [
    "int(\"00000\", 2)"
   ]
  },
  {
   "cell_type": "code",
   "execution_count": 39,
   "id": "54691521",
   "metadata": {
    "ExecuteTime": {
     "end_time": "2022-03-23T12:36:47.349024Z",
     "start_time": "2022-03-23T12:36:47.345351Z"
    }
   },
   "outputs": [
    {
     "data": {
      "text/plain": [
       "16"
      ]
     },
     "execution_count": 39,
     "metadata": {},
     "output_type": "execute_result"
    }
   ],
   "source": [
    "int(\"10000\", 2)"
   ]
  },
  {
   "cell_type": "code",
   "execution_count": 40,
   "id": "58237a35",
   "metadata": {
    "ExecuteTime": {
     "end_time": "2022-03-23T12:36:47.354137Z",
     "start_time": "2022-03-23T12:36:47.350353Z"
    }
   },
   "outputs": [
    {
     "data": {
      "text/plain": [
       "21"
      ]
     },
     "execution_count": 40,
     "metadata": {},
     "output_type": "execute_result"
    }
   ],
   "source": [
    "int(\"10101\", 2)"
   ]
  },
  {
   "cell_type": "markdown",
   "id": "eafa62c4",
   "metadata": {},
   "source": [
    "**`stale` contains 24 bits of information necessary to describe `steal`**"
   ]
  },
  {
   "cell_type": "code",
   "execution_count": 41,
   "id": "9336347c",
   "metadata": {
    "ExecuteTime": {
     "end_time": "2022-03-23T12:36:47.359928Z",
     "start_time": "2022-03-23T12:36:47.355399Z"
    }
   },
   "outputs": [
    {
     "data": {
      "text/plain": [
       "24"
      ]
     },
     "execution_count": 41,
     "metadata": {},
     "output_type": "execute_result"
    }
   ],
   "source": [
    "int(\"11000\", 2)"
   ]
  },
  {
   "cell_type": "code",
   "execution_count": 42,
   "id": "79389e6d",
   "metadata": {
    "ExecuteTime": {
     "end_time": "2022-03-23T12:36:47.366933Z",
     "start_time": "2022-03-23T12:36:47.362885Z"
    }
   },
   "outputs": [
    {
     "data": {
      "text/plain": [
       "4"
      ]
     },
     "execution_count": 42,
     "metadata": {},
     "output_type": "execute_result"
    }
   ],
   "source": [
    "int(\"00100\", 2)"
   ]
  },
  {
   "cell_type": "code",
   "execution_count": 43,
   "id": "6efb564a",
   "metadata": {
    "ExecuteTime": {
     "end_time": "2022-03-23T12:36:47.377362Z",
     "start_time": "2022-03-23T12:36:47.369485Z"
    }
   },
   "outputs": [
    {
     "data": {
      "text/html": [
       "<div>\n",
       "<style scoped>\n",
       "    .dataframe tbody tr th:only-of-type {\n",
       "        vertical-align: middle;\n",
       "    }\n",
       "\n",
       "    .dataframe tbody tr th {\n",
       "        vertical-align: top;\n",
       "    }\n",
       "\n",
       "    .dataframe thead th {\n",
       "        text-align: right;\n",
       "    }\n",
       "</style>\n",
       "<table border=\"1\" class=\"dataframe\">\n",
       "  <thead>\n",
       "    <tr style=\"text-align: right;\">\n",
       "      <th></th>\n",
       "      <th>steal</th>\n",
       "      <th>tales</th>\n",
       "      <th>slate</th>\n",
       "      <th>stale</th>\n",
       "      <th>satle</th>\n",
       "      <th>stela</th>\n",
       "      <th>astel</th>\n",
       "    </tr>\n",
       "  </thead>\n",
       "  <tbody>\n",
       "    <tr>\n",
       "      <th>stale</th>\n",
       "      <td>1 1 0 0 0</td>\n",
       "      <td>0 0 0 0 0</td>\n",
       "      <td>1 0 1 0 1</td>\n",
       "      <td>1 1 1 1 1</td>\n",
       "      <td>1 0 0 1 1</td>\n",
       "      <td>1 1 0 1 0</td>\n",
       "      <td>0 0 0 0 0</td>\n",
       "    </tr>\n",
       "  </tbody>\n",
       "</table>\n",
       "</div>"
      ],
      "text/plain": [
       "           steal      tales      slate      stale      satle      stela  \\\n",
       "stale  1 1 0 0 0  0 0 0 0 0  1 0 1 0 1  1 1 1 1 1  1 0 0 1 1  1 1 0 1 0   \n",
       "\n",
       "           astel  \n",
       "stale  0 0 0 0 0  "
      ]
     },
     "execution_count": 43,
     "metadata": {},
     "output_type": "execute_result"
    }
   ],
   "source": [
    "df2.loc[df2.index.isin([\"stale\"])]"
   ]
  },
  {
   "cell_type": "code",
   "execution_count": 44,
   "id": "48566aae",
   "metadata": {
    "ExecuteTime": {
     "end_time": "2022-03-23T12:36:47.386516Z",
     "start_time": "2022-03-23T12:36:47.378826Z"
    }
   },
   "outputs": [
    {
     "data": {
      "text/html": [
       "<div>\n",
       "<style scoped>\n",
       "    .dataframe tbody tr th:only-of-type {\n",
       "        vertical-align: middle;\n",
       "    }\n",
       "\n",
       "    .dataframe tbody tr th {\n",
       "        vertical-align: top;\n",
       "    }\n",
       "\n",
       "    .dataframe thead th {\n",
       "        text-align: right;\n",
       "    }\n",
       "</style>\n",
       "<table border=\"1\" class=\"dataframe\">\n",
       "  <thead>\n",
       "    <tr style=\"text-align: right;\">\n",
       "      <th></th>\n",
       "      <th>stale</th>\n",
       "    </tr>\n",
       "  </thead>\n",
       "  <tbody>\n",
       "    <tr>\n",
       "      <th>steal</th>\n",
       "      <td>1 1 0 0 0</td>\n",
       "    </tr>\n",
       "    <tr>\n",
       "      <th>tales</th>\n",
       "      <td>0 0 0 0 0</td>\n",
       "    </tr>\n",
       "    <tr>\n",
       "      <th>slate</th>\n",
       "      <td>1 0 1 0 1</td>\n",
       "    </tr>\n",
       "    <tr>\n",
       "      <th>stale</th>\n",
       "      <td>1 1 1 1 1</td>\n",
       "    </tr>\n",
       "    <tr>\n",
       "      <th>satle</th>\n",
       "      <td>1 0 0 1 1</td>\n",
       "    </tr>\n",
       "    <tr>\n",
       "      <th>stela</th>\n",
       "      <td>1 1 0 1 0</td>\n",
       "    </tr>\n",
       "    <tr>\n",
       "      <th>astel</th>\n",
       "      <td>0 0 0 0 0</td>\n",
       "    </tr>\n",
       "  </tbody>\n",
       "</table>\n",
       "</div>"
      ],
      "text/plain": [
       "           stale\n",
       "steal  1 1 0 0 0\n",
       "tales  0 0 0 0 0\n",
       "slate  1 0 1 0 1\n",
       "stale  1 1 1 1 1\n",
       "satle  1 0 0 1 1\n",
       "stela  1 1 0 1 0\n",
       "astel  0 0 0 0 0"
      ]
     },
     "execution_count": 44,
     "metadata": {},
     "output_type": "execute_result"
    }
   ],
   "source": [
    "stale = df2.loc[df2.index.isin([\"stale\"])].T\n",
    "stale"
   ]
  },
  {
   "cell_type": "code",
   "execution_count": 45,
   "id": "ed887eab",
   "metadata": {
    "ExecuteTime": {
     "end_time": "2022-03-23T12:36:47.394563Z",
     "start_time": "2022-03-23T12:36:47.388478Z"
    }
   },
   "outputs": [
    {
     "data": {
      "text/plain": [
       "steal    1 1 0 0 0\n",
       "tales    0 0 0 0 0\n",
       "slate    1 0 1 0 1\n",
       "stale    1 1 1 1 1\n",
       "satle    1 0 0 1 1\n",
       "stela    1 1 0 1 0\n",
       "astel    0 0 0 0 0\n",
       "Name: stale, dtype: object"
      ]
     },
     "execution_count": 45,
     "metadata": {},
     "output_type": "execute_result"
    }
   ],
   "source": [
    "df2.loc[df2.index.isin([\"stale\"])].squeeze()"
   ]
  },
  {
   "cell_type": "code",
   "execution_count": 46,
   "id": "0c6555c9",
   "metadata": {
    "ExecuteTime": {
     "end_time": "2022-03-23T12:36:47.407025Z",
     "start_time": "2022-03-23T12:36:47.396480Z"
    }
   },
   "outputs": [
    {
     "data": {
      "text/html": [
       "<div>\n",
       "<style scoped>\n",
       "    .dataframe tbody tr th:only-of-type {\n",
       "        vertical-align: middle;\n",
       "    }\n",
       "\n",
       "    .dataframe tbody tr th {\n",
       "        vertical-align: top;\n",
       "    }\n",
       "\n",
       "    .dataframe thead th {\n",
       "        text-align: right;\n",
       "    }\n",
       "</style>\n",
       "<table border=\"1\" class=\"dataframe\">\n",
       "  <thead>\n",
       "    <tr style=\"text-align: right;\">\n",
       "      <th></th>\n",
       "      <th>stale</th>\n",
       "    </tr>\n",
       "  </thead>\n",
       "  <tbody>\n",
       "    <tr>\n",
       "      <th>steal</th>\n",
       "      <td>1 1 0 0 0</td>\n",
       "    </tr>\n",
       "    <tr>\n",
       "      <th>tales</th>\n",
       "      <td>0 0 0 0 0</td>\n",
       "    </tr>\n",
       "    <tr>\n",
       "      <th>slate</th>\n",
       "      <td>1 0 1 0 1</td>\n",
       "    </tr>\n",
       "    <tr>\n",
       "      <th>stale</th>\n",
       "      <td>1 1 1 1 1</td>\n",
       "    </tr>\n",
       "    <tr>\n",
       "      <th>satle</th>\n",
       "      <td>1 0 0 1 1</td>\n",
       "    </tr>\n",
       "    <tr>\n",
       "      <th>stela</th>\n",
       "      <td>1 1 0 1 0</td>\n",
       "    </tr>\n",
       "    <tr>\n",
       "      <th>astel</th>\n",
       "      <td>0 0 0 0 0</td>\n",
       "    </tr>\n",
       "  </tbody>\n",
       "</table>\n",
       "</div>"
      ],
      "text/plain": [
       "           stale\n",
       "steal  1 1 0 0 0\n",
       "tales  0 0 0 0 0\n",
       "slate  1 0 1 0 1\n",
       "stale  1 1 1 1 1\n",
       "satle  1 0 0 1 1\n",
       "stela  1 1 0 1 0\n",
       "astel  0 0 0 0 0"
      ]
     },
     "execution_count": 46,
     "metadata": {},
     "output_type": "execute_result"
    }
   ],
   "source": [
    "pd.DataFrame(df2.loc[df2.index.isin([\"stale\"])].squeeze())"
   ]
  },
  {
   "cell_type": "code",
   "execution_count": 47,
   "id": "63be1a33",
   "metadata": {
    "ExecuteTime": {
     "end_time": "2022-03-23T12:36:47.414050Z",
     "start_time": "2022-03-23T12:36:47.409025Z"
    }
   },
   "outputs": [
    {
     "data": {
      "text/plain": [
       "['1 1 0 0 0',\n",
       " '0 0 0 0 0',\n",
       " '1 0 1 0 1',\n",
       " '1 1 1 1 1',\n",
       " '1 0 0 1 1',\n",
       " '1 1 0 1 0',\n",
       " '0 0 0 0 0']"
      ]
     },
     "execution_count": 47,
     "metadata": {},
     "output_type": "execute_result"
    }
   ],
   "source": [
    "stale_binaries = df2.loc[df2.index.isin([\"stale\"])].squeeze().tolist()\n",
    "stale_binaries"
   ]
  },
  {
   "cell_type": "code",
   "execution_count": 48,
   "id": "291792e0",
   "metadata": {
    "ExecuteTime": {
     "end_time": "2022-03-23T12:36:47.419425Z",
     "start_time": "2022-03-23T12:36:47.415502Z"
    }
   },
   "outputs": [
    {
     "data": {
      "text/plain": [
       "'1 1 0 0 0'"
      ]
     },
     "execution_count": 48,
     "metadata": {},
     "output_type": "execute_result"
    }
   ],
   "source": [
    "stale_binaries[0]"
   ]
  },
  {
   "cell_type": "code",
   "execution_count": 49,
   "id": "3e12e9ea",
   "metadata": {
    "ExecuteTime": {
     "end_time": "2022-03-23T12:36:47.425109Z",
     "start_time": "2022-03-23T12:36:47.420992Z"
    }
   },
   "outputs": [
    {
     "data": {
      "text/plain": [
       "'11000'"
      ]
     },
     "execution_count": 49,
     "metadata": {},
     "output_type": "execute_result"
    }
   ],
   "source": [
    "\"\".join(stale_binaries[0].split())"
   ]
  },
  {
   "cell_type": "code",
   "execution_count": 50,
   "id": "e0898bc7",
   "metadata": {
    "ExecuteTime": {
     "end_time": "2022-03-23T12:36:47.432418Z",
     "start_time": "2022-03-23T12:36:47.427593Z"
    }
   },
   "outputs": [
    {
     "data": {
      "text/plain": [
       "24"
      ]
     },
     "execution_count": 50,
     "metadata": {},
     "output_type": "execute_result"
    }
   ],
   "source": [
    "int(\"\".join(stale_binaries[0].split()), 2)"
   ]
  },
  {
   "cell_type": "code",
   "execution_count": 51,
   "id": "646fa8ad",
   "metadata": {
    "ExecuteTime": {
     "end_time": "2022-03-23T12:36:47.439480Z",
     "start_time": "2022-03-23T12:36:47.435128Z"
    }
   },
   "outputs": [
    {
     "data": {
      "text/plain": [
       "['11000', '00000', '10101', '11111', '10011', '11010', '00000']"
      ]
     },
     "execution_count": 51,
     "metadata": {},
     "output_type": "execute_result"
    }
   ],
   "source": [
    "stale_binaries = [\"\".join(x.split()) for x in stale_binaries]\n",
    "stale_binaries"
   ]
  },
  {
   "cell_type": "code",
   "execution_count": 52,
   "id": "5a2335ad",
   "metadata": {
    "ExecuteTime": {
     "end_time": "2022-03-23T12:36:47.445268Z",
     "start_time": "2022-03-23T12:36:47.440981Z"
    }
   },
   "outputs": [
    {
     "data": {
      "text/plain": [
       "[24, 0, 21, 31, 19, 26, 0]"
      ]
     },
     "execution_count": 52,
     "metadata": {},
     "output_type": "execute_result"
    }
   ],
   "source": [
    "[int(binary, 2) for binary in stale_binaries]"
   ]
  },
  {
   "cell_type": "code",
   "execution_count": 53,
   "id": "35570c46",
   "metadata": {
    "ExecuteTime": {
     "end_time": "2022-03-23T12:36:47.875257Z",
     "start_time": "2022-03-23T12:36:47.447348Z"
    }
   },
   "outputs": [
    {
     "data": {
      "text/plain": [
       "shale     1 -1  1 -1  1\n",
       "stark     1 -1  1  1 -1\n",
       "inset    -1 -1  0  0 -1\n",
       "cheap     0 -1  0  0 -1\n",
       "ayont     0 -1 -1 -1 -1\n",
       "              ...      \n",
       "ceint     0  0 -1 -1 -1\n",
       "feral    -1  0  0  0 -1\n",
       "pacer    -1  0  0  0  0\n",
       "chief     0 -1 -1  0 -1\n",
       "misly    -1 -1  0 -1 -1\n",
       "Name: scare, Length: 672, dtype: string"
      ]
     },
     "execution_count": 53,
     "metadata": {},
     "output_type": "execute_result"
    }
   ],
   "source": [
    "scare = all_anagram_scoring_df.loc[all_anagram_scoring_df.index.isin([\"scare\"])].squeeze()\n",
    "scare"
   ]
  },
  {
   "cell_type": "code",
   "execution_count": 54,
   "id": "571d42d0",
   "metadata": {
    "ExecuteTime": {
     "end_time": "2022-03-23T12:36:47.890550Z",
     "start_time": "2022-03-23T12:36:47.877093Z"
    }
   },
   "outputs": [
    {
     "data": {
      "text/plain": [
       "[(23, '0 0 0 0 1'),\n",
       " (29, '0 0 1 0 1'),\n",
       " (114, '1 0 0 1 1'),\n",
       " (317, '1 0 0 0 0'),\n",
       " (657, '1 1 1 1 1')]"
      ]
     },
     "execution_count": 54,
     "metadata": {},
     "output_type": "execute_result"
    }
   ],
   "source": [
    "#  you can find the scores for scare by filtering out those with -1\n",
    "cols = [(idx, binary) for idx, binary in enumerate(scare) if \"-1\" not in binary]\n",
    "cols"
   ]
  },
  {
   "cell_type": "code",
   "execution_count": 55,
   "id": "16d0aaf2",
   "metadata": {
    "ExecuteTime": {
     "end_time": "2022-03-23T12:36:47.896083Z",
     "start_time": "2022-03-23T12:36:47.892558Z"
    }
   },
   "outputs": [
    {
     "data": {
      "text/plain": [
       "[23, 29, 114, 317, 657]"
      ]
     },
     "execution_count": 55,
     "metadata": {},
     "output_type": "execute_result"
    }
   ],
   "source": [
    "scare_cols = [col[0] for col in cols]\n",
    "scare_cols"
   ]
  },
  {
   "cell_type": "code",
   "execution_count": 56,
   "id": "65aeff41",
   "metadata": {
    "ExecuteTime": {
     "end_time": "2022-03-23T12:36:47.939657Z",
     "start_time": "2022-03-23T12:36:47.897913Z"
    }
   },
   "outputs": [
    {
     "data": {
      "text/html": [
       "<div>\n",
       "<style scoped>\n",
       "    .dataframe tbody tr th:only-of-type {\n",
       "        vertical-align: middle;\n",
       "    }\n",
       "\n",
       "    .dataframe tbody tr th {\n",
       "        vertical-align: top;\n",
       "    }\n",
       "\n",
       "    .dataframe thead th {\n",
       "        text-align: right;\n",
       "    }\n",
       "</style>\n",
       "<table border=\"1\" class=\"dataframe\">\n",
       "  <thead>\n",
       "    <tr style=\"text-align: right;\">\n",
       "      <th></th>\n",
       "      <th>carse</th>\n",
       "      <th>crase</th>\n",
       "      <th>sacre</th>\n",
       "      <th>serac</th>\n",
       "      <th>scare</th>\n",
       "    </tr>\n",
       "  </thead>\n",
       "  <tbody>\n",
       "    <tr>\n",
       "      <th>carse</th>\n",
       "      <td>1 1 1 1 1</td>\n",
       "      <td>1 0 0 1 1</td>\n",
       "      <td>0 1 0 0 1</td>\n",
       "      <td>0 0 1 0 0</td>\n",
       "      <td>0 0 0 0 1</td>\n",
       "    </tr>\n",
       "    <tr>\n",
       "      <th>crase</th>\n",
       "      <td>1 0 0 1 1</td>\n",
       "      <td>1 1 1 1 1</td>\n",
       "      <td>0 0 0 0 1</td>\n",
       "      <td>0 0 0 0 0</td>\n",
       "      <td>0 0 1 0 1</td>\n",
       "    </tr>\n",
       "    <tr>\n",
       "      <th>sacre</th>\n",
       "      <td>0 1 0 0 1</td>\n",
       "      <td>0 0 0 0 1</td>\n",
       "      <td>1 1 1 1 1</td>\n",
       "      <td>1 0 0 0 0</td>\n",
       "      <td>1 0 0 1 1</td>\n",
       "    </tr>\n",
       "    <tr>\n",
       "      <th>serac</th>\n",
       "      <td>0 0 1 0 0</td>\n",
       "      <td>0 0 0 0 0</td>\n",
       "      <td>1 0 0 0 0</td>\n",
       "      <td>1 1 1 1 1</td>\n",
       "      <td>1 0 0 0 0</td>\n",
       "    </tr>\n",
       "    <tr>\n",
       "      <th>scare</th>\n",
       "      <td>0 0 0 0 1</td>\n",
       "      <td>0 0 1 0 1</td>\n",
       "      <td>1 0 0 1 1</td>\n",
       "      <td>1 0 0 0 0</td>\n",
       "      <td>1 1 1 1 1</td>\n",
       "    </tr>\n",
       "  </tbody>\n",
       "</table>\n",
       "</div>"
      ],
      "text/plain": [
       "           carse      crase      sacre      serac      scare\n",
       "carse  1 1 1 1 1  1 0 0 1 1  0 1 0 0 1  0 0 1 0 0  0 0 0 0 1\n",
       "crase  1 0 0 1 1  1 1 1 1 1  0 0 0 0 1  0 0 0 0 0  0 0 1 0 1\n",
       "sacre  0 1 0 0 1  0 0 0 0 1  1 1 1 1 1  1 0 0 0 0  1 0 0 1 1\n",
       "serac  0 0 1 0 0  0 0 0 0 0  1 0 0 0 0  1 1 1 1 1  1 0 0 0 0\n",
       "scare  0 0 0 0 1  0 0 1 0 1  1 0 0 1 1  1 0 0 0 0  1 1 1 1 1"
      ]
     },
     "execution_count": 56,
     "metadata": {},
     "output_type": "execute_result"
    }
   ],
   "source": [
    "all_anagram_scoring_df.iloc[scare_cols, scare_cols]"
   ]
  },
  {
   "cell_type": "code",
   "execution_count": 57,
   "id": "80eef8a0",
   "metadata": {
    "ExecuteTime": {
     "end_time": "2022-03-23T12:36:47.983358Z",
     "start_time": "2022-03-23T12:36:47.942244Z"
    }
   },
   "outputs": [
    {
     "data": {
      "text/html": [
       "<div>\n",
       "<style scoped>\n",
       "    .dataframe tbody tr th:only-of-type {\n",
       "        vertical-align: middle;\n",
       "    }\n",
       "\n",
       "    .dataframe tbody tr th {\n",
       "        vertical-align: top;\n",
       "    }\n",
       "\n",
       "    .dataframe thead th {\n",
       "        text-align: right;\n",
       "    }\n",
       "</style>\n",
       "<table border=\"1\" class=\"dataframe\">\n",
       "  <thead>\n",
       "    <tr style=\"text-align: right;\">\n",
       "      <th></th>\n",
       "      <th>carse</th>\n",
       "      <th>crase</th>\n",
       "      <th>sacre</th>\n",
       "      <th>serac</th>\n",
       "      <th>scare</th>\n",
       "    </tr>\n",
       "  </thead>\n",
       "  <tbody>\n",
       "    <tr>\n",
       "      <th>carse</th>\n",
       "      <td>11111</td>\n",
       "      <td>10011</td>\n",
       "      <td>01001</td>\n",
       "      <td>00100</td>\n",
       "      <td>00001</td>\n",
       "    </tr>\n",
       "    <tr>\n",
       "      <th>crase</th>\n",
       "      <td>10011</td>\n",
       "      <td>11111</td>\n",
       "      <td>00001</td>\n",
       "      <td>00000</td>\n",
       "      <td>00101</td>\n",
       "    </tr>\n",
       "    <tr>\n",
       "      <th>sacre</th>\n",
       "      <td>01001</td>\n",
       "      <td>00001</td>\n",
       "      <td>11111</td>\n",
       "      <td>10000</td>\n",
       "      <td>10011</td>\n",
       "    </tr>\n",
       "    <tr>\n",
       "      <th>serac</th>\n",
       "      <td>00100</td>\n",
       "      <td>00000</td>\n",
       "      <td>10000</td>\n",
       "      <td>11111</td>\n",
       "      <td>10000</td>\n",
       "    </tr>\n",
       "    <tr>\n",
       "      <th>scare</th>\n",
       "      <td>00001</td>\n",
       "      <td>00101</td>\n",
       "      <td>10011</td>\n",
       "      <td>10000</td>\n",
       "      <td>11111</td>\n",
       "    </tr>\n",
       "  </tbody>\n",
       "</table>\n",
       "</div>"
      ],
      "text/plain": [
       "       carse  crase  sacre  serac  scare\n",
       "carse  11111  10011  01001  00100  00001\n",
       "crase  10011  11111  00001  00000  00101\n",
       "sacre  01001  00001  11111  10000  10011\n",
       "serac  00100  00000  10000  11111  10000\n",
       "scare  00001  00101  10011  10000  11111"
      ]
     },
     "execution_count": 57,
     "metadata": {},
     "output_type": "execute_result"
    }
   ],
   "source": [
    "# remove spaces\n",
    "all_anagram_scoring_df.iloc[scare_cols, scare_cols].applymap(lambda x: \"\".join(x.split()))"
   ]
  },
  {
   "cell_type": "code",
   "execution_count": 58,
   "id": "000d2bf9",
   "metadata": {
    "ExecuteTime": {
     "end_time": "2022-03-23T12:36:48.031146Z",
     "start_time": "2022-03-23T12:36:47.985310Z"
    }
   },
   "outputs": [
    {
     "data": {
      "text/html": [
       "<div>\n",
       "<style scoped>\n",
       "    .dataframe tbody tr th:only-of-type {\n",
       "        vertical-align: middle;\n",
       "    }\n",
       "\n",
       "    .dataframe tbody tr th {\n",
       "        vertical-align: top;\n",
       "    }\n",
       "\n",
       "    .dataframe thead th {\n",
       "        text-align: right;\n",
       "    }\n",
       "</style>\n",
       "<table border=\"1\" class=\"dataframe\">\n",
       "  <thead>\n",
       "    <tr style=\"text-align: right;\">\n",
       "      <th></th>\n",
       "      <th>carse</th>\n",
       "      <th>crase</th>\n",
       "      <th>sacre</th>\n",
       "      <th>serac</th>\n",
       "      <th>scare</th>\n",
       "    </tr>\n",
       "  </thead>\n",
       "  <tbody>\n",
       "    <tr>\n",
       "      <th>carse</th>\n",
       "      <td>31</td>\n",
       "      <td>19</td>\n",
       "      <td>9</td>\n",
       "      <td>4</td>\n",
       "      <td>1</td>\n",
       "    </tr>\n",
       "    <tr>\n",
       "      <th>crase</th>\n",
       "      <td>19</td>\n",
       "      <td>31</td>\n",
       "      <td>1</td>\n",
       "      <td>0</td>\n",
       "      <td>5</td>\n",
       "    </tr>\n",
       "    <tr>\n",
       "      <th>sacre</th>\n",
       "      <td>9</td>\n",
       "      <td>1</td>\n",
       "      <td>31</td>\n",
       "      <td>16</td>\n",
       "      <td>19</td>\n",
       "    </tr>\n",
       "    <tr>\n",
       "      <th>serac</th>\n",
       "      <td>4</td>\n",
       "      <td>0</td>\n",
       "      <td>16</td>\n",
       "      <td>31</td>\n",
       "      <td>16</td>\n",
       "    </tr>\n",
       "    <tr>\n",
       "      <th>scare</th>\n",
       "      <td>1</td>\n",
       "      <td>5</td>\n",
       "      <td>19</td>\n",
       "      <td>16</td>\n",
       "      <td>31</td>\n",
       "    </tr>\n",
       "  </tbody>\n",
       "</table>\n",
       "</div>"
      ],
      "text/plain": [
       "       carse  crase  sacre  serac  scare\n",
       "carse     31     19      9      4      1\n",
       "crase     19     31      1      0      5\n",
       "sacre      9      1     31     16     19\n",
       "serac      4      0     16     31     16\n",
       "scare      1      5     19     16     31"
      ]
     },
     "execution_count": 58,
     "metadata": {},
     "output_type": "execute_result"
    }
   ],
   "source": [
    "# convert to int\n",
    "(all_anagram_scoring_df.iloc[scare_cols, scare_cols]\n",
    " .applymap(lambda x: \"\".join(x.split()))\n",
    " .applymap(lambda x: int(x, 2)))"
   ]
  },
  {
   "cell_type": "code",
   "execution_count": 59,
   "id": "96b1e3b3",
   "metadata": {
    "ExecuteTime": {
     "end_time": "2022-03-23T12:36:48.083495Z",
     "start_time": "2022-03-23T12:36:48.033893Z"
    }
   },
   "outputs": [
    {
     "data": {
      "text/html": [
       "<div>\n",
       "<style scoped>\n",
       "    .dataframe tbody tr th:only-of-type {\n",
       "        vertical-align: middle;\n",
       "    }\n",
       "\n",
       "    .dataframe tbody tr th {\n",
       "        vertical-align: top;\n",
       "    }\n",
       "\n",
       "    .dataframe thead th {\n",
       "        text-align: right;\n",
       "    }\n",
       "</style>\n",
       "<table border=\"1\" class=\"dataframe\">\n",
       "  <thead>\n",
       "    <tr style=\"text-align: right;\">\n",
       "      <th></th>\n",
       "      <th>carse</th>\n",
       "      <th>crase</th>\n",
       "      <th>sacre</th>\n",
       "      <th>serac</th>\n",
       "      <th>scare</th>\n",
       "      <th>sum_across</th>\n",
       "    </tr>\n",
       "  </thead>\n",
       "  <tbody>\n",
       "    <tr>\n",
       "      <th>carse</th>\n",
       "      <td>31</td>\n",
       "      <td>19</td>\n",
       "      <td>9</td>\n",
       "      <td>4</td>\n",
       "      <td>1</td>\n",
       "      <td>64</td>\n",
       "    </tr>\n",
       "    <tr>\n",
       "      <th>crase</th>\n",
       "      <td>19</td>\n",
       "      <td>31</td>\n",
       "      <td>1</td>\n",
       "      <td>0</td>\n",
       "      <td>5</td>\n",
       "      <td>56</td>\n",
       "    </tr>\n",
       "    <tr>\n",
       "      <th>sacre</th>\n",
       "      <td>9</td>\n",
       "      <td>1</td>\n",
       "      <td>31</td>\n",
       "      <td>16</td>\n",
       "      <td>19</td>\n",
       "      <td>76</td>\n",
       "    </tr>\n",
       "    <tr>\n",
       "      <th>serac</th>\n",
       "      <td>4</td>\n",
       "      <td>0</td>\n",
       "      <td>16</td>\n",
       "      <td>31</td>\n",
       "      <td>16</td>\n",
       "      <td>67</td>\n",
       "    </tr>\n",
       "    <tr>\n",
       "      <th>scare</th>\n",
       "      <td>1</td>\n",
       "      <td>5</td>\n",
       "      <td>19</td>\n",
       "      <td>16</td>\n",
       "      <td>31</td>\n",
       "      <td>72</td>\n",
       "    </tr>\n",
       "  </tbody>\n",
       "</table>\n",
       "</div>"
      ],
      "text/plain": [
       "       carse  crase  sacre  serac  scare  sum_across\n",
       "carse     31     19      9      4      1          64\n",
       "crase     19     31      1      0      5          56\n",
       "sacre      9      1     31     16     19          76\n",
       "serac      4      0     16     31     16          67\n",
       "scare      1      5     19     16     31          72"
      ]
     },
     "execution_count": 59,
     "metadata": {},
     "output_type": "execute_result"
    }
   ],
   "source": [
    "(all_anagram_scoring_df.iloc[scare_cols, scare_cols]\n",
    " .applymap(lambda x: \"\".join(x.split()))\n",
    " .applymap(lambda x: int(x, 2))\n",
    " .assign(sum_across=lambda x: x.sum())\n",
    " .astype(np.int8))"
   ]
  },
  {
   "cell_type": "code",
   "execution_count": null,
   "id": "9bef8b4f",
   "metadata": {},
   "outputs": [],
   "source": []
  },
  {
   "cell_type": "markdown",
   "id": "4f61afba",
   "metadata": {},
   "source": [
    "## Anagram cipher lookup table  \n",
    "With `itertools.zip_longest` you can create an encode/decode lookup table for 4, 5 and 6 letter anagrams."
   ]
  },
  {
   "cell_type": "code",
   "execution_count": 60,
   "id": "d4c161b3",
   "metadata": {
    "ExecuteTime": {
     "end_time": "2022-03-23T12:36:48.089591Z",
     "start_time": "2022-03-23T12:36:48.085000Z"
    }
   },
   "outputs": [
    {
     "data": {
      "text/plain": [
       "[('t', 's'), ('a', 'l'), ('p', 'i'), ('e', 'p'), ('r', None)]"
      ]
     },
     "execution_count": 60,
     "metadata": {},
     "output_type": "execute_result"
    }
   ],
   "source": [
    "list(itertools.zip_longest(\"taper\", \"slip\"))"
   ]
  },
  {
   "cell_type": "code",
   "execution_count": 61,
   "id": "a6d3883a",
   "metadata": {
    "ExecuteTime": {
     "end_time": "2022-03-23T12:36:48.096055Z",
     "start_time": "2022-03-23T12:36:48.092083Z"
    }
   },
   "outputs": [
    {
     "data": {
      "text/plain": [
       "[('t', 's'), ('a', 'c'), ('p', 'a'), ('e', 'r'), ('r', 'e')]"
      ]
     },
     "execution_count": 61,
     "metadata": {},
     "output_type": "execute_result"
    }
   ],
   "source": [
    "list(itertools.zip_longest(\"taper\", \"scare\"))"
   ]
  },
  {
   "cell_type": "code",
   "execution_count": null,
   "id": "aacfcf51",
   "metadata": {},
   "outputs": [],
   "source": []
  }
 ],
 "metadata": {
  "kernelspec": {
   "display_name": "wordle",
   "language": "python",
   "name": "wordle"
  },
  "language_info": {
   "codemirror_mode": {
    "name": "ipython",
    "version": 3
   },
   "file_extension": ".py",
   "mimetype": "text/x-python",
   "name": "python",
   "nbconvert_exporter": "python",
   "pygments_lexer": "ipython3",
   "version": "3.9.7"
  },
  "toc": {
   "base_numbering": 1,
   "nav_menu": {},
   "number_sections": true,
   "sideBar": true,
   "skip_h1_title": false,
   "title_cell": "Table of Contents",
   "title_sidebar": "Contents",
   "toc_cell": false,
   "toc_position": {},
   "toc_section_display": true,
   "toc_window_display": false
  },
  "varInspector": {
   "cols": {
    "lenName": 16,
    "lenType": 16,
    "lenVar": 40
   },
   "kernels_config": {
    "python": {
     "delete_cmd_postfix": "",
     "delete_cmd_prefix": "del ",
     "library": "var_list.py",
     "varRefreshCmd": "print(var_dic_list())"
    },
    "r": {
     "delete_cmd_postfix": ") ",
     "delete_cmd_prefix": "rm(",
     "library": "var_list.r",
     "varRefreshCmd": "cat(var_dic_list()) "
    }
   },
   "types_to_exclude": [
    "module",
    "function",
    "builtin_function_or_method",
    "instance",
    "_Feature"
   ],
   "window_display": false
  }
 },
 "nbformat": 4,
 "nbformat_minor": 5
}
