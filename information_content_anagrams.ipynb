{
 "cells": [
  {
   "cell_type": "code",
   "execution_count": 1,
   "id": "9e784eb3",
   "metadata": {
    "ExecuteTime": {
     "end_time": "2022-03-21T15:48:11.900637Z",
     "start_time": "2022-03-21T15:48:10.165790Z"
    }
   },
   "outputs": [],
   "source": [
    "import numpy as np\n",
    "import pandas as pd\n",
    "import itertools\n",
    "import random\n",
    "from tqdm import tqdm\n",
    "import re\n",
    "\n",
    "import os\n",
    "# where to save the data\n",
    "ROOT_DIR = \".\"\n",
    "FOLDER_NAME = \"data\"\n",
    "PATH_TO_FOLDER = os.path.join(ROOT_DIR, FOLDER_NAME)\n",
    "os.makedirs(PATH_TO_FOLDER, exist_ok=True)"
   ]
  },
  {
   "cell_type": "markdown",
   "id": "d8c0a085",
   "metadata": {},
   "source": [
    "## Load data"
   ]
  },
  {
   "cell_type": "code",
   "execution_count": 2,
   "id": "073eb146",
   "metadata": {
    "ExecuteTime": {
     "end_time": "2022-03-21T15:48:11.912157Z",
     "start_time": "2022-03-21T15:48:11.902340Z"
    }
   },
   "outputs": [],
   "source": [
    "anagrams = pd.read_csv(\"./data/anagrams.csv\")"
   ]
  },
  {
   "cell_type": "code",
   "execution_count": 3,
   "id": "87aeffdb",
   "metadata": {
    "ExecuteTime": {
     "end_time": "2022-03-21T15:48:11.936012Z",
     "start_time": "2022-03-21T15:48:11.915099Z"
    }
   },
   "outputs": [
    {
     "data": {
      "text/html": [
       "<div>\n",
       "<style scoped>\n",
       "    .dataframe tbody tr th:only-of-type {\n",
       "        vertical-align: middle;\n",
       "    }\n",
       "\n",
       "    .dataframe tbody tr th {\n",
       "        vertical-align: top;\n",
       "    }\n",
       "\n",
       "    .dataframe thead th {\n",
       "        text-align: right;\n",
       "    }\n",
       "</style>\n",
       "<table border=\"1\" class=\"dataframe\">\n",
       "  <thead>\n",
       "    <tr style=\"text-align: right;\">\n",
       "      <th></th>\n",
       "      <th>word</th>\n",
       "      <th>anagrams</th>\n",
       "    </tr>\n",
       "  </thead>\n",
       "  <tbody>\n",
       "    <tr>\n",
       "      <th>0</th>\n",
       "      <td>abode</td>\n",
       "      <td>abode, adobe</td>\n",
       "    </tr>\n",
       "    <tr>\n",
       "      <th>1</th>\n",
       "      <td>abort</td>\n",
       "      <td>abort, tabor</td>\n",
       "    </tr>\n",
       "    <tr>\n",
       "      <th>2</th>\n",
       "      <td>acred</td>\n",
       "      <td>acred, cader</td>\n",
       "    </tr>\n",
       "    <tr>\n",
       "      <th>3</th>\n",
       "      <td>acrid</td>\n",
       "      <td>acrid, caird</td>\n",
       "    </tr>\n",
       "    <tr>\n",
       "      <th>4</th>\n",
       "      <td>adept</td>\n",
       "      <td>adept, pated</td>\n",
       "    </tr>\n",
       "    <tr>\n",
       "      <th>...</th>\n",
       "      <td>...</td>\n",
       "      <td>...</td>\n",
       "    </tr>\n",
       "    <tr>\n",
       "      <th>382</th>\n",
       "      <td>worth</td>\n",
       "      <td>worth, wroth, whort</td>\n",
       "    </tr>\n",
       "    <tr>\n",
       "      <th>383</th>\n",
       "      <td>wrath</td>\n",
       "      <td>wrath, thraw</td>\n",
       "    </tr>\n",
       "    <tr>\n",
       "      <th>384</th>\n",
       "      <td>wreak</td>\n",
       "      <td>wreak, waker</td>\n",
       "    </tr>\n",
       "    <tr>\n",
       "      <th>385</th>\n",
       "      <td>wrote</td>\n",
       "      <td>wrote, tower</td>\n",
       "    </tr>\n",
       "    <tr>\n",
       "      <th>386</th>\n",
       "      <td>wroth</td>\n",
       "      <td>wroth, whort</td>\n",
       "    </tr>\n",
       "  </tbody>\n",
       "</table>\n",
       "<p>387 rows × 2 columns</p>\n",
       "</div>"
      ],
      "text/plain": [
       "      word             anagrams\n",
       "0    abode         abode, adobe\n",
       "1    abort         abort, tabor\n",
       "2    acred         acred, cader\n",
       "3    acrid         acrid, caird\n",
       "4    adept         adept, pated\n",
       "..     ...                  ...\n",
       "382  worth  worth, wroth, whort\n",
       "383  wrath         wrath, thraw\n",
       "384  wreak         wreak, waker\n",
       "385  wrote         wrote, tower\n",
       "386  wroth         wroth, whort\n",
       "\n",
       "[387 rows x 2 columns]"
      ]
     },
     "execution_count": 3,
     "metadata": {},
     "output_type": "execute_result"
    }
   ],
   "source": [
    "anagrams"
   ]
  },
  {
   "cell_type": "code",
   "execution_count": 4,
   "id": "ad2ad422",
   "metadata": {
    "ExecuteTime": {
     "end_time": "2022-03-21T15:48:11.953645Z",
     "start_time": "2022-03-21T15:48:11.937808Z"
    }
   },
   "outputs": [
    {
     "name": "stdout",
     "output_type": "stream",
     "text": [
      "<class 'pandas.core.frame.DataFrame'>\n",
      "RangeIndex: 387 entries, 0 to 386\n",
      "Data columns (total 2 columns):\n",
      " #   Column    Non-Null Count  Dtype \n",
      "---  ------    --------------  ----- \n",
      " 0   word      387 non-null    object\n",
      " 1   anagrams  387 non-null    object\n",
      "dtypes: object(2)\n",
      "memory usage: 6.2+ KB\n"
     ]
    }
   ],
   "source": [
    "anagrams.info()"
   ]
  },
  {
   "cell_type": "code",
   "execution_count": 5,
   "id": "4a29c137",
   "metadata": {
    "ExecuteTime": {
     "end_time": "2022-03-21T15:48:11.959790Z",
     "start_time": "2022-03-21T15:48:11.955193Z"
    }
   },
   "outputs": [
    {
     "data": {
      "text/plain": [
       "387"
      ]
     },
     "execution_count": 5,
     "metadata": {},
     "output_type": "execute_result"
    }
   ],
   "source": [
    "anagrams[\"word\"].nunique()"
   ]
  },
  {
   "cell_type": "markdown",
   "id": "9b832824",
   "metadata": {},
   "source": [
    "## Number of anagrams"
   ]
  },
  {
   "cell_type": "code",
   "execution_count": 6,
   "id": "0d2c585b",
   "metadata": {
    "ExecuteTime": {
     "end_time": "2022-03-21T15:48:11.964752Z",
     "start_time": "2022-03-21T15:48:11.962000Z"
    }
   },
   "outputs": [],
   "source": [
    "my_list_of_anagrams = [x.split(\", \") for x in anagrams[\"anagrams\"]]"
   ]
  },
  {
   "cell_type": "code",
   "execution_count": 7,
   "id": "5919f88a",
   "metadata": {
    "ExecuteTime": {
     "end_time": "2022-03-21T15:48:11.988697Z",
     "start_time": "2022-03-21T15:48:11.966180Z"
    }
   },
   "outputs": [
    {
     "data": {
      "text/plain": [
       "[['abode', 'adobe'],\n",
       " ['abort', 'tabor'],\n",
       " ['acred', 'cader'],\n",
       " ['acrid', 'caird'],\n",
       " ['adept', 'pated'],\n",
       " ['adore', 'oread'],\n",
       " ['afire', 'feria'],\n",
       " ['aider', 'irade'],\n",
       " ['aitch', 'chati'],\n",
       " ['alert', 'alter'],\n",
       " ['algor', 'orgal'],\n",
       " ['alien', 'aline', 'anile'],\n",
       " ['align', 'algin'],\n",
       " ['aline', 'anile'],\n",
       " ['alish', 'shail'],\n",
       " ['aloft', 'flota'],\n",
       " ['aloin', 'anoil'],\n",
       " ['amend', 'maned'],\n",
       " ['amigo', 'imago'],\n",
       " ['amine', 'manie'],\n",
       " ['amity', 'atimy'],\n",
       " ['amole', 'maleo'],\n",
       " ['ample', 'maple', 'pelma'],\n",
       " ['ampul', 'pluma'],\n",
       " ['angel', 'angle'],\n",
       " ['anime', 'maine', 'amine', 'manie'],\n",
       " ['apert', 'peart'],\n",
       " ['apish', 'aphis'],\n",
       " ['aptly', 'typal', 'platy', 'patly'],\n",
       " ['archy', 'chary'],\n",
       " ['argol', 'algor', 'orgal'],\n",
       " ['argon', 'orang', 'angor'],\n",
       " ['aries', 'serai', 'aesir'],\n",
       " ['arise', 'aries', 'serai', 'aesir'],\n",
       " ['arist', 'trias'],\n",
       " ['armet', 'terma'],\n",
       " ['arose', 'seora'],\n",
       " ['aspen', 'snape', 'sneap', 'spane'],\n",
       " ['aspic', 'spica'],\n",
       " ['aster', 'tarse', 'arest'],\n",
       " ['astir', 'tisar', 'tarsi', 'arist', 'trias'],\n",
       " ['atony', 'ayont'],\n",
       " ['avert', 'trave'],\n",
       " ['caber', 'acerb'],\n",
       " ['cadre', 'acred', 'cader'],\n",
       " ['caged', 'cadge'],\n",
       " ['camus', 'musca'],\n",
       " ['canto', 'acton'],\n",
       " ['capel', 'clape'],\n",
       " ['caper', 'pacer', 'crape', 'perca'],\n",
       " ['caple', 'capel', 'clape'],\n",
       " ['capon', 'pocan'],\n",
       " ['capri', 'picra'],\n",
       " ['carom', 'croma'],\n",
       " ['carve', 'crave'],\n",
       " ['cater', 'creat', 'caret'],\n",
       " ['cates', 'scate'],\n",
       " ['catso', 'tasco'],\n",
       " ['cause', 'sauce'],\n",
       " ['cedar', 'cadre', 'acred', 'cader'],\n",
       " ['cedry', 'cyder'],\n",
       " ['ceria', 'craie'],\n",
       " ['cetin', 'ceint'],\n",
       " ['chain', 'chian'],\n",
       " ['chare', 'chear'],\n",
       " ['chast', 'scath'],\n",
       " ['cheap', 'peach'],\n",
       " ['cheat', 'tache'],\n",
       " ['chely', 'chyle'],\n",
       " ['chief', 'fiche'],\n",
       " ['choir', 'ichor'],\n",
       " ['chore', 'ochre'],\n",
       " ['chute', 'chuet'],\n",
       " ['claim', 'malic'],\n",
       " ['clary', 'cryal'],\n",
       " ['clean', 'ancle'],\n",
       " ['clear', 'clare'],\n",
       " ['cleat', 'catel'],\n",
       " ['clime', 'melic'],\n",
       " ['close', 'scole'],\n",
       " ['coast', 'costa', 'scoat', 'catso', 'tasco'],\n",
       " ['cobra', 'carob'],\n",
       " ['cokes', 'scoke'],\n",
       " ['conte', 'cento'],\n",
       " ['coral', 'carol'],\n",
       " ['costa', 'scoat', 'catso', 'tasco'],\n",
       " ['could', 'cloud'],\n",
       " ['couth', 'chout'],\n",
       " ['cover', 'corve'],\n",
       " ['craft', 'fract'],\n",
       " ['crape', 'perca'],\n",
       " ['craps', 'scarp'],\n",
       " ['crase', 'carse'],\n",
       " ['crate', 'cater', 'creat', 'caret'],\n",
       " ['creak', 'crake'],\n",
       " ['cream', 'macer'],\n",
       " ['creat', 'caret'],\n",
       " ['cried', 'cider'],\n",
       " ['crisp', 'scrip'],\n",
       " ['crois', 'siroc'],\n",
       " ['crust', 'curst'],\n",
       " ['culpe', 'cupel', 'pucel', 'pecul'],\n",
       " ['cumin', 'mucin'],\n",
       " ['cupel', 'pucel', 'pecul'],\n",
       " ['cupid', 'pudic'],\n",
       " ['curdy', 'crudy'],\n",
       " ['curia', 'auric'],\n",
       " ['curse', 'sucre'],\n",
       " ['cutis', 'ictus'],\n",
       " ['faery', 'arefy'],\n",
       " ['feral', 'flear'],\n",
       " ['fetal', 'alfet'],\n",
       " ['fetor', 'frote'],\n",
       " ['first', 'frist'],\n",
       " ['firth', 'frith'],\n",
       " ['flake', 'fleak'],\n",
       " ['flame', 'fleam'],\n",
       " ['flare', 'feral', 'flear'],\n",
       " ['flesh', 'shelf'],\n",
       " ['flier', 'filer'],\n",
       " ['float', 'aloft', 'flota'],\n",
       " ['flour', 'fluor'],\n",
       " ['flyer', 'ferly'],\n",
       " ['forte', 'ofter', 'fetor', 'frote'],\n",
       " ['forth', 'froth'],\n",
       " ['found', 'fondu'],\n",
       " ['frail', 'filar'],\n",
       " ['freak', 'faker'],\n",
       " ['freya', 'faery', 'arefy'],\n",
       " ['incog', 'coign'],\n",
       " ['inset', 'seint', 'snite'],\n",
       " ['insue', 'suine'],\n",
       " ['inter', 'trine', 'terin'],\n",
       " ['inust', 'suint'],\n",
       " ['islet', 'stile', 'istle'],\n",
       " ['maine', 'amine', 'manie'],\n",
       " ['mains', 'manis'],\n",
       " ['manto', 'toman'],\n",
       " ['maori', 'moria'],\n",
       " ['maple', 'pelma'],\n",
       " ['marie', 'aimer'],\n",
       " ['marly', 'almry'],\n",
       " ['marsh', 'shram'],\n",
       " ['mason', 'monas'],\n",
       " ['mater', 'tamer', 'armet', 'terma'],\n",
       " ['mavis', 'amvis'],\n",
       " ['mayor', 'moray'],\n",
       " ['meant', 'ament'],\n",
       " ['media', 'amide'],\n",
       " ['merit', 'timer', 'mitre'],\n",
       " ['meros', 'smore'],\n",
       " ['meson', 'somne'],\n",
       " ['metal', 'malet'],\n",
       " ['minor', 'morin'],\n",
       " ['moira', 'maori', 'moria'],\n",
       " ['moner', 'morne'],\n",
       " ['moral', 'molar'],\n",
       " ['mores', 'meros', 'smore'],\n",
       " ['morse', 'mores', 'meros', 'smore'],\n",
       " ['mower', 'morwe'],\n",
       " ['mucro', 'mucor'],\n",
       " ['muser', 'merus'],\n",
       " ['music', 'musci'],\n",
       " ['ocean', 'canoe'],\n",
       " ['ofter', 'fetor', 'frote'],\n",
       " ['olive', 'ovile'],\n",
       " ['opine', 'pieno'],\n",
       " ['orang', 'angor'],\n",
       " ['organ', 'argon', 'orang', 'angor'],\n",
       " ['ostic', 'sciot'],\n",
       " ['other', 'throe'],\n",
       " ['outer', 'outre'],\n",
       " ['overt', 'orvet'],\n",
       " ['oxfly', 'foxly'],\n",
       " ['pacer', 'crape', 'perca'],\n",
       " ['paise', 'sepia'],\n",
       " ['palet', 'pelta', 'tepal'],\n",
       " ['palsy', 'splay'],\n",
       " ['palus', 'pulas'],\n",
       " ['panel', 'penal', 'alpen'],\n",
       " ['parse', 'prase', 'asper'],\n",
       " ['paste', 'spate'],\n",
       " ['pearl', 'parle'],\n",
       " ['pecan', 'pance'],\n",
       " ['pelta', 'tepal'],\n",
       " ['penal', 'alpen'],\n",
       " ['penis', 'spine', 'snipe'],\n",
       " ['peril', 'piler'],\n",
       " ['petal', 'pleat', 'palet', 'pelta', 'tepal'],\n",
       " ['petar', 'trape', 'apert', 'peart'],\n",
       " ['phone', 'pheon'],\n",
       " ['piled', 'plied'],\n",
       " ['piles', 'spile'],\n",
       " ['place', 'caple', 'capel', 'clape'],\n",
       " ['plane', 'panel', 'penal', 'alpen'],\n",
       " ['plate', 'petal', 'pleat', 'palet', 'pelta', 'tepal'],\n",
       " ['platy', 'patly'],\n",
       " ['plead', 'pedal'],\n",
       " ['pleat', 'palet', 'pelta', 'tepal'],\n",
       " ['pluto', 'poult'],\n",
       " ['poach', 'phoca'],\n",
       " ['point', 'pinto'],\n",
       " ['poker', 'proke'],\n",
       " ['polar', 'parol'],\n",
       " ['polka', 'pokal'],\n",
       " ['pomey', 'myope'],\n",
       " ['porte', 'toper', 'tepor'],\n",
       " ['prase', 'asper'],\n",
       " ['prate', 'petar', 'trape', 'apert', 'peart'],\n",
       " ['predy', 'perdy'],\n",
       " ['pride', 'pried'],\n",
       " ['prise', 'speir'],\n",
       " ['proin', 'orpin'],\n",
       " ['prose', 'poser'],\n",
       " ['prude', 'pured'],\n",
       " ['psalm', 'plasm'],\n",
       " ['psora', 'sapor', 'sopra', 'sarpo'],\n",
       " ['pucel', 'pecul'],\n",
       " ['purse', 'sprue'],\n",
       " ['pursy', 'pyrus'],\n",
       " ['sable', 'saleb'],\n",
       " ['sacre', 'serac', 'crase', 'carse'],\n",
       " ['saint', 'stain', 'satin', 'stian'],\n",
       " ['saker', 'asker'],\n",
       " ['salep', 'sepal'],\n",
       " ['salty', 'slaty'],\n",
       " ['sapid', 'spaid'],\n",
       " ['sapor', 'sopra', 'sarpo'],\n",
       " ['satin', 'stian'],\n",
       " ['satle', 'stela', 'astel'],\n",
       " ['scalp', 'claps'],\n",
       " ['scare', 'sacre', 'serac', 'crase', 'carse'],\n",
       " ['scary', 'scray'],\n",
       " ['scaur', 'carus'],\n",
       " ['scink', 'snick'],\n",
       " ['scoat', 'catso', 'tasco'],\n",
       " ['scone', 'cosen'],\n",
       " ['scrap', 'craps', 'scarp'],\n",
       " ['seint', 'snite'],\n",
       " ['selah', 'sheal'],\n",
       " ['serac', 'crase', 'carse'],\n",
       " ['serai', 'aesir'],\n",
       " ['shale', 'selah', 'sheal'],\n",
       " ['shape', 'phase'],\n",
       " ['share', 'shear'],\n",
       " ['shied', 'shide'],\n",
       " ['shoal', 'shola'],\n",
       " ['shole', 'sheol'],\n",
       " ['shore', 'shoer'],\n",
       " ['shote', 'sothe'],\n",
       " ['sidle', 'sleid'],\n",
       " ['sieva', 'avise'],\n",
       " ['sinew', 'sewin'],\n",
       " ['siren', 'serin'],\n",
       " ['skelp', 'spelk'],\n",
       " ['skirt', 'stirk'],\n",
       " ['slape', 'salep', 'sepal'],\n",
       " ['slate', 'stale', 'satle', 'stela', 'astel'],\n",
       " ['slave', 'salve'],\n",
       " ['slept', 'spelt'],\n",
       " ['slide', 'sidle', 'sleid'],\n",
       " ['slime', 'misle'],\n",
       " ['slimy', 'misly'],\n",
       " ['smart', 'stram'],\n",
       " ['smite', 'stime', 'setim'],\n",
       " ['smote', 'moste'],\n",
       " ['snake', 'skean'],\n",
       " ['snape', 'sneap', 'spane'],\n",
       " ['sneak', 'snake', 'skean'],\n",
       " ['sneap', 'spane'],\n",
       " ['snout', 'tonus'],\n",
       " ['sopra', 'sarpo'],\n",
       " ['south', 'shout'],\n",
       " ['sower', 'sorwe'],\n",
       " ['space', 'scape'],\n",
       " ['spade', 'adeps'],\n",
       " ['spale', 'slape', 'salep', 'sepal'],\n",
       " ['spare', 'spear', 'parse', 'prase', 'asper'],\n",
       " ['spear', 'parse', 'prase', 'asper'],\n",
       " ['spine', 'snipe'],\n",
       " ['spiny', 'snipy'],\n",
       " ['spire', 'prise', 'speir'],\n",
       " ['spirt', 'stirp'],\n",
       " ['split', 'spilt'],\n",
       " ['sport', 'strop'],\n",
       " ['sprit', 'spirt', 'stirp'],\n",
       " ['stain', 'satin', 'stian'],\n",
       " ['stale', 'satle', 'stela', 'astel'],\n",
       " ['stane', 'stean'],\n",
       " ['stare', 'aster', 'tarse', 'arest'],\n",
       " ['stark', 'skart'],\n",
       " ['steak', 'skate'],\n",
       " ['steal', 'tales', 'slate', 'stale', 'satle', 'stela', 'astel'],\n",
       " ['steik', 'stike'],\n",
       " ['stein', 'inset', 'seint', 'snite'],\n",
       " ['stela', 'astel'],\n",
       " ['stile', 'istle'],\n",
       " ['stime', 'setim'],\n",
       " ['stola', 'sloat'],\n",
       " ['stone', 'seton'],\n",
       " ['store', 'torse'],\n",
       " ['story', 'stroy'],\n",
       " ['strap', 'traps'],\n",
       " ['straw', 'swart'],\n",
       " ['stray', 'trays', 'satyr'],\n",
       " ['stria', 'astir', 'tisar', 'tarsi', 'arist', 'trias'],\n",
       " ['strip', 'sprit', 'spirt', 'stirp'],\n",
       " ['stuke', 'skute'],\n",
       " ['stupe', 'spute'],\n",
       " ['suant', 'astun'],\n",
       " ['sugar', 'argus'],\n",
       " ['super', 'purse', 'sprue'],\n",
       " ['sutor', 'stour'],\n",
       " ['swale', 'sweal'],\n",
       " ['sware', 'sawer'],\n",
       " ['swear', 'wares', 'sware', 'sawer'],\n",
       " ['sweat', 'swate'],\n",
       " ['swine', 'sinew', 'sewin'],\n",
       " ['swoln', 'snowl'],\n",
       " ['swore', 'sower', 'sorwe'],\n",
       " ['tabes', 'sebat'],\n",
       " ['tales', 'slate', 'stale', 'satle', 'stela', 'astel'],\n",
       " ['talus', 'sault'],\n",
       " ['tamer', 'armet', 'terma'],\n",
       " ['tamil', 'timal'],\n",
       " ['tansy', 'styan'],\n",
       " ['taper', 'prate', 'petar', 'trape', 'apert', 'peart'],\n",
       " ['tarin', 'tairn'],\n",
       " ['tarse', 'arest'],\n",
       " ['tarsi', 'arist', 'trias'],\n",
       " ['tawny', 'wanty'],\n",
       " ['teach', 'cheat', 'tache'],\n",
       " ['tenia', 'tinea'],\n",
       " ['tenor', 'trone'],\n",
       " ['thewy', 'wythe'],\n",
       " ['third', 'thrid'],\n",
       " ['those', 'shote', 'sothe'],\n",
       " ['throw', 'worth', 'wroth', 'whort'],\n",
       " ['thrum', 'murth'],\n",
       " ['thyme', 'mythe'],\n",
       " ['timer', 'mitre'],\n",
       " ['tined', 'teind'],\n",
       " ['tired', 'tride'],\n",
       " ['tisar', 'tarsi', 'arist', 'trias'],\n",
       " ['topek', 'poket'],\n",
       " ['toper', 'tepor'],\n",
       " ['topic', 'picot'],\n",
       " ['torus', 'sutor', 'stour'],\n",
       " ['touch', 'couth', 'chout'],\n",
       " ['towel', 'owlet'],\n",
       " ['trace', 'crate', 'cater', 'creat', 'caret'],\n",
       " ['trade', 'tread', 'tared'],\n",
       " ['train', 'tarin', 'tairn'],\n",
       " ['trape', 'apert', 'peart'],\n",
       " ['trays', 'satyr'],\n",
       " ['tread', 'tared'],\n",
       " ['trews', 'werst'],\n",
       " ['trial', 'trail'],\n",
       " ['trice', 'citer'],\n",
       " ['tried', 'tired', 'tride'],\n",
       " ['trine', 'terin'],\n",
       " ['troad', 'tardo'],\n",
       " ['truce', 'cruet'],\n",
       " ['tunic', 'cutin'],\n",
       " ['twain', 'witan'],\n",
       " ['typal', 'platy', 'patly'],\n",
       " ['wages', 'swage'],\n",
       " ['wagon', 'wango'],\n",
       " ['wares', 'sware', 'sawer'],\n",
       " ['waste', 'sweat', 'swate'],\n",
       " ['water', 'tawer'],\n",
       " ['weary', 'warye'],\n",
       " ['whale', 'wheal'],\n",
       " ['white', 'withe'],\n",
       " ['whore', 'owher'],\n",
       " ['widen', 'indew'],\n",
       " ['wigan', 'awing'],\n",
       " ['winze', 'wizen'],\n",
       " ['wives', 'swive'],\n",
       " ['women', 'menow'],\n",
       " ['worse', 'swore', 'sower', 'sorwe'],\n",
       " ['worst', 'strow'],\n",
       " ['worth', 'wroth', 'whort'],\n",
       " ['wrath', 'thraw'],\n",
       " ['wreak', 'waker'],\n",
       " ['wrote', 'tower'],\n",
       " ['wroth', 'whort']]"
      ]
     },
     "execution_count": 7,
     "metadata": {},
     "output_type": "execute_result"
    }
   ],
   "source": [
    "my_list_of_anagrams"
   ]
  },
  {
   "cell_type": "code",
   "execution_count": 8,
   "id": "6e8c0f7b",
   "metadata": {
    "ExecuteTime": {
     "end_time": "2022-03-21T15:48:11.992714Z",
     "start_time": "2022-03-21T15:48:11.990188Z"
    }
   },
   "outputs": [],
   "source": [
    "vec = np.vectorize(len)"
   ]
  },
  {
   "cell_type": "code",
   "execution_count": 9,
   "id": "ff2281a5",
   "metadata": {
    "ExecuteTime": {
     "end_time": "2022-03-21T15:48:12.001252Z",
     "start_time": "2022-03-21T15:48:11.996789Z"
    }
   },
   "outputs": [
    {
     "data": {
      "text/plain": [
       "array([2, 2, 2, 2, 2, 2, 2, 2, 2, 2, 2, 3, 2, 2, 2, 2, 2, 2, 2, 2, 2, 2,\n",
       "       3, 2, 2, 4, 2, 2, 4, 2, 3, 3, 3, 4, 2, 2, 2, 4, 2, 3, 5, 2, 2, 2,\n",
       "       3, 2, 2, 2, 2, 4, 3, 2, 2, 2, 2, 3, 2, 2, 2, 4, 2, 2, 2, 2, 2, 2,\n",
       "       2, 2, 2, 2, 2, 2, 2, 2, 2, 2, 2, 2, 2, 2, 5, 2, 2, 2, 2, 4, 2, 2,\n",
       "       2, 2, 2, 2, 2, 4, 2, 2, 2, 2, 2, 2, 2, 4, 2, 3, 2, 2, 2, 2, 2, 2,\n",
       "       2, 2, 2, 2, 2, 2, 2, 3, 2, 2, 3, 2, 2, 4, 2, 2, 2, 2, 3, 2, 3, 2,\n",
       "       3, 2, 3, 3, 2, 2, 2, 2, 2, 2, 2, 2, 4, 2, 2, 2, 2, 3, 2, 2, 2, 2,\n",
       "       3, 2, 2, 3, 4, 2, 2, 2, 2, 2, 3, 2, 2, 2, 4, 2, 2, 2, 2, 2, 3, 2,\n",
       "       3, 2, 2, 3, 3, 2, 2, 2, 2, 2, 3, 2, 5, 4, 2, 2, 2, 4, 4, 6, 2, 2,\n",
       "       4, 2, 2, 2, 2, 2, 2, 2, 3, 2, 5, 2, 2, 2, 2, 2, 2, 2, 4, 2, 2, 2,\n",
       "       2, 4, 4, 2, 2, 2, 2, 3, 2, 3, 2, 5, 2, 2, 2, 3, 2, 3, 2, 2, 3, 2,\n",
       "       3, 2, 2, 2, 2, 2, 2, 2, 2, 2, 2, 2, 2, 2, 3, 5, 2, 2, 3, 2, 2, 2,\n",
       "       3, 2, 2, 3, 3, 2, 2, 2, 2, 2, 2, 2, 4, 5, 4, 2, 2, 3, 2, 2, 2, 3,\n",
       "       3, 4, 2, 4, 2, 2, 7, 2, 4, 2, 2, 2, 2, 2, 2, 2, 2, 2, 3, 6, 4, 2,\n",
       "       2, 2, 2, 3, 2, 2, 2, 4, 2, 3, 2, 3, 2, 6, 2, 3, 2, 2, 6, 2, 2, 3,\n",
       "       2, 3, 2, 2, 2, 2, 3, 4, 2, 2, 2, 2, 2, 4, 2, 2, 2, 3, 3, 2, 5, 3,\n",
       "       3, 3, 2, 2, 2, 2, 2, 3, 2, 2, 2, 2, 2, 3, 2, 2, 3, 3, 2, 2, 2, 2,\n",
       "       2, 2, 2, 2, 2, 2, 4, 2, 3, 2, 2, 2, 2])"
      ]
     },
     "execution_count": 9,
     "metadata": {},
     "output_type": "execute_result"
    }
   ],
   "source": [
    "num_anagrams_per_list = vec(np.array(my_list_of_anagrams, dtype=object))\n",
    "num_anagrams_per_list"
   ]
  },
  {
   "cell_type": "code",
   "execution_count": 10,
   "id": "9b81b068",
   "metadata": {
    "ExecuteTime": {
     "end_time": "2022-03-21T15:48:12.005812Z",
     "start_time": "2022-03-21T15:48:12.002865Z"
    }
   },
   "outputs": [],
   "source": [
    "anagrams[\"num_anagrams\"] = num_anagrams_per_list"
   ]
  },
  {
   "cell_type": "code",
   "execution_count": 11,
   "id": "ff0ce1c0",
   "metadata": {
    "ExecuteTime": {
     "end_time": "2022-03-21T15:48:12.016063Z",
     "start_time": "2022-03-21T15:48:12.007264Z"
    }
   },
   "outputs": [
    {
     "data": {
      "text/html": [
       "<div>\n",
       "<style scoped>\n",
       "    .dataframe tbody tr th:only-of-type {\n",
       "        vertical-align: middle;\n",
       "    }\n",
       "\n",
       "    .dataframe tbody tr th {\n",
       "        vertical-align: top;\n",
       "    }\n",
       "\n",
       "    .dataframe thead th {\n",
       "        text-align: right;\n",
       "    }\n",
       "</style>\n",
       "<table border=\"1\" class=\"dataframe\">\n",
       "  <thead>\n",
       "    <tr style=\"text-align: right;\">\n",
       "      <th></th>\n",
       "      <th>word</th>\n",
       "      <th>anagrams</th>\n",
       "      <th>num_anagrams</th>\n",
       "    </tr>\n",
       "  </thead>\n",
       "  <tbody>\n",
       "    <tr>\n",
       "      <th>0</th>\n",
       "      <td>abode</td>\n",
       "      <td>abode, adobe</td>\n",
       "      <td>2</td>\n",
       "    </tr>\n",
       "    <tr>\n",
       "      <th>1</th>\n",
       "      <td>abort</td>\n",
       "      <td>abort, tabor</td>\n",
       "      <td>2</td>\n",
       "    </tr>\n",
       "    <tr>\n",
       "      <th>2</th>\n",
       "      <td>acred</td>\n",
       "      <td>acred, cader</td>\n",
       "      <td>2</td>\n",
       "    </tr>\n",
       "    <tr>\n",
       "      <th>3</th>\n",
       "      <td>acrid</td>\n",
       "      <td>acrid, caird</td>\n",
       "      <td>2</td>\n",
       "    </tr>\n",
       "    <tr>\n",
       "      <th>4</th>\n",
       "      <td>adept</td>\n",
       "      <td>adept, pated</td>\n",
       "      <td>2</td>\n",
       "    </tr>\n",
       "    <tr>\n",
       "      <th>...</th>\n",
       "      <td>...</td>\n",
       "      <td>...</td>\n",
       "      <td>...</td>\n",
       "    </tr>\n",
       "    <tr>\n",
       "      <th>382</th>\n",
       "      <td>worth</td>\n",
       "      <td>worth, wroth, whort</td>\n",
       "      <td>3</td>\n",
       "    </tr>\n",
       "    <tr>\n",
       "      <th>383</th>\n",
       "      <td>wrath</td>\n",
       "      <td>wrath, thraw</td>\n",
       "      <td>2</td>\n",
       "    </tr>\n",
       "    <tr>\n",
       "      <th>384</th>\n",
       "      <td>wreak</td>\n",
       "      <td>wreak, waker</td>\n",
       "      <td>2</td>\n",
       "    </tr>\n",
       "    <tr>\n",
       "      <th>385</th>\n",
       "      <td>wrote</td>\n",
       "      <td>wrote, tower</td>\n",
       "      <td>2</td>\n",
       "    </tr>\n",
       "    <tr>\n",
       "      <th>386</th>\n",
       "      <td>wroth</td>\n",
       "      <td>wroth, whort</td>\n",
       "      <td>2</td>\n",
       "    </tr>\n",
       "  </tbody>\n",
       "</table>\n",
       "<p>387 rows × 3 columns</p>\n",
       "</div>"
      ],
      "text/plain": [
       "      word             anagrams  num_anagrams\n",
       "0    abode         abode, adobe             2\n",
       "1    abort         abort, tabor             2\n",
       "2    acred         acred, cader             2\n",
       "3    acrid         acrid, caird             2\n",
       "4    adept         adept, pated             2\n",
       "..     ...                  ...           ...\n",
       "382  worth  worth, wroth, whort             3\n",
       "383  wrath         wrath, thraw             2\n",
       "384  wreak         wreak, waker             2\n",
       "385  wrote         wrote, tower             2\n",
       "386  wroth         wroth, whort             2\n",
       "\n",
       "[387 rows x 3 columns]"
      ]
     },
     "execution_count": 11,
     "metadata": {},
     "output_type": "execute_result"
    }
   ],
   "source": [
    "anagrams"
   ]
  },
  {
   "cell_type": "code",
   "execution_count": 12,
   "id": "662e0267",
   "metadata": {
    "ExecuteTime": {
     "end_time": "2022-03-21T15:48:12.026052Z",
     "start_time": "2022-03-21T15:48:12.018055Z"
    }
   },
   "outputs": [
    {
     "data": {
      "text/html": [
       "<div>\n",
       "<style scoped>\n",
       "    .dataframe tbody tr th:only-of-type {\n",
       "        vertical-align: middle;\n",
       "    }\n",
       "\n",
       "    .dataframe tbody tr th {\n",
       "        vertical-align: top;\n",
       "    }\n",
       "\n",
       "    .dataframe thead th {\n",
       "        text-align: right;\n",
       "    }\n",
       "</style>\n",
       "<table border=\"1\" class=\"dataframe\">\n",
       "  <thead>\n",
       "    <tr style=\"text-align: right;\">\n",
       "      <th></th>\n",
       "      <th>word</th>\n",
       "      <th>anagrams</th>\n",
       "      <th>num_anagrams</th>\n",
       "    </tr>\n",
       "  </thead>\n",
       "  <tbody>\n",
       "    <tr>\n",
       "      <th>292</th>\n",
       "      <td>steal</td>\n",
       "      <td>steal, tales, slate, stale, satle, stela, astel</td>\n",
       "      <td>7</td>\n",
       "    </tr>\n",
       "  </tbody>\n",
       "</table>\n",
       "</div>"
      ],
      "text/plain": [
       "      word                                         anagrams  num_anagrams\n",
       "292  steal  steal, tales, slate, stale, satle, stela, astel             7"
      ]
     },
     "execution_count": 12,
     "metadata": {},
     "output_type": "execute_result"
    }
   ],
   "source": [
    "anagrams.loc[anagrams[\"num_anagrams\"] == anagrams[\"num_anagrams\"].max()]"
   ]
  },
  {
   "cell_type": "code",
   "execution_count": null,
   "id": "21b4a016",
   "metadata": {},
   "outputs": [],
   "source": []
  },
  {
   "cell_type": "code",
   "execution_count": 13,
   "id": "78fa095d",
   "metadata": {
    "ExecuteTime": {
     "end_time": "2022-03-21T15:48:12.032037Z",
     "start_time": "2022-03-21T15:48:12.027434Z"
    }
   },
   "outputs": [
    {
     "data": {
      "text/plain": [
       "(array([292]),)"
      ]
     },
     "execution_count": 13,
     "metadata": {},
     "output_type": "execute_result"
    }
   ],
   "source": [
    "index_loc = np.where(num_anagrams_per_list == np.max(num_anagrams_per_list))\n",
    "index_loc"
   ]
  },
  {
   "cell_type": "code",
   "execution_count": 14,
   "id": "5e2ad308",
   "metadata": {
    "ExecuteTime": {
     "end_time": "2022-03-21T15:48:12.038577Z",
     "start_time": "2022-03-21T15:48:12.034192Z"
    }
   },
   "outputs": [
    {
     "data": {
      "text/plain": [
       "292"
      ]
     },
     "execution_count": 14,
     "metadata": {},
     "output_type": "execute_result"
    }
   ],
   "source": [
    "index_loc[0][0]"
   ]
  },
  {
   "cell_type": "code",
   "execution_count": 15,
   "id": "f5021182",
   "metadata": {
    "ExecuteTime": {
     "end_time": "2022-03-21T15:48:12.045246Z",
     "start_time": "2022-03-21T15:48:12.040854Z"
    }
   },
   "outputs": [
    {
     "data": {
      "text/plain": [
       "['steal', 'tales', 'slate', 'stale', 'satle', 'stela', 'astel']"
      ]
     },
     "execution_count": 15,
     "metadata": {},
     "output_type": "execute_result"
    }
   ],
   "source": [
    "my_list_of_anagrams[index_loc[0][0]]"
   ]
  },
  {
   "cell_type": "code",
   "execution_count": 16,
   "id": "30d68a78",
   "metadata": {
    "ExecuteTime": {
     "end_time": "2022-03-21T15:48:12.052827Z",
     "start_time": "2022-03-21T15:48:12.047275Z"
    }
   },
   "outputs": [
    {
     "data": {
      "text/plain": [
       "[('steal', 'tales'),\n",
       " ('steal', 'slate'),\n",
       " ('steal', 'stale'),\n",
       " ('steal', 'satle'),\n",
       " ('steal', 'stela'),\n",
       " ('steal', 'astel'),\n",
       " ('tales', 'slate'),\n",
       " ('tales', 'stale'),\n",
       " ('tales', 'satle'),\n",
       " ('tales', 'stela'),\n",
       " ('tales', 'astel'),\n",
       " ('slate', 'stale'),\n",
       " ('slate', 'satle'),\n",
       " ('slate', 'stela'),\n",
       " ('slate', 'astel'),\n",
       " ('stale', 'satle'),\n",
       " ('stale', 'stela'),\n",
       " ('stale', 'astel'),\n",
       " ('satle', 'stela'),\n",
       " ('satle', 'astel'),\n",
       " ('stela', 'astel')]"
      ]
     },
     "execution_count": 16,
     "metadata": {},
     "output_type": "execute_result"
    }
   ],
   "source": [
    "combo_words_1 = [combo for combo in itertools.combinations(my_list_of_anagrams[index_loc[0][0]], 2)]\n",
    "combo_words_1"
   ]
  },
  {
   "cell_type": "code",
   "execution_count": 17,
   "id": "70f29542",
   "metadata": {
    "ExecuteTime": {
     "end_time": "2022-03-21T15:48:12.058823Z",
     "start_time": "2022-03-21T15:48:12.054594Z"
    }
   },
   "outputs": [
    {
     "data": {
      "text/plain": [
       "387"
      ]
     },
     "execution_count": 17,
     "metadata": {},
     "output_type": "execute_result"
    }
   ],
   "source": [
    "len(anagrams[\"word\"])"
   ]
  },
  {
   "cell_type": "code",
   "execution_count": 18,
   "id": "60d19c72",
   "metadata": {
    "ExecuteTime": {
     "end_time": "2022-03-21T15:48:12.065121Z",
     "start_time": "2022-03-21T15:48:12.060766Z"
    }
   },
   "outputs": [
    {
     "data": {
      "text/plain": [
       "'steal'"
      ]
     },
     "execution_count": 18,
     "metadata": {},
     "output_type": "execute_result"
    }
   ],
   "source": [
    "challenge = my_list_of_anagrams[index_loc[0][0]][0]\n",
    "challenge"
   ]
  },
  {
   "cell_type": "markdown",
   "id": "170b4785",
   "metadata": {},
   "source": [
    "## Scoring anagrams"
   ]
  },
  {
   "cell_type": "code",
   "execution_count": 19,
   "id": "8f0be586",
   "metadata": {
    "ExecuteTime": {
     "end_time": "2022-03-21T15:48:12.071746Z",
     "start_time": "2022-03-21T15:48:12.067267Z"
    }
   },
   "outputs": [
    {
     "data": {
      "text/plain": [
       "['tales', 'slate', 'stale', 'satle', 'stela', 'astel']"
      ]
     },
     "execution_count": 19,
     "metadata": {},
     "output_type": "execute_result"
    }
   ],
   "source": [
    "guess_anagrams = my_list_of_anagrams[index_loc[0][0]][1:]\n",
    "guess_anagrams"
   ]
  },
  {
   "cell_type": "code",
   "execution_count": 20,
   "id": "5bffb7cd",
   "metadata": {
    "ExecuteTime": {
     "end_time": "2022-03-21T15:48:12.080317Z",
     "start_time": "2022-03-21T15:48:12.073685Z"
    }
   },
   "outputs": [],
   "source": [
    "data = []\n",
    "for guess in guess_anagrams:\n",
    "    paired = zip(challenge, guess)\n",
    "    scores = np.zeros(5, dtype=np.int8)\n",
    "    for x, (i, j) in enumerate(paired):\n",
    "#         print((x, (i, j)))\n",
    "        if i == j:\n",
    "            scores[x] = 1\n",
    "        elif i != j and j in challenge:\n",
    "            scores[x] = 0\n",
    "        else:\n",
    "            scores[x] = -1\n",
    "            \n",
    "    temp = {\n",
    "        \"challenge_word\": challenge,\n",
    "        \"guess\": guess,\n",
    "        \"positional_scores\": re.sub(r\"[\\[\\]]\", \"\", str(scores)).replace(\"\\n\", \",\"),\n",
    "        \"overall_scores\": np.sum(scores, dtype=np.int8),\n",
    "    }\n",
    "    data.append(temp)"
   ]
  },
  {
   "cell_type": "code",
   "execution_count": 21,
   "id": "1191b33e",
   "metadata": {
    "ExecuteTime": {
     "end_time": "2022-03-21T15:48:12.086162Z",
     "start_time": "2022-03-21T15:48:12.082530Z"
    }
   },
   "outputs": [],
   "source": [
    "df = pd.DataFrame(data)"
   ]
  },
  {
   "cell_type": "code",
   "execution_count": 22,
   "id": "03d97e8e",
   "metadata": {
    "ExecuteTime": {
     "end_time": "2022-03-21T15:48:12.095870Z",
     "start_time": "2022-03-21T15:48:12.087672Z"
    }
   },
   "outputs": [
    {
     "data": {
      "text/html": [
       "<div>\n",
       "<style scoped>\n",
       "    .dataframe tbody tr th:only-of-type {\n",
       "        vertical-align: middle;\n",
       "    }\n",
       "\n",
       "    .dataframe tbody tr th {\n",
       "        vertical-align: top;\n",
       "    }\n",
       "\n",
       "    .dataframe thead th {\n",
       "        text-align: right;\n",
       "    }\n",
       "</style>\n",
       "<table border=\"1\" class=\"dataframe\">\n",
       "  <thead>\n",
       "    <tr style=\"text-align: right;\">\n",
       "      <th></th>\n",
       "      <th>challenge_word</th>\n",
       "      <th>guess</th>\n",
       "      <th>positional_scores</th>\n",
       "      <th>overall_scores</th>\n",
       "    </tr>\n",
       "  </thead>\n",
       "  <tbody>\n",
       "    <tr>\n",
       "      <th>0</th>\n",
       "      <td>steal</td>\n",
       "      <td>tales</td>\n",
       "      <td>0 0 0 0 0</td>\n",
       "      <td>0</td>\n",
       "    </tr>\n",
       "    <tr>\n",
       "      <th>1</th>\n",
       "      <td>steal</td>\n",
       "      <td>slate</td>\n",
       "      <td>1 0 0 0 0</td>\n",
       "      <td>1</td>\n",
       "    </tr>\n",
       "    <tr>\n",
       "      <th>2</th>\n",
       "      <td>steal</td>\n",
       "      <td>stale</td>\n",
       "      <td>1 1 0 0 0</td>\n",
       "      <td>2</td>\n",
       "    </tr>\n",
       "    <tr>\n",
       "      <th>3</th>\n",
       "      <td>steal</td>\n",
       "      <td>satle</td>\n",
       "      <td>1 0 0 0 0</td>\n",
       "      <td>1</td>\n",
       "    </tr>\n",
       "    <tr>\n",
       "      <th>4</th>\n",
       "      <td>steal</td>\n",
       "      <td>stela</td>\n",
       "      <td>1 1 1 0 0</td>\n",
       "      <td>3</td>\n",
       "    </tr>\n",
       "    <tr>\n",
       "      <th>5</th>\n",
       "      <td>steal</td>\n",
       "      <td>astel</td>\n",
       "      <td>0 0 0 0 1</td>\n",
       "      <td>1</td>\n",
       "    </tr>\n",
       "  </tbody>\n",
       "</table>\n",
       "</div>"
      ],
      "text/plain": [
       "  challenge_word  guess positional_scores  overall_scores\n",
       "0          steal  tales         0 0 0 0 0               0\n",
       "1          steal  slate         1 0 0 0 0               1\n",
       "2          steal  stale         1 1 0 0 0               2\n",
       "3          steal  satle         1 0 0 0 0               1\n",
       "4          steal  stela         1 1 1 0 0               3\n",
       "5          steal  astel         0 0 0 0 1               1"
      ]
     },
     "execution_count": 22,
     "metadata": {},
     "output_type": "execute_result"
    }
   ],
   "source": [
    "df"
   ]
  },
  {
   "cell_type": "code",
   "execution_count": 23,
   "id": "25330802",
   "metadata": {
    "ExecuteTime": {
     "end_time": "2022-03-21T15:48:12.106888Z",
     "start_time": "2022-03-21T15:48:12.097667Z"
    }
   },
   "outputs": [
    {
     "name": "stdout",
     "output_type": "stream",
     "text": [
      "<class 'pandas.core.frame.DataFrame'>\n",
      "RangeIndex: 6 entries, 0 to 5\n",
      "Data columns (total 4 columns):\n",
      " #   Column             Non-Null Count  Dtype \n",
      "---  ------             --------------  ----- \n",
      " 0   challenge_word     6 non-null      object\n",
      " 1   guess              6 non-null      object\n",
      " 2   positional_scores  6 non-null      object\n",
      " 3   overall_scores     6 non-null      int8  \n",
      "dtypes: int8(1), object(3)\n",
      "memory usage: 278.0+ bytes\n"
     ]
    }
   ],
   "source": [
    "df.info()"
   ]
  },
  {
   "cell_type": "code",
   "execution_count": 24,
   "id": "6a75394d",
   "metadata": {
    "ExecuteTime": {
     "end_time": "2022-03-21T15:48:12.121240Z",
     "start_time": "2022-03-21T15:48:12.109119Z"
    }
   },
   "outputs": [
    {
     "data": {
      "text/html": [
       "<div>\n",
       "<style scoped>\n",
       "    .dataframe tbody tr th:only-of-type {\n",
       "        vertical-align: middle;\n",
       "    }\n",
       "\n",
       "    .dataframe tbody tr th {\n",
       "        vertical-align: top;\n",
       "    }\n",
       "\n",
       "    .dataframe thead th {\n",
       "        text-align: right;\n",
       "    }\n",
       "</style>\n",
       "<table border=\"1\" class=\"dataframe\">\n",
       "  <thead>\n",
       "    <tr style=\"text-align: right;\">\n",
       "      <th></th>\n",
       "      <th>word</th>\n",
       "      <th>anagrams</th>\n",
       "      <th>num_anagrams</th>\n",
       "    </tr>\n",
       "  </thead>\n",
       "  <tbody>\n",
       "    <tr>\n",
       "      <th>11</th>\n",
       "      <td>alien</td>\n",
       "      <td>alien, aline, anile</td>\n",
       "      <td>3</td>\n",
       "    </tr>\n",
       "    <tr>\n",
       "      <th>22</th>\n",
       "      <td>ample</td>\n",
       "      <td>ample, maple, pelma</td>\n",
       "      <td>3</td>\n",
       "    </tr>\n",
       "    <tr>\n",
       "      <th>30</th>\n",
       "      <td>argol</td>\n",
       "      <td>argol, algor, orgal</td>\n",
       "      <td>3</td>\n",
       "    </tr>\n",
       "    <tr>\n",
       "      <th>31</th>\n",
       "      <td>argon</td>\n",
       "      <td>argon, orang, angor</td>\n",
       "      <td>3</td>\n",
       "    </tr>\n",
       "    <tr>\n",
       "      <th>32</th>\n",
       "      <td>aries</td>\n",
       "      <td>aries, serai, aesir</td>\n",
       "      <td>3</td>\n",
       "    </tr>\n",
       "    <tr>\n",
       "      <th>39</th>\n",
       "      <td>aster</td>\n",
       "      <td>aster, tarse, arest</td>\n",
       "      <td>3</td>\n",
       "    </tr>\n",
       "    <tr>\n",
       "      <th>44</th>\n",
       "      <td>cadre</td>\n",
       "      <td>cadre, acred, cader</td>\n",
       "      <td>3</td>\n",
       "    </tr>\n",
       "    <tr>\n",
       "      <th>50</th>\n",
       "      <td>caple</td>\n",
       "      <td>caple, capel, clape</td>\n",
       "      <td>3</td>\n",
       "    </tr>\n",
       "    <tr>\n",
       "      <th>55</th>\n",
       "      <td>cater</td>\n",
       "      <td>cater, creat, caret</td>\n",
       "      <td>3</td>\n",
       "    </tr>\n",
       "    <tr>\n",
       "      <th>103</th>\n",
       "      <td>cupel</td>\n",
       "      <td>cupel, pucel, pecul</td>\n",
       "      <td>3</td>\n",
       "    </tr>\n",
       "    <tr>\n",
       "      <th>117</th>\n",
       "      <td>flare</td>\n",
       "      <td>flare, feral, flear</td>\n",
       "      <td>3</td>\n",
       "    </tr>\n",
       "    <tr>\n",
       "      <th>120</th>\n",
       "      <td>float</td>\n",
       "      <td>float, aloft, flota</td>\n",
       "      <td>3</td>\n",
       "    </tr>\n",
       "    <tr>\n",
       "      <th>128</th>\n",
       "      <td>freya</td>\n",
       "      <td>freya, faery, arefy</td>\n",
       "      <td>3</td>\n",
       "    </tr>\n",
       "    <tr>\n",
       "      <th>130</th>\n",
       "      <td>inset</td>\n",
       "      <td>inset, seint, snite</td>\n",
       "      <td>3</td>\n",
       "    </tr>\n",
       "    <tr>\n",
       "      <th>132</th>\n",
       "      <td>inter</td>\n",
       "      <td>inter, trine, terin</td>\n",
       "      <td>3</td>\n",
       "    </tr>\n",
       "    <tr>\n",
       "      <th>134</th>\n",
       "      <td>islet</td>\n",
       "      <td>islet, stile, istle</td>\n",
       "      <td>3</td>\n",
       "    </tr>\n",
       "    <tr>\n",
       "      <th>135</th>\n",
       "      <td>maine</td>\n",
       "      <td>maine, amine, manie</td>\n",
       "      <td>3</td>\n",
       "    </tr>\n",
       "    <tr>\n",
       "      <th>149</th>\n",
       "      <td>merit</td>\n",
       "      <td>merit, timer, mitre</td>\n",
       "      <td>3</td>\n",
       "    </tr>\n",
       "    <tr>\n",
       "      <th>154</th>\n",
       "      <td>moira</td>\n",
       "      <td>moira, maori, moria</td>\n",
       "      <td>3</td>\n",
       "    </tr>\n",
       "    <tr>\n",
       "      <th>157</th>\n",
       "      <td>mores</td>\n",
       "      <td>mores, meros, smore</td>\n",
       "      <td>3</td>\n",
       "    </tr>\n",
       "    <tr>\n",
       "      <th>164</th>\n",
       "      <td>ofter</td>\n",
       "      <td>ofter, fetor, frote</td>\n",
       "      <td>3</td>\n",
       "    </tr>\n",
       "    <tr>\n",
       "      <th>174</th>\n",
       "      <td>pacer</td>\n",
       "      <td>pacer, crape, perca</td>\n",
       "      <td>3</td>\n",
       "    </tr>\n",
       "    <tr>\n",
       "      <th>176</th>\n",
       "      <td>palet</td>\n",
       "      <td>palet, pelta, tepal</td>\n",
       "      <td>3</td>\n",
       "    </tr>\n",
       "    <tr>\n",
       "      <th>179</th>\n",
       "      <td>panel</td>\n",
       "      <td>panel, penal, alpen</td>\n",
       "      <td>3</td>\n",
       "    </tr>\n",
       "    <tr>\n",
       "      <th>180</th>\n",
       "      <td>parse</td>\n",
       "      <td>parse, prase, asper</td>\n",
       "      <td>3</td>\n",
       "    </tr>\n",
       "    <tr>\n",
       "      <th>186</th>\n",
       "      <td>penis</td>\n",
       "      <td>penis, spine, snipe</td>\n",
       "      <td>3</td>\n",
       "    </tr>\n",
       "    <tr>\n",
       "      <th>206</th>\n",
       "      <td>porte</td>\n",
       "      <td>porte, toper, tepor</td>\n",
       "      <td>3</td>\n",
       "    </tr>\n",
       "    <tr>\n",
       "      <th>227</th>\n",
       "      <td>sapor</td>\n",
       "      <td>sapor, sopra, sarpo</td>\n",
       "      <td>3</td>\n",
       "    </tr>\n",
       "    <tr>\n",
       "      <th>229</th>\n",
       "      <td>satle</td>\n",
       "      <td>satle, stela, astel</td>\n",
       "      <td>3</td>\n",
       "    </tr>\n",
       "    <tr>\n",
       "      <th>235</th>\n",
       "      <td>scoat</td>\n",
       "      <td>scoat, catso, tasco</td>\n",
       "      <td>3</td>\n",
       "    </tr>\n",
       "    <tr>\n",
       "      <th>237</th>\n",
       "      <td>scrap</td>\n",
       "      <td>scrap, craps, scarp</td>\n",
       "      <td>3</td>\n",
       "    </tr>\n",
       "    <tr>\n",
       "      <th>240</th>\n",
       "      <td>serac</td>\n",
       "      <td>serac, crase, carse</td>\n",
       "      <td>3</td>\n",
       "    </tr>\n",
       "    <tr>\n",
       "      <th>242</th>\n",
       "      <td>shale</td>\n",
       "      <td>shale, selah, sheal</td>\n",
       "      <td>3</td>\n",
       "    </tr>\n",
       "    <tr>\n",
       "      <th>256</th>\n",
       "      <td>slape</td>\n",
       "      <td>slape, salep, sepal</td>\n",
       "      <td>3</td>\n",
       "    </tr>\n",
       "    <tr>\n",
       "      <th>260</th>\n",
       "      <td>slide</td>\n",
       "      <td>slide, sidle, sleid</td>\n",
       "      <td>3</td>\n",
       "    </tr>\n",
       "    <tr>\n",
       "      <th>264</th>\n",
       "      <td>smite</td>\n",
       "      <td>smite, stime, setim</td>\n",
       "      <td>3</td>\n",
       "    </tr>\n",
       "    <tr>\n",
       "      <th>267</th>\n",
       "      <td>snape</td>\n",
       "      <td>snape, sneap, spane</td>\n",
       "      <td>3</td>\n",
       "    </tr>\n",
       "    <tr>\n",
       "      <th>268</th>\n",
       "      <td>sneak</td>\n",
       "      <td>sneak, snake, skean</td>\n",
       "      <td>3</td>\n",
       "    </tr>\n",
       "    <tr>\n",
       "      <th>281</th>\n",
       "      <td>spire</td>\n",
       "      <td>spire, prise, speir</td>\n",
       "      <td>3</td>\n",
       "    </tr>\n",
       "    <tr>\n",
       "      <th>285</th>\n",
       "      <td>sprit</td>\n",
       "      <td>sprit, spirt, stirp</td>\n",
       "      <td>3</td>\n",
       "    </tr>\n",
       "    <tr>\n",
       "      <th>286</th>\n",
       "      <td>stain</td>\n",
       "      <td>stain, satin, stian</td>\n",
       "      <td>3</td>\n",
       "    </tr>\n",
       "    <tr>\n",
       "      <th>304</th>\n",
       "      <td>stray</td>\n",
       "      <td>stray, trays, satyr</td>\n",
       "      <td>3</td>\n",
       "    </tr>\n",
       "    <tr>\n",
       "      <th>311</th>\n",
       "      <td>super</td>\n",
       "      <td>super, purse, sprue</td>\n",
       "      <td>3</td>\n",
       "    </tr>\n",
       "    <tr>\n",
       "      <th>317</th>\n",
       "      <td>swine</td>\n",
       "      <td>swine, sinew, sewin</td>\n",
       "      <td>3</td>\n",
       "    </tr>\n",
       "    <tr>\n",
       "      <th>319</th>\n",
       "      <td>swore</td>\n",
       "      <td>swore, sower, sorwe</td>\n",
       "      <td>3</td>\n",
       "    </tr>\n",
       "    <tr>\n",
       "      <th>323</th>\n",
       "      <td>tamer</td>\n",
       "      <td>tamer, armet, terma</td>\n",
       "      <td>3</td>\n",
       "    </tr>\n",
       "    <tr>\n",
       "      <th>329</th>\n",
       "      <td>tarsi</td>\n",
       "      <td>tarsi, arist, trias</td>\n",
       "      <td>3</td>\n",
       "    </tr>\n",
       "    <tr>\n",
       "      <th>331</th>\n",
       "      <td>teach</td>\n",
       "      <td>teach, cheat, tache</td>\n",
       "      <td>3</td>\n",
       "    </tr>\n",
       "    <tr>\n",
       "      <th>336</th>\n",
       "      <td>those</td>\n",
       "      <td>those, shote, sothe</td>\n",
       "      <td>3</td>\n",
       "    </tr>\n",
       "    <tr>\n",
       "      <th>347</th>\n",
       "      <td>torus</td>\n",
       "      <td>torus, sutor, stour</td>\n",
       "      <td>3</td>\n",
       "    </tr>\n",
       "    <tr>\n",
       "      <th>348</th>\n",
       "      <td>touch</td>\n",
       "      <td>touch, couth, chout</td>\n",
       "      <td>3</td>\n",
       "    </tr>\n",
       "    <tr>\n",
       "      <th>351</th>\n",
       "      <td>trade</td>\n",
       "      <td>trade, tread, tared</td>\n",
       "      <td>3</td>\n",
       "    </tr>\n",
       "    <tr>\n",
       "      <th>352</th>\n",
       "      <td>train</td>\n",
       "      <td>train, tarin, tairn</td>\n",
       "      <td>3</td>\n",
       "    </tr>\n",
       "    <tr>\n",
       "      <th>353</th>\n",
       "      <td>trape</td>\n",
       "      <td>trape, apert, peart</td>\n",
       "      <td>3</td>\n",
       "    </tr>\n",
       "    <tr>\n",
       "      <th>359</th>\n",
       "      <td>tried</td>\n",
       "      <td>tried, tired, tride</td>\n",
       "      <td>3</td>\n",
       "    </tr>\n",
       "    <tr>\n",
       "      <th>365</th>\n",
       "      <td>typal</td>\n",
       "      <td>typal, platy, patly</td>\n",
       "      <td>3</td>\n",
       "    </tr>\n",
       "    <tr>\n",
       "      <th>368</th>\n",
       "      <td>wares</td>\n",
       "      <td>wares, sware, sawer</td>\n",
       "      <td>3</td>\n",
       "    </tr>\n",
       "    <tr>\n",
       "      <th>369</th>\n",
       "      <td>waste</td>\n",
       "      <td>waste, sweat, swate</td>\n",
       "      <td>3</td>\n",
       "    </tr>\n",
       "    <tr>\n",
       "      <th>382</th>\n",
       "      <td>worth</td>\n",
       "      <td>worth, wroth, whort</td>\n",
       "      <td>3</td>\n",
       "    </tr>\n",
       "  </tbody>\n",
       "</table>\n",
       "</div>"
      ],
      "text/plain": [
       "      word             anagrams  num_anagrams\n",
       "11   alien  alien, aline, anile             3\n",
       "22   ample  ample, maple, pelma             3\n",
       "30   argol  argol, algor, orgal             3\n",
       "31   argon  argon, orang, angor             3\n",
       "32   aries  aries, serai, aesir             3\n",
       "39   aster  aster, tarse, arest             3\n",
       "44   cadre  cadre, acred, cader             3\n",
       "50   caple  caple, capel, clape             3\n",
       "55   cater  cater, creat, caret             3\n",
       "103  cupel  cupel, pucel, pecul             3\n",
       "117  flare  flare, feral, flear             3\n",
       "120  float  float, aloft, flota             3\n",
       "128  freya  freya, faery, arefy             3\n",
       "130  inset  inset, seint, snite             3\n",
       "132  inter  inter, trine, terin             3\n",
       "134  islet  islet, stile, istle             3\n",
       "135  maine  maine, amine, manie             3\n",
       "149  merit  merit, timer, mitre             3\n",
       "154  moira  moira, maori, moria             3\n",
       "157  mores  mores, meros, smore             3\n",
       "164  ofter  ofter, fetor, frote             3\n",
       "174  pacer  pacer, crape, perca             3\n",
       "176  palet  palet, pelta, tepal             3\n",
       "179  panel  panel, penal, alpen             3\n",
       "180  parse  parse, prase, asper             3\n",
       "186  penis  penis, spine, snipe             3\n",
       "206  porte  porte, toper, tepor             3\n",
       "227  sapor  sapor, sopra, sarpo             3\n",
       "229  satle  satle, stela, astel             3\n",
       "235  scoat  scoat, catso, tasco             3\n",
       "237  scrap  scrap, craps, scarp             3\n",
       "240  serac  serac, crase, carse             3\n",
       "242  shale  shale, selah, sheal             3\n",
       "256  slape  slape, salep, sepal             3\n",
       "260  slide  slide, sidle, sleid             3\n",
       "264  smite  smite, stime, setim             3\n",
       "267  snape  snape, sneap, spane             3\n",
       "268  sneak  sneak, snake, skean             3\n",
       "281  spire  spire, prise, speir             3\n",
       "285  sprit  sprit, spirt, stirp             3\n",
       "286  stain  stain, satin, stian             3\n",
       "304  stray  stray, trays, satyr             3\n",
       "311  super  super, purse, sprue             3\n",
       "317  swine  swine, sinew, sewin             3\n",
       "319  swore  swore, sower, sorwe             3\n",
       "323  tamer  tamer, armet, terma             3\n",
       "329  tarsi  tarsi, arist, trias             3\n",
       "331  teach  teach, cheat, tache             3\n",
       "336  those  those, shote, sothe             3\n",
       "347  torus  torus, sutor, stour             3\n",
       "348  touch  touch, couth, chout             3\n",
       "351  trade  trade, tread, tared             3\n",
       "352  train  train, tarin, tairn             3\n",
       "353  trape  trape, apert, peart             3\n",
       "359  tried  tried, tired, tride             3\n",
       "365  typal  typal, platy, patly             3\n",
       "368  wares  wares, sware, sawer             3\n",
       "369  waste  waste, sweat, swate             3\n",
       "382  worth  worth, wroth, whort             3"
      ]
     },
     "execution_count": 24,
     "metadata": {},
     "output_type": "execute_result"
    }
   ],
   "source": [
    "anagrams.loc[anagrams[\"num_anagrams\"] == 3]"
   ]
  },
  {
   "cell_type": "code",
   "execution_count": null,
   "id": "ab2d349e",
   "metadata": {},
   "outputs": [],
   "source": []
  },
  {
   "cell_type": "code",
   "execution_count": 25,
   "id": "9db1ef01",
   "metadata": {
    "ExecuteTime": {
     "end_time": "2022-03-21T15:48:12.127366Z",
     "start_time": "2022-03-21T15:48:12.123194Z"
    }
   },
   "outputs": [
    {
     "data": {
      "text/plain": [
       "['steal', 'tales', 'slate', 'stale', 'satle', 'stela', 'astel']"
      ]
     },
     "execution_count": 25,
     "metadata": {},
     "output_type": "execute_result"
    }
   ],
   "source": [
    "words = my_list_of_anagrams[index_loc[0][0]]\n",
    "words"
   ]
  },
  {
   "cell_type": "code",
   "execution_count": 26,
   "id": "b62bf6b8",
   "metadata": {
    "ExecuteTime": {
     "end_time": "2022-03-21T15:48:12.134003Z",
     "start_time": "2022-03-21T15:48:12.129273Z"
    }
   },
   "outputs": [
    {
     "data": {
      "text/plain": [
       "['steal', 'tales', 'slate', 'stale', 'satle', 'stela', 'astel']"
      ]
     },
     "execution_count": 26,
     "metadata": {},
     "output_type": "execute_result"
    }
   ],
   "source": [
    "guesses = my_list_of_anagrams[index_loc[0][0]]\n",
    "guesses"
   ]
  },
  {
   "cell_type": "code",
   "execution_count": 27,
   "id": "ce17f13d",
   "metadata": {
    "ExecuteTime": {
     "end_time": "2022-03-21T15:48:12.158158Z",
     "start_time": "2022-03-21T15:48:12.142429Z"
    }
   },
   "outputs": [
    {
     "data": {
      "text/html": [
       "<div>\n",
       "<style scoped>\n",
       "    .dataframe tbody tr th:only-of-type {\n",
       "        vertical-align: middle;\n",
       "    }\n",
       "\n",
       "    .dataframe tbody tr th {\n",
       "        vertical-align: top;\n",
       "    }\n",
       "\n",
       "    .dataframe thead th {\n",
       "        text-align: right;\n",
       "    }\n",
       "</style>\n",
       "<table border=\"1\" class=\"dataframe\">\n",
       "  <thead>\n",
       "    <tr style=\"text-align: right;\">\n",
       "      <th></th>\n",
       "      <th>challenge_word</th>\n",
       "      <th>guess</th>\n",
       "      <th>positional_scores</th>\n",
       "    </tr>\n",
       "  </thead>\n",
       "  <tbody>\n",
       "    <tr>\n",
       "      <th>0</th>\n",
       "      <td>steal</td>\n",
       "      <td>steal</td>\n",
       "      <td>1 1 1 1 1</td>\n",
       "    </tr>\n",
       "    <tr>\n",
       "      <th>1</th>\n",
       "      <td>tales</td>\n",
       "      <td>steal</td>\n",
       "      <td>0 0 0 0 0</td>\n",
       "    </tr>\n",
       "    <tr>\n",
       "      <th>2</th>\n",
       "      <td>slate</td>\n",
       "      <td>steal</td>\n",
       "      <td>1 0 0 0 0</td>\n",
       "    </tr>\n",
       "    <tr>\n",
       "      <th>3</th>\n",
       "      <td>stale</td>\n",
       "      <td>steal</td>\n",
       "      <td>1 1 0 0 0</td>\n",
       "    </tr>\n",
       "    <tr>\n",
       "      <th>4</th>\n",
       "      <td>satle</td>\n",
       "      <td>steal</td>\n",
       "      <td>1 0 0 0 0</td>\n",
       "    </tr>\n",
       "    <tr>\n",
       "      <th>5</th>\n",
       "      <td>stela</td>\n",
       "      <td>steal</td>\n",
       "      <td>1 1 1 0 0</td>\n",
       "    </tr>\n",
       "    <tr>\n",
       "      <th>6</th>\n",
       "      <td>astel</td>\n",
       "      <td>steal</td>\n",
       "      <td>0 0 0 0 1</td>\n",
       "    </tr>\n",
       "    <tr>\n",
       "      <th>7</th>\n",
       "      <td>steal</td>\n",
       "      <td>tales</td>\n",
       "      <td>0 0 0 0 0</td>\n",
       "    </tr>\n",
       "    <tr>\n",
       "      <th>8</th>\n",
       "      <td>tales</td>\n",
       "      <td>tales</td>\n",
       "      <td>1 1 1 1 1</td>\n",
       "    </tr>\n",
       "    <tr>\n",
       "      <th>9</th>\n",
       "      <td>slate</td>\n",
       "      <td>tales</td>\n",
       "      <td>0 0 0 0 0</td>\n",
       "    </tr>\n",
       "    <tr>\n",
       "      <th>10</th>\n",
       "      <td>stale</td>\n",
       "      <td>tales</td>\n",
       "      <td>0 0 0 0 0</td>\n",
       "    </tr>\n",
       "    <tr>\n",
       "      <th>11</th>\n",
       "      <td>satle</td>\n",
       "      <td>tales</td>\n",
       "      <td>0 1 0 0 0</td>\n",
       "    </tr>\n",
       "    <tr>\n",
       "      <th>12</th>\n",
       "      <td>stela</td>\n",
       "      <td>tales</td>\n",
       "      <td>0 0 0 0 0</td>\n",
       "    </tr>\n",
       "    <tr>\n",
       "      <th>13</th>\n",
       "      <td>astel</td>\n",
       "      <td>tales</td>\n",
       "      <td>0 0 0 1 0</td>\n",
       "    </tr>\n",
       "    <tr>\n",
       "      <th>14</th>\n",
       "      <td>steal</td>\n",
       "      <td>slate</td>\n",
       "      <td>1 0 0 0 0</td>\n",
       "    </tr>\n",
       "    <tr>\n",
       "      <th>15</th>\n",
       "      <td>tales</td>\n",
       "      <td>slate</td>\n",
       "      <td>0 0 0 0 0</td>\n",
       "    </tr>\n",
       "    <tr>\n",
       "      <th>16</th>\n",
       "      <td>slate</td>\n",
       "      <td>slate</td>\n",
       "      <td>1 1 1 1 1</td>\n",
       "    </tr>\n",
       "    <tr>\n",
       "      <th>17</th>\n",
       "      <td>stale</td>\n",
       "      <td>slate</td>\n",
       "      <td>1 0 1 0 1</td>\n",
       "    </tr>\n",
       "    <tr>\n",
       "      <th>18</th>\n",
       "      <td>satle</td>\n",
       "      <td>slate</td>\n",
       "      <td>1 0 0 0 1</td>\n",
       "    </tr>\n",
       "    <tr>\n",
       "      <th>19</th>\n",
       "      <td>stela</td>\n",
       "      <td>slate</td>\n",
       "      <td>1 0 0 0 0</td>\n",
       "    </tr>\n",
       "    <tr>\n",
       "      <th>20</th>\n",
       "      <td>astel</td>\n",
       "      <td>slate</td>\n",
       "      <td>0 0 0 0 0</td>\n",
       "    </tr>\n",
       "    <tr>\n",
       "      <th>21</th>\n",
       "      <td>steal</td>\n",
       "      <td>stale</td>\n",
       "      <td>1 1 0 0 0</td>\n",
       "    </tr>\n",
       "    <tr>\n",
       "      <th>22</th>\n",
       "      <td>tales</td>\n",
       "      <td>stale</td>\n",
       "      <td>0 0 0 0 0</td>\n",
       "    </tr>\n",
       "    <tr>\n",
       "      <th>23</th>\n",
       "      <td>slate</td>\n",
       "      <td>stale</td>\n",
       "      <td>1 0 1 0 1</td>\n",
       "    </tr>\n",
       "    <tr>\n",
       "      <th>24</th>\n",
       "      <td>stale</td>\n",
       "      <td>stale</td>\n",
       "      <td>1 1 1 1 1</td>\n",
       "    </tr>\n",
       "    <tr>\n",
       "      <th>25</th>\n",
       "      <td>satle</td>\n",
       "      <td>stale</td>\n",
       "      <td>1 0 0 1 1</td>\n",
       "    </tr>\n",
       "    <tr>\n",
       "      <th>26</th>\n",
       "      <td>stela</td>\n",
       "      <td>stale</td>\n",
       "      <td>1 1 0 1 0</td>\n",
       "    </tr>\n",
       "    <tr>\n",
       "      <th>27</th>\n",
       "      <td>astel</td>\n",
       "      <td>stale</td>\n",
       "      <td>0 0 0 0 0</td>\n",
       "    </tr>\n",
       "    <tr>\n",
       "      <th>28</th>\n",
       "      <td>steal</td>\n",
       "      <td>satle</td>\n",
       "      <td>1 0 0 0 0</td>\n",
       "    </tr>\n",
       "    <tr>\n",
       "      <th>29</th>\n",
       "      <td>tales</td>\n",
       "      <td>satle</td>\n",
       "      <td>0 1 0 0 0</td>\n",
       "    </tr>\n",
       "    <tr>\n",
       "      <th>30</th>\n",
       "      <td>slate</td>\n",
       "      <td>satle</td>\n",
       "      <td>1 0 0 0 1</td>\n",
       "    </tr>\n",
       "    <tr>\n",
       "      <th>31</th>\n",
       "      <td>stale</td>\n",
       "      <td>satle</td>\n",
       "      <td>1 0 0 1 1</td>\n",
       "    </tr>\n",
       "    <tr>\n",
       "      <th>32</th>\n",
       "      <td>satle</td>\n",
       "      <td>satle</td>\n",
       "      <td>1 1 1 1 1</td>\n",
       "    </tr>\n",
       "    <tr>\n",
       "      <th>33</th>\n",
       "      <td>stela</td>\n",
       "      <td>satle</td>\n",
       "      <td>1 0 0 1 0</td>\n",
       "    </tr>\n",
       "    <tr>\n",
       "      <th>34</th>\n",
       "      <td>astel</td>\n",
       "      <td>satle</td>\n",
       "      <td>0 0 1 0 0</td>\n",
       "    </tr>\n",
       "    <tr>\n",
       "      <th>35</th>\n",
       "      <td>steal</td>\n",
       "      <td>stela</td>\n",
       "      <td>1 1 1 0 0</td>\n",
       "    </tr>\n",
       "    <tr>\n",
       "      <th>36</th>\n",
       "      <td>tales</td>\n",
       "      <td>stela</td>\n",
       "      <td>0 0 0 0 0</td>\n",
       "    </tr>\n",
       "    <tr>\n",
       "      <th>37</th>\n",
       "      <td>slate</td>\n",
       "      <td>stela</td>\n",
       "      <td>1 0 0 0 0</td>\n",
       "    </tr>\n",
       "    <tr>\n",
       "      <th>38</th>\n",
       "      <td>stale</td>\n",
       "      <td>stela</td>\n",
       "      <td>1 1 0 1 0</td>\n",
       "    </tr>\n",
       "    <tr>\n",
       "      <th>39</th>\n",
       "      <td>satle</td>\n",
       "      <td>stela</td>\n",
       "      <td>1 0 0 1 0</td>\n",
       "    </tr>\n",
       "    <tr>\n",
       "      <th>40</th>\n",
       "      <td>stela</td>\n",
       "      <td>stela</td>\n",
       "      <td>1 1 1 1 1</td>\n",
       "    </tr>\n",
       "    <tr>\n",
       "      <th>41</th>\n",
       "      <td>astel</td>\n",
       "      <td>stela</td>\n",
       "      <td>0 0 0 0 0</td>\n",
       "    </tr>\n",
       "    <tr>\n",
       "      <th>42</th>\n",
       "      <td>steal</td>\n",
       "      <td>astel</td>\n",
       "      <td>0 0 0 0 1</td>\n",
       "    </tr>\n",
       "    <tr>\n",
       "      <th>43</th>\n",
       "      <td>tales</td>\n",
       "      <td>astel</td>\n",
       "      <td>0 0 0 1 0</td>\n",
       "    </tr>\n",
       "    <tr>\n",
       "      <th>44</th>\n",
       "      <td>slate</td>\n",
       "      <td>astel</td>\n",
       "      <td>0 0 0 0 0</td>\n",
       "    </tr>\n",
       "    <tr>\n",
       "      <th>45</th>\n",
       "      <td>stale</td>\n",
       "      <td>astel</td>\n",
       "      <td>0 0 0 0 0</td>\n",
       "    </tr>\n",
       "    <tr>\n",
       "      <th>46</th>\n",
       "      <td>satle</td>\n",
       "      <td>astel</td>\n",
       "      <td>0 0 1 0 0</td>\n",
       "    </tr>\n",
       "    <tr>\n",
       "      <th>47</th>\n",
       "      <td>stela</td>\n",
       "      <td>astel</td>\n",
       "      <td>0 0 0 0 0</td>\n",
       "    </tr>\n",
       "    <tr>\n",
       "      <th>48</th>\n",
       "      <td>astel</td>\n",
       "      <td>astel</td>\n",
       "      <td>1 1 1 1 1</td>\n",
       "    </tr>\n",
       "  </tbody>\n",
       "</table>\n",
       "</div>"
      ],
      "text/plain": [
       "   challenge_word  guess positional_scores\n",
       "0           steal  steal         1 1 1 1 1\n",
       "1           tales  steal         0 0 0 0 0\n",
       "2           slate  steal         1 0 0 0 0\n",
       "3           stale  steal         1 1 0 0 0\n",
       "4           satle  steal         1 0 0 0 0\n",
       "5           stela  steal         1 1 1 0 0\n",
       "6           astel  steal         0 0 0 0 1\n",
       "7           steal  tales         0 0 0 0 0\n",
       "8           tales  tales         1 1 1 1 1\n",
       "9           slate  tales         0 0 0 0 0\n",
       "10          stale  tales         0 0 0 0 0\n",
       "11          satle  tales         0 1 0 0 0\n",
       "12          stela  tales         0 0 0 0 0\n",
       "13          astel  tales         0 0 0 1 0\n",
       "14          steal  slate         1 0 0 0 0\n",
       "15          tales  slate         0 0 0 0 0\n",
       "16          slate  slate         1 1 1 1 1\n",
       "17          stale  slate         1 0 1 0 1\n",
       "18          satle  slate         1 0 0 0 1\n",
       "19          stela  slate         1 0 0 0 0\n",
       "20          astel  slate         0 0 0 0 0\n",
       "21          steal  stale         1 1 0 0 0\n",
       "22          tales  stale         0 0 0 0 0\n",
       "23          slate  stale         1 0 1 0 1\n",
       "24          stale  stale         1 1 1 1 1\n",
       "25          satle  stale         1 0 0 1 1\n",
       "26          stela  stale         1 1 0 1 0\n",
       "27          astel  stale         0 0 0 0 0\n",
       "28          steal  satle         1 0 0 0 0\n",
       "29          tales  satle         0 1 0 0 0\n",
       "30          slate  satle         1 0 0 0 1\n",
       "31          stale  satle         1 0 0 1 1\n",
       "32          satle  satle         1 1 1 1 1\n",
       "33          stela  satle         1 0 0 1 0\n",
       "34          astel  satle         0 0 1 0 0\n",
       "35          steal  stela         1 1 1 0 0\n",
       "36          tales  stela         0 0 0 0 0\n",
       "37          slate  stela         1 0 0 0 0\n",
       "38          stale  stela         1 1 0 1 0\n",
       "39          satle  stela         1 0 0 1 0\n",
       "40          stela  stela         1 1 1 1 1\n",
       "41          astel  stela         0 0 0 0 0\n",
       "42          steal  astel         0 0 0 0 1\n",
       "43          tales  astel         0 0 0 1 0\n",
       "44          slate  astel         0 0 0 0 0\n",
       "45          stale  astel         0 0 0 0 0\n",
       "46          satle  astel         0 0 1 0 0\n",
       "47          stela  astel         0 0 0 0 0\n",
       "48          astel  astel         1 1 1 1 1"
      ]
     },
     "execution_count": 27,
     "metadata": {},
     "output_type": "execute_result"
    }
   ],
   "source": [
    "data2 = []\n",
    "for guess in guesses:\n",
    "    for word in words:\n",
    "        paired_guess_word = zip(word, guess)\n",
    "        score = np.zeros(5, dtype=np.int8)\n",
    "        for x, (i, j) in enumerate(paired_guess_word):\n",
    "            if i == j:\n",
    "                score[x] = 1\n",
    "            elif i != j and j in word:\n",
    "                score[x] = 0\n",
    "            else:\n",
    "                score[x] = -1\n",
    "            \n",
    "        temp2 = {\n",
    "            \"challenge_word\": word,\n",
    "            \"guess\": guess,\n",
    "            \"positional_scores\": re.sub(r\"[\\[\\]]\", \"\", str(score)).replace(\"\\n\", \",\"),\n",
    "        }\n",
    "        data2.append(temp2)\n",
    "df2 = pd.DataFrame(data2)\n",
    "df2"
   ]
  },
  {
   "cell_type": "markdown",
   "id": "42b25dcf",
   "metadata": {},
   "source": [
    "### Scoring each anagram against itself"
   ]
  },
  {
   "cell_type": "code",
   "execution_count": 28,
   "id": "d75154d9",
   "metadata": {
    "ExecuteTime": {
     "end_time": "2022-03-21T15:48:12.162570Z",
     "start_time": "2022-03-21T15:48:12.159623Z"
    }
   },
   "outputs": [
    {
     "name": "stdout",
     "output_type": "stream",
     "text": [
      "['steal', 'tales', 'slate', 'stale', 'satle', 'stela', 'astel']\n",
      "['steal', 'tales', 'slate', 'stale', 'satle', 'stela', 'astel']\n"
     ]
    }
   ],
   "source": [
    "print(guesses)\n",
    "print(words)"
   ]
  },
  {
   "cell_type": "code",
   "execution_count": 29,
   "id": "bf886be6",
   "metadata": {
    "ExecuteTime": {
     "end_time": "2022-03-21T15:48:12.167511Z",
     "start_time": "2022-03-21T15:48:12.164150Z"
    }
   },
   "outputs": [
    {
     "data": {
      "text/plain": [
       "7"
      ]
     },
     "execution_count": 29,
     "metadata": {},
     "output_type": "execute_result"
    }
   ],
   "source": [
    "len(guesses)"
   ]
  },
  {
   "cell_type": "code",
   "execution_count": 30,
   "id": "cc2aaf54",
   "metadata": {
    "ExecuteTime": {
     "end_time": "2022-03-21T15:48:12.178770Z",
     "start_time": "2022-03-21T15:48:12.169806Z"
    }
   },
   "outputs": [],
   "source": [
    "data3 = []\n",
    "num_guesses = len(words)\n",
    "counter = 0\n",
    "\n",
    "while counter < num_guesses:\n",
    "    for word in words:\n",
    "        guess = words[counter]\n",
    "        combo_guess_word = zip(guess, word)\n",
    "        scores = np.zeros(5, dtype=np.int8)\n",
    "        for x, (i, j) in enumerate(combo_guess_word):\n",
    "            if i == j:\n",
    "                scores[x] = 1\n",
    "            elif i != j and j in word:\n",
    "                scores[x] = 0\n",
    "            else:\n",
    "                scores[x] = -1\n",
    "        data3.append(re.sub(r\"[\\[\\]]\", \"\", str(scores)).replace(\"\\n\", \",\"))\n",
    "    counter += 1   \n"
   ]
  },
  {
   "cell_type": "code",
   "execution_count": 31,
   "id": "880232c4",
   "metadata": {
    "ExecuteTime": {
     "end_time": "2022-03-21T15:48:12.184142Z",
     "start_time": "2022-03-21T15:48:12.180186Z"
    }
   },
   "outputs": [
    {
     "data": {
      "text/plain": [
       "['1 1 1 1 1',\n",
       " '0 0 0 0 0',\n",
       " '1 0 0 0 0',\n",
       " '1 1 0 0 0',\n",
       " '1 0 0 0 0',\n",
       " '1 1 1 0 0',\n",
       " '0 0 0 0 1']"
      ]
     },
     "execution_count": 31,
     "metadata": {},
     "output_type": "execute_result"
    }
   ],
   "source": [
    "data3[:7]"
   ]
  },
  {
   "cell_type": "code",
   "execution_count": 32,
   "id": "d17e82c5",
   "metadata": {
    "ExecuteTime": {
     "end_time": "2022-03-21T15:48:12.190134Z",
     "start_time": "2022-03-21T15:48:12.186123Z"
    }
   },
   "outputs": [
    {
     "data": {
      "text/plain": [
       "(49, 7)"
      ]
     },
     "execution_count": 32,
     "metadata": {},
     "output_type": "execute_result"
    }
   ],
   "source": [
    "len(data3), num_guesses"
   ]
  },
  {
   "cell_type": "code",
   "execution_count": 33,
   "id": "c6e1d1c1",
   "metadata": {
    "ExecuteTime": {
     "end_time": "2022-03-21T15:48:12.196140Z",
     "start_time": "2022-03-21T15:48:12.191648Z"
    }
   },
   "outputs": [
    {
     "data": {
      "text/plain": [
       "array([['1 1 1 1 1', '0 0 0 0 0', '1 0 0 0 0', '1 1 0 0 0', '1 0 0 0 0',\n",
       "        '1 1 1 0 0', '0 0 0 0 1'],\n",
       "       ['0 0 0 0 0', '1 1 1 1 1', '0 0 0 0 0', '0 0 0 0 0', '0 1 0 0 0',\n",
       "        '0 0 0 0 0', '0 0 0 1 0'],\n",
       "       ['1 0 0 0 0', '0 0 0 0 0', '1 1 1 1 1', '1 0 1 0 1', '1 0 0 0 1',\n",
       "        '1 0 0 0 0', '0 0 0 0 0'],\n",
       "       ['1 1 0 0 0', '0 0 0 0 0', '1 0 1 0 1', '1 1 1 1 1', '1 0 0 1 1',\n",
       "        '1 1 0 1 0', '0 0 0 0 0'],\n",
       "       ['1 0 0 0 0', '0 1 0 0 0', '1 0 0 0 1', '1 0 0 1 1', '1 1 1 1 1',\n",
       "        '1 0 0 1 0', '0 0 1 0 0'],\n",
       "       ['1 1 1 0 0', '0 0 0 0 0', '1 0 0 0 0', '1 1 0 1 0', '1 0 0 1 0',\n",
       "        '1 1 1 1 1', '0 0 0 0 0'],\n",
       "       ['0 0 0 0 1', '0 0 0 1 0', '0 0 0 0 0', '0 0 0 0 0', '0 0 1 0 0',\n",
       "        '0 0 0 0 0', '1 1 1 1 1']], dtype='<U9')"
      ]
     },
     "execution_count": 33,
     "metadata": {},
     "output_type": "execute_result"
    }
   ],
   "source": [
    "# Every 7th value (num guesses) in data3 represents the next guess word scored against the challenge word\n",
    "# so we can reshape data3 to be a 7x7 array\n",
    "np.array(data3).reshape(num_guesses, num_guesses)"
   ]
  },
  {
   "cell_type": "code",
   "execution_count": 34,
   "id": "f4948a12",
   "metadata": {
    "ExecuteTime": {
     "end_time": "2022-03-21T15:48:12.201612Z",
     "start_time": "2022-03-21T15:48:12.198525Z"
    }
   },
   "outputs": [],
   "source": [
    "df3 = pd.DataFrame(np.array(data3).reshape(7, 7), columns=words, index=guesses)"
   ]
  },
  {
   "cell_type": "code",
   "execution_count": 35,
   "id": "1b0b2962",
   "metadata": {
    "ExecuteTime": {
     "end_time": "2022-03-21T15:48:12.214675Z",
     "start_time": "2022-03-21T15:48:12.203979Z"
    }
   },
   "outputs": [
    {
     "data": {
      "text/html": [
       "<div>\n",
       "<style scoped>\n",
       "    .dataframe tbody tr th:only-of-type {\n",
       "        vertical-align: middle;\n",
       "    }\n",
       "\n",
       "    .dataframe tbody tr th {\n",
       "        vertical-align: top;\n",
       "    }\n",
       "\n",
       "    .dataframe thead th {\n",
       "        text-align: right;\n",
       "    }\n",
       "</style>\n",
       "<table border=\"1\" class=\"dataframe\">\n",
       "  <thead>\n",
       "    <tr style=\"text-align: right;\">\n",
       "      <th></th>\n",
       "      <th>steal</th>\n",
       "      <th>tales</th>\n",
       "      <th>slate</th>\n",
       "      <th>stale</th>\n",
       "      <th>satle</th>\n",
       "      <th>stela</th>\n",
       "      <th>astel</th>\n",
       "    </tr>\n",
       "  </thead>\n",
       "  <tbody>\n",
       "    <tr>\n",
       "      <th>steal</th>\n",
       "      <td>1 1 1 1 1</td>\n",
       "      <td>0 0 0 0 0</td>\n",
       "      <td>1 0 0 0 0</td>\n",
       "      <td>1 1 0 0 0</td>\n",
       "      <td>1 0 0 0 0</td>\n",
       "      <td>1 1 1 0 0</td>\n",
       "      <td>0 0 0 0 1</td>\n",
       "    </tr>\n",
       "    <tr>\n",
       "      <th>tales</th>\n",
       "      <td>0 0 0 0 0</td>\n",
       "      <td>1 1 1 1 1</td>\n",
       "      <td>0 0 0 0 0</td>\n",
       "      <td>0 0 0 0 0</td>\n",
       "      <td>0 1 0 0 0</td>\n",
       "      <td>0 0 0 0 0</td>\n",
       "      <td>0 0 0 1 0</td>\n",
       "    </tr>\n",
       "    <tr>\n",
       "      <th>slate</th>\n",
       "      <td>1 0 0 0 0</td>\n",
       "      <td>0 0 0 0 0</td>\n",
       "      <td>1 1 1 1 1</td>\n",
       "      <td>1 0 1 0 1</td>\n",
       "      <td>1 0 0 0 1</td>\n",
       "      <td>1 0 0 0 0</td>\n",
       "      <td>0 0 0 0 0</td>\n",
       "    </tr>\n",
       "    <tr>\n",
       "      <th>stale</th>\n",
       "      <td>1 1 0 0 0</td>\n",
       "      <td>0 0 0 0 0</td>\n",
       "      <td>1 0 1 0 1</td>\n",
       "      <td>1 1 1 1 1</td>\n",
       "      <td>1 0 0 1 1</td>\n",
       "      <td>1 1 0 1 0</td>\n",
       "      <td>0 0 0 0 0</td>\n",
       "    </tr>\n",
       "    <tr>\n",
       "      <th>satle</th>\n",
       "      <td>1 0 0 0 0</td>\n",
       "      <td>0 1 0 0 0</td>\n",
       "      <td>1 0 0 0 1</td>\n",
       "      <td>1 0 0 1 1</td>\n",
       "      <td>1 1 1 1 1</td>\n",
       "      <td>1 0 0 1 0</td>\n",
       "      <td>0 0 1 0 0</td>\n",
       "    </tr>\n",
       "    <tr>\n",
       "      <th>stela</th>\n",
       "      <td>1 1 1 0 0</td>\n",
       "      <td>0 0 0 0 0</td>\n",
       "      <td>1 0 0 0 0</td>\n",
       "      <td>1 1 0 1 0</td>\n",
       "      <td>1 0 0 1 0</td>\n",
       "      <td>1 1 1 1 1</td>\n",
       "      <td>0 0 0 0 0</td>\n",
       "    </tr>\n",
       "    <tr>\n",
       "      <th>astel</th>\n",
       "      <td>0 0 0 0 1</td>\n",
       "      <td>0 0 0 1 0</td>\n",
       "      <td>0 0 0 0 0</td>\n",
       "      <td>0 0 0 0 0</td>\n",
       "      <td>0 0 1 0 0</td>\n",
       "      <td>0 0 0 0 0</td>\n",
       "      <td>1 1 1 1 1</td>\n",
       "    </tr>\n",
       "  </tbody>\n",
       "</table>\n",
       "</div>"
      ],
      "text/plain": [
       "           steal      tales      slate      stale      satle      stela  \\\n",
       "steal  1 1 1 1 1  0 0 0 0 0  1 0 0 0 0  1 1 0 0 0  1 0 0 0 0  1 1 1 0 0   \n",
       "tales  0 0 0 0 0  1 1 1 1 1  0 0 0 0 0  0 0 0 0 0  0 1 0 0 0  0 0 0 0 0   \n",
       "slate  1 0 0 0 0  0 0 0 0 0  1 1 1 1 1  1 0 1 0 1  1 0 0 0 1  1 0 0 0 0   \n",
       "stale  1 1 0 0 0  0 0 0 0 0  1 0 1 0 1  1 1 1 1 1  1 0 0 1 1  1 1 0 1 0   \n",
       "satle  1 0 0 0 0  0 1 0 0 0  1 0 0 0 1  1 0 0 1 1  1 1 1 1 1  1 0 0 1 0   \n",
       "stela  1 1 1 0 0  0 0 0 0 0  1 0 0 0 0  1 1 0 1 0  1 0 0 1 0  1 1 1 1 1   \n",
       "astel  0 0 0 0 1  0 0 0 1 0  0 0 0 0 0  0 0 0 0 0  0 0 1 0 0  0 0 0 0 0   \n",
       "\n",
       "           astel  \n",
       "steal  0 0 0 0 1  \n",
       "tales  0 0 0 1 0  \n",
       "slate  0 0 0 0 0  \n",
       "stale  0 0 0 0 0  \n",
       "satle  0 0 1 0 0  \n",
       "stela  0 0 0 0 0  \n",
       "astel  1 1 1 1 1  "
      ]
     },
     "execution_count": 35,
     "metadata": {},
     "output_type": "execute_result"
    }
   ],
   "source": [
    "df3"
   ]
  },
  {
   "cell_type": "code",
   "execution_count": null,
   "id": "5038d006",
   "metadata": {},
   "outputs": [],
   "source": []
  },
  {
   "cell_type": "markdown",
   "id": "ca3f08d6",
   "metadata": {},
   "source": [
    "### Take the anagram dataframe and randomly select a word to display the scoring"
   ]
  },
  {
   "cell_type": "code",
   "execution_count": 157,
   "id": "234421d0",
   "metadata": {
    "ExecuteTime": {
     "end_time": "2022-03-21T20:37:45.565940Z",
     "start_time": "2022-03-21T20:37:45.552505Z"
    }
   },
   "outputs": [
    {
     "data": {
      "text/html": [
       "<div>\n",
       "<style scoped>\n",
       "    .dataframe tbody tr th:only-of-type {\n",
       "        vertical-align: middle;\n",
       "    }\n",
       "\n",
       "    .dataframe tbody tr th {\n",
       "        vertical-align: top;\n",
       "    }\n",
       "\n",
       "    .dataframe thead th {\n",
       "        text-align: right;\n",
       "    }\n",
       "</style>\n",
       "<table border=\"1\" class=\"dataframe\">\n",
       "  <thead>\n",
       "    <tr style=\"text-align: right;\">\n",
       "      <th></th>\n",
       "      <th>polka</th>\n",
       "      <th>pokal</th>\n",
       "    </tr>\n",
       "  </thead>\n",
       "  <tbody>\n",
       "    <tr>\n",
       "      <th>polka</th>\n",
       "      <td>1 1 1 1 1</td>\n",
       "      <td>1 1 0 0 0</td>\n",
       "    </tr>\n",
       "    <tr>\n",
       "      <th>pokal</th>\n",
       "      <td>1 1 0 0 0</td>\n",
       "      <td>1 1 1 1 1</td>\n",
       "    </tr>\n",
       "  </tbody>\n",
       "</table>\n",
       "</div>"
      ],
      "text/plain": [
       "           polka      pokal\n",
       "polka  1 1 1 1 1  1 1 0 0 0\n",
       "pokal  1 1 0 0 0  1 1 1 1 1"
      ]
     },
     "execution_count": 157,
     "metadata": {},
     "output_type": "execute_result"
    }
   ],
   "source": [
    "def anagram_entropy(dataf):\n",
    "    rnd_indx = random.sample(population=dataf.index.tolist(), k=1)\n",
    "    anagrams_words = dataf[\"anagrams\"].iloc[rnd_indx[0]].split(\", \")\n",
    "    num_guesses = len(anagrams_words)\n",
    "    data = []\n",
    "    counter = 0\n",
    "\n",
    "    while counter < num_guesses:\n",
    "        for word in anagrams_words:\n",
    "            guess = anagrams_words[counter]\n",
    "            combo_guess_word = zip(guess, word)\n",
    "            scores = np.zeros(5, dtype=np.int8)\n",
    "            for x, (i, j) in enumerate(combo_guess_word):\n",
    "                if i == j:\n",
    "                    scores[x] = 1\n",
    "                elif i != j and j in word:\n",
    "                    scores[x] = 0\n",
    "                else:\n",
    "                    scores[x] = -1\n",
    "            data.append(re.sub(r\"[\\[\\]]\", \"\", str(scores)).replace(\"\\n\", \",\"))\n",
    "        counter += 1\n",
    "        \n",
    "    # Every num_guesses in data represents the next guess word scored against the challenge word\n",
    "    # so we can reshape data to be a num_guesses x num_guesses array\n",
    "    return pd.DataFrame(np.array(data).reshape(num_guesses, num_guesses),\n",
    "                        columns=anagrams_words,\n",
    "                        index=anagrams_words)\n",
    "\n",
    "anagram_scoring_df = anagram_entropy(anagrams)\n",
    "anagram_scoring_df"
   ]
  },
  {
   "cell_type": "markdown",
   "id": "b2422824",
   "metadata": {},
   "source": [
    "### Score all anagrams against each other. The scoring partners which aren't anagrams will contain `-1s`"
   ]
  },
  {
   "cell_type": "code",
   "execution_count": 37,
   "id": "80eb45cf",
   "metadata": {
    "ExecuteTime": {
     "end_time": "2022-03-21T15:48:12.234884Z",
     "start_time": "2022-03-21T15:48:12.229872Z"
    }
   },
   "outputs": [
    {
     "data": {
      "text/plain": [
       "0    abode, adobe\n",
       "1    abort, tabor\n",
       "2    acred, cader\n",
       "3    acrid, caird\n",
       "4    adept, pated\n",
       "Name: anagrams, dtype: object"
      ]
     },
     "execution_count": 37,
     "metadata": {},
     "output_type": "execute_result"
    }
   ],
   "source": [
    "anagrams[\"anagrams\"].iloc[:5]"
   ]
  },
  {
   "cell_type": "code",
   "execution_count": 38,
   "id": "68277541",
   "metadata": {
    "ExecuteTime": {
     "end_time": "2022-03-21T15:48:12.239458Z",
     "start_time": "2022-03-21T15:48:12.236586Z"
    }
   },
   "outputs": [],
   "source": [
    "some_anagrams = [grams.split(\", \") for grams in anagrams[\"anagrams\"]]"
   ]
  },
  {
   "cell_type": "code",
   "execution_count": 39,
   "id": "3a8fb78f",
   "metadata": {
    "ExecuteTime": {
     "end_time": "2022-03-21T15:48:12.243909Z",
     "start_time": "2022-03-21T15:48:12.241358Z"
    }
   },
   "outputs": [],
   "source": [
    "# grammys = []\n",
    "# for subgram in some_anagrams:\n",
    "#     for gram in subgram:\n",
    "#         grammys.append(gram)"
   ]
  },
  {
   "cell_type": "code",
   "execution_count": 40,
   "id": "48bc7d92",
   "metadata": {
    "ExecuteTime": {
     "end_time": "2022-03-21T15:48:12.250145Z",
     "start_time": "2022-03-21T15:48:12.245812Z"
    }
   },
   "outputs": [
    {
     "data": {
      "text/plain": [
       "['abode', 'adobe', 'abort', 'tabor', 'acred']"
      ]
     },
     "execution_count": 40,
     "metadata": {},
     "output_type": "execute_result"
    }
   ],
   "source": [
    "grammys = [gram for subgram in some_anagrams for gram in subgram]\n",
    "grammys[:5]"
   ]
  },
  {
   "cell_type": "code",
   "execution_count": 41,
   "id": "f6364b68",
   "metadata": {
    "ExecuteTime": {
     "end_time": "2022-03-21T15:48:12.256724Z",
     "start_time": "2022-03-21T15:48:12.251892Z"
    }
   },
   "outputs": [
    {
     "data": {
      "text/plain": [
       "938"
      ]
     },
     "execution_count": 41,
     "metadata": {},
     "output_type": "execute_result"
    }
   ],
   "source": [
    "len(grammys)"
   ]
  },
  {
   "cell_type": "code",
   "execution_count": 42,
   "id": "7ccc8632",
   "metadata": {
    "ExecuteTime": {
     "end_time": "2022-03-21T15:48:12.262669Z",
     "start_time": "2022-03-21T15:48:12.258675Z"
    }
   },
   "outputs": [
    {
     "data": {
      "text/plain": [
       "672"
      ]
     },
     "execution_count": 42,
     "metadata": {},
     "output_type": "execute_result"
    }
   ],
   "source": [
    "# ensure unique words\n",
    "len(set(grammys))"
   ]
  },
  {
   "cell_type": "code",
   "execution_count": null,
   "id": "6a354d3f",
   "metadata": {},
   "outputs": [],
   "source": []
  },
  {
   "cell_type": "code",
   "execution_count": 43,
   "id": "5a6c604d",
   "metadata": {
    "ExecuteTime": {
     "end_time": "2022-03-21T15:48:12.270159Z",
     "start_time": "2022-03-21T15:48:12.264170Z"
    }
   },
   "outputs": [],
   "source": [
    "def all_anagram_entropy(dataf):\n",
    "    datax = []\n",
    "    all_anagrams = [grams.split(\", \") for grams in anagrams[\"anagrams\"].tolist()]\n",
    "    all_anagrams = set([gram for subgram in some_anagrams for gram in subgram]) # ensure unique words\n",
    "    num_anagrams = len(all_anagrams)\n",
    "    for word in tqdm(all_anagrams):\n",
    "        for guess in all_anagrams:\n",
    "            scores = np.zeros(5, dtype=np.int8)\n",
    "            for idx, (x, y) in enumerate(zip(word, guess)):\n",
    "                if x == y:\n",
    "                    scores[idx] = 1\n",
    "                elif x != y and y in word:\n",
    "                    scores[idx] = 0\n",
    "                else:\n",
    "                    scores[idx] = -1\n",
    "            datax.append(re.sub(r\"[\\[\\]]\", \"\", str(scores)).replace(\"\\n\", \",\"))\n",
    "            \n",
    "    \n",
    "    # len(datax) is num_anagrams squared, so we reshape data to be a num_anagrams x num_anagrams\n",
    "    # array before putting it into a dataframe\n",
    "    return pd.DataFrame(np.array(datax).reshape(num_anagrams, num_anagrams),\n",
    "                        columns=all_anagrams,\n",
    "                        index=all_anagrams)"
   ]
  },
  {
   "cell_type": "code",
   "execution_count": 44,
   "id": "04b112e8",
   "metadata": {
    "ExecuteTime": {
     "end_time": "2022-03-21T15:48:34.997604Z",
     "start_time": "2022-03-21T15:48:12.272387Z"
    }
   },
   "outputs": [
    {
     "name": "stderr",
     "output_type": "stream",
     "text": [
      "100%|███████████████████████████████████████████████████████████████████████| 672/672 [00:22<00:00, 29.88it/s]\n"
     ]
    }
   ],
   "source": [
    "all_anagram_scoring_df = all_anagram_entropy(anagrams)"
   ]
  },
  {
   "cell_type": "code",
   "execution_count": 45,
   "id": "b86225f0",
   "metadata": {
    "ExecuteTime": {
     "end_time": "2022-03-21T15:48:35.048639Z",
     "start_time": "2022-03-21T15:48:35.001873Z"
    }
   },
   "outputs": [
    {
     "name": "stdout",
     "output_type": "stream",
     "text": [
      "<class 'pandas.core.frame.DataFrame'>\n",
      "Index: 672 entries, spate to prude\n",
      "Columns: 672 entries, spate to prude\n",
      "dtypes: object(672)\n",
      "memory usage: 3.5+ MB\n"
     ]
    }
   ],
   "source": [
    "all_anagram_scoring_df.info()"
   ]
  },
  {
   "cell_type": "code",
   "execution_count": 46,
   "id": "33d96b63",
   "metadata": {
    "ExecuteTime": {
     "end_time": "2022-03-21T15:48:35.096107Z",
     "start_time": "2022-03-21T15:48:35.051877Z"
    }
   },
   "outputs": [
    {
     "data": {
      "text/html": [
       "<div>\n",
       "<style scoped>\n",
       "    .dataframe tbody tr th:only-of-type {\n",
       "        vertical-align: middle;\n",
       "    }\n",
       "\n",
       "    .dataframe tbody tr th {\n",
       "        vertical-align: top;\n",
       "    }\n",
       "\n",
       "    .dataframe thead th {\n",
       "        text-align: right;\n",
       "    }\n",
       "</style>\n",
       "<table border=\"1\" class=\"dataframe\">\n",
       "  <thead>\n",
       "    <tr style=\"text-align: right;\">\n",
       "      <th></th>\n",
       "      <th>spate</th>\n",
       "      <th>plane</th>\n",
       "      <th>petal</th>\n",
       "      <th>saleb</th>\n",
       "      <th>steik</th>\n",
       "      <th>clary</th>\n",
       "      <th>sarpo</th>\n",
       "      <th>close</th>\n",
       "      <th>swale</th>\n",
       "      <th>polka</th>\n",
       "      <th>...</th>\n",
       "      <th>stour</th>\n",
       "      <th>algor</th>\n",
       "      <th>sutor</th>\n",
       "      <th>torus</th>\n",
       "      <th>shail</th>\n",
       "      <th>flame</th>\n",
       "      <th>skute</th>\n",
       "      <th>owher</th>\n",
       "      <th>scate</th>\n",
       "      <th>prude</th>\n",
       "    </tr>\n",
       "  </thead>\n",
       "  <tbody>\n",
       "    <tr>\n",
       "      <th>spate</th>\n",
       "      <td>1 1 1 1 1</td>\n",
       "      <td>0 -1  1 -1  1</td>\n",
       "      <td>0  0  0  0 -1</td>\n",
       "      <td>1  0 -1  0 -1</td>\n",
       "      <td>1  0  0 -1 -1</td>\n",
       "      <td>-1 -1  1 -1 -1</td>\n",
       "      <td>1  0 -1  0 -1</td>\n",
       "      <td>-1 -1 -1  0  1</td>\n",
       "      <td>1 -1  1 -1  1</td>\n",
       "      <td>0 -1 -1 -1  0</td>\n",
       "      <td>...</td>\n",
       "      <td>1  0 -1 -1 -1</td>\n",
       "      <td>0 -1 -1 -1 -1</td>\n",
       "      <td>1 -1  0 -1 -1</td>\n",
       "      <td>0 -1 -1 -1  0</td>\n",
       "      <td>1 -1  1 -1 -1</td>\n",
       "      <td>-1 -1  1 -1  1</td>\n",
       "      <td>1 -1 -1  1  1</td>\n",
       "      <td>-1 -1 -1  0 -1</td>\n",
       "      <td>1 -1  1  1  1</td>\n",
       "      <td>0 -1 -1 -1  1</td>\n",
       "    </tr>\n",
       "    <tr>\n",
       "      <th>plane</th>\n",
       "      <td>-1  0  1 -1  1</td>\n",
       "      <td>1 1 1 1 1</td>\n",
       "      <td>1  0 -1  0  0</td>\n",
       "      <td>-1  0  0  0 -1</td>\n",
       "      <td>-1 -1  0 -1 -1</td>\n",
       "      <td>-1  1  1 -1 -1</td>\n",
       "      <td>-1  0 -1  0 -1</td>\n",
       "      <td>-1  1 -1 -1  1</td>\n",
       "      <td>-1 -1  1  0  1</td>\n",
       "      <td>1 -1  0 -1  0</td>\n",
       "      <td>...</td>\n",
       "      <td>-1 -1 -1 -1 -1</td>\n",
       "      <td>0  1 -1 -1 -1</td>\n",
       "      <td>-1 -1 -1 -1 -1</td>\n",
       "      <td>-1 -1 -1 -1 -1</td>\n",
       "      <td>-1 -1  1 -1  0</td>\n",
       "      <td>-1  1  1 -1  1</td>\n",
       "      <td>-1 -1 -1 -1  1</td>\n",
       "      <td>-1 -1 -1  0 -1</td>\n",
       "      <td>-1 -1  1 -1  1</td>\n",
       "      <td>1 -1 -1 -1  1</td>\n",
       "    </tr>\n",
       "    <tr>\n",
       "      <th>petal</th>\n",
       "      <td>-1  0  0  0  0</td>\n",
       "      <td>1  0  0 -1  0</td>\n",
       "      <td>1 1 1 1 1</td>\n",
       "      <td>-1  0  0  0 -1</td>\n",
       "      <td>-1  0  0 -1 -1</td>\n",
       "      <td>-1  0  0 -1 -1</td>\n",
       "      <td>-1  0 -1  0 -1</td>\n",
       "      <td>-1  0 -1 -1  0</td>\n",
       "      <td>-1 -1  0  0  0</td>\n",
       "      <td>1 -1  0 -1  0</td>\n",
       "      <td>...</td>\n",
       "      <td>-1  0 -1 -1 -1</td>\n",
       "      <td>0  0 -1 -1 -1</td>\n",
       "      <td>-1 -1  1 -1 -1</td>\n",
       "      <td>0 -1 -1 -1 -1</td>\n",
       "      <td>-1 -1  0 -1  1</td>\n",
       "      <td>-1  0  0 -1  0</td>\n",
       "      <td>-1 -1 -1  0  0</td>\n",
       "      <td>-1 -1 -1  0 -1</td>\n",
       "      <td>-1 -1  0  0  0</td>\n",
       "      <td>1 -1 -1 -1  0</td>\n",
       "    </tr>\n",
       "    <tr>\n",
       "      <th>saleb</th>\n",
       "      <td>1 -1  0 -1  0</td>\n",
       "      <td>-1  0  0 -1  0</td>\n",
       "      <td>-1  0 -1  0  0</td>\n",
       "      <td>1 1 1 1 1</td>\n",
       "      <td>1 -1  0 -1 -1</td>\n",
       "      <td>-1  0  0 -1 -1</td>\n",
       "      <td>1  1 -1 -1 -1</td>\n",
       "      <td>-1  0 -1  0  0</td>\n",
       "      <td>1 -1  0  0  0</td>\n",
       "      <td>-1 -1  1 -1  0</td>\n",
       "      <td>...</td>\n",
       "      <td>1 -1 -1 -1 -1</td>\n",
       "      <td>0  0 -1 -1 -1</td>\n",
       "      <td>1 -1 -1 -1 -1</td>\n",
       "      <td>-1 -1 -1 -1  0</td>\n",
       "      <td>1 -1  0 -1  0</td>\n",
       "      <td>-1  0  0 -1  0</td>\n",
       "      <td>1 -1 -1 -1  0</td>\n",
       "      <td>-1 -1 -1  1 -1</td>\n",
       "      <td>1 -1  0 -1  0</td>\n",
       "      <td>-1 -1 -1 -1  0</td>\n",
       "    </tr>\n",
       "    <tr>\n",
       "      <th>steik</th>\n",
       "      <td>1 -1 -1  0  0</td>\n",
       "      <td>-1 -1 -1 -1  0</td>\n",
       "      <td>-1  0  0 -1 -1</td>\n",
       "      <td>1 -1 -1  0 -1</td>\n",
       "      <td>1 1 1 1 1</td>\n",
       "      <td>-1 -1 -1 -1 -1</td>\n",
       "      <td>1 -1 -1 -1 -1</td>\n",
       "      <td>-1 -1 -1  0  0</td>\n",
       "      <td>1 -1 -1 -1  0</td>\n",
       "      <td>-1 -1 -1  0 -1</td>\n",
       "      <td>...</td>\n",
       "      <td>1  1 -1 -1 -1</td>\n",
       "      <td>-1 -1 -1 -1 -1</td>\n",
       "      <td>1 -1  0 -1 -1</td>\n",
       "      <td>0 -1 -1 -1  0</td>\n",
       "      <td>1 -1 -1  1 -1</td>\n",
       "      <td>-1 -1 -1 -1  0</td>\n",
       "      <td>1  0 -1  0  0</td>\n",
       "      <td>-1 -1 -1  0 -1</td>\n",
       "      <td>1 -1 -1  0  0</td>\n",
       "      <td>-1 -1 -1 -1  0</td>\n",
       "    </tr>\n",
       "    <tr>\n",
       "      <th>...</th>\n",
       "      <td>...</td>\n",
       "      <td>...</td>\n",
       "      <td>...</td>\n",
       "      <td>...</td>\n",
       "      <td>...</td>\n",
       "      <td>...</td>\n",
       "      <td>...</td>\n",
       "      <td>...</td>\n",
       "      <td>...</td>\n",
       "      <td>...</td>\n",
       "      <td>...</td>\n",
       "      <td>...</td>\n",
       "      <td>...</td>\n",
       "      <td>...</td>\n",
       "      <td>...</td>\n",
       "      <td>...</td>\n",
       "      <td>...</td>\n",
       "      <td>...</td>\n",
       "      <td>...</td>\n",
       "      <td>...</td>\n",
       "      <td>...</td>\n",
       "    </tr>\n",
       "    <tr>\n",
       "      <th>flame</th>\n",
       "      <td>-1 -1  1 -1  1</td>\n",
       "      <td>-1  1  1 -1  1</td>\n",
       "      <td>-1  0 -1  0  0</td>\n",
       "      <td>-1  0  0  0 -1</td>\n",
       "      <td>-1 -1  0 -1 -1</td>\n",
       "      <td>-1  1  1 -1 -1</td>\n",
       "      <td>-1  0 -1 -1 -1</td>\n",
       "      <td>-1  1 -1 -1  1</td>\n",
       "      <td>-1 -1  1  0  1</td>\n",
       "      <td>-1 -1  0 -1  0</td>\n",
       "      <td>...</td>\n",
       "      <td>-1 -1 -1 -1 -1</td>\n",
       "      <td>0  1 -1 -1 -1</td>\n",
       "      <td>-1 -1 -1 -1 -1</td>\n",
       "      <td>-1 -1 -1 -1 -1</td>\n",
       "      <td>-1 -1  1 -1  0</td>\n",
       "      <td>1 1 1 1 1</td>\n",
       "      <td>-1 -1 -1 -1  1</td>\n",
       "      <td>-1 -1 -1  0 -1</td>\n",
       "      <td>-1 -1  1 -1  1</td>\n",
       "      <td>-1 -1 -1 -1  1</td>\n",
       "    </tr>\n",
       "    <tr>\n",
       "      <th>skute</th>\n",
       "      <td>1 -1 -1  1  1</td>\n",
       "      <td>-1 -1 -1 -1  1</td>\n",
       "      <td>-1  0  0 -1 -1</td>\n",
       "      <td>1 -1 -1  0 -1</td>\n",
       "      <td>1  0  0 -1  0</td>\n",
       "      <td>-1 -1 -1 -1 -1</td>\n",
       "      <td>1 -1 -1 -1 -1</td>\n",
       "      <td>-1 -1 -1  0  1</td>\n",
       "      <td>1 -1 -1 -1  1</td>\n",
       "      <td>-1 -1 -1  0 -1</td>\n",
       "      <td>...</td>\n",
       "      <td>1  0 -1  0 -1</td>\n",
       "      <td>-1 -1 -1 -1 -1</td>\n",
       "      <td>1  0  0 -1 -1</td>\n",
       "      <td>0 -1 -1  0  0</td>\n",
       "      <td>1 -1 -1 -1 -1</td>\n",
       "      <td>-1 -1 -1 -1  1</td>\n",
       "      <td>1 1 1 1 1</td>\n",
       "      <td>-1 -1 -1  0 -1</td>\n",
       "      <td>1 -1 -1  1  1</td>\n",
       "      <td>-1 -1  1 -1  1</td>\n",
       "    </tr>\n",
       "    <tr>\n",
       "      <th>owher</th>\n",
       "      <td>-1 -1 -1 -1  0</td>\n",
       "      <td>-1 -1 -1 -1  0</td>\n",
       "      <td>-1  0 -1 -1 -1</td>\n",
       "      <td>-1 -1 -1  1 -1</td>\n",
       "      <td>-1 -1  0 -1 -1</td>\n",
       "      <td>-1 -1 -1  0 -1</td>\n",
       "      <td>-1 -1  0 -1  0</td>\n",
       "      <td>-1 -1  0 -1  0</td>\n",
       "      <td>-1  1 -1 -1  0</td>\n",
       "      <td>-1  0 -1 -1 -1</td>\n",
       "      <td>...</td>\n",
       "      <td>-1 -1  0 -1  1</td>\n",
       "      <td>-1 -1 -1  0  1</td>\n",
       "      <td>-1 -1 -1  0  1</td>\n",
       "      <td>-1  0  0 -1 -1</td>\n",
       "      <td>-1  0 -1 -1 -1</td>\n",
       "      <td>-1 -1 -1 -1  0</td>\n",
       "      <td>-1 -1 -1 -1  0</td>\n",
       "      <td>1 1 1 1 1</td>\n",
       "      <td>-1 -1 -1 -1  0</td>\n",
       "      <td>-1  0 -1 -1  0</td>\n",
       "    </tr>\n",
       "    <tr>\n",
       "      <th>scate</th>\n",
       "      <td>1 -1  1  1  1</td>\n",
       "      <td>-1 -1  1 -1  1</td>\n",
       "      <td>-1  0  0  0 -1</td>\n",
       "      <td>1  0 -1  0 -1</td>\n",
       "      <td>1  0  0 -1 -1</td>\n",
       "      <td>0 -1  1 -1 -1</td>\n",
       "      <td>1  0 -1 -1 -1</td>\n",
       "      <td>0 -1 -1  0  1</td>\n",
       "      <td>1 -1  1 -1  1</td>\n",
       "      <td>-1 -1 -1 -1  0</td>\n",
       "      <td>...</td>\n",
       "      <td>1  0 -1 -1 -1</td>\n",
       "      <td>0 -1 -1 -1 -1</td>\n",
       "      <td>1 -1  0 -1 -1</td>\n",
       "      <td>0 -1 -1 -1  0</td>\n",
       "      <td>1 -1  1 -1 -1</td>\n",
       "      <td>-1 -1  1 -1  1</td>\n",
       "      <td>1 -1 -1  1  1</td>\n",
       "      <td>-1 -1 -1  0 -1</td>\n",
       "      <td>1 1 1 1 1</td>\n",
       "      <td>-1 -1 -1 -1  1</td>\n",
       "    </tr>\n",
       "    <tr>\n",
       "      <th>prude</th>\n",
       "      <td>-1  0 -1 -1  1</td>\n",
       "      <td>1 -1 -1 -1  1</td>\n",
       "      <td>1  0 -1 -1 -1</td>\n",
       "      <td>-1 -1 -1  0 -1</td>\n",
       "      <td>-1 -1  0 -1 -1</td>\n",
       "      <td>-1 -1 -1  0 -1</td>\n",
       "      <td>-1 -1  0  0 -1</td>\n",
       "      <td>-1 -1 -1 -1  1</td>\n",
       "      <td>-1 -1 -1 -1  1</td>\n",
       "      <td>1 -1 -1 -1 -1</td>\n",
       "      <td>...</td>\n",
       "      <td>-1 -1 -1  0  0</td>\n",
       "      <td>-1 -1 -1 -1  0</td>\n",
       "      <td>-1  0 -1 -1  0</td>\n",
       "      <td>-1 -1  0  0 -1</td>\n",
       "      <td>-1 -1 -1 -1 -1</td>\n",
       "      <td>-1 -1 -1 -1  1</td>\n",
       "      <td>-1 -1  1 -1  1</td>\n",
       "      <td>-1 -1 -1  0  0</td>\n",
       "      <td>-1 -1 -1 -1  1</td>\n",
       "      <td>1 1 1 1 1</td>\n",
       "    </tr>\n",
       "  </tbody>\n",
       "</table>\n",
       "<p>672 rows × 672 columns</p>\n",
       "</div>"
      ],
      "text/plain": [
       "                spate           plane           petal           saleb  \\\n",
       "spate       1 1 1 1 1   0 -1  1 -1  1   0  0  0  0 -1   1  0 -1  0 -1   \n",
       "plane  -1  0  1 -1  1       1 1 1 1 1   1  0 -1  0  0  -1  0  0  0 -1   \n",
       "petal  -1  0  0  0  0   1  0  0 -1  0       1 1 1 1 1  -1  0  0  0 -1   \n",
       "saleb   1 -1  0 -1  0  -1  0  0 -1  0  -1  0 -1  0  0       1 1 1 1 1   \n",
       "steik   1 -1 -1  0  0  -1 -1 -1 -1  0  -1  0  0 -1 -1   1 -1 -1  0 -1   \n",
       "...               ...             ...             ...             ...   \n",
       "flame  -1 -1  1 -1  1  -1  1  1 -1  1  -1  0 -1  0  0  -1  0  0  0 -1   \n",
       "skute   1 -1 -1  1  1  -1 -1 -1 -1  1  -1  0  0 -1 -1   1 -1 -1  0 -1   \n",
       "owher  -1 -1 -1 -1  0  -1 -1 -1 -1  0  -1  0 -1 -1 -1  -1 -1 -1  1 -1   \n",
       "scate   1 -1  1  1  1  -1 -1  1 -1  1  -1  0  0  0 -1   1  0 -1  0 -1   \n",
       "prude  -1  0 -1 -1  1   1 -1 -1 -1  1   1  0 -1 -1 -1  -1 -1 -1  0 -1   \n",
       "\n",
       "                steik           clary           sarpo           close  \\\n",
       "spate   1  0  0 -1 -1  -1 -1  1 -1 -1   1  0 -1  0 -1  -1 -1 -1  0  1   \n",
       "plane  -1 -1  0 -1 -1  -1  1  1 -1 -1  -1  0 -1  0 -1  -1  1 -1 -1  1   \n",
       "petal  -1  0  0 -1 -1  -1  0  0 -1 -1  -1  0 -1  0 -1  -1  0 -1 -1  0   \n",
       "saleb   1 -1  0 -1 -1  -1  0  0 -1 -1   1  1 -1 -1 -1  -1  0 -1  0  0   \n",
       "steik       1 1 1 1 1  -1 -1 -1 -1 -1   1 -1 -1 -1 -1  -1 -1 -1  0  0   \n",
       "...               ...             ...             ...             ...   \n",
       "flame  -1 -1  0 -1 -1  -1  1  1 -1 -1  -1  0 -1 -1 -1  -1  1 -1 -1  1   \n",
       "skute   1  0  0 -1  0  -1 -1 -1 -1 -1   1 -1 -1 -1 -1  -1 -1 -1  0  1   \n",
       "owher  -1 -1  0 -1 -1  -1 -1 -1  0 -1  -1 -1  0 -1  0  -1 -1  0 -1  0   \n",
       "scate   1  0  0 -1 -1   0 -1  1 -1 -1   1  0 -1 -1 -1   0 -1 -1  0  1   \n",
       "prude  -1 -1  0 -1 -1  -1 -1 -1  0 -1  -1 -1  0  0 -1  -1 -1 -1 -1  1   \n",
       "\n",
       "                swale           polka  ...           stour           algor  \\\n",
       "spate   1 -1  1 -1  1   0 -1 -1 -1  0  ...   1  0 -1 -1 -1   0 -1 -1 -1 -1   \n",
       "plane  -1 -1  1  0  1   1 -1  0 -1  0  ...  -1 -1 -1 -1 -1   0  1 -1 -1 -1   \n",
       "petal  -1 -1  0  0  0   1 -1  0 -1  0  ...  -1  0 -1 -1 -1   0  0 -1 -1 -1   \n",
       "saleb   1 -1  0  0  0  -1 -1  1 -1  0  ...   1 -1 -1 -1 -1   0  0 -1 -1 -1   \n",
       "steik   1 -1 -1 -1  0  -1 -1 -1  0 -1  ...   1  1 -1 -1 -1  -1 -1 -1 -1 -1   \n",
       "...               ...             ...  ...             ...             ...   \n",
       "flame  -1 -1  1  0  1  -1 -1  0 -1  0  ...  -1 -1 -1 -1 -1   0  1 -1 -1 -1   \n",
       "skute   1 -1 -1 -1  1  -1 -1 -1  0 -1  ...   1  0 -1  0 -1  -1 -1 -1 -1 -1   \n",
       "owher  -1  1 -1 -1  0  -1  0 -1 -1 -1  ...  -1 -1  0 -1  1  -1 -1 -1  0  1   \n",
       "scate   1 -1  1 -1  1  -1 -1 -1 -1  0  ...   1  0 -1 -1 -1   0 -1 -1 -1 -1   \n",
       "prude  -1 -1 -1 -1  1   1 -1 -1 -1 -1  ...  -1 -1 -1  0  0  -1 -1 -1 -1  0   \n",
       "\n",
       "                sutor           torus           shail           flame  \\\n",
       "spate   1 -1  0 -1 -1   0 -1 -1 -1  0   1 -1  1 -1 -1  -1 -1  1 -1  1   \n",
       "plane  -1 -1 -1 -1 -1  -1 -1 -1 -1 -1  -1 -1  1 -1  0  -1  1  1 -1  1   \n",
       "petal  -1 -1  1 -1 -1   0 -1 -1 -1 -1  -1 -1  0 -1  1  -1  0  0 -1  0   \n",
       "saleb   1 -1 -1 -1 -1  -1 -1 -1 -1  0   1 -1  0 -1  0  -1  0  0 -1  0   \n",
       "steik   1 -1  0 -1 -1   0 -1 -1 -1  0   1 -1 -1  1 -1  -1 -1 -1 -1  0   \n",
       "...               ...             ...             ...             ...   \n",
       "flame  -1 -1 -1 -1 -1  -1 -1 -1 -1 -1  -1 -1  1 -1  0       1 1 1 1 1   \n",
       "skute   1  0  0 -1 -1   0 -1 -1  0  0   1 -1 -1 -1 -1  -1 -1 -1 -1  1   \n",
       "owher  -1 -1 -1  0  1  -1  0  0 -1 -1  -1  0 -1 -1 -1  -1 -1 -1 -1  0   \n",
       "scate   1 -1  0 -1 -1   0 -1 -1 -1  0   1 -1  1 -1 -1  -1 -1  1 -1  1   \n",
       "prude  -1  0 -1 -1  0  -1 -1  0  0 -1  -1 -1 -1 -1 -1  -1 -1 -1 -1  1   \n",
       "\n",
       "                skute           owher           scate           prude  \n",
       "spate   1 -1 -1  1  1  -1 -1 -1  0 -1   1 -1  1  1  1   0 -1 -1 -1  1  \n",
       "plane  -1 -1 -1 -1  1  -1 -1 -1  0 -1  -1 -1  1 -1  1   1 -1 -1 -1  1  \n",
       "petal  -1 -1 -1  0  0  -1 -1 -1  0 -1  -1 -1  0  0  0   1 -1 -1 -1  0  \n",
       "saleb   1 -1 -1 -1  0  -1 -1 -1  1 -1   1 -1  0 -1  0  -1 -1 -1 -1  0  \n",
       "steik   1  0 -1  0  0  -1 -1 -1  0 -1   1 -1 -1  0  0  -1 -1 -1 -1  0  \n",
       "...               ...             ...             ...             ...  \n",
       "flame  -1 -1 -1 -1  1  -1 -1 -1  0 -1  -1 -1  1 -1  1  -1 -1 -1 -1  1  \n",
       "skute       1 1 1 1 1  -1 -1 -1  0 -1   1 -1 -1  1  1  -1 -1  1 -1  1  \n",
       "owher  -1 -1 -1 -1  0       1 1 1 1 1  -1 -1 -1 -1  0  -1  0 -1 -1  0  \n",
       "scate   1 -1 -1  1  1  -1 -1 -1  0 -1       1 1 1 1 1  -1 -1 -1 -1  1  \n",
       "prude  -1 -1  1 -1  1  -1 -1 -1  0  0  -1 -1 -1 -1  1       1 1 1 1 1  \n",
       "\n",
       "[672 rows x 672 columns]"
      ]
     },
     "execution_count": 46,
     "metadata": {},
     "output_type": "execute_result"
    }
   ],
   "source": [
    "all_anagram_scoring_df"
   ]
  },
  {
   "cell_type": "code",
   "execution_count": 47,
   "id": "b7ed1dc1",
   "metadata": {
    "ExecuteTime": {
     "end_time": "2022-03-21T15:48:35.328135Z",
     "start_time": "2022-03-21T15:48:35.100130Z"
    }
   },
   "outputs": [],
   "source": [
    "all_anagram_scoring_df.to_csv(\"./data/all_anagram_scoring.csv\", index=False)"
   ]
  },
  {
   "cell_type": "code",
   "execution_count": null,
   "id": "9d75238e",
   "metadata": {},
   "outputs": [],
   "source": []
  },
  {
   "cell_type": "markdown",
   "id": "93a6df0b",
   "metadata": {},
   "source": [
    "## 5 bit binary  \n",
    "\n",
    "Scoring of anagrams produces 5 bit binary with range from `00000` to `11111` `(0 to 31)`.  \n",
    "- `00000`, all letter are in wrong place\n",
    "- `11111`, letters matched correctly"
   ]
  },
  {
   "cell_type": "code",
   "execution_count": 48,
   "id": "47e644a1",
   "metadata": {
    "ExecuteTime": {
     "end_time": "2022-03-21T15:48:35.340067Z",
     "start_time": "2022-03-21T15:48:35.329541Z"
    }
   },
   "outputs": [
    {
     "data": {
      "text/html": [
       "<div>\n",
       "<style scoped>\n",
       "    .dataframe tbody tr th:only-of-type {\n",
       "        vertical-align: middle;\n",
       "    }\n",
       "\n",
       "    .dataframe tbody tr th {\n",
       "        vertical-align: top;\n",
       "    }\n",
       "\n",
       "    .dataframe thead th {\n",
       "        text-align: right;\n",
       "    }\n",
       "</style>\n",
       "<table border=\"1\" class=\"dataframe\">\n",
       "  <thead>\n",
       "    <tr style=\"text-align: right;\">\n",
       "      <th></th>\n",
       "      <th>steal</th>\n",
       "      <th>tales</th>\n",
       "      <th>slate</th>\n",
       "      <th>stale</th>\n",
       "      <th>satle</th>\n",
       "      <th>stela</th>\n",
       "      <th>astel</th>\n",
       "    </tr>\n",
       "  </thead>\n",
       "  <tbody>\n",
       "    <tr>\n",
       "      <th>steal</th>\n",
       "      <td>1 1 1 1 1</td>\n",
       "      <td>0 0 0 0 0</td>\n",
       "      <td>1 0 0 0 0</td>\n",
       "      <td>1 1 0 0 0</td>\n",
       "      <td>1 0 0 0 0</td>\n",
       "      <td>1 1 1 0 0</td>\n",
       "      <td>0 0 0 0 1</td>\n",
       "    </tr>\n",
       "    <tr>\n",
       "      <th>tales</th>\n",
       "      <td>0 0 0 0 0</td>\n",
       "      <td>1 1 1 1 1</td>\n",
       "      <td>0 0 0 0 0</td>\n",
       "      <td>0 0 0 0 0</td>\n",
       "      <td>0 1 0 0 0</td>\n",
       "      <td>0 0 0 0 0</td>\n",
       "      <td>0 0 0 1 0</td>\n",
       "    </tr>\n",
       "    <tr>\n",
       "      <th>slate</th>\n",
       "      <td>1 0 0 0 0</td>\n",
       "      <td>0 0 0 0 0</td>\n",
       "      <td>1 1 1 1 1</td>\n",
       "      <td>1 0 1 0 1</td>\n",
       "      <td>1 0 0 0 1</td>\n",
       "      <td>1 0 0 0 0</td>\n",
       "      <td>0 0 0 0 0</td>\n",
       "    </tr>\n",
       "    <tr>\n",
       "      <th>stale</th>\n",
       "      <td>1 1 0 0 0</td>\n",
       "      <td>0 0 0 0 0</td>\n",
       "      <td>1 0 1 0 1</td>\n",
       "      <td>1 1 1 1 1</td>\n",
       "      <td>1 0 0 1 1</td>\n",
       "      <td>1 1 0 1 0</td>\n",
       "      <td>0 0 0 0 0</td>\n",
       "    </tr>\n",
       "    <tr>\n",
       "      <th>satle</th>\n",
       "      <td>1 0 0 0 0</td>\n",
       "      <td>0 1 0 0 0</td>\n",
       "      <td>1 0 0 0 1</td>\n",
       "      <td>1 0 0 1 1</td>\n",
       "      <td>1 1 1 1 1</td>\n",
       "      <td>1 0 0 1 0</td>\n",
       "      <td>0 0 1 0 0</td>\n",
       "    </tr>\n",
       "    <tr>\n",
       "      <th>stela</th>\n",
       "      <td>1 1 1 0 0</td>\n",
       "      <td>0 0 0 0 0</td>\n",
       "      <td>1 0 0 0 0</td>\n",
       "      <td>1 1 0 1 0</td>\n",
       "      <td>1 0 0 1 0</td>\n",
       "      <td>1 1 1 1 1</td>\n",
       "      <td>0 0 0 0 0</td>\n",
       "    </tr>\n",
       "    <tr>\n",
       "      <th>astel</th>\n",
       "      <td>0 0 0 0 1</td>\n",
       "      <td>0 0 0 1 0</td>\n",
       "      <td>0 0 0 0 0</td>\n",
       "      <td>0 0 0 0 0</td>\n",
       "      <td>0 0 1 0 0</td>\n",
       "      <td>0 0 0 0 0</td>\n",
       "      <td>1 1 1 1 1</td>\n",
       "    </tr>\n",
       "  </tbody>\n",
       "</table>\n",
       "</div>"
      ],
      "text/plain": [
       "           steal      tales      slate      stale      satle      stela  \\\n",
       "steal  1 1 1 1 1  0 0 0 0 0  1 0 0 0 0  1 1 0 0 0  1 0 0 0 0  1 1 1 0 0   \n",
       "tales  0 0 0 0 0  1 1 1 1 1  0 0 0 0 0  0 0 0 0 0  0 1 0 0 0  0 0 0 0 0   \n",
       "slate  1 0 0 0 0  0 0 0 0 0  1 1 1 1 1  1 0 1 0 1  1 0 0 0 1  1 0 0 0 0   \n",
       "stale  1 1 0 0 0  0 0 0 0 0  1 0 1 0 1  1 1 1 1 1  1 0 0 1 1  1 1 0 1 0   \n",
       "satle  1 0 0 0 0  0 1 0 0 0  1 0 0 0 1  1 0 0 1 1  1 1 1 1 1  1 0 0 1 0   \n",
       "stela  1 1 1 0 0  0 0 0 0 0  1 0 0 0 0  1 1 0 1 0  1 0 0 1 0  1 1 1 1 1   \n",
       "astel  0 0 0 0 1  0 0 0 1 0  0 0 0 0 0  0 0 0 0 0  0 0 1 0 0  0 0 0 0 0   \n",
       "\n",
       "           astel  \n",
       "steal  0 0 0 0 1  \n",
       "tales  0 0 0 1 0  \n",
       "slate  0 0 0 0 0  \n",
       "stale  0 0 0 0 0  \n",
       "satle  0 0 1 0 0  \n",
       "stela  0 0 0 0 0  \n",
       "astel  1 1 1 1 1  "
      ]
     },
     "execution_count": 48,
     "metadata": {},
     "output_type": "execute_result"
    }
   ],
   "source": [
    "df3"
   ]
  },
  {
   "cell_type": "code",
   "execution_count": 49,
   "id": "aecdbb1b",
   "metadata": {
    "ExecuteTime": {
     "end_time": "2022-03-21T15:48:35.345023Z",
     "start_time": "2022-03-21T15:48:35.341496Z"
    }
   },
   "outputs": [
    {
     "data": {
      "text/plain": [
       "31"
      ]
     },
     "execution_count": 49,
     "metadata": {},
     "output_type": "execute_result"
    }
   ],
   "source": [
    "int(\"11111\", 2)"
   ]
  },
  {
   "cell_type": "code",
   "execution_count": 50,
   "id": "7844a3f6",
   "metadata": {
    "ExecuteTime": {
     "end_time": "2022-03-21T15:48:35.350678Z",
     "start_time": "2022-03-21T15:48:35.346410Z"
    }
   },
   "outputs": [
    {
     "data": {
      "text/plain": [
       "0"
      ]
     },
     "execution_count": 50,
     "metadata": {},
     "output_type": "execute_result"
    }
   ],
   "source": [
    "int(\"00000\", 2)"
   ]
  },
  {
   "cell_type": "code",
   "execution_count": 51,
   "id": "54691521",
   "metadata": {
    "ExecuteTime": {
     "end_time": "2022-03-21T15:48:35.356317Z",
     "start_time": "2022-03-21T15:48:35.352121Z"
    }
   },
   "outputs": [
    {
     "data": {
      "text/plain": [
       "16"
      ]
     },
     "execution_count": 51,
     "metadata": {},
     "output_type": "execute_result"
    }
   ],
   "source": [
    "int(\"10000\", 2)"
   ]
  },
  {
   "cell_type": "code",
   "execution_count": 52,
   "id": "58237a35",
   "metadata": {
    "ExecuteTime": {
     "end_time": "2022-03-21T15:48:35.361694Z",
     "start_time": "2022-03-21T15:48:35.358394Z"
    }
   },
   "outputs": [
    {
     "data": {
      "text/plain": [
       "21"
      ]
     },
     "execution_count": 52,
     "metadata": {},
     "output_type": "execute_result"
    }
   ],
   "source": [
    "int(\"10101\", 2)"
   ]
  },
  {
   "cell_type": "markdown",
   "id": "eafa62c4",
   "metadata": {},
   "source": [
    "**`stale` contains 24 bits of information necessary to describe `steal`**"
   ]
  },
  {
   "cell_type": "code",
   "execution_count": 53,
   "id": "9336347c",
   "metadata": {
    "ExecuteTime": {
     "end_time": "2022-03-21T15:48:35.367168Z",
     "start_time": "2022-03-21T15:48:35.363090Z"
    }
   },
   "outputs": [
    {
     "data": {
      "text/plain": [
       "24"
      ]
     },
     "execution_count": 53,
     "metadata": {},
     "output_type": "execute_result"
    }
   ],
   "source": [
    "int(\"11000\", 2)"
   ]
  },
  {
   "cell_type": "code",
   "execution_count": 153,
   "id": "7f98afd9",
   "metadata": {
    "ExecuteTime": {
     "end_time": "2022-03-21T20:32:28.620458Z",
     "start_time": "2022-03-21T20:32:28.615393Z"
    }
   },
   "outputs": [
    {
     "data": {
      "text/plain": [
       "4"
      ]
     },
     "execution_count": 153,
     "metadata": {},
     "output_type": "execute_result"
    }
   ],
   "source": [
    "int(\"00100\", 2)"
   ]
  },
  {
   "cell_type": "code",
   "execution_count": 55,
   "id": "6efb564a",
   "metadata": {
    "ExecuteTime": {
     "end_time": "2022-03-21T15:48:35.389053Z",
     "start_time": "2022-03-21T15:48:35.377612Z"
    }
   },
   "outputs": [
    {
     "data": {
      "text/html": [
       "<div>\n",
       "<style scoped>\n",
       "    .dataframe tbody tr th:only-of-type {\n",
       "        vertical-align: middle;\n",
       "    }\n",
       "\n",
       "    .dataframe tbody tr th {\n",
       "        vertical-align: top;\n",
       "    }\n",
       "\n",
       "    .dataframe thead th {\n",
       "        text-align: right;\n",
       "    }\n",
       "</style>\n",
       "<table border=\"1\" class=\"dataframe\">\n",
       "  <thead>\n",
       "    <tr style=\"text-align: right;\">\n",
       "      <th></th>\n",
       "      <th>steal</th>\n",
       "      <th>tales</th>\n",
       "      <th>slate</th>\n",
       "      <th>stale</th>\n",
       "      <th>satle</th>\n",
       "      <th>stela</th>\n",
       "      <th>astel</th>\n",
       "    </tr>\n",
       "  </thead>\n",
       "  <tbody>\n",
       "    <tr>\n",
       "      <th>stale</th>\n",
       "      <td>1 1 0 0 0</td>\n",
       "      <td>0 0 0 0 0</td>\n",
       "      <td>1 0 1 0 1</td>\n",
       "      <td>1 1 1 1 1</td>\n",
       "      <td>1 0 0 1 1</td>\n",
       "      <td>1 1 0 1 0</td>\n",
       "      <td>0 0 0 0 0</td>\n",
       "    </tr>\n",
       "  </tbody>\n",
       "</table>\n",
       "</div>"
      ],
      "text/plain": [
       "           steal      tales      slate      stale      satle      stela  \\\n",
       "stale  1 1 0 0 0  0 0 0 0 0  1 0 1 0 1  1 1 1 1 1  1 0 0 1 1  1 1 0 1 0   \n",
       "\n",
       "           astel  \n",
       "stale  0 0 0 0 0  "
      ]
     },
     "execution_count": 55,
     "metadata": {},
     "output_type": "execute_result"
    }
   ],
   "source": [
    "df3.loc[df3.index.isin([\"stale\"])]"
   ]
  },
  {
   "cell_type": "code",
   "execution_count": 56,
   "id": "48566aae",
   "metadata": {
    "ExecuteTime": {
     "end_time": "2022-03-21T15:48:35.397727Z",
     "start_time": "2022-03-21T15:48:35.391036Z"
    }
   },
   "outputs": [
    {
     "data": {
      "text/html": [
       "<div>\n",
       "<style scoped>\n",
       "    .dataframe tbody tr th:only-of-type {\n",
       "        vertical-align: middle;\n",
       "    }\n",
       "\n",
       "    .dataframe tbody tr th {\n",
       "        vertical-align: top;\n",
       "    }\n",
       "\n",
       "    .dataframe thead th {\n",
       "        text-align: right;\n",
       "    }\n",
       "</style>\n",
       "<table border=\"1\" class=\"dataframe\">\n",
       "  <thead>\n",
       "    <tr style=\"text-align: right;\">\n",
       "      <th></th>\n",
       "      <th>stale</th>\n",
       "    </tr>\n",
       "  </thead>\n",
       "  <tbody>\n",
       "    <tr>\n",
       "      <th>steal</th>\n",
       "      <td>1 1 0 0 0</td>\n",
       "    </tr>\n",
       "    <tr>\n",
       "      <th>tales</th>\n",
       "      <td>0 0 0 0 0</td>\n",
       "    </tr>\n",
       "    <tr>\n",
       "      <th>slate</th>\n",
       "      <td>1 0 1 0 1</td>\n",
       "    </tr>\n",
       "    <tr>\n",
       "      <th>stale</th>\n",
       "      <td>1 1 1 1 1</td>\n",
       "    </tr>\n",
       "    <tr>\n",
       "      <th>satle</th>\n",
       "      <td>1 0 0 1 1</td>\n",
       "    </tr>\n",
       "    <tr>\n",
       "      <th>stela</th>\n",
       "      <td>1 1 0 1 0</td>\n",
       "    </tr>\n",
       "    <tr>\n",
       "      <th>astel</th>\n",
       "      <td>0 0 0 0 0</td>\n",
       "    </tr>\n",
       "  </tbody>\n",
       "</table>\n",
       "</div>"
      ],
      "text/plain": [
       "           stale\n",
       "steal  1 1 0 0 0\n",
       "tales  0 0 0 0 0\n",
       "slate  1 0 1 0 1\n",
       "stale  1 1 1 1 1\n",
       "satle  1 0 0 1 1\n",
       "stela  1 1 0 1 0\n",
       "astel  0 0 0 0 0"
      ]
     },
     "execution_count": 56,
     "metadata": {},
     "output_type": "execute_result"
    }
   ],
   "source": [
    "stale = df3.loc[df3.index.isin([\"stale\"])].T\n",
    "stale"
   ]
  },
  {
   "cell_type": "code",
   "execution_count": 57,
   "id": "ed887eab",
   "metadata": {
    "ExecuteTime": {
     "end_time": "2022-03-21T15:48:35.405816Z",
     "start_time": "2022-03-21T15:48:35.400191Z"
    }
   },
   "outputs": [
    {
     "data": {
      "text/plain": [
       "steal    1 1 0 0 0\n",
       "tales    0 0 0 0 0\n",
       "slate    1 0 1 0 1\n",
       "stale    1 1 1 1 1\n",
       "satle    1 0 0 1 1\n",
       "stela    1 1 0 1 0\n",
       "astel    0 0 0 0 0\n",
       "Name: stale, dtype: object"
      ]
     },
     "execution_count": 57,
     "metadata": {},
     "output_type": "execute_result"
    }
   ],
   "source": [
    "df3.loc[df3.index.isin([\"stale\"])].squeeze()"
   ]
  },
  {
   "cell_type": "code",
   "execution_count": 58,
   "id": "0c6555c9",
   "metadata": {
    "ExecuteTime": {
     "end_time": "2022-03-21T15:48:35.415242Z",
     "start_time": "2022-03-21T15:48:35.407522Z"
    }
   },
   "outputs": [
    {
     "data": {
      "text/html": [
       "<div>\n",
       "<style scoped>\n",
       "    .dataframe tbody tr th:only-of-type {\n",
       "        vertical-align: middle;\n",
       "    }\n",
       "\n",
       "    .dataframe tbody tr th {\n",
       "        vertical-align: top;\n",
       "    }\n",
       "\n",
       "    .dataframe thead th {\n",
       "        text-align: right;\n",
       "    }\n",
       "</style>\n",
       "<table border=\"1\" class=\"dataframe\">\n",
       "  <thead>\n",
       "    <tr style=\"text-align: right;\">\n",
       "      <th></th>\n",
       "      <th>stale</th>\n",
       "    </tr>\n",
       "  </thead>\n",
       "  <tbody>\n",
       "    <tr>\n",
       "      <th>steal</th>\n",
       "      <td>1 1 0 0 0</td>\n",
       "    </tr>\n",
       "    <tr>\n",
       "      <th>tales</th>\n",
       "      <td>0 0 0 0 0</td>\n",
       "    </tr>\n",
       "    <tr>\n",
       "      <th>slate</th>\n",
       "      <td>1 0 1 0 1</td>\n",
       "    </tr>\n",
       "    <tr>\n",
       "      <th>stale</th>\n",
       "      <td>1 1 1 1 1</td>\n",
       "    </tr>\n",
       "    <tr>\n",
       "      <th>satle</th>\n",
       "      <td>1 0 0 1 1</td>\n",
       "    </tr>\n",
       "    <tr>\n",
       "      <th>stela</th>\n",
       "      <td>1 1 0 1 0</td>\n",
       "    </tr>\n",
       "    <tr>\n",
       "      <th>astel</th>\n",
       "      <td>0 0 0 0 0</td>\n",
       "    </tr>\n",
       "  </tbody>\n",
       "</table>\n",
       "</div>"
      ],
      "text/plain": [
       "           stale\n",
       "steal  1 1 0 0 0\n",
       "tales  0 0 0 0 0\n",
       "slate  1 0 1 0 1\n",
       "stale  1 1 1 1 1\n",
       "satle  1 0 0 1 1\n",
       "stela  1 1 0 1 0\n",
       "astel  0 0 0 0 0"
      ]
     },
     "execution_count": 58,
     "metadata": {},
     "output_type": "execute_result"
    }
   ],
   "source": [
    "pd.DataFrame(df3.loc[df3.index.isin([\"stale\"])].squeeze())"
   ]
  },
  {
   "cell_type": "code",
   "execution_count": null,
   "id": "a0f40bcc",
   "metadata": {},
   "outputs": [],
   "source": []
  },
  {
   "cell_type": "code",
   "execution_count": 59,
   "id": "63be1a33",
   "metadata": {
    "ExecuteTime": {
     "end_time": "2022-03-21T15:48:35.422451Z",
     "start_time": "2022-03-21T15:48:35.417695Z"
    }
   },
   "outputs": [
    {
     "data": {
      "text/plain": [
       "['1 1 0 0 0',\n",
       " '0 0 0 0 0',\n",
       " '1 0 1 0 1',\n",
       " '1 1 1 1 1',\n",
       " '1 0 0 1 1',\n",
       " '1 1 0 1 0',\n",
       " '0 0 0 0 0']"
      ]
     },
     "execution_count": 59,
     "metadata": {},
     "output_type": "execute_result"
    }
   ],
   "source": [
    "stale_binaries = df3.loc[df3.index.isin([\"stale\"])].squeeze().tolist()\n",
    "stale_binaries"
   ]
  },
  {
   "cell_type": "code",
   "execution_count": 60,
   "id": "291792e0",
   "metadata": {
    "ExecuteTime": {
     "end_time": "2022-03-21T15:48:35.429162Z",
     "start_time": "2022-03-21T15:48:35.424721Z"
    }
   },
   "outputs": [
    {
     "data": {
      "text/plain": [
       "'1 1 0 0 0'"
      ]
     },
     "execution_count": 60,
     "metadata": {},
     "output_type": "execute_result"
    }
   ],
   "source": [
    "stale_binaries[0]"
   ]
  },
  {
   "cell_type": "code",
   "execution_count": 61,
   "id": "736a02d2",
   "metadata": {
    "ExecuteTime": {
     "end_time": "2022-03-21T15:48:35.435619Z",
     "start_time": "2022-03-21T15:48:35.430643Z"
    }
   },
   "outputs": [
    {
     "data": {
      "text/plain": [
       "['1', '1', '0', '0', '0']"
      ]
     },
     "execution_count": 61,
     "metadata": {},
     "output_type": "execute_result"
    }
   ],
   "source": [
    "stale_binaries[0].split()"
   ]
  },
  {
   "cell_type": "code",
   "execution_count": 62,
   "id": "ff8f6803",
   "metadata": {
    "ExecuteTime": {
     "end_time": "2022-03-21T15:48:35.442956Z",
     "start_time": "2022-03-21T15:48:35.437859Z"
    }
   },
   "outputs": [
    {
     "data": {
      "text/plain": [
       "'1 1 0 0 0'"
      ]
     },
     "execution_count": 62,
     "metadata": {},
     "output_type": "execute_result"
    }
   ],
   "source": [
    "stale_binaries[0].strip()"
   ]
  },
  {
   "cell_type": "code",
   "execution_count": 63,
   "id": "3e12e9ea",
   "metadata": {
    "ExecuteTime": {
     "end_time": "2022-03-21T15:48:35.451031Z",
     "start_time": "2022-03-21T15:48:35.445027Z"
    }
   },
   "outputs": [
    {
     "data": {
      "text/plain": [
       "'11000'"
      ]
     },
     "execution_count": 63,
     "metadata": {},
     "output_type": "execute_result"
    }
   ],
   "source": [
    "\"\".join(stale_binaries[0].split())"
   ]
  },
  {
   "cell_type": "code",
   "execution_count": 64,
   "id": "e0898bc7",
   "metadata": {
    "ExecuteTime": {
     "end_time": "2022-03-21T15:48:35.457389Z",
     "start_time": "2022-03-21T15:48:35.452920Z"
    }
   },
   "outputs": [
    {
     "data": {
      "text/plain": [
       "24"
      ]
     },
     "execution_count": 64,
     "metadata": {},
     "output_type": "execute_result"
    }
   ],
   "source": [
    "int(\"\".join(stale_binaries[0].split()), 2)"
   ]
  },
  {
   "cell_type": "code",
   "execution_count": 65,
   "id": "646fa8ad",
   "metadata": {
    "ExecuteTime": {
     "end_time": "2022-03-21T15:48:35.463228Z",
     "start_time": "2022-03-21T15:48:35.459236Z"
    }
   },
   "outputs": [
    {
     "data": {
      "text/plain": [
       "['11000', '00000', '10101', '11111', '10011', '11010', '00000']"
      ]
     },
     "execution_count": 65,
     "metadata": {},
     "output_type": "execute_result"
    }
   ],
   "source": [
    "stale_binaries = [\"\".join(x.split()) for x in stale_binaries]\n",
    "stale_binaries"
   ]
  },
  {
   "cell_type": "code",
   "execution_count": 66,
   "id": "5a2335ad",
   "metadata": {
    "ExecuteTime": {
     "end_time": "2022-03-21T15:48:35.470117Z",
     "start_time": "2022-03-21T15:48:35.465398Z"
    }
   },
   "outputs": [
    {
     "data": {
      "text/plain": [
       "[24, 0, 21, 31, 19, 26, 0]"
      ]
     },
     "execution_count": 66,
     "metadata": {},
     "output_type": "execute_result"
    }
   ],
   "source": [
    "[int(binary, 2) for binary in stale_binaries]"
   ]
  },
  {
   "cell_type": "code",
   "execution_count": null,
   "id": "aff4a3fa",
   "metadata": {},
   "outputs": [],
   "source": []
  },
  {
   "cell_type": "code",
   "execution_count": null,
   "id": "0df2d761",
   "metadata": {},
   "outputs": [],
   "source": []
  },
  {
   "cell_type": "code",
   "execution_count": 67,
   "id": "0a930507",
   "metadata": {
    "ExecuteTime": {
     "end_time": "2022-03-21T15:48:35.479246Z",
     "start_time": "2022-03-21T15:48:35.471768Z"
    }
   },
   "outputs": [
    {
     "data": {
      "text/plain": [
       "spate     1 -1  1  0  1\n",
       "plane    -1  0  1 -1  1\n",
       "petal    -1  0  0  0  0\n",
       "saleb     1  0  0  0 -1\n",
       "steik     1  1  0 -1 -1\n",
       "              ...      \n",
       "flame    -1  0  1 -1  1\n",
       "skute     1 -1 -1  0  1\n",
       "owher    -1 -1 -1  0 -1\n",
       "scate     1 -1  1  0  1\n",
       "prude    -1 -1 -1 -1  1\n",
       "Name: stale, Length: 672, dtype: object"
      ]
     },
     "execution_count": 67,
     "metadata": {},
     "output_type": "execute_result"
    }
   ],
   "source": [
    "all_anagram_scoring_df.loc[all_anagram_scoring_df.index.isin([\"stale\"])].squeeze()"
   ]
  },
  {
   "cell_type": "code",
   "execution_count": 68,
   "id": "35570c46",
   "metadata": {
    "ExecuteTime": {
     "end_time": "2022-03-21T15:48:35.488002Z",
     "start_time": "2022-03-21T15:48:35.481494Z"
    }
   },
   "outputs": [
    {
     "data": {
      "text/plain": [
       "spate     1 -1  1 -1  1\n",
       "plane    -1 -1  1 -1  1\n",
       "petal    -1  0 -1  0 -1\n",
       "saleb     1  0 -1  0 -1\n",
       "steik     1 -1  0 -1 -1\n",
       "              ...      \n",
       "flame    -1 -1  1 -1  1\n",
       "skute     1 -1 -1 -1  1\n",
       "owher    -1 -1 -1  0  0\n",
       "scate     1  1  1 -1  1\n",
       "prude    -1  0 -1 -1  1\n",
       "Name: scare, Length: 672, dtype: object"
      ]
     },
     "execution_count": 68,
     "metadata": {},
     "output_type": "execute_result"
    }
   ],
   "source": [
    "scare = all_anagram_scoring_df.loc[all_anagram_scoring_df.index.isin([\"scare\"])].squeeze()\n",
    "scare"
   ]
  },
  {
   "cell_type": "code",
   "execution_count": 69,
   "id": "571d42d0",
   "metadata": {
    "ExecuteTime": {
     "end_time": "2022-03-21T15:48:35.494362Z",
     "start_time": "2022-03-21T15:48:35.489986Z"
    }
   },
   "outputs": [
    {
     "data": {
      "text/plain": [
       "[(66, '0 0 0 0 1'),\n",
       " (106, '1 0 0 0 0'),\n",
       " (316, '1 0 0 1 1'),\n",
       " (347, '1 1 1 1 1'),\n",
       " (367, '0 0 1 0 1')]"
      ]
     },
     "execution_count": 69,
     "metadata": {},
     "output_type": "execute_result"
    }
   ],
   "source": [
    "cols = [(idx, binary) for idx, binary in enumerate(scare) if \"-1\" not in binary]\n",
    "cols"
   ]
  },
  {
   "cell_type": "code",
   "execution_count": 70,
   "id": "16d0aaf2",
   "metadata": {
    "ExecuteTime": {
     "end_time": "2022-03-21T15:48:35.501486Z",
     "start_time": "2022-03-21T15:48:35.495843Z"
    }
   },
   "outputs": [
    {
     "data": {
      "text/plain": [
       "[66, 106, 316, 347, 367]"
      ]
     },
     "execution_count": 70,
     "metadata": {},
     "output_type": "execute_result"
    }
   ],
   "source": [
    "scare_cols = [col[0] for col in cols]\n",
    "scare_cols"
   ]
  },
  {
   "cell_type": "code",
   "execution_count": null,
   "id": "b731581f",
   "metadata": {},
   "outputs": [],
   "source": []
  },
  {
   "cell_type": "code",
   "execution_count": 71,
   "id": "65aeff41",
   "metadata": {
    "ExecuteTime": {
     "end_time": "2022-03-21T15:48:35.520597Z",
     "start_time": "2022-03-21T15:48:35.505209Z"
    }
   },
   "outputs": [
    {
     "data": {
      "text/html": [
       "<div>\n",
       "<style scoped>\n",
       "    .dataframe tbody tr th:only-of-type {\n",
       "        vertical-align: middle;\n",
       "    }\n",
       "\n",
       "    .dataframe tbody tr th {\n",
       "        vertical-align: top;\n",
       "    }\n",
       "\n",
       "    .dataframe thead th {\n",
       "        text-align: right;\n",
       "    }\n",
       "</style>\n",
       "<table border=\"1\" class=\"dataframe\">\n",
       "  <thead>\n",
       "    <tr style=\"text-align: right;\">\n",
       "      <th></th>\n",
       "      <th>carse</th>\n",
       "      <th>serac</th>\n",
       "      <th>sacre</th>\n",
       "      <th>scare</th>\n",
       "      <th>crase</th>\n",
       "    </tr>\n",
       "  </thead>\n",
       "  <tbody>\n",
       "    <tr>\n",
       "      <th>carse</th>\n",
       "      <td>1 1 1 1 1</td>\n",
       "      <td>0 0 1 0 0</td>\n",
       "      <td>0 1 0 0 1</td>\n",
       "      <td>0 0 0 0 1</td>\n",
       "      <td>1 0 0 1 1</td>\n",
       "    </tr>\n",
       "    <tr>\n",
       "      <th>serac</th>\n",
       "      <td>0 0 1 0 0</td>\n",
       "      <td>1 1 1 1 1</td>\n",
       "      <td>1 0 0 0 0</td>\n",
       "      <td>1 0 0 0 0</td>\n",
       "      <td>0 0 0 0 0</td>\n",
       "    </tr>\n",
       "    <tr>\n",
       "      <th>sacre</th>\n",
       "      <td>0 1 0 0 1</td>\n",
       "      <td>1 0 0 0 0</td>\n",
       "      <td>1 1 1 1 1</td>\n",
       "      <td>1 0 0 1 1</td>\n",
       "      <td>0 0 0 0 1</td>\n",
       "    </tr>\n",
       "    <tr>\n",
       "      <th>scare</th>\n",
       "      <td>0 0 0 0 1</td>\n",
       "      <td>1 0 0 0 0</td>\n",
       "      <td>1 0 0 1 1</td>\n",
       "      <td>1 1 1 1 1</td>\n",
       "      <td>0 0 1 0 1</td>\n",
       "    </tr>\n",
       "    <tr>\n",
       "      <th>crase</th>\n",
       "      <td>1 0 0 1 1</td>\n",
       "      <td>0 0 0 0 0</td>\n",
       "      <td>0 0 0 0 1</td>\n",
       "      <td>0 0 1 0 1</td>\n",
       "      <td>1 1 1 1 1</td>\n",
       "    </tr>\n",
       "  </tbody>\n",
       "</table>\n",
       "</div>"
      ],
      "text/plain": [
       "           carse      serac      sacre      scare      crase\n",
       "carse  1 1 1 1 1  0 0 1 0 0  0 1 0 0 1  0 0 0 0 1  1 0 0 1 1\n",
       "serac  0 0 1 0 0  1 1 1 1 1  1 0 0 0 0  1 0 0 0 0  0 0 0 0 0\n",
       "sacre  0 1 0 0 1  1 0 0 0 0  1 1 1 1 1  1 0 0 1 1  0 0 0 0 1\n",
       "scare  0 0 0 0 1  1 0 0 0 0  1 0 0 1 1  1 1 1 1 1  0 0 1 0 1\n",
       "crase  1 0 0 1 1  0 0 0 0 0  0 0 0 0 1  0 0 1 0 1  1 1 1 1 1"
      ]
     },
     "execution_count": 71,
     "metadata": {},
     "output_type": "execute_result"
    }
   ],
   "source": [
    "all_anagram_scoring_df.iloc[scare_cols, scare_cols]"
   ]
  },
  {
   "cell_type": "code",
   "execution_count": 72,
   "id": "80eef8a0",
   "metadata": {
    "ExecuteTime": {
     "end_time": "2022-03-21T15:48:35.534904Z",
     "start_time": "2022-03-21T15:48:35.522690Z"
    }
   },
   "outputs": [
    {
     "data": {
      "text/html": [
       "<div>\n",
       "<style scoped>\n",
       "    .dataframe tbody tr th:only-of-type {\n",
       "        vertical-align: middle;\n",
       "    }\n",
       "\n",
       "    .dataframe tbody tr th {\n",
       "        vertical-align: top;\n",
       "    }\n",
       "\n",
       "    .dataframe thead th {\n",
       "        text-align: right;\n",
       "    }\n",
       "</style>\n",
       "<table border=\"1\" class=\"dataframe\">\n",
       "  <thead>\n",
       "    <tr style=\"text-align: right;\">\n",
       "      <th></th>\n",
       "      <th>carse</th>\n",
       "      <th>serac</th>\n",
       "      <th>sacre</th>\n",
       "      <th>scare</th>\n",
       "      <th>crase</th>\n",
       "    </tr>\n",
       "  </thead>\n",
       "  <tbody>\n",
       "    <tr>\n",
       "      <th>carse</th>\n",
       "      <td>11111</td>\n",
       "      <td>00100</td>\n",
       "      <td>01001</td>\n",
       "      <td>00001</td>\n",
       "      <td>10011</td>\n",
       "    </tr>\n",
       "    <tr>\n",
       "      <th>serac</th>\n",
       "      <td>00100</td>\n",
       "      <td>11111</td>\n",
       "      <td>10000</td>\n",
       "      <td>10000</td>\n",
       "      <td>00000</td>\n",
       "    </tr>\n",
       "    <tr>\n",
       "      <th>sacre</th>\n",
       "      <td>01001</td>\n",
       "      <td>10000</td>\n",
       "      <td>11111</td>\n",
       "      <td>10011</td>\n",
       "      <td>00001</td>\n",
       "    </tr>\n",
       "    <tr>\n",
       "      <th>scare</th>\n",
       "      <td>00001</td>\n",
       "      <td>10000</td>\n",
       "      <td>10011</td>\n",
       "      <td>11111</td>\n",
       "      <td>00101</td>\n",
       "    </tr>\n",
       "    <tr>\n",
       "      <th>crase</th>\n",
       "      <td>10011</td>\n",
       "      <td>00000</td>\n",
       "      <td>00001</td>\n",
       "      <td>00101</td>\n",
       "      <td>11111</td>\n",
       "    </tr>\n",
       "  </tbody>\n",
       "</table>\n",
       "</div>"
      ],
      "text/plain": [
       "       carse  serac  sacre  scare  crase\n",
       "carse  11111  00100  01001  00001  10011\n",
       "serac  00100  11111  10000  10000  00000\n",
       "sacre  01001  10000  11111  10011  00001\n",
       "scare  00001  10000  10011  11111  00101\n",
       "crase  10011  00000  00001  00101  11111"
      ]
     },
     "execution_count": 72,
     "metadata": {},
     "output_type": "execute_result"
    }
   ],
   "source": [
    "all_anagram_scoring_df.iloc[scare_cols, scare_cols].applymap(lambda x: \"\".join(x.split()))"
   ]
  },
  {
   "cell_type": "code",
   "execution_count": 73,
   "id": "000d2bf9",
   "metadata": {
    "ExecuteTime": {
     "end_time": "2022-03-21T15:48:35.548965Z",
     "start_time": "2022-03-21T15:48:35.537173Z"
    }
   },
   "outputs": [
    {
     "data": {
      "text/html": [
       "<div>\n",
       "<style scoped>\n",
       "    .dataframe tbody tr th:only-of-type {\n",
       "        vertical-align: middle;\n",
       "    }\n",
       "\n",
       "    .dataframe tbody tr th {\n",
       "        vertical-align: top;\n",
       "    }\n",
       "\n",
       "    .dataframe thead th {\n",
       "        text-align: right;\n",
       "    }\n",
       "</style>\n",
       "<table border=\"1\" class=\"dataframe\">\n",
       "  <thead>\n",
       "    <tr style=\"text-align: right;\">\n",
       "      <th></th>\n",
       "      <th>carse</th>\n",
       "      <th>serac</th>\n",
       "      <th>sacre</th>\n",
       "      <th>scare</th>\n",
       "      <th>crase</th>\n",
       "    </tr>\n",
       "  </thead>\n",
       "  <tbody>\n",
       "    <tr>\n",
       "      <th>carse</th>\n",
       "      <td>31</td>\n",
       "      <td>4</td>\n",
       "      <td>9</td>\n",
       "      <td>1</td>\n",
       "      <td>19</td>\n",
       "    </tr>\n",
       "    <tr>\n",
       "      <th>serac</th>\n",
       "      <td>4</td>\n",
       "      <td>31</td>\n",
       "      <td>16</td>\n",
       "      <td>16</td>\n",
       "      <td>0</td>\n",
       "    </tr>\n",
       "    <tr>\n",
       "      <th>sacre</th>\n",
       "      <td>9</td>\n",
       "      <td>16</td>\n",
       "      <td>31</td>\n",
       "      <td>19</td>\n",
       "      <td>1</td>\n",
       "    </tr>\n",
       "    <tr>\n",
       "      <th>scare</th>\n",
       "      <td>1</td>\n",
       "      <td>16</td>\n",
       "      <td>19</td>\n",
       "      <td>31</td>\n",
       "      <td>5</td>\n",
       "    </tr>\n",
       "    <tr>\n",
       "      <th>crase</th>\n",
       "      <td>19</td>\n",
       "      <td>0</td>\n",
       "      <td>1</td>\n",
       "      <td>5</td>\n",
       "      <td>31</td>\n",
       "    </tr>\n",
       "  </tbody>\n",
       "</table>\n",
       "</div>"
      ],
      "text/plain": [
       "       carse  serac  sacre  scare  crase\n",
       "carse     31      4      9      1     19\n",
       "serac      4     31     16     16      0\n",
       "sacre      9     16     31     19      1\n",
       "scare      1     16     19     31      5\n",
       "crase     19      0      1      5     31"
      ]
     },
     "execution_count": 73,
     "metadata": {},
     "output_type": "execute_result"
    }
   ],
   "source": [
    "(all_anagram_scoring_df.iloc[scare_cols, scare_cols]\n",
    " .applymap(lambda x: \"\".join(x.split()))\n",
    " .applymap(lambda x: int(x, 2)))"
   ]
  },
  {
   "cell_type": "code",
   "execution_count": 98,
   "id": "96b1e3b3",
   "metadata": {
    "ExecuteTime": {
     "end_time": "2022-03-21T20:05:21.565240Z",
     "start_time": "2022-03-21T20:05:21.551458Z"
    }
   },
   "outputs": [
    {
     "data": {
      "text/html": [
       "<div>\n",
       "<style scoped>\n",
       "    .dataframe tbody tr th:only-of-type {\n",
       "        vertical-align: middle;\n",
       "    }\n",
       "\n",
       "    .dataframe tbody tr th {\n",
       "        vertical-align: top;\n",
       "    }\n",
       "\n",
       "    .dataframe thead th {\n",
       "        text-align: right;\n",
       "    }\n",
       "</style>\n",
       "<table border=\"1\" class=\"dataframe\">\n",
       "  <thead>\n",
       "    <tr style=\"text-align: right;\">\n",
       "      <th></th>\n",
       "      <th>carse</th>\n",
       "      <th>serac</th>\n",
       "      <th>sacre</th>\n",
       "      <th>scare</th>\n",
       "      <th>crase</th>\n",
       "      <th>sum_across</th>\n",
       "    </tr>\n",
       "  </thead>\n",
       "  <tbody>\n",
       "    <tr>\n",
       "      <th>carse</th>\n",
       "      <td>31</td>\n",
       "      <td>4</td>\n",
       "      <td>9</td>\n",
       "      <td>1</td>\n",
       "      <td>19</td>\n",
       "      <td>64</td>\n",
       "    </tr>\n",
       "    <tr>\n",
       "      <th>serac</th>\n",
       "      <td>4</td>\n",
       "      <td>31</td>\n",
       "      <td>16</td>\n",
       "      <td>16</td>\n",
       "      <td>0</td>\n",
       "      <td>67</td>\n",
       "    </tr>\n",
       "    <tr>\n",
       "      <th>sacre</th>\n",
       "      <td>9</td>\n",
       "      <td>16</td>\n",
       "      <td>31</td>\n",
       "      <td>19</td>\n",
       "      <td>1</td>\n",
       "      <td>76</td>\n",
       "    </tr>\n",
       "    <tr>\n",
       "      <th>scare</th>\n",
       "      <td>1</td>\n",
       "      <td>16</td>\n",
       "      <td>19</td>\n",
       "      <td>31</td>\n",
       "      <td>5</td>\n",
       "      <td>72</td>\n",
       "    </tr>\n",
       "    <tr>\n",
       "      <th>crase</th>\n",
       "      <td>19</td>\n",
       "      <td>0</td>\n",
       "      <td>1</td>\n",
       "      <td>5</td>\n",
       "      <td>31</td>\n",
       "      <td>56</td>\n",
       "    </tr>\n",
       "  </tbody>\n",
       "</table>\n",
       "</div>"
      ],
      "text/plain": [
       "       carse  serac  sacre  scare  crase  sum_across\n",
       "carse     31      4      9      1     19          64\n",
       "serac      4     31     16     16      0          67\n",
       "sacre      9     16     31     19      1          76\n",
       "scare      1     16     19     31      5          72\n",
       "crase     19      0      1      5     31          56"
      ]
     },
     "execution_count": 98,
     "metadata": {},
     "output_type": "execute_result"
    }
   ],
   "source": [
    "(all_anagram_scoring_df.iloc[scare_cols, scare_cols]\n",
    " .applymap(lambda x: \"\".join(x.split()))\n",
    " .applymap(lambda x: int(x, 2))\n",
    " .assign(sum_across=lambda x: x.sum())\n",
    " .astype(np.int8))"
   ]
  },
  {
   "cell_type": "code",
   "execution_count": null,
   "id": "191f3623",
   "metadata": {},
   "outputs": [],
   "source": []
  },
  {
   "cell_type": "markdown",
   "id": "d07d5a02",
   "metadata": {},
   "source": [
    "## Anagram cipher lookup table  \n",
    "With `itertools.zip_longest` you can create an encode/decode lookup table for 4, 5 and 6 letter anagrams."
   ]
  },
  {
   "cell_type": "code",
   "execution_count": 159,
   "id": "e83b42be",
   "metadata": {
    "ExecuteTime": {
     "end_time": "2022-03-21T20:56:53.732047Z",
     "start_time": "2022-03-21T20:56:53.726862Z"
    }
   },
   "outputs": [
    {
     "data": {
      "text/plain": [
       "[('t', 's'), ('a', 'l'), ('p', 'i'), ('e', 'p'), ('r', None)]"
      ]
     },
     "execution_count": 159,
     "metadata": {},
     "output_type": "execute_result"
    }
   ],
   "source": [
    "list(itertools.zip_longest(\"taper\", \"slip\"))"
   ]
  },
  {
   "cell_type": "code",
   "execution_count": 160,
   "id": "9591803f",
   "metadata": {
    "ExecuteTime": {
     "end_time": "2022-03-21T20:58:00.709518Z",
     "start_time": "2022-03-21T20:58:00.704920Z"
    }
   },
   "outputs": [
    {
     "data": {
      "text/plain": [
       "[('t', 's'), ('a', 'c'), ('p', 'a'), ('e', 'r'), ('r', 'e')]"
      ]
     },
     "execution_count": 160,
     "metadata": {},
     "output_type": "execute_result"
    }
   ],
   "source": [
    "list(itertools.zip_longest(\"taper\", \"scare\"))"
   ]
  },
  {
   "cell_type": "code",
   "execution_count": 168,
   "id": "0659a6a5",
   "metadata": {
    "ExecuteTime": {
     "end_time": "2022-03-21T21:10:56.048052Z",
     "start_time": "2022-03-21T21:10:56.044080Z"
    }
   },
   "outputs": [
    {
     "name": "stdout",
     "output_type": "stream",
     "text": [
      "we are not the same\n"
     ]
    }
   ],
   "source": [
    "if all((\"r\", None)):\n",
    "    print(\"Hurrah!!\")\n",
    "else:\n",
    "    print(\"we are not the same\")"
   ]
  },
  {
   "cell_type": "code",
   "execution_count": 169,
   "id": "708fb4ea",
   "metadata": {
    "ExecuteTime": {
     "end_time": "2022-03-21T21:10:59.123786Z",
     "start_time": "2022-03-21T21:10:59.119145Z"
    }
   },
   "outputs": [
    {
     "data": {
      "text/plain": [
       "NoneType"
      ]
     },
     "execution_count": 169,
     "metadata": {},
     "output_type": "execute_result"
    }
   ],
   "source": [
    "type(None)"
   ]
  },
  {
   "cell_type": "code",
   "execution_count": 166,
   "id": "c7ad6379",
   "metadata": {
    "ExecuteTime": {
     "end_time": "2022-03-21T21:09:44.146037Z",
     "start_time": "2022-03-21T21:09:44.141570Z"
    }
   },
   "outputs": [
    {
     "data": {
      "text/plain": [
       "False"
      ]
     },
     "execution_count": 166,
     "metadata": {},
     "output_type": "execute_result"
    }
   ],
   "source": [
    "\"r\" == None"
   ]
  },
  {
   "cell_type": "code",
   "execution_count": null,
   "id": "5b9e92e1",
   "metadata": {},
   "outputs": [],
   "source": []
  }
 ],
 "metadata": {
  "kernelspec": {
   "display_name": "wordle",
   "language": "python",
   "name": "wordle"
  },
  "language_info": {
   "codemirror_mode": {
    "name": "ipython",
    "version": 3
   },
   "file_extension": ".py",
   "mimetype": "text/x-python",
   "name": "python",
   "nbconvert_exporter": "python",
   "pygments_lexer": "ipython3",
   "version": "3.9.7"
  },
  "toc": {
   "base_numbering": 1,
   "nav_menu": {},
   "number_sections": true,
   "sideBar": true,
   "skip_h1_title": false,
   "title_cell": "Table of Contents",
   "title_sidebar": "Contents",
   "toc_cell": false,
   "toc_position": {},
   "toc_section_display": true,
   "toc_window_display": false
  },
  "varInspector": {
   "cols": {
    "lenName": 16,
    "lenType": 16,
    "lenVar": 40
   },
   "kernels_config": {
    "python": {
     "delete_cmd_postfix": "",
     "delete_cmd_prefix": "del ",
     "library": "var_list.py",
     "varRefreshCmd": "print(var_dic_list())"
    },
    "r": {
     "delete_cmd_postfix": ") ",
     "delete_cmd_prefix": "rm(",
     "library": "var_list.r",
     "varRefreshCmd": "cat(var_dic_list()) "
    }
   },
   "types_to_exclude": [
    "module",
    "function",
    "builtin_function_or_method",
    "instance",
    "_Feature"
   ],
   "window_display": false
  }
 },
 "nbformat": 4,
 "nbformat_minor": 5
}
